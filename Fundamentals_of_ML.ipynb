{
  "nbformat": 4,
  "nbformat_minor": 0,
  "metadata": {
    "colab": {
      "name": "Fundamentals of ML.ipynb",
      "provenance": [],
      "collapsed_sections": [],
      "authorship_tag": "ABX9TyNOg04BLTG5i01pT+4i8O7r",
      "include_colab_link": true
    },
    "kernelspec": {
      "name": "python3",
      "display_name": "Python 3"
    }
  },
  "cells": [
    {
      "cell_type": "markdown",
      "metadata": {
        "id": "view-in-github",
        "colab_type": "text"
      },
      "source": [
        "<a href=\"https://colab.research.google.com/github/ShaunakSen/Data-Science-and-Machine-Learning/blob/master/Fundamentals_of_ML.ipynb\" target=\"_parent\"><img src=\"https://colab.research.google.com/assets/colab-badge.svg\" alt=\"Open In Colab\"/></a>"
      ]
    },
    {
      "cell_type": "markdown",
      "metadata": {
        "id": "Nz4WV5XewFfc",
        "colab_type": "text"
      },
      "source": [
        "## A gentle journey from linear regression to neural networks\n",
        "\n",
        "Based on the article by Joseph Rocca. [Article link](https://towardsdatascience.com/a-gentle-journey-from-linear-regression-to-neural-networks-68881590760e)\n",
        "\n",
        "### Introduction\n",
        "\n",
        "Our goal here is more to make the main guideline as clear as possible than to obstruct the reader comprehension with some technical details (that can be, nevertheless, very interesting). Especially, we will go from simple problems to more difficult ones in order to show, along the way, how neural networks naturally (at least in the spirit) extend some well known techniques. Obviously, on our way, we will have to make some simplifications or to omit some details. We apologise in advance if it can be, at some points, frustrating for the more advanced readers.\n",
        "\n",
        "\n",
        "> **We introduce the fact that more advanced models, with better predictive power, often come at the price of some higher difficulties in optimisation or interpretability of the model and then discuss briefly these two questions.** - Lead into SHAP values through this point\n",
        "\n",
        "> After RFs, now you can see things are getting complicated here - as things become more complex we kind of lose sense of the business context. The models become more and more like a black box. Think a simple DT - how can u quantify FA? - simple ans: how many times a node is being split, but that alone is not enough\n",
        "\n",
        "```\n",
        "ML explanation - I am not going to bore you with quotes, definitions and complicated venn diagrams- lets look at it through an example\n",
        "\n",
        "prob: understand if you will come to the event?\n",
        "\n",
        "Features - Survey -> NLP _> Sentiment analysis\n",
        "Day, is_weekday? occupation? Age? gender? (bias) ethnicity(bias), occupation\n",
        "\n",
        "Think about it like a cloud in the moddle with lines popping out one by one through animation \n",
        "\n",
        "Poster - > CNN _ computer vision\n",
        "\n",
        "Maybe after understanding these features u see a definite trend - People with ages > 50 - less likely - advertise to them separately - clustering\n",
        "\n",
        "Color code separately on what sparbox uses (?)\n",
        "\n",
        "We can extend the same to retailers - how to predict the sales - features will change\n",
        "```\n",
        "Arthur Samuel, pioneer in the field of computer gaming and artificial intelligence, defined Machine Learning (ML) as the field of study that gives computers the ability to learn without being explicitly programmed. In other words, whatever the purpose of our algorithm is, the rules to achieve this goal are not explicitly programmed but are “learned” (and we will come back to this word later) by the computer, based on some useful data. This is the big difference with a classical algorithm.\n",
        "In a classical algorithm, rules are explicitly given to the computer to perform a task. In a machine learning algorithm, a model (parametrized or not) that define a family of possible rules is given to the computer along with a whole bunch of data and a strategy to find the better rules among the possible ones based on these data (optimisation). In the next paragraph we will explicit all these elements in one of the most basic machine learning models that exist: the linear regression.\n",
        "\n",
        "\n",
        "\n"
      ]
    },
    {
      "cell_type": "code",
      "metadata": {
        "id": "TyaUssQgv9p9",
        "colab_type": "code",
        "colab": {}
      },
      "source": [
        ""
      ],
      "execution_count": 0,
      "outputs": []
    }
  ]
}