{
 "cells": [
  {
   "cell_type": "markdown",
   "metadata": {},
   "source": [
    "## Decision Trees\n",
    "\n",
    "[YouTube link](https://www.youtube.com/watch?v=RrVYO6Td9Js&t=240s)\n",
    "\n"
   ]
  },
  {
   "cell_type": "code",
   "execution_count": 1,
   "metadata": {},
   "outputs": [],
   "source": [
    "import pandas as pd\n",
    "from matplotlib import pyplot as plt\n",
    "import seaborn as sns\n",
    "\n",
    "%matplotlib inline"
   ]
  },
  {
   "cell_type": "code",
   "execution_count": 2,
   "metadata": {},
   "outputs": [
    {
     "data": {
      "text/html": [
       "<div>\n",
       "<style scoped>\n",
       "    .dataframe tbody tr th:only-of-type {\n",
       "        vertical-align: middle;\n",
       "    }\n",
       "\n",
       "    .dataframe tbody tr th {\n",
       "        vertical-align: top;\n",
       "    }\n",
       "\n",
       "    .dataframe thead th {\n",
       "        text-align: right;\n",
       "    }\n",
       "</style>\n",
       "<table border=\"1\" class=\"dataframe\">\n",
       "  <thead>\n",
       "    <tr style=\"text-align: right;\">\n",
       "      <th></th>\n",
       "      <th>State</th>\n",
       "      <th>Account length</th>\n",
       "      <th>Area code</th>\n",
       "      <th>International plan</th>\n",
       "      <th>Voice mail plan</th>\n",
       "      <th>Number vmail messages</th>\n",
       "      <th>Total day minutes</th>\n",
       "      <th>Total day calls</th>\n",
       "      <th>Total day charge</th>\n",
       "      <th>Total eve minutes</th>\n",
       "      <th>Total eve calls</th>\n",
       "      <th>Total eve charge</th>\n",
       "      <th>Total night minutes</th>\n",
       "      <th>Total night calls</th>\n",
       "      <th>Total night charge</th>\n",
       "      <th>Total intl minutes</th>\n",
       "      <th>Total intl calls</th>\n",
       "      <th>Total intl charge</th>\n",
       "      <th>Customer service calls</th>\n",
       "      <th>Churn</th>\n",
       "    </tr>\n",
       "  </thead>\n",
       "  <tbody>\n",
       "    <tr>\n",
       "      <th>0</th>\n",
       "      <td>KS</td>\n",
       "      <td>128</td>\n",
       "      <td>415</td>\n",
       "      <td>No</td>\n",
       "      <td>Yes</td>\n",
       "      <td>25</td>\n",
       "      <td>265.1</td>\n",
       "      <td>110</td>\n",
       "      <td>45.07</td>\n",
       "      <td>197.4</td>\n",
       "      <td>99</td>\n",
       "      <td>16.78</td>\n",
       "      <td>244.7</td>\n",
       "      <td>91</td>\n",
       "      <td>11.01</td>\n",
       "      <td>10.0</td>\n",
       "      <td>3</td>\n",
       "      <td>2.70</td>\n",
       "      <td>1</td>\n",
       "      <td>False</td>\n",
       "    </tr>\n",
       "    <tr>\n",
       "      <th>1</th>\n",
       "      <td>OH</td>\n",
       "      <td>107</td>\n",
       "      <td>415</td>\n",
       "      <td>No</td>\n",
       "      <td>Yes</td>\n",
       "      <td>26</td>\n",
       "      <td>161.6</td>\n",
       "      <td>123</td>\n",
       "      <td>27.47</td>\n",
       "      <td>195.5</td>\n",
       "      <td>103</td>\n",
       "      <td>16.62</td>\n",
       "      <td>254.4</td>\n",
       "      <td>103</td>\n",
       "      <td>11.45</td>\n",
       "      <td>13.7</td>\n",
       "      <td>3</td>\n",
       "      <td>3.70</td>\n",
       "      <td>1</td>\n",
       "      <td>False</td>\n",
       "    </tr>\n",
       "    <tr>\n",
       "      <th>2</th>\n",
       "      <td>NJ</td>\n",
       "      <td>137</td>\n",
       "      <td>415</td>\n",
       "      <td>No</td>\n",
       "      <td>No</td>\n",
       "      <td>0</td>\n",
       "      <td>243.4</td>\n",
       "      <td>114</td>\n",
       "      <td>41.38</td>\n",
       "      <td>121.2</td>\n",
       "      <td>110</td>\n",
       "      <td>10.30</td>\n",
       "      <td>162.6</td>\n",
       "      <td>104</td>\n",
       "      <td>7.32</td>\n",
       "      <td>12.2</td>\n",
       "      <td>5</td>\n",
       "      <td>3.29</td>\n",
       "      <td>0</td>\n",
       "      <td>False</td>\n",
       "    </tr>\n",
       "    <tr>\n",
       "      <th>3</th>\n",
       "      <td>OH</td>\n",
       "      <td>84</td>\n",
       "      <td>408</td>\n",
       "      <td>Yes</td>\n",
       "      <td>No</td>\n",
       "      <td>0</td>\n",
       "      <td>299.4</td>\n",
       "      <td>71</td>\n",
       "      <td>50.90</td>\n",
       "      <td>61.9</td>\n",
       "      <td>88</td>\n",
       "      <td>5.26</td>\n",
       "      <td>196.9</td>\n",
       "      <td>89</td>\n",
       "      <td>8.86</td>\n",
       "      <td>6.6</td>\n",
       "      <td>7</td>\n",
       "      <td>1.78</td>\n",
       "      <td>2</td>\n",
       "      <td>False</td>\n",
       "    </tr>\n",
       "    <tr>\n",
       "      <th>4</th>\n",
       "      <td>OK</td>\n",
       "      <td>75</td>\n",
       "      <td>415</td>\n",
       "      <td>Yes</td>\n",
       "      <td>No</td>\n",
       "      <td>0</td>\n",
       "      <td>166.7</td>\n",
       "      <td>113</td>\n",
       "      <td>28.34</td>\n",
       "      <td>148.3</td>\n",
       "      <td>122</td>\n",
       "      <td>12.61</td>\n",
       "      <td>186.9</td>\n",
       "      <td>121</td>\n",
       "      <td>8.41</td>\n",
       "      <td>10.1</td>\n",
       "      <td>3</td>\n",
       "      <td>2.73</td>\n",
       "      <td>3</td>\n",
       "      <td>False</td>\n",
       "    </tr>\n",
       "  </tbody>\n",
       "</table>\n",
       "</div>"
      ],
      "text/plain": [
       "  State  Account length  Area code International plan Voice mail plan  \\\n",
       "0    KS             128        415                 No             Yes   \n",
       "1    OH             107        415                 No             Yes   \n",
       "2    NJ             137        415                 No              No   \n",
       "3    OH              84        408                Yes              No   \n",
       "4    OK              75        415                Yes              No   \n",
       "\n",
       "   Number vmail messages  Total day minutes  Total day calls  \\\n",
       "0                     25              265.1              110   \n",
       "1                     26              161.6              123   \n",
       "2                      0              243.4              114   \n",
       "3                      0              299.4               71   \n",
       "4                      0              166.7              113   \n",
       "\n",
       "   Total day charge  Total eve minutes  Total eve calls  Total eve charge  \\\n",
       "0             45.07              197.4               99             16.78   \n",
       "1             27.47              195.5              103             16.62   \n",
       "2             41.38              121.2              110             10.30   \n",
       "3             50.90               61.9               88              5.26   \n",
       "4             28.34              148.3              122             12.61   \n",
       "\n",
       "   Total night minutes  Total night calls  Total night charge  \\\n",
       "0                244.7                 91               11.01   \n",
       "1                254.4                103               11.45   \n",
       "2                162.6                104                7.32   \n",
       "3                196.9                 89                8.86   \n",
       "4                186.9                121                8.41   \n",
       "\n",
       "   Total intl minutes  Total intl calls  Total intl charge  \\\n",
       "0                10.0                 3               2.70   \n",
       "1                13.7                 3               3.70   \n",
       "2                12.2                 5               3.29   \n",
       "3                 6.6                 7               1.78   \n",
       "4                10.1                 3               2.73   \n",
       "\n",
       "   Customer service calls  Churn  \n",
       "0                       1  False  \n",
       "1                       1  False  \n",
       "2                       0  False  \n",
       "3                       2  False  \n",
       "4                       3  False  "
      ]
     },
     "execution_count": 2,
     "metadata": {},
     "output_type": "execute_result"
    }
   ],
   "source": [
    "df = pd.read_csv('./../data/telecom_churn.csv')\n",
    "df.head()"
   ]
  },
  {
   "cell_type": "code",
   "execution_count": 3,
   "metadata": {},
   "outputs": [
    {
     "name": "stdout",
     "output_type": "stream",
     "text": [
      "<class 'pandas.core.frame.DataFrame'>\n",
      "RangeIndex: 3333 entries, 0 to 3332\n",
      "Data columns (total 20 columns):\n",
      "State                     3333 non-null object\n",
      "Account length            3333 non-null int64\n",
      "Area code                 3333 non-null int64\n",
      "International plan        3333 non-null object\n",
      "Voice mail plan           3333 non-null object\n",
      "Number vmail messages     3333 non-null int64\n",
      "Total day minutes         3333 non-null float64\n",
      "Total day calls           3333 non-null int64\n",
      "Total day charge          3333 non-null float64\n",
      "Total eve minutes         3333 non-null float64\n",
      "Total eve calls           3333 non-null int64\n",
      "Total eve charge          3333 non-null float64\n",
      "Total night minutes       3333 non-null float64\n",
      "Total night calls         3333 non-null int64\n",
      "Total night charge        3333 non-null float64\n",
      "Total intl minutes        3333 non-null float64\n",
      "Total intl calls          3333 non-null int64\n",
      "Total intl charge         3333 non-null float64\n",
      "Customer service calls    3333 non-null int64\n",
      "Churn                     3333 non-null bool\n",
      "dtypes: bool(1), float64(8), int64(8), object(3)\n",
      "memory usage: 498.1+ KB\n"
     ]
    }
   ],
   "source": [
    "df.info()"
   ]
  },
  {
   "cell_type": "markdown",
   "metadata": {},
   "source": [
    "### Binary CLassification Problem\n",
    "\n",
    "We have 19 features\n",
    "\n",
    "We want to build a DT for this\n",
    "\n",
    "### Slight Preprocessing\n",
    "\n"
   ]
  },
  {
   "cell_type": "code",
   "execution_count": 4,
   "metadata": {},
   "outputs": [],
   "source": [
    "df['International plan'] = df['International plan'].map({'Yes': 1, 'No': 0})\n",
    "df['Voice mail plan'] = df['Voice mail plan'].map({'Yes': 1, 'No': 0})"
   ]
  },
  {
   "cell_type": "code",
   "execution_count": 5,
   "metadata": {},
   "outputs": [],
   "source": [
    "df['Churn'] = df['Churn'].astype('int')"
   ]
  },
  {
   "cell_type": "code",
   "execution_count": 6,
   "metadata": {},
   "outputs": [
    {
     "data": {
      "text/html": [
       "<div>\n",
       "<style scoped>\n",
       "    .dataframe tbody tr th:only-of-type {\n",
       "        vertical-align: middle;\n",
       "    }\n",
       "\n",
       "    .dataframe tbody tr th {\n",
       "        vertical-align: top;\n",
       "    }\n",
       "\n",
       "    .dataframe thead th {\n",
       "        text-align: right;\n",
       "    }\n",
       "</style>\n",
       "<table border=\"1\" class=\"dataframe\">\n",
       "  <thead>\n",
       "    <tr style=\"text-align: right;\">\n",
       "      <th></th>\n",
       "      <th>State</th>\n",
       "      <th>Account length</th>\n",
       "      <th>Area code</th>\n",
       "      <th>International plan</th>\n",
       "      <th>Voice mail plan</th>\n",
       "      <th>Number vmail messages</th>\n",
       "      <th>Total day minutes</th>\n",
       "      <th>Total day calls</th>\n",
       "      <th>Total day charge</th>\n",
       "      <th>Total eve minutes</th>\n",
       "      <th>Total eve calls</th>\n",
       "      <th>Total eve charge</th>\n",
       "      <th>Total night minutes</th>\n",
       "      <th>Total night calls</th>\n",
       "      <th>Total night charge</th>\n",
       "      <th>Total intl minutes</th>\n",
       "      <th>Total intl calls</th>\n",
       "      <th>Total intl charge</th>\n",
       "      <th>Customer service calls</th>\n",
       "      <th>Churn</th>\n",
       "    </tr>\n",
       "  </thead>\n",
       "  <tbody>\n",
       "    <tr>\n",
       "      <th>0</th>\n",
       "      <td>KS</td>\n",
       "      <td>128</td>\n",
       "      <td>415</td>\n",
       "      <td>0</td>\n",
       "      <td>1</td>\n",
       "      <td>25</td>\n",
       "      <td>265.1</td>\n",
       "      <td>110</td>\n",
       "      <td>45.07</td>\n",
       "      <td>197.4</td>\n",
       "      <td>99</td>\n",
       "      <td>16.78</td>\n",
       "      <td>244.7</td>\n",
       "      <td>91</td>\n",
       "      <td>11.01</td>\n",
       "      <td>10.0</td>\n",
       "      <td>3</td>\n",
       "      <td>2.70</td>\n",
       "      <td>1</td>\n",
       "      <td>0</td>\n",
       "    </tr>\n",
       "    <tr>\n",
       "      <th>1</th>\n",
       "      <td>OH</td>\n",
       "      <td>107</td>\n",
       "      <td>415</td>\n",
       "      <td>0</td>\n",
       "      <td>1</td>\n",
       "      <td>26</td>\n",
       "      <td>161.6</td>\n",
       "      <td>123</td>\n",
       "      <td>27.47</td>\n",
       "      <td>195.5</td>\n",
       "      <td>103</td>\n",
       "      <td>16.62</td>\n",
       "      <td>254.4</td>\n",
       "      <td>103</td>\n",
       "      <td>11.45</td>\n",
       "      <td>13.7</td>\n",
       "      <td>3</td>\n",
       "      <td>3.70</td>\n",
       "      <td>1</td>\n",
       "      <td>0</td>\n",
       "    </tr>\n",
       "    <tr>\n",
       "      <th>2</th>\n",
       "      <td>NJ</td>\n",
       "      <td>137</td>\n",
       "      <td>415</td>\n",
       "      <td>0</td>\n",
       "      <td>0</td>\n",
       "      <td>0</td>\n",
       "      <td>243.4</td>\n",
       "      <td>114</td>\n",
       "      <td>41.38</td>\n",
       "      <td>121.2</td>\n",
       "      <td>110</td>\n",
       "      <td>10.30</td>\n",
       "      <td>162.6</td>\n",
       "      <td>104</td>\n",
       "      <td>7.32</td>\n",
       "      <td>12.2</td>\n",
       "      <td>5</td>\n",
       "      <td>3.29</td>\n",
       "      <td>0</td>\n",
       "      <td>0</td>\n",
       "    </tr>\n",
       "    <tr>\n",
       "      <th>3</th>\n",
       "      <td>OH</td>\n",
       "      <td>84</td>\n",
       "      <td>408</td>\n",
       "      <td>1</td>\n",
       "      <td>0</td>\n",
       "      <td>0</td>\n",
       "      <td>299.4</td>\n",
       "      <td>71</td>\n",
       "      <td>50.90</td>\n",
       "      <td>61.9</td>\n",
       "      <td>88</td>\n",
       "      <td>5.26</td>\n",
       "      <td>196.9</td>\n",
       "      <td>89</td>\n",
       "      <td>8.86</td>\n",
       "      <td>6.6</td>\n",
       "      <td>7</td>\n",
       "      <td>1.78</td>\n",
       "      <td>2</td>\n",
       "      <td>0</td>\n",
       "    </tr>\n",
       "    <tr>\n",
       "      <th>4</th>\n",
       "      <td>OK</td>\n",
       "      <td>75</td>\n",
       "      <td>415</td>\n",
       "      <td>1</td>\n",
       "      <td>0</td>\n",
       "      <td>0</td>\n",
       "      <td>166.7</td>\n",
       "      <td>113</td>\n",
       "      <td>28.34</td>\n",
       "      <td>148.3</td>\n",
       "      <td>122</td>\n",
       "      <td>12.61</td>\n",
       "      <td>186.9</td>\n",
       "      <td>121</td>\n",
       "      <td>8.41</td>\n",
       "      <td>10.1</td>\n",
       "      <td>3</td>\n",
       "      <td>2.73</td>\n",
       "      <td>3</td>\n",
       "      <td>0</td>\n",
       "    </tr>\n",
       "  </tbody>\n",
       "</table>\n",
       "</div>"
      ],
      "text/plain": [
       "  State  Account length  Area code  International plan  Voice mail plan  \\\n",
       "0    KS             128        415                   0                1   \n",
       "1    OH             107        415                   0                1   \n",
       "2    NJ             137        415                   0                0   \n",
       "3    OH              84        408                   1                0   \n",
       "4    OK              75        415                   1                0   \n",
       "\n",
       "   Number vmail messages  Total day minutes  Total day calls  \\\n",
       "0                     25              265.1              110   \n",
       "1                     26              161.6              123   \n",
       "2                      0              243.4              114   \n",
       "3                      0              299.4               71   \n",
       "4                      0              166.7              113   \n",
       "\n",
       "   Total day charge  Total eve minutes  Total eve calls  Total eve charge  \\\n",
       "0             45.07              197.4               99             16.78   \n",
       "1             27.47              195.5              103             16.62   \n",
       "2             41.38              121.2              110             10.30   \n",
       "3             50.90               61.9               88              5.26   \n",
       "4             28.34              148.3              122             12.61   \n",
       "\n",
       "   Total night minutes  Total night calls  Total night charge  \\\n",
       "0                244.7                 91               11.01   \n",
       "1                254.4                103               11.45   \n",
       "2                162.6                104                7.32   \n",
       "3                196.9                 89                8.86   \n",
       "4                186.9                121                8.41   \n",
       "\n",
       "   Total intl minutes  Total intl calls  Total intl charge  \\\n",
       "0                10.0                 3               2.70   \n",
       "1                13.7                 3               3.70   \n",
       "2                12.2                 5               3.29   \n",
       "3                 6.6                 7               1.78   \n",
       "4                10.1                 3               2.73   \n",
       "\n",
       "   Customer service calls  Churn  \n",
       "0                       1      0  \n",
       "1                       1      0  \n",
       "2                       0      0  \n",
       "3                       2      0  \n",
       "4                       3      0  "
      ]
     },
     "execution_count": 6,
     "metadata": {},
     "output_type": "execute_result"
    }
   ],
   "source": [
    "df.head()"
   ]
  },
  {
   "cell_type": "markdown",
   "metadata": {},
   "source": [
    "State is a categorical var. out of the box it is not handled by learning algorithms. For now we just drop it"
   ]
  },
  {
   "cell_type": "code",
   "execution_count": 7,
   "metadata": {},
   "outputs": [],
   "source": [
    "states = df.pop('State')"
   ]
  },
  {
   "cell_type": "code",
   "execution_count": 8,
   "metadata": {},
   "outputs": [
    {
     "data": {
      "text/html": [
       "<div>\n",
       "<style scoped>\n",
       "    .dataframe tbody tr th:only-of-type {\n",
       "        vertical-align: middle;\n",
       "    }\n",
       "\n",
       "    .dataframe tbody tr th {\n",
       "        vertical-align: top;\n",
       "    }\n",
       "\n",
       "    .dataframe thead th {\n",
       "        text-align: right;\n",
       "    }\n",
       "</style>\n",
       "<table border=\"1\" class=\"dataframe\">\n",
       "  <thead>\n",
       "    <tr style=\"text-align: right;\">\n",
       "      <th></th>\n",
       "      <th>Account length</th>\n",
       "      <th>Area code</th>\n",
       "      <th>International plan</th>\n",
       "      <th>Voice mail plan</th>\n",
       "      <th>Number vmail messages</th>\n",
       "      <th>Total day minutes</th>\n",
       "      <th>Total day calls</th>\n",
       "      <th>Total day charge</th>\n",
       "      <th>Total eve minutes</th>\n",
       "      <th>Total eve calls</th>\n",
       "      <th>Total eve charge</th>\n",
       "      <th>Total night minutes</th>\n",
       "      <th>Total night calls</th>\n",
       "      <th>Total night charge</th>\n",
       "      <th>Total intl minutes</th>\n",
       "      <th>Total intl calls</th>\n",
       "      <th>Total intl charge</th>\n",
       "      <th>Customer service calls</th>\n",
       "      <th>Churn</th>\n",
       "    </tr>\n",
       "  </thead>\n",
       "  <tbody>\n",
       "    <tr>\n",
       "      <th>0</th>\n",
       "      <td>128</td>\n",
       "      <td>415</td>\n",
       "      <td>0</td>\n",
       "      <td>1</td>\n",
       "      <td>25</td>\n",
       "      <td>265.1</td>\n",
       "      <td>110</td>\n",
       "      <td>45.07</td>\n",
       "      <td>197.4</td>\n",
       "      <td>99</td>\n",
       "      <td>16.78</td>\n",
       "      <td>244.7</td>\n",
       "      <td>91</td>\n",
       "      <td>11.01</td>\n",
       "      <td>10.0</td>\n",
       "      <td>3</td>\n",
       "      <td>2.70</td>\n",
       "      <td>1</td>\n",
       "      <td>0</td>\n",
       "    </tr>\n",
       "    <tr>\n",
       "      <th>1</th>\n",
       "      <td>107</td>\n",
       "      <td>415</td>\n",
       "      <td>0</td>\n",
       "      <td>1</td>\n",
       "      <td>26</td>\n",
       "      <td>161.6</td>\n",
       "      <td>123</td>\n",
       "      <td>27.47</td>\n",
       "      <td>195.5</td>\n",
       "      <td>103</td>\n",
       "      <td>16.62</td>\n",
       "      <td>254.4</td>\n",
       "      <td>103</td>\n",
       "      <td>11.45</td>\n",
       "      <td>13.7</td>\n",
       "      <td>3</td>\n",
       "      <td>3.70</td>\n",
       "      <td>1</td>\n",
       "      <td>0</td>\n",
       "    </tr>\n",
       "    <tr>\n",
       "      <th>2</th>\n",
       "      <td>137</td>\n",
       "      <td>415</td>\n",
       "      <td>0</td>\n",
       "      <td>0</td>\n",
       "      <td>0</td>\n",
       "      <td>243.4</td>\n",
       "      <td>114</td>\n",
       "      <td>41.38</td>\n",
       "      <td>121.2</td>\n",
       "      <td>110</td>\n",
       "      <td>10.30</td>\n",
       "      <td>162.6</td>\n",
       "      <td>104</td>\n",
       "      <td>7.32</td>\n",
       "      <td>12.2</td>\n",
       "      <td>5</td>\n",
       "      <td>3.29</td>\n",
       "      <td>0</td>\n",
       "      <td>0</td>\n",
       "    </tr>\n",
       "    <tr>\n",
       "      <th>3</th>\n",
       "      <td>84</td>\n",
       "      <td>408</td>\n",
       "      <td>1</td>\n",
       "      <td>0</td>\n",
       "      <td>0</td>\n",
       "      <td>299.4</td>\n",
       "      <td>71</td>\n",
       "      <td>50.90</td>\n",
       "      <td>61.9</td>\n",
       "      <td>88</td>\n",
       "      <td>5.26</td>\n",
       "      <td>196.9</td>\n",
       "      <td>89</td>\n",
       "      <td>8.86</td>\n",
       "      <td>6.6</td>\n",
       "      <td>7</td>\n",
       "      <td>1.78</td>\n",
       "      <td>2</td>\n",
       "      <td>0</td>\n",
       "    </tr>\n",
       "    <tr>\n",
       "      <th>4</th>\n",
       "      <td>75</td>\n",
       "      <td>415</td>\n",
       "      <td>1</td>\n",
       "      <td>0</td>\n",
       "      <td>0</td>\n",
       "      <td>166.7</td>\n",
       "      <td>113</td>\n",
       "      <td>28.34</td>\n",
       "      <td>148.3</td>\n",
       "      <td>122</td>\n",
       "      <td>12.61</td>\n",
       "      <td>186.9</td>\n",
       "      <td>121</td>\n",
       "      <td>8.41</td>\n",
       "      <td>10.1</td>\n",
       "      <td>3</td>\n",
       "      <td>2.73</td>\n",
       "      <td>3</td>\n",
       "      <td>0</td>\n",
       "    </tr>\n",
       "  </tbody>\n",
       "</table>\n",
       "</div>"
      ],
      "text/plain": [
       "   Account length  Area code  International plan  Voice mail plan  \\\n",
       "0             128        415                   0                1   \n",
       "1             107        415                   0                1   \n",
       "2             137        415                   0                0   \n",
       "3              84        408                   1                0   \n",
       "4              75        415                   1                0   \n",
       "\n",
       "   Number vmail messages  Total day minutes  Total day calls  \\\n",
       "0                     25              265.1              110   \n",
       "1                     26              161.6              123   \n",
       "2                      0              243.4              114   \n",
       "3                      0              299.4               71   \n",
       "4                      0              166.7              113   \n",
       "\n",
       "   Total day charge  Total eve minutes  Total eve calls  Total eve charge  \\\n",
       "0             45.07              197.4               99             16.78   \n",
       "1             27.47              195.5              103             16.62   \n",
       "2             41.38              121.2              110             10.30   \n",
       "3             50.90               61.9               88              5.26   \n",
       "4             28.34              148.3              122             12.61   \n",
       "\n",
       "   Total night minutes  Total night calls  Total night charge  \\\n",
       "0                244.7                 91               11.01   \n",
       "1                254.4                103               11.45   \n",
       "2                162.6                104                7.32   \n",
       "3                196.9                 89                8.86   \n",
       "4                186.9                121                8.41   \n",
       "\n",
       "   Total intl minutes  Total intl calls  Total intl charge  \\\n",
       "0                10.0                 3               2.70   \n",
       "1                13.7                 3               3.70   \n",
       "2                12.2                 5               3.29   \n",
       "3                 6.6                 7               1.78   \n",
       "4                10.1                 3               2.73   \n",
       "\n",
       "   Customer service calls  Churn  \n",
       "0                       1      0  \n",
       "1                       1      0  \n",
       "2                       0      0  \n",
       "3                       2      0  \n",
       "4                       3      0  "
      ]
     },
     "execution_count": 8,
     "metadata": {},
     "output_type": "execute_result"
    }
   ],
   "source": [
    "df.head()"
   ]
  },
  {
   "cell_type": "markdown",
   "metadata": {},
   "source": [
    "#### All Features are now numeric\n",
    "\n",
    "#### Now we split the DataFrame into a matrix X and vector Y which will form our training set\n"
   ]
  },
  {
   "cell_type": "code",
   "execution_count": 9,
   "metadata": {},
   "outputs": [],
   "source": [
    "X, y = df.drop('Churn', axis=1), df['Churn']"
   ]
  },
  {
   "cell_type": "code",
   "execution_count": 10,
   "metadata": {},
   "outputs": [
    {
     "data": {
      "text/html": [
       "<div>\n",
       "<style scoped>\n",
       "    .dataframe tbody tr th:only-of-type {\n",
       "        vertical-align: middle;\n",
       "    }\n",
       "\n",
       "    .dataframe tbody tr th {\n",
       "        vertical-align: top;\n",
       "    }\n",
       "\n",
       "    .dataframe thead th {\n",
       "        text-align: right;\n",
       "    }\n",
       "</style>\n",
       "<table border=\"1\" class=\"dataframe\">\n",
       "  <thead>\n",
       "    <tr style=\"text-align: right;\">\n",
       "      <th></th>\n",
       "      <th>Account length</th>\n",
       "      <th>Area code</th>\n",
       "      <th>International plan</th>\n",
       "      <th>Voice mail plan</th>\n",
       "      <th>Number vmail messages</th>\n",
       "      <th>Total day minutes</th>\n",
       "      <th>Total day calls</th>\n",
       "      <th>Total day charge</th>\n",
       "      <th>Total eve minutes</th>\n",
       "      <th>Total eve calls</th>\n",
       "      <th>Total eve charge</th>\n",
       "      <th>Total night minutes</th>\n",
       "      <th>Total night calls</th>\n",
       "      <th>Total night charge</th>\n",
       "      <th>Total intl minutes</th>\n",
       "      <th>Total intl calls</th>\n",
       "      <th>Total intl charge</th>\n",
       "      <th>Customer service calls</th>\n",
       "    </tr>\n",
       "  </thead>\n",
       "  <tbody>\n",
       "    <tr>\n",
       "      <th>0</th>\n",
       "      <td>128</td>\n",
       "      <td>415</td>\n",
       "      <td>0</td>\n",
       "      <td>1</td>\n",
       "      <td>25</td>\n",
       "      <td>265.1</td>\n",
       "      <td>110</td>\n",
       "      <td>45.07</td>\n",
       "      <td>197.4</td>\n",
       "      <td>99</td>\n",
       "      <td>16.78</td>\n",
       "      <td>244.7</td>\n",
       "      <td>91</td>\n",
       "      <td>11.01</td>\n",
       "      <td>10.0</td>\n",
       "      <td>3</td>\n",
       "      <td>2.70</td>\n",
       "      <td>1</td>\n",
       "    </tr>\n",
       "    <tr>\n",
       "      <th>1</th>\n",
       "      <td>107</td>\n",
       "      <td>415</td>\n",
       "      <td>0</td>\n",
       "      <td>1</td>\n",
       "      <td>26</td>\n",
       "      <td>161.6</td>\n",
       "      <td>123</td>\n",
       "      <td>27.47</td>\n",
       "      <td>195.5</td>\n",
       "      <td>103</td>\n",
       "      <td>16.62</td>\n",
       "      <td>254.4</td>\n",
       "      <td>103</td>\n",
       "      <td>11.45</td>\n",
       "      <td>13.7</td>\n",
       "      <td>3</td>\n",
       "      <td>3.70</td>\n",
       "      <td>1</td>\n",
       "    </tr>\n",
       "    <tr>\n",
       "      <th>2</th>\n",
       "      <td>137</td>\n",
       "      <td>415</td>\n",
       "      <td>0</td>\n",
       "      <td>0</td>\n",
       "      <td>0</td>\n",
       "      <td>243.4</td>\n",
       "      <td>114</td>\n",
       "      <td>41.38</td>\n",
       "      <td>121.2</td>\n",
       "      <td>110</td>\n",
       "      <td>10.30</td>\n",
       "      <td>162.6</td>\n",
       "      <td>104</td>\n",
       "      <td>7.32</td>\n",
       "      <td>12.2</td>\n",
       "      <td>5</td>\n",
       "      <td>3.29</td>\n",
       "      <td>0</td>\n",
       "    </tr>\n",
       "    <tr>\n",
       "      <th>3</th>\n",
       "      <td>84</td>\n",
       "      <td>408</td>\n",
       "      <td>1</td>\n",
       "      <td>0</td>\n",
       "      <td>0</td>\n",
       "      <td>299.4</td>\n",
       "      <td>71</td>\n",
       "      <td>50.90</td>\n",
       "      <td>61.9</td>\n",
       "      <td>88</td>\n",
       "      <td>5.26</td>\n",
       "      <td>196.9</td>\n",
       "      <td>89</td>\n",
       "      <td>8.86</td>\n",
       "      <td>6.6</td>\n",
       "      <td>7</td>\n",
       "      <td>1.78</td>\n",
       "      <td>2</td>\n",
       "    </tr>\n",
       "    <tr>\n",
       "      <th>4</th>\n",
       "      <td>75</td>\n",
       "      <td>415</td>\n",
       "      <td>1</td>\n",
       "      <td>0</td>\n",
       "      <td>0</td>\n",
       "      <td>166.7</td>\n",
       "      <td>113</td>\n",
       "      <td>28.34</td>\n",
       "      <td>148.3</td>\n",
       "      <td>122</td>\n",
       "      <td>12.61</td>\n",
       "      <td>186.9</td>\n",
       "      <td>121</td>\n",
       "      <td>8.41</td>\n",
       "      <td>10.1</td>\n",
       "      <td>3</td>\n",
       "      <td>2.73</td>\n",
       "      <td>3</td>\n",
       "    </tr>\n",
       "  </tbody>\n",
       "</table>\n",
       "</div>"
      ],
      "text/plain": [
       "   Account length  Area code  International plan  Voice mail plan  \\\n",
       "0             128        415                   0                1   \n",
       "1             107        415                   0                1   \n",
       "2             137        415                   0                0   \n",
       "3              84        408                   1                0   \n",
       "4              75        415                   1                0   \n",
       "\n",
       "   Number vmail messages  Total day minutes  Total day calls  \\\n",
       "0                     25              265.1              110   \n",
       "1                     26              161.6              123   \n",
       "2                      0              243.4              114   \n",
       "3                      0              299.4               71   \n",
       "4                      0              166.7              113   \n",
       "\n",
       "   Total day charge  Total eve minutes  Total eve calls  Total eve charge  \\\n",
       "0             45.07              197.4               99             16.78   \n",
       "1             27.47              195.5              103             16.62   \n",
       "2             41.38              121.2              110             10.30   \n",
       "3             50.90               61.9               88              5.26   \n",
       "4             28.34              148.3              122             12.61   \n",
       "\n",
       "   Total night minutes  Total night calls  Total night charge  \\\n",
       "0                244.7                 91               11.01   \n",
       "1                254.4                103               11.45   \n",
       "2                162.6                104                7.32   \n",
       "3                196.9                 89                8.86   \n",
       "4                186.9                121                8.41   \n",
       "\n",
       "   Total intl minutes  Total intl calls  Total intl charge  \\\n",
       "0                10.0                 3               2.70   \n",
       "1                13.7                 3               3.70   \n",
       "2                12.2                 5               3.29   \n",
       "3                 6.6                 7               1.78   \n",
       "4                10.1                 3               2.73   \n",
       "\n",
       "   Customer service calls  \n",
       "0                       1  \n",
       "1                       1  \n",
       "2                       0  \n",
       "3                       2  \n",
       "4                       3  "
      ]
     },
     "execution_count": 10,
     "metadata": {},
     "output_type": "execute_result"
    }
   ],
   "source": [
    "X.head()"
   ]
  },
  {
   "cell_type": "code",
   "execution_count": 13,
   "metadata": {},
   "outputs": [
    {
     "data": {
      "text/plain": [
       "((3333, 18), (3333,))"
      ]
     },
     "execution_count": 13,
     "metadata": {},
     "output_type": "execute_result"
    }
   ],
   "source": [
    "X.shape, y.shape"
   ]
  },
  {
   "cell_type": "markdown",
   "metadata": {},
   "source": [
    "### Split the data"
   ]
  },
  {
   "cell_type": "code",
   "execution_count": 12,
   "metadata": {},
   "outputs": [],
   "source": [
    "from sklearn.model_selection import train_test_split"
   ]
  },
  {
   "cell_type": "code",
   "execution_count": 13,
   "metadata": {},
   "outputs": [],
   "source": [
    "X_train, X_holdout, y_train, y_holdout = train_test_split(X, y, test_size=0.3, random_state=17)"
   ]
  },
  {
   "cell_type": "markdown",
   "metadata": {},
   "source": [
    "- Random state can be any no\n",
    "- used for shuffling the data\n",
    "- But if we execute with same random state, results will be same\n",
    "- seed for pesudo random no generator"
   ]
  },
  {
   "cell_type": "code",
   "execution_count": 14,
   "metadata": {},
   "outputs": [
    {
     "name": "stdout",
     "output_type": "stream",
     "text": [
      "(2333, 18) (1000, 18)\n"
     ]
    }
   ],
   "source": [
    "print (X_train.shape, X_holdout.shape) "
   ]
  },
  {
   "cell_type": "markdown",
   "metadata": {},
   "source": [
    "### Good workflow for splitting dataset\n",
    "\n",
    "![](./../img/diag3.png)\n",
    "\n",
    "- We have split out data into train (70%) and holdout (30%)\n",
    "\n",
    "- We do CV in 70% of our data (train set)\n",
    "\n",
    "- With CV we assess accuracy and do hyperparameter tuning\n",
    "\n",
    "- We build a nice model using 70% data\n",
    "\n",
    "- Even while using CV on 70% of the data we might overfit. That is why we leave 30% of data as holdout for final check\n",
    "\n",
    "- This gives us a good intuition how our model will perform\n",
    "\n",
    "\n",
    "### Building a DT\n",
    "\n"
   ]
  },
  {
   "cell_type": "code",
   "execution_count": 15,
   "metadata": {},
   "outputs": [],
   "source": [
    "from sklearn.tree import DecisionTreeClassifier"
   ]
  },
  {
   "cell_type": "code",
   "execution_count": 16,
   "metadata": {},
   "outputs": [],
   "source": [
    "# initial tree\n",
    "\n",
    "# crierion is gini by default. it is similar to entorpy but faster as it does not have to compute log\n",
    "\n",
    "# max_depth: by default None. So tree will grow until the end\n",
    "\n",
    "# min_samples_leaf: by default 1\n",
    "\n",
    "# these are the most imp params that we will tune via CV\n",
    "\n",
    "\n",
    "tree = DecisionTreeClassifier(random_state=17)"
   ]
  },
  {
   "cell_type": "markdown",
   "metadata": {},
   "source": [
    "#### Fit-Predict"
   ]
  },
  {
   "cell_type": "code",
   "execution_count": 17,
   "metadata": {},
   "outputs": [
    {
     "data": {
      "text/plain": [
       "DecisionTreeClassifier(class_weight=None, criterion='gini', max_depth=None,\n",
       "            max_features=None, max_leaf_nodes=None,\n",
       "            min_impurity_decrease=0.0, min_impurity_split=None,\n",
       "            min_samples_leaf=1, min_samples_split=2,\n",
       "            min_weight_fraction_leaf=0.0, presort=False, random_state=17,\n",
       "            splitter='best')"
      ]
     },
     "execution_count": 17,
     "metadata": {},
     "output_type": "execute_result"
    }
   ],
   "source": [
    "# fit the model\n",
    "\n",
    "tree.fit(X_train, y_train)"
   ]
  },
  {
   "cell_type": "markdown",
   "metadata": {},
   "source": [
    "#### Check accuracy on holdout data"
   ]
  },
  {
   "cell_type": "code",
   "execution_count": 18,
   "metadata": {},
   "outputs": [],
   "source": [
    "from sklearn.metrics import accuracy_score"
   ]
  },
  {
   "cell_type": "code",
   "execution_count": 19,
   "metadata": {},
   "outputs": [],
   "source": [
    "pred_holdout = tree.predict(X_holdout)"
   ]
  },
  {
   "cell_type": "code",
   "execution_count": 20,
   "metadata": {},
   "outputs": [
    {
     "data": {
      "text/plain": [
       "True"
      ]
     },
     "execution_count": 20,
     "metadata": {},
     "output_type": "execute_result"
    }
   ],
   "source": [
    "pred_holdout.shape == y_holdout.shape"
   ]
  },
  {
   "cell_type": "code",
   "execution_count": 21,
   "metadata": {},
   "outputs": [
    {
     "data": {
      "text/plain": [
       "0.921"
      ]
     },
     "execution_count": 21,
     "metadata": {},
     "output_type": "execute_result"
    }
   ],
   "source": [
    "accuracy_score(y_holdout, pred_holdout)"
   ]
  },
  {
   "cell_type": "markdown",
   "metadata": {},
   "source": [
    "This tree has very high depth. It is built till each leaf is pure"
   ]
  },
  {
   "cell_type": "markdown",
   "metadata": {},
   "source": [
    "### We have got 92% accuracy - Is it any good\n",
    "\n",
    "First we can check with the stupidest logic\n",
    "\n",
    "We can simply check proportion of target variable"
   ]
  },
  {
   "cell_type": "code",
   "execution_count": 22,
   "metadata": {},
   "outputs": [
    {
     "data": {
      "text/plain": [
       "0    0.855086\n",
       "1    0.144914\n",
       "Name: Churn, dtype: float64"
      ]
     },
     "execution_count": 22,
     "metadata": {},
     "output_type": "execute_result"
    }
   ],
   "source": [
    "y.value_counts(normalize=True)"
   ]
  },
  {
   "cell_type": "markdown",
   "metadata": {},
   "source": [
    "If we simply predict y = 0, accuracy will be 85.5%\n",
    "\n",
    "92% is better.. But maybe we can do better"
   ]
  },
  {
   "cell_type": "markdown",
   "metadata": {},
   "source": [
    "### Cross Validation"
   ]
  },
  {
   "cell_type": "code",
   "execution_count": 23,
   "metadata": {},
   "outputs": [],
   "source": [
    "from sklearn.model_selection import GridSearchCV, StratifiedKFold"
   ]
  },
  {
   "cell_type": "markdown",
   "metadata": {},
   "source": [
    "What is GridSearchCV\n",
    "\n",
    "- CV is Cross validation\n",
    "\n",
    "- Grid Search is searching ur hyperparameters in some grid\n",
    "\n",
    "Say we have to tune 2 hyperparams - max_depth and min_samples_leaf\n",
    "\n",
    "What GridSearch does is it performs CV for each combination of the 2 hyperparams and we pick a combination that performs best\n",
    "\n",
    "![](./../img/diag5.png)\n",
    "\n",
    "A much more efficient method is to use Randomized Search\n",
    "\n",
    "Bayesian Theory is also applied to fing efficient hyperparams, but randomized serach generally works quite well\n",
    "\n",
    "With DT we can allow to use GridSearch\n",
    "\n",
    "StratifiedKFold is for doing CV"
   ]
  },
  {
   "cell_type": "code",
   "execution_count": 24,
   "metadata": {},
   "outputs": [],
   "source": [
    "import numpy as np"
   ]
  },
  {
   "cell_type": "code",
   "execution_count": 25,
   "metadata": {},
   "outputs": [
    {
     "data": {
      "text/plain": [
       "array([2, 3, 4, 5, 6, 7, 8, 9])"
      ]
     },
     "execution_count": 25,
     "metadata": {},
     "output_type": "execute_result"
    }
   ],
   "source": [
    "np.arange(2, 10)"
   ]
  },
  {
   "cell_type": "code",
   "execution_count": 26,
   "metadata": {},
   "outputs": [],
   "source": [
    "# min_samples_leaf = 2 means u will have to build ur tree until there are 2 samples in each of ur leaf\n",
    "# low values corr to deeper trees\n",
    "\n",
    "params = {\n",
    "    'max_depth': np.arange(2, 11),\n",
    "    'min_samples_leaf': np.arange(2,11)\n",
    "}"
   ]
  },
  {
   "cell_type": "code",
   "execution_count": 27,
   "metadata": {},
   "outputs": [],
   "source": [
    "skf = StratifiedKFold(n_splits=5, shuffle=True, random_state=17)"
   ]
  },
  {
   "cell_type": "code",
   "execution_count": 28,
   "metadata": {},
   "outputs": [],
   "source": [
    "# argumets\n",
    "\n",
    "# estimator:  model\n",
    "# param_grid : hyperparam names\n",
    "# scoring: by default it is accuracy\n",
    "# n_jobs: to parallelize, -1 will tell it to use all available cores\n",
    "# cv: Cross validation\n",
    "# verbose: 1 means it will print intermediate info\n",
    "\n",
    "best_tree = GridSearchCV(estimator=tree, param_grid=params, cv=skf, n_jobs=-1, verbose=1)\n",
    "\n",
    "# best tree because it contains the best hyperparam setting for our tree"
   ]
  },
  {
   "cell_type": "markdown",
   "metadata": {},
   "source": [
    "Fit the data"
   ]
  },
  {
   "cell_type": "code",
   "execution_count": 29,
   "metadata": {},
   "outputs": [
    {
     "name": "stdout",
     "output_type": "stream",
     "text": [
      "Fitting 5 folds for each of 81 candidates, totalling 405 fits\n"
     ]
    },
    {
     "name": "stderr",
     "output_type": "stream",
     "text": [
      "[Parallel(n_jobs=-1)]: Done 405 out of 405 | elapsed:    2.5s finished\n"
     ]
    },
    {
     "data": {
      "text/plain": [
       "GridSearchCV(cv=StratifiedKFold(n_splits=5, random_state=17, shuffle=True),\n",
       "       error_score='raise',\n",
       "       estimator=DecisionTreeClassifier(class_weight=None, criterion='gini', max_depth=None,\n",
       "            max_features=None, max_leaf_nodes=None,\n",
       "            min_impurity_decrease=0.0, min_impurity_split=None,\n",
       "            min_samples_leaf=1, min_samples_split=2,\n",
       "            min_weight_fraction_leaf=0.0, presort=False, random_state=17,\n",
       "            splitter='best'),\n",
       "       fit_params=None, iid=True, n_jobs=-1,\n",
       "       param_grid={'max_depth': array([ 2,  3,  4,  5,  6,  7,  8,  9, 10]), 'min_samples_leaf': array([ 2,  3,  4,  5,  6,  7,  8,  9, 10])},\n",
       "       pre_dispatch='2*n_jobs', refit=True, return_train_score='warn',\n",
       "       scoring=None, verbose=1)"
      ]
     },
     "execution_count": 29,
     "metadata": {},
     "output_type": "execute_result"
    }
   ],
   "source": [
    "best_tree.fit(X_train, y_train)"
   ]
  },
  {
   "cell_type": "markdown",
   "metadata": {},
   "source": [
    "What is does here is checks 9 (2-10) values of max_depth and for each of those it checks 9 vals of min_samples_leaf.\n",
    "\n",
    "It does 5 fold CV for each setting\n",
    "\n",
    "So it trains a DT 9x9x5 = 405 times\n",
    "\n",
    "\n",
    "#### Best Hyper Parameters"
   ]
  },
  {
   "cell_type": "code",
   "execution_count": 30,
   "metadata": {
    "scrolled": true
   },
   "outputs": [
    {
     "data": {
      "text/plain": [
       "{'max_depth': 6, 'min_samples_leaf': 2}"
      ]
     },
     "execution_count": 30,
     "metadata": {},
     "output_type": "execute_result"
    }
   ],
   "source": [
    "best_tree.best_params_"
   ]
  },
  {
   "cell_type": "markdown",
   "metadata": {},
   "source": [
    "Here we tuned for hyperparams in the range 2-10 and got the best ones\n",
    "\n",
    "For max_deph we see that the best is 6 which is in the middle of our range\n",
    "\n",
    "But for min_samples_leaf we see that the best is 2, which is the min vaalue for which we have tested\n",
    "\n",
    "Maybe 1 is better\n",
    "\n",
    "So we check agian for 1\n",
    "\n",
    "It turns out that it will not make a difference and still 2 is the best\n",
    "\n",
    "**If we get a best hyperparam value in the border of our range, it is worthwile to check again**\n",
    "\n",
    "Best model:"
   ]
  },
  {
   "cell_type": "code",
   "execution_count": 31,
   "metadata": {
    "scrolled": true
   },
   "outputs": [
    {
     "data": {
      "text/plain": [
       "DecisionTreeClassifier(class_weight=None, criterion='gini', max_depth=6,\n",
       "            max_features=None, max_leaf_nodes=None,\n",
       "            min_impurity_decrease=0.0, min_impurity_split=None,\n",
       "            min_samples_leaf=2, min_samples_split=2,\n",
       "            min_weight_fraction_leaf=0.0, presort=False, random_state=17,\n",
       "            splitter='best')"
      ]
     },
     "execution_count": 31,
     "metadata": {},
     "output_type": "execute_result"
    }
   ],
   "source": [
    "best_tree.best_estimator_"
   ]
  },
  {
   "cell_type": "markdown",
   "metadata": {},
   "source": [
    "### Cross Validation Assessment of model quality"
   ]
  },
  {
   "cell_type": "code",
   "execution_count": 32,
   "metadata": {},
   "outputs": [
    {
     "data": {
      "text/plain": [
       "0.9417059579939991"
      ]
     },
     "execution_count": 32,
     "metadata": {},
     "output_type": "execute_result"
    }
   ],
   "source": [
    "best_tree.best_score_"
   ]
  },
  {
   "cell_type": "markdown",
   "metadata": {},
   "source": [
    "- This is the bet score via CV\n",
    "\n",
    "- So we did CV 405 times\n",
    "\n",
    "- The best avg CV accuracy was this\n",
    "\n",
    "- This is a bit better than 92%\n",
    "\n",
    "\n",
    "### Holdout Assessment of model quality\n",
    "\n"
   ]
  },
  {
   "cell_type": "code",
   "execution_count": 33,
   "metadata": {},
   "outputs": [],
   "source": [
    "pred_holdout = best_tree.predict(X_holdout)"
   ]
  },
  {
   "cell_type": "code",
   "execution_count": 34,
   "metadata": {},
   "outputs": [
    {
     "data": {
      "text/plain": [
       "0.947"
      ]
     },
     "execution_count": 34,
     "metadata": {},
     "output_type": "execute_result"
    }
   ],
   "source": [
    "accuracy_score(y_holdout, pred_holdout)"
   ]
  },
  {
   "cell_type": "markdown",
   "metadata": {},
   "source": [
    "**Our holdout (test accuracy) has indeed increased**"
   ]
  },
  {
   "cell_type": "markdown",
   "metadata": {},
   "source": [
    "### Implementing CV on the original tree"
   ]
  },
  {
   "cell_type": "code",
   "execution_count": 36,
   "metadata": {
    "scrolled": false
   },
   "outputs": [
    {
     "data": {
      "text/plain": [
       "DecisionTreeClassifier(class_weight=None, criterion='gini', max_depth=None,\n",
       "            max_features=None, max_leaf_nodes=None,\n",
       "            min_impurity_decrease=0.0, min_impurity_split=None,\n",
       "            min_samples_leaf=1, min_samples_split=2,\n",
       "            min_weight_fraction_leaf=0.0, presort=False, random_state=17,\n",
       "            splitter='best')"
      ]
     },
     "execution_count": 36,
     "metadata": {},
     "output_type": "execute_result"
    }
   ],
   "source": [
    "tree"
   ]
  },
  {
   "cell_type": "code",
   "execution_count": 37,
   "metadata": {},
   "outputs": [],
   "source": [
    "from sklearn.model_selection import cross_val_score"
   ]
  },
  {
   "cell_type": "code",
   "execution_count": 39,
   "metadata": {},
   "outputs": [
    {
     "name": "stdout",
     "output_type": "stream",
     "text": [
      "[0.89507495 0.91862955 0.91220557 0.90772532 0.9055794 ]\n",
      "0.9078429570539743\n"
     ]
    }
   ],
   "source": [
    "# scoring: accuracy by default\n",
    "\n",
    "validation_scores = cross_val_score(estimator=tree, X=X_train, y=y_train, cv=skf)\n",
    "print (validation_scores)\n",
    "\n",
    "print (np.mean(validation_scores))"
   ]
  },
  {
   "cell_type": "markdown",
   "metadata": {},
   "source": [
    "We get 5 values of accuracies because it was 5 fold cv\n",
    "\n",
    "#### Now we tune max_depth using the workflow discussed earlier"
   ]
  },
  {
   "cell_type": "code",
   "execution_count": 43,
   "metadata": {},
   "outputs": [],
   "source": [
    "from tqdm import tqdm_notebook"
   ]
  },
  {
   "cell_type": "code",
   "execution_count": 47,
   "metadata": {
    "scrolled": true
   },
   "outputs": [
    {
     "data": {
      "application/vnd.jupyter.widget-view+json": {
       "model_id": "55e61aae47f048d29348a469d464b1f6",
       "version_major": 2,
       "version_minor": 0
      },
      "text/plain": [
       "A Jupyter Widget"
      ]
     },
     "metadata": {},
     "output_type": "display_data"
    },
    {
     "name": "stdout",
     "output_type": "stream",
     "text": [
      "\n"
     ]
    }
   ],
   "source": [
    "cv_accuracies_by_depth, holdout_accuracies_by_depth = [],[]\n",
    "\n",
    "max_depth_values = np.arange(2,11)\n",
    "\n",
    "# for each value of max_depth\n",
    "for depth in tqdm_notebook(max_depth_values):\n",
    "    tree = DecisionTreeClassifier(random_state=17, max_depth=depth)\n",
    "    \n",
    "    # perform cross val\n",
    "    validation_scores = cross_val_score(estimator=tree, X=X_train, y=y_train, cv=skf)\n",
    "    cv_accuracies_by_depth.append(np.mean(validation_scores))\n",
    "    \n",
    "    # fit the model of current depth on training data\n",
    "    tree.fit(X_train, y_train)\n",
    "    \n",
    "    # asseess the model with holdout set\n",
    "    current_holdout_pred = tree.predict(X_holdout)\n",
    "    holdout_accuracies_by_depth.append(accuracy_score(y_holdout, current_holdout_pred))\n",
    "    \n",
    "    "
   ]
  },
  {
   "cell_type": "markdown",
   "metadata": {},
   "source": [
    "- Now we have avg cv accuracies and holdout accuracies\n",
    "- We want to plot it now"
   ]
  },
  {
   "cell_type": "code",
   "execution_count": 51,
   "metadata": {
    "scrolled": true
   },
   "outputs": [
    {
     "data": {
      "image/png": "[encoded data removed]",
      "text/plain": [
       "<Figure size 432x288 with 1 Axes>"
      ]
     },
     "metadata": {},
     "output_type": "display_data"
    }
   ],
   "source": [
    "plt.plot(max_depth_values, cv_accuracies_by_depth, label = \"CV\", c='blue')\n",
    "plt.plot(max_depth_values, holdout_accuracies_by_depth, label = \"Holdout\", c='orange')\n",
    "plt.legend()\n",
    "plt.xlabel('Max Depth')\n",
    "plt.ylabel('Accuracy')\n",
    "plt.title('DT validation curve for max depth');"
   ]
  },
  {
   "cell_type": "markdown",
   "metadata": {},
   "source": [
    "- max depth = 6 is a very good value. This we obtained by grid seach\n",
    "\n",
    "### Visualizing the tree\n",
    "\n",
    "- Install Graphviz\n",
    "\n",
    "- Install pydot"
   ]
  },
  {
   "cell_type": "code",
   "execution_count": 53,
   "metadata": {},
   "outputs": [
    {
     "data": {
      "text/html": [
       "<div>\n",
       "<style scoped>\n",
       "    .dataframe tbody tr th:only-of-type {\n",
       "        vertical-align: middle;\n",
       "    }\n",
       "\n",
       "    .dataframe tbody tr th {\n",
       "        vertical-align: top;\n",
       "    }\n",
       "\n",
       "    .dataframe thead th {\n",
       "        text-align: right;\n",
       "    }\n",
       "</style>\n",
       "<table border=\"1\" class=\"dataframe\">\n",
       "  <thead>\n",
       "    <tr style=\"text-align: right;\">\n",
       "      <th></th>\n",
       "      <th>Account length</th>\n",
       "      <th>Area code</th>\n",
       "      <th>International plan</th>\n",
       "      <th>Voice mail plan</th>\n",
       "      <th>Number vmail messages</th>\n",
       "      <th>Total day minutes</th>\n",
       "      <th>Total day calls</th>\n",
       "      <th>Total day charge</th>\n",
       "      <th>Total eve minutes</th>\n",
       "      <th>Total eve calls</th>\n",
       "      <th>Total eve charge</th>\n",
       "      <th>Total night minutes</th>\n",
       "      <th>Total night calls</th>\n",
       "      <th>Total night charge</th>\n",
       "      <th>Total intl minutes</th>\n",
       "      <th>Total intl calls</th>\n",
       "      <th>Total intl charge</th>\n",
       "      <th>Customer service calls</th>\n",
       "    </tr>\n",
       "  </thead>\n",
       "  <tbody>\n",
       "    <tr>\n",
       "      <th>0</th>\n",
       "      <td>128</td>\n",
       "      <td>415</td>\n",
       "      <td>0</td>\n",
       "      <td>1</td>\n",
       "      <td>25</td>\n",
       "      <td>265.1</td>\n",
       "      <td>110</td>\n",
       "      <td>45.07</td>\n",
       "      <td>197.4</td>\n",
       "      <td>99</td>\n",
       "      <td>16.78</td>\n",
       "      <td>244.7</td>\n",
       "      <td>91</td>\n",
       "      <td>11.01</td>\n",
       "      <td>10.0</td>\n",
       "      <td>3</td>\n",
       "      <td>2.70</td>\n",
       "      <td>1</td>\n",
       "    </tr>\n",
       "    <tr>\n",
       "      <th>1</th>\n",
       "      <td>107</td>\n",
       "      <td>415</td>\n",
       "      <td>0</td>\n",
       "      <td>1</td>\n",
       "      <td>26</td>\n",
       "      <td>161.6</td>\n",
       "      <td>123</td>\n",
       "      <td>27.47</td>\n",
       "      <td>195.5</td>\n",
       "      <td>103</td>\n",
       "      <td>16.62</td>\n",
       "      <td>254.4</td>\n",
       "      <td>103</td>\n",
       "      <td>11.45</td>\n",
       "      <td>13.7</td>\n",
       "      <td>3</td>\n",
       "      <td>3.70</td>\n",
       "      <td>1</td>\n",
       "    </tr>\n",
       "    <tr>\n",
       "      <th>2</th>\n",
       "      <td>137</td>\n",
       "      <td>415</td>\n",
       "      <td>0</td>\n",
       "      <td>0</td>\n",
       "      <td>0</td>\n",
       "      <td>243.4</td>\n",
       "      <td>114</td>\n",
       "      <td>41.38</td>\n",
       "      <td>121.2</td>\n",
       "      <td>110</td>\n",
       "      <td>10.30</td>\n",
       "      <td>162.6</td>\n",
       "      <td>104</td>\n",
       "      <td>7.32</td>\n",
       "      <td>12.2</td>\n",
       "      <td>5</td>\n",
       "      <td>3.29</td>\n",
       "      <td>0</td>\n",
       "    </tr>\n",
       "    <tr>\n",
       "      <th>3</th>\n",
       "      <td>84</td>\n",
       "      <td>408</td>\n",
       "      <td>1</td>\n",
       "      <td>0</td>\n",
       "      <td>0</td>\n",
       "      <td>299.4</td>\n",
       "      <td>71</td>\n",
       "      <td>50.90</td>\n",
       "      <td>61.9</td>\n",
       "      <td>88</td>\n",
       "      <td>5.26</td>\n",
       "      <td>196.9</td>\n",
       "      <td>89</td>\n",
       "      <td>8.86</td>\n",
       "      <td>6.6</td>\n",
       "      <td>7</td>\n",
       "      <td>1.78</td>\n",
       "      <td>2</td>\n",
       "    </tr>\n",
       "    <tr>\n",
       "      <th>4</th>\n",
       "      <td>75</td>\n",
       "      <td>415</td>\n",
       "      <td>1</td>\n",
       "      <td>0</td>\n",
       "      <td>0</td>\n",
       "      <td>166.7</td>\n",
       "      <td>113</td>\n",
       "      <td>28.34</td>\n",
       "      <td>148.3</td>\n",
       "      <td>122</td>\n",
       "      <td>12.61</td>\n",
       "      <td>186.9</td>\n",
       "      <td>121</td>\n",
       "      <td>8.41</td>\n",
       "      <td>10.1</td>\n",
       "      <td>3</td>\n",
       "      <td>2.73</td>\n",
       "      <td>3</td>\n",
       "    </tr>\n",
       "  </tbody>\n",
       "</table>\n",
       "</div>"
      ],
      "text/plain": [
       "   Account length  Area code  International plan  Voice mail plan  \\\n",
       "0             128        415                   0                1   \n",
       "1             107        415                   0                1   \n",
       "2             137        415                   0                0   \n",
       "3              84        408                   1                0   \n",
       "4              75        415                   1                0   \n",
       "\n",
       "   Number vmail messages  Total day minutes  Total day calls  \\\n",
       "0                     25              265.1              110   \n",
       "1                     26              161.6              123   \n",
       "2                      0              243.4              114   \n",
       "3                      0              299.4               71   \n",
       "4                      0              166.7              113   \n",
       "\n",
       "   Total day charge  Total eve minutes  Total eve calls  Total eve charge  \\\n",
       "0             45.07              197.4               99             16.78   \n",
       "1             27.47              195.5              103             16.62   \n",
       "2             41.38              121.2              110             10.30   \n",
       "3             50.90               61.9               88              5.26   \n",
       "4             28.34              148.3              122             12.61   \n",
       "\n",
       "   Total night minutes  Total night calls  Total night charge  \\\n",
       "0                244.7                 91               11.01   \n",
       "1                254.4                103               11.45   \n",
       "2                162.6                104                7.32   \n",
       "3                196.9                 89                8.86   \n",
       "4                186.9                121                8.41   \n",
       "\n",
       "   Total intl minutes  Total intl calls  Total intl charge  \\\n",
       "0                10.0                 3               2.70   \n",
       "1                13.7                 3               3.70   \n",
       "2                12.2                 5               3.29   \n",
       "3                 6.6                 7               1.78   \n",
       "4                10.1                 3               2.73   \n",
       "\n",
       "   Customer service calls  \n",
       "0                       1  \n",
       "1                       1  \n",
       "2                       0  \n",
       "3                       2  \n",
       "4                       3  "
      ]
     },
     "execution_count": 53,
     "metadata": {},
     "output_type": "execute_result"
    }
   ],
   "source": [
    "X.head()"
   ]
  },
  {
   "cell_type": "code",
   "execution_count": 52,
   "metadata": {},
   "outputs": [],
   "source": [
    "from sklearn.tree import export_graphviz"
   ]
  },
  {
   "cell_type": "code",
   "execution_count": 54,
   "metadata": {},
   "outputs": [],
   "source": [
    "export_graphviz(decision_tree=best_tree.best_estimator_, out_file='tree.dot', filled=True, feature_names=X.columns)"
   ]
  },
  {
   "cell_type": "code",
   "execution_count": 55,
   "metadata": {
    "scrolled": true
   },
   "outputs": [
    {
     "name": "stdout",
     "output_type": "stream",
     "text": [
      "tree.dot\r\n"
     ]
    }
   ],
   "source": [
    "!ls *.dot"
   ]
  },
  {
   "cell_type": "markdown",
   "metadata": {},
   "source": [
    "Now that .dot file has been generated open it and copy the code \n",
    "\n",
    "Paste ut in [this](http://www.webgraphviz.com/) link or [this](http://sandbox.kidstrythisathome.com/erdos/) link to generate the image\n",
    "\n",
    "![](https://chart.googleapis.com/chart?chl=digraph+Tree+%7B%0D%0Anode+%5Bshape%3Dbox%2C+style%3D%22filled%22%2C+color%3D%22black%22%5D+%3B%0D%0A0+%5Blabel%3D%22Total+day+minutes+%3C%3D+264.45%5Cngini+%3D+0.255%5Cnsamples+%3D+2333%5Cnvalue+%3D+%5B1983%2C+350%5D%22%2C+fillcolor%3D%22%23e58139d2%22%5D+%3B%0D%0A1+%5Blabel%3D%22Customer+service+calls+%3C%3D+3.5%5Cngini+%3D+0.206%5Cnsamples+%3D+2182%5Cnvalue+%3D+%5B1927%2C+255%5D%22%2C+fillcolor%3D%22%23e58139dd%22%5D+%3B%0D%0A0+-%3E+1+%5Blabeldistance%3D2.5%2C+labelangle%3D45%2C+headlabel%3D%22True%22%5D+%3B%0D%0A2+%5Blabel%3D%22International+plan+%3C%3D+0.5%5Cngini+%3D+0.149%5Cnsamples+%3D+2004%5Cnvalue+%3D+%5B1842%2C+162%5D%22%2C+fillcolor%3D%22%23e58139e9%22%5D+%3B%0D%0A1+-%3E+2+%3B%0D%0A3+%5Blabel%3D%22Total+day+charge+%3C%3D+38.185%5Cngini+%3D+0.096%5Cnsamples+%3D+1828%5Cnvalue+%3D+%5B1736%2C+92%5D%22%2C+fillcolor%3D%22%23e58139f1%22%5D+%3B%0D%0A2+-%3E+3+%3B%0D%0A4+%5Blabel%3D%22Account+length+%3C%3D+224.5%5Cngini+%3D+0.056%5Cnsamples+%3D+1570%5Cnvalue+%3D+%5B1525%2C+45%5D%22%2C+fillcolor%3D%22%23e58139f7%22%5D+%3B%0D%0A3+-%3E+4+%3B%0D%0A5+%5Blabel%3D%22Total+eve+charge+%3C%3D+27.965%5Cngini+%3D+0.055%5Cnsamples+%3D+1568%5Cnvalue+%3D+%5B1524%2C+44%5D%22%2C+fillcolor%3D%22%23e58139f8%22%5D+%3B%0D%0A4+-%3E+5+%3B%0D%0A6+%5Blabel%3D%22gini+%3D+0.052%5Cnsamples+%3D+1560%5Cnvalue+%3D+%5B1518%2C+42%5D%22%2C+fillcolor%3D%22%23e58139f8%22%5D+%3B%0D%0A5+-%3E+6+%3B%0D%0A7+%5Blabel%3D%22gini+%3D+0.375%5Cnsamples+%3D+8%5Cnvalue+%3D+%5B6%2C+2%5D%22%2C+fillcolor%3D%22%23e58139aa%22%5D+%3B%0D%0A5+-%3E+7+%3B%0D%0A8+%5Blabel%3D%22gini+%3D+0.5%5Cnsamples+%3D+2%5Cnvalue+%3D+%5B1%2C+1%5D%22%2C+fillcolor%3D%22%23e5813900%22%5D+%3B%0D%0A4+-%3E+8+%3B%0D%0A9+%5Blabel%3D%22Total+eve+charge+%3C%3D+22.67%5Cngini+%3D+0.298%5Cnsamples+%3D+258%5Cnvalue+%3D+%5B211%2C+47%5D%22%2C+fillcolor%3D%22%23e58139c6%22%5D+%3B%0D%0A3+-%3E+9+%3B%0D%0A10+%5Blabel%3D%22Total+eve+minutes+%3C%3D+242.35%5Cngini+%3D+0.188%5Cnsamples+%3D+229%5Cnvalue+%3D+%5B205%2C+24%5D%22%2C+fillcolor%3D%22%23e58139e1%22%5D+%3B%0D%0A9+-%3E+10+%3B%0D%0A11+%5Blabel%3D%22gini+%3D+0.123%5Cnsamples+%3D+198%5Cnvalue+%3D+%5B185%2C+13%5D%22%2C+fillcolor%3D%22%23e58139ed%22%5D+%3B%0D%0A10+-%3E+11+%3B%0D%0A12+%5Blabel%3D%22gini+%3D+0.458%5Cnsamples+%3D+31%5Cnvalue+%3D+%5B20%2C+11%5D%22%2C+fillcolor%3D%22%23e5813973%22%5D+%3B%0D%0A10+-%3E+12+%3B%0D%0A13+%5Blabel%3D%22Voice+mail+plan+%3C%3D+0.5%5Cngini+%3D+0.328%5Cnsamples+%3D+29%5Cnvalue+%3D+%5B6%2C+23%5D%22%2C+fillcolor%3D%22%23399de5bc%22%5D+%3B%0D%0A9+-%3E+13+%3B%0D%0A14+%5Blabel%3D%22gini+%3D+0.08%5Cnsamples+%3D+24%5Cnvalue+%3D+%5B1%2C+23%5D%22%2C+fillcolor%3D%22%23399de5f4%22%5D+%3B%0D%0A13+-%3E+14+%3B%0D%0A15+%5Blabel%3D%22gini+%3D+0.0%5Cnsamples+%3D+5%5Cnvalue+%3D+%5B5%2C+0%5D%22%2C+fillcolor%3D%22%23e58139ff%22%5D+%3B%0D%0A13+-%3E+15+%3B%0D%0A16+%5Blabel%3D%22Total+intl+calls+%3C%3D+2.5%5Cngini+%3D+0.479%5Cnsamples+%3D+176%5Cnvalue+%3D+%5B106%2C+70%5D%22%2C+fillcolor%3D%22%23e5813957%22%5D+%3B%0D%0A2+-%3E+16+%3B%0D%0A17+%5Blabel%3D%22gini+%3D+0.0%5Cnsamples+%3D+39%5Cnvalue+%3D+%5B0%2C+39%5D%22%2C+fillcolor%3D%22%23399de5ff%22%5D+%3B%0D%0A16+-%3E+17+%3B%0D%0A18+%5Blabel%3D%22Total+intl+minutes+%3C%3D+13.1%5Cngini+%3D+0.35%5Cnsamples+%3D+137%5Cnvalue+%3D+%5B106%2C+31%5D%22%2C+fillcolor%3D%22%23e58139b4%22%5D+%3B%0D%0A16+-%3E+18+%3B%0D%0A19+%5Blabel%3D%22Total+eve+minutes+%3C%3D+324.85%5Cngini+%3D+0.086%5Cnsamples+%3D+111%5Cnvalue+%3D+%5B106%2C+5%5D%22%2C+fillcolor%3D%22%23e58139f3%22%5D+%3B%0D%0A18+-%3E+19+%3B%0D%0A20+%5Blabel%3D%22gini+%3D+0.054%5Cnsamples+%3D+108%5Cnvalue+%3D+%5B105%2C+3%5D%22%2C+fillcolor%3D%22%23e58139f8%22%5D+%3B%0D%0A19+-%3E+20+%3B%0D%0A21+%5Blabel%3D%22gini+%3D+0.444%5Cnsamples+%3D+3%5Cnvalue+%3D+%5B1%2C+2%5D%22%2C+fillcolor%3D%22%23399de57f%22%5D+%3B%0D%0A19+-%3E+21+%3B%0D%0A22+%5Blabel%3D%22gini+%3D+0.0%5Cnsamples+%3D+26%5Cnvalue+%3D+%5B0%2C+26%5D%22%2C+fillcolor%3D%22%23399de5ff%22%5D+%3B%0D%0A18+-%3E+22+%3B%0D%0A23+%5Blabel%3D%22Total+day+minutes+%3C%3D+159.9%5Cngini+%3D+0.499%5Cnsamples+%3D+178%5Cnvalue+%3D+%5B85%2C+93%5D%22%2C+fillcolor%3D%22%23399de516%22%5D+%3B%0D%0A1+-%3E+23+%3B%0D%0A24+%5Blabel%3D%22Total+eve+charge+%3C%3D+22.57%5Cngini+%3D+0.209%5Cnsamples+%3D+76%5Cnvalue+%3D+%5B9%2C+67%5D%22%2C+fillcolor%3D%22%23399de5dd%22%5D+%3B%0D%0A23+-%3E+24+%3B%0D%0A25+%5Blabel%3D%22Total+day+charge+%3C%3D+23.565%5Cngini+%3D+0.153%5Cnsamples+%3D+72%5Cnvalue+%3D+%5B6%2C+66%5D%22%2C+fillcolor%3D%22%23399de5e8%22%5D+%3B%0D%0A24+-%3E+25+%3B%0D%0A26+%5Blabel%3D%22gini+%3D+0.0%5Cnsamples+%3D+41%5Cnvalue+%3D+%5B0%2C+41%5D%22%2C+fillcolor%3D%22%23399de5ff%22%5D+%3B%0D%0A25+-%3E+26+%3B%0D%0A27+%5Blabel%3D%22Total+eve+minutes+%3C%3D+232.05%5Cngini+%3D+0.312%5Cnsamples+%3D+31%5Cnvalue+%3D+%5B6%2C+25%5D%22%2C+fillcolor%3D%22%23399de5c2%22%5D+%3B%0D%0A25+-%3E+27+%3B%0D%0A28+%5Blabel%3D%22gini+%3D+0.191%5Cnsamples+%3D+28%5Cnvalue+%3D+%5B3%2C+25%5D%22%2C+fillcolor%3D%22%23399de5e0%22%5D+%3B%0D%0A27+-%3E+28+%3B%0D%0A29+%5Blabel%3D%22gini+%3D+0.0%5Cnsamples+%3D+3%5Cnvalue+%3D+%5B3%2C+0%5D%22%2C+fillcolor%3D%22%23e58139ff%22%5D+%3B%0D%0A27+-%3E+29+%3B%0D%0A30+%5Blabel%3D%22Voice+mail+plan+%3C%3D+0.5%5Cngini+%3D+0.375%5Cnsamples+%3D+4%5Cnvalue+%3D+%5B3%2C+1%5D%22%2C+fillcolor%3D%22%23e58139aa%22%5D+%3B%0D%0A24+-%3E+30+%3B%0D%0A31+%5Blabel%3D%22gini+%3D+0.5%5Cnsamples+%3D+2%5Cnvalue+%3D+%5B1%2C+1%5D%22%2C+fillcolor%3D%22%23e5813900%22%5D+%3B%0D%0A30+-%3E+31+%3B%0D%0A32+%5Blabel%3D%22gini+%3D+0.0%5Cnsamples+%3D+2%5Cnvalue+%3D+%5B2%2C+0%5D%22%2C+fillcolor%3D%22%23e58139ff%22%5D+%3B%0D%0A30+-%3E+32+%3B%0D%0A33+%5Blabel%3D%22Total+eve+minutes+%3C%3D+155.5%5Cngini+%3D+0.38%5Cnsamples+%3D+102%5Cnvalue+%3D+%5B76%2C+26%5D%22%2C+fillcolor%3D%22%23e58139a8%22%5D+%3B%0D%0A23+-%3E+33+%3B%0D%0A34+%5Blabel%3D%22Total+day+charge+%3C%3D+34.36%5Cngini+%3D+0.461%5Cnsamples+%3D+25%5Cnvalue+%3D+%5B9%2C+16%5D%22%2C+fillcolor%3D%22%23399de570%22%5D+%3B%0D%0A33+-%3E+34+%3B%0D%0A35+%5Blabel%3D%22Total+night+charge+%3C%3D+10.58%5Cngini+%3D+0.231%5Cnsamples+%3D+15%5Cnvalue+%3D+%5B2%2C+13%5D%22%2C+fillcolor%3D%22%23399de5d8%22%5D+%3B%0D%0A34+-%3E+35+%3B%0D%0A36+%5Blabel%3D%22gini+%3D+0.0%5Cnsamples+%3D+11%5Cnvalue+%3D+%5B0%2C+11%5D%22%2C+fillcolor%3D%22%23399de5ff%22%5D+%3B%0D%0A35+-%3E+36+%3B%0D%0A37+%5Blabel%3D%22gini+%3D+0.5%5Cnsamples+%3D+4%5Cnvalue+%3D+%5B2%2C+2%5D%22%2C+fillcolor%3D%22%23e5813900%22%5D+%3B%0D%0A35+-%3E+37+%3B%0D%0A38+%5Blabel%3D%22Total+night+calls+%3C%3D+118.5%5Cngini+%3D+0.42%5Cnsamples+%3D+10%5Cnvalue+%3D+%5B7%2C+3%5D%22%2C+fillcolor%3D%22%23e5813992%22%5D+%3B%0D%0A34+-%3E+38+%3B%0D%0A39+%5Blabel%3D%22gini+%3D+0.219%5Cnsamples+%3D+8%5Cnvalue+%3D+%5B7%2C+1%5D%22%2C+fillcolor%3D%22%23e58139db%22%5D+%3B%0D%0A38+-%3E+39+%3B%0D%0A40+%5Blabel%3D%22gini+%3D+0.0%5Cnsamples+%3D+2%5Cnvalue+%3D+%5B0%2C+2%5D%22%2C+fillcolor%3D%22%23399de5ff%22%5D+%3B%0D%0A38+-%3E+40+%3B%0D%0A41+%5Blabel%3D%22Total+day+minutes+%3C%3D+173.65%5Cngini+%3D+0.226%5Cnsamples+%3D+77%5Cnvalue+%3D+%5B67%2C+10%5D%22%2C+fillcolor%3D%22%23e58139d9%22%5D+%3B%0D%0A33+-%3E+41+%3B%0D%0A42+%5Blabel%3D%22Total+eve+charge+%3C%3D+17.755%5Cngini+%3D+0.457%5Cnsamples+%3D+17%5Cnvalue+%3D+%5B11%2C+6%5D%22%2C+fillcolor%3D%22%23e5813974%22%5D+%3B%0D%0A41+-%3E+42+%3B%0D%0A43+%5Blabel%3D%22gini+%3D+0.245%5Cnsamples+%3D+7%5Cnvalue+%3D+%5B1%2C+6%5D%22%2C+fillcolor%3D%22%23399de5d4%22%5D+%3B%0D%0A42+-%3E+43+%3B%0D%0A44+%5Blabel%3D%22gini+%3D+0.0%5Cnsamples+%3D+10%5Cnvalue+%3D+%5B10%2C+0%5D%22%2C+fillcolor%3D%22%23e58139ff%22%5D+%3B%0D%0A42+-%3E+44+%3B%0D%0A45+%5Blabel%3D%22International+plan+%3C%3D+0.5%5Cngini+%3D+0.124%5Cnsamples+%3D+60%5Cnvalue+%3D+%5B56%2C+4%5D%22%2C+fillcolor%3D%22%23e58139ed%22%5D+%3B%0D%0A41+-%3E+45+%3B%0D%0A46+%5Blabel%3D%22gini+%3D+0.038%5Cnsamples+%3D+52%5Cnvalue+%3D+%5B51%2C+1%5D%22%2C+fillcolor%3D%22%23e58139fa%22%5D+%3B%0D%0A45+-%3E+46+%3B%0D%0A47+%5Blabel%3D%22gini+%3D+0.469%5Cnsamples+%3D+8%5Cnvalue+%3D+%5B5%2C+3%5D%22%2C+fillcolor%3D%22%23e5813966%22%5D+%3B%0D%0A45+-%3E+47+%3B%0D%0A48+%5Blabel%3D%22Number+vmail+messages+%3C%3D+6.5%5Cngini+%3D+0.467%5Cnsamples+%3D+151%5Cnvalue+%3D+%5B56%2C+95%5D%22%2C+fillcolor%3D%22%23399de569%22%5D+%3B%0D%0A0+-%3E+48+%5Blabeldistance%3D2.5%2C+labelangle%3D-45%2C+headlabel%3D%22False%22%5D+%3B%0D%0A49+%5Blabel%3D%22Total+eve+charge+%3C%3D+15.96%5Cngini+%3D+0.335%5Cnsamples+%3D+113%5Cnvalue+%3D+%5B24%2C+89%5D%22%2C+fillcolor%3D%22%23399de5ba%22%5D+%3B%0D%0A48+-%3E+49+%3B%0D%0A50+%5Blabel%3D%22Total+day+charge+%3C%3D+51.415%5Cngini+%3D+0.495%5Cnsamples+%3D+40%5Cnvalue+%3D+%5B22%2C+18%5D%22%2C+fillcolor%3D%22%23e581392e%22%5D+%3B%0D%0A49+-%3E+50+%3B%0D%0A51+%5Blabel%3D%22Total+night+minutes+%3C%3D+213.25%5Cngini+%3D+0.43%5Cnsamples+%3D+32%5Cnvalue+%3D+%5B22%2C+10%5D%22%2C+fillcolor%3D%22%23e581398b%22%5D+%3B%0D%0A50+-%3E+51+%3B%0D%0A52+%5Blabel%3D%22Account+length+%3C%3D+164.5%5Cngini+%3D+0.1%5Cnsamples+%3D+19%5Cnvalue+%3D+%5B18%2C+1%5D%22%2C+fillcolor%3D%22%23e58139f1%22%5D+%3B%0D%0A51+-%3E+52+%3B%0D%0A53+%5Blabel%3D%22gini+%3D+0.0%5Cnsamples+%3D+17%5Cnvalue+%3D+%5B17%2C+0%5D%22%2C+fillcolor%3D%22%23e58139ff%22%5D+%3B%0D%0A52+-%3E+53+%3B%0D%0A54+%5Blabel%3D%22gini+%3D+0.5%5Cnsamples+%3D+2%5Cnvalue+%3D+%5B1%2C+1%5D%22%2C+fillcolor%3D%22%23e5813900%22%5D+%3B%0D%0A52+-%3E+54+%3B%0D%0A55+%5Blabel%3D%22Total+eve+charge+%3C%3D+13.205%5Cngini+%3D+0.426%5Cnsamples+%3D+13%5Cnvalue+%3D+%5B4%2C+9%5D%22%2C+fillcolor%3D%22%23399de58e%22%5D+%3B%0D%0A51+-%3E+55+%3B%0D%0A56+%5Blabel%3D%22gini+%3D+0.0%5Cnsamples+%3D+4%5Cnvalue+%3D+%5B4%2C+0%5D%22%2C+fillcolor%3D%22%23e58139ff%22%5D+%3B%0D%0A55+-%3E+56+%3B%0D%0A57+%5Blabel%3D%22gini+%3D+0.0%5Cnsamples+%3D+9%5Cnvalue+%3D+%5B0%2C+9%5D%22%2C+fillcolor%3D%22%23399de5ff%22%5D+%3B%0D%0A55+-%3E+57+%3B%0D%0A58+%5Blabel%3D%22gini+%3D+0.0%5Cnsamples+%3D+8%5Cnvalue+%3D+%5B0%2C+8%5D%22%2C+fillcolor%3D%22%23399de5ff%22%5D+%3B%0D%0A50+-%3E+58+%3B%0D%0A59+%5Blabel%3D%22Total+night+minutes+%3C%3D+131.1%5Cngini+%3D+0.053%5Cnsamples+%3D+73%5Cnvalue+%3D+%5B2%2C+71%5D%22%2C+fillcolor%3D%22%23399de5f8%22%5D+%3B%0D%0A49+-%3E+59+%3B%0D%0A60+%5Blabel%3D%22gini+%3D+0.444%5Cnsamples+%3D+3%5Cnvalue+%3D+%5B2%2C+1%5D%22%2C+fillcolor%3D%22%23e581397f%22%5D+%3B%0D%0A59+-%3E+60+%3B%0D%0A61+%5Blabel%3D%22gini+%3D+0.0%5Cnsamples+%3D+70%5Cnvalue+%3D+%5B0%2C+70%5D%22%2C+fillcolor%3D%22%23399de5ff%22%5D+%3B%0D%0A59+-%3E+61+%3B%0D%0A62+%5Blabel%3D%22International+plan+%3C%3D+0.5%5Cngini+%3D+0.266%5Cnsamples+%3D+38%5Cnvalue+%3D+%5B32%2C+6%5D%22%2C+fillcolor%3D%22%23e58139cf%22%5D+%3B%0D%0A48+-%3E+62+%3B%0D%0A63+%5Blabel%3D%22Total+day+charge+%3C%3D+53.5%5Cngini+%3D+0.062%5Cnsamples+%3D+31%5Cnvalue+%3D+%5B30%2C+1%5D%22%2C+fillcolor%3D%22%23e58139f6%22%5D+%3B%0D%0A62+-%3E+63+%3B%0D%0A64+%5Blabel%3D%22gini+%3D+0.0%5Cnsamples+%3D+29%5Cnvalue+%3D+%5B29%2C+0%5D%22%2C+fillcolor%3D%22%23e58139ff%22%5D+%3B%0D%0A63+-%3E+64+%3B%0D%0A65+%5Blabel%3D%22gini+%3D+0.5%5Cnsamples+%3D+2%5Cnvalue+%3D+%5B1%2C+1%5D%22%2C+fillcolor%3D%22%23e5813900%22%5D+%3B%0D%0A63+-%3E+65+%3B%0D%0A66+%5Blabel%3D%22Total+eve+charge+%3C%3D+17.79%5Cngini+%3D+0.408%5Cnsamples+%3D+7%5Cnvalue+%3D+%5B2%2C+5%5D%22%2C+fillcolor%3D%22%23399de599%22%5D+%3B%0D%0A62+-%3E+66+%3B%0D%0A67+%5Blabel%3D%22gini+%3D+0.444%5Cnsamples+%3D+3%5Cnvalue+%3D+%5B2%2C+1%5D%22%2C+fillcolor%3D%22%23e581397f%22%5D+%3B%0D%0A66+-%3E+67+%3B%0D%0A68+%5Blabel%3D%22gini+%3D+0.0%5Cnsamples+%3D+4%5Cnvalue+%3D+%5B0%2C+4%5D%22%2C+fillcolor%3D%22%23399de5ff%22%5D+%3B%0D%0A66+-%3E+68+%3B%0D%0A%7D&cht=gv)"
   ]
  },
  {
   "cell_type": "markdown",
   "metadata": {},
   "source": [
    "### For visualizing we just fit a tree to a max_depth of 3\n",
    "\n"
   ]
  },
  {
   "cell_type": "code",
   "execution_count": 56,
   "metadata": {},
   "outputs": [],
   "source": [
    "tree_depth3 = DecisionTreeClassifier(max_depth=3, random_state=17).fit(X_train, y_train)"
   ]
  },
  {
   "cell_type": "code",
   "execution_count": 57,
   "metadata": {},
   "outputs": [],
   "source": [
    "export_graphviz(decision_tree=tree_depth3, out_file='tree_depth3.dot', filled=True, feature_names=X.columns)"
   ]
  },
  {
   "cell_type": "code",
   "execution_count": 61,
   "metadata": {},
   "outputs": [],
   "source": [
    "from io import StringIO\n",
    "import pydotplus\n",
    "from ipywidgets import Image"
   ]
  },
  {
   "cell_type": "code",
   "execution_count": 62,
   "metadata": {},
   "outputs": [
    {
     "data": {
      "application/vnd.jupyter.widget-view+json": {
       "model_id": "651d25680e06450a8e1b0d83399e5678",
       "version_major": 2,
       "version_minor": 0
      },
      "text/plain": [
       "A Jupyter Widget"
      ]
     },
     "metadata": {},
     "output_type": "display_data"
    }
   ],
   "source": [
    "dot_data = StringIO()\n",
    "\n",
    "# instead of exporting tree to .dot file we export it to a StringIO obj\n",
    "export_graphviz(decision_tree=tree_depth3, out_file=dot_data, filled=True, feature_names=X.columns)\n",
    "graph = pydotplus.graph_from_dot_data(dot_data.getvalue())\n",
    "Image(value = graph.create_png())"
   ]
  },
  {
   "cell_type": "markdown",
   "metadata": {},
   "source": [
    "- First feature is Total day mins\n",
    "\n",
    "- We compare it to some threshold\n",
    "\n",
    "- Tree uses gini criteria. 0 is perfect, something close to 1 is worse\n",
    "\n",
    "- Initially we had 2333 samples\n",
    "\n",
    "- Distribution (1983 loyal, 350 churn)\n",
    "\n",
    "- orange: more loyal customers, blue: more churn customers\n",
    "\n",
    "- we restricted depth, so they are not pure. So there is a mix of good and bad clients\n",
    "\n",
    "- For pred, if we follow the tree and end up, say in the 6th leaf from the left, we predict that client is bad \n",
    "\n",
    "- Intuitively, client uses the ph a lot (>264), does not have Voice mail plan, eve charge are pretty high (>16) they tend to churn\n",
    "\n",
    "- For this job DTs generally works v well ~94%. If we use RF the inc is not going to be that high, say around 96%\n",
    "\n",
    "- We have to rely on our business knowledge to understand if the gain in 2% is worth it or not\n",
    "\n",
    "- If there are lots of features DTs do not work v well. Linear models will be better\n"
   ]
  }
 ],
 "metadata": {
  "kernelspec": {
   "display_name": "Python 3",
   "language": "python",
   "name": "python3"
  },
  "language_info": {
   "codemirror_mode": {
    "name": "ipython",
    "version": 3
   },
   "file_extension": ".py",
   "mimetype": "text/x-python",
   "name": "python",
   "nbconvert_exporter": "python",
   "pygments_lexer": "ipython3",
   "version": "3.6.3"
  }
 },
 "nbformat": 4,
 "nbformat_minor": 2
}
