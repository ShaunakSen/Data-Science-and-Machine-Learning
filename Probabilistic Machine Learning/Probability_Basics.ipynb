{
 "cells": [
  {
   "cell_type": "markdown",
   "source": "## Probability for Machine Learning\n\n> Notes based on blog by Jason Brownlee: https://machinelearningmastery.com/bayes-theorem-for-machine-learning/\n\n---",
   "metadata": {
    "tags": [],
    "cell_id": "00000-5882e3fc-a9d8-4d68-8ff0-9436b3659b94",
    "deepnote_cell_type": "markdown"
   }
  },
  {
   "cell_type": "markdown",
   "source": "### Basic concepts\n<img src=\"https://i.imgur.com/l3GDwZR.jpeg\" width=\"600\" height=\"700\"/>\n<img src=\"https://i.imgur.com/eX5ELeX.jpeg\" width=\"600\" height=\"700\"/>\n",
   "metadata": {
    "tags": [],
    "cell_id": "00001-7b424c00-f42f-4d9b-8506-461e072756ac",
    "deepnote_cell_type": "markdown"
   }
  },
  {
   "cell_type": "markdown",
   "source": "### Worked Example for Calculating Bayes Theorem\n\n\nScenario: Consider a human population that may or may not have cancer (Cancer is True or False) and a medical test that returns positive or negative for detecting cancer (Test is Positive or Negative), e.g. like a mammogram for detecting breast cancer.\n\n<img src=\"https://i.imgur.com/MZ7lHIA.jpeg\" width=\"600\" height=\"800\"/>\n<img src=\"https://i.imgur.com/QdgcEA7.jpeg\" width=\"700\" height=\"400\"/>\n",
   "metadata": {
    "tags": [],
    "cell_id": "00002-02cdcf8d-c7d2-4d65-aecf-a8fd8f3af78f",
    "deepnote_cell_type": "markdown"
   }
  },
  {
   "cell_type": "markdown",
   "source": "The calculation suggests that if the patient is informed they have cancer with this test, then there is only 0.33% chance that they have cancer.\n\nThe example also shows that the calculation of the conditional probability requires enough information.\n\nFor example, if we have the values used in Bayes Theorem already, we can use them directly.\n\nThis is rarely the case, and we typically have to calculate the bits we need and plug them in, as we did in this case. In our scenario we were given 3 pieces of information, the the base rate (P(cancer)), the  sensitivity (or true positive rate - P(+ve | cancer)), and the specificity (or true negative rate - P(-ve|not cancer)).\n\n- Sensitivity: 85% of people with cancer will get a positive test result.\n- Base Rate: 0.02% of people have cancer.\n- Specificity: 95% of people without cancer will get a negative test result.\n",
   "metadata": {
    "tags": [],
    "cell_id": "00003-af9fab40-25a7-403f-9e78-98d38ae1d647",
    "deepnote_cell_type": "markdown"
   }
  },
  {
   "cell_type": "markdown",
   "source": "### Baye's Theorem in Python",
   "metadata": {
    "tags": [],
    "cell_id": "00004-6aaa1a91-832f-458e-a326-1196961ee942",
    "deepnote_cell_type": "markdown"
   }
  },
  {
   "cell_type": "code",
   "source": "#### A: cancer B: test; need P(A|B)\n\ndef bayes_theorem(p_a, p_b_given_a, p_not_b_given_not_a):\n    \"\"\"\n    Inputs:\n    p_a: base rate\n    p_b_given_a: TPR: sensitivity\n    p_not_b_given_not_a : TNR: specificity\n\n    Returns P(A|B)\n    \"\"\"\n\n    p_not_a = 1 - p_a\n    p_b_given_not_a = 1 - p_not_b_given_not_a\n\n    p_b = p_b_given_a * p_a + p_b_given_not_a*p_not_a\n\n    p_a_given_b = (p_b_given_a * p_a)/p_b\n\n    return p_a_given_b\n\np_a = 0.0002\np_b_given_a = 0.85\np_not_b_given_not_a = 0.95\n\nresult = bayes_theorem(p_a, p_b_given_a, p_not_b_given_not_a)\nprint('P(A|B) = %.3f%%' % (result * 100))",
   "metadata": {
    "tags": [],
    "cell_id": "00005-bc144ccf-6908-45b4-8b9a-d62fd28fe36e",
    "deepnote_to_be_reexecuted": false,
    "source_hash": "8da4f9ad",
    "execution_start": 1624089094010,
    "execution_millis": 5,
    "deepnote_cell_type": "code"
   },
   "outputs": [
    {
     "name": "stdout",
     "text": "P(A|B) = 0.339%\n",
     "output_type": "stream"
    }
   ],
   "execution_count": 1
  },
  {
   "cell_type": "code",
   "source": "",
   "metadata": {
    "tags": [],
    "cell_id": "00006-ed97acbe-b417-4b0f-b583-71cceef64328",
    "deepnote_cell_type": "code"
   },
   "outputs": [],
   "execution_count": null
  },
  {
   "cell_type": "markdown",
   "source": "<a style='text-decoration:none;line-height:16px;display:flex;color:#5B5B62;padding:10px;justify-content:end;' href='https://deepnote.com?utm_source=created-in-deepnote-cell&projectId=e3bd92dc-1f37-46e3-a6da-869792ce3a08' target=\"_blank\">\n<img alt='Created in deepnote.com' style='display:inline;max-height:16px;margin:0px;margin-right:7.5px;' src='data:image/svg+xml;base64,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' > </img>\nCreated in <span style='font-weight:600;margin-left:4px;'>Deepnote</span></a>",
   "metadata": {
    "tags": [],
    "created_in_deepnote_cell": true,
    "deepnote_cell_type": "markdown"
   }
  }
 ],
 "nbformat": 4,
 "nbformat_minor": 2,
 "metadata": {
  "orig_nbformat": 2,
  "deepnote": {
   "is_reactive": false
  },
  "deepnote_notebook_id": "34331d46-6792-4c4a-ae03-8a74115fb2c9",
  "deepnote_execution_queue": []
 }
}