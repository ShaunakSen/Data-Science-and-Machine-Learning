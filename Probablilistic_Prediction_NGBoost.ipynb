{
  "nbformat": 4,
  "nbformat_minor": 0,
  "metadata": {
    "colab": {
      "name": "Probablilistic Prediction - NGBoost.ipynb",
      "provenance": [],
      "collapsed_sections": [],
      "include_colab_link": true
    },
    "kernelspec": {
      "name": "python3",
      "display_name": "Python 3"
    }
  },
  "cells": [
    {
      "cell_type": "markdown",
      "metadata": {
        "id": "view-in-github",
        "colab_type": "text"
      },
      "source": [
        "<a href=\"https://colab.research.google.com/github/ShaunakSen/Data-Science-and-Machine-Learning/blob/master/Probablilistic_Prediction_NGBoost.ipynb\" target=\"_parent\"><img src=\"https://colab.research.google.com/assets/colab-badge.svg\" alt=\"Open In Colab\"/></a>"
      ]
    },
    {
      "cell_type": "markdown",
      "metadata": {
        "id": "QYFEC55cU8FL",
        "colab_type": "text"
      },
      "source": [
        "## NGBoost: Natural Gradient Boosting for Probabilistic Prediction\n",
        "\n",
        "[by Tony Duan*, Anand Avati*, Daisy Yi Ding, Sanjay Basu, Andrew Ng, Alejandro Schuler](https://stanfordmlgroup.github.io/projects/ngboost/)\n",
        "\n",
        "[article](https://towardsdatascience.com/interpreting-the-probabilistic-predictions-from-ngboost-868d6f3770b2)"
      ]
    },
    {
      "cell_type": "code",
      "metadata": {
        "id": "e-Sw4MHpUpDi",
        "colab_type": "code",
        "colab": {
          "base_uri": "https://localhost:8080/",
          "height": 701
        },
        "outputId": "a3ff8755-834b-433a-8369-6114a05b0cd7"
      },
      "source": [
        "!pip install --upgrade git+https://github.com/stanfordmlgroup/ngboost.git"
      ],
      "execution_count": 1,
      "outputs": [
        {
          "output_type": "stream",
          "text": [
            "Collecting git+https://github.com/stanfordmlgroup/ngboost.git\n",
            "  Cloning https://github.com/stanfordmlgroup/ngboost.git to /tmp/pip-req-build-23wledcl\n",
            "  Running command git clone -q https://github.com/stanfordmlgroup/ngboost.git /tmp/pip-req-build-23wledcl\n",
            "Requirement already satisfied, skipping upgrade: numpy>=1.17.2 in /usr/local/lib/python3.6/dist-packages (from ngboost==0.1.4) (1.17.5)\n",
            "Requirement already satisfied, skipping upgrade: scipy>=1.3.1 in /usr/local/lib/python3.6/dist-packages (from ngboost==0.1.4) (1.4.1)\n",
            "Requirement already satisfied, skipping upgrade: scikit-learn>=0.21.3 in /usr/local/lib/python3.6/dist-packages (from ngboost==0.1.4) (0.22.1)\n",
            "Collecting tqdm>=4.36.1\n",
            "\u001b[?25l  Downloading https://files.pythonhosted.org/packages/72/c9/7fc20feac72e79032a7c8138fd0d395dc6d8812b5b9edf53c3afd0b31017/tqdm-4.41.1-py2.py3-none-any.whl (56kB)\n",
            "\u001b[K     |████████████████████████████████| 61kB 3.1MB/s \n",
            "\u001b[?25hCollecting lifelines>=0.22.8\n",
            "\u001b[?25l  Downloading https://files.pythonhosted.org/packages/a5/8e/56c7d3bba5cf2f579a664c553900a2273802e0582bd4bdd809cdd6755b01/lifelines-0.23.6-py2.py3-none-any.whl (407kB)\n",
            "\u001b[K     |████████████████████████████████| 409kB 15.2MB/s \n",
            "\u001b[?25hRequirement already satisfied, skipping upgrade: joblib>=0.11 in /usr/local/lib/python3.6/dist-packages (from scikit-learn>=0.21.3->ngboost==0.1.4) (0.14.1)\n",
            "Requirement already satisfied, skipping upgrade: pandas>=0.23.0 in /usr/local/lib/python3.6/dist-packages (from lifelines>=0.22.8->ngboost==0.1.4) (0.25.3)\n",
            "Requirement already satisfied, skipping upgrade: matplotlib>=3.0 in /usr/local/lib/python3.6/dist-packages (from lifelines>=0.22.8->ngboost==0.1.4) (3.1.2)\n",
            "Requirement already satisfied, skipping upgrade: autograd>=1.3 in /usr/local/lib/python3.6/dist-packages (from lifelines>=0.22.8->ngboost==0.1.4) (1.3)\n",
            "Collecting autograd-gamma>=0.3\n",
            "  Downloading https://files.pythonhosted.org/packages/3e/87/788c4bf90cc5c534cb3b7fdb5b719175e33e2658decce75e35e2ce69766f/autograd_gamma-0.4.1-py2.py3-none-any.whl\n",
            "Requirement already satisfied, skipping upgrade: pytz>=2017.2 in /usr/local/lib/python3.6/dist-packages (from pandas>=0.23.0->lifelines>=0.22.8->ngboost==0.1.4) (2018.9)\n",
            "Requirement already satisfied, skipping upgrade: python-dateutil>=2.6.1 in /usr/local/lib/python3.6/dist-packages (from pandas>=0.23.0->lifelines>=0.22.8->ngboost==0.1.4) (2.6.1)\n",
            "Requirement already satisfied, skipping upgrade: pyparsing!=2.0.4,!=2.1.2,!=2.1.6,>=2.0.1 in /usr/local/lib/python3.6/dist-packages (from matplotlib>=3.0->lifelines>=0.22.8->ngboost==0.1.4) (2.4.6)\n",
            "Requirement already satisfied, skipping upgrade: kiwisolver>=1.0.1 in /usr/local/lib/python3.6/dist-packages (from matplotlib>=3.0->lifelines>=0.22.8->ngboost==0.1.4) (1.1.0)\n",
            "Requirement already satisfied, skipping upgrade: cycler>=0.10 in /usr/local/lib/python3.6/dist-packages (from matplotlib>=3.0->lifelines>=0.22.8->ngboost==0.1.4) (0.10.0)\n",
            "Requirement already satisfied, skipping upgrade: future>=0.15.2 in /usr/local/lib/python3.6/dist-packages (from autograd>=1.3->lifelines>=0.22.8->ngboost==0.1.4) (0.16.0)\n",
            "Requirement already satisfied, skipping upgrade: six>=1.5 in /usr/local/lib/python3.6/dist-packages (from python-dateutil>=2.6.1->pandas>=0.23.0->lifelines>=0.22.8->ngboost==0.1.4) (1.12.0)\n",
            "Requirement already satisfied, skipping upgrade: setuptools in /usr/local/lib/python3.6/dist-packages (from kiwisolver>=1.0.1->matplotlib>=3.0->lifelines>=0.22.8->ngboost==0.1.4) (42.0.2)\n",
            "Building wheels for collected packages: ngboost\n",
            "  Building wheel for ngboost (setup.py) ... \u001b[?25l\u001b[?25hdone\n",
            "  Created wheel for ngboost: filename=ngboost-0.1.4-cp36-none-any.whl size=28968 sha256=070c2adc85127c981609f128f58eb2313e137625707f933a8fe135cf5edf334e\n",
            "  Stored in directory: /tmp/pip-ephem-wheel-cache-7fghbr9e/wheels/6d/38/b0/7dc3b6546bf28b1cc407b44f75cbecf072fc2bae32e8f6a835\n",
            "Successfully built ngboost\n",
            "Installing collected packages: tqdm, autograd-gamma, lifelines, ngboost\n",
            "  Found existing installation: tqdm 4.28.1\n",
            "    Uninstalling tqdm-4.28.1:\n",
            "      Successfully uninstalled tqdm-4.28.1\n",
            "Successfully installed autograd-gamma-0.4.1 lifelines-0.23.6 ngboost-0.1.4 tqdm-4.41.1\n"
          ],
          "name": "stdout"
        },
        {
          "output_type": "display_data",
          "data": {
            "application/vnd.colab-display-data+json": {
              "pip_warning": {
                "packages": [
                  "tqdm"
                ]
              }
            }
          },
          "metadata": {
            "tags": []
          }
        }
      ]
    },
    {
      "cell_type": "code",
      "metadata": {
        "id": "317t0j3rVM75",
        "colab_type": "code",
        "colab": {}
      },
      "source": [
        "from ngboost import NGBRegressor\n",
        "\n",
        "from sklearn.datasets import load_boston\n",
        "from sklearn.model_selection import train_test_split\n",
        "from sklearn.metrics import mean_squared_error"
      ],
      "execution_count": 0,
      "outputs": []
    },
    {
      "cell_type": "code",
      "metadata": {
        "id": "oNiQxAljVTWT",
        "colab_type": "code",
        "colab": {
          "base_uri": "https://localhost:8080/",
          "height": 50
        },
        "outputId": "c0603a89-c03b-4b28-81ee-3c086cb56569"
      },
      "source": [
        "X, Y = load_boston(return_X_y=True)\n",
        "\n",
        "print (X.shape, Y.shape)\n",
        "\n",
        "X_train, X_test, Y_train, Y_test = train_test_split(X, Y, test_size=0.2)\n",
        "\n",
        "print (X_train.shape, X_test.shape, Y_train.shape, Y_test.shape)"
      ],
      "execution_count": 5,
      "outputs": [
        {
          "output_type": "stream",
          "text": [
            "(506, 13) (506,)\n",
            "(404, 13) (102, 13) (404,) (102,)\n"
          ],
          "name": "stdout"
        }
      ]
    },
    {
      "cell_type": "code",
      "metadata": {
        "id": "ouQ_KUddVfXs",
        "colab_type": "code",
        "colab": {
          "base_uri": "https://localhost:8080/",
          "height": 100
        },
        "outputId": "9aa3bb85-d7bb-4b33-808e-47e46423b094"
      },
      "source": [
        "ngb = NGBRegressor().fit(X_train, Y_train)"
      ],
      "execution_count": 6,
      "outputs": [
        {
          "output_type": "stream",
          "text": [
            "[iter 0] loss=3.5974 val_loss=0.0000 scale=0.5000 norm=3.2173\n",
            "[iter 100] loss=3.0258 val_loss=0.0000 scale=1.0000 norm=3.5887\n",
            "[iter 200] loss=2.3739 val_loss=0.0000 scale=2.0000 norm=3.8411\n",
            "[iter 300] loss=1.9809 val_loss=0.0000 scale=2.0000 norm=3.0917\n",
            "[iter 400] loss=1.8184 val_loss=0.0000 scale=1.0000 norm=1.4123\n"
          ],
          "name": "stdout"
        }
      ]
    },
    {
      "cell_type": "code",
      "metadata": {
        "id": "SJzHRpN8VkIj",
        "colab_type": "code",
        "colab": {
          "base_uri": "https://localhost:8080/",
          "height": 50
        },
        "outputId": "ef4430bf-b178-4daa-f5c7-d51800afe71e"
      },
      "source": [
        "Y_preds = ngb.predict(X_test)\n",
        "print (Y_preds.shape)\n",
        "\n",
        "Y_dists = ngb.pred_dist(X_test)\n",
        "print (Y_dists)"
      ],
      "execution_count": 8,
      "outputs": [
        {
          "output_type": "stream",
          "text": [
            "(102,)\n",
            "<ngboost.distns.normal.Normal object at 0x7fdb730348d0>\n"
          ],
          "name": "stdout"
        }
      ]
    },
    {
      "cell_type": "code",
      "metadata": {
        "id": "D236wWqnWlBn",
        "colab_type": "code",
        "colab": {
          "base_uri": "https://localhost:8080/",
          "height": 50
        },
        "outputId": "18a4b27b-6be3-452f-9703-a1aaace3eec9"
      },
      "source": [
        "# test Mean Squared Error\n",
        "test_MSE = mean_squared_error(Y_preds, Y_test)\n",
        "print('Test MSE', test_MSE)\n",
        "\n",
        "# test Negative Log Likelihood\n",
        "test_NLL = -Y_dists.logpdf(Y_test.flatten()).mean()\n",
        "print('Test NLL', test_NLL)"
      ],
      "execution_count": 12,
      "outputs": [
        {
          "output_type": "stream",
          "text": [
            "Test MSE 18.75183128890201\n",
            "Test NLL 4.9482649598617385\n"
          ],
          "name": "stdout"
        }
      ]
    },
    {
      "cell_type": "markdown",
      "metadata": {
        "id": "LclUJJepprp0",
        "colab_type": "text"
      },
      "source": [
        "To find the median of a distribution, we can use the percent point function ppf, which is the inverse of the cdf:\n",
        "\n",
        "- [from here](https://docs.scipy.org/doc/scipy/reference/tutorial/stats.html)"
      ]
    },
    {
      "cell_type": "code",
      "metadata": {
        "id": "XY1f6JVjY42w",
        "colab_type": "code",
        "colab": {
          "base_uri": "https://localhost:8080/",
          "height": 383
        },
        "outputId": "b84188c5-f8d7-4937-cee9-71976cfb84c4"
      },
      "source": [
        "print (type(Y_dists.dist))\n",
        "\n",
        "Y_dists.dist.ppf(0.5)"
      ],
      "execution_count": 32,
      "outputs": [
        {
          "output_type": "stream",
          "text": [
            "<class 'scipy.stats._distn_infrastructure.rv_frozen'>\n"
          ],
          "name": "stdout"
        },
        {
          "output_type": "execute_result",
          "data": {
            "text/plain": [
              "array([21.72825831, 15.54410556, 20.38922011, 20.41156068, 26.12046596,\n",
              "       23.14957797,  8.46899507, 37.44732939, 23.04267279, 15.87599073,\n",
              "       24.62382431, 15.47866909,  8.5290854 , 40.64048433, 16.8322865 ,\n",
              "       21.29569447, 27.2787986 , 15.0343379 , 15.12239093, 25.70018231,\n",
              "       16.478637  , 43.96227489, 14.36452463, 16.01983683, 16.32283119,\n",
              "       11.70507119, 19.19341592, 20.66641506, 33.27494618, 16.49127694,\n",
              "       25.00087217, 34.32202973, 21.11291837, 12.46654848, 10.50409889,\n",
              "        9.88669404, 45.30848307, 21.6108767 , 19.01225634, 19.93676444,\n",
              "       22.04976044, 23.10629344, 47.42229759, 21.16876433, 20.07038595,\n",
              "       19.73106263, 13.26867924, 44.01917015, 20.69665256, 15.68032965,\n",
              "       18.70953643, 24.7439399 , 44.85483777, 10.89654967, 11.85616995,\n",
              "       26.01056295, 22.63461401, 23.38867706, 22.39245795, 13.41065386,\n",
              "       15.81649381, 23.10967332, 41.77723496, 19.37421739, 20.9184772 ,\n",
              "       28.47108849, 48.80310534, 17.60671394,  9.4210476 , 35.76369153,\n",
              "       24.85069177, 48.78114478, 22.70456874, 16.77948124, 20.49816528,\n",
              "       10.66848414, 47.15184877, 20.65993166, 43.00511168, 26.9528239 ,\n",
              "       13.78329356, 24.33426972, 26.08372898, 22.4757835 , 27.1664628 ,\n",
              "       14.29961571, 35.09360605, 15.69551532, 42.69358297, 27.13993362,\n",
              "       30.76216884, 15.50256438, 22.65181475, 20.27597707, 16.00007082,\n",
              "       20.50508998, 18.85854139, 23.07806808, 34.70009832, 21.3933013 ,\n",
              "       13.07625017, 19.40395193])"
            ]
          },
          "metadata": {
            "tags": []
          },
          "execution_count": 32
        }
      ]
    },
    {
      "cell_type": "code",
      "metadata": {
        "id": "SVfVHnDlZthh",
        "colab_type": "code",
        "colab": {
          "base_uri": "https://localhost:8080/",
          "height": 366
        },
        "outputId": "b0cdd30e-c95d-4089-9afa-ce93b9bd3a79"
      },
      "source": [
        "Y_preds"
      ],
      "execution_count": 22,
      "outputs": [
        {
          "output_type": "execute_result",
          "data": {
            "text/plain": [
              "array([21.72825831, 15.54410556, 20.38922011, 20.41156068, 26.12046596,\n",
              "       23.14957797,  8.46899507, 37.44732939, 23.04267279, 15.87599073,\n",
              "       24.62382431, 15.47866909,  8.5290854 , 40.64048433, 16.8322865 ,\n",
              "       21.29569447, 27.2787986 , 15.0343379 , 15.12239093, 25.70018231,\n",
              "       16.478637  , 43.96227489, 14.36452463, 16.01983683, 16.32283119,\n",
              "       11.70507119, 19.19341592, 20.66641506, 33.27494618, 16.49127694,\n",
              "       25.00087217, 34.32202973, 21.11291837, 12.46654848, 10.50409889,\n",
              "        9.88669404, 45.30848307, 21.6108767 , 19.01225634, 19.93676444,\n",
              "       22.04976044, 23.10629344, 47.42229759, 21.16876433, 20.07038595,\n",
              "       19.73106263, 13.26867924, 44.01917015, 20.69665256, 15.68032965,\n",
              "       18.70953643, 24.7439399 , 44.85483777, 10.89654967, 11.85616995,\n",
              "       26.01056295, 22.63461401, 23.38867706, 22.39245795, 13.41065386,\n",
              "       15.81649381, 23.10967332, 41.77723496, 19.37421739, 20.9184772 ,\n",
              "       28.47108849, 48.80310534, 17.60671394,  9.4210476 , 35.76369153,\n",
              "       24.85069177, 48.78114478, 22.70456874, 16.77948124, 20.49816528,\n",
              "       10.66848414, 47.15184877, 20.65993166, 43.00511168, 26.9528239 ,\n",
              "       13.78329356, 24.33426972, 26.08372898, 22.4757835 , 27.1664628 ,\n",
              "       14.29961571, 35.09360605, 15.69551532, 42.69358297, 27.13993362,\n",
              "       30.76216884, 15.50256438, 22.65181475, 20.27597707, 16.00007082,\n",
              "       20.50508998, 18.85854139, 23.07806808, 34.70009832, 21.3933013 ,\n",
              "       13.07625017, 19.40395193])"
            ]
          },
          "metadata": {
            "tags": []
          },
          "execution_count": 22
        }
      ]
    }
  ]
}