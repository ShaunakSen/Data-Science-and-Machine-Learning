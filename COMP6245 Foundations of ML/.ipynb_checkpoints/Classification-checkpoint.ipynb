{
 "cells": [
  {
   "cell_type": "markdown",
   "metadata": {},
   "source": [
    "## Classification\n",
    "\n",
    "\n",
    "### 3.1 Data 1: separate 2 Gaussians\n",
    "\n",
    "Generating data\n",
    "\n",
    "mu1 = (0, 0)\n",
    "mu2 = (1, 1)\n",
    "\n",
    "cov1 = cov2 = \\begin{bmatrix}1\\quad 0\\\\0\\quad 1\\end{bmatrix}"
   ]
  },
  {
   "cell_type": "code",
   "execution_count": 1,
   "metadata": {},
   "outputs": [
    {
     "name": "stdout",
     "output_type": "stream",
     "text": [
      "(2, 20)\n"
     ]
    }
   ],
   "source": [
    "import numpy as np\n",
    "from matplotlib import pyplot\n",
    "from plotnine import *\n",
    "%matplotlib inline\n",
    "import matplotlib.pyplot as plt\n",
    "\n",
    "np.random.seed(42)\n",
    "\n",
    "mu_vec1 = np.array([0, 0])\n",
    "\n",
    "mu_vec2 = np.array([1, 1])\n",
    "\n",
    "cov_mat1 = np.array([[1,0],[0,1]])\n",
    "\n",
    "cov_mat2 = np.array([[1,0],[0,1]])\n",
    "\n",
    "# Draw random samples from a multivariate normal distribution \n",
    "\n",
    "\n",
    "class1_sample = np.random.multivariate_normal(mu_vec1, cov_mat1, 20).T\n",
    "class2_sample = np.random.multivariate_normal(mu_vec2, cov_mat2, 20).T\n",
    "\n",
    "\n",
    "print (class1_sample.shape)\n"
   ]
  },
  {
   "cell_type": "markdown",
   "metadata": {},
   "source": [
    "### Just to get a rough idea how the samples of our two classes a and b are distributed, let us plot them in a 3D scatter plot."
   ]
  },
  {
   "cell_type": "code",
   "execution_count": 2,
   "metadata": {},
   "outputs": [],
   "source": [
    "from plotnine import *\n",
    "%matplotlib inline\n",
    "import matplotlib.pyplot as plt"
   ]
  },
  {
   "cell_type": "code",
   "execution_count": 3,
   "metadata": {},
   "outputs": [
    {
     "data": {
      "image/png": "[encoded data removed]",
      "text/plain": [
       "<Figure size 576x576 with 1 Axes>"
      ]
     },
     "metadata": {},
     "output_type": "display_data"
    }
   ],
   "source": [
    "fig = plt.figure(figsize=(8,8))\n",
    "ax = fig.add_subplot(111)\n",
    "plt.rcParams['legend.fontsize'] = 10   \n",
    "\n",
    "ax.plot(class1_sample[0,:], class1_sample[1,:],\n",
    "        'o', markersize=8, color='blue', alpha=0.5, label='class1')\n",
    "ax.plot(class2_sample[0,:], class2_sample[1,:],\n",
    "        '^', markersize=8, alpha=0.5, color='red', label='class2')\n",
    "\n",
    "plt.title('Samples for class 1 and class 2')\n",
    "ax.legend(loc='upper right')\n",
    "\n",
    "plt.show()"
   ]
  },
  {
   "cell_type": "markdown",
   "metadata": {},
   "source": [
    "### Computing the mean of each class\n",
    "\n",
    "mean vector for each class will be a 2x1 vector"
   ]
  },
  {
   "cell_type": "code",
   "execution_count": 4,
   "metadata": {},
   "outputs": [
    {
     "name": "stdout",
     "output_type": "stream",
     "text": [
      "[-0.17610301 -0.26117067] [ 0.8299379   1.11197517]\n"
     ]
    }
   ],
   "source": [
    "mean_class1_x = np.mean(class1_sample[0])\n",
    "mean_class1_y = np.mean(class1_sample[1])\n",
    "\n",
    "mean_class1 = np.array([mean_class1_x, mean_class1_y])\n",
    "\n",
    "mean_class2_x = np.mean(class2_sample[0])\n",
    "mean_class2_y = np.mean(class2_sample[1])\n",
    "\n",
    "mean_class2 = np.array([mean_class2_x, mean_class2_y])\n",
    "\n",
    "print (mean_class1, mean_class2)"
   ]
  },
  {
   "cell_type": "markdown",
   "metadata": {},
   "source": [
    "Random vector w = [-0.5, 1.5]"
   ]
  },
  {
   "cell_type": "code",
   "execution_count": 5,
   "metadata": {},
   "outputs": [
    {
     "data": {
      "text/plain": [
       "[<matplotlib.lines.Line2D at 0x7f7084249da0>]"
      ]
     },
     "execution_count": 5,
     "metadata": {},
     "output_type": "execute_result"
    },
    {
     "data": {
      "image/png": "[encoded data removed]",
      "text/plain": [
       "<Figure size 432x288 with 1 Axes>"
      ]
     },
     "metadata": {},
     "output_type": "display_data"
    }
   ],
   "source": [
    "fig = plt.figure()\n",
    "ax = plt.axes()\n",
    "\n",
    "plt.plot([0, -0.5], [0, 1.5], 'go-', label='line 1', linewidth=2)\n"
   ]
  },
  {
   "cell_type": "markdown",
   "metadata": {},
   "source": [
    "### Choices of w"
   ]
  },
  {
   "cell_type": "code",
   "execution_count": 6,
   "metadata": {},
   "outputs": [],
   "source": [
    "def compute_projections_and_plot(w):\n",
    "    Y_first_class = w.reshape(1, 2).dot(class1_sample)\n",
    "    Y_second_class = w.reshape(1, 2).dot(class2_sample)\n",
    "    pyplot.hist(Y_first_class[0],  alpha=0.5, label='class 1')\n",
    "    pyplot.hist(Y_second_class[0],  alpha=0.5, label='class 2')\n",
    "    pyplot.legend(loc='upper right')\n",
    "    pyplot.title(\"Plot for choice of w as: \"+str(w))\n",
    "    pyplot.show()"
   ]
  },
  {
   "cell_type": "code",
   "execution_count": 7,
   "metadata": {
    "scrolled": false
   },
   "outputs": [
    {
     "data": {
      "image/png": "[encoded data removed]",
      "text/plain": [
       "<Figure size 432x288 with 1 Axes>"
      ]
     },
     "metadata": {},
     "output_type": "display_data"
    },
    {
     "data": {
      "image/png": "[encoded data removed]",
      "text/plain": [
       "<Figure size 432x288 with 1 Axes>"
      ]
     },
     "metadata": {},
     "output_type": "display_data"
    }
   ],
   "source": [
    "# [1, 1] [-1, 1] [-1, -1], [1, -1]\n",
    "\n",
    "choices_of_w = [[1, 1], [-1, 1]]\n",
    "\n",
    "for choice in choices_of_w:\n",
    "    w = np.array(choice)\n",
    "    compute_projections_and_plot(w)\n",
    "    \n",
    "\n"
   ]
  },
  {
   "cell_type": "markdown",
   "metadata": {},
   "source": [
    "It is clear that when the wt vector lies in 2nd or 3rd quad, there is a lot of overlap\n",
    "\n",
    "Now we try various combinations in 1st or 4th quad"
   ]
  },
  {
   "cell_type": "code",
   "execution_count": 8,
   "metadata": {},
   "outputs": [
    {
     "data": {
      "image/png": "[encoded data removed]",
      "text/plain": [
       "<Figure size 432x288 with 1 Axes>"
      ]
     },
     "metadata": {},
     "output_type": "display_data"
    },
    {
     "data": {
      "image/png": "[encoded data removed]",
      "text/plain": [
       "<Figure size 432x288 with 1 Axes>"
      ]
     },
     "metadata": {},
     "output_type": "display_data"
    },
    {
     "data": {
      "image/png": "[encoded data removed]",
      "text/plain": [
       "<Figure size 432x288 with 1 Axes>"
      ]
     },
     "metadata": {},
     "output_type": "display_data"
    }
   ],
   "source": [
    "choices_of_w = [[100, 1], [1, 100], [1,1]]\n",
    "\n",
    "for choice in choices_of_w:\n",
    "    w = np.array(choice)\n",
    "    compute_projections_and_plot(w)\n",
    "    "
   ]
  },
  {
   "cell_type": "markdown",
   "metadata": {},
   "source": [
    "It seems as if when x and y are similar there is best separation"
   ]
  },
  {
   "cell_type": "markdown",
   "metadata": {},
   "source": [
    "### Y = W.x: computing the projections"
   ]
  },
  {
   "cell_type": "code",
   "execution_count": 9,
   "metadata": {
    "scrolled": true
   },
   "outputs": [
    {
     "name": "stdout",
     "output_type": "stream",
     "text": [
      "(1, 2)\n"
     ]
    },
    {
     "data": {
      "text/plain": [
       "array([ 2.90983486,  1.58324802, -0.1983662 ,  2.59648346,  0.58057813,\n",
       "        1.93900169,  1.93475429,  3.96227964,  0.8515701 ,  3.30680856,\n",
       "        1.33516679, -0.3025416 ,  4.16876585,  2.93152278,  1.71651627,\n",
       "        3.89943217,  3.52881762,  0.2021574 ,  1.78803972,  0.10419186])"
      ]
     },
     "execution_count": 9,
     "metadata": {},
     "output_type": "execute_result"
    }
   ],
   "source": [
    "w = np.array([[1, 1]])\n",
    "print(w.shape)\n",
    "Y_first_class = w.reshape(1, 2).dot(class1_sample)\n",
    "\n",
    "Y_first_class\n",
    "\n",
    "Y_second_class = w.reshape(1, 2).dot(class2_sample)\n",
    "\n",
    "Y_second_class[0]"
   ]
  },
  {
   "cell_type": "code",
   "execution_count": 10,
   "metadata": {
    "scrolled": false
   },
   "outputs": [
    {
     "data": {
      "image/png": "[encoded data removed]",
      "text/plain": [
       "<Figure size 432x288 with 1 Axes>"
      ]
     },
     "metadata": {},
     "output_type": "display_data"
    }
   ],
   "source": [
    "\n",
    "\n",
    "pyplot.hist(Y_first_class[0],  alpha=0.5, label='class 1')\n",
    "pyplot.hist(Y_second_class[0],  alpha=0.5, label='class 2')\n",
    "pyplot.legend(loc='upper right')\n",
    "pyplot.show()"
   ]
  },
  {
   "cell_type": "markdown",
   "metadata": {},
   "source": [
    "We know:\n",
    "\n",
    "$$\\frac{1}{n_{c}}\\sum_{n} w^{T}x^{n} = w^{T}\\frac{1}{n_{c}}\\sum_{n} x^{n} = w^{T}\\mu_{c} = m_{c}$$\n",
    "\n",
    "Also\n",
    "\n",
    "$$\\frac{1}{n_{c}}\\sum_{n} w^{T}x^{n} = \\frac{1}{n_{c}}\\sum_{n} y^{n} = m_{c}$$\n"
   ]
  },
  {
   "cell_type": "code",
   "execution_count": 11,
   "metadata": {
    "scrolled": true
   },
   "outputs": [
    {
     "name": "stdout",
     "output_type": "stream",
     "text": [
      "-0.437273676836\n"
     ]
    }
   ],
   "source": [
    "mean_class1_red = np.mean(Y_first_class)\n",
    "\n",
    "mean_class2_red = np.mean(Y_second_class)\n",
    "\n",
    "print (mean_class1_red)"
   ]
  },
  {
   "cell_type": "code",
   "execution_count": 12,
   "metadata": {
    "scrolled": true
   },
   "outputs": [
    {
     "data": {
      "text/plain": [
       "array([[-0.43727368]])"
      ]
     },
     "execution_count": 12,
     "metadata": {},
     "output_type": "execute_result"
    }
   ],
   "source": [
    "w.reshape(1,2).dot(mean_class1.reshape(2,1))"
   ]
  },
  {
   "cell_type": "markdown",
   "metadata": {},
   "source": [
    "### Computing std devs for projected data for each class\n",
    "\n",
    "- Insert eqn"
   ]
  },
  {
   "cell_type": "code",
   "execution_count": 13,
   "metadata": {},
   "outputs": [
    {
     "data": {
      "text/plain": [
       "1.9617123683811037"
      ]
     },
     "execution_count": 13,
     "metadata": {},
     "output_type": "execute_result"
    }
   ],
   "source": [
    "s_class1_sq = ((Y_first_class - mean_class1_red).dot((Y_first_class - mean_class1_red).T)/20)[0][0]\n",
    "\n",
    "s_class1_sq\n",
    "\n",
    "s_class2_sq = ((Y_second_class - mean_class2_red).dot((Y_second_class - mean_class2_red).T)/20)[0][0]\n",
    "\n",
    "s_class2_sq"
   ]
  },
  {
   "cell_type": "code",
   "execution_count": 14,
   "metadata": {},
   "outputs": [
    {
     "data": {
      "text/plain": [
       "array([[ 33.68743401]])"
      ]
     },
     "execution_count": 14,
     "metadata": {},
     "output_type": "execute_result"
    }
   ],
   "source": [
    "w.reshape(2,1).T.dot((class1_sample - mean_class1.reshape(2, 1)).dot((class1_sample - mean_class1.reshape(2, 1)).T.dot(w.reshape(2, 1))))"
   ]
  },
  {
   "cell_type": "markdown",
   "metadata": {},
   "source": [
    "### Computing Fisher Ratio F(w)\n",
    "\n",
    "$$F(w) = \\frac{(m_{a} + m_{b})^{2}}{\\frac{n_{a}}{n_{a} + n_{b}}s_{a}^{2} + \\frac{n_{b}}{n_{a} + n_{b}}s_{b}^{2}}$$"
   ]
  },
  {
   "cell_type": "code",
   "execution_count": 15,
   "metadata": {},
   "outputs": [
    {
     "data": {
      "text/plain": [
       "20"
      ]
     },
     "execution_count": 15,
     "metadata": {},
     "output_type": "execute_result"
    }
   ],
   "source": [
    "len(class1_sample[0])"
   ]
  },
  {
   "cell_type": "code",
   "execution_count": 16,
   "metadata": {},
   "outputs": [
    {
     "name": "stdout",
     "output_type": "stream",
     "text": [
      "w:  [[1 1]]\n",
      "w:  [[1 1]]\n"
     ]
    },
    {
     "data": {
      "text/plain": [
       "0.62092361602911406"
      ]
     },
     "execution_count": 16,
     "metadata": {},
     "output_type": "execute_result"
    }
   ],
   "source": [
    "w = np.array([[1,1]]) # 1.2418472320582281 for [1,1]\n",
    "\n",
    "def FisherScore(w):\n",
    "    \n",
    "    print (\"w: \", w)\n",
    "    \n",
    "    Y_first_class = w.reshape(1, 2).dot(class1_sample)\n",
    "    Y_second_class = w.reshape(1, 2).dot(class2_sample)\n",
    "    \n",
    "    mean_class1_red = np.mean(Y_first_class)\n",
    "    mean_class2_red = np.mean(Y_second_class)\n",
    "    \n",
    "    n_a = len(class1_sample[0])\n",
    "    n_b = len(class2_sample[0])\n",
    "\n",
    "\n",
    "    s_class1_sq = ((Y_first_class - mean_class1_red).dot((Y_first_class - mean_class1_red).T)/n_a)[0][0]\n",
    "    s_class2_sq = ((Y_second_class - mean_class2_red).dot((Y_second_class - mean_class2_red).T)/n_b)[0][0]\n",
    "\n",
    "    \n",
    "    F_numerator = (mean_class1_red + mean_class2_red)**2\n",
    "\n",
    "    F_denominator = (n_a/(n_a + n_b))*s_class1_sq + (n_a/(n_a + n_b))*s_class2_sq\n",
    "\n",
    "    F = F_numerator/F_denominator\n",
    "\n",
    "    return F\n",
    "\n",
    "def FisherScore_unbalanced(w):\n",
    "    \n",
    "    print (\"w: \", w)\n",
    "    \n",
    "    Y_first_class = w.reshape(1, 2).dot(class1_sample)\n",
    "    Y_second_class = w.reshape(1, 2).dot(class2_sample)\n",
    "    \n",
    "    mean_class1_red = np.mean(Y_first_class)\n",
    "    mean_class2_red = np.mean(Y_second_class)\n",
    "    \n",
    "    n_a = len(class1_sample[0])\n",
    "    n_b = len(class2_sample[0])\n",
    "\n",
    "\n",
    "    s_class1_sq = ((Y_first_class - mean_class1_red).dot((Y_first_class - mean_class1_red).T)/n_a)[0][0]\n",
    "    s_class2_sq = ((Y_second_class - mean_class2_red).dot((Y_second_class - mean_class2_red).T)/n_b)[0][0]\n",
    "\n",
    "    \n",
    "    F_numerator = (mean_class1_red + mean_class2_red)**2\n",
    "\n",
    "    F_denominator = s_class1_sq + s_class2_sq\n",
    "\n",
    "    F = F_numerator/F_denominator\n",
    "\n",
    "    return F\n",
    "\n",
    "FisherScore(w)\n",
    "\n",
    "FisherScore_unbalanced(w)"
   ]
  },
  {
   "cell_type": "markdown",
   "metadata": {},
   "source": [
    "### w(θ) = R(θ)w(0) "
   ]
  },
  {
   "cell_type": "code",
   "execution_count": 17,
   "metadata": {
    "scrolled": false
   },
   "outputs": [
    {
     "name": "stdout",
     "output_type": "stream",
     "text": [
      "0.7853981633974483\n",
      "w:  [[  1.11022302e-16]\n",
      " [  1.41421356e+00]]\n",
      "1.5707963267948966\n",
      "w:  [[-1.]\n",
      " [ 1.]]\n",
      "2.356194490192345\n",
      "w:  [[ -1.41421356e+00]\n",
      " [  1.11022302e-16]]\n",
      "3.141592653589793\n",
      "w:  [[-1.]\n",
      " [-1.]]\n",
      "3.9269908169872414\n",
      "w:  [[ -2.22044605e-16]\n",
      " [ -1.41421356e+00]]\n",
      "4.71238898038469\n",
      "w:  [[ 1.]\n",
      " [-1.]]\n",
      "5.497787143782138\n",
      "w:  [[  1.41421356e+00]\n",
      " [ -3.33066907e-16]]\n",
      "6.283185307179586\n",
      "w:  [[ 1.]\n",
      " [ 1.]]\n",
      "[0.69359793091355593, 0.022571117390313974, 0.5877759542567782, 1.2418472320582283, 0.6935979309135567, 0.022571117390314008, 0.58777595425677798, 1.2418472320582279]\n",
      "[0.7853981633974483, 1.5707963267948966, 2.356194490192345, 3.141592653589793, 3.9269908169872414, 4.71238898038469, 5.497787143782138, 6.283185307179586]\n"
     ]
    }
   ],
   "source": [
    "w = np.array([[1,1]])\n",
    "\n",
    "thetas = [np.pi/4, 2*np.pi/4, 3*np.pi/4, 4*np.pi/4, 5*np.pi/4, 6*np.pi/4, 7*np.pi/4, 8*np.pi/4]\n",
    "\n",
    "FisherScores = []\n",
    "\n",
    "for theta in thetas:\n",
    "    w = np.array([[1,1]])\n",
    "    R = np.array([[np.cos(theta), -np.sin(theta)], [np.sin(theta), np.cos(theta)]])\n",
    "    w = R.dot(w.reshape(2,1))\n",
    "    print (theta)\n",
    "    FisherScores.append(FisherScore(w))\n",
    "\n",
    "\n",
    "print (FisherScores)\n",
    "\n",
    "print(thetas)"
   ]
  },
  {
   "cell_type": "code",
   "execution_count": 18,
   "metadata": {
    "scrolled": false
   },
   "outputs": [
    {
     "data": {
      "text/plain": [
       "Text(0, 0.5, 'F(w)')"
      ]
     },
     "execution_count": 18,
     "metadata": {},
     "output_type": "execute_result"
    },
    {
     "data": {
      "image/png": "[encoded data removed]",
      "text/plain": [
       "<Figure size 432x288 with 1 Axes>"
      ]
     },
     "metadata": {},
     "output_type": "display_data"
    }
   ],
   "source": [
    "plt.scatter(thetas, FisherScores)\n",
    "\n",
    "plt.title(\"Fisher ratio for various theta\")\n",
    "plt.xlabel(\"theta\")\n",
    "plt.ylabel(\"F(w)\")"
   ]
  },
  {
   "cell_type": "markdown",
   "metadata": {},
   "source": [
    "Best value of F occurs of theta = pi and theta = 2pi"
   ]
  },
  {
   "cell_type": "markdown",
   "metadata": {},
   "source": [
    "Compute the line"
   ]
  },
  {
   "cell_type": "markdown",
   "metadata": {},
   "source": [
    "### Compute logodds for each point"
   ]
  },
  {
   "cell_type": "code",
   "execution_count": null,
   "metadata": {},
   "outputs": [],
   "source": []
  },
  {
   "cell_type": "code",
   "execution_count": 25,
   "metadata": {},
   "outputs": [],
   "source": [
    "class1_sample = np.random.multivariate_normal(mu_vec1, cov_mat1, 100).T\n",
    "class2_sample = np.random.multivariate_normal(mu_vec2, cov_mat2, 100).T"
   ]
  },
  {
   "cell_type": "code",
   "execution_count": 26,
   "metadata": {},
   "outputs": [
    {
     "data": {
      "text/plain": [
       "array([[ -1.27917591e-01,  -9.55540441e-01],\n",
       "       [ -1.60644632e+00,   2.03463636e-01],\n",
       "       [ -7.56350745e-01,  -1.42225371e+00],\n",
       "       [ -6.46572884e-01,  -1.08154800e+00],\n",
       "       [  1.68714164e+00,   8.81639757e-01],\n",
       "       [ -7.97264132e-03,   1.47994414e+00],\n",
       "       [  7.73683076e-02,  -8.61284201e-01],\n",
       "       [  1.52312408e+00,   5.38910044e-01],\n",
       "       [ -1.03724615e+00,  -1.90338678e-01],\n",
       "       [ -8.75618253e-01,  -1.38279973e+00],\n",
       "       [  9.26177548e-01,   1.90941664e+00],\n",
       "       [ -1.39856757e+00,   5.62969237e-01],\n",
       "       [ -6.50642569e-01,  -4.87125384e-01],\n",
       "       [ -5.92393924e-01,  -8.63990770e-01],\n",
       "       [  4.85216279e-02,  -8.30950116e-01],\n",
       "       [  2.70456826e-01,  -5.02381094e-02],\n",
       "       [ -2.38948047e-01,  -9.07563662e-01],\n",
       "       [ -5.76771331e-01,   7.55391226e-01],\n",
       "       [  5.00917188e-01,  -9.77555245e-01],\n",
       "       [  9.93323054e-02,   7.51387123e-01],\n",
       "       [ -1.66940528e+00,   5.43360192e-01],\n",
       "       [ -6.62623759e-01,   5.70598669e-01],\n",
       "       [ -7.63259157e-01,  -1.80488210e+00],\n",
       "       [ -1.62754244e+00,   4.80849467e-02],\n",
       "       [  2.59722502e-01,  -9.04316625e-01],\n",
       "       [  6.38592459e-01,  -1.66152006e+00],\n",
       "       [ -6.60797986e-02,  -1.21101620e+00],\n",
       "       [ -6.51836108e-01,   4.73986713e-02],\n",
       "       [ -8.60413365e-01,  -3.84555544e-01],\n",
       "       [  1.00629281e+00,  -5.76891870e-01],\n",
       "       [  8.35692112e-01,  -1.12970685e+00],\n",
       "       [  5.29804178e-01,   1.44156862e+00],\n",
       "       [ -2.47164450e+00,  -7.96895255e-01],\n",
       "       [  5.77072127e-01,  -2.03045386e-01],\n",
       "       [  3.71145873e-01,  -6.03985187e-01],\n",
       "       [  8.65897875e-02,  -1.55677235e-01],\n",
       "       [  1.16778206e+00,   2.54420843e-01],\n",
       "       [  3.37602662e-01,  -4.11876966e-01],\n",
       "       [ -4.87606224e-01,  -4.32558188e-01],\n",
       "       [  3.94452142e-01,  -4.20984481e-01],\n",
       "       [  2.89774857e-01,   2.07540080e+00],\n",
       "       [  8.71124703e-01,  -3.26023532e-01],\n",
       "       [  1.20121392e+00,  -4.08075373e-01],\n",
       "       [ -2.03812454e+00,  -1.00808631e+00],\n",
       "       [ -1.87079192e+00,  -3.51513484e-01],\n",
       "       [  1.84183792e-02,   1.67643731e+00],\n",
       "       [  3.26927374e-01,  -2.19100529e-01],\n",
       "       [  8.29405581e-01,  -2.21113531e+00],\n",
       "       [  2.35614558e-01,   7.70865194e-01],\n",
       "       [ -1.47858625e+00,   1.14375404e+00],\n",
       "       [  3.38496407e-01,  -4.15287914e-01],\n",
       "       [  6.32781866e-01,   2.27069286e+00],\n",
       "       [  1.81866255e-01,   2.48220586e-01],\n",
       "       [ -4.59360900e-01,  -8.49844369e-01],\n",
       "       [  8.30335817e-01,  -8.56083826e-01],\n",
       "       [  7.15662372e-02,  -4.77657447e-01],\n",
       "       [  4.78979826e-01,   3.33662105e-01],\n",
       "       [  1.03753994e+00,  -5.10016399e-01],\n",
       "       [ -2.69874935e-01,  -9.78763716e-01],\n",
       "       [ -4.44293260e-01,   3.77300493e-01],\n",
       "       [  7.56988617e-01,  -9.22165324e-01],\n",
       "       [  8.69605920e-01,   1.35563786e+00],\n",
       "       [  4.13434903e-01,   1.87679581e+00],\n",
       "       [ -7.73789199e-01,  -1.24465470e+00],\n",
       "       [ -1.77872025e+00,   1.49604431e+00],\n",
       "       [  6.54365656e-01,  -5.55846709e-02],\n",
       "       [  2.79968626e-01,  -1.12548905e+00],\n",
       "       [  2.44575198e+00,   1.29221182e-01],\n",
       "       [  1.09394795e-01,   7.25766624e-01],\n",
       "       [  4.81009232e-01,   2.23884024e-01],\n",
       "       [ -7.90474455e-01,   4.71468357e-01],\n",
       "       [  1.88202450e+00,   1.34542005e+00],\n",
       "       [  1.59318663e+00,  -5.11215676e-01],\n",
       "       [ -9.89604820e-01,  -1.25786920e-01],\n",
       "       [  5.57249123e-02,   1.09419152e+00],\n",
       "       [ -1.69246463e+00,   1.52955032e+00],\n",
       "       [ -1.58007899e-01,  -4.26881070e-01],\n",
       "       [ -1.01210438e+00,  -1.65485667e+00],\n",
       "       [  8.23170584e-01,   7.33179672e-02],\n",
       "       [ -1.28996090e+00,  -1.29507877e+00],\n",
       "       [ -3.35784699e-01,   1.66902153e+00],\n",
       "       [ -2.59591351e-01,  -1.50314295e+00],\n",
       "       [ -2.45743064e-01,  -2.72723570e-01],\n",
       "       [ -2.69688664e+00,  -5.42948665e-02],\n",
       "       [ -2.30934530e-01,   6.96206365e-01],\n",
       "       [  1.84895609e+00,   1.12656503e+00],\n",
       "       [ -2.68888691e-01,  -1.10652591e+00],\n",
       "       [  2.57335980e+00,   5.92184340e-02],\n",
       "       [  1.39292919e-02,  -2.41250871e-02],\n",
       "       [  1.98084761e-01,  -1.44360412e-01],\n",
       "       [ -5.73662007e-01,  -5.46858941e-01],\n",
       "       [ -3.27532702e-02,  -5.43424771e-01],\n",
       "       [ -7.12845783e-01,   1.06430228e-01],\n",
       "       [ -2.54977217e-01,   1.50399299e+00],\n",
       "       [ -2.65096981e+00,   1.09150685e+00],\n",
       "       [  1.24608519e+00,  -2.07339023e+00],\n",
       "       [ -3.42687594e-01,  -3.71440866e-01],\n",
       "       [ -1.40751169e+00,  -7.77816688e-01],\n",
       "       [ -1.11057585e+00,   1.75227044e+00],\n",
       "       [  9.35678393e-01,   1.27155509e+00],\n",
       "       [  1.72167206e+00,  -1.29051771e-01],\n",
       "       [  4.75479734e-01,   1.48937456e+00],\n",
       "       [ -2.22127809e-01,   1.71299843e+00],\n",
       "       [  7.59674602e-01,   6.25179192e-01],\n",
       "       [  1.71095997e+00,   1.44426331e+00],\n",
       "       [  6.39033834e-01,   2.15932980e+00],\n",
       "       [ -8.10633276e-02,   1.61593561e+00],\n",
       "       [  1.59310126e+00,   6.90453561e-01],\n",
       "       [  1.32613302e+00,  -2.51113576e-01],\n",
       "       [  1.92402702e+00,   8.15097864e-01],\n",
       "       [  4.77276979e-01,   2.04900923e+00],\n",
       "       [  2.95656309e-01,  -4.08461296e-01],\n",
       "       [ -5.56629174e-01,   1.60600995e+00],\n",
       "       [ -2.80429352e-01,   2.75479418e+00],\n",
       "       [ -1.08192941e+00,   2.69645637e+00],\n",
       "       [  1.21101747e+00,   9.03286888e-01],\n",
       "       [  4.55080913e-01,   1.39913611e+00],\n",
       "       [  9.62365298e-01,   2.10330188e+00],\n",
       "       [  1.11422765e+00,   1.15030176e+00],\n",
       "       [  6.36387788e-01,   9.43054376e-01],\n",
       "       [  1.30780177e+00,  -7.10168393e-01],\n",
       "       [ -3.48185422e-01,   1.74326409e+00],\n",
       "       [  1.17086544e+00,   8.16016664e-01],\n",
       "       [  1.01843393e+00,   1.34758171e+00],\n",
       "       [  4.60240320e-01,   2.21695275e-01],\n",
       "       [  1.19584526e+00,   2.16272224e-02],\n",
       "       [  1.40825276e+00,  -7.02583604e-01],\n",
       "       [  2.02915564e+00,   1.47259748e+00],\n",
       "       [  1.25602973e+00,   1.98269098e+00],\n",
       "       [  2.66547444e+00,   2.01437007e+00],\n",
       "       [ -8.40874231e-01,  -2.79576967e-01],\n",
       "       [  3.75181422e-01,   1.02609105e+00],\n",
       "       [  1.51765902e+00,   2.74256187e-01],\n",
       "       [  1.18676676e+00,   2.44617068e-01],\n",
       "       [  3.88482197e-01,  -4.06661097e-01],\n",
       "       [  7.67667539e-02,  -3.51684606e-01],\n",
       "       [  2.41267470e-02,   2.05364180e+00],\n",
       "       [  5.06011112e-02,   3.63238206e+00],\n",
       "       [  1.49331790e+00,   1.18483612e+00],\n",
       "       [  1.41642220e-01,   1.70030988e+00],\n",
       "       [  4.24362174e-01,   1.12200981e+00],\n",
       "       [  3.56008454e+00,   9.03940100e-01],\n",
       "       [  2.14927333e+00,   2.96823575e-01],\n",
       "       [  9.65011510e-01,   2.77080064e+00],\n",
       "       [  3.73032942e-01,   2.81244856e+00],\n",
       "       [  1.70775194e+00,   4.37533224e-01],\n",
       "       [  1.63240774e+00,   1.97255445e+00],\n",
       "       [  1.62180996e+00,  -5.70224720e-01],\n",
       "       [  2.72862824e-01,   7.52481364e-01],\n",
       "       [  9.25566571e-01,   1.62067210e+00],\n",
       "       [  1.17770100e+00,  -3.35344359e-01],\n",
       "       [  1.38019785e+00,   1.61058575e+00],\n",
       "       [  1.55979045e+00,   2.08078073e+00],\n",
       "       [  1.83392215e+00,   1.45918008e+00],\n",
       "       [  9.29834289e-01,  -6.60960934e-01],\n",
       "       [  1.42961822e+00,   1.20768769e+00],\n",
       "       [  1.27157884e+00,  -2.76748576e-01],\n",
       "       [ -8.10565404e-02,   2.05315285e+00],\n",
       "       [  9.60444846e-01,   1.68150070e+00],\n",
       "       [  1.02831838e+00,   1.02975614e+00],\n",
       "       [  1.93828381e+00,   4.83955272e-01],\n",
       "       [  1.09612078e+00,   5.37724711e-01],\n",
       "       [  5.65503773e-01,   6.90827877e-01],\n",
       "       [  1.22213377e+00,   5.21251378e-01],\n",
       "       [  2.25575613e+00,   1.05392698e-01],\n",
       "       [  8.13128356e-01,   5.60268942e-01],\n",
       "       [  2.44697788e+00,   1.19655478e+00],\n",
       "       [  2.03184454e+00,  -4.85560373e-01],\n",
       "       [  1.26705027e+00,   1.88963080e+00],\n",
       "       [  1.08228399e+00,   2.06548038e+00],\n",
       "       [  4.82711550e-01,   2.40934744e+00],\n",
       "       [  3.29889812e+00,   6.37161440e-01],\n",
       "       [  5.54497479e-01,   2.45338448e+00],\n",
       "       [  2.57957215e+00,   4.77139973e-01],\n",
       "       [  5.79813183e-01,   7.18215391e-01],\n",
       "       [ -3.44450511e-01,   8.13480535e-02],\n",
       "       [ -4.14076675e-03,   2.32202435e-01],\n",
       "       [  9.65315113e-01,   1.23421473e+00],\n",
       "       [  2.55050049e+00,   1.64595926e-03],\n",
       "       [  1.98432240e+00,   7.86011156e-01],\n",
       "       [  9.50536290e-01,   1.67481949e+00],\n",
       "       [ -1.22722022e-01,   1.38240975e+00],\n",
       "       [  1.16645221e+00,   1.49245126e+00],\n",
       "       [  1.28916864e+00,   3.45530014e+00],\n",
       "       [  3.62260016e-01,   4.69003045e-01],\n",
       "       [  3.76859474e-01,   4.44522881e-01],\n",
       "       [  3.62612873e-01,   2.18901653e+00],\n",
       "       [  2.42050425e+00,   4.29253706e-01],\n",
       "       [  1.67644427e-01,   1.47141556e+00],\n",
       "       [  4.47776956e-01,   1.63293182e+00],\n",
       "       [  1.20292302e+00,  -5.15744115e-01],\n",
       "       [  2.54750520e+00,   2.79587767e+00],\n",
       "       [  3.87211310e-01,   6.12298440e-01],\n",
       "       [  1.28586539e+00,   1.33445679e+00],\n",
       "       [  1.65854427e+00,   3.01020454e+00],\n",
       "       [  8.23052773e-01,   2.01702755e-01],\n",
       "       [ -3.79319228e-01,   2.69069960e-01],\n",
       "       [  9.66873027e-01,   2.79455786e+00],\n",
       "       [  4.82388701e-01,   1.22378795e+00],\n",
       "       [  9.83577104e-01,   2.18839327e+00]])"
      ]
     },
     "execution_count": 26,
     "metadata": {},
     "output_type": "execute_result"
    }
   ],
   "source": [
    "set_of_points = []\n",
    "\n",
    "for index in range(len(class1_sample[0])):\n",
    "    set_of_points.append([class1_sample[0][index], class1_sample[1][index]])\n",
    "    \n",
    "for index in range(len(class2_sample[0])):\n",
    "    set_of_points.append([class2_sample[0][index], class2_sample[1][index]])\n",
    "    \n",
    "set_of_points = np.array(set_of_points)\n",
    "\n",
    "set_of_points"
   ]
  },
  {
   "cell_type": "code",
   "execution_count": 21,
   "metadata": {},
   "outputs": [
    {
     "data": {
      "text/plain": [
       "(2,)"
      ]
     },
     "execution_count": 21,
     "metadata": {},
     "output_type": "execute_result"
    }
   ],
   "source": [
    "mean_class1.shape"
   ]
  },
  {
   "cell_type": "code",
   "execution_count": 27,
   "metadata": {},
   "outputs": [
    {
     "name": "stdout",
     "output_type": "stream",
     "text": [
      "-0.0121944137217\n",
      "0.015787888963\n",
      "-0.0137874822614\n"
     ]
    },
    {
     "data": {
      "text/plain": [
       "[array([ 1.59318663, -0.51121568]),\n",
       " array([ 0.82317058,  0.07331797]),\n",
       " array([ 1.27157884, -0.27674858])]"
      ]
     },
     "execution_count": 27,
     "metadata": {},
     "output_type": "execute_result"
    }
   ],
   "source": [
    "inverse_cov = np.linalg.inv(cov_mat1)\n",
    "\n",
    "log_odds = []\n",
    "\n",
    "points_where_log_odds_positive = []\n",
    "points_where_log_odds_negative = []\n",
    "points_where_log_odds_zero = []\n",
    "\n",
    "\n",
    "for point in set_of_points: \n",
    "\n",
    "    x_minus_mu_1 = inverse_cov.dot((point.reshape(2,1) - mean_class1.reshape(2,1)))\n",
    "\n",
    "    x_minus_mu_1 = ((point.reshape(2,1) - mean_class1.reshape(2,1)).T).dot(x_minus_mu_1)\n",
    "\n",
    "    x_minus_mu_1 = x_minus_mu_1[0][0]\n",
    "\n",
    "    \n",
    "\n",
    "\n",
    "\n",
    "    x_minus_mu_2 = inverse_cov.dot((point.reshape(2,1) - mean_class2.reshape(2,1)))\n",
    "\n",
    "    x_minus_mu_2 = ((point.reshape(2,1) - mean_class2.reshape(2,1)).T).dot(x_minus_mu_2)\n",
    "\n",
    "    x_minus_mu_2 = x_minus_mu_2[0][0]\n",
    "\n",
    "    \n",
    "\n",
    "    log_odd = 0.5 * (x_minus_mu_1 - x_minus_mu_2)\n",
    "    \n",
    "\n",
    "    if (log_odd > 0.025):\n",
    "        points_where_log_odds_positive.append(point)\n",
    "    elif (log_odd < -0.025):\n",
    "        points_where_log_odds_negative.append(point)\n",
    "    else:\n",
    "        print (log_odd)\n",
    "        points_where_log_odds_zero.append(point)\n",
    "\n",
    "    \n",
    "points_where_log_odds_zero"
   ]
  },
  {
   "cell_type": "code",
   "execution_count": 28,
   "metadata": {},
   "outputs": [
    {
     "data": {
      "text/plain": [
       "[<matplotlib.lines.Line2D at 0x7f7059d71198>]"
      ]
     },
     "execution_count": 28,
     "metadata": {},
     "output_type": "execute_result"
    },
    {
     "data": {
      "image/png": "[encoded data removed]",
      "text/plain": [
       "<Figure size 432x288 with 1 Axes>"
      ]
     },
     "metadata": {},
     "output_type": "display_data"
    }
   ],
   "source": [
    "points_where_log_odds_zero = np.array(points_where_log_odds_zero)\n",
    "\n",
    "\n",
    "\n",
    "points_where_log_odds_zero_x = points_where_log_odds_zero[:,0]\n",
    "points_where_log_odds_zero_y = points_where_log_odds_zero[:,1]\n",
    "\n",
    "plt.plot(points_where_log_odds_zero_x, points_where_log_odds_zero_y)"
   ]
  },
  {
   "cell_type": "markdown",
   "metadata": {},
   "source": [
    "### Equation of line where log odds vanishes\n",
    "\n",
    "y - y1 = m (x-x1)"
   ]
  },
  {
   "cell_type": "code",
   "execution_count": 29,
   "metadata": {},
   "outputs": [
    {
     "data": {
      "text/plain": [
       "-0.7591187861321198"
      ]
     },
     "execution_count": 29,
     "metadata": {},
     "output_type": "execute_result"
    }
   ],
   "source": [
    "m = (points_where_log_odds_zero_y[1] - points_where_log_odds_zero_y[0])/ (points_where_log_odds_zero_x[1] - points_where_log_odds_zero_x[0])\n",
    "\n",
    "m"
   ]
  },
  {
   "cell_type": "markdown",
   "metadata": {},
   "source": [
    "### Eqn : y - 0.6 = -0.76 (x - 0.1)"
   ]
  },
  {
   "cell_type": "code",
   "execution_count": 30,
   "metadata": {
    "scrolled": false
   },
   "outputs": [
    {
     "data": {
      "image/png": "[encoded data removed]",
      "text/plain": [
       "<Figure size 576x576 with 1 Axes>"
      ]
     },
     "metadata": {},
     "output_type": "display_data"
    }
   ],
   "source": [
    "fig = plt.figure(figsize=(8,8))\n",
    "ax = fig.add_subplot(111)\n",
    "plt.rcParams['legend.fontsize'] = 10   \n",
    "\n",
    "ax.plot(class1_sample[0,:], class1_sample[1,:],\n",
    "        'o', markersize=8, color='blue', alpha=0.5, label='class1')\n",
    "ax.plot(class2_sample[0,:], class2_sample[1,:],\n",
    "        '^', markersize=8, alpha=0.5, color='red', label='class2')\n",
    "\n",
    "ax.plot([-2,2], [2.2, -0.84])\n",
    "\n",
    "plt.title('Samples for class 1 and class 2')\n",
    "ax.legend(loc='upper right')\n",
    "\n",
    "plt.show()"
   ]
  },
  {
   "cell_type": "markdown",
   "metadata": {},
   "source": [
    "### Explore the consequences of using a formula for the discriminant\n",
    "\n",
    "\n",
    "Compute new Fisher Score\n",
    "\n",
    "new line\n",
    "\n",
    "Here s_a and s_b are not normalized by respective populations\n",
    "\n",
    "So if number of data points on one class is much more that would dominate the fisherscore -> projected w -> final projections\n",
    "\n",
    "This is accounted for the Prior prob in Bayes rule which adds in a bias which takes into account if one class is much more likely to occur than the other"
   ]
  },
  {
   "cell_type": "code",
   "execution_count": null,
   "metadata": {},
   "outputs": [],
   "source": []
  },
  {
   "cell_type": "code",
   "execution_count": null,
   "metadata": {},
   "outputs": [],
   "source": [
    "x = np.linspace(0, 1, 100)\n",
    "y = np.linspace(0, 1, 2)\n",
    "\n",
    "X, Y = np.meshgrid(x, y)\n",
    "\n",
    "plt.contour(X, Y, class1_sample, colors='black');\n"
   ]
  },
  {
   "cell_type": "code",
   "execution_count": null,
   "metadata": {},
   "outputs": [],
   "source": [
    "npts = 1000\n",
    "x = np.random.uniform(-2,2,npts)\n",
    "y = np.random.uniform(-2,2,npts)\n",
    "z = np.gauss(x,y,Sigma=np.asarray([[1.,.5],[0.5,1.]]),mu=np.asarray([0.,0.]))"
   ]
  }
 ],
 "metadata": {
  "kernelspec": {
   "display_name": "Python 3",
   "language": "python",
   "name": "python3"
  },
  "language_info": {
   "codemirror_mode": {
    "name": "ipython",
    "version": 3
   },
   "file_extension": ".py",
   "mimetype": "text/x-python",
   "name": "python",
   "nbconvert_exporter": "python",
   "pygments_lexer": "ipython3",
   "version": "3.6.3"
  }
 },
 "nbformat": 4,
 "nbformat_minor": 2
}
