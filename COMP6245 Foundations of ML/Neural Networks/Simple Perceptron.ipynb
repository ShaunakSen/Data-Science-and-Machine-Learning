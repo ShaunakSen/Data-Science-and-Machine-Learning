{
 "cells": [
  {
   "cell_type": "markdown",
   "metadata": {},
   "source": [
    "## Simple Perceptron\n",
    "\n",
    "[link](https://medium.com/@thomascountz/perceptron-implementing-and-part-2-84bfb1f46597)\n",
    "\n",
    "Error  term is given by:\n",
    "\n",
    "    e = y - f(x)\n",
    "    \n",
    "Through **Each iteration through our training data, we compute the predicted f(x) and compare it with y to get e**\n",
    "\n",
    "After getting e, we update our wt vector **w** as:\n",
    "\n",
    "    w <- w + (y - f(x)) * x\n",
    "    = w <- w + e * x"
   ]
  },
  {
   "cell_type": "code",
   "execution_count": 25,
   "metadata": {},
   "outputs": [
    {
     "name": "stdout",
     "output_type": "stream",
     "text": [
      "(4, 3)\n",
      "X: [1 1 1] Y: 1 pred Y: 0 wt before:  [[0 0 0]]\n",
      "Adjusted wt [[1 1 1]]\n",
      "X: [1 1 0] Y: 0 pred Y: 1 wt before:  [[1 1 1]]\n",
      "Adjusted wt [[0 0 1]]\n",
      "X: [1 0 1] Y: 0 pred Y: 1 wt before:  [[0 0 1]]\n",
      "Adjusted wt [[-1  0  0]]\n",
      "X: [1 1 1] Y: 1 pred Y: 0 wt before:  [[-1  0  0]]\n",
      "Adjusted wt [[0 1 1]]\n",
      "X: [1 1 0] Y: 0 pred Y: 1 wt before:  [[0 1 1]]\n",
      "Adjusted wt [[-1  0  1]]\n",
      "X: [1 0 1] Y: 0 pred Y: 0 wt before:  [[-1  0  1]]\n",
      "Adjusted wt [[-1  0  1]]\n",
      "X: [1 1 1] Y: 1 pred Y: 0 wt before:  [[-1  0  1]]\n",
      "Adjusted wt [[0 1 2]]\n",
      "X: [1 1 0] Y: 0 pred Y: 1 wt before:  [[0 1 2]]\n",
      "Adjusted wt [[-1  0  2]]\n",
      "X: [1 0 1] Y: 0 pred Y: 1 wt before:  [[-1  0  2]]\n",
      "Adjusted wt [[-2  0  1]]\n",
      "X: [1 1 1] Y: 1 pred Y: 0 wt before:  [[-2  0  1]]\n",
      "Adjusted wt [[-1  1  2]]\n",
      "X: [1 1 0] Y: 0 pred Y: 0 wt before:  [[-1  1  2]]\n",
      "Adjusted wt [[-1  1  2]]\n",
      "X: [1 0 1] Y: 0 pred Y: 1 wt before:  [[-1  1  2]]\n",
      "Adjusted wt [[-2  1  1]]\n",
      "X: [1 1 1] Y: 1 pred Y: 0 wt before:  [[-2  1  1]]\n",
      "Adjusted wt [[-1  2  2]]\n",
      "X: [1 1 0] Y: 0 pred Y: 1 wt before:  [[-1  2  2]]\n",
      "Adjusted wt [[-2  1  2]]\n",
      "X: [1 0 1] Y: 0 pred Y: 0 wt before:  [[-2  1  2]]\n",
      "Adjusted wt [[-2  1  2]]\n",
      "X: [1 1 1] Y: 1 pred Y: 1 wt before:  [[-2  1  2]]\n",
      "Adjusted wt [[-2  1  2]]\n",
      "X: [1 1 0] Y: 0 pred Y: 0 wt before:  [[-2  1  2]]\n",
      "Adjusted wt [[-2  1  2]]\n",
      "X: [1 0 1] Y: 0 pred Y: 0 wt before:  [[-2  1  2]]\n",
      "Adjusted wt [[-2  1  2]]\n",
      "X: [1 1 1] Y: 1 pred Y: 1 wt before:  [[-2  1  2]]\n",
      "Adjusted wt [[-2  1  2]]\n",
      "X: [1 1 0] Y: 0 pred Y: 0 wt before:  [[-2  1  2]]\n",
      "Adjusted wt [[-2  1  2]]\n"
     ]
    }
   ],
   "source": [
    "import numpy as np\n",
    "\n",
    "# first element is the bias [b, x1, x2]\n",
    "training_data = np.array([[1,1,1], [1,1,0], [1,0,1], [1,0,0]])\n",
    "\n",
    "print (training_data.shape)\n",
    "\n",
    "y = np.array([[1,0,0,0]]).reshape(4,1)\n",
    "\n",
    "y.shape\n",
    "\n",
    "w_init = np.array([[0, 0, 0]]).reshape(1,3)\n",
    "\n",
    "\n",
    "w = w_init\n",
    "\n",
    "num_iters = 20\n",
    "\n",
    "counter = 0\n",
    "\n",
    "while counter < num_iters:\n",
    "    index = counter % 3\n",
    "\n",
    "    x = training_data[index]\n",
    "\n",
    "    if w.dot(x)[0] > 0:\n",
    "        f_x = 1\n",
    "    else:\n",
    "        f_x = 0\n",
    "\n",
    "    y_real = y[index][0]\n",
    "\n",
    "    e = y_real - f_x\n",
    "\n",
    "    print (\"X:\", x, \"Y:\", y_real, \"pred Y:\", f_x, \"wt before: \", w)\n",
    "    w += e*x\n",
    "    print (\"Adjusted wt\", w)\n",
    "    \n",
    "    counter += 1\n"
   ]
  },
  {
   "cell_type": "code",
   "execution_count": 21,
   "metadata": {},
   "outputs": [
    {
     "data": {
      "text/plain": [
       "2"
      ]
     },
     "execution_count": 21,
     "metadata": {},
     "output_type": "execute_result"
    }
   ],
   "source": [
    "5%3"
   ]
  },
  {
   "cell_type": "code",
   "execution_count": null,
   "metadata": {},
   "outputs": [],
   "source": [
    "\n",
    "\n",
    "class Perceptron(object):\n",
    "\n",
    "    def __init__(self, no_of_inputs, threshold=100, learning_rate=0.01):\n",
    "        self.threshold = threshold\n",
    "        self.learning_rate = learning_rate\n",
    "        self.weights = np.zeros(no_of_inputs + 1)\n",
    "           \n",
    "    def predict(self, inputs):\n",
    "        summation = np.dot(inputs, self.weights[1:]) + self.weights[0]\n",
    "        if summation > 0:\n",
    "          activiation = 1\n",
    "        else:\n",
    "          activation = 0            \n",
    "        return activation\n",
    "\n",
    "    def train(self, training_inputs, labels):\n",
    "        for _ in range(self.threshold):\n",
    "            for inputs, label in zip(training_inputs, labels):\n",
    "                prediction = self.predict(inputs)\n",
    "                self.weights[1:] += self.learning_rate * (label - prediction) * inputs\n",
    "                self.weights[0] += self.learning_rate * (label - prediction)"
   ]
  }
 ],
 "metadata": {
  "kernelspec": {
   "display_name": "Python 3",
   "language": "python",
   "name": "python3"
  },
  "language_info": {
   "codemirror_mode": {
    "name": "ipython",
    "version": 3
   },
   "file_extension": ".py",
   "mimetype": "text/x-python",
   "name": "python",
   "nbconvert_exporter": "python",
   "pygments_lexer": "ipython3",
   "version": "3.6.5"
  }
 },
 "nbformat": 4,
 "nbformat_minor": 2
}
