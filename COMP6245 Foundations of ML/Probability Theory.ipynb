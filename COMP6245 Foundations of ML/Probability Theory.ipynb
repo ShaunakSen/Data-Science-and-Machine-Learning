{
 "cells": [
  {
   "cell_type": "markdown",
   "metadata": {},
   "source": [
    "### Central Limit Theorem\n",
    "\n",
    "[Link](https://stattrek.com/sampling/sampling-distribution.aspx)\n",
    "\n",
    "Suppose that we draw all possible samples of size n from a given population. Suppose further that we compute a statistic (e.g., a mean, proportion, standard deviation) for each sample. The probability distribution of this statistic is called a sampling distribution. And the standard deviation of this statistic is called the standard error\n",
    "\n",
    "\n",
    "Suppose we draw all possible samples of size n from a population of size N. Suppose further that we compute a mean score for each sample. In this way, we create a sampling distribution of the mean.\n",
    "\n",
    "\n",
    "We know the following about the sampling distribution of the mean. The mean of the sampling distribution (μx) is equal to the mean of the population (μ). And the standard error of the sampling distribution (σx) is determined by the standard deviation of the population (σ), the population size (N), and the sample size (n). These relationships are shown in the equations below:\n",
    "\n",
    "μx = μ\n",
    "\n",
    "σx = [ σ / sqrt(n) ] * sqrt[ (N - n ) / (N - 1) ]\n",
    "\n",
    "In the standard error formula, the factor sqrt[ (N - n ) / (N - 1) ] is called the finite population correction or fpc. When the population size is very large relative to the sample size, the fpc is approximately equal to one; and the standard error formula can be approximated by:\n",
    "\n",
    "σx = σ / sqrt(n).\n",
    "\n",
    "You often see this \"approximate\" formula in introductory statistics texts. As a general rule, it is safe to use the approximate formula when the sample size is no bigger than 1/20 of the population size.\n",
    "\n",
    "The central limit theorem states that the sampling distribution of the mean of any independent, random variable will be normal or nearly normal, if the sample size is large enough."
   ]
  },
  {
   "cell_type": "markdown",
   "metadata": {},
   "source": [
    "### Binomial Distribution\n",
    "\n",
    "[link](https://stattrek.com/probability-distributions/binomial.aspx)\n",
    "\n",
    "A binomial random variable is the number of successes x in n repeated trials of a binomial experiment. The probability distribution of a binomial random variable is called a binomial distribution.\n",
    "\n",
    "Suppose we flip a coin two times and count the number of heads (successes). The binomial random variable is the number of heads, which can take on values of 0, 1, or 2. The binomial distribution is presented below.\n",
    "\n",
    "Number of heads\tProbability\n",
    "0\t0.25\n",
    "1\t0.50\n",
    "2\t0.25\n",
    "\n"
   ]
  },
  {
   "cell_type": "code",
   "execution_count": 1,
   "metadata": {},
   "outputs": [],
   "source": [
    "%matplotlib inline\n",
    "import matplotlib.pyplot as plt\n",
    "import numpy as np\n",
    "import math\n",
    "import scipy.stats as stats\n",
    "import seaborn as sns\n",
    "#sns.set()\n",
    "sns.set(color_codes=True)"
   ]
  },
  {
   "cell_type": "code",
   "execution_count": 4,
   "metadata": {},
   "outputs": [
    {
     "data": {
      "text/plain": [
       "array([5, 3, 6, 5, 5, 4, 5, 8, 4, 5])"
      ]
     },
     "execution_count": 4,
     "metadata": {},
     "output_type": "execute_result"
    }
   ],
   "source": [
    "n, p = 10, .5  # number of trials, probability of each trial\n",
    "s = np.random.binomial(n, p, 1000)\n",
    "\n",
    "# result of flipping a coin 10 times, tested 1000 times.\n",
    "s[:10]"
   ]
  },
  {
   "cell_type": "code",
   "execution_count": 5,
   "metadata": {},
   "outputs": [
    {
     "data": {
      "text/plain": [
       "array([1, 1, 1, 0, 1, 0, 1, 1, 1, 1])"
      ]
     },
     "execution_count": 5,
     "metadata": {},
     "output_type": "execute_result"
    }
   ],
   "source": [
    "np.random.binomial(1,.7,10) # biased coin p = 0.7"
   ]
  },
  {
   "cell_type": "code",
   "execution_count": 13,
   "metadata": {},
   "outputs": [
    {
     "name": "stdout",
     "output_type": "stream",
     "text": [
      "[9]\n"
     ]
    }
   ],
   "source": [
    "# If you toss a coin 10 times and count the number of heads, you will run the following:\n",
    "\n",
    "# this coin is really biased so most times out of 10 we get heads (success)\n",
    "\n",
    "print(np.random.binomial(10, 0.9, 1))"
   ]
  },
  {
   "cell_type": "markdown",
   "metadata": {},
   "source": [
    "#### Repeat the same experiment of tossing a coin 10 times (or tossing 10 identical coins) 10000 times and display the results as a histogram"
   ]
  },
  {
   "cell_type": "code",
   "execution_count": 20,
   "metadata": {},
   "outputs": [
    {
     "data": {
      "text/plain": [
       "(array([0.000e+00, 2.000e+00, 1.400e+01, 1.040e+02, 3.500e+02, 1.016e+03,\n",
       "        1.982e+03, 2.672e+03, 2.373e+03, 1.487e+03]),\n",
       " array([ 0,  1,  2,  3,  4,  5,  6,  7,  8,  9, 10]),\n",
       " <a list of 10 Patch objects>)"
      ]
     },
     "execution_count": 20,
     "metadata": {},
     "output_type": "execute_result"
    },
    {
     "data": {
      "image/png": "[encoded data removed]",
      "text/plain": [
       "<Figure size 432x288 with 1 Axes>"
      ]
     },
     "metadata": {},
     "output_type": "display_data"
    }
   ],
   "source": [
    "x = np.random.binomial(10, 0.7, 10000)\n",
    "x[:10]\n",
    "\n",
    "# basically each elem in x denotes no of times we got heads(out of 10 coin tosses)\n",
    "\n",
    "# and there are 10k such experiments so len(x) = 10k\n",
    "\n",
    "ls = [i for i in range(11)]\n",
    "\n",
    "ls\n",
    "\n",
    "plt.hist(x,color='k',alpha=0.2,bins=ls)\n"
   ]
  },
  {
   "cell_type": "code",
   "execution_count": 21,
   "metadata": {},
   "outputs": [
    {
     "data": {
      "text/plain": [
       "(array([   6.,   81.,  454., 1188., 2000., 2485., 2030., 1194.,  451.,\n",
       "         111.]),\n",
       " array([ 0,  1,  2,  3,  4,  5,  6,  7,  8,  9, 10]),\n",
       " <a list of 10 Patch objects>)"
      ]
     },
     "execution_count": 21,
     "metadata": {},
     "output_type": "execute_result"
    },
    {
     "data": {
      "image/png": "[encoded data removed]",
      "text/plain": [
       "<Figure size 432x288 with 1 Axes>"
      ]
     },
     "metadata": {},
     "output_type": "display_data"
    }
   ],
   "source": [
    "x=np.random.binomial(10,.5,10000) # unbiased coin p = 0.5\n",
    "ls = [i for i in range(11)]\n",
    "\n",
    "plt.hist(x,color='k',alpha=0.2,bins=ls)"
   ]
  },
  {
   "cell_type": "markdown",
   "metadata": {},
   "source": [
    "Note that in these 10000 experiments there were 94 occasions in which all 10 outcomes were Heads, and 11 occasions in which all 10 were Tails. Note also that the peak of the distribution (the mode) is at 5, the average number you would expect.\n",
    "\n"
   ]
  },
  {
   "cell_type": "markdown",
   "metadata": {},
   "source": [
    "Say u have a population\n",
    "u take samples of size 10\n",
    "ur friend takes samples of size 100\n",
    "\n",
    "Both of u repeat ur exp 10k times\n",
    "\n",
    "Both ur distributions will look like Normal\n",
    "\n",
    "But ur friends dist will be much tighter\n",
    "\n",
    "as For a sample size N, the standard deviation of sample means is σ/√N\n",
    "\n",
    "so sd will be less for ur friend"
   ]
  },
  {
   "cell_type": "markdown",
   "metadata": {},
   "source": [
    "#### Uniform Distribution\n",
    "\n",
    "[link](https://stattrek.com/statistics/dictionary.aspx?definition=uniform_distribution)\n",
    "\n",
    "In the context of probability distributions, uniform distribution refers to a probability distribution for which all of the values that a random variable can take on occur with equal probability. This probability distribution is defined as follows.\n",
    "\n",
    "Uniform Distribution. Suppose the random variable X can assume k different values. Suppose also that the P(X = xk) is constant. Then,\n",
    "\n",
    "    P(X = xk) = 1/k\n",
    "        \n"
   ]
  }
 ],
 "metadata": {
  "kernelspec": {
   "display_name": "Python 3",
   "language": "python",
   "name": "python3"
  },
  "language_info": {
   "codemirror_mode": {
    "name": "ipython",
    "version": 3
   },
   "file_extension": ".py",
   "mimetype": "text/x-python",
   "name": "python",
   "nbconvert_exporter": "python",
   "pygments_lexer": "ipython3",
   "version": "3.6.5"
  }
 },
 "nbformat": 4,
 "nbformat_minor": 2
}
