{
 "cells": [
  {
   "cell_type": "markdown",
   "metadata": {},
   "source": [
    "## LDA bit by bit\n",
    "\n",
    "[link](https://sebastianraschka.com/Articles/2014_python_lda.html)\n",
    "\n",
    "The general LDA approach is very similar to a Principal Component Analysis (for more information about the PCA, see the previous article Implementing a Principal Component Analysis (PCA) in Python step by step), but in addition to finding the component axes that maximize the variance of our data (PCA), we are additionally interested in the axes that maximize the separation between multiple classes (LDA).\n",
    "\n",
    "So, in a nutshell, often the goal of an LDA is to project a feature space (a dataset n-dimensional samples) onto a smaller subspace k (where k≤n−1) while maintaining the class-discriminatory information. \n",
    "\n",
    "In general, dimensionality reduction does not only help reducing computational costs for a given classification task, but it can also be helpful to avoid overfitting by minimizing the error in parameter estimation (“curse of dimensionality”).\n",
    "\n",
    "Both Linear Discriminant Analysis (LDA) and Principal Component Analysis (PCA) are linear transformation techniques that are commonly used for dimensionality reduction. PCA can be described as an “unsupervised” algorithm, since it “ignores” class labels and its goal is to find the directions (the so-called principal components) that maximize the variance in a dataset. In contrast to PCA, LDA is “supervised” and computes the directions (“linear discriminants”) that will represent the axes that that maximize the separation between multiple classes.\n",
    "\n",
    "### Iris dataset\n",
    "\n",
    "For the following tutorial, we will be working with the famous “Iris” dataset that has been deposited on the UCI machine learning repository\n",
    "\n",
    "The iris dataset contains measurements for 150 iris flowers from three different species.\n",
    "\n",
    "The three classes in the Iris dataset:\n",
    "\n",
    "- Iris-setosa (n=50)\n",
    "- Iris-versicolor (n=50)\n",
    "- Iris-virginica (n=50)\n",
    "\n",
    "\n",
    "The four features of the Iris dataset:\n",
    "\n",
    "- sepal length in cm\n",
    "- sepal width in cm\n",
    "- petal length in cm\n",
    "- petal width in cm"
   ]
  },
  {
   "cell_type": "code",
   "execution_count": 1,
   "metadata": {},
   "outputs": [
    {
     "name": "stdout",
     "output_type": "stream",
     "text": [
      "{0: 'sepal length in cm', 1: 'sepal width in cm', 2: 'petal length in cm', 3: 'petal width in cm'}\n"
     ]
    }
   ],
   "source": [
    "feature_dict = {i:label for i,label in zip(\n",
    "                range(4),\n",
    "                  ('sepal length in cm',\n",
    "                  'sepal width in cm',\n",
    "                  'petal length in cm',\n",
    "                  'petal width in cm', ))}\n",
    "\n",
    "print (feature_dict)"
   ]
  },
  {
   "cell_type": "code",
   "execution_count": 2,
   "metadata": {},
   "outputs": [
    {
     "data": {
      "text/html": [
       "<div>\n",
       "<style scoped>\n",
       "    .dataframe tbody tr th:only-of-type {\n",
       "        vertical-align: middle;\n",
       "    }\n",
       "\n",
       "    .dataframe tbody tr th {\n",
       "        vertical-align: top;\n",
       "    }\n",
       "\n",
       "    .dataframe thead th {\n",
       "        text-align: right;\n",
       "    }\n",
       "</style>\n",
       "<table border=\"1\" class=\"dataframe\">\n",
       "  <thead>\n",
       "    <tr style=\"text-align: right;\">\n",
       "      <th></th>\n",
       "      <th>sepal length in cm</th>\n",
       "      <th>sepal width in cm</th>\n",
       "      <th>petal length in cm</th>\n",
       "      <th>petal width in cm</th>\n",
       "      <th>class label</th>\n",
       "    </tr>\n",
       "  </thead>\n",
       "  <tbody>\n",
       "    <tr>\n",
       "      <th>145</th>\n",
       "      <td>6.7</td>\n",
       "      <td>3.0</td>\n",
       "      <td>5.2</td>\n",
       "      <td>2.3</td>\n",
       "      <td>Iris-virginica</td>\n",
       "    </tr>\n",
       "    <tr>\n",
       "      <th>146</th>\n",
       "      <td>6.3</td>\n",
       "      <td>2.5</td>\n",
       "      <td>5.0</td>\n",
       "      <td>1.9</td>\n",
       "      <td>Iris-virginica</td>\n",
       "    </tr>\n",
       "    <tr>\n",
       "      <th>147</th>\n",
       "      <td>6.5</td>\n",
       "      <td>3.0</td>\n",
       "      <td>5.2</td>\n",
       "      <td>2.0</td>\n",
       "      <td>Iris-virginica</td>\n",
       "    </tr>\n",
       "    <tr>\n",
       "      <th>148</th>\n",
       "      <td>6.2</td>\n",
       "      <td>3.4</td>\n",
       "      <td>5.4</td>\n",
       "      <td>2.3</td>\n",
       "      <td>Iris-virginica</td>\n",
       "    </tr>\n",
       "    <tr>\n",
       "      <th>149</th>\n",
       "      <td>5.9</td>\n",
       "      <td>3.0</td>\n",
       "      <td>5.1</td>\n",
       "      <td>1.8</td>\n",
       "      <td>Iris-virginica</td>\n",
       "    </tr>\n",
       "  </tbody>\n",
       "</table>\n",
       "</div>"
      ],
      "text/plain": [
       "     sepal length in cm  sepal width in cm  petal length in cm  \\\n",
       "145                 6.7                3.0                 5.2   \n",
       "146                 6.3                2.5                 5.0   \n",
       "147                 6.5                3.0                 5.2   \n",
       "148                 6.2                3.4                 5.4   \n",
       "149                 5.9                3.0                 5.1   \n",
       "\n",
       "     petal width in cm     class label  \n",
       "145                2.3  Iris-virginica  \n",
       "146                1.9  Iris-virginica  \n",
       "147                2.0  Iris-virginica  \n",
       "148                2.3  Iris-virginica  \n",
       "149                1.8  Iris-virginica  "
      ]
     },
     "execution_count": 2,
     "metadata": {},
     "output_type": "execute_result"
    }
   ],
   "source": [
    "import pandas as pd\n",
    "\n",
    "df = pd.io.parsers.read_csv(\n",
    "    filepath_or_buffer='https://archive.ics.uci.edu/ml/machine-learning-databases/iris/iris.data',\n",
    "    header=None,\n",
    "    sep=',',\n",
    "    )\n",
    "df.columns = [l for i,l in sorted(feature_dict.items())] + ['class label']\n",
    "df.dropna(how=\"all\", inplace=True) # to drop the empty line at file-end\n",
    "\n",
    "df.tail()"
   ]
  },
  {
   "cell_type": "markdown",
   "metadata": {},
   "source": [
    "X = \\begin{bmatrix} x_{1_{\\text{sepal length}}} & x_{1_{\\text{sepal width}}} & x_{1_{\\text{petal length}}} & x_{1_{\\text{petal width}}}\\\\\n",
    "x_{2_{\\text{sepal length}}} & x_{2_{\\text{sepal width}}} & x_{2_{\\text{petal length}}} & x_{2_{\\text{petal width}}}\\\\\n",
    "...  \\\\\n",
    "x_{150_{\\text{sepal length}}} & x_{150_{\\text{sepal width}}} & x_{150_{\\text{petal length}}} & x_{150_{\\text{petal width}}}\\\\\n",
    "\\end{bmatrix},\n",
    " y = \\begin{bmatrix} \\omega_{\\text{setosa}}\\\\\n",
    "\\omega_{\\text{setosa}}\\\\\n",
    "...  \\\\\n",
    "\\omega_{\\text{virginica}}\\end{bmatrix}\n",
    "\n",
    "Since it is more convenient to work with numerical values, we will use the LabelEncode from the scikit-learn library to convert the class labels into numbers: 1, 2, and 3.\n",
    "\n"
   ]
  },
  {
   "cell_type": "code",
   "execution_count": 3,
   "metadata": {},
   "outputs": [
    {
     "name": "stdout",
     "output_type": "stream",
     "text": [
      "[[ 5.1  3.5  1.4  0.2]\n",
      " [ 4.9  3.   1.4  0.2]\n",
      " [ 4.7  3.2  1.3  0.2]\n",
      " [ 4.6  3.1  1.5  0.2]\n",
      " [ 5.   3.6  1.4  0.2]]\n",
      "[1 1 1 1 1]\n",
      "150\n"
     ]
    }
   ],
   "source": [
    "from sklearn.preprocessing import LabelEncoder\n",
    "\n",
    "#creating feature matrix\n",
    "X = df.iloc[:,0:4].values\n",
    "\n",
    "# creating target matrix\n",
    "y = df['class label'].values\n",
    "\n",
    "enc = LabelEncoder()\n",
    "label_encoder = enc.fit(y)\n",
    "y = label_encoder.transform(y) + 1\n",
    "\n",
    "label_dict = {1: 'Setosa', 2: 'Versicolor', 3:'Virginica'}\n",
    "\n",
    "print (X[:5])\n",
    "print (y[:5])\n",
    "\n",
    "print (len(X))"
   ]
  },
  {
   "cell_type": "markdown",
   "metadata": {},
   "source": [
    "Just to get a rough idea how the samples of our three classes ω1, ω2 and ω3 are distributed, let us visualize the distributions of the four different features in 1-dimensional histograms."
   ]
  },
  {
   "cell_type": "code",
   "execution_count": 4,
   "metadata": {},
   "outputs": [
    {
     "name": "stderr",
     "output_type": "stream",
     "text": [
      "/home/shaunak/anaconda3/lib/python3.6/site-packages/matplotlib/cbook/__init__.py:424: MatplotlibDeprecationWarning: \n",
      "Passing one of 'on', 'true', 'off', 'false' as a boolean is deprecated; use an actual boolean (True/False) instead.\n",
      "  warn_deprecated(\"2.2\", \"Passing one of 'on', 'true', 'off', 'false' as a \"\n"
     ]
    },
    {
     "data": {
      "image/png": "[encoded data removed]",
      "text/plain": [
       "<Figure size 864x432 with 4 Axes>"
      ]
     },
     "metadata": {},
     "output_type": "display_data"
    }
   ],
   "source": [
    "from matplotlib import pyplot as plt\n",
    "import numpy as np\n",
    "import math\n",
    "%matplotlib inline\n",
    "\n",
    "fig, axes = plt.subplots(nrows=2, ncols=2, figsize=(12,6))\n",
    "\n",
    "for ax,cnt in zip(axes.ravel(), range(4)):  \n",
    "\n",
    "    # set bin sizes\n",
    "    min_b = math.floor(np.min(X[:,cnt]))\n",
    "    max_b = math.ceil(np.max(X[:,cnt]))\n",
    "    bins = np.linspace(min_b, max_b, 25)\n",
    "\n",
    "    # plottling the histograms\n",
    "    for lab,col in zip(range(1,4), ('blue', 'red', 'green')):\n",
    "        ax.hist(X[y==lab, cnt],\n",
    "                   color=col,\n",
    "                   label='class %s' %label_dict[lab],\n",
    "                   bins=bins,\n",
    "                   alpha=0.5,)\n",
    "    ylims = ax.get_ylim()\n",
    "\n",
    "    # plot annotation\n",
    "    leg = ax.legend(loc='upper right', fancybox=True, fontsize=8)\n",
    "    leg.get_frame().set_alpha(0.5)\n",
    "    ax.set_ylim([0, max(ylims)+2])\n",
    "    ax.set_xlabel(feature_dict[cnt])\n",
    "    ax.set_title('Iris histogram #%s' %str(cnt+1))\n",
    "\n",
    "    # hide axis ticks\n",
    "    ax.tick_params(axis=\"both\", which=\"both\", bottom=\"off\", top=\"off\",  \n",
    "            labelbottom=\"on\", left=\"off\", right=\"off\", labelleft=\"on\")\n",
    "\n",
    "    # remove axis spines\n",
    "    ax.spines[\"top\"].set_visible(False)  \n",
    "    ax.spines[\"right\"].set_visible(False)\n",
    "    ax.spines[\"bottom\"].set_visible(False)\n",
    "    ax.spines[\"left\"].set_visible(False)    \n",
    "\n",
    "axes[0][0].set_ylabel('count')\n",
    "axes[1][0].set_ylabel('count')\n",
    "\n",
    "fig.tight_layout()       \n",
    "\n",
    "plt.show()"
   ]
  },
  {
   "cell_type": "markdown",
   "metadata": {},
   "source": [
    "From just looking at these simple graphical representations of the features, we can already tell that the petal lengths and widths are likely better suited as potential features two separate between the three flower classes. In practice, instead of reducing the dimensionality via a projection (here: LDA), a good alternative would be a feature selection technique. For low-dimensional datasets like Iris, a glance at those histograms would already be very informative\n",
    "\n",
    "It should be mentioned that LDA assumes normal distributed data, features that are statistically independent, and identical covariance matrices for every class. However, this only applies for LDA as classifier and LDA for dimensionality reduction can also work reasonably well if those assumptions are violated. And even for classification tasks LDA seems can be quite robust to the distribution of the data:\n",
    "\n"
   ]
  },
  {
   "cell_type": "markdown",
   "metadata": {},
   "source": [
    "### Computing the d-dimensional mean vectors\n",
    "\n",
    "In this first step, we will start off with a simple computation of the mean vectors mmi, (i=1,2,3) of the 3 different flower classes:\n",
    "\n",
    " m_i = \\begin{bmatrix}\n",
    "\\mu_{\\omega_i (\\text{sepal length)}}\\\\\n",
    "\\mu_{\\omega_i (\\text{sepal width})}\\\\\n",
    "\\mu_{\\omega_i (\\text{petal length)}}\\\\\n",
    "\\mu_{\\omega_i (\\text{petal width})}\\\\\n",
    "\\end{bmatrix} for i = 1,2,3"
   ]
  },
  {
   "cell_type": "code",
   "execution_count": 5,
   "metadata": {
    "scrolled": true
   },
   "outputs": [
    {
     "name": "stdout",
     "output_type": "stream",
     "text": [
      "Mean Vector class 1: [ 5.006  3.418  1.464  0.244]\n",
      "\n",
      "Mean Vector class 2: [ 5.936  2.77   4.26   1.326]\n",
      "\n",
      "Mean Vector class 3: [ 6.588  2.974  5.552  2.026]\n",
      "\n"
     ]
    }
   ],
   "source": [
    "mean_vectors = []\n",
    "\n",
    "for class_index in range(1, 4):\n",
    "\n",
    "    mean_vectors.append(np.mean(X[y == class_index], axis=0))\n",
    "    print('Mean Vector class %s: %s\\n' %(class_index, mean_vectors[class_index-1]))"
   ]
  },
  {
   "cell_type": "markdown",
   "metadata": {},
   "source": [
    "### Computing the Scatter Matrices\n",
    "\n",
    "Now, we will compute the two 4x4-dimensional matrices: The within-class and the between-class scatter matrix.\n",
    "\n",
    "#### Within-class scatter matrix SW\n",
    "\n",
    "The within-class scatter matrix SW is computed by the following equation:\n",
    "\n",
    "$$S_W = \\sum\\limits_{i=1}^{c}  S_i$$\n",
    "\n",
    "where\n",
    "\n",
    "$$S_i = \\sum\\limits_{\\pmb x \\in D_i}^n (\\pmb x - \\pmb m_i)\\;(\\pmb x - \\pmb m_i)^T$$\n",
    "\n",
    "(scatter matrix for every class)\n",
    "\n",
    "\n",
    "and m_i is the mean vector \n",
    "\n"
   ]
  },
  {
   "cell_type": "code",
   "execution_count": 6,
   "metadata": {},
   "outputs": [
    {
     "name": "stdout",
     "output_type": "stream",
     "text": [
      "within-class Scatter Matrix:\n",
      " [[ 38.9562  13.683   24.614    5.6556]\n",
      " [ 13.683   17.035    8.12     4.9132]\n",
      " [ 24.614    8.12    27.22     6.2536]\n",
      " [  5.6556   4.9132   6.2536   6.1756]]\n"
     ]
    }
   ],
   "source": [
    "S_W = np.zeros((4,4))\n",
    "\n",
    "for class_index in range(1, 4):\n",
    "    class_sc_mat = np.zeros((4, 4))\n",
    "    for row in X[y == class_index]:\n",
    "        #print ( (row - mean_vectors[class_index -1 ]).reshape(1, 4) )\n",
    "        class_sc_mat += (row - mean_vectors[class_index -1 ]).reshape(4, 1).dot((row - mean_vectors[class_index -1 ]).reshape(1, 4)) \n",
    "    S_W += class_sc_mat\n",
    "    \n",
    "print('within-class Scatter Matrix:\\n', S_W)\n"
   ]
  },
  {
   "cell_type": "markdown",
   "metadata": {},
   "source": [
    "#### Between-class scatter matrix SB\n",
    "\n",
    "\n",
    "between-class scatter matrix SB is computed by the following equation:\n",
    "\n",
    "$$S_B =  \\sum\\limits_{i=1}^{c} N_{i} (\\pmb m_i - \\pmb m) (\\pmb m_i - \\pmb m)^T$$\n",
    "\n",
    "m  is the overall mean, and mi and Ni are the sample mean and sizes of the respective classes."
   ]
  },
  {
   "cell_type": "code",
   "execution_count": null,
   "metadata": {},
   "outputs": [],
   "source": []
  },
  {
   "cell_type": "code",
   "execution_count": 7,
   "metadata": {},
   "outputs": [
    {
     "name": "stdout",
     "output_type": "stream",
     "text": [
      "[[  63.21213333  -19.534       165.16466667   71.36306667]\n",
      " [ -19.534        10.9776      -56.0552      -22.4924    ]\n",
      " [ 165.16466667  -56.0552      436.64373333  186.90813333]\n",
      " [  71.36306667  -22.4924      186.90813333   80.60413333]]\n"
     ]
    }
   ],
   "source": [
    "overall_mean = np.mean(X, axis=0) # axis = 0 means means along cols\n",
    "\n",
    "S_B = np.zeros((4,4))\n",
    "\n",
    "for class_index in range(3):\n",
    "    N_i = len(X[y == class_index+1])\n",
    "    first_term = mean_vectors[class_index].reshape(4,1) - overall_mean.reshape(4,1)\n",
    "    second_term = (mean_vectors[class_index].reshape(4,1) - overall_mean.reshape(4,1)).T\n",
    "    S_B += N_i * first_term.dot(second_term)\n",
    "    \n",
    "print (S_B)"
   ]
  },
  {
   "cell_type": "markdown",
   "metadata": {},
   "source": [
    "### Solving the generalized eigenvalue problem for the matrix S−1WSB\n",
    "\n"
   ]
  },
  {
   "cell_type": "code",
   "execution_count": 27,
   "metadata": {},
   "outputs": [
    {
     "name": "stdout",
     "output_type": "stream",
     "text": [
      "[  3.22719578e+01   2.77566864e-01   3.42245892e-15   1.14833623e-14]\n",
      "[[-0.20490976 -0.00898234 -0.8843662  -0.22342193]\n",
      " [-0.38714331 -0.58899857  0.28544073 -0.25229799]\n",
      " [ 0.54648218  0.25428655  0.2580474  -0.32596888]\n",
      " [ 0.71378517 -0.76703217  0.26425659  0.88327383]]\n"
     ]
    }
   ],
   "source": [
    "eig_vals, eig_vecs = np.linalg.eig(np.linalg.inv(S_W).dot(S_B))\n",
    "\n",
    "print (eig_vals)\n",
    "\n",
    "print (eig_vecs)\n",
    "\n",
    "# note: eigen vectors will be along the columns"
   ]
  },
  {
   "cell_type": "markdown",
   "metadata": {},
   "source": [
    "If we are performing the LDA for dimensionality reduction, the eigenvectors are important since they will form the new axes of our new feature subspace; the associated eigenvalues are of particular interest since they will tell us how “informative” the new “axes” are.\n",
    "\n",
    "Eigen vectors dont get knocked off their span. So they are good choce for axes"
   ]
  },
  {
   "cell_type": "markdown",
   "metadata": {},
   "source": [
    "###  Cross check"
   ]
  },
  {
   "cell_type": "code",
   "execution_count": 34,
   "metadata": {},
   "outputs": [
    {
     "data": {
      "text/plain": [
       "array([-0.22342193, -0.25229799, -0.32596888,  0.88327383])"
      ]
     },
     "execution_count": 34,
     "metadata": {},
     "output_type": "execute_result"
    }
   ],
   "source": [
    "eig_vecs[:, 3]"
   ]
  },
  {
   "cell_type": "code",
   "execution_count": 51,
   "metadata": {},
   "outputs": [
    {
     "name": "stdout",
     "output_type": "stream",
     "text": [
      "[ -6.61283911 -12.49387258  17.63604981  23.03524504] [ -6.61283911 -12.49387258  17.63604981  23.03524504]\n",
      "[-0.0024932  -0.16348649  0.07058152 -0.21290271] [-0.0024932  -0.16348649  0.07058152 -0.21290271]\n",
      "[ -8.88178420e-16  -3.55271368e-15   5.32907052e-15   5.32907052e-15] [ -3.02670700e-15   9.76909182e-16   8.83156631e-16   9.04407321e-16]\n",
      "[  1.49880108e-15   4.21884749e-15  -4.44089210e-15   1.02140518e-14] [ -2.56563491e-15  -2.89722925e-15  -3.74321875e-15   1.01429534e-14]\n"
     ]
    }
   ],
   "source": [
    "A = np.linalg.inv(S_W).dot(S_B)\n",
    "\n",
    "for i in range(4):\n",
    "    v = eig_vecs[:, i]\n",
    "    lambda_val = float(eig_vals[i])\n",
    "    lhs = A.dot(v.reshape(4,1)).reshape(1, 4)\n",
    "    rhs = lambda_val * v\n",
    "    print (lhs[0], rhs)"
   ]
  },
  {
   "cell_type": "markdown",
   "metadata": {},
   "source": [
    "### 4.1. Sorting the eigenvectors by decreasing eigenvalues\n",
    "\n",
    "Remember from the introduction that we are not only interested in merely projecting the data into a subspace that improves the class separability, but also reduces the dimensionality of our feature space, (where the eigenvectors will form the axes of this new feature subspace).\n",
    "\n",
    "However, the eigenvectors only define the directions of the new axis, since they have all the same unit length 1.\n",
    "\n",
    "So, in order to decide which eigenvector(s) we want to drop for our lower-dimensional subspace, we have to take a look at the corresponding eigenvalues of the eigenvectors. Roughly speaking, the eigenvectors with the lowest eigenvalues bear the least information about the distribution of the data, and those are the ones we want to drop.\n",
    "The common approach is to rank the eigenvectors from highest to lowest corresponding eigenvalue and choose the top k eigenvectors."
   ]
  },
  {
   "cell_type": "code",
   "execution_count": 29,
   "metadata": {},
   "outputs": [
    {
     "name": "stdout",
     "output_type": "stream",
     "text": [
      "Eigenvalues in decreasing order:\n",
      "\n",
      "(32.271957799729812, array([-0.20490976, -0.38714331,  0.54648218,  0.71378517]))\n",
      "(0.27756686384003953, array([-0.00898234, -0.58899857,  0.25428655, -0.76703217]))\n",
      "(1.1483362279322388e-14, array([-0.22342193, -0.25229799, -0.32596888,  0.88327383]))\n",
      "(3.4224589208497691e-15, array([-0.8843662 ,  0.28544073,  0.2580474 ,  0.26425659]))\n"
     ]
    }
   ],
   "source": [
    "# Make a list of (eigenvalue, eigenvector) tuples\n",
    "eig_pairs = [(np.abs(eig_vals[i]), eig_vecs[:,i]) for i in range(len(eig_vals))]\n",
    "\n",
    "# Sort the (eigenvalue, eigenvector) tuples from high to low\n",
    "eig_pairs = sorted(eig_pairs, key=lambda k: k[0], reverse=True)\n",
    "\n",
    "eig_pairs\n",
    "\n",
    "print('Eigenvalues in decreasing order:\\n')\n",
    "for i in eig_pairs:\n",
    "    print(i)"
   ]
  },
  {
   "cell_type": "markdown",
   "metadata": {},
   "source": [
    "\n",
    "If we take a look at the eigenvalues, we can already see that 2 eigenvalues are close to 0. The reason why these are close to 0 is not that they are not informative but it’s due to floating-point imprecision. In fact, these two last eigenvalues should be exactly zero: In LDA, the number of linear discriminants is at most c−1 where c is the number of class labels, since the in-between scatter matrix SB is the sum of c matrices with rank 1 or less. Note that in the rare case of perfect collinearity (all aligned sample points fall on a straight line), the covariance matrix would have rank one, which would result in only one eigenvector with a nonzero eigenvalue."
   ]
  },
  {
   "cell_type": "markdown",
   "metadata": {},
   "source": [
    "Now, let’s express the “explained variance” as percentage:\n",
    "\n"
   ]
  },
  {
   "cell_type": "code",
   "execution_count": 30,
   "metadata": {},
   "outputs": [
    {
     "name": "stdout",
     "output_type": "stream",
     "text": [
      "eigenvalue 1: 99.15%\n",
      "eigenvalue 2: 0.85%\n",
      "eigenvalue 3: 0.00%\n",
      "eigenvalue 4: 0.00%\n"
     ]
    }
   ],
   "source": [
    "eig_val_sum = sum(eig_vals)\n",
    "\n",
    "index = 1\n",
    "for eig_val in eig_vals:\n",
    "    print ('eigenvalue {0:}: {1:.2%}'.format(index, (eig_val/eig_val_sum).real))\n",
    "    index += 1\n"
   ]
  },
  {
   "cell_type": "markdown",
   "metadata": {},
   "source": [
    "**The first eigenpair is by far the most informative one, and we won’t loose much information if we would form a 1D-feature spaced based on this eigenpair.**\n",
    "\n",
    "### Choosing k eigenvectors with the largest eigenvalues\n",
    "\n",
    "After sorting the eigenpairs by decreasing eigenvalues, it is now time to construct our k×d-dimensional eigenvector matrix WW (here 4×2: based on the 2 most informative eigenpairs) and thereby reducing the initial 4-dimensional feature space into a 2-dimensional feature subspace."
   ]
  },
  {
   "cell_type": "code",
   "execution_count": 12,
   "metadata": {},
   "outputs": [
    {
     "name": "stdout",
     "output_type": "stream",
     "text": [
      "Matrix W:\n",
      " [[-0.20490976 -0.00898234]\n",
      " [-0.38714331 -0.58899857]\n",
      " [ 0.54648218  0.25428655]\n",
      " [ 0.71378517 -0.76703217]]\n"
     ]
    }
   ],
   "source": [
    "W = np.hstack((eig_pairs[0][1].reshape(4,1), eig_pairs[1][1].reshape(4,1)))\n",
    "print('Matrix W:\\n', W.real)"
   ]
  },
  {
   "cell_type": "markdown",
   "metadata": {},
   "source": [
    "### Transforming the samples onto the new subspace\n",
    "\n",
    "In the last step, we use the 4×2-dimensional matrix W that we just computed to transform our samples onto the new subspace via the equation\n",
    "\n",
    "Y=X.W\n",
    "\n",
    "(where X is a n×d-dimensional matrix representing the n samples, and Y are the transformed n×k-dimensional samples in the new subspace)."
   ]
  },
  {
   "cell_type": "code",
   "execution_count": 13,
   "metadata": {},
   "outputs": [
    {
     "data": {
      "text/plain": [
       "(150, 2)"
      ]
     },
     "execution_count": 13,
     "metadata": {},
     "output_type": "execute_result"
    }
   ],
   "source": [
    "X_lda = X.dot(W)\n",
    "\n",
    "X_lda.shape"
   ]
  },
  {
   "cell_type": "code",
   "execution_count": 66,
   "metadata": {},
   "outputs": [
    {
     "name": "stderr",
     "output_type": "stream",
     "text": [
      "/home/shaunak/anaconda3/lib/python3.6/site-packages/matplotlib/cbook/__init__.py:424: MatplotlibDeprecationWarning: \n",
      "Passing one of 'on', 'true', 'off', 'false' as a boolean is deprecated; use an actual boolean (True/False) instead.\n",
      "  warn_deprecated(\"2.2\", \"Passing one of 'on', 'true', 'off', 'false' as a \"\n"
     ]
    },
    {
     "data": {
      "image/png": "[encoded data removed]",
      "text/plain": [
       "<Figure size 432x288 with 1 Axes>"
      ]
     },
     "metadata": {},
     "output_type": "display_data"
    }
   ],
   "source": [
    "from matplotlib import pyplot as plt\n",
    "\n",
    "def plot_step_lda():\n",
    "\n",
    "    ax = plt.subplot(111)\n",
    "    for label,marker,color in zip(\n",
    "        range(1,4),('^', 's', 'o'),('blue', 'red', 'green')):\n",
    "\n",
    "        \n",
    "        # basically we are plotting 2nd col vs 1st col acc to class\n",
    "        plt.scatter(x=X_lda[y==label][:, 0],\n",
    "                y=X_lda[y==label][:, 1],\n",
    "                marker=marker,\n",
    "                color=color,\n",
    "                alpha=0.5,\n",
    "                label=label_dict[label]\n",
    "                )\n",
    "\n",
    "    \n",
    "    leg = plt.legend(loc='upper right', fancybox=True)\n",
    "    leg.get_frame().set_alpha(0.5)\n",
    "    plt.title('LDA: Iris projection onto lower subspace of 2 dimensions')\n",
    "\n",
    "    # hide axis ticks\n",
    "    plt.tick_params(axis=\"both\", which=\"both\", bottom=\"off\", top=\"off\",  \n",
    "            labelbottom=\"on\", left=\"off\", right=\"off\", labelleft=\"on\")\n",
    "\n",
    "    # remove axis spines\n",
    "    ax.spines[\"top\"].set_visible(False)  \n",
    "    ax.spines[\"right\"].set_visible(False)\n",
    "    ax.spines[\"bottom\"].set_visible(False)\n",
    "    ax.spines[\"left\"].set_visible(False)    \n",
    "\n",
    "    plt.grid()\n",
    "    plt.tight_layout\n",
    "    plt.show()\n",
    "\n",
    "plot_step_lda()"
   ]
  },
  {
   "cell_type": "code",
   "execution_count": 15,
   "metadata": {
    "scrolled": true
   },
   "outputs": [
    {
     "data": {
      "text/plain": [
       "array([-1.49220928, -1.25765567, -1.3487506 , -1.18024885, -1.51043263,\n",
       "       -1.40183784, -1.27966155, -1.37835575, -1.11648646, -1.3131003 ,\n",
       "       -1.57646265, -1.28272558, -1.30854321, -1.37003298, -1.9385142 ,\n",
       "       -1.76617886, -1.62043071, -1.42083076, -1.49597495, -1.48232553,\n",
       "       -1.35102322, -1.37223268, -1.6470616 , -1.03670041, -1.11878093,\n",
       "       -1.16885021, -1.1809505 , -1.45805203, -1.47398592, -1.18480594,\n",
       "       -1.16658259, -1.31756262, -1.76171654, -1.8451735 , -1.3131003 ,\n",
       "       -1.46487174, -1.6288214 , -1.3131003 , -1.20984901, -1.39884673,\n",
       "       -1.454988  , -0.88796115, -1.28727767, -1.07690779, -1.19235414,\n",
       "       -1.16578618, -1.49905583, -1.2736114 , -1.55597167, -1.39428964])"
      ]
     },
     "execution_count": 15,
     "metadata": {},
     "output_type": "execute_result"
    }
   ],
   "source": [
    "X_lda[:,0].real[y == 1]\n",
    "\n",
    "X_lda[y==1][:, 0]"
   ]
  },
  {
   "cell_type": "code",
   "execution_count": 16,
   "metadata": {},
   "outputs": [
    {
     "data": {
      "text/plain": [
       "1.0"
      ]
     },
     "execution_count": 16,
     "metadata": {},
     "output_type": "execute_result"
    }
   ],
   "source": [
    "np.linalg.norm((eig_pairs[1][1]))"
   ]
  },
  {
   "cell_type": "markdown",
   "metadata": {},
   "source": [
    "### Choosing 1 eigen vector"
   ]
  },
  {
   "cell_type": "code",
   "execution_count": 17,
   "metadata": {
    "scrolled": true
   },
   "outputs": [
    {
     "data": {
      "text/plain": [
       "array([[-0.20490976],\n",
       "       [-0.38714331],\n",
       "       [ 0.54648218],\n",
       "       [ 0.71378517]])"
      ]
     },
     "execution_count": 17,
     "metadata": {},
     "output_type": "execute_result"
    }
   ],
   "source": [
    "chosen_eigen_vector = eig_pairs[0][1]\n",
    "\n",
    "w_new = chosen_eigen_vector.reshape(4,1)\n",
    "\n",
    "w_new"
   ]
  },
  {
   "cell_type": "code",
   "execution_count": 18,
   "metadata": {},
   "outputs": [
    {
     "data": {
      "text/plain": [
       "(150, 1)"
      ]
     },
     "execution_count": 18,
     "metadata": {},
     "output_type": "execute_result"
    }
   ],
   "source": [
    "Y_reduced = X.dot(w_new)\n",
    "\n",
    "Y_reduced.shape"
   ]
  },
  {
   "cell_type": "code",
   "execution_count": 63,
   "metadata": {},
   "outputs": [
    {
     "data": {
      "text/plain": [
       "array([[-1.49220928],\n",
       "       [-1.25765567],\n",
       "       [-1.3487506 ],\n",
       "       [-1.18024885],\n",
       "       [-1.51043263],\n",
       "       [-1.40183784],\n",
       "       [-1.27966155],\n",
       "       [-1.37835575],\n",
       "       [-1.11648646],\n",
       "       [-1.3131003 ],\n",
       "       [-1.57646265],\n",
       "       [-1.28272558],\n",
       "       [-1.30854321],\n",
       "       [-1.37003298],\n",
       "       [-1.9385142 ],\n",
       "       [-1.76617886],\n",
       "       [-1.62043071],\n",
       "       [-1.42083076],\n",
       "       [-1.49597495],\n",
       "       [-1.48232553],\n",
       "       [-1.35102322],\n",
       "       [-1.37223268],\n",
       "       [-1.6470616 ],\n",
       "       [-1.03670041],\n",
       "       [-1.11878093],\n",
       "       [-1.16885021],\n",
       "       [-1.1809505 ],\n",
       "       [-1.45805203],\n",
       "       [-1.47398592],\n",
       "       [-1.18480594],\n",
       "       [-1.16658259],\n",
       "       [-1.31756262],\n",
       "       [-1.76171654],\n",
       "       [-1.8451735 ],\n",
       "       [-1.3131003 ],\n",
       "       [-1.46487174],\n",
       "       [-1.6288214 ],\n",
       "       [-1.3131003 ],\n",
       "       [-1.20984901],\n",
       "       [-1.39884673],\n",
       "       [-1.454988  ],\n",
       "       [-0.88796115],\n",
       "       [-1.28727767],\n",
       "       [-1.07690779],\n",
       "       [-1.19235414],\n",
       "       [-1.16578618],\n",
       "       [-1.49905583],\n",
       "       [-1.2736114 ],\n",
       "       [-1.55597167],\n",
       "       [-1.39428964],\n",
       "       [ 0.89453857],\n",
       "       [ 0.97956651],\n",
       "       [ 1.13441883],\n",
       "       [ 1.09641615],\n",
       "       [ 1.16858108],\n",
       "       [ 1.13510363],\n",
       "       [ 1.14201811],\n",
       "       [ 0.5839746 ],\n",
       "       [ 0.96661874],\n",
       "       [ 1.01976205],\n",
       "       [ 0.82763738],\n",
       "       [ 0.9955054 ],\n",
       "       [ 0.81854005],\n",
       "       [ 1.19510035],\n",
       "       [ 0.62504632],\n",
       "       [ 0.83078118],\n",
       "       [ 1.22092298],\n",
       "       [ 0.72059856],\n",
       "       [ 1.40769177],\n",
       "       [ 0.80109126],\n",
       "       [ 1.4601016 ],\n",
       "       [ 0.77989864],\n",
       "       [ 1.48965068],\n",
       "       [ 1.09105765],\n",
       "       [ 0.84365603],\n",
       "       [ 0.88998649],\n",
       "       [ 1.14502607],\n",
       "       [ 1.41152037],\n",
       "       [ 1.17767341],\n",
       "       [ 0.45191456],\n",
       "       [ 0.80564835],\n",
       "       [ 0.67962161],\n",
       "       [ 0.75405916],\n",
       "       [ 1.6543699 ],\n",
       "       [ 1.26190493],\n",
       "       [ 1.05548027],\n",
       "       [ 1.06610435],\n",
       "       [ 1.15108121],\n",
       "       [ 0.85957307],\n",
       "       [ 1.01898749],\n",
       "       [ 1.12748751],\n",
       "       [ 1.1017378 ],\n",
       "       [ 0.84742171],\n",
       "       [ 0.60219795],\n",
       "       [ 1.03036429],\n",
       "       [ 0.8223518 ],\n",
       "       [ 0.93244465],\n",
       "       [ 0.88463799],\n",
       "       [ 0.41171218],\n",
       "       [ 0.91651076],\n",
       "       [ 2.4948516 ],\n",
       "       [ 1.9094874 ],\n",
       "       [ 2.1069045 ],\n",
       "       [ 1.93146643],\n",
       "       [ 2.24658065],\n",
       "       [ 2.38698714],\n",
       "       [ 1.7006885 ],\n",
       "       [ 2.1090942 ],\n",
       "       [ 2.11365629],\n",
       "       [ 2.24893804],\n",
       "       [ 1.64385743],\n",
       "       [ 1.89583798],\n",
       "       [ 1.94978455],\n",
       "       [ 2.02413734],\n",
       "       [ 2.22766566],\n",
       "       [ 1.98778039],\n",
       "       [ 1.79712193],\n",
       "       [ 2.18280825],\n",
       "       [ 2.82805518],\n",
       "       [ 1.72191482],\n",
       "       [ 2.10391839],\n",
       "       [ 1.8738371 ],\n",
       "       [ 2.42719453],\n",
       "       [ 1.62635757],\n",
       "       [ 1.96342897],\n",
       "       [ 1.84949752],\n",
       "       [ 1.55348599],\n",
       "       [ 1.55119653],\n",
       "       [ 2.16382534],\n",
       "       [ 1.67487272],\n",
       "       [ 2.08939963],\n",
       "       [ 1.83512461],\n",
       "       [ 2.23520385],\n",
       "       [ 1.48280412],\n",
       "       [ 1.8030773 ],\n",
       "       [ 2.23601211],\n",
       "       [ 2.16616588],\n",
       "       [ 1.77889857],\n",
       "       [ 1.51703928],\n",
       "       [ 1.83593103],\n",
       "       [ 2.20034497],\n",
       "       [ 1.81474341],\n",
       "       [ 1.9094874 ],\n",
       "       [ 2.2337058 ],\n",
       "       [ 2.24894304],\n",
       "       [ 1.94908791],\n",
       "       [ 1.82981296],\n",
       "       [ 1.77593431],\n",
       "       [ 2.0059819 ],\n",
       "       [ 1.70147491]])"
      ]
     },
     "execution_count": 63,
     "metadata": {},
     "output_type": "execute_result"
    }
   ],
   "source": [
    "Y_reduced"
   ]
  },
  {
   "cell_type": "code",
   "execution_count": 64,
   "metadata": {},
   "outputs": [
    {
     "data": {
      "text/plain": [
       "<matplotlib.legend.Legend at 0x7fbfb6995588>"
      ]
     },
     "execution_count": 64,
     "metadata": {},
     "output_type": "execute_result"
    },
    {
     "data": {
      "image/png": "[encoded data removed]",
      "text/plain": [
       "<Figure size 432x288 with 1 Axes>"
      ]
     },
     "metadata": {},
     "output_type": "display_data"
    }
   ],
   "source": [
    "plt.hist(Y_reduced[y == 1], alpha =0.5,label=\"Setosa\") \n",
    "plt.hist(Y_reduced[y == 2], alpha =0.5,label=\"Versicolor\") \n",
    "plt.hist(Y_reduced[y == 3], alpha =0.5,label=\"Virginica\") \n",
    "plt.title(\"Distribution of the values in reduced dimension\")\n",
    "plt.xlabel(\"Y\")\n",
    "plt.legend(prop={'size': 10})"
   ]
  },
  {
   "cell_type": "markdown",
   "metadata": {},
   "source": [
    "### Bias term added"
   ]
  },
  {
   "cell_type": "code",
   "execution_count": 67,
   "metadata": {},
   "outputs": [
    {
     "name": "stdout",
     "output_type": "stream",
     "text": [
      "[[  9.79509024]\n",
      " [  9.61285669]\n",
      " [ 10.54648218]\n",
      " [ 10.71378517]]\n"
     ]
    }
   ],
   "source": [
    "w_new2 = w_new + 10\n",
    "\n",
    "print (w_new2)\n",
    "\n",
    "Y_reduced2 = X.dot(w_new2)"
   ]
  },
  {
   "cell_type": "code",
   "execution_count": 71,
   "metadata": {},
   "outputs": [
    {
     "data": {
      "text/plain": [
       "<matplotlib.legend.Legend at 0x7fbfb6648400>"
      ]
     },
     "execution_count": 71,
     "metadata": {},
     "output_type": "execute_result"
    },
    {
     "data": {
      "image/png": "[encoded data removed]",
      "text/plain": [
       "<Figure size 432x288 with 1 Axes>"
      ]
     },
     "metadata": {},
     "output_type": "display_data"
    }
   ],
   "source": [
    "plt.hist(Y_reduced2[y == 1], alpha =0.5, label=\"Setosa\") \n",
    "plt.hist(Y_reduced2[y == 2], alpha =0.5, label=\"Versicolor\") \n",
    "plt.hist(Y_reduced2[y == 3], alpha =0.5, label=\"Virginica\") \n",
    "plt.title(\"Distribution of the values in reduced dimension\")\n",
    "plt.xlabel(\"Y\")\n",
    "plt.legend()"
   ]
  }
 ],
 "metadata": {
  "kernelspec": {
   "display_name": "Python 3",
   "language": "python",
   "name": "python3"
  },
  "language_info": {
   "codemirror_mode": {
    "name": "ipython",
    "version": 3
   },
   "file_extension": ".py",
   "mimetype": "text/x-python",
   "name": "python",
   "nbconvert_exporter": "python",
   "pygments_lexer": "ipython3",
   "version": "3.6.3"
  }
 },
 "nbformat": 4,
 "nbformat_minor": 2
}
