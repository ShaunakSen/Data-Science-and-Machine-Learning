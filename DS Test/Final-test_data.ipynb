{
 "cells": [
  {
   "cell_type": "markdown",
   "metadata": {},
   "source": [
    "### Imprt libraries and read the data"
   ]
  },
  {
   "cell_type": "code",
   "execution_count": 160,
   "metadata": {},
   "outputs": [],
   "source": [
    "import pandas as pd\n",
    "import numpy as np\n",
    "%matplotlib inline\n",
    "import matplotlib.pyplot as plt\n",
    "from matplotlib import pyplot\n",
    "import seaborn as sns\n",
    "from scipy import stats\n",
    "\n",
    "from sklearn.neighbors import KNeighborsClassifier\n",
    "from sklearn.model_selection import train_test_split\n",
    "from sklearn.linear_model import LogisticRegression\n",
    "from sklearn.tree import DecisionTreeClassifier\n",
    "from sklearn.ensemble import RandomForestClassifier\n",
    "from sklearn.metrics import accuracy_score\n",
    "from sklearn import svm\n",
    "from sklearn.metrics import roc_curve, roc_auc_score, auc\n",
    "from sklearn.model_selection import GridSearchCV\n",
    "\n",
    "\n",
    "from sklearn.model_selection import cross_val_score, GridSearchCV, KFold, RandomizedSearchCV\n"
   ]
  },
  {
   "cell_type": "code",
   "execution_count": 161,
   "metadata": {},
   "outputs": [
    {
     "data": {
      "text/html": [
       "<div>\n",
       "<style scoped>\n",
       "    .dataframe tbody tr th:only-of-type {\n",
       "        vertical-align: middle;\n",
       "    }\n",
       "\n",
       "    .dataframe tbody tr th {\n",
       "        vertical-align: top;\n",
       "    }\n",
       "\n",
       "    .dataframe thead th {\n",
       "        text-align: right;\n",
       "    }\n",
       "</style>\n",
       "<table border=\"1\" class=\"dataframe\">\n",
       "  <thead>\n",
       "    <tr style=\"text-align: right;\">\n",
       "      <th></th>\n",
       "      <th>Unique_ID</th>\n",
       "      <th>C1</th>\n",
       "      <th>C2</th>\n",
       "      <th>C3</th>\n",
       "      <th>C4</th>\n",
       "      <th>C5</th>\n",
       "      <th>C6</th>\n",
       "      <th>C7</th>\n",
       "      <th>C8</th>\n",
       "      <th>N1</th>\n",
       "      <th>...</th>\n",
       "      <th>N26</th>\n",
       "      <th>N27</th>\n",
       "      <th>N28</th>\n",
       "      <th>N29</th>\n",
       "      <th>N30</th>\n",
       "      <th>N31</th>\n",
       "      <th>N32</th>\n",
       "      <th>N33</th>\n",
       "      <th>N34</th>\n",
       "      <th>N35</th>\n",
       "    </tr>\n",
       "  </thead>\n",
       "  <tbody>\n",
       "    <tr>\n",
       "      <th>0</th>\n",
       "      <td>Candidate_1602</td>\n",
       "      <td>1</td>\n",
       "      <td>0</td>\n",
       "      <td>0</td>\n",
       "      <td>23</td>\n",
       "      <td>0</td>\n",
       "      <td>True</td>\n",
       "      <td>0</td>\n",
       "      <td>True</td>\n",
       "      <td>18.00</td>\n",
       "      <td>...</td>\n",
       "      <td>NaN</td>\n",
       "      <td>NaN</td>\n",
       "      <td>NaN</td>\n",
       "      <td>NaN</td>\n",
       "      <td>NaN</td>\n",
       "      <td>NaN</td>\n",
       "      <td>NaN</td>\n",
       "      <td>50.0</td>\n",
       "      <td>90.38</td>\n",
       "      <td>23.0</td>\n",
       "    </tr>\n",
       "    <tr>\n",
       "      <th>1</th>\n",
       "      <td>Candidate_29650</td>\n",
       "      <td>1</td>\n",
       "      <td>0</td>\n",
       "      <td>2</td>\n",
       "      <td>4</td>\n",
       "      <td>2</td>\n",
       "      <td>True</td>\n",
       "      <td>2</td>\n",
       "      <td>True</td>\n",
       "      <td>16.75</td>\n",
       "      <td>...</td>\n",
       "      <td>NaN</td>\n",
       "      <td>NaN</td>\n",
       "      <td>NaN</td>\n",
       "      <td>NaN</td>\n",
       "      <td>NaN</td>\n",
       "      <td>NaN</td>\n",
       "      <td>NaN</td>\n",
       "      <td>300.0</td>\n",
       "      <td>532.93</td>\n",
       "      <td>16.0</td>\n",
       "    </tr>\n",
       "    <tr>\n",
       "      <th>2</th>\n",
       "      <td>Candidate_31061</td>\n",
       "      <td>1</td>\n",
       "      <td>2</td>\n",
       "      <td>3</td>\n",
       "      <td>38</td>\n",
       "      <td>1</td>\n",
       "      <td>False</td>\n",
       "      <td>4</td>\n",
       "      <td>True</td>\n",
       "      <td>29.99</td>\n",
       "      <td>...</td>\n",
       "      <td>6.0</td>\n",
       "      <td>6.0</td>\n",
       "      <td>0.0</td>\n",
       "      <td>0.0</td>\n",
       "      <td>5000.0</td>\n",
       "      <td>4334.59</td>\n",
       "      <td>-82.0</td>\n",
       "      <td>80.0</td>\n",
       "      <td>169.78</td>\n",
       "      <td>22.0</td>\n",
       "    </tr>\n",
       "    <tr>\n",
       "      <th>3</th>\n",
       "      <td>Candidate_5768</td>\n",
       "      <td>1</td>\n",
       "      <td>1</td>\n",
       "      <td>28</td>\n",
       "      <td>20</td>\n",
       "      <td>2</td>\n",
       "      <td>False</td>\n",
       "      <td>2</td>\n",
       "      <td>True</td>\n",
       "      <td>17.70</td>\n",
       "      <td>...</td>\n",
       "      <td>NaN</td>\n",
       "      <td>NaN</td>\n",
       "      <td>NaN</td>\n",
       "      <td>NaN</td>\n",
       "      <td>NaN</td>\n",
       "      <td>NaN</td>\n",
       "      <td>NaN</td>\n",
       "      <td>150.0</td>\n",
       "      <td>270.02</td>\n",
       "      <td>13.0</td>\n",
       "    </tr>\n",
       "    <tr>\n",
       "      <th>4</th>\n",
       "      <td>Candidate_27059</td>\n",
       "      <td>1</td>\n",
       "      <td>1</td>\n",
       "      <td>15</td>\n",
       "      <td>1</td>\n",
       "      <td>3</td>\n",
       "      <td>False</td>\n",
       "      <td>5</td>\n",
       "      <td>False</td>\n",
       "      <td>28.00</td>\n",
       "      <td>...</td>\n",
       "      <td>NaN</td>\n",
       "      <td>NaN</td>\n",
       "      <td>NaN</td>\n",
       "      <td>NaN</td>\n",
       "      <td>NaN</td>\n",
       "      <td>NaN</td>\n",
       "      <td>NaN</td>\n",
       "      <td>50.0</td>\n",
       "      <td>103.41</td>\n",
       "      <td>14.0</td>\n",
       "    </tr>\n",
       "  </tbody>\n",
       "</table>\n",
       "<p>5 rows × 44 columns</p>\n",
       "</div>"
      ],
      "text/plain": [
       "         Unique_ID  C1  C2  C3  C4  C5     C6  C7     C8     N1  ...   N26  \\\n",
       "0   Candidate_1602   1   0   0  23   0   True   0   True  18.00  ...   NaN   \n",
       "1  Candidate_29650   1   0   2   4   2   True   2   True  16.75  ...   NaN   \n",
       "2  Candidate_31061   1   2   3  38   1  False   4   True  29.99  ...   6.0   \n",
       "3   Candidate_5768   1   1  28  20   2  False   2   True  17.70  ...   NaN   \n",
       "4  Candidate_27059   1   1  15   1   3  False   5  False  28.00  ...   NaN   \n",
       "\n",
       "   N27  N28  N29     N30      N31   N32    N33     N34   N35  \n",
       "0  NaN  NaN  NaN     NaN      NaN   NaN   50.0   90.38  23.0  \n",
       "1  NaN  NaN  NaN     NaN      NaN   NaN  300.0  532.93  16.0  \n",
       "2  6.0  0.0  0.0  5000.0  4334.59 -82.0   80.0  169.78  22.0  \n",
       "3  NaN  NaN  NaN     NaN      NaN   NaN  150.0  270.02  13.0  \n",
       "4  NaN  NaN  NaN     NaN      NaN   NaN   50.0  103.41  14.0  \n",
       "\n",
       "[5 rows x 44 columns]"
      ]
     },
     "execution_count": 161,
     "metadata": {},
     "output_type": "execute_result"
    }
   ],
   "source": [
    "X_train = pd.read_csv('./Test/X_test.csv')\n",
    "\n",
    "X_train.head()"
   ]
  },
  {
   "cell_type": "markdown",
   "metadata": {},
   "source": [
    "Checking the data types:"
   ]
  },
  {
   "cell_type": "code",
   "execution_count": 162,
   "metadata": {
    "scrolled": true
   },
   "outputs": [
    {
     "name": "stdout",
     "output_type": "stream",
     "text": [
      "Unique_ID     object\n",
      "C1             int64\n",
      "C2             int64\n",
      "C3             int64\n",
      "C4             int64\n",
      "C5             int64\n",
      "C6              bool\n",
      "C7             int64\n",
      "C8              bool\n",
      "N1           float64\n",
      "N2           float64\n",
      "N3           float64\n",
      "N4           float64\n",
      "N5           float64\n",
      "N6           float64\n",
      "N7           float64\n",
      "N8             int64\n",
      "N9             int64\n",
      "N10          float64\n",
      "N10.1        float64\n",
      "N11          float64\n",
      "N12          float64\n",
      "N14          float64\n",
      "N15          float64\n",
      "N16          float64\n",
      "N17          float64\n",
      "N18          float64\n",
      "N19          float64\n",
      "N20          float64\n",
      "N21          float64\n",
      "N22          float64\n",
      "N23          float64\n",
      "N24          float64\n",
      "N25          float64\n",
      "N26          float64\n",
      "N27          float64\n",
      "N28          float64\n",
      "N29          float64\n",
      "N30          float64\n",
      "N31          float64\n",
      "N32          float64\n",
      "N33          float64\n",
      "N34          float64\n",
      "N35          float64\n",
      "dtype: object\n"
     ]
    }
   ],
   "source": [
    "print (X_train.dtypes)"
   ]
  },
  {
   "cell_type": "markdown",
   "metadata": {},
   "source": [
    "The column data types seem correct\n",
    "\n",
    "\n",
    "Categorical cols are C6 and C8"
   ]
  },
  {
   "cell_type": "code",
   "execution_count": 163,
   "metadata": {},
   "outputs": [],
   "source": [
    "nrows, ncols = X_train.shape[0], X_train.shape[1]"
   ]
  },
  {
   "cell_type": "code",
   "execution_count": 164,
   "metadata": {},
   "outputs": [],
   "source": [
    "cols = list(X_train.columns)"
   ]
  },
  {
   "cell_type": "markdown",
   "metadata": {},
   "source": [
    "\n",
    "### Check statistical summary of each col\n",
    "\n",
    "This only considers numerical values"
   ]
  },
  {
   "cell_type": "code",
   "execution_count": 165,
   "metadata": {
    "scrolled": false
   },
   "outputs": [
    {
     "data": {
      "text/html": [
       "<div>\n",
       "<style scoped>\n",
       "    .dataframe tbody tr th:only-of-type {\n",
       "        vertical-align: middle;\n",
       "    }\n",
       "\n",
       "    .dataframe tbody tr th {\n",
       "        vertical-align: top;\n",
       "    }\n",
       "\n",
       "    .dataframe thead th {\n",
       "        text-align: right;\n",
       "    }\n",
       "</style>\n",
       "<table border=\"1\" class=\"dataframe\">\n",
       "  <thead>\n",
       "    <tr style=\"text-align: right;\">\n",
       "      <th></th>\n",
       "      <th>Unique_ID</th>\n",
       "      <th>C1</th>\n",
       "      <th>C2</th>\n",
       "      <th>C3</th>\n",
       "      <th>C4</th>\n",
       "      <th>C5</th>\n",
       "      <th>C6</th>\n",
       "      <th>C7</th>\n",
       "      <th>C8</th>\n",
       "      <th>N1</th>\n",
       "      <th>N2</th>\n",
       "      <th>N3</th>\n",
       "      <th>N4</th>\n",
       "      <th>N5</th>\n",
       "      <th>N6</th>\n",
       "      <th>N7</th>\n",
       "    </tr>\n",
       "  </thead>\n",
       "  <tbody>\n",
       "    <tr>\n",
       "      <th>count</th>\n",
       "      <td>11017</td>\n",
       "      <td>11017.000000</td>\n",
       "      <td>11017.000000</td>\n",
       "      <td>11017.000000</td>\n",
       "      <td>11017.000000</td>\n",
       "      <td>11017.000000</td>\n",
       "      <td>11017</td>\n",
       "      <td>11017.000000</td>\n",
       "      <td>11017</td>\n",
       "      <td>11017.000000</td>\n",
       "      <td>9528.000000</td>\n",
       "      <td>10905.000000</td>\n",
       "      <td>9529.000000</td>\n",
       "      <td>9529.000000</td>\n",
       "      <td>10905.000000</td>\n",
       "      <td>10888.000000</td>\n",
       "    </tr>\n",
       "    <tr>\n",
       "      <th>unique</th>\n",
       "      <td>11017</td>\n",
       "      <td>NaN</td>\n",
       "      <td>NaN</td>\n",
       "      <td>NaN</td>\n",
       "      <td>NaN</td>\n",
       "      <td>NaN</td>\n",
       "      <td>2</td>\n",
       "      <td>NaN</td>\n",
       "      <td>2</td>\n",
       "      <td>NaN</td>\n",
       "      <td>NaN</td>\n",
       "      <td>NaN</td>\n",
       "      <td>NaN</td>\n",
       "      <td>NaN</td>\n",
       "      <td>NaN</td>\n",
       "      <td>NaN</td>\n",
       "    </tr>\n",
       "    <tr>\n",
       "      <th>top</th>\n",
       "      <td>Candidate_9050</td>\n",
       "      <td>NaN</td>\n",
       "      <td>NaN</td>\n",
       "      <td>NaN</td>\n",
       "      <td>NaN</td>\n",
       "      <td>NaN</td>\n",
       "      <td>False</td>\n",
       "      <td>NaN</td>\n",
       "      <td>True</td>\n",
       "      <td>NaN</td>\n",
       "      <td>NaN</td>\n",
       "      <td>NaN</td>\n",
       "      <td>NaN</td>\n",
       "      <td>NaN</td>\n",
       "      <td>NaN</td>\n",
       "      <td>NaN</td>\n",
       "    </tr>\n",
       "    <tr>\n",
       "      <th>freq</th>\n",
       "      <td>1</td>\n",
       "      <td>NaN</td>\n",
       "      <td>NaN</td>\n",
       "      <td>NaN</td>\n",
       "      <td>NaN</td>\n",
       "      <td>NaN</td>\n",
       "      <td>5821</td>\n",
       "      <td>NaN</td>\n",
       "      <td>10154</td>\n",
       "      <td>NaN</td>\n",
       "      <td>NaN</td>\n",
       "      <td>NaN</td>\n",
       "      <td>NaN</td>\n",
       "      <td>NaN</td>\n",
       "      <td>NaN</td>\n",
       "      <td>NaN</td>\n",
       "    </tr>\n",
       "    <tr>\n",
       "      <th>mean</th>\n",
       "      <td>NaN</td>\n",
       "      <td>1.125533</td>\n",
       "      <td>2.463647</td>\n",
       "      <td>12.883997</td>\n",
       "      <td>14.488427</td>\n",
       "      <td>1.735046</td>\n",
       "      <td>NaN</td>\n",
       "      <td>3.117636</td>\n",
       "      <td>NaN</td>\n",
       "      <td>20.092037</td>\n",
       "      <td>81.279492</td>\n",
       "      <td>3.360064</td>\n",
       "      <td>9.529961</td>\n",
       "      <td>8.288488</td>\n",
       "      <td>3.455064</td>\n",
       "      <td>25.271400</td>\n",
       "    </tr>\n",
       "    <tr>\n",
       "      <th>std</th>\n",
       "      <td>NaN</td>\n",
       "      <td>0.409512</td>\n",
       "      <td>3.409954</td>\n",
       "      <td>11.964840</td>\n",
       "      <td>15.628293</td>\n",
       "      <td>1.324165</td>\n",
       "      <td>NaN</td>\n",
       "      <td>2.133982</td>\n",
       "      <td>NaN</td>\n",
       "      <td>8.149355</td>\n",
       "      <td>83.802131</td>\n",
       "      <td>0.404097</td>\n",
       "      <td>5.533917</td>\n",
       "      <td>4.935158</td>\n",
       "      <td>0.404097</td>\n",
       "      <td>14.153371</td>\n",
       "    </tr>\n",
       "    <tr>\n",
       "      <th>min</th>\n",
       "      <td>NaN</td>\n",
       "      <td>1.000000</td>\n",
       "      <td>0.000000</td>\n",
       "      <td>0.000000</td>\n",
       "      <td>0.000000</td>\n",
       "      <td>0.000000</td>\n",
       "      <td>NaN</td>\n",
       "      <td>0.000000</td>\n",
       "      <td>NaN</td>\n",
       "      <td>0.000000</td>\n",
       "      <td>0.000000</td>\n",
       "      <td>0.000000</td>\n",
       "      <td>0.000000</td>\n",
       "      <td>0.000000</td>\n",
       "      <td>0.095000</td>\n",
       "      <td>2.000000</td>\n",
       "    </tr>\n",
       "    <tr>\n",
       "      <th>25%</th>\n",
       "      <td>NaN</td>\n",
       "      <td>1.000000</td>\n",
       "      <td>0.000000</td>\n",
       "      <td>2.000000</td>\n",
       "      <td>1.000000</td>\n",
       "      <td>1.000000</td>\n",
       "      <td>NaN</td>\n",
       "      <td>2.000000</td>\n",
       "      <td>NaN</td>\n",
       "      <td>13.500000</td>\n",
       "      <td>21.000000</td>\n",
       "      <td>3.200000</td>\n",
       "      <td>6.000000</td>\n",
       "      <td>5.000000</td>\n",
       "      <td>3.295000</td>\n",
       "      <td>15.000000</td>\n",
       "    </tr>\n",
       "    <tr>\n",
       "      <th>50%</th>\n",
       "      <td>NaN</td>\n",
       "      <td>1.000000</td>\n",
       "      <td>1.000000</td>\n",
       "      <td>10.000000</td>\n",
       "      <td>10.000000</td>\n",
       "      <td>2.000000</td>\n",
       "      <td>NaN</td>\n",
       "      <td>4.000000</td>\n",
       "      <td>NaN</td>\n",
       "      <td>19.500000</td>\n",
       "      <td>53.000000</td>\n",
       "      <td>3.400000</td>\n",
       "      <td>9.000000</td>\n",
       "      <td>8.000000</td>\n",
       "      <td>3.495000</td>\n",
       "      <td>23.000000</td>\n",
       "    </tr>\n",
       "    <tr>\n",
       "      <th>75%</th>\n",
       "      <td>NaN</td>\n",
       "      <td>1.000000</td>\n",
       "      <td>3.000000</td>\n",
       "      <td>20.000000</td>\n",
       "      <td>24.000000</td>\n",
       "      <td>2.000000</td>\n",
       "      <td>NaN</td>\n",
       "      <td>4.000000</td>\n",
       "      <td>NaN</td>\n",
       "      <td>26.990000</td>\n",
       "      <td>114.000000</td>\n",
       "      <td>3.600000</td>\n",
       "      <td>13.000000</td>\n",
       "      <td>11.000000</td>\n",
       "      <td>3.695000</td>\n",
       "      <td>33.000000</td>\n",
       "    </tr>\n",
       "    <tr>\n",
       "      <th>max</th>\n",
       "      <td>NaN</td>\n",
       "      <td>3.000000</td>\n",
       "      <td>20.000000</td>\n",
       "      <td>51.000000</td>\n",
       "      <td>67.000000</td>\n",
       "      <td>7.000000</td>\n",
       "      <td>NaN</td>\n",
       "      <td>7.000000</td>\n",
       "      <td>NaN</td>\n",
       "      <td>49.750000</td>\n",
       "      <td>551.000000</td>\n",
       "      <td>4.400000</td>\n",
       "      <td>56.000000</td>\n",
       "      <td>45.000000</td>\n",
       "      <td>4.495000</td>\n",
       "      <td>118.000000</td>\n",
       "    </tr>\n",
       "  </tbody>\n",
       "</table>\n",
       "</div>"
      ],
      "text/plain": [
       "             Unique_ID            C1            C2            C3  \\\n",
       "count            11017  11017.000000  11017.000000  11017.000000   \n",
       "unique           11017           NaN           NaN           NaN   \n",
       "top     Candidate_9050           NaN           NaN           NaN   \n",
       "freq                 1           NaN           NaN           NaN   \n",
       "mean               NaN      1.125533      2.463647     12.883997   \n",
       "std                NaN      0.409512      3.409954     11.964840   \n",
       "min                NaN      1.000000      0.000000      0.000000   \n",
       "25%                NaN      1.000000      0.000000      2.000000   \n",
       "50%                NaN      1.000000      1.000000     10.000000   \n",
       "75%                NaN      1.000000      3.000000     20.000000   \n",
       "max                NaN      3.000000     20.000000     51.000000   \n",
       "\n",
       "                  C4            C5     C6            C7     C8            N1  \\\n",
       "count   11017.000000  11017.000000  11017  11017.000000  11017  11017.000000   \n",
       "unique           NaN           NaN      2           NaN      2           NaN   \n",
       "top              NaN           NaN  False           NaN   True           NaN   \n",
       "freq             NaN           NaN   5821           NaN  10154           NaN   \n",
       "mean       14.488427      1.735046    NaN      3.117636    NaN     20.092037   \n",
       "std        15.628293      1.324165    NaN      2.133982    NaN      8.149355   \n",
       "min         0.000000      0.000000    NaN      0.000000    NaN      0.000000   \n",
       "25%         1.000000      1.000000    NaN      2.000000    NaN     13.500000   \n",
       "50%        10.000000      2.000000    NaN      4.000000    NaN     19.500000   \n",
       "75%        24.000000      2.000000    NaN      4.000000    NaN     26.990000   \n",
       "max        67.000000      7.000000    NaN      7.000000    NaN     49.750000   \n",
       "\n",
       "                 N2            N3           N4           N5            N6  \\\n",
       "count   9528.000000  10905.000000  9529.000000  9529.000000  10905.000000   \n",
       "unique          NaN           NaN          NaN          NaN           NaN   \n",
       "top             NaN           NaN          NaN          NaN           NaN   \n",
       "freq            NaN           NaN          NaN          NaN           NaN   \n",
       "mean      81.279492      3.360064     9.529961     8.288488      3.455064   \n",
       "std       83.802131      0.404097     5.533917     4.935158      0.404097   \n",
       "min        0.000000      0.000000     0.000000     0.000000      0.095000   \n",
       "25%       21.000000      3.200000     6.000000     5.000000      3.295000   \n",
       "50%       53.000000      3.400000     9.000000     8.000000      3.495000   \n",
       "75%      114.000000      3.600000    13.000000    11.000000      3.695000   \n",
       "max      551.000000      4.400000    56.000000    45.000000      4.495000   \n",
       "\n",
       "                  N7  \n",
       "count   10888.000000  \n",
       "unique           NaN  \n",
       "top              NaN  \n",
       "freq             NaN  \n",
       "mean       25.271400  \n",
       "std        14.153371  \n",
       "min         2.000000  \n",
       "25%        15.000000  \n",
       "50%        23.000000  \n",
       "75%        33.000000  \n",
       "max       118.000000  "
      ]
     },
     "execution_count": 165,
     "metadata": {},
     "output_type": "execute_result"
    }
   ],
   "source": [
    "# first 15 cols description\n",
    "\n",
    "X_train[cols[:16]].describe(include='all')"
   ]
  },
  {
   "cell_type": "code",
   "execution_count": 166,
   "metadata": {
    "scrolled": true
   },
   "outputs": [
    {
     "data": {
      "text/html": [
       "<div>\n",
       "<style scoped>\n",
       "    .dataframe tbody tr th:only-of-type {\n",
       "        vertical-align: middle;\n",
       "    }\n",
       "\n",
       "    .dataframe tbody tr th {\n",
       "        vertical-align: top;\n",
       "    }\n",
       "\n",
       "    .dataframe thead th {\n",
       "        text-align: right;\n",
       "    }\n",
       "</style>\n",
       "<table border=\"1\" class=\"dataframe\">\n",
       "  <thead>\n",
       "    <tr style=\"text-align: right;\">\n",
       "      <th></th>\n",
       "      <th>N7</th>\n",
       "      <th>N8</th>\n",
       "      <th>N9</th>\n",
       "      <th>N10</th>\n",
       "      <th>N10.1</th>\n",
       "      <th>N11</th>\n",
       "      <th>N12</th>\n",
       "      <th>N14</th>\n",
       "      <th>N15</th>\n",
       "      <th>N16</th>\n",
       "      <th>N17</th>\n",
       "      <th>N18</th>\n",
       "      <th>N19</th>\n",
       "      <th>N20</th>\n",
       "      <th>N21</th>\n",
       "      <th>N22</th>\n",
       "    </tr>\n",
       "  </thead>\n",
       "  <tbody>\n",
       "    <tr>\n",
       "      <th>count</th>\n",
       "      <td>10888.000000</td>\n",
       "      <td>11017.000000</td>\n",
       "      <td>11017.000000</td>\n",
       "      <td>10888.000000</td>\n",
       "      <td>10888.000000</td>\n",
       "      <td>10799.000000</td>\n",
       "      <td>9526.000000</td>\n",
       "      <td>10829.000000</td>\n",
       "      <td>10888.000000</td>\n",
       "      <td>9529.000000</td>\n",
       "      <td>9529.000000</td>\n",
       "      <td>9529.000000</td>\n",
       "      <td>9546.000000</td>\n",
       "      <td>9546.000000</td>\n",
       "      <td>9546.000000</td>\n",
       "      <td>9546.000000</td>\n",
       "    </tr>\n",
       "    <tr>\n",
       "      <th>mean</th>\n",
       "      <td>25.271400</td>\n",
       "      <td>6.066897</td>\n",
       "      <td>327.284560</td>\n",
       "      <td>0.892910</td>\n",
       "      <td>2.081007</td>\n",
       "      <td>7.312159</td>\n",
       "      <td>1112.026034</td>\n",
       "      <td>4.681042</td>\n",
       "      <td>0.334129</td>\n",
       "      <td>0.024032</td>\n",
       "      <td>15937.365096</td>\n",
       "      <td>0.532040</td>\n",
       "      <td>10639.636706</td>\n",
       "      <td>21.797821</td>\n",
       "      <td>0.855390</td>\n",
       "      <td>0.909596</td>\n",
       "    </tr>\n",
       "    <tr>\n",
       "      <th>std</th>\n",
       "      <td>14.153371</td>\n",
       "      <td>4.532078</td>\n",
       "      <td>446.366043</td>\n",
       "      <td>2.479106</td>\n",
       "      <td>3.212314</td>\n",
       "      <td>8.317780</td>\n",
       "      <td>6851.596648</td>\n",
       "      <td>11.033977</td>\n",
       "      <td>0.795091</td>\n",
       "      <td>0.184830</td>\n",
       "      <td>34110.197505</td>\n",
       "      <td>0.350171</td>\n",
       "      <td>21248.127059</td>\n",
       "      <td>12.352030</td>\n",
       "      <td>0.176756</td>\n",
       "      <td>1.266938</td>\n",
       "    </tr>\n",
       "    <tr>\n",
       "      <th>min</th>\n",
       "      <td>2.000000</td>\n",
       "      <td>0.000000</td>\n",
       "      <td>0.000000</td>\n",
       "      <td>0.000000</td>\n",
       "      <td>0.000000</td>\n",
       "      <td>0.000000</td>\n",
       "      <td>0.000000</td>\n",
       "      <td>0.000000</td>\n",
       "      <td>0.000000</td>\n",
       "      <td>0.000000</td>\n",
       "      <td>0.000000</td>\n",
       "      <td>0.000000</td>\n",
       "      <td>0.000000</td>\n",
       "      <td>0.000000</td>\n",
       "      <td>0.000000</td>\n",
       "      <td>0.000000</td>\n",
       "    </tr>\n",
       "    <tr>\n",
       "      <th>25%</th>\n",
       "      <td>15.000000</td>\n",
       "      <td>3.000000</td>\n",
       "      <td>60.000000</td>\n",
       "      <td>0.000000</td>\n",
       "      <td>0.000000</td>\n",
       "      <td>2.000000</td>\n",
       "      <td>0.000000</td>\n",
       "      <td>0.000000</td>\n",
       "      <td>0.000000</td>\n",
       "      <td>0.000000</td>\n",
       "      <td>1587.000000</td>\n",
       "      <td>0.210000</td>\n",
       "      <td>500.000000</td>\n",
       "      <td>13.000000</td>\n",
       "      <td>0.770000</td>\n",
       "      <td>0.000000</td>\n",
       "    </tr>\n",
       "    <tr>\n",
       "      <th>50%</th>\n",
       "      <td>23.000000</td>\n",
       "      <td>5.000000</td>\n",
       "      <td>185.000000</td>\n",
       "      <td>0.000000</td>\n",
       "      <td>1.000000</td>\n",
       "      <td>5.000000</td>\n",
       "      <td>0.000000</td>\n",
       "      <td>0.000000</td>\n",
       "      <td>0.000000</td>\n",
       "      <td>0.000000</td>\n",
       "      <td>6250.000000</td>\n",
       "      <td>0.570000</td>\n",
       "      <td>3211.000000</td>\n",
       "      <td>20.000000</td>\n",
       "      <td>0.920000</td>\n",
       "      <td>1.000000</td>\n",
       "    </tr>\n",
       "    <tr>\n",
       "      <th>75%</th>\n",
       "      <td>33.000000</td>\n",
       "      <td>8.000000</td>\n",
       "      <td>418.000000</td>\n",
       "      <td>1.000000</td>\n",
       "      <td>3.000000</td>\n",
       "      <td>9.000000</td>\n",
       "      <td>0.000000</td>\n",
       "      <td>4.000000</td>\n",
       "      <td>0.000000</td>\n",
       "      <td>0.000000</td>\n",
       "      <td>16193.000000</td>\n",
       "      <td>0.860000</td>\n",
       "      <td>11986.000000</td>\n",
       "      <td>29.000000</td>\n",
       "      <td>1.000000</td>\n",
       "      <td>1.000000</td>\n",
       "    </tr>\n",
       "    <tr>\n",
       "      <th>max</th>\n",
       "      <td>118.000000</td>\n",
       "      <td>47.000000</td>\n",
       "      <td>8001.000000</td>\n",
       "      <td>45.000000</td>\n",
       "      <td>63.000000</td>\n",
       "      <td>158.000000</td>\n",
       "      <td>223738.000000</td>\n",
       "      <td>99.000000</td>\n",
       "      <td>16.000000</td>\n",
       "      <td>4.000000</td>\n",
       "      <td>668848.000000</td>\n",
       "      <td>2.350000</td>\n",
       "      <td>572427.000000</td>\n",
       "      <td>102.000000</td>\n",
       "      <td>1.000000</td>\n",
       "      <td>17.000000</td>\n",
       "    </tr>\n",
       "  </tbody>\n",
       "</table>\n",
       "</div>"
      ],
      "text/plain": [
       "                 N7            N8            N9           N10         N10.1  \\\n",
       "count  10888.000000  11017.000000  11017.000000  10888.000000  10888.000000   \n",
       "mean      25.271400      6.066897    327.284560      0.892910      2.081007   \n",
       "std       14.153371      4.532078    446.366043      2.479106      3.212314   \n",
       "min        2.000000      0.000000      0.000000      0.000000      0.000000   \n",
       "25%       15.000000      3.000000     60.000000      0.000000      0.000000   \n",
       "50%       23.000000      5.000000    185.000000      0.000000      1.000000   \n",
       "75%       33.000000      8.000000    418.000000      1.000000      3.000000   \n",
       "max      118.000000     47.000000   8001.000000     45.000000     63.000000   \n",
       "\n",
       "                N11            N12           N14           N15          N16  \\\n",
       "count  10799.000000    9526.000000  10829.000000  10888.000000  9529.000000   \n",
       "mean       7.312159    1112.026034      4.681042      0.334129     0.024032   \n",
       "std        8.317780    6851.596648     11.033977      0.795091     0.184830   \n",
       "min        0.000000       0.000000      0.000000      0.000000     0.000000   \n",
       "25%        2.000000       0.000000      0.000000      0.000000     0.000000   \n",
       "50%        5.000000       0.000000      0.000000      0.000000     0.000000   \n",
       "75%        9.000000       0.000000      4.000000      0.000000     0.000000   \n",
       "max      158.000000  223738.000000     99.000000     16.000000     4.000000   \n",
       "\n",
       "                 N17          N18            N19          N20          N21  \\\n",
       "count    9529.000000  9529.000000    9546.000000  9546.000000  9546.000000   \n",
       "mean    15937.365096     0.532040   10639.636706    21.797821     0.855390   \n",
       "std     34110.197505     0.350171   21248.127059    12.352030     0.176756   \n",
       "min         0.000000     0.000000       0.000000     0.000000     0.000000   \n",
       "25%      1587.000000     0.210000     500.000000    13.000000     0.770000   \n",
       "50%      6250.000000     0.570000    3211.000000    20.000000     0.920000   \n",
       "75%     16193.000000     0.860000   11986.000000    29.000000     1.000000   \n",
       "max    668848.000000     2.350000  572427.000000   102.000000     1.000000   \n",
       "\n",
       "               N22  \n",
       "count  9546.000000  \n",
       "mean      0.909596  \n",
       "std       1.266938  \n",
       "min       0.000000  \n",
       "25%       0.000000  \n",
       "50%       1.000000  \n",
       "75%       1.000000  \n",
       "max      17.000000  "
      ]
     },
     "execution_count": 166,
     "metadata": {},
     "output_type": "execute_result"
    }
   ],
   "source": [
    "# next 15 cols desc\n",
    "\n",
    "X_train[cols[15:31]].describe(include='all')"
   ]
  },
  {
   "cell_type": "code",
   "execution_count": 167,
   "metadata": {},
   "outputs": [
    {
     "data": {
      "text/html": [
       "<div>\n",
       "<style scoped>\n",
       "    .dataframe tbody tr th:only-of-type {\n",
       "        vertical-align: middle;\n",
       "    }\n",
       "\n",
       "    .dataframe tbody tr th {\n",
       "        vertical-align: top;\n",
       "    }\n",
       "\n",
       "    .dataframe thead th {\n",
       "        text-align: right;\n",
       "    }\n",
       "</style>\n",
       "<table border=\"1\" class=\"dataframe\">\n",
       "  <thead>\n",
       "    <tr style=\"text-align: right;\">\n",
       "      <th></th>\n",
       "      <th>N23</th>\n",
       "      <th>N24</th>\n",
       "      <th>N25</th>\n",
       "      <th>N26</th>\n",
       "      <th>N27</th>\n",
       "      <th>N28</th>\n",
       "      <th>N29</th>\n",
       "      <th>N30</th>\n",
       "      <th>N31</th>\n",
       "      <th>N32</th>\n",
       "      <th>N33</th>\n",
       "      <th>N34</th>\n",
       "      <th>N35</th>\n",
       "    </tr>\n",
       "  </thead>\n",
       "  <tbody>\n",
       "    <tr>\n",
       "      <th>count</th>\n",
       "      <td>10168.000000</td>\n",
       "      <td>11017.000000</td>\n",
       "      <td>2138.000000</td>\n",
       "      <td>2138.000000</td>\n",
       "      <td>2138.000000</td>\n",
       "      <td>2138.000000</td>\n",
       "      <td>2138.000000</td>\n",
       "      <td>2138.000000</td>\n",
       "      <td>2138.000000</td>\n",
       "      <td>2112.000000</td>\n",
       "      <td>11017.000000</td>\n",
       "      <td>11017.000000</td>\n",
       "      <td>10888.000000</td>\n",
       "    </tr>\n",
       "    <tr>\n",
       "      <th>mean</th>\n",
       "      <td>57.714576</td>\n",
       "      <td>5045.143853</td>\n",
       "      <td>1.321796</td>\n",
       "      <td>20.024790</td>\n",
       "      <td>19.379326</td>\n",
       "      <td>0.577643</td>\n",
       "      <td>0.066885</td>\n",
       "      <td>6995.496043</td>\n",
       "      <td>2180.824972</td>\n",
       "      <td>1.303504</td>\n",
       "      <td>125.209108</td>\n",
       "      <td>223.843161</td>\n",
       "      <td>19.606539</td>\n",
       "    </tr>\n",
       "    <tr>\n",
       "      <th>std</th>\n",
       "      <td>144.416443</td>\n",
       "      <td>4664.443548</td>\n",
       "      <td>0.671850</td>\n",
       "      <td>15.556284</td>\n",
       "      <td>15.135256</td>\n",
       "      <td>2.147313</td>\n",
       "      <td>0.762798</td>\n",
       "      <td>6247.803063</td>\n",
       "      <td>3105.571653</td>\n",
       "      <td>49.867054</td>\n",
       "      <td>104.491638</td>\n",
       "      <td>185.433746</td>\n",
       "      <td>7.332430</td>\n",
       "    </tr>\n",
       "    <tr>\n",
       "      <th>min</th>\n",
       "      <td>0.000000</td>\n",
       "      <td>0.000000</td>\n",
       "      <td>0.000000</td>\n",
       "      <td>0.000000</td>\n",
       "      <td>0.000000</td>\n",
       "      <td>0.000000</td>\n",
       "      <td>0.000000</td>\n",
       "      <td>0.000000</td>\n",
       "      <td>0.000000</td>\n",
       "      <td>-164.000000</td>\n",
       "      <td>20.000000</td>\n",
       "      <td>0.000000</td>\n",
       "      <td>3.000000</td>\n",
       "    </tr>\n",
       "    <tr>\n",
       "      <th>25%</th>\n",
       "      <td>26.000000</td>\n",
       "      <td>2783.333333</td>\n",
       "      <td>1.000000</td>\n",
       "      <td>9.000000</td>\n",
       "      <td>9.000000</td>\n",
       "      <td>0.000000</td>\n",
       "      <td>0.000000</td>\n",
       "      <td>3000.000000</td>\n",
       "      <td>0.000000</td>\n",
       "      <td>-32.000000</td>\n",
       "      <td>54.000000</td>\n",
       "      <td>98.740000</td>\n",
       "      <td>15.000000</td>\n",
       "    </tr>\n",
       "    <tr>\n",
       "      <th>50%</th>\n",
       "      <td>40.000000</td>\n",
       "      <td>4166.666667</td>\n",
       "      <td>1.000000</td>\n",
       "      <td>15.000000</td>\n",
       "      <td>15.000000</td>\n",
       "      <td>0.000000</td>\n",
       "      <td>0.000000</td>\n",
       "      <td>5000.000000</td>\n",
       "      <td>872.345000</td>\n",
       "      <td>0.000000</td>\n",
       "      <td>90.000000</td>\n",
       "      <td>172.760000</td>\n",
       "      <td>19.000000</td>\n",
       "    </tr>\n",
       "    <tr>\n",
       "      <th>75%</th>\n",
       "      <td>62.000000</td>\n",
       "      <td>6250.000000</td>\n",
       "      <td>1.000000</td>\n",
       "      <td>29.000000</td>\n",
       "      <td>28.000000</td>\n",
       "      <td>0.000000</td>\n",
       "      <td>0.000000</td>\n",
       "      <td>9000.000000</td>\n",
       "      <td>3303.902500</td>\n",
       "      <td>30.000000</td>\n",
       "      <td>160.000000</td>\n",
       "      <td>302.140000</td>\n",
       "      <td>24.000000</td>\n",
       "    </tr>\n",
       "    <tr>\n",
       "      <th>max</th>\n",
       "      <td>2002.000000</td>\n",
       "      <td>185081.750000</td>\n",
       "      <td>7.000000</td>\n",
       "      <td>116.000000</td>\n",
       "      <td>114.000000</td>\n",
       "      <td>40.000000</td>\n",
       "      <td>21.000000</td>\n",
       "      <td>53200.000000</td>\n",
       "      <td>21723.490000</td>\n",
       "      <td>221.000000</td>\n",
       "      <td>700.000000</td>\n",
       "      <td>2251.510000</td>\n",
       "      <td>57.000000</td>\n",
       "    </tr>\n",
       "  </tbody>\n",
       "</table>\n",
       "</div>"
      ],
      "text/plain": [
       "                N23            N24          N25          N26          N27  \\\n",
       "count  10168.000000   11017.000000  2138.000000  2138.000000  2138.000000   \n",
       "mean      57.714576    5045.143853     1.321796    20.024790    19.379326   \n",
       "std      144.416443    4664.443548     0.671850    15.556284    15.135256   \n",
       "min        0.000000       0.000000     0.000000     0.000000     0.000000   \n",
       "25%       26.000000    2783.333333     1.000000     9.000000     9.000000   \n",
       "50%       40.000000    4166.666667     1.000000    15.000000    15.000000   \n",
       "75%       62.000000    6250.000000     1.000000    29.000000    28.000000   \n",
       "max     2002.000000  185081.750000     7.000000   116.000000   114.000000   \n",
       "\n",
       "               N28          N29           N30           N31          N32  \\\n",
       "count  2138.000000  2138.000000   2138.000000   2138.000000  2112.000000   \n",
       "mean      0.577643     0.066885   6995.496043   2180.824972     1.303504   \n",
       "std       2.147313     0.762798   6247.803063   3105.571653    49.867054   \n",
       "min       0.000000     0.000000      0.000000      0.000000  -164.000000   \n",
       "25%       0.000000     0.000000   3000.000000      0.000000   -32.000000   \n",
       "50%       0.000000     0.000000   5000.000000    872.345000     0.000000   \n",
       "75%       0.000000     0.000000   9000.000000   3303.902500    30.000000   \n",
       "max      40.000000    21.000000  53200.000000  21723.490000   221.000000   \n",
       "\n",
       "                N33           N34           N35  \n",
       "count  11017.000000  11017.000000  10888.000000  \n",
       "mean     125.209108    223.843161     19.606539  \n",
       "std      104.491638    185.433746      7.332430  \n",
       "min       20.000000      0.000000      3.000000  \n",
       "25%       54.000000     98.740000     15.000000  \n",
       "50%       90.000000    172.760000     19.000000  \n",
       "75%      160.000000    302.140000     24.000000  \n",
       "max      700.000000   2251.510000     57.000000  "
      ]
     },
     "execution_count": 167,
     "metadata": {},
     "output_type": "execute_result"
    }
   ],
   "source": [
    "# remaining cols desc\n",
    "\n",
    "X_train[cols[31:]].describe(include='all')"
   ]
  },
  {
   "cell_type": "markdown",
   "metadata": {},
   "source": [
    "For the summary statts we can see:\n",
    "\n",
    "- many cols have missing values\n",
    "- many cols have limited range. Foe eg: C1 has min of 1 and max of 3. So, these cols might be categorical, which have numerical labelling\n",
    "\n",
    "\n",
    "We now want to store the no of missing values for each col, to be used later for **Missing Value Treatment**\n",
    "\n"
   ]
  },
  {
   "cell_type": "code",
   "execution_count": 168,
   "metadata": {
    "scrolled": false
   },
   "outputs": [
    {
     "name": "stdout",
     "output_type": "stream",
     "text": [
      "{'C1': 0, 'C2': 0, 'C3': 0, 'C4': 0, 'C5': 0, 'C6': 0, 'C7': 0, 'C8': 0, 'N1': 0, 'N2': 1489, 'N3': 112, 'N4': 1488, 'N5': 1488, 'N6': 112, 'N7': 129, 'N8': 0, 'N9': 0, 'N10': 129, 'N10.1': 129, 'N11': 218, 'N12': 1491, 'N14': 188, 'N15': 129, 'N16': 1488, 'N17': 1488, 'N18': 1488, 'N19': 1471, 'N20': 1471, 'N21': 1471, 'N22': 1471, 'N23': 849, 'N24': 0, 'N25': 8879, 'N26': 8879, 'N27': 8879, 'N28': 8879, 'N29': 8879, 'N30': 8879, 'N31': 8879, 'N32': 8905, 'N33': 0, 'N34': 0, 'N35': 129}\n"
     ]
    }
   ],
   "source": [
    "def make_missing_value_dict(df):\n",
    "    \"\"\"\n",
    "    function to return a dict representing number of missing values in each col of passed df\n",
    "    \"\"\"\n",
    "    cols = df.columns\n",
    "    missing_values_dict = {}\n",
    "\n",
    "    for col in cols[1:]:\n",
    "        missing_value = nrows - int(df.describe(include='all').loc['count', col])\n",
    "        missing_values_dict[col] = missing_value\n",
    "\n",
    "    return missing_values_dict\n",
    "\n",
    "print (make_missing_value_dict(X_train))"
   ]
  },
  {
   "cell_type": "code",
   "execution_count": 169,
   "metadata": {
    "scrolled": false
   },
   "outputs": [
    {
     "name": "stdout",
     "output_type": "stream",
     "text": [
      "C1\n",
      "C2\n",
      "C3\n",
      "C4\n",
      "C5\n",
      "C6\n",
      "C7\n",
      "C8\n",
      "N3\n",
      "N4\n",
      "N5\n",
      "N6\n",
      "N7\n",
      "N8\n",
      "N10\n",
      "N10.1\n",
      "N11\n",
      "N14\n",
      "N15\n",
      "N16\n",
      "N20\n",
      "N21\n",
      "N22\n",
      "N25\n",
      "N26\n",
      "N27\n",
      "N28\n",
      "N29\n",
      "N35\n"
     ]
    }
   ],
   "source": [
    "# check cols which have less than 1% unique values: possibly encode them as categorical\n",
    "\n",
    "for col in cols:\n",
    "    if len(X_train[col].unique())*100/nrows < 1:\n",
    "        print (col)"
   ]
  },
  {
   "cell_type": "markdown",
   "metadata": {},
   "source": [
    "NOTE: All these cols have very few unique values, so maybe encode them as Categorical"
   ]
  },
  {
   "cell_type": "markdown",
   "metadata": {},
   "source": [
    "### Missing Value Treatment and Outlier Detection and Correction\n",
    "\n",
    "Strategy:\n",
    "\n",
    "1. If column contains no missing values, we check number of distinct values\n",
    "\n",
    "2. If less than 20, it makes better sense to consider this column as categorical. So we One-Hot encode them. For eg: C1 has 3 distinct values 1,2 and 3. So we create 3 cols C1_1, C1_2 and C1_3 to represent that\n",
    "\n",
    "3. If column has a lot of outliers, we isolate the outliers (based on 1.5\\*IQR) and see if these outliers affect the distribution of the target variable. If they do, we keep the outliers as is, else we replace them by the median. Outliers are values which are more than 1.5 times upper quartile and lower than 1.5 times lower quartile : [ref](https://flowingdata.com/2008/02/15/how-to-read-and-use-a-box-and-whisker-plot/)\n",
    "\n",
    "4. If the column also contains missing values, we impute the mssing values by median as it is less sensitive to outliers\n"
   ]
  },
  {
   "cell_type": "code",
   "execution_count": 170,
   "metadata": {},
   "outputs": [],
   "source": [
    "# make a copy of the X train to run MVT on\n",
    "X_train_mvt1 = X_train.copy(deep=True)"
   ]
  },
  {
   "cell_type": "markdown",
   "metadata": {},
   "source": [
    "N25, N26, N27, N28, N29, N30, N31, N32 have over 80% missing values. \n",
    "\n",
    "There are 2 approaches I have considered:\n",
    "\n",
    "1. Drop these columns entirely\n",
    "\n",
    "2. Replace missing values with 0 and create a column indicating if that corr value was missing or not\n",
    "\n",
    "\n",
    "However in after we run feature selection, none of these features prove to be important, so either approaches can be used"
   ]
  },
  {
   "cell_type": "code",
   "execution_count": 171,
   "metadata": {},
   "outputs": [],
   "source": [
    "#X_train_mvt1.drop(columns=['N25', 'N26', 'N27', 'N28', 'N29', 'N30', 'N31', 'N32'], inplace=True)\n",
    "\n",
    "\n",
    "# function to Replace missing values with 0 and create a column indicating if that corr value was missing or not\n",
    "def mvt_special_cols(cols):\n",
    "    \"\"\"\n",
    "    Replace missing values with 0 and create a column indicating if that corr value was missing or not\n",
    "    \"\"\"\n",
    "    \n",
    "    for col in cols:\n",
    "\n",
    "        value_missing = []\n",
    "\n",
    "        new_list = []\n",
    "\n",
    "        for x in range(len(X_train_mvt1['N25'])):\n",
    "            # print (X_train_mvt1['N25'][x])\n",
    "            if np.isnan(X_train_mvt1['N25'][x]):\n",
    "                value_missing.append(True)\n",
    "                new_list.append(0)\n",
    "            else:\n",
    "                value_missing.append(False)\n",
    "                new_list.append(X_train_mvt1['N25'][x])\n",
    "\n",
    "        new_col_name = col + '_missing'\n",
    "\n",
    "        X_train_mvt1[col] = new_list\n",
    "        X_train_mvt1[new_col_name] = value_missing\n",
    "    \n",
    "mvt_special_cols(['N25', 'N26', 'N27', 'N28', 'N29', 'N30', 'N31', 'N32'])"
   ]
  },
  {
   "cell_type": "code",
   "execution_count": 172,
   "metadata": {},
   "outputs": [
    {
     "data": {
      "text/plain": [
       "Index(['Unique_ID', 'C1', 'C2', 'C3', 'C4', 'C5', 'C6', 'C7', 'C8', 'N1', 'N2',\n",
       "       'N3', 'N4', 'N5', 'N6', 'N7', 'N8', 'N9', 'N10', 'N10.1', 'N11', 'N12',\n",
       "       'N14', 'N15', 'N16', 'N17', 'N18', 'N19', 'N20', 'N21', 'N22', 'N23',\n",
       "       'N24', 'N25', 'N26', 'N27', 'N28', 'N29', 'N30', 'N31', 'N32', 'N33',\n",
       "       'N34', 'N35', 'N25_missing', 'N26_missing', 'N27_missing',\n",
       "       'N28_missing', 'N29_missing', 'N30_missing', 'N31_missing',\n",
       "       'N32_missing'],\n",
       "      dtype='object')"
      ]
     },
     "execution_count": 172,
     "metadata": {},
     "output_type": "execute_result"
    }
   ],
   "source": [
    "X_train_mvt1.columns"
   ]
  },
  {
   "cell_type": "markdown",
   "metadata": {},
   "source": [
    "### C1 - C8 are categorical cols with numeric encoding. So we one hot encode them"
   ]
  },
  {
   "cell_type": "markdown",
   "metadata": {},
   "source": [
    "#### Analyse col C1"
   ]
  },
  {
   "cell_type": "code",
   "execution_count": 173,
   "metadata": {
    "scrolled": true
   },
   "outputs": [
    {
     "name": "stdout",
     "output_type": "stream",
     "text": [
      "3 int64\n"
     ]
    }
   ],
   "source": [
    "# check no of unique values and dtype of col\n",
    "\n",
    "print (len(X_train_mvt1['C1'].unique()), X_train_mvt1['C1'].dtype)"
   ]
  },
  {
   "cell_type": "markdown",
   "metadata": {},
   "source": [
    "Only 3 distinct values.. Better to represent them as categories and one-hot encode them"
   ]
  },
  {
   "cell_type": "code",
   "execution_count": 174,
   "metadata": {},
   "outputs": [
    {
     "name": "stdout",
     "output_type": "stream",
     "text": [
      "Index(['Unique_ID', 'C2', 'C3', 'C4', 'C5', 'C6', 'C7', 'C8', 'N1', 'N2', 'N3',\n",
      "       'N4', 'N5', 'N6', 'N7', 'N8', 'N9', 'N10', 'N10.1', 'N11', 'N12', 'N14',\n",
      "       'N15', 'N16', 'N17', 'N18', 'N19', 'N20', 'N21', 'N22', 'N23', 'N24',\n",
      "       'N25', 'N26', 'N27', 'N28', 'N29', 'N30', 'N31', 'N32', 'N33', 'N34',\n",
      "       'N35', 'N25_missing', 'N26_missing', 'N27_missing', 'N28_missing',\n",
      "       'N29_missing', 'N30_missing', 'N31_missing', 'N32_missing', 'C1_1',\n",
      "       'C1_2', 'C1_3'],\n",
      "      dtype='object')\n"
     ]
    }
   ],
   "source": [
    "X_train_mvt1['C1'] = X_train_mvt1['C1'].astype('object')\n",
    "\n",
    "X_train_mvt1 = pd.get_dummies(data=X_train_mvt1, columns=['C1'])\n",
    "\n",
    "print (X_train_mvt1.columns)"
   ]
  },
  {
   "cell_type": "markdown",
   "metadata": {},
   "source": [
    "Also, C1 has no missing value"
   ]
  },
  {
   "cell_type": "markdown",
   "metadata": {},
   "source": [
    "#### Analyse col C2"
   ]
  },
  {
   "cell_type": "code",
   "execution_count": 175,
   "metadata": {},
   "outputs": [
    {
     "name": "stdout",
     "output_type": "stream",
     "text": [
      "21 int64\n"
     ]
    }
   ],
   "source": [
    "# check no of unique values and dtype of col\n",
    "\n",
    "print (len(X_train_mvt1['C2'].unique()), X_train_mvt1['C2'].dtype)"
   ]
  },
  {
   "cell_type": "code",
   "execution_count": 176,
   "metadata": {
    "scrolled": false
   },
   "outputs": [
    {
     "data": {
      "image/png": "[encoded data removed]",
      "text/plain": [
       "<Figure size 432x288 with 1 Axes>"
      ]
     },
     "metadata": {},
     "output_type": "display_data"
    }
   ],
   "source": [
    "X_train_mvt1['C2'].plot.hist();"
   ]
  },
  {
   "cell_type": "code",
   "execution_count": 177,
   "metadata": {},
   "outputs": [
    {
     "name": "stdout",
     "output_type": "stream",
     "text": [
      "Index(['Unique_ID', 'C3', 'C4', 'C5', 'C6', 'C7', 'C8', 'N1', 'N2', 'N3', 'N4',\n",
      "       'N5', 'N6', 'N7', 'N8', 'N9', 'N10', 'N10.1', 'N11', 'N12', 'N14',\n",
      "       'N15', 'N16', 'N17', 'N18', 'N19', 'N20', 'N21', 'N22', 'N23', 'N24',\n",
      "       'N25', 'N26', 'N27', 'N28', 'N29', 'N30', 'N31', 'N32', 'N33', 'N34',\n",
      "       'N35', 'N25_missing', 'N26_missing', 'N27_missing', 'N28_missing',\n",
      "       'N29_missing', 'N30_missing', 'N31_missing', 'N32_missing', 'C1_1',\n",
      "       'C1_2', 'C1_3', 'C2_0', 'C2_1', 'C2_2', 'C2_3', 'C2_4', 'C2_5', 'C2_6',\n",
      "       'C2_7', 'C2_8', 'C2_9', 'C2_10', 'C2_11', 'C2_12', 'C2_13', 'C2_14',\n",
      "       'C2_15', 'C2_16', 'C2_17', 'C2_18', 'C2_19', 'C2_20'],\n",
      "      dtype='object')\n"
     ]
    }
   ],
   "source": [
    "X_train_mvt1['C2'] = X_train_mvt1['C2'].astype('object')\n",
    "\n",
    "X_train_mvt1 = pd.get_dummies(data=X_train_mvt1, columns=['C2'])\n",
    "\n",
    "print (X_train_mvt1.columns)"
   ]
  },
  {
   "cell_type": "markdown",
   "metadata": {},
   "source": [
    "#### Analyse col C3"
   ]
  },
  {
   "cell_type": "code",
   "execution_count": 178,
   "metadata": {
    "scrolled": true
   },
   "outputs": [
    {
     "name": "stdout",
     "output_type": "stream",
     "text": [
      "52 int64\n"
     ]
    },
    {
     "data": {
      "image/png": "[encoded data removed]",
      "text/plain": [
       "<Figure size 432x288 with 1 Axes>"
      ]
     },
     "metadata": {},
     "output_type": "display_data"
    }
   ],
   "source": [
    "# check no of unique values and dtype of col\n",
    "\n",
    "print (len(X_train_mvt1['C3'].unique()), X_train_mvt1['C3'].dtype)\n",
    "\n",
    "X_train_mvt1['C3'].plot.hist();"
   ]
  },
  {
   "cell_type": "code",
   "execution_count": 179,
   "metadata": {},
   "outputs": [
    {
     "name": "stdout",
     "output_type": "stream",
     "text": [
      "Index(['Unique_ID', 'C4', 'C5', 'C6', 'C7', 'C8', 'N1', 'N2', 'N3', 'N4',\n",
      "       ...\n",
      "       'C3_42', 'C3_43', 'C3_44', 'C3_45', 'C3_46', 'C3_47', 'C3_48', 'C3_49',\n",
      "       'C3_50', 'C3_51'],\n",
      "      dtype='object', length=125)\n"
     ]
    }
   ],
   "source": [
    "X_train_mvt1['C3'] = X_train_mvt1['C3'].astype('object')\n",
    "\n",
    "X_train_mvt1 = pd.get_dummies(data=X_train_mvt1, columns=['C3'])\n",
    "\n",
    "print (X_train_mvt1.columns)"
   ]
  },
  {
   "cell_type": "markdown",
   "metadata": {},
   "source": [
    "#### Analysis of col C4"
   ]
  },
  {
   "cell_type": "code",
   "execution_count": 180,
   "metadata": {
    "scrolled": true
   },
   "outputs": [
    {
     "name": "stdout",
     "output_type": "stream",
     "text": [
      "68 int64\n"
     ]
    },
    {
     "data": {
      "image/png": "[encoded data removed]",
      "text/plain": [
       "<Figure size 432x288 with 1 Axes>"
      ]
     },
     "metadata": {},
     "output_type": "display_data"
    }
   ],
   "source": [
    "# check no of unique values and dtype of col\n",
    "\n",
    "print (len(X_train_mvt1['C4'].unique()), X_train_mvt1['C4'].dtype)\n",
    "\n",
    "X_train_mvt1['C4'].plot.hist();"
   ]
  },
  {
   "cell_type": "code",
   "execution_count": 181,
   "metadata": {},
   "outputs": [
    {
     "name": "stdout",
     "output_type": "stream",
     "text": [
      "Index(['Unique_ID', 'C5', 'C6', 'C7', 'C8', 'N1', 'N2', 'N3', 'N4', 'N5',\n",
      "       ...\n",
      "       'C4_58', 'C4_59', 'C4_60', 'C4_61', 'C4_62', 'C4_63', 'C4_64', 'C4_65',\n",
      "       'C4_66', 'C4_67'],\n",
      "      dtype='object', length=192)\n"
     ]
    }
   ],
   "source": [
    "X_train_mvt1['C4'] = X_train_mvt1['C4'].astype('object')\n",
    "\n",
    "X_train_mvt1 = pd.get_dummies(data=X_train_mvt1, columns=['C4'])\n",
    "\n",
    "print (X_train_mvt1.columns)"
   ]
  },
  {
   "cell_type": "markdown",
   "metadata": {},
   "source": [
    "#### Analysis of col C5"
   ]
  },
  {
   "cell_type": "code",
   "execution_count": 182,
   "metadata": {
    "scrolled": true
   },
   "outputs": [
    {
     "data": {
      "image/png": "[encoded data removed]",
      "text/plain": [
       "<Figure size 432x288 with 1 Axes>"
      ]
     },
     "metadata": {},
     "output_type": "display_data"
    }
   ],
   "source": [
    "X_train_mvt1['C5'].plot.hist();"
   ]
  },
  {
   "cell_type": "code",
   "execution_count": 183,
   "metadata": {},
   "outputs": [
    {
     "name": "stdout",
     "output_type": "stream",
     "text": [
      "8 int64\n"
     ]
    }
   ],
   "source": [
    "print (len(X_train_mvt1['C5'].unique()), X_train_mvt1['C5'].dtype)"
   ]
  },
  {
   "cell_type": "code",
   "execution_count": 184,
   "metadata": {},
   "outputs": [
    {
     "name": "stdout",
     "output_type": "stream",
     "text": [
      "Index(['Unique_ID', 'C6', 'C7', 'C8', 'N1', 'N2', 'N3', 'N4', 'N5', 'N6',\n",
      "       ...\n",
      "       'C4_66', 'C4_67', 'C5_0', 'C5_1', 'C5_2', 'C5_3', 'C5_4', 'C5_5',\n",
      "       'C5_6', 'C5_7'],\n",
      "      dtype='object', length=199)\n"
     ]
    }
   ],
   "source": [
    "X_train_mvt1['C5'] = X_train_mvt1['C5'].astype('object')\n",
    "\n",
    "X_train_mvt1 = pd.get_dummies(data=X_train_mvt1, columns=['C5'])\n",
    "\n",
    "print (X_train_mvt1.columns)"
   ]
  },
  {
   "cell_type": "code",
   "execution_count": 185,
   "metadata": {
    "scrolled": true
   },
   "outputs": [
    {
     "data": {
      "image/png": "[encoded data removed]",
      "text/plain": [
       "<Figure size 432x288 with 1 Axes>"
      ]
     },
     "metadata": {},
     "output_type": "display_data"
    }
   ],
   "source": [
    "X_train_mvt1['C7'].plot.hist();"
   ]
  },
  {
   "cell_type": "code",
   "execution_count": 186,
   "metadata": {},
   "outputs": [
    {
     "name": "stdout",
     "output_type": "stream",
     "text": [
      "8 int64\n"
     ]
    }
   ],
   "source": [
    "print (len(X_train_mvt1['C7'].unique()), X_train_mvt1['C7'].dtype)"
   ]
  },
  {
   "cell_type": "code",
   "execution_count": 187,
   "metadata": {
    "scrolled": true
   },
   "outputs": [
    {
     "name": "stdout",
     "output_type": "stream",
     "text": [
      "Index(['Unique_ID', 'C6', 'C8', 'N1', 'N2', 'N3', 'N4', 'N5', 'N6', 'N7',\n",
      "       ...\n",
      "       'C5_6', 'C5_7', 'C7_0', 'C7_1', 'C7_2', 'C7_3', 'C7_4', 'C7_5', 'C7_6',\n",
      "       'C7_7'],\n",
      "      dtype='object', length=206)\n"
     ]
    }
   ],
   "source": [
    "X_train_mvt1['C7'] = X_train_mvt1['C7'].astype('object')\n",
    "\n",
    "X_train_mvt1 = pd.get_dummies(data=X_train_mvt1, columns=['C7'])\n",
    "\n",
    "print (X_train_mvt1.columns)"
   ]
  },
  {
   "cell_type": "markdown",
   "metadata": {},
   "source": [
    "#### Analysis of col N1"
   ]
  },
  {
   "cell_type": "code",
   "execution_count": 188,
   "metadata": {
    "scrolled": false
   },
   "outputs": [
    {
     "name": "stdout",
     "output_type": "stream",
     "text": [
      "1335 float64\n"
     ]
    }
   ],
   "source": [
    "print (len(X_train_mvt1['N1'].unique()), X_train_mvt1['N1'].dtype)"
   ]
  },
  {
   "cell_type": "code",
   "execution_count": 189,
   "metadata": {
    "scrolled": true
   },
   "outputs": [
    {
     "data": {
      "image/png": "[encoded data removed]",
      "text/plain": [
       "<Figure size 432x288 with 1 Axes>"
      ]
     },
     "metadata": {},
     "output_type": "display_data"
    }
   ],
   "source": [
    "X_train_mvt1['N1'].plot.hist();"
   ]
  },
  {
   "cell_type": "markdown",
   "metadata": {},
   "source": [
    "N1 has less outliers and no missing values. No special treatment is necessary"
   ]
  },
  {
   "cell_type": "markdown",
   "metadata": {},
   "source": [
    "#### Analysis of col N2"
   ]
  },
  {
   "cell_type": "code",
   "execution_count": 190,
   "metadata": {
    "scrolled": true
   },
   "outputs": [
    {
     "name": "stdout",
     "output_type": "stream",
     "text": [
      "443 float64\n"
     ]
    }
   ],
   "source": [
    "print (len(X_train_mvt1['N2'].unique()), X_train_mvt1['N2'].dtype)"
   ]
  },
  {
   "cell_type": "code",
   "execution_count": 191,
   "metadata": {},
   "outputs": [
    {
     "data": {
      "image/png": "[encoded data removed]",
      "text/plain": [
       "<Figure size 432x288 with 1 Axes>"
      ]
     },
     "metadata": {},
     "output_type": "display_data"
    }
   ],
   "source": [
    "X_train_mvt1['N2'].plot.hist();"
   ]
  },
  {
   "cell_type": "markdown",
   "metadata": {},
   "source": [
    "N2 has a large number of unique values and 4612 missing values. There are outliers. So we replace by median instead of mean as median is less sensitive to outliers"
   ]
  },
  {
   "cell_type": "code",
   "execution_count": 192,
   "metadata": {},
   "outputs": [
    {
     "data": {
      "text/plain": [
       "True"
      ]
     },
     "execution_count": 192,
     "metadata": {},
     "output_type": "execute_result"
    }
   ],
   "source": [
    "N2_median = X_train_mvt1['N2'].median(axis=0)\n",
    "\n",
    "\n",
    "X_train_mvt1['N2'].replace(np.nan, N2_median, inplace=True)\n",
    "\n",
    "# sanitary check to see that there are no longer any missing values\n",
    "\n",
    "X_train_mvt1['N2'].describe()['count'] == nrows"
   ]
  },
  {
   "cell_type": "markdown",
   "metadata": {},
   "source": [
    "Outliers are values which are more than 1.5 times upper quartile and lower than 1.5 times lower quartile - [ref](https://flowingdata.com/2008/02/15/how-to-read-and-use-a-box-and-whisker-plot/)"
   ]
  },
  {
   "cell_type": "code",
   "execution_count": 193,
   "metadata": {
    "scrolled": false
   },
   "outputs": [
    {
     "name": "stdout",
     "output_type": "stream",
     "text": [
      "212.5\n"
     ]
    },
    {
     "data": {
      "image/png": "[encoded data removed]",
      "text/plain": [
       "<Figure size 432x288 with 1 Axes>"
      ]
     },
     "metadata": {},
     "output_type": "display_data"
    }
   ],
   "source": [
    "IQR = X_train_mvt1['N2'].quantile(0.75) - X_train_mvt1['N2'].quantile(0.25)\n",
    "\n",
    "upper_limit = X_train_mvt1['N2'].quantile(0.75) + 1.5*IQR\n",
    "\n",
    "print (upper_limit)\n",
    "\n",
    "X_train_mvt1.boxplot(column='N2');"
   ]
  },
  {
   "cell_type": "markdown",
   "metadata": {},
   "source": [
    "So there appears to be no relationship that the outliers of N2 contribute towards the target variable. So it is better to impute the outliers for N2"
   ]
  },
  {
   "cell_type": "code",
   "execution_count": 194,
   "metadata": {
    "scrolled": true
   },
   "outputs": [
    {
     "data": {
      "image/png": "[encoded data removed]",
      "text/plain": [
       "<Figure size 432x288 with 1 Axes>"
      ]
     },
     "metadata": {},
     "output_type": "display_data"
    }
   ],
   "source": [
    "# replace extreme outliers with the median\n",
    "\n",
    "X_train_mvt1.loc[X_train_mvt1['N2']>upper_limit, 'N2'] = N2_median\n",
    "\n",
    "X_train_mvt1.boxplot(column='N2');"
   ]
  },
  {
   "cell_type": "markdown",
   "metadata": {},
   "source": [
    "#### Analysis of col N3"
   ]
  },
  {
   "cell_type": "code",
   "execution_count": 195,
   "metadata": {
    "scrolled": false
   },
   "outputs": [
    {
     "name": "stdout",
     "output_type": "stream",
     "text": [
      "26 float64\n"
     ]
    }
   ],
   "source": [
    "print (len(X_train_mvt1['N3'].unique()), X_train_mvt1['N2'].dtype)"
   ]
  },
  {
   "cell_type": "code",
   "execution_count": 196,
   "metadata": {},
   "outputs": [
    {
     "data": {
      "image/png": "[encoded data removed]",
      "text/plain": [
       "<Figure size 432x288 with 1 Axes>"
      ]
     },
     "metadata": {},
     "output_type": "display_data"
    }
   ],
   "source": [
    "X_train_mvt1['N3'].plot.hist();"
   ]
  },
  {
   "cell_type": "markdown",
   "metadata": {},
   "source": [
    "From the value counts we can see that there are outliers of 0. So it makes better sense to impute with median"
   ]
  },
  {
   "cell_type": "code",
   "execution_count": 197,
   "metadata": {},
   "outputs": [
    {
     "data": {
      "text/plain": [
       "True"
      ]
     },
     "execution_count": 197,
     "metadata": {},
     "output_type": "execute_result"
    }
   ],
   "source": [
    "N3_median = X_train_mvt1['N3'].median(axis=0)\n",
    "\n",
    "X_train_mvt1['N3'].replace(np.nan, N3_median, inplace=True)\n",
    "\n",
    "X_train_mvt1['N3'].describe()['count'] == nrows"
   ]
  },
  {
   "cell_type": "code",
   "execution_count": 198,
   "metadata": {
    "scrolled": true
   },
   "outputs": [
    {
     "name": "stdout",
     "output_type": "stream",
     "text": [
      "2.6000000000000005\n"
     ]
    },
    {
     "data": {
      "image/png": "[encoded data removed]",
      "text/plain": [
       "<Figure size 432x288 with 1 Axes>"
      ]
     },
     "metadata": {},
     "output_type": "display_data"
    }
   ],
   "source": [
    "IQR = X_train_mvt1['N3'].quantile(0.75) - X_train_mvt1['N3'].quantile(0.25)\n",
    "\n",
    "lower_limit = X_train_mvt1['N3'].quantile(0.25) - 1.5*IQR\n",
    "\n",
    "print (lower_limit)\n",
    "\n",
    "\n",
    "X_train_mvt1.boxplot(column='N3');"
   ]
  },
  {
   "cell_type": "markdown",
   "metadata": {},
   "source": [
    "The outliers seem to affect the dist of the target.So we do not impute them"
   ]
  },
  {
   "cell_type": "markdown",
   "metadata": {},
   "source": [
    "#### Analysis of col N4"
   ]
  },
  {
   "cell_type": "code",
   "execution_count": 199,
   "metadata": {},
   "outputs": [
    {
     "name": "stdout",
     "output_type": "stream",
     "text": [
      "44 float64\n"
     ]
    }
   ],
   "source": [
    "print(len(X_train_mvt1['N4'].unique()), X_train_mvt1['N4'].dtype)"
   ]
  },
  {
   "cell_type": "code",
   "execution_count": 200,
   "metadata": {},
   "outputs": [
    {
     "data": {
      "image/png": "[encoded data removed]",
      "text/plain": [
       "<Figure size 432x288 with 1 Axes>"
      ]
     },
     "metadata": {},
     "output_type": "display_data"
    }
   ],
   "source": [
    "X_train_mvt1['N4'].plot.hist();"
   ]
  },
  {
   "cell_type": "markdown",
   "metadata": {},
   "source": [
    "Again N4 has a few outliers, so we replace by median"
   ]
  },
  {
   "cell_type": "code",
   "execution_count": 201,
   "metadata": {},
   "outputs": [
    {
     "data": {
      "text/plain": [
       "True"
      ]
     },
     "execution_count": 201,
     "metadata": {},
     "output_type": "execute_result"
    }
   ],
   "source": [
    "N4_median = X_train_mvt1['N4'].median(axis=0)\n",
    "\n",
    "X_train_mvt1['N4'].replace(np.nan, N4_median, inplace=True)\n",
    "\n",
    "X_train_mvt1['N4'].describe()['count'] == nrows"
   ]
  },
  {
   "cell_type": "code",
   "execution_count": 202,
   "metadata": {},
   "outputs": [
    {
     "name": "stdout",
     "output_type": "stream",
     "text": [
      "21.0\n"
     ]
    },
    {
     "data": {
      "image/png": "[encoded data removed]",
      "text/plain": [
       "<Figure size 432x288 with 1 Axes>"
      ]
     },
     "metadata": {},
     "output_type": "display_data"
    }
   ],
   "source": [
    "IQR = X_train_mvt1['N4'].quantile(0.75) - X_train_mvt1['N4'].quantile(0.25)\n",
    "\n",
    "upper_limit = X_train_mvt1['N4'].quantile(0.75) + 1.5*IQR\n",
    "\n",
    "print (upper_limit)\n",
    "\n",
    "X_train_mvt1.boxplot(column='N4');"
   ]
  },
  {
   "cell_type": "markdown",
   "metadata": {},
   "source": [
    "So there appears to be no relationship that the outliers of N4 contribute towards the target variable. So it is better to impute the outliers for N4"
   ]
  },
  {
   "cell_type": "code",
   "execution_count": 203,
   "metadata": {},
   "outputs": [
    {
     "data": {
      "image/png": "[encoded data removed]",
      "text/plain": [
       "<Figure size 432x288 with 1 Axes>"
      ]
     },
     "metadata": {},
     "output_type": "display_data"
    }
   ],
   "source": [
    "# replace extreme outliers with the median\n",
    "\n",
    "X_train_mvt1.loc[X_train_mvt1['N4']>upper_limit, 'N4'] = N4_median\n",
    "\n",
    "X_train_mvt1.boxplot(column='N4');"
   ]
  },
  {
   "cell_type": "markdown",
   "metadata": {},
   "source": [
    "#### Analysis of col N5"
   ]
  },
  {
   "cell_type": "code",
   "execution_count": 204,
   "metadata": {},
   "outputs": [
    {
     "name": "stdout",
     "output_type": "stream",
     "text": [
      "40 float64\n"
     ]
    }
   ],
   "source": [
    "print(len(X_train_mvt1['N5'].unique()), X_train_mvt1['N5'].dtype)"
   ]
  },
  {
   "cell_type": "code",
   "execution_count": 205,
   "metadata": {},
   "outputs": [
    {
     "data": {
      "image/png": "[encoded data removed]",
      "text/plain": [
       "<Figure size 432x288 with 1 Axes>"
      ]
     },
     "metadata": {},
     "output_type": "display_data"
    }
   ],
   "source": [
    "X_train_mvt1['N5'].plot.hist();"
   ]
  },
  {
   "cell_type": "code",
   "execution_count": 206,
   "metadata": {},
   "outputs": [
    {
     "data": {
      "text/plain": [
       "True"
      ]
     },
     "execution_count": 206,
     "metadata": {},
     "output_type": "execute_result"
    }
   ],
   "source": [
    "N5_median = X_train_mvt1['N5'].median(axis=0)\n",
    "\n",
    "X_train_mvt1['N5'].replace(np.nan, N5_median, inplace=True)\n",
    "\n",
    "X_train_mvt1['N5'].describe()['count'] == nrows"
   ]
  },
  {
   "cell_type": "code",
   "execution_count": 207,
   "metadata": {},
   "outputs": [
    {
     "name": "stdout",
     "output_type": "stream",
     "text": [
      "17.5\n"
     ]
    },
    {
     "data": {
      "image/png": "[encoded data removed]",
      "text/plain": [
       "<Figure size 432x288 with 1 Axes>"
      ]
     },
     "metadata": {},
     "output_type": "display_data"
    }
   ],
   "source": [
    "IQR = X_train_mvt1['N5'].quantile(0.75) - X_train_mvt1['N5'].quantile(0.25)\n",
    "\n",
    "upper_limit = X_train_mvt1['N5'].quantile(0.75) + 1.5*IQR\n",
    "\n",
    "print (upper_limit)\n",
    "\n",
    "X_train_mvt1.boxplot(column='N5');"
   ]
  },
  {
   "cell_type": "markdown",
   "metadata": {},
   "source": [
    "So there appears to be no relationship that the outliers of N5 contribute towards the target variable. So it is better to impute the outliers for N5"
   ]
  },
  {
   "cell_type": "code",
   "execution_count": 208,
   "metadata": {},
   "outputs": [
    {
     "data": {
      "image/png": "[encoded data removed]",
      "text/plain": [
       "<Figure size 432x288 with 1 Axes>"
      ]
     },
     "metadata": {},
     "output_type": "display_data"
    }
   ],
   "source": [
    "# replace extreme outliers with the median\n",
    "\n",
    "X_train_mvt1.loc[X_train_mvt1['N5']>upper_limit, 'N5'] = N5_median\n",
    "\n",
    "X_train_mvt1.boxplot(column='N5');"
   ]
  },
  {
   "cell_type": "markdown",
   "metadata": {},
   "source": [
    "#### Analysis of col N6"
   ]
  },
  {
   "cell_type": "code",
   "execution_count": 209,
   "metadata": {},
   "outputs": [
    {
     "name": "stdout",
     "output_type": "stream",
     "text": [
      "26 float64\n"
     ]
    }
   ],
   "source": [
    "print(len(X_train_mvt1['N6'].unique()), X_train_mvt1['N6'].dtype)"
   ]
  },
  {
   "cell_type": "code",
   "execution_count": 210,
   "metadata": {
    "scrolled": false
   },
   "outputs": [
    {
     "data": {
      "image/png": "[encoded data removed]",
      "text/plain": [
       "<Figure size 432x288 with 1 Axes>"
      ]
     },
     "metadata": {},
     "output_type": "display_data"
    }
   ],
   "source": [
    "X_train_mvt1['N6'].plot.hist();"
   ]
  },
  {
   "cell_type": "markdown",
   "metadata": {},
   "source": [
    "N6 and N3 have almost equal distributios\n",
    "\n",
    "Let us plot them and see if they are linearly related:"
   ]
  },
  {
   "cell_type": "code",
   "execution_count": 211,
   "metadata": {
    "scrolled": true
   },
   "outputs": [
    {
     "data": {
      "image/png": "[encoded data removed]",
      "text/plain": [
       "<Figure size 432x288 with 1 Axes>"
      ]
     },
     "metadata": {},
     "output_type": "display_data"
    }
   ],
   "source": [
    "X_train_mvt1.plot(x='N3', y='N6', kind='scatter');"
   ]
  },
  {
   "cell_type": "markdown",
   "metadata": {},
   "source": [
    "Since they are linearly related we can remove one of them without losing information"
   ]
  },
  {
   "cell_type": "code",
   "execution_count": 212,
   "metadata": {},
   "outputs": [],
   "source": [
    "X_train_mvt1.drop(columns=['N6'], inplace=True)"
   ]
  },
  {
   "cell_type": "markdown",
   "metadata": {},
   "source": [
    "#### Analysis of col N7"
   ]
  },
  {
   "cell_type": "code",
   "execution_count": 213,
   "metadata": {},
   "outputs": [
    {
     "name": "stdout",
     "output_type": "stream",
     "text": [
      "93 float64\n"
     ]
    }
   ],
   "source": [
    "print(len(X_train_mvt1['N7'].unique()), X_train_mvt1['N7'].dtype)"
   ]
  },
  {
   "cell_type": "code",
   "execution_count": 214,
   "metadata": {},
   "outputs": [
    {
     "data": {
      "image/png": "[encoded data removed]",
      "text/plain": [
       "<Figure size 432x288 with 1 Axes>"
      ]
     },
     "metadata": {},
     "output_type": "display_data"
    }
   ],
   "source": [
    "X_train_mvt1['N7'].plot.hist();"
   ]
  },
  {
   "cell_type": "markdown",
   "metadata": {},
   "source": [
    "Check to see if N5 and N7 are linearly related"
   ]
  },
  {
   "cell_type": "code",
   "execution_count": 215,
   "metadata": {
    "scrolled": true
   },
   "outputs": [
    {
     "data": {
      "image/png": "[encoded data removed]",
      "text/plain": [
       "<Figure size 432x288 with 1 Axes>"
      ]
     },
     "metadata": {},
     "output_type": "display_data"
    }
   ],
   "source": [
    "X_train_mvt1.plot(x='N5', y='N7', kind='scatter');"
   ]
  },
  {
   "cell_type": "code",
   "execution_count": 216,
   "metadata": {},
   "outputs": [
    {
     "data": {
      "text/plain": [
       "True"
      ]
     },
     "execution_count": 216,
     "metadata": {},
     "output_type": "execute_result"
    }
   ],
   "source": [
    "N7_median = X_train_mvt1['N7'].median(axis=0)\n",
    "\n",
    "X_train_mvt1['N7'].replace(np.nan, N7_median, inplace=True)\n",
    "\n",
    "X_train_mvt1['N7'].describe()['count'] == nrows"
   ]
  },
  {
   "cell_type": "code",
   "execution_count": 217,
   "metadata": {},
   "outputs": [
    {
     "name": "stdout",
     "output_type": "stream",
     "text": [
      "60.0\n"
     ]
    },
    {
     "data": {
      "image/png": "[encoded data removed]",
      "text/plain": [
       "<Figure size 432x288 with 1 Axes>"
      ]
     },
     "metadata": {},
     "output_type": "display_data"
    }
   ],
   "source": [
    "IQR = X_train_mvt1['N7'].quantile(0.75) - X_train_mvt1['N7'].quantile(0.25)\n",
    "\n",
    "upper_limit = X_train_mvt1['N7'].quantile(0.75) + 1.5*IQR\n",
    "\n",
    "print (upper_limit)\n",
    "\n",
    "X_train_mvt1.boxplot(column='N7');"
   ]
  },
  {
   "cell_type": "markdown",
   "metadata": {},
   "source": [
    "So there appears to be no relationship that the outliers of N7 contribute towards the target variable. So it is better to impute the outliers for N7"
   ]
  },
  {
   "cell_type": "code",
   "execution_count": 218,
   "metadata": {},
   "outputs": [
    {
     "data": {
      "image/png": "[encoded data removed]",
      "text/plain": [
       "<Figure size 432x288 with 1 Axes>"
      ]
     },
     "metadata": {},
     "output_type": "display_data"
    }
   ],
   "source": [
    "# replace extreme outliers with the median\n",
    "\n",
    "X_train_mvt1.loc[X_train_mvt1['N7']>upper_limit, 'N7'] = N7_median\n",
    "\n",
    "X_train_mvt1.boxplot(column='N7');"
   ]
  },
  {
   "cell_type": "markdown",
   "metadata": {},
   "source": [
    "#### Analysis of col N10"
   ]
  },
  {
   "cell_type": "code",
   "execution_count": 219,
   "metadata": {},
   "outputs": [
    {
     "name": "stdout",
     "output_type": "stream",
     "text": [
      "33 float64\n"
     ]
    }
   ],
   "source": [
    "print(len(X_train_mvt1['N10'].unique()), X_train_mvt1['N10'].dtype)"
   ]
  },
  {
   "cell_type": "code",
   "execution_count": 220,
   "metadata": {
    "scrolled": false
   },
   "outputs": [
    {
     "data": {
      "image/png": "[encoded data removed]",
      "text/plain": [
       "<Figure size 432x288 with 1 Axes>"
      ]
     },
     "metadata": {},
     "output_type": "display_data"
    }
   ],
   "source": [
    "X_train_mvt1['N10'].plot.hist();"
   ]
  },
  {
   "cell_type": "markdown",
   "metadata": {},
   "source": [
    "73% values are 0. So we replace missing values by 0\n",
    "\n",
    "Possible "
   ]
  },
  {
   "cell_type": "code",
   "execution_count": 221,
   "metadata": {},
   "outputs": [
    {
     "data": {
      "text/plain": [
       "True"
      ]
     },
     "execution_count": 221,
     "metadata": {},
     "output_type": "execute_result"
    }
   ],
   "source": [
    "X_train_mvt1['N10'].replace(np.nan, 0, inplace=True)\n",
    "\n",
    "X_train_mvt1['N10'].describe()['count'] == nrows"
   ]
  },
  {
   "cell_type": "code",
   "execution_count": 222,
   "metadata": {},
   "outputs": [
    {
     "name": "stdout",
     "output_type": "stream",
     "text": [
      "2.5\n"
     ]
    },
    {
     "data": {
      "image/png": "[encoded data removed]",
      "text/plain": [
       "<Figure size 432x288 with 1 Axes>"
      ]
     },
     "metadata": {},
     "output_type": "display_data"
    }
   ],
   "source": [
    "N10_median = X_train_mvt1['N10'].median(axis=0)\n",
    "\n",
    "\n",
    "IQR = X_train_mvt1['N10'].quantile(0.75) - X_train_mvt1['N10'].quantile(0.25)\n",
    "\n",
    "upper_limit = X_train_mvt1['N10'].quantile(0.75) + 1.5*IQR\n",
    "\n",
    "print (upper_limit)\n",
    "\n",
    "X_train_mvt1.boxplot(column='N10');"
   ]
  },
  {
   "cell_type": "markdown",
   "metadata": {},
   "source": [
    "The outliers seem to affect the dist of the target.So we do not impute them"
   ]
  },
  {
   "cell_type": "code",
   "execution_count": 223,
   "metadata": {
    "scrolled": true
   },
   "outputs": [],
   "source": [
    "# print (make_missing_value_dict(X_train_mvt1))"
   ]
  },
  {
   "cell_type": "markdown",
   "metadata": {},
   "source": [
    "#### Analysis of col N10.1"
   ]
  },
  {
   "cell_type": "code",
   "execution_count": 224,
   "metadata": {},
   "outputs": [
    {
     "name": "stdout",
     "output_type": "stream",
     "text": [
      "40 float64\n"
     ]
    }
   ],
   "source": [
    "print(len(X_train_mvt1['N10.1'].unique()), X_train_mvt1['N10.1'].dtype)"
   ]
  },
  {
   "cell_type": "code",
   "execution_count": 225,
   "metadata": {},
   "outputs": [
    {
     "data": {
      "image/png": "[encoded data removed]",
      "text/plain": [
       "<Figure size 432x288 with 1 Axes>"
      ]
     },
     "metadata": {},
     "output_type": "display_data"
    }
   ],
   "source": [
    "X_train_mvt1['N10.1'].plot.hist();"
   ]
  },
  {
   "cell_type": "markdown",
   "metadata": {},
   "source": [
    "N10 and N10.1 seem similar columns.. So we explore them more"
   ]
  },
  {
   "cell_type": "code",
   "execution_count": 226,
   "metadata": {
    "scrolled": false
   },
   "outputs": [
    {
     "data": {
      "image/png": "[encoded data removed]",
      "text/plain": [
       "<Figure size 432x288 with 1 Axes>"
      ]
     },
     "metadata": {},
     "output_type": "display_data"
    }
   ],
   "source": [
    "X_train_mvt1.plot(x='N10', y='N10.1', kind='scatter');"
   ]
  },
  {
   "cell_type": "code",
   "execution_count": 227,
   "metadata": {},
   "outputs": [
    {
     "data": {
      "text/html": [
       "<div>\n",
       "<style scoped>\n",
       "    .dataframe tbody tr th:only-of-type {\n",
       "        vertical-align: middle;\n",
       "    }\n",
       "\n",
       "    .dataframe tbody tr th {\n",
       "        vertical-align: top;\n",
       "    }\n",
       "\n",
       "    .dataframe thead th {\n",
       "        text-align: right;\n",
       "    }\n",
       "</style>\n",
       "<table border=\"1\" class=\"dataframe\">\n",
       "  <thead>\n",
       "    <tr style=\"text-align: right;\">\n",
       "      <th></th>\n",
       "      <th>N10</th>\n",
       "      <th>N10.1</th>\n",
       "    </tr>\n",
       "  </thead>\n",
       "  <tbody>\n",
       "    <tr>\n",
       "      <th>N10</th>\n",
       "      <td>1.000000</td>\n",
       "      <td>0.124941</td>\n",
       "    </tr>\n",
       "    <tr>\n",
       "      <th>N10.1</th>\n",
       "      <td>0.124941</td>\n",
       "      <td>1.000000</td>\n",
       "    </tr>\n",
       "  </tbody>\n",
       "</table>\n",
       "</div>"
      ],
      "text/plain": [
       "            N10     N10.1\n",
       "N10    1.000000  0.124941\n",
       "N10.1  0.124941  1.000000"
      ]
     },
     "execution_count": 227,
     "metadata": {},
     "output_type": "execute_result"
    }
   ],
   "source": [
    "# perasons correlation\n",
    "\n",
    "X_train_mvt1[['N10', 'N10.1']].corr()"
   ]
  },
  {
   "cell_type": "code",
   "execution_count": 228,
   "metadata": {},
   "outputs": [
    {
     "data": {
      "text/plain": [
       "0.0     0.350937\n",
       "1.0     0.234662\n",
       "2.0     0.147869\n",
       "3.0     0.082292\n",
       "4.0     0.054831\n",
       "5.0     0.035819\n",
       "6.0     0.023696\n",
       "7.0     0.016624\n",
       "8.0     0.012215\n",
       "9.0     0.009184\n",
       "10.0    0.007715\n",
       "11.0    0.004684\n",
       "12.0    0.004133\n",
       "14.0    0.003031\n",
       "13.0    0.002021\n",
       "17.0    0.001378\n",
       "16.0    0.001286\n",
       "15.0    0.001286\n",
       "19.0    0.001010\n",
       "18.0    0.000918\n",
       "21.0    0.000643\n",
       "22.0    0.000551\n",
       "20.0    0.000367\n",
       "31.0    0.000276\n",
       "25.0    0.000276\n",
       "23.0    0.000276\n",
       "26.0    0.000276\n",
       "32.0    0.000184\n",
       "28.0    0.000184\n",
       "24.0    0.000184\n",
       "34.0    0.000184\n",
       "29.0    0.000184\n",
       "30.0    0.000184\n",
       "37.0    0.000184\n",
       "33.0    0.000092\n",
       "50.0    0.000092\n",
       "36.0    0.000092\n",
       "27.0    0.000092\n",
       "63.0    0.000092\n",
       "Name: N10.1, dtype: float64"
      ]
     },
     "execution_count": 228,
     "metadata": {},
     "output_type": "execute_result"
    }
   ],
   "source": [
    "X_train_mvt1['N10.1'].value_counts(normalize=True)"
   ]
  },
  {
   "cell_type": "code",
   "execution_count": 229,
   "metadata": {},
   "outputs": [
    {
     "data": {
      "text/plain": [
       "True"
      ]
     },
     "execution_count": 229,
     "metadata": {},
     "output_type": "execute_result"
    }
   ],
   "source": [
    "N10_1_median = X_train_mvt1['N10.1'].median(axis=0)\n",
    "\n",
    "X_train_mvt1['N10.1'].replace(np.nan, N10_1_median, inplace=True)\n",
    "\n",
    "X_train_mvt1['N10.1'].describe()['count'] == nrows"
   ]
  },
  {
   "cell_type": "code",
   "execution_count": 230,
   "metadata": {},
   "outputs": [
    {
     "name": "stdout",
     "output_type": "stream",
     "text": [
      "7.5\n"
     ]
    },
    {
     "data": {
      "image/png": "[encoded data removed]",
      "text/plain": [
       "<Figure size 432x288 with 1 Axes>"
      ]
     },
     "metadata": {},
     "output_type": "display_data"
    }
   ],
   "source": [
    "IQR = X_train_mvt1['N10.1'].quantile(0.75) - X_train_mvt1['N10.1'].quantile(0.25)\n",
    "\n",
    "upper_limit = X_train_mvt1['N10.1'].quantile(0.75) + 1.5*IQR\n",
    "\n",
    "print (upper_limit)\n",
    "\n",
    "X_train_mvt1.boxplot(column='N10.1');"
   ]
  },
  {
   "cell_type": "markdown",
   "metadata": {},
   "source": [
    "So there appears to be no relationship that the outliers of N10.1 contribute towards the target variable. So it is better to impute the outliers for N10.1"
   ]
  },
  {
   "cell_type": "code",
   "execution_count": 231,
   "metadata": {},
   "outputs": [
    {
     "data": {
      "image/png": "[encoded data removed]",
      "text/plain": [
       "<Figure size 432x288 with 1 Axes>"
      ]
     },
     "metadata": {},
     "output_type": "display_data"
    }
   ],
   "source": [
    "# replace extreme outliers with the median\n",
    "\n",
    "X_train_mvt1.loc[X_train_mvt1['N10.1']>upper_limit, 'N10.1'] = N10_1_median\n",
    "\n",
    "X_train_mvt1.boxplot(column='N10.1');"
   ]
  },
  {
   "cell_type": "code",
   "execution_count": 232,
   "metadata": {},
   "outputs": [],
   "source": [
    "# print (make_missing_value_dict(X_train_mvt1))"
   ]
  },
  {
   "cell_type": "markdown",
   "metadata": {},
   "source": [
    "#### Analysis of col N11"
   ]
  },
  {
   "cell_type": "code",
   "execution_count": 233,
   "metadata": {},
   "outputs": [
    {
     "name": "stdout",
     "output_type": "stream",
     "text": [
      "79 float64\n"
     ]
    }
   ],
   "source": [
    "print(len(X_train_mvt1['N11'].unique()), X_train_mvt1['N11'].dtype)"
   ]
  },
  {
   "cell_type": "code",
   "execution_count": 234,
   "metadata": {},
   "outputs": [
    {
     "data": {
      "image/png": "[encoded data removed]",
      "text/plain": [
       "<Figure size 432x288 with 1 Axes>"
      ]
     },
     "metadata": {},
     "output_type": "display_data"
    }
   ],
   "source": [
    "X_train_mvt1['N11'].plot.hist();"
   ]
  },
  {
   "cell_type": "code",
   "execution_count": 235,
   "metadata": {},
   "outputs": [
    {
     "data": {
      "text/plain": [
       "True"
      ]
     },
     "execution_count": 235,
     "metadata": {},
     "output_type": "execute_result"
    }
   ],
   "source": [
    "N11_median = X_train_mvt1['N11'].median(axis=0)\n",
    "\n",
    "X_train_mvt1['N11'].replace(np.nan, N11_median, inplace=True)\n",
    "\n",
    "X_train_mvt1['N11'].describe()['count'] == nrows"
   ]
  },
  {
   "cell_type": "code",
   "execution_count": 236,
   "metadata": {
    "scrolled": true
   },
   "outputs": [
    {
     "name": "stdout",
     "output_type": "stream",
     "text": [
      "19.5\n"
     ]
    },
    {
     "data": {
      "image/png": "[encoded data removed]",
      "text/plain": [
       "<Figure size 432x288 with 1 Axes>"
      ]
     },
     "metadata": {},
     "output_type": "display_data"
    }
   ],
   "source": [
    "IQR = X_train_mvt1['N11'].quantile(0.75) - X_train_mvt1['N11'].quantile(0.25)\n",
    "\n",
    "upper_limit = X_train_mvt1['N11'].quantile(0.75) + 1.5*IQR\n",
    "\n",
    "print (upper_limit)\n",
    "\n",
    "X_train_mvt1.boxplot(column='N11');"
   ]
  },
  {
   "cell_type": "markdown",
   "metadata": {},
   "source": [
    "#### Analysis of col N12"
   ]
  },
  {
   "cell_type": "code",
   "execution_count": 237,
   "metadata": {},
   "outputs": [
    {
     "name": "stdout",
     "output_type": "stream",
     "text": [
      "1457 float64\n"
     ]
    }
   ],
   "source": [
    "print(len(X_train_mvt1['N12'].unique()), X_train_mvt1['N12'].dtype)"
   ]
  },
  {
   "cell_type": "code",
   "execution_count": 238,
   "metadata": {
    "scrolled": true
   },
   "outputs": [
    {
     "data": {
      "image/png": "[encoded data removed]",
      "text/plain": [
       "<Figure size 432x288 with 1 Axes>"
      ]
     },
     "metadata": {},
     "output_type": "display_data"
    }
   ],
   "source": [
    "X_train_mvt1['N12'].plot.hist(bins = 20);"
   ]
  },
  {
   "cell_type": "code",
   "execution_count": 239,
   "metadata": {},
   "outputs": [
    {
     "data": {
      "text/plain": [
       "0.0         0.803905\n",
       "50.0        0.000735\n",
       "60.0        0.000630\n",
       "81.0        0.000630\n",
       "67.0        0.000630\n",
       "130.0       0.000630\n",
       "40.0        0.000525\n",
       "35.0        0.000525\n",
       "100.0       0.000525\n",
       "25.0        0.000525\n",
       "45.0        0.000525\n",
       "84.0        0.000525\n",
       "66.0        0.000420\n",
       "102.0       0.000420\n",
       "176.0       0.000420\n",
       "27.0        0.000420\n",
       "281.0       0.000420\n",
       "72.0        0.000420\n",
       "209.0       0.000420\n",
       "129.0       0.000420\n",
       "186.0       0.000420\n",
       "255.0       0.000420\n",
       "78.0        0.000420\n",
       "248.0       0.000420\n",
       "31.0        0.000420\n",
       "63.0        0.000420\n",
       "245.0       0.000420\n",
       "75.0        0.000420\n",
       "79.0        0.000420\n",
       "65.0        0.000420\n",
       "              ...   \n",
       "57979.0     0.000105\n",
       "11744.0     0.000105\n",
       "223738.0    0.000105\n",
       "14094.0     0.000105\n",
       "296.0       0.000105\n",
       "2416.0      0.000105\n",
       "2368.0      0.000105\n",
       "436.0       0.000105\n",
       "932.0       0.000105\n",
       "827.0       0.000105\n",
       "5454.0      0.000105\n",
       "996.0       0.000105\n",
       "26931.0     0.000105\n",
       "3268.0      0.000105\n",
       "1364.0      0.000105\n",
       "221.0       0.000105\n",
       "2608.0      0.000105\n",
       "23880.0     0.000105\n",
       "1105.0      0.000105\n",
       "3414.0      0.000105\n",
       "4685.0      0.000105\n",
       "4983.0      0.000105\n",
       "1226.0      0.000105\n",
       "1513.0      0.000105\n",
       "711.0       0.000105\n",
       "2957.0      0.000105\n",
       "52844.0     0.000105\n",
       "1091.0      0.000105\n",
       "22264.0     0.000105\n",
       "6042.0      0.000105\n",
       "Name: N12, Length: 1456, dtype: float64"
      ]
     },
     "execution_count": 239,
     "metadata": {},
     "output_type": "execute_result"
    }
   ],
   "source": [
    "X_train_mvt1['N12'].value_counts(normalize=True)"
   ]
  },
  {
   "cell_type": "markdown",
   "metadata": {},
   "source": [
    "Almost 81% of the values are 0. So we simply replace missing values with 0 for N12"
   ]
  },
  {
   "cell_type": "code",
   "execution_count": 240,
   "metadata": {},
   "outputs": [
    {
     "data": {
      "text/plain": [
       "True"
      ]
     },
     "execution_count": 240,
     "metadata": {},
     "output_type": "execute_result"
    }
   ],
   "source": [
    "X_train_mvt1['N12'].replace(np.nan, 0, inplace=True)\n",
    "\n",
    "X_train_mvt1['N12'].describe()['count'] == nrows"
   ]
  },
  {
   "cell_type": "code",
   "execution_count": 241,
   "metadata": {},
   "outputs": [
    {
     "name": "stdout",
     "output_type": "stream",
     "text": [
      "0.0\n"
     ]
    },
    {
     "data": {
      "image/png": "[encoded data removed]",
      "text/plain": [
       "<Figure size 432x288 with 1 Axes>"
      ]
     },
     "metadata": {},
     "output_type": "display_data"
    }
   ],
   "source": [
    "N12_median = X_train_mvt1['N12'].median(axis=0)\n",
    "\n",
    "IQR = X_train_mvt1['N12'].quantile(0.75) - X_train_mvt1['N12'].quantile(0.25)\n",
    "\n",
    "upper_limit = X_train_mvt1['N12'].quantile(0.75) + 1.5*IQR\n",
    "\n",
    "print (upper_limit)\n",
    "\n",
    "X_train_mvt1.boxplot(column='N12');"
   ]
  },
  {
   "cell_type": "markdown",
   "metadata": {},
   "source": [
    "So there appears to be no relationship that the outliers of N12 contribute towards the target variable. So it is better to impute the outliers for N12\n",
    "\n",
    "But this results in all values of N12 becoming 0 so we do not do this and leave N12 as it is"
   ]
  },
  {
   "cell_type": "code",
   "execution_count": 242,
   "metadata": {},
   "outputs": [],
   "source": [
    "# print (make_missing_value_dict(X_train_mvt1))"
   ]
  },
  {
   "cell_type": "markdown",
   "metadata": {},
   "source": [
    "#### Analysis of col N14"
   ]
  },
  {
   "cell_type": "code",
   "execution_count": 243,
   "metadata": {},
   "outputs": [
    {
     "name": "stdout",
     "output_type": "stream",
     "text": [
      "89 float64\n"
     ]
    }
   ],
   "source": [
    "print(len(X_train_mvt1['N14'].unique()), X_train_mvt1['N14'].dtype)"
   ]
  },
  {
   "cell_type": "code",
   "execution_count": 244,
   "metadata": {
    "scrolled": true
   },
   "outputs": [
    {
     "data": {
      "image/png": "[encoded data removed]",
      "text/plain": [
       "<Figure size 432x288 with 1 Axes>"
      ]
     },
     "metadata": {},
     "output_type": "display_data"
    }
   ],
   "source": [
    "X_train_mvt1['N14'].plot.hist(bins = 20);"
   ]
  },
  {
   "cell_type": "code",
   "execution_count": 245,
   "metadata": {},
   "outputs": [
    {
     "data": {
      "text/plain": [
       "True"
      ]
     },
     "execution_count": 245,
     "metadata": {},
     "output_type": "execute_result"
    }
   ],
   "source": [
    "N14_median = X_train_mvt1['N14'].median(axis=0)\n",
    "\n",
    "X_train_mvt1['N14'].replace(np.nan, N14_median, inplace=True)\n",
    "\n",
    "X_train_mvt1['N14'].describe()['count'] == nrows"
   ]
  },
  {
   "cell_type": "code",
   "execution_count": 246,
   "metadata": {},
   "outputs": [
    {
     "name": "stdout",
     "output_type": "stream",
     "text": [
      "10.0\n"
     ]
    },
    {
     "data": {
      "image/png": "[encoded data removed]",
      "text/plain": [
       "<Figure size 432x288 with 1 Axes>"
      ]
     },
     "metadata": {},
     "output_type": "display_data"
    }
   ],
   "source": [
    "IQR = X_train_mvt1['N14'].quantile(0.75) - X_train_mvt1['N14'].quantile(0.25)\n",
    "\n",
    "upper_limit = X_train_mvt1['N14'].quantile(0.75) + 1.5*IQR\n",
    "\n",
    "print (upper_limit)\n",
    "\n",
    "X_train_mvt1.boxplot(column='N14');"
   ]
  },
  {
   "cell_type": "markdown",
   "metadata": {},
   "source": [
    "The outliers seem to affect the dist of the target.So we do not impute them"
   ]
  },
  {
   "cell_type": "markdown",
   "metadata": {},
   "source": [
    "#### Analysis of col N15"
   ]
  },
  {
   "cell_type": "code",
   "execution_count": 247,
   "metadata": {},
   "outputs": [
    {
     "name": "stdout",
     "output_type": "stream",
     "text": [
      "14 float64\n"
     ]
    }
   ],
   "source": [
    "print(len(X_train_mvt1['N15'].unique()), X_train_mvt1['N15'].dtype)"
   ]
  },
  {
   "cell_type": "code",
   "execution_count": 248,
   "metadata": {
    "scrolled": true
   },
   "outputs": [
    {
     "data": {
      "image/png": "[encoded data removed]",
      "text/plain": [
       "<Figure size 432x288 with 1 Axes>"
      ]
     },
     "metadata": {},
     "output_type": "display_data"
    }
   ],
   "source": [
    "X_train_mvt1['N15'].plot.hist(bins = 20);"
   ]
  },
  {
   "cell_type": "code",
   "execution_count": 249,
   "metadata": {
    "scrolled": false
   },
   "outputs": [
    {
     "data": {
      "text/plain": [
       "0.0     0.760562\n",
       "1.0     0.187730\n",
       "2.0     0.031594\n",
       "3.0     0.010195\n",
       "4.0     0.005694\n",
       "5.0     0.001745\n",
       "6.0     0.000827\n",
       "8.0     0.000551\n",
       "7.0     0.000367\n",
       "9.0     0.000184\n",
       "11.0    0.000184\n",
       "14.0    0.000184\n",
       "16.0    0.000184\n",
       "Name: N15, dtype: float64"
      ]
     },
     "execution_count": 249,
     "metadata": {},
     "output_type": "execute_result"
    }
   ],
   "source": [
    "X_train_mvt1['N15'].value_counts(normalize=True)"
   ]
  },
  {
   "cell_type": "markdown",
   "metadata": {},
   "source": [
    "Almost 77% of the values are 0. So we simply replace missing values with 0 for N15\n",
    "\n",
    "Only 20 distinct values. So we one hot encode them and treat them as categories"
   ]
  },
  {
   "cell_type": "code",
   "execution_count": 250,
   "metadata": {},
   "outputs": [
    {
     "data": {
      "text/plain": [
       "True"
      ]
     },
     "execution_count": 250,
     "metadata": {},
     "output_type": "execute_result"
    }
   ],
   "source": [
    "N15_median = X_train_mvt1['N15'].median(axis=0)\n",
    "\n",
    "X_train_mvt1['N15'].replace(np.nan, 0, inplace=True)\n",
    "\n",
    "X_train_mvt1['N15'].describe()['count'] == nrows"
   ]
  },
  {
   "cell_type": "code",
   "execution_count": 251,
   "metadata": {
    "scrolled": true
   },
   "outputs": [
    {
     "name": "stdout",
     "output_type": "stream",
     "text": [
      "0.0\n"
     ]
    },
    {
     "data": {
      "image/png": "[encoded data removed]",
      "text/plain": [
       "<Figure size 432x288 with 1 Axes>"
      ]
     },
     "metadata": {},
     "output_type": "display_data"
    }
   ],
   "source": [
    "IQR = X_train_mvt1['N15'].quantile(0.75) - X_train_mvt1['N15'].quantile(0.25)\n",
    "\n",
    "upper_limit = X_train_mvt1['N15'].quantile(0.75) + 1.5*IQR\n",
    "\n",
    "print (upper_limit)\n",
    "\n",
    "X_train_mvt1.boxplot(column='N15');"
   ]
  },
  {
   "cell_type": "markdown",
   "metadata": {},
   "source": [
    "#### Analysis of col N16"
   ]
  },
  {
   "cell_type": "code",
   "execution_count": 252,
   "metadata": {
    "scrolled": true
   },
   "outputs": [
    {
     "name": "stdout",
     "output_type": "stream",
     "text": [
      "6 float64\n"
     ]
    }
   ],
   "source": [
    "print(len(X_train_mvt1['N16'].unique()), X_train_mvt1['N16'].dtype)"
   ]
  },
  {
   "cell_type": "code",
   "execution_count": 253,
   "metadata": {
    "scrolled": true
   },
   "outputs": [
    {
     "data": {
      "image/png": "[encoded data removed]",
      "text/plain": [
       "<Figure size 432x288 with 1 Axes>"
      ]
     },
     "metadata": {},
     "output_type": "display_data"
    }
   ],
   "source": [
    "X_train_mvt1['N16'].plot.hist(bins = 20);"
   ]
  },
  {
   "cell_type": "code",
   "execution_count": 254,
   "metadata": {},
   "outputs": [
    {
     "data": {
      "text/plain": [
       "0.0    0.979851\n",
       "1.0    0.017421\n",
       "2.0    0.001889\n",
       "3.0    0.000525\n",
       "4.0    0.000315\n",
       "Name: N16, dtype: float64"
      ]
     },
     "execution_count": 254,
     "metadata": {},
     "output_type": "execute_result"
    }
   ],
   "source": [
    "X_train_mvt1['N16'].value_counts(normalize=True)"
   ]
  },
  {
   "cell_type": "markdown",
   "metadata": {},
   "source": [
    "Only 7 distinct values. So we one hot encode them and treat them as categories"
   ]
  },
  {
   "cell_type": "code",
   "execution_count": 255,
   "metadata": {
    "scrolled": true
   },
   "outputs": [
    {
     "name": "stdout",
     "output_type": "stream",
     "text": [
      "Index(['Unique_ID', 'C6', 'C8', 'N1', 'N2', 'N3', 'N4', 'N5', 'N7', 'N8',\n",
      "       ...\n",
      "       'C7_3', 'C7_4', 'C7_5', 'C7_6', 'C7_7', 'N16_0.0', 'N16_1.0', 'N16_2.0',\n",
      "       'N16_3.0', 'N16_4.0'],\n",
      "      dtype='object', length=209)\n"
     ]
    }
   ],
   "source": [
    "X_train_mvt1['N16'] = X_train_mvt1['N16'].astype('object')\n",
    "\n",
    "X_train_mvt1 = pd.get_dummies(data=X_train_mvt1, columns=['N16'])\n",
    "\n",
    "print (X_train_mvt1.columns)"
   ]
  },
  {
   "cell_type": "code",
   "execution_count": 256,
   "metadata": {},
   "outputs": [],
   "source": [
    "# print (make_missing_value_dict(X_train_mvt1))"
   ]
  },
  {
   "cell_type": "markdown",
   "metadata": {},
   "source": [
    "#### Analysis of col N17"
   ]
  },
  {
   "cell_type": "code",
   "execution_count": 257,
   "metadata": {},
   "outputs": [
    {
     "name": "stdout",
     "output_type": "stream",
     "text": [
      "7309 float64\n"
     ]
    }
   ],
   "source": [
    "print(len(X_train_mvt1['N17'].unique()), X_train_mvt1['N17'].dtype)"
   ]
  },
  {
   "cell_type": "code",
   "execution_count": 258,
   "metadata": {},
   "outputs": [
    {
     "data": {
      "image/png": "[encoded data removed]",
      "text/plain": [
       "<Figure size 432x288 with 1 Axes>"
      ]
     },
     "metadata": {},
     "output_type": "display_data"
    }
   ],
   "source": [
    "X_train_mvt1['N17'].plot.hist(bins = 20);"
   ]
  },
  {
   "cell_type": "code",
   "execution_count": 259,
   "metadata": {
    "scrolled": true
   },
   "outputs": [
    {
     "data": {
      "text/plain": [
       "0.0         0.069682\n",
       "500.0       0.000630\n",
       "55.0        0.000630\n",
       "521.0       0.000525\n",
       "66.0        0.000525\n",
       "473.0       0.000525\n",
       "528.0       0.000525\n",
       "459.0       0.000525\n",
       "25.0        0.000525\n",
       "197.0       0.000525\n",
       "1159.0      0.000525\n",
       "3823.0      0.000420\n",
       "290.0       0.000420\n",
       "325.0       0.000420\n",
       "855.0       0.000420\n",
       "760.0       0.000420\n",
       "142.0       0.000420\n",
       "122.0       0.000420\n",
       "326.0       0.000420\n",
       "438.0       0.000420\n",
       "287.0       0.000420\n",
       "1045.0      0.000420\n",
       "861.0       0.000420\n",
       "1616.0      0.000420\n",
       "1513.0      0.000420\n",
       "804.0       0.000420\n",
       "758.0       0.000420\n",
       "783.0       0.000420\n",
       "380.0       0.000420\n",
       "929.0       0.000420\n",
       "              ...   \n",
       "105613.0    0.000105\n",
       "12837.0     0.000105\n",
       "19395.0     0.000105\n",
       "62023.0     0.000105\n",
       "4623.0      0.000105\n",
       "27599.0     0.000105\n",
       "5891.0      0.000105\n",
       "5283.0      0.000105\n",
       "39272.0     0.000105\n",
       "271.0       0.000105\n",
       "186.0       0.000105\n",
       "103.0       0.000105\n",
       "141574.0    0.000105\n",
       "10219.0     0.000105\n",
       "198.0       0.000105\n",
       "340.0       0.000105\n",
       "18209.0     0.000105\n",
       "3609.0      0.000105\n",
       "7754.0      0.000105\n",
       "22818.0     0.000105\n",
       "3087.0      0.000105\n",
       "21946.0     0.000105\n",
       "43906.0     0.000105\n",
       "48351.0     0.000105\n",
       "40515.0     0.000105\n",
       "13398.0     0.000105\n",
       "10599.0     0.000105\n",
       "23205.0     0.000105\n",
       "23454.0     0.000105\n",
       "38940.0     0.000105\n",
       "Name: N17, Length: 7308, dtype: float64"
      ]
     },
     "execution_count": 259,
     "metadata": {},
     "output_type": "execute_result"
    }
   ],
   "source": [
    "X_train_mvt1['N17'].value_counts(normalize=True)"
   ]
  },
  {
   "cell_type": "code",
   "execution_count": 260,
   "metadata": {},
   "outputs": [
    {
     "data": {
      "text/plain": [
       "True"
      ]
     },
     "execution_count": 260,
     "metadata": {},
     "output_type": "execute_result"
    }
   ],
   "source": [
    "N17_median = X_train_mvt1['N17'].median(axis=0)\n",
    "\n",
    "X_train_mvt1['N17'].replace(np.nan, N17_median, inplace=True)\n",
    "\n",
    "X_train_mvt1['N17'].describe()['count'] == nrows"
   ]
  },
  {
   "cell_type": "code",
   "execution_count": 261,
   "metadata": {},
   "outputs": [
    {
     "name": "stdout",
     "output_type": "stream",
     "text": [
      "31622.0\n"
     ]
    },
    {
     "data": {
      "image/png": "[encoded data removed]",
      "text/plain": [
       "<Figure size 432x288 with 1 Axes>"
      ]
     },
     "metadata": {},
     "output_type": "display_data"
    }
   ],
   "source": [
    "IQR = X_train_mvt1['N17'].quantile(0.75) - X_train_mvt1['N17'].quantile(0.25)\n",
    "\n",
    "upper_limit = X_train_mvt1['N17'].quantile(0.75) + 1.5*IQR\n",
    "\n",
    "print (upper_limit)\n",
    "\n",
    "X_train_mvt1.boxplot(column='N17');"
   ]
  },
  {
   "cell_type": "code",
   "execution_count": 262,
   "metadata": {},
   "outputs": [
    {
     "data": {
      "image/png": "[encoded data removed]",
      "text/plain": [
       "<Figure size 432x288 with 1 Axes>"
      ]
     },
     "metadata": {},
     "output_type": "display_data"
    }
   ],
   "source": [
    "# replace extreme outliers with the median\n",
    "\n",
    "X_train_mvt1.loc[X_train_mvt1['N17']>upper_limit, 'N17'] = N17_median\n",
    "\n",
    "X_train_mvt1.boxplot(column='N17');"
   ]
  },
  {
   "cell_type": "markdown",
   "metadata": {},
   "source": [
    "#### Analysis of col N4"
   ]
  },
  {
   "cell_type": "code",
   "execution_count": 263,
   "metadata": {},
   "outputs": [
    {
     "name": "stdout",
     "output_type": "stream",
     "text": [
      "148 float64\n"
     ]
    }
   ],
   "source": [
    "print(len(X_train_mvt1['N18'].unique()), X_train_mvt1['N18'].dtype)"
   ]
  },
  {
   "cell_type": "code",
   "execution_count": 264,
   "metadata": {},
   "outputs": [
    {
     "data": {
      "image/png": "[encoded data removed]",
      "text/plain": [
       "<Figure size 432x288 with 1 Axes>"
      ]
     },
     "metadata": {},
     "output_type": "display_data"
    }
   ],
   "source": [
    "X_train_mvt1['N18'].plot.hist(bins = 20);"
   ]
  },
  {
   "cell_type": "code",
   "execution_count": 265,
   "metadata": {},
   "outputs": [
    {
     "data": {
      "text/plain": [
       "True"
      ]
     },
     "execution_count": 265,
     "metadata": {},
     "output_type": "execute_result"
    }
   ],
   "source": [
    "N18_median = X_train_mvt1['N18'].median(axis=0)\n",
    "\n",
    "X_train_mvt1['N18'].replace(np.nan, N18_median, inplace=True)\n",
    "\n",
    "X_train_mvt1['N18'].describe()['count'] == nrows"
   ]
  },
  {
   "cell_type": "code",
   "execution_count": 266,
   "metadata": {},
   "outputs": [
    {
     "name": "stdout",
     "output_type": "stream",
     "text": [
      "1.62\n"
     ]
    },
    {
     "data": {
      "image/png": "[encoded data removed]",
      "text/plain": [
       "<Figure size 432x288 with 1 Axes>"
      ]
     },
     "metadata": {},
     "output_type": "display_data"
    }
   ],
   "source": [
    "IQR = X_train_mvt1['N18'].quantile(0.75) - X_train_mvt1['N18'].quantile(0.25)\n",
    "\n",
    "upper_limit = X_train_mvt1['N18'].quantile(0.75) + 1.5*IQR\n",
    "\n",
    "print (upper_limit)\n",
    "\n",
    "X_train_mvt1.boxplot(column='N18');"
   ]
  },
  {
   "cell_type": "markdown",
   "metadata": {},
   "source": [
    "The outliers seem to affect the dist of the target.So we do not impute them"
   ]
  },
  {
   "cell_type": "markdown",
   "metadata": {},
   "source": [
    "#### Analysis of col N19"
   ]
  },
  {
   "cell_type": "code",
   "execution_count": 267,
   "metadata": {},
   "outputs": [
    {
     "name": "stdout",
     "output_type": "stream",
     "text": [
      "6252 float64\n"
     ]
    }
   ],
   "source": [
    "print(len(X_train_mvt1['N19'].unique()), X_train_mvt1['N19'].dtype)"
   ]
  },
  {
   "cell_type": "code",
   "execution_count": 268,
   "metadata": {},
   "outputs": [
    {
     "data": {
      "image/png": "[encoded data removed]",
      "text/plain": [
       "<Figure size 432x288 with 1 Axes>"
      ]
     },
     "metadata": {},
     "output_type": "display_data"
    }
   ],
   "source": [
    "X_train_mvt1['N19'].plot.hist(bins = 20);"
   ]
  },
  {
   "cell_type": "code",
   "execution_count": 269,
   "metadata": {},
   "outputs": [
    {
     "data": {
      "text/plain": [
       "True"
      ]
     },
     "execution_count": 269,
     "metadata": {},
     "output_type": "execute_result"
    }
   ],
   "source": [
    "N19_median = X_train_mvt1['N19'].median(axis=0)\n",
    "\n",
    "X_train_mvt1['N19'].replace(np.nan, N19_median, inplace=True)\n",
    "\n",
    "X_train_mvt1['N19'].describe()['count'] == nrows"
   ]
  },
  {
   "cell_type": "code",
   "execution_count": 270,
   "metadata": {},
   "outputs": [
    {
     "name": "stdout",
     "output_type": "stream",
     "text": [
      "23400.0\n"
     ]
    },
    {
     "data": {
      "image/png": "[encoded data removed]",
      "text/plain": [
       "<Figure size 432x288 with 1 Axes>"
      ]
     },
     "metadata": {},
     "output_type": "display_data"
    }
   ],
   "source": [
    "IQR = X_train_mvt1['N19'].quantile(0.75) - X_train_mvt1['N19'].quantile(0.25)\n",
    "\n",
    "upper_limit = X_train_mvt1['N19'].quantile(0.75) + 1.5*IQR\n",
    "\n",
    "print (upper_limit)\n",
    "\n",
    "X_train_mvt1.boxplot(column='N19');"
   ]
  },
  {
   "cell_type": "markdown",
   "metadata": {},
   "source": [
    "The outliers seem to affect the dist of the target.So we do not impute them"
   ]
  },
  {
   "cell_type": "code",
   "execution_count": 271,
   "metadata": {},
   "outputs": [],
   "source": [
    "# print (make_missing_value_dict(X_train_mvt1))"
   ]
  },
  {
   "cell_type": "markdown",
   "metadata": {},
   "source": [
    "#### Analysis of col N20"
   ]
  },
  {
   "cell_type": "code",
   "execution_count": 272,
   "metadata": {
    "scrolled": true
   },
   "outputs": [
    {
     "name": "stdout",
     "output_type": "stream",
     "text": [
      "87 float64\n"
     ]
    }
   ],
   "source": [
    "print(len(X_train_mvt1['N20'].unique()), X_train_mvt1['N20'].dtype)"
   ]
  },
  {
   "cell_type": "code",
   "execution_count": 273,
   "metadata": {},
   "outputs": [
    {
     "data": {
      "image/png": "[encoded data removed]",
      "text/plain": [
       "<Figure size 432x288 with 1 Axes>"
      ]
     },
     "metadata": {},
     "output_type": "display_data"
    }
   ],
   "source": [
    "X_train_mvt1['N20'].plot.hist(bins = 20);"
   ]
  },
  {
   "cell_type": "code",
   "execution_count": 274,
   "metadata": {},
   "outputs": [
    {
     "data": {
      "text/plain": [
       "True"
      ]
     },
     "execution_count": 274,
     "metadata": {},
     "output_type": "execute_result"
    }
   ],
   "source": [
    "N20_median = X_train_mvt1['N20'].median(axis=0)\n",
    "\n",
    "X_train_mvt1['N20'].replace(np.nan, N20_median, inplace=True)\n",
    "\n",
    "X_train_mvt1['N20'].describe()['count'] == nrows"
   ]
  },
  {
   "cell_type": "code",
   "execution_count": 275,
   "metadata": {},
   "outputs": [
    {
     "name": "stdout",
     "output_type": "stream",
     "text": [
      "46.5\n"
     ]
    },
    {
     "data": {
      "image/png": "[encoded data removed]",
      "text/plain": [
       "<Figure size 432x288 with 1 Axes>"
      ]
     },
     "metadata": {},
     "output_type": "display_data"
    }
   ],
   "source": [
    "IQR = X_train_mvt1['N20'].quantile(0.75) - X_train_mvt1['N20'].quantile(0.25)\n",
    "\n",
    "upper_limit = X_train_mvt1['N20'].quantile(0.75) + 1.5*IQR\n",
    "\n",
    "print (upper_limit)\n",
    "\n",
    "X_train_mvt1.boxplot(column='N20');"
   ]
  },
  {
   "cell_type": "markdown",
   "metadata": {},
   "source": [
    "The outliers seem to affect the dist of the target.So we do not impute them"
   ]
  },
  {
   "cell_type": "markdown",
   "metadata": {},
   "source": [
    "#### Analysis of col N21"
   ]
  },
  {
   "cell_type": "code",
   "execution_count": 276,
   "metadata": {},
   "outputs": [
    {
     "name": "stdout",
     "output_type": "stream",
     "text": [
      "94 float64\n"
     ]
    }
   ],
   "source": [
    "print(len(X_train_mvt1['N21'].unique()), X_train_mvt1['N21'].dtype)"
   ]
  },
  {
   "cell_type": "code",
   "execution_count": 277,
   "metadata": {},
   "outputs": [
    {
     "data": {
      "image/png": "[encoded data removed]",
      "text/plain": [
       "<Figure size 432x288 with 1 Axes>"
      ]
     },
     "metadata": {},
     "output_type": "display_data"
    }
   ],
   "source": [
    "X_train_mvt1['N21'].plot.hist(bins = 20);"
   ]
  },
  {
   "cell_type": "code",
   "execution_count": 278,
   "metadata": {},
   "outputs": [
    {
     "data": {
      "text/plain": [
       "True"
      ]
     },
     "execution_count": 278,
     "metadata": {},
     "output_type": "execute_result"
    }
   ],
   "source": [
    "N21_median = X_train_mvt1['N21'].median(axis=0)\n",
    "\n",
    "X_train_mvt1['N21'].replace(np.nan, N21_median, inplace=True)\n",
    "\n",
    "X_train_mvt1['N21'].describe()['count'] == nrows"
   ]
  },
  {
   "cell_type": "code",
   "execution_count": 279,
   "metadata": {},
   "outputs": [
    {
     "name": "stdout",
     "output_type": "stream",
     "text": [
      "0.5000000000000001\n"
     ]
    },
    {
     "data": {
      "image/png": "[encoded data removed]",
      "text/plain": [
       "<Figure size 432x288 with 1 Axes>"
      ]
     },
     "metadata": {},
     "output_type": "display_data"
    }
   ],
   "source": [
    "IQR = X_train_mvt1['N21'].quantile(0.75) - X_train_mvt1['N21'].quantile(0.25)\n",
    "\n",
    "lower_limit = X_train_mvt1['N21'].quantile(0.25) - 1.5*IQR\n",
    "\n",
    "print (lower_limit)\n",
    "\n",
    "\n",
    "X_train_mvt1.boxplot(column='N21');"
   ]
  },
  {
   "cell_type": "markdown",
   "metadata": {},
   "source": [
    "The outliers seem to affect the dist of the target.So we do not impute them"
   ]
  },
  {
   "cell_type": "markdown",
   "metadata": {},
   "source": [
    "#### Analysis of col N22"
   ]
  },
  {
   "cell_type": "code",
   "execution_count": 280,
   "metadata": {},
   "outputs": [
    {
     "name": "stdout",
     "output_type": "stream",
     "text": [
      "17 float64\n"
     ]
    }
   ],
   "source": [
    "print(len(X_train_mvt1['N22'].unique()), X_train_mvt1['N22'].dtype)"
   ]
  },
  {
   "cell_type": "code",
   "execution_count": 281,
   "metadata": {},
   "outputs": [
    {
     "data": {
      "image/png": "[encoded data removed]",
      "text/plain": [
       "<Figure size 432x288 with 1 Axes>"
      ]
     },
     "metadata": {},
     "output_type": "display_data"
    }
   ],
   "source": [
    "X_train_mvt1['N22'].plot.hist(bins = 20);"
   ]
  },
  {
   "cell_type": "code",
   "execution_count": 282,
   "metadata": {},
   "outputs": [
    {
     "data": {
      "text/plain": [
       "0.0     0.490991\n",
       "1.0     0.283889\n",
       "2.0     0.131469\n",
       "3.0     0.053740\n",
       "4.0     0.020951\n",
       "5.0     0.009847\n",
       "6.0     0.004190\n",
       "7.0     0.001990\n",
       "8.0     0.000943\n",
       "9.0     0.000524\n",
       "11.0    0.000419\n",
       "10.0    0.000419\n",
       "12.0    0.000314\n",
       "13.0    0.000105\n",
       "17.0    0.000105\n",
       "14.0    0.000105\n",
       "Name: N22, dtype: float64"
      ]
     },
     "execution_count": 282,
     "metadata": {},
     "output_type": "execute_result"
    }
   ],
   "source": [
    "X_train_mvt1['N22'].value_counts(normalize=True)"
   ]
  },
  {
   "cell_type": "code",
   "execution_count": 283,
   "metadata": {
    "scrolled": true
   },
   "outputs": [
    {
     "name": "stdout",
     "output_type": "stream",
     "text": [
      "Index(['Unique_ID', 'C6', 'C8', 'N1', 'N2', 'N3', 'N4', 'N5', 'N7', 'N8',\n",
      "       ...\n",
      "       'N22_6.0', 'N22_7.0', 'N22_8.0', 'N22_9.0', 'N22_10.0', 'N22_11.0',\n",
      "       'N22_12.0', 'N22_13.0', 'N22_14.0', 'N22_17.0'],\n",
      "      dtype='object', length=224)\n"
     ]
    }
   ],
   "source": [
    "X_train_mvt1['N22'] = X_train_mvt1['N22'].astype('object')\n",
    "\n",
    "X_train_mvt1 = pd.get_dummies(data=X_train_mvt1, columns=['N22'])\n",
    "\n",
    "print (X_train_mvt1.columns)"
   ]
  },
  {
   "cell_type": "markdown",
   "metadata": {},
   "source": [
    "#### Analysis of col N23"
   ]
  },
  {
   "cell_type": "code",
   "execution_count": 284,
   "metadata": {},
   "outputs": [
    {
     "name": "stdout",
     "output_type": "stream",
     "text": [
      "324 float64\n"
     ]
    }
   ],
   "source": [
    "print(len(X_train_mvt1['N23'].unique()), X_train_mvt1['N23'].dtype)"
   ]
  },
  {
   "cell_type": "code",
   "execution_count": 285,
   "metadata": {},
   "outputs": [
    {
     "data": {
      "image/png": "[encoded data removed]",
      "text/plain": [
       "<Figure size 432x288 with 1 Axes>"
      ]
     },
     "metadata": {},
     "output_type": "display_data"
    }
   ],
   "source": [
    "X_train_mvt1['N23'].plot.hist(bins = 20);"
   ]
  },
  {
   "cell_type": "code",
   "execution_count": 286,
   "metadata": {
    "scrolled": true
   },
   "outputs": [
    {
     "data": {
      "text/plain": [
       "36.000      0.038552\n",
       "32.000      0.035012\n",
       "28.000      0.033733\n",
       "38.000      0.032848\n",
       "34.000      0.032160\n",
       "30.000      0.031963\n",
       "40.000      0.031570\n",
       "26.000      0.031275\n",
       "22.000      0.029996\n",
       "44.000      0.029996\n",
       "42.000      0.029013\n",
       "24.000      0.028816\n",
       "20.000      0.027439\n",
       "16.000      0.026161\n",
       "48.000      0.025177\n",
       "46.000      0.022620\n",
       "18.000      0.022522\n",
       "50.000      0.022227\n",
       "56.000      0.022227\n",
       "14.000      0.021341\n",
       "54.000      0.021145\n",
       "52.000      0.020653\n",
       "10.000      0.020555\n",
       "64.000      0.019670\n",
       "12.000      0.019178\n",
       "62.000      0.018489\n",
       "60.000      0.017998\n",
       "58.000      0.017014\n",
       "8.000       0.016227\n",
       "66.000      0.015736\n",
       "              ...   \n",
       "23.832      0.000098\n",
       "26.816      0.000098\n",
       "83.172      0.000098\n",
       "37.440      0.000098\n",
       "11.038      0.000098\n",
       "35.484      0.000098\n",
       "31.282      0.000098\n",
       "10.878      0.000098\n",
       "3.078       0.000098\n",
       "1004.000    0.000098\n",
       "11.948      0.000098\n",
       "12.220      0.000098\n",
       "762.000     0.000098\n",
       "16.670      0.000098\n",
       "348.000     0.000098\n",
       "33.146      0.000098\n",
       "42.354      0.000098\n",
       "6.368       0.000098\n",
       "38.534      0.000098\n",
       "28.836      0.000098\n",
       "46.706      0.000098\n",
       "39.786      0.000098\n",
       "56.004      0.000098\n",
       "690.000     0.000098\n",
       "27.612      0.000098\n",
       "17.570      0.000098\n",
       "2.578       0.000098\n",
       "1704.000    0.000098\n",
       "184.000     0.000098\n",
       "28.002      0.000098\n",
       "Name: N23, Length: 323, dtype: float64"
      ]
     },
     "execution_count": 286,
     "metadata": {},
     "output_type": "execute_result"
    }
   ],
   "source": [
    "X_train_mvt1['N23'].value_counts(normalize=True)"
   ]
  },
  {
   "cell_type": "code",
   "execution_count": 287,
   "metadata": {},
   "outputs": [
    {
     "data": {
      "text/plain": [
       "True"
      ]
     },
     "execution_count": 287,
     "metadata": {},
     "output_type": "execute_result"
    }
   ],
   "source": [
    "N23_median = X_train_mvt1['N23'].median(axis=0)\n",
    "\n",
    "X_train_mvt1['N23'].replace(np.nan, N23_median, inplace=True)\n",
    "\n",
    "X_train_mvt1['N23'].describe()['count'] == nrows"
   ]
  },
  {
   "cell_type": "code",
   "execution_count": 288,
   "metadata": {},
   "outputs": [
    {
     "name": "stdout",
     "output_type": "stream",
     "text": [
      "106.0\n"
     ]
    },
    {
     "data": {
      "image/png": "[encoded data removed]",
      "text/plain": [
       "<Figure size 432x288 with 1 Axes>"
      ]
     },
     "metadata": {},
     "output_type": "display_data"
    }
   ],
   "source": [
    "IQR = X_train_mvt1['N23'].quantile(0.75) - X_train_mvt1['N23'].quantile(0.25)\n",
    "\n",
    "upper_limit = X_train_mvt1['N23'].quantile(0.75) + 1.5*IQR\n",
    "\n",
    "print (upper_limit)\n",
    "\n",
    "X_train_mvt1.boxplot(column='N23');"
   ]
  },
  {
   "cell_type": "code",
   "execution_count": 289,
   "metadata": {
    "scrolled": true
   },
   "outputs": [
    {
     "data": {
      "image/png": "[encoded data removed]",
      "text/plain": [
       "<Figure size 432x288 with 1 Axes>"
      ]
     },
     "metadata": {},
     "output_type": "display_data"
    }
   ],
   "source": [
    "# replace extreme outliers with the median\n",
    "\n",
    "X_train_mvt1.loc[X_train_mvt1['N23']>upper_limit, 'N23'] = N23_median\n",
    "\n",
    "X_train_mvt1.boxplot(column='N23');"
   ]
  },
  {
   "cell_type": "code",
   "execution_count": 290,
   "metadata": {
    "scrolled": false
   },
   "outputs": [
    {
     "name": "stdout",
     "output_type": "stream",
     "text": [
      "{'C6': 0, 'C8': 0, 'N1': 0, 'N2': 0, 'N3': 0, 'N4': 0, 'N5': 0, 'N7': 0, 'N8': 0, 'N9': 0, 'N10': 0, 'N10.1': 0, 'N11': 0, 'N12': 0, 'N14': 0, 'N15': 0, 'N17': 0, 'N18': 0, 'N19': 0, 'N20': 0, 'N21': 0, 'N23': 0, 'N24': 0, 'N25': 0, 'N26': 0, 'N27': 0, 'N28': 0, 'N29': 0, 'N30': 0, 'N31': 0, 'N32': 0, 'N33': 0, 'N34': 0, 'N35': 129, 'N25_missing': 0, 'N26_missing': 0, 'N27_missing': 0, 'N28_missing': 0, 'N29_missing': 0, 'N30_missing': 0, 'N31_missing': 0, 'N32_missing': 0, 'C1_1': 0, 'C1_2': 0, 'C1_3': 0, 'C2_0': 0, 'C2_1': 0, 'C2_2': 0, 'C2_3': 0, 'C2_4': 0, 'C2_5': 0, 'C2_6': 0, 'C2_7': 0, 'C2_8': 0, 'C2_9': 0, 'C2_10': 0, 'C2_11': 0, 'C2_12': 0, 'C2_13': 0, 'C2_14': 0, 'C2_15': 0, 'C2_16': 0, 'C2_17': 0, 'C2_18': 0, 'C2_19': 0, 'C2_20': 0, 'C3_0': 0, 'C3_1': 0, 'C3_2': 0, 'C3_3': 0, 'C3_4': 0, 'C3_5': 0, 'C3_6': 0, 'C3_7': 0, 'C3_8': 0, 'C3_9': 0, 'C3_10': 0, 'C3_11': 0, 'C3_12': 0, 'C3_13': 0, 'C3_14': 0, 'C3_15': 0, 'C3_16': 0, 'C3_17': 0, 'C3_18': 0, 'C3_19': 0, 'C3_20': 0, 'C3_21': 0, 'C3_22': 0, 'C3_23': 0, 'C3_24': 0, 'C3_25': 0, 'C3_26': 0, 'C3_27': 0, 'C3_28': 0, 'C3_29': 0, 'C3_30': 0, 'C3_31': 0, 'C3_32': 0, 'C3_33': 0, 'C3_34': 0, 'C3_35': 0, 'C3_36': 0, 'C3_37': 0, 'C3_38': 0, 'C3_39': 0, 'C3_40': 0, 'C3_41': 0, 'C3_42': 0, 'C3_43': 0, 'C3_44': 0, 'C3_45': 0, 'C3_46': 0, 'C3_47': 0, 'C3_48': 0, 'C3_49': 0, 'C3_50': 0, 'C3_51': 0, 'C4_0': 0, 'C4_1': 0, 'C4_2': 0, 'C4_3': 0, 'C4_4': 0, 'C4_5': 0, 'C4_6': 0, 'C4_7': 0, 'C4_8': 0, 'C4_9': 0, 'C4_10': 0, 'C4_11': 0, 'C4_12': 0, 'C4_13': 0, 'C4_14': 0, 'C4_15': 0, 'C4_16': 0, 'C4_17': 0, 'C4_18': 0, 'C4_19': 0, 'C4_20': 0, 'C4_21': 0, 'C4_22': 0, 'C4_23': 0, 'C4_24': 0, 'C4_25': 0, 'C4_26': 0, 'C4_27': 0, 'C4_28': 0, 'C4_29': 0, 'C4_30': 0, 'C4_31': 0, 'C4_32': 0, 'C4_33': 0, 'C4_34': 0, 'C4_35': 0, 'C4_36': 0, 'C4_37': 0, 'C4_38': 0, 'C4_39': 0, 'C4_40': 0, 'C4_41': 0, 'C4_42': 0, 'C4_43': 0, 'C4_44': 0, 'C4_45': 0, 'C4_46': 0, 'C4_47': 0, 'C4_48': 0, 'C4_49': 0, 'C4_50': 0, 'C4_51': 0, 'C4_52': 0, 'C4_53': 0, 'C4_54': 0, 'C4_55': 0, 'C4_56': 0, 'C4_57': 0, 'C4_58': 0, 'C4_59': 0, 'C4_60': 0, 'C4_61': 0, 'C4_62': 0, 'C4_63': 0, 'C4_64': 0, 'C4_65': 0, 'C4_66': 0, 'C4_67': 0, 'C5_0': 0, 'C5_1': 0, 'C5_2': 0, 'C5_3': 0, 'C5_4': 0, 'C5_5': 0, 'C5_6': 0, 'C5_7': 0, 'C7_0': 0, 'C7_1': 0, 'C7_2': 0, 'C7_3': 0, 'C7_4': 0, 'C7_5': 0, 'C7_6': 0, 'C7_7': 0, 'N16_0.0': 0, 'N16_1.0': 0, 'N16_2.0': 0, 'N16_3.0': 0, 'N16_4.0': 0, 'N22_0.0': 0, 'N22_1.0': 0, 'N22_2.0': 0, 'N22_3.0': 0, 'N22_4.0': 0, 'N22_5.0': 0, 'N22_6.0': 0, 'N22_7.0': 0, 'N22_8.0': 0, 'N22_9.0': 0, 'N22_10.0': 0, 'N22_11.0': 0, 'N22_12.0': 0, 'N22_13.0': 0, 'N22_14.0': 0, 'N22_17.0': 0}\n"
     ]
    }
   ],
   "source": [
    "print (make_missing_value_dict(X_train_mvt1))"
   ]
  },
  {
   "cell_type": "markdown",
   "metadata": {},
   "source": [
    "#### Analysis of col N24"
   ]
  },
  {
   "cell_type": "code",
   "execution_count": 291,
   "metadata": {},
   "outputs": [
    {
     "name": "stdout",
     "output_type": "stream",
     "text": [
      "2483 float64\n"
     ]
    }
   ],
   "source": [
    "print(len(X_train_mvt1['N24'].unique()), X_train_mvt1['N24'].dtype)"
   ]
  },
  {
   "cell_type": "code",
   "execution_count": 292,
   "metadata": {
    "scrolled": true
   },
   "outputs": [
    {
     "data": {
      "image/png": "[encoded data removed]",
      "text/plain": [
       "<Figure size 432x288 with 1 Axes>"
      ]
     },
     "metadata": {},
     "output_type": "display_data"
    }
   ],
   "source": [
    "X_train_mvt1['N24'].plot.hist(bins = 20);"
   ]
  },
  {
   "cell_type": "code",
   "execution_count": 293,
   "metadata": {},
   "outputs": [
    {
     "name": "stdout",
     "output_type": "stream",
     "text": [
      "11450.0000005\n"
     ]
    },
    {
     "data": {
      "image/png": "[encoded data removed]",
      "text/plain": [
       "<Figure size 432x288 with 1 Axes>"
      ]
     },
     "metadata": {},
     "output_type": "display_data"
    }
   ],
   "source": [
    "IQR = X_train_mvt1['N24'].quantile(0.75) - X_train_mvt1['N24'].quantile(0.25)\n",
    "\n",
    "upper_limit = X_train_mvt1['N24'].quantile(0.75) + 1.5*IQR\n",
    "\n",
    "print (upper_limit)\n",
    "\n",
    "X_train_mvt1.boxplot(column='N24');"
   ]
  },
  {
   "cell_type": "markdown",
   "metadata": {},
   "source": [
    "So there appears to be no relationship that the outliers of N24 contribute towards the target variable. So it is better to impute the outliers for N24\n",
    "\n",
    "But this results in all values of N24 becoming 0 so we do not do this and leave N12 as it is"
   ]
  },
  {
   "cell_type": "code",
   "execution_count": 294,
   "metadata": {},
   "outputs": [],
   "source": [
    "# print (make_missing_value_dict(X_train_mvt1))"
   ]
  },
  {
   "cell_type": "markdown",
   "metadata": {},
   "source": [
    "The cols: N25-N32 have laready been analyzed"
   ]
  },
  {
   "cell_type": "markdown",
   "metadata": {},
   "source": [
    "#### Analysis of col N33"
   ]
  },
  {
   "cell_type": "code",
   "execution_count": 295,
   "metadata": {},
   "outputs": [
    {
     "name": "stdout",
     "output_type": "stream",
     "text": [
      "549 float64\n"
     ]
    }
   ],
   "source": [
    "print(len(X_train_mvt1['N33'].unique()), X_train_mvt1['N33'].dtype)"
   ]
  },
  {
   "cell_type": "code",
   "execution_count": 296,
   "metadata": {},
   "outputs": [
    {
     "data": {
      "image/png": "[encoded data removed]",
      "text/plain": [
       "<Figure size 432x288 with 1 Axes>"
      ]
     },
     "metadata": {},
     "output_type": "display_data"
    }
   ],
   "source": [
    "X_train_mvt1['N33'].plot.hist(bins = 20);"
   ]
  },
  {
   "cell_type": "code",
   "execution_count": 297,
   "metadata": {},
   "outputs": [
    {
     "data": {
      "text/plain": [
       "True"
      ]
     },
     "execution_count": 297,
     "metadata": {},
     "output_type": "execute_result"
    }
   ],
   "source": [
    "N33_median = X_train_mvt1['N33'].median(axis=0)\n",
    "\n",
    "X_train_mvt1['N33'].replace(np.nan, N33_median, inplace=True)\n",
    "\n",
    "X_train_mvt1['N33'].describe()['count'] == nrows"
   ]
  },
  {
   "cell_type": "code",
   "execution_count": 298,
   "metadata": {},
   "outputs": [
    {
     "name": "stdout",
     "output_type": "stream",
     "text": [
      "319.0\n"
     ]
    },
    {
     "data": {
      "image/png": "[encoded data removed]",
      "text/plain": [
       "<Figure size 432x288 with 1 Axes>"
      ]
     },
     "metadata": {},
     "output_type": "display_data"
    }
   ],
   "source": [
    "IQR = X_train_mvt1['N33'].quantile(0.75) - X_train_mvt1['N33'].quantile(0.25)\n",
    "\n",
    "upper_limit = X_train_mvt1['N33'].quantile(0.75) + 1.5*IQR\n",
    "\n",
    "print (upper_limit)\n",
    "\n",
    "X_train_mvt1.boxplot(column='N33');"
   ]
  },
  {
   "cell_type": "markdown",
   "metadata": {},
   "source": [
    "The outliers seem to affect the dist of the target.So we do not impute them"
   ]
  },
  {
   "cell_type": "markdown",
   "metadata": {},
   "source": [
    "#### Analysis of col N34"
   ]
  },
  {
   "cell_type": "code",
   "execution_count": 299,
   "metadata": {},
   "outputs": [
    {
     "name": "stdout",
     "output_type": "stream",
     "text": [
      "6293 float64\n"
     ]
    }
   ],
   "source": [
    "print(len(X_train_mvt1['N34'].unique()), X_train_mvt1['N34'].dtype)"
   ]
  },
  {
   "cell_type": "code",
   "execution_count": 300,
   "metadata": {},
   "outputs": [
    {
     "data": {
      "image/png": "[encoded data removed]",
      "text/plain": [
       "<Figure size 432x288 with 1 Axes>"
      ]
     },
     "metadata": {},
     "output_type": "display_data"
    }
   ],
   "source": [
    "X_train_mvt1['N34'].plot.hist(bins = 20);"
   ]
  },
  {
   "cell_type": "code",
   "execution_count": 301,
   "metadata": {},
   "outputs": [
    {
     "name": "stdout",
     "output_type": "stream",
     "text": [
      "607.24\n"
     ]
    },
    {
     "data": {
      "image/png": "[encoded data removed]",
      "text/plain": [
       "<Figure size 432x288 with 1 Axes>"
      ]
     },
     "metadata": {},
     "output_type": "display_data"
    }
   ],
   "source": [
    "IQR = X_train_mvt1['N34'].quantile(0.75) - X_train_mvt1['N34'].quantile(0.25)\n",
    "\n",
    "upper_limit = X_train_mvt1['N34'].quantile(0.75) + 1.5*IQR\n",
    "\n",
    "print (upper_limit)\n",
    "\n",
    "X_train_mvt1.boxplot(column='N34');"
   ]
  },
  {
   "cell_type": "markdown",
   "metadata": {},
   "source": [
    "The outliers seem to affect the dist of the target.So we do not impute them"
   ]
  },
  {
   "cell_type": "markdown",
   "metadata": {},
   "source": [
    "#### Analysis of col N35"
   ]
  },
  {
   "cell_type": "code",
   "execution_count": 302,
   "metadata": {
    "scrolled": false
   },
   "outputs": [
    {
     "name": "stdout",
     "output_type": "stream",
     "text": [
      "56 float64\n"
     ]
    }
   ],
   "source": [
    "print(len(X_train_mvt1['N35'].unique()), X_train_mvt1['N35'].dtype)"
   ]
  },
  {
   "cell_type": "code",
   "execution_count": 303,
   "metadata": {},
   "outputs": [
    {
     "data": {
      "image/png": "[encoded data removed]",
      "text/plain": [
       "<Figure size 432x288 with 1 Axes>"
      ]
     },
     "metadata": {},
     "output_type": "display_data"
    }
   ],
   "source": [
    "X_train_mvt1['N35'].plot.hist(bins = 20);"
   ]
  },
  {
   "cell_type": "code",
   "execution_count": 304,
   "metadata": {},
   "outputs": [
    {
     "data": {
      "text/plain": [
       "True"
      ]
     },
     "execution_count": 304,
     "metadata": {},
     "output_type": "execute_result"
    }
   ],
   "source": [
    "N35_median = X_train_mvt1['N35'].median(axis=0)\n",
    "\n",
    "X_train_mvt1['N35'].replace(np.nan, N35_median, inplace=True)\n",
    "\n",
    "X_train_mvt1['N35'].describe()['count'] == nrows"
   ]
  },
  {
   "cell_type": "code",
   "execution_count": 305,
   "metadata": {},
   "outputs": [
    {
     "name": "stdout",
     "output_type": "stream",
     "text": [
      "37.5\n"
     ]
    },
    {
     "data": {
      "image/png": "[encoded data removed]",
      "text/plain": [
       "<Figure size 432x288 with 1 Axes>"
      ]
     },
     "metadata": {},
     "output_type": "display_data"
    }
   ],
   "source": [
    "IQR = X_train_mvt1['N35'].quantile(0.75) - X_train_mvt1['N35'].quantile(0.25)\n",
    "\n",
    "upper_limit = X_train_mvt1['N35'].quantile(0.75) + 1.5*IQR\n",
    "\n",
    "print (upper_limit)\n",
    "\n",
    "X_train_mvt1.boxplot(column='N35');"
   ]
  },
  {
   "cell_type": "code",
   "execution_count": 306,
   "metadata": {
    "scrolled": true
   },
   "outputs": [
    {
     "data": {
      "image/png": "[encoded data removed]",
      "text/plain": [
       "<Figure size 432x288 with 1 Axes>"
      ]
     },
     "metadata": {},
     "output_type": "display_data"
    }
   ],
   "source": [
    "# replace extreme outliers with the median\n",
    "\n",
    "X_train_mvt1.loc[X_train_mvt1['N35']>upper_limit, 'N35'] = N35_median\n",
    "\n",
    "X_train_mvt1.boxplot(column='N35');"
   ]
  },
  {
   "cell_type": "markdown",
   "metadata": {},
   "source": [
    "At this stage we have analyzed each column separately\n",
    "\n",
    "1. No missing values present\n",
    "2. Outliers treated depending on whether they are important or not\n",
    "3. Possible categorical variables encoded"
   ]
  },
  {
   "cell_type": "code",
   "execution_count": 307,
   "metadata": {
    "scrolled": true
   },
   "outputs": [
    {
     "name": "stdout",
     "output_type": "stream",
     "text": [
      "True\n"
     ]
    }
   ],
   "source": [
    "# check to see that no missing values are present\n",
    "print (sum(make_missing_value_dict(X_train_mvt1).values())==0)"
   ]
  },
  {
   "cell_type": "code",
   "execution_count": 308,
   "metadata": {},
   "outputs": [
    {
     "data": {
      "text/html": [
       "<div>\n",
       "<style scoped>\n",
       "    .dataframe tbody tr th:only-of-type {\n",
       "        vertical-align: middle;\n",
       "    }\n",
       "\n",
       "    .dataframe tbody tr th {\n",
       "        vertical-align: top;\n",
       "    }\n",
       "\n",
       "    .dataframe thead th {\n",
       "        text-align: right;\n",
       "    }\n",
       "</style>\n",
       "<table border=\"1\" class=\"dataframe\">\n",
       "  <thead>\n",
       "    <tr style=\"text-align: right;\">\n",
       "      <th></th>\n",
       "      <th>N1</th>\n",
       "      <th>N2</th>\n",
       "      <th>N3</th>\n",
       "      <th>N4</th>\n",
       "      <th>N5</th>\n",
       "      <th>N7</th>\n",
       "      <th>N8</th>\n",
       "      <th>N9</th>\n",
       "      <th>N10</th>\n",
       "      <th>N10.1</th>\n",
       "      <th>...</th>\n",
       "      <th>N22_6.0</th>\n",
       "      <th>N22_7.0</th>\n",
       "      <th>N22_8.0</th>\n",
       "      <th>N22_9.0</th>\n",
       "      <th>N22_10.0</th>\n",
       "      <th>N22_11.0</th>\n",
       "      <th>N22_12.0</th>\n",
       "      <th>N22_13.0</th>\n",
       "      <th>N22_14.0</th>\n",
       "      <th>N22_17.0</th>\n",
       "    </tr>\n",
       "  </thead>\n",
       "  <tbody>\n",
       "    <tr>\n",
       "      <th>count</th>\n",
       "      <td>11017.000000</td>\n",
       "      <td>11017.000000</td>\n",
       "      <td>11017.000000</td>\n",
       "      <td>11017.000000</td>\n",
       "      <td>11017.000000</td>\n",
       "      <td>11017.000000</td>\n",
       "      <td>11017.000000</td>\n",
       "      <td>11017.000000</td>\n",
       "      <td>11017.000000</td>\n",
       "      <td>11017.000000</td>\n",
       "      <td>...</td>\n",
       "      <td>11017.000000</td>\n",
       "      <td>11017.000000</td>\n",
       "      <td>11017.000000</td>\n",
       "      <td>11017.000000</td>\n",
       "      <td>11017.000000</td>\n",
       "      <td>11017.000000</td>\n",
       "      <td>11017.000000</td>\n",
       "      <td>11017.000000</td>\n",
       "      <td>11017.000000</td>\n",
       "      <td>11017.000000</td>\n",
       "    </tr>\n",
       "    <tr>\n",
       "      <th>mean</th>\n",
       "      <td>20.092037</td>\n",
       "      <td>60.029228</td>\n",
       "      <td>3.360470</td>\n",
       "      <td>8.975129</td>\n",
       "      <td>7.692748</td>\n",
       "      <td>24.311700</td>\n",
       "      <td>6.066897</td>\n",
       "      <td>327.284560</td>\n",
       "      <td>0.882454</td>\n",
       "      <td>1.481801</td>\n",
       "      <td>...</td>\n",
       "      <td>0.003631</td>\n",
       "      <td>0.001725</td>\n",
       "      <td>0.000817</td>\n",
       "      <td>0.000454</td>\n",
       "      <td>0.000363</td>\n",
       "      <td>0.000363</td>\n",
       "      <td>0.000272</td>\n",
       "      <td>0.000091</td>\n",
       "      <td>0.000091</td>\n",
       "      <td>0.000091</td>\n",
       "    </tr>\n",
       "    <tr>\n",
       "      <th>std</th>\n",
       "      <td>8.149355</td>\n",
       "      <td>47.013605</td>\n",
       "      <td>0.402057</td>\n",
       "      <td>4.251545</td>\n",
       "      <td>3.579207</td>\n",
       "      <td>12.471739</td>\n",
       "      <td>4.532078</td>\n",
       "      <td>446.366043</td>\n",
       "      <td>2.466419</td>\n",
       "      <td>1.678515</td>\n",
       "      <td>...</td>\n",
       "      <td>0.060149</td>\n",
       "      <td>0.041494</td>\n",
       "      <td>0.028571</td>\n",
       "      <td>0.021300</td>\n",
       "      <td>0.019052</td>\n",
       "      <td>0.019052</td>\n",
       "      <td>0.016500</td>\n",
       "      <td>0.009527</td>\n",
       "      <td>0.009527</td>\n",
       "      <td>0.009527</td>\n",
       "    </tr>\n",
       "    <tr>\n",
       "      <th>min</th>\n",
       "      <td>0.000000</td>\n",
       "      <td>0.000000</td>\n",
       "      <td>0.000000</td>\n",
       "      <td>0.000000</td>\n",
       "      <td>0.000000</td>\n",
       "      <td>2.000000</td>\n",
       "      <td>0.000000</td>\n",
       "      <td>0.000000</td>\n",
       "      <td>0.000000</td>\n",
       "      <td>0.000000</td>\n",
       "      <td>...</td>\n",
       "      <td>0.000000</td>\n",
       "      <td>0.000000</td>\n",
       "      <td>0.000000</td>\n",
       "      <td>0.000000</td>\n",
       "      <td>0.000000</td>\n",
       "      <td>0.000000</td>\n",
       "      <td>0.000000</td>\n",
       "      <td>0.000000</td>\n",
       "      <td>0.000000</td>\n",
       "      <td>0.000000</td>\n",
       "    </tr>\n",
       "    <tr>\n",
       "      <th>25%</th>\n",
       "      <td>13.500000</td>\n",
       "      <td>25.000000</td>\n",
       "      <td>3.200000</td>\n",
       "      <td>6.000000</td>\n",
       "      <td>5.000000</td>\n",
       "      <td>15.000000</td>\n",
       "      <td>3.000000</td>\n",
       "      <td>60.000000</td>\n",
       "      <td>0.000000</td>\n",
       "      <td>0.000000</td>\n",
       "      <td>...</td>\n",
       "      <td>0.000000</td>\n",
       "      <td>0.000000</td>\n",
       "      <td>0.000000</td>\n",
       "      <td>0.000000</td>\n",
       "      <td>0.000000</td>\n",
       "      <td>0.000000</td>\n",
       "      <td>0.000000</td>\n",
       "      <td>0.000000</td>\n",
       "      <td>0.000000</td>\n",
       "      <td>0.000000</td>\n",
       "    </tr>\n",
       "    <tr>\n",
       "      <th>50%</th>\n",
       "      <td>19.500000</td>\n",
       "      <td>53.000000</td>\n",
       "      <td>3.400000</td>\n",
       "      <td>9.000000</td>\n",
       "      <td>8.000000</td>\n",
       "      <td>23.000000</td>\n",
       "      <td>5.000000</td>\n",
       "      <td>185.000000</td>\n",
       "      <td>0.000000</td>\n",
       "      <td>1.000000</td>\n",
       "      <td>...</td>\n",
       "      <td>0.000000</td>\n",
       "      <td>0.000000</td>\n",
       "      <td>0.000000</td>\n",
       "      <td>0.000000</td>\n",
       "      <td>0.000000</td>\n",
       "      <td>0.000000</td>\n",
       "      <td>0.000000</td>\n",
       "      <td>0.000000</td>\n",
       "      <td>0.000000</td>\n",
       "      <td>0.000000</td>\n",
       "    </tr>\n",
       "    <tr>\n",
       "      <th>75%</th>\n",
       "      <td>26.990000</td>\n",
       "      <td>78.000000</td>\n",
       "      <td>3.600000</td>\n",
       "      <td>11.000000</td>\n",
       "      <td>10.000000</td>\n",
       "      <td>32.000000</td>\n",
       "      <td>8.000000</td>\n",
       "      <td>418.000000</td>\n",
       "      <td>1.000000</td>\n",
       "      <td>2.000000</td>\n",
       "      <td>...</td>\n",
       "      <td>0.000000</td>\n",
       "      <td>0.000000</td>\n",
       "      <td>0.000000</td>\n",
       "      <td>0.000000</td>\n",
       "      <td>0.000000</td>\n",
       "      <td>0.000000</td>\n",
       "      <td>0.000000</td>\n",
       "      <td>0.000000</td>\n",
       "      <td>0.000000</td>\n",
       "      <td>0.000000</td>\n",
       "    </tr>\n",
       "    <tr>\n",
       "      <th>max</th>\n",
       "      <td>49.750000</td>\n",
       "      <td>212.000000</td>\n",
       "      <td>4.400000</td>\n",
       "      <td>21.000000</td>\n",
       "      <td>17.000000</td>\n",
       "      <td>60.000000</td>\n",
       "      <td>47.000000</td>\n",
       "      <td>8001.000000</td>\n",
       "      <td>45.000000</td>\n",
       "      <td>7.000000</td>\n",
       "      <td>...</td>\n",
       "      <td>1.000000</td>\n",
       "      <td>1.000000</td>\n",
       "      <td>1.000000</td>\n",
       "      <td>1.000000</td>\n",
       "      <td>1.000000</td>\n",
       "      <td>1.000000</td>\n",
       "      <td>1.000000</td>\n",
       "      <td>1.000000</td>\n",
       "      <td>1.000000</td>\n",
       "      <td>1.000000</td>\n",
       "    </tr>\n",
       "  </tbody>\n",
       "</table>\n",
       "<p>8 rows × 213 columns</p>\n",
       "</div>"
      ],
      "text/plain": [
       "                 N1            N2            N3            N4            N5  \\\n",
       "count  11017.000000  11017.000000  11017.000000  11017.000000  11017.000000   \n",
       "mean      20.092037     60.029228      3.360470      8.975129      7.692748   \n",
       "std        8.149355     47.013605      0.402057      4.251545      3.579207   \n",
       "min        0.000000      0.000000      0.000000      0.000000      0.000000   \n",
       "25%       13.500000     25.000000      3.200000      6.000000      5.000000   \n",
       "50%       19.500000     53.000000      3.400000      9.000000      8.000000   \n",
       "75%       26.990000     78.000000      3.600000     11.000000     10.000000   \n",
       "max       49.750000    212.000000      4.400000     21.000000     17.000000   \n",
       "\n",
       "                 N7            N8            N9           N10         N10.1  \\\n",
       "count  11017.000000  11017.000000  11017.000000  11017.000000  11017.000000   \n",
       "mean      24.311700      6.066897    327.284560      0.882454      1.481801   \n",
       "std       12.471739      4.532078    446.366043      2.466419      1.678515   \n",
       "min        2.000000      0.000000      0.000000      0.000000      0.000000   \n",
       "25%       15.000000      3.000000     60.000000      0.000000      0.000000   \n",
       "50%       23.000000      5.000000    185.000000      0.000000      1.000000   \n",
       "75%       32.000000      8.000000    418.000000      1.000000      2.000000   \n",
       "max       60.000000     47.000000   8001.000000     45.000000      7.000000   \n",
       "\n",
       "           ...            N22_6.0       N22_7.0       N22_8.0       N22_9.0  \\\n",
       "count      ...       11017.000000  11017.000000  11017.000000  11017.000000   \n",
       "mean       ...           0.003631      0.001725      0.000817      0.000454   \n",
       "std        ...           0.060149      0.041494      0.028571      0.021300   \n",
       "min        ...           0.000000      0.000000      0.000000      0.000000   \n",
       "25%        ...           0.000000      0.000000      0.000000      0.000000   \n",
       "50%        ...           0.000000      0.000000      0.000000      0.000000   \n",
       "75%        ...           0.000000      0.000000      0.000000      0.000000   \n",
       "max        ...           1.000000      1.000000      1.000000      1.000000   \n",
       "\n",
       "           N22_10.0      N22_11.0      N22_12.0      N22_13.0      N22_14.0  \\\n",
       "count  11017.000000  11017.000000  11017.000000  11017.000000  11017.000000   \n",
       "mean       0.000363      0.000363      0.000272      0.000091      0.000091   \n",
       "std        0.019052      0.019052      0.016500      0.009527      0.009527   \n",
       "min        0.000000      0.000000      0.000000      0.000000      0.000000   \n",
       "25%        0.000000      0.000000      0.000000      0.000000      0.000000   \n",
       "50%        0.000000      0.000000      0.000000      0.000000      0.000000   \n",
       "75%        0.000000      0.000000      0.000000      0.000000      0.000000   \n",
       "max        1.000000      1.000000      1.000000      1.000000      1.000000   \n",
       "\n",
       "           N22_17.0  \n",
       "count  11017.000000  \n",
       "mean       0.000091  \n",
       "std        0.009527  \n",
       "min        0.000000  \n",
       "25%        0.000000  \n",
       "50%        0.000000  \n",
       "75%        0.000000  \n",
       "max        1.000000  \n",
       "\n",
       "[8 rows x 213 columns]"
      ]
     },
     "execution_count": 308,
     "metadata": {},
     "output_type": "execute_result"
    }
   ],
   "source": [
    "X_train_mvt1.describe()"
   ]
  },
  {
   "cell_type": "code",
   "execution_count": 309,
   "metadata": {},
   "outputs": [],
   "source": [
    "X_train_mvt1.drop(columns=['Unique_ID'], inplace=True)"
   ]
  },
  {
   "cell_type": "markdown",
   "metadata": {},
   "source": [
    "### One Hot Encoding of categorical columns: C6 and C8"
   ]
  },
  {
   "cell_type": "code",
   "execution_count": 310,
   "metadata": {},
   "outputs": [],
   "source": [
    "X_train_mvt1['C6'] = X_train_mvt1['C6'].astype('object')\n",
    "\n",
    "X_train_mvt1['C8'] = X_train_mvt1['C8'].astype('object')"
   ]
  },
  {
   "cell_type": "code",
   "execution_count": 311,
   "metadata": {
    "scrolled": true
   },
   "outputs": [
    {
     "data": {
      "text/html": [
       "<div>\n",
       "<style scoped>\n",
       "    .dataframe tbody tr th:only-of-type {\n",
       "        vertical-align: middle;\n",
       "    }\n",
       "\n",
       "    .dataframe tbody tr th {\n",
       "        vertical-align: top;\n",
       "    }\n",
       "\n",
       "    .dataframe thead th {\n",
       "        text-align: right;\n",
       "    }\n",
       "</style>\n",
       "<table border=\"1\" class=\"dataframe\">\n",
       "  <thead>\n",
       "    <tr style=\"text-align: right;\">\n",
       "      <th></th>\n",
       "      <th>C6</th>\n",
       "      <th>C8</th>\n",
       "      <th>N1</th>\n",
       "      <th>N2</th>\n",
       "      <th>N3</th>\n",
       "      <th>N4</th>\n",
       "      <th>N5</th>\n",
       "      <th>N7</th>\n",
       "      <th>N8</th>\n",
       "      <th>N9</th>\n",
       "      <th>...</th>\n",
       "      <th>N22_6.0</th>\n",
       "      <th>N22_7.0</th>\n",
       "      <th>N22_8.0</th>\n",
       "      <th>N22_9.0</th>\n",
       "      <th>N22_10.0</th>\n",
       "      <th>N22_11.0</th>\n",
       "      <th>N22_12.0</th>\n",
       "      <th>N22_13.0</th>\n",
       "      <th>N22_14.0</th>\n",
       "      <th>N22_17.0</th>\n",
       "    </tr>\n",
       "  </thead>\n",
       "  <tbody>\n",
       "    <tr>\n",
       "      <th>0</th>\n",
       "      <td>True</td>\n",
       "      <td>True</td>\n",
       "      <td>18.00</td>\n",
       "      <td>53.0</td>\n",
       "      <td>3.2</td>\n",
       "      <td>9.0</td>\n",
       "      <td>8.0</td>\n",
       "      <td>27.0</td>\n",
       "      <td>2</td>\n",
       "      <td>0</td>\n",
       "      <td>...</td>\n",
       "      <td>0</td>\n",
       "      <td>0</td>\n",
       "      <td>0</td>\n",
       "      <td>0</td>\n",
       "      <td>0</td>\n",
       "      <td>0</td>\n",
       "      <td>0</td>\n",
       "      <td>0</td>\n",
       "      <td>0</td>\n",
       "      <td>0</td>\n",
       "    </tr>\n",
       "    <tr>\n",
       "      <th>1</th>\n",
       "      <td>True</td>\n",
       "      <td>True</td>\n",
       "      <td>16.75</td>\n",
       "      <td>107.0</td>\n",
       "      <td>3.7</td>\n",
       "      <td>7.0</td>\n",
       "      <td>4.0</td>\n",
       "      <td>19.0</td>\n",
       "      <td>4</td>\n",
       "      <td>522</td>\n",
       "      <td>...</td>\n",
       "      <td>0</td>\n",
       "      <td>0</td>\n",
       "      <td>0</td>\n",
       "      <td>0</td>\n",
       "      <td>0</td>\n",
       "      <td>0</td>\n",
       "      <td>0</td>\n",
       "      <td>0</td>\n",
       "      <td>0</td>\n",
       "      <td>0</td>\n",
       "    </tr>\n",
       "    <tr>\n",
       "      <th>2</th>\n",
       "      <td>False</td>\n",
       "      <td>True</td>\n",
       "      <td>29.99</td>\n",
       "      <td>45.0</td>\n",
       "      <td>3.2</td>\n",
       "      <td>5.0</td>\n",
       "      <td>4.0</td>\n",
       "      <td>49.0</td>\n",
       "      <td>3</td>\n",
       "      <td>79</td>\n",
       "      <td>...</td>\n",
       "      <td>0</td>\n",
       "      <td>0</td>\n",
       "      <td>0</td>\n",
       "      <td>0</td>\n",
       "      <td>0</td>\n",
       "      <td>0</td>\n",
       "      <td>0</td>\n",
       "      <td>0</td>\n",
       "      <td>0</td>\n",
       "      <td>0</td>\n",
       "    </tr>\n",
       "    <tr>\n",
       "      <th>3</th>\n",
       "      <td>False</td>\n",
       "      <td>True</td>\n",
       "      <td>17.70</td>\n",
       "      <td>20.0</td>\n",
       "      <td>3.3</td>\n",
       "      <td>7.0</td>\n",
       "      <td>6.0</td>\n",
       "      <td>10.0</td>\n",
       "      <td>5</td>\n",
       "      <td>299</td>\n",
       "      <td>...</td>\n",
       "      <td>0</td>\n",
       "      <td>0</td>\n",
       "      <td>0</td>\n",
       "      <td>0</td>\n",
       "      <td>0</td>\n",
       "      <td>0</td>\n",
       "      <td>0</td>\n",
       "      <td>0</td>\n",
       "      <td>0</td>\n",
       "      <td>0</td>\n",
       "    </tr>\n",
       "    <tr>\n",
       "      <th>4</th>\n",
       "      <td>False</td>\n",
       "      <td>False</td>\n",
       "      <td>28.00</td>\n",
       "      <td>2.0</td>\n",
       "      <td>3.0</td>\n",
       "      <td>20.0</td>\n",
       "      <td>8.0</td>\n",
       "      <td>34.0</td>\n",
       "      <td>12</td>\n",
       "      <td>396</td>\n",
       "      <td>...</td>\n",
       "      <td>0</td>\n",
       "      <td>0</td>\n",
       "      <td>0</td>\n",
       "      <td>0</td>\n",
       "      <td>0</td>\n",
       "      <td>0</td>\n",
       "      <td>0</td>\n",
       "      <td>0</td>\n",
       "      <td>0</td>\n",
       "      <td>0</td>\n",
       "    </tr>\n",
       "  </tbody>\n",
       "</table>\n",
       "<p>5 rows × 223 columns</p>\n",
       "</div>"
      ],
      "text/plain": [
       "      C6     C8     N1     N2   N3    N4   N5    N7  N8   N9    ...     \\\n",
       "0   True   True  18.00   53.0  3.2   9.0  8.0  27.0   2    0    ...      \n",
       "1   True   True  16.75  107.0  3.7   7.0  4.0  19.0   4  522    ...      \n",
       "2  False   True  29.99   45.0  3.2   5.0  4.0  49.0   3   79    ...      \n",
       "3  False   True  17.70   20.0  3.3   7.0  6.0  10.0   5  299    ...      \n",
       "4  False  False  28.00    2.0  3.0  20.0  8.0  34.0  12  396    ...      \n",
       "\n",
       "   N22_6.0  N22_7.0  N22_8.0  N22_9.0  N22_10.0  N22_11.0  N22_12.0  N22_13.0  \\\n",
       "0        0        0        0        0         0         0         0         0   \n",
       "1        0        0        0        0         0         0         0         0   \n",
       "2        0        0        0        0         0         0         0         0   \n",
       "3        0        0        0        0         0         0         0         0   \n",
       "4        0        0        0        0         0         0         0         0   \n",
       "\n",
       "   N22_14.0  N22_17.0  \n",
       "0         0         0  \n",
       "1         0         0  \n",
       "2         0         0  \n",
       "3         0         0  \n",
       "4         0         0  \n",
       "\n",
       "[5 rows x 223 columns]"
      ]
     },
     "execution_count": 311,
     "metadata": {},
     "output_type": "execute_result"
    }
   ],
   "source": [
    "X_train_mvt1.head()"
   ]
  },
  {
   "cell_type": "code",
   "execution_count": 312,
   "metadata": {
    "scrolled": true
   },
   "outputs": [
    {
     "name": "stdout",
     "output_type": "stream",
     "text": [
      "Index(['N1', 'N2', 'N3', 'N4', 'N5', 'N7', 'N8', 'N9', 'N10', 'N10.1',\n",
      "       ...\n",
      "       'N22_10.0', 'N22_11.0', 'N22_12.0', 'N22_13.0', 'N22_14.0', 'N22_17.0',\n",
      "       'C6_False', 'C6_True', 'C8_False', 'C8_True'],\n",
      "      dtype='object', length=225)\n"
     ]
    }
   ],
   "source": [
    "X_train_mvt1_enc = pd.get_dummies(data=X_train_mvt1, columns=['C6'])\n",
    "\n",
    "X_train_mvt1_enc = pd.get_dummies(data=X_train_mvt1_enc, columns=['C8'])\n",
    "\n",
    "\n",
    "print (X_train_mvt1_enc.columns)"
   ]
  },
  {
   "cell_type": "markdown",
   "metadata": {},
   "source": [
    "### Standardization and Min-max scaling\n",
    "\n",
    "We try Standardization (which makes mean=0 and std=1) and MinMax Scaling (which changes the range of each col to [0,1])\n",
    "\n",
    "Both approaches achieve similar performance improvements \n"
   ]
  },
  {
   "cell_type": "code",
   "execution_count": 313,
   "metadata": {},
   "outputs": [
    {
     "name": "stderr",
     "output_type": "stream",
     "text": [
      "/home/shaunak/anaconda3/lib/python3.6/site-packages/sklearn/utils/validation.py:595: DataConversionWarning: Data with input dtype object was converted to float64 by MinMaxScaler.\n",
      "  warnings.warn(msg, DataConversionWarning)\n"
     ]
    },
    {
     "data": {
      "text/plain": [
       "0      1.0\n",
       "1      1.0\n",
       "2      1.0\n",
       "3      1.0\n",
       "4      1.0\n",
       "5      1.0\n",
       "6      1.0\n",
       "7      1.0\n",
       "8      1.0\n",
       "9      1.0\n",
       "10     1.0\n",
       "11     1.0\n",
       "12     1.0\n",
       "13     1.0\n",
       "14     1.0\n",
       "15     1.0\n",
       "16     1.0\n",
       "17     1.0\n",
       "18     1.0\n",
       "19     1.0\n",
       "20     1.0\n",
       "21     1.0\n",
       "22     1.0\n",
       "23     1.0\n",
       "24     1.0\n",
       "25     1.0\n",
       "26     1.0\n",
       "27     1.0\n",
       "28     1.0\n",
       "29     1.0\n",
       "      ... \n",
       "195    1.0\n",
       "196    1.0\n",
       "197    1.0\n",
       "198    1.0\n",
       "199    1.0\n",
       "200    1.0\n",
       "201    1.0\n",
       "202    1.0\n",
       "203    1.0\n",
       "204    1.0\n",
       "205    1.0\n",
       "206    1.0\n",
       "207    1.0\n",
       "208    1.0\n",
       "209    1.0\n",
       "210    1.0\n",
       "211    1.0\n",
       "212    1.0\n",
       "213    1.0\n",
       "214    1.0\n",
       "215    1.0\n",
       "216    1.0\n",
       "217    1.0\n",
       "218    1.0\n",
       "219    1.0\n",
       "220    1.0\n",
       "221    1.0\n",
       "222    1.0\n",
       "223    1.0\n",
       "224    1.0\n",
       "Length: 225, dtype: float64"
      ]
     },
     "execution_count": 313,
     "metadata": {},
     "output_type": "execute_result"
    }
   ],
   "source": [
    "from sklearn import preprocessing\n",
    "\n",
    "standardScaler = False\n",
    "minMaxScaler = True\n",
    "\n",
    "if standardScaler:\n",
    "    scaler = preprocessing.StandardScaler()\n",
    "else:\n",
    "    scaler = preprocessing.MinMaxScaler()\n",
    "\n",
    "\n",
    "X_train_mvt1_enc_values = X_train_mvt1_enc.values\n",
    "\n",
    "X_train_mvt1_enc_values_scaled = scaler.fit_transform(X_train_mvt1_enc_values)\n",
    "\n",
    "X_train_mvt1_enc_values_scaled = pd.DataFrame(data=X_train_mvt1_enc_values_scaled)\n",
    "\n",
    "X_train_mvt1_enc_values_scaled.max()\n"
   ]
  },
  {
   "cell_type": "code",
   "execution_count": 314,
   "metadata": {},
   "outputs": [],
   "source": [
    "# set the columns\n",
    "\n",
    "X_train_mvt1_enc_values_scaled.columns = X_train_mvt1_enc.columns"
   ]
  },
  {
   "cell_type": "code",
   "execution_count": 315,
   "metadata": {
    "scrolled": true
   },
   "outputs": [
    {
     "data": {
      "text/html": [
       "<div>\n",
       "<style scoped>\n",
       "    .dataframe tbody tr th:only-of-type {\n",
       "        vertical-align: middle;\n",
       "    }\n",
       "\n",
       "    .dataframe tbody tr th {\n",
       "        vertical-align: top;\n",
       "    }\n",
       "\n",
       "    .dataframe thead th {\n",
       "        text-align: right;\n",
       "    }\n",
       "</style>\n",
       "<table border=\"1\" class=\"dataframe\">\n",
       "  <thead>\n",
       "    <tr style=\"text-align: right;\">\n",
       "      <th></th>\n",
       "      <th>N1</th>\n",
       "      <th>N2</th>\n",
       "      <th>N3</th>\n",
       "      <th>N4</th>\n",
       "      <th>N5</th>\n",
       "      <th>N7</th>\n",
       "      <th>N8</th>\n",
       "      <th>N9</th>\n",
       "      <th>N10</th>\n",
       "      <th>N10.1</th>\n",
       "      <th>...</th>\n",
       "      <th>N22_10.0</th>\n",
       "      <th>N22_11.0</th>\n",
       "      <th>N22_12.0</th>\n",
       "      <th>N22_13.0</th>\n",
       "      <th>N22_14.0</th>\n",
       "      <th>N22_17.0</th>\n",
       "      <th>C6_False</th>\n",
       "      <th>C6_True</th>\n",
       "      <th>C8_False</th>\n",
       "      <th>C8_True</th>\n",
       "    </tr>\n",
       "  </thead>\n",
       "  <tbody>\n",
       "    <tr>\n",
       "      <th>0</th>\n",
       "      <td>0.361809</td>\n",
       "      <td>0.250000</td>\n",
       "      <td>0.727273</td>\n",
       "      <td>0.428571</td>\n",
       "      <td>0.470588</td>\n",
       "      <td>0.431034</td>\n",
       "      <td>0.042553</td>\n",
       "      <td>0.000000</td>\n",
       "      <td>0.066667</td>\n",
       "      <td>0.428571</td>\n",
       "      <td>...</td>\n",
       "      <td>0.0</td>\n",
       "      <td>0.0</td>\n",
       "      <td>0.0</td>\n",
       "      <td>0.0</td>\n",
       "      <td>0.0</td>\n",
       "      <td>0.0</td>\n",
       "      <td>0.0</td>\n",
       "      <td>1.0</td>\n",
       "      <td>0.0</td>\n",
       "      <td>1.0</td>\n",
       "    </tr>\n",
       "    <tr>\n",
       "      <th>1</th>\n",
       "      <td>0.336683</td>\n",
       "      <td>0.504717</td>\n",
       "      <td>0.840909</td>\n",
       "      <td>0.333333</td>\n",
       "      <td>0.235294</td>\n",
       "      <td>0.293103</td>\n",
       "      <td>0.085106</td>\n",
       "      <td>0.065242</td>\n",
       "      <td>0.000000</td>\n",
       "      <td>0.142857</td>\n",
       "      <td>...</td>\n",
       "      <td>0.0</td>\n",
       "      <td>0.0</td>\n",
       "      <td>0.0</td>\n",
       "      <td>0.0</td>\n",
       "      <td>0.0</td>\n",
       "      <td>0.0</td>\n",
       "      <td>0.0</td>\n",
       "      <td>1.0</td>\n",
       "      <td>0.0</td>\n",
       "      <td>1.0</td>\n",
       "    </tr>\n",
       "    <tr>\n",
       "      <th>2</th>\n",
       "      <td>0.602814</td>\n",
       "      <td>0.212264</td>\n",
       "      <td>0.727273</td>\n",
       "      <td>0.238095</td>\n",
       "      <td>0.235294</td>\n",
       "      <td>0.810345</td>\n",
       "      <td>0.063830</td>\n",
       "      <td>0.009874</td>\n",
       "      <td>0.000000</td>\n",
       "      <td>0.714286</td>\n",
       "      <td>...</td>\n",
       "      <td>0.0</td>\n",
       "      <td>0.0</td>\n",
       "      <td>0.0</td>\n",
       "      <td>0.0</td>\n",
       "      <td>0.0</td>\n",
       "      <td>0.0</td>\n",
       "      <td>1.0</td>\n",
       "      <td>0.0</td>\n",
       "      <td>0.0</td>\n",
       "      <td>1.0</td>\n",
       "    </tr>\n",
       "    <tr>\n",
       "      <th>3</th>\n",
       "      <td>0.355779</td>\n",
       "      <td>0.094340</td>\n",
       "      <td>0.750000</td>\n",
       "      <td>0.333333</td>\n",
       "      <td>0.352941</td>\n",
       "      <td>0.137931</td>\n",
       "      <td>0.106383</td>\n",
       "      <td>0.037370</td>\n",
       "      <td>0.022222</td>\n",
       "      <td>0.142857</td>\n",
       "      <td>...</td>\n",
       "      <td>0.0</td>\n",
       "      <td>0.0</td>\n",
       "      <td>0.0</td>\n",
       "      <td>0.0</td>\n",
       "      <td>0.0</td>\n",
       "      <td>0.0</td>\n",
       "      <td>1.0</td>\n",
       "      <td>0.0</td>\n",
       "      <td>0.0</td>\n",
       "      <td>1.0</td>\n",
       "    </tr>\n",
       "    <tr>\n",
       "      <th>4</th>\n",
       "      <td>0.562814</td>\n",
       "      <td>0.009434</td>\n",
       "      <td>0.681818</td>\n",
       "      <td>0.952381</td>\n",
       "      <td>0.470588</td>\n",
       "      <td>0.551724</td>\n",
       "      <td>0.255319</td>\n",
       "      <td>0.049494</td>\n",
       "      <td>0.000000</td>\n",
       "      <td>0.000000</td>\n",
       "      <td>...</td>\n",
       "      <td>0.0</td>\n",
       "      <td>0.0</td>\n",
       "      <td>0.0</td>\n",
       "      <td>0.0</td>\n",
       "      <td>0.0</td>\n",
       "      <td>0.0</td>\n",
       "      <td>1.0</td>\n",
       "      <td>0.0</td>\n",
       "      <td>1.0</td>\n",
       "      <td>0.0</td>\n",
       "    </tr>\n",
       "  </tbody>\n",
       "</table>\n",
       "<p>5 rows × 225 columns</p>\n",
       "</div>"
      ],
      "text/plain": [
       "         N1        N2        N3        N4        N5        N7        N8  \\\n",
       "0  0.361809  0.250000  0.727273  0.428571  0.470588  0.431034  0.042553   \n",
       "1  0.336683  0.504717  0.840909  0.333333  0.235294  0.293103  0.085106   \n",
       "2  0.602814  0.212264  0.727273  0.238095  0.235294  0.810345  0.063830   \n",
       "3  0.355779  0.094340  0.750000  0.333333  0.352941  0.137931  0.106383   \n",
       "4  0.562814  0.009434  0.681818  0.952381  0.470588  0.551724  0.255319   \n",
       "\n",
       "         N9       N10     N10.1   ...     N22_10.0  N22_11.0  N22_12.0  \\\n",
       "0  0.000000  0.066667  0.428571   ...          0.0       0.0       0.0   \n",
       "1  0.065242  0.000000  0.142857   ...          0.0       0.0       0.0   \n",
       "2  0.009874  0.000000  0.714286   ...          0.0       0.0       0.0   \n",
       "3  0.037370  0.022222  0.142857   ...          0.0       0.0       0.0   \n",
       "4  0.049494  0.000000  0.000000   ...          0.0       0.0       0.0   \n",
       "\n",
       "   N22_13.0  N22_14.0  N22_17.0  C6_False  C6_True  C8_False  C8_True  \n",
       "0       0.0       0.0       0.0       0.0      1.0       0.0      1.0  \n",
       "1       0.0       0.0       0.0       0.0      1.0       0.0      1.0  \n",
       "2       0.0       0.0       0.0       1.0      0.0       0.0      1.0  \n",
       "3       0.0       0.0       0.0       1.0      0.0       0.0      1.0  \n",
       "4       0.0       0.0       0.0       1.0      0.0       1.0      0.0  \n",
       "\n",
       "[5 rows x 225 columns]"
      ]
     },
     "execution_count": 315,
     "metadata": {},
     "output_type": "execute_result"
    }
   ],
   "source": [
    "X_train_mvt1_enc_values_scaled.head()"
   ]
  },
  {
   "cell_type": "code",
   "execution_count": 316,
   "metadata": {},
   "outputs": [],
   "source": [
    "X_train_mvt1_enc_values_scaled.to_csv(path_or_buf='./Test/X_test_clean.csv')"
   ]
  }
 ],
 "metadata": {
  "kernelspec": {
   "display_name": "Python 3",
   "language": "python",
   "name": "python3"
  },
  "language_info": {
   "codemirror_mode": {
    "name": "ipython",
    "version": 3
   },
   "file_extension": ".py",
   "mimetype": "text/x-python",
   "name": "python",
   "nbconvert_exporter": "python",
   "pygments_lexer": "ipython3",
   "version": "3.6.8"
  }
 },
 "nbformat": 4,
 "nbformat_minor": 2
}
