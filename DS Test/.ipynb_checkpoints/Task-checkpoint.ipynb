{
 "cells": [
  {
   "cell_type": "markdown",
   "metadata": {},
   "source": [
    "### Imprt libraries and read the data"
   ]
  },
  {
   "cell_type": "code",
   "execution_count": 168,
   "metadata": {},
   "outputs": [],
   "source": [
    "import pandas as pd\n",
    "import numpy as np\n",
    "%matplotlib inline\n",
    "import matplotlib.pyplot as plt\n",
    "from matplotlib import pyplot\n",
    "import seaborn as sns\n",
    "from scipy import stats\n",
    "\n",
    "from sklearn.neighbors import KNeighborsClassifier\n",
    "from sklearn.model_selection import train_test_split\n",
    "from sklearn.linear_model import LogisticRegression\n",
    "from sklearn.tree import DecisionTreeClassifier\n",
    "from sklearn.ensemble import RandomForestClassifier\n",
    "from sklearn.metrics import accuracy_score\n",
    "from sklearn import svm\n",
    "\n",
    "\n",
    "from sklearn.model_selection import cross_val_score, GridSearchCV, KFold, RandomizedSearchCV\n"
   ]
  },
  {
   "cell_type": "code",
   "execution_count": 154,
   "metadata": {},
   "outputs": [
    {
     "data": {
      "text/plain": [
       "0         Candidate_5926\n",
       "1        Candidate_48134\n",
       "2        Candidate_51717\n",
       "3        Candidate_26401\n",
       "4        Candidate_34872\n",
       "5        Candidate_29660\n",
       "6        Candidate_29517\n",
       "7        Candidate_34848\n",
       "8        Candidate_12081\n",
       "9        Candidate_34016\n",
       "10       Candidate_52651\n",
       "11        Candidate_8149\n",
       "12       Candidate_22621\n",
       "13       Candidate_36516\n",
       "14       Candidate_20236\n",
       "15       Candidate_13802\n",
       "16        Candidate_8636\n",
       "17       Candidate_16860\n",
       "18       Candidate_41063\n",
       "19       Candidate_19514\n",
       "20       Candidate_43485\n",
       "21       Candidate_26371\n",
       "22       Candidate_25273\n",
       "23       Candidate_33032\n",
       "24       Candidate_20466\n",
       "25       Candidate_17510\n",
       "26       Candidate_13946\n",
       "27       Candidate_49325\n",
       "28       Candidate_23622\n",
       "29        Candidate_5138\n",
       "              ...       \n",
       "33020    Candidate_33321\n",
       "33021    Candidate_54659\n",
       "33022    Candidate_41194\n",
       "33023     Candidate_4021\n",
       "33024    Candidate_31566\n",
       "33025    Candidate_48994\n",
       "33026    Candidate_22836\n",
       "33027     Candidate_9747\n",
       "33028    Candidate_24107\n",
       "33029    Candidate_46253\n",
       "33030    Candidate_28995\n",
       "33031    Candidate_33534\n",
       "33032     Candidate_3567\n",
       "33033    Candidate_33592\n",
       "33034    Candidate_32175\n",
       "33035    Candidate_19916\n",
       "33036    Candidate_41394\n",
       "33037    Candidate_27499\n",
       "33038    Candidate_10982\n",
       "33039    Candidate_11601\n",
       "33040    Candidate_29381\n",
       "33041    Candidate_16318\n",
       "33042    Candidate_54975\n",
       "33043    Candidate_54666\n",
       "33044    Candidate_18018\n",
       "33045    Candidate_26099\n",
       "33046    Candidate_33316\n",
       "33047    Candidate_36027\n",
       "33048     Candidate_3169\n",
       "33049     Candidate_4714\n",
       "Name: Unique_ID, Length: 33050, dtype: object"
      ]
     },
     "execution_count": 154,
     "metadata": {},
     "output_type": "execute_result"
    }
   ],
   "source": [
    "y_train1['Unique_ID']"
   ]
  },
  {
   "cell_type": "code",
   "execution_count": 2,
   "metadata": {},
   "outputs": [
    {
     "data": {
      "text/html": [
       "<div>\n",
       "<style scoped>\n",
       "    .dataframe tbody tr th:only-of-type {\n",
       "        vertical-align: middle;\n",
       "    }\n",
       "\n",
       "    .dataframe tbody tr th {\n",
       "        vertical-align: top;\n",
       "    }\n",
       "\n",
       "    .dataframe thead th {\n",
       "        text-align: right;\n",
       "    }\n",
       "</style>\n",
       "<table border=\"1\" class=\"dataframe\">\n",
       "  <thead>\n",
       "    <tr style=\"text-align: right;\">\n",
       "      <th></th>\n",
       "      <th>Unique_ID</th>\n",
       "      <th>C1</th>\n",
       "      <th>C2</th>\n",
       "      <th>C3</th>\n",
       "      <th>C4</th>\n",
       "      <th>C5</th>\n",
       "      <th>C6</th>\n",
       "      <th>C7</th>\n",
       "      <th>C8</th>\n",
       "      <th>N1</th>\n",
       "      <th>...</th>\n",
       "      <th>N26</th>\n",
       "      <th>N27</th>\n",
       "      <th>N28</th>\n",
       "      <th>N29</th>\n",
       "      <th>N30</th>\n",
       "      <th>N31</th>\n",
       "      <th>N32</th>\n",
       "      <th>N33</th>\n",
       "      <th>N34</th>\n",
       "      <th>N35</th>\n",
       "    </tr>\n",
       "  </thead>\n",
       "  <tbody>\n",
       "    <tr>\n",
       "      <th>0</th>\n",
       "      <td>Candidate_5926</td>\n",
       "      <td>1</td>\n",
       "      <td>0</td>\n",
       "      <td>11</td>\n",
       "      <td>31</td>\n",
       "      <td>0</td>\n",
       "      <td>False</td>\n",
       "      <td>0</td>\n",
       "      <td>True</td>\n",
       "      <td>23.75</td>\n",
       "      <td>...</td>\n",
       "      <td>NaN</td>\n",
       "      <td>NaN</td>\n",
       "      <td>NaN</td>\n",
       "      <td>NaN</td>\n",
       "      <td>NaN</td>\n",
       "      <td>NaN</td>\n",
       "      <td>NaN</td>\n",
       "      <td>58.0</td>\n",
       "      <td>113.39</td>\n",
       "      <td>12.0</td>\n",
       "    </tr>\n",
       "    <tr>\n",
       "      <th>1</th>\n",
       "      <td>Candidate_48134</td>\n",
       "      <td>1</td>\n",
       "      <td>4</td>\n",
       "      <td>2</td>\n",
       "      <td>66</td>\n",
       "      <td>2</td>\n",
       "      <td>False</td>\n",
       "      <td>1</td>\n",
       "      <td>True</td>\n",
       "      <td>11.05</td>\n",
       "      <td>...</td>\n",
       "      <td>NaN</td>\n",
       "      <td>NaN</td>\n",
       "      <td>NaN</td>\n",
       "      <td>NaN</td>\n",
       "      <td>NaN</td>\n",
       "      <td>NaN</td>\n",
       "      <td>NaN</td>\n",
       "      <td>160.0</td>\n",
       "      <td>262.10</td>\n",
       "      <td>17.0</td>\n",
       "    </tr>\n",
       "    <tr>\n",
       "      <th>2</th>\n",
       "      <td>Candidate_51717</td>\n",
       "      <td>1</td>\n",
       "      <td>0</td>\n",
       "      <td>19</td>\n",
       "      <td>2</td>\n",
       "      <td>0</td>\n",
       "      <td>False</td>\n",
       "      <td>0</td>\n",
       "      <td>True</td>\n",
       "      <td>29.00</td>\n",
       "      <td>...</td>\n",
       "      <td>NaN</td>\n",
       "      <td>NaN</td>\n",
       "      <td>NaN</td>\n",
       "      <td>NaN</td>\n",
       "      <td>NaN</td>\n",
       "      <td>NaN</td>\n",
       "      <td>NaN</td>\n",
       "      <td>24.0</td>\n",
       "      <td>50.29</td>\n",
       "      <td>18.0</td>\n",
       "    </tr>\n",
       "    <tr>\n",
       "      <th>3</th>\n",
       "      <td>Candidate_26401</td>\n",
       "      <td>1</td>\n",
       "      <td>1</td>\n",
       "      <td>16</td>\n",
       "      <td>47</td>\n",
       "      <td>1</td>\n",
       "      <td>False</td>\n",
       "      <td>4</td>\n",
       "      <td>True</td>\n",
       "      <td>17.99</td>\n",
       "      <td>...</td>\n",
       "      <td>NaN</td>\n",
       "      <td>NaN</td>\n",
       "      <td>NaN</td>\n",
       "      <td>NaN</td>\n",
       "      <td>NaN</td>\n",
       "      <td>NaN</td>\n",
       "      <td>NaN</td>\n",
       "      <td>70.0</td>\n",
       "      <td>126.52</td>\n",
       "      <td>27.0</td>\n",
       "    </tr>\n",
       "    <tr>\n",
       "      <th>4</th>\n",
       "      <td>Candidate_34872</td>\n",
       "      <td>1</td>\n",
       "      <td>1</td>\n",
       "      <td>13</td>\n",
       "      <td>1</td>\n",
       "      <td>1</td>\n",
       "      <td>True</td>\n",
       "      <td>6</td>\n",
       "      <td>True</td>\n",
       "      <td>27.50</td>\n",
       "      <td>...</td>\n",
       "      <td>NaN</td>\n",
       "      <td>NaN</td>\n",
       "      <td>NaN</td>\n",
       "      <td>NaN</td>\n",
       "      <td>NaN</td>\n",
       "      <td>NaN</td>\n",
       "      <td>NaN</td>\n",
       "      <td>100.0</td>\n",
       "      <td>205.47</td>\n",
       "      <td>21.0</td>\n",
       "    </tr>\n",
       "  </tbody>\n",
       "</table>\n",
       "<p>5 rows × 44 columns</p>\n",
       "</div>"
      ],
      "text/plain": [
       "         Unique_ID  C1  C2  C3  C4  C5     C6  C7    C8     N1  ...   N26  \\\n",
       "0   Candidate_5926   1   0  11  31   0  False   0  True  23.75  ...   NaN   \n",
       "1  Candidate_48134   1   4   2  66   2  False   1  True  11.05  ...   NaN   \n",
       "2  Candidate_51717   1   0  19   2   0  False   0  True  29.00  ...   NaN   \n",
       "3  Candidate_26401   1   1  16  47   1  False   4  True  17.99  ...   NaN   \n",
       "4  Candidate_34872   1   1  13   1   1   True   6  True  27.50  ...   NaN   \n",
       "\n",
       "   N27  N28  N29  N30  N31  N32    N33     N34   N35  \n",
       "0  NaN  NaN  NaN  NaN  NaN  NaN   58.0  113.39  12.0  \n",
       "1  NaN  NaN  NaN  NaN  NaN  NaN  160.0  262.10  17.0  \n",
       "2  NaN  NaN  NaN  NaN  NaN  NaN   24.0   50.29  18.0  \n",
       "3  NaN  NaN  NaN  NaN  NaN  NaN   70.0  126.52  27.0  \n",
       "4  NaN  NaN  NaN  NaN  NaN  NaN  100.0  205.47  21.0  \n",
       "\n",
       "[5 rows x 44 columns]"
      ]
     },
     "execution_count": 2,
     "metadata": {},
     "output_type": "execute_result"
    }
   ],
   "source": [
    "X_train = pd.read_csv('./Training/X_train.csv')\n",
    "\n",
    "X_train.head()"
   ]
  },
  {
   "cell_type": "code",
   "execution_count": 3,
   "metadata": {},
   "outputs": [
    {
     "data": {
      "text/plain": [
       "Unique_ID     object\n",
       "C1             int64\n",
       "C2             int64\n",
       "C3             int64\n",
       "C4             int64\n",
       "C5             int64\n",
       "C6              bool\n",
       "C7             int64\n",
       "C8              bool\n",
       "N1           float64\n",
       "N2           float64\n",
       "N3           float64\n",
       "N4           float64\n",
       "N5           float64\n",
       "N6           float64\n",
       "N7           float64\n",
       "N8             int64\n",
       "N9             int64\n",
       "N10          float64\n",
       "N10.1        float64\n",
       "N11          float64\n",
       "N12          float64\n",
       "N14          float64\n",
       "N15          float64\n",
       "N16          float64\n",
       "N17          float64\n",
       "N18          float64\n",
       "N19          float64\n",
       "N20          float64\n",
       "N21          float64\n",
       "N22          float64\n",
       "N23          float64\n",
       "N24          float64\n",
       "N25          float64\n",
       "N26          float64\n",
       "N27          float64\n",
       "N28          float64\n",
       "N29          float64\n",
       "N30          float64\n",
       "N31          float64\n",
       "N32          float64\n",
       "N33          float64\n",
       "N34          float64\n",
       "N35          float64\n",
       "dtype: object"
      ]
     },
     "execution_count": 3,
     "metadata": {},
     "output_type": "execute_result"
    }
   ],
   "source": [
    "X_train.dtypes"
   ]
  },
  {
   "cell_type": "markdown",
   "metadata": {},
   "source": [
    "The column data types seem correct\n",
    "\n",
    "\n",
    "Categorical cols are C6 and C8"
   ]
  },
  {
   "cell_type": "code",
   "execution_count": 4,
   "metadata": {},
   "outputs": [],
   "source": [
    "nrows, ncols = X_train.shape[0], X_train.shape[1]"
   ]
  },
  {
   "cell_type": "code",
   "execution_count": 5,
   "metadata": {},
   "outputs": [],
   "source": [
    "cols = list(X_train.columns)"
   ]
  },
  {
   "cell_type": "markdown",
   "metadata": {},
   "source": [
    "The column data types seem correct\n",
    "\n",
    "### Check statistical summary of each col\n",
    "\n",
    "This only considers numerical values"
   ]
  },
  {
   "cell_type": "code",
   "execution_count": 6,
   "metadata": {
    "scrolled": false
   },
   "outputs": [
    {
     "data": {
      "text/html": [
       "<div>\n",
       "<style scoped>\n",
       "    .dataframe tbody tr th:only-of-type {\n",
       "        vertical-align: middle;\n",
       "    }\n",
       "\n",
       "    .dataframe tbody tr th {\n",
       "        vertical-align: top;\n",
       "    }\n",
       "\n",
       "    .dataframe thead th {\n",
       "        text-align: right;\n",
       "    }\n",
       "</style>\n",
       "<table border=\"1\" class=\"dataframe\">\n",
       "  <thead>\n",
       "    <tr style=\"text-align: right;\">\n",
       "      <th></th>\n",
       "      <th>Unique_ID</th>\n",
       "      <th>C1</th>\n",
       "      <th>C2</th>\n",
       "      <th>C3</th>\n",
       "      <th>C4</th>\n",
       "      <th>C5</th>\n",
       "      <th>C6</th>\n",
       "      <th>C7</th>\n",
       "      <th>C8</th>\n",
       "      <th>N1</th>\n",
       "      <th>N2</th>\n",
       "      <th>N3</th>\n",
       "      <th>N4</th>\n",
       "      <th>N5</th>\n",
       "      <th>N6</th>\n",
       "      <th>N7</th>\n",
       "    </tr>\n",
       "  </thead>\n",
       "  <tbody>\n",
       "    <tr>\n",
       "      <th>count</th>\n",
       "      <td>33050</td>\n",
       "      <td>33050.000000</td>\n",
       "      <td>33050.000000</td>\n",
       "      <td>33050.000000</td>\n",
       "      <td>33050.000000</td>\n",
       "      <td>33050.000000</td>\n",
       "      <td>33050</td>\n",
       "      <td>33050.000000</td>\n",
       "      <td>33050</td>\n",
       "      <td>33050.00000</td>\n",
       "      <td>28438.000000</td>\n",
       "      <td>32685.000000</td>\n",
       "      <td>28444.000000</td>\n",
       "      <td>28444.000000</td>\n",
       "      <td>32685.000000</td>\n",
       "      <td>32623.000000</td>\n",
       "    </tr>\n",
       "    <tr>\n",
       "      <th>unique</th>\n",
       "      <td>33050</td>\n",
       "      <td>NaN</td>\n",
       "      <td>NaN</td>\n",
       "      <td>NaN</td>\n",
       "      <td>NaN</td>\n",
       "      <td>NaN</td>\n",
       "      <td>2</td>\n",
       "      <td>NaN</td>\n",
       "      <td>2</td>\n",
       "      <td>NaN</td>\n",
       "      <td>NaN</td>\n",
       "      <td>NaN</td>\n",
       "      <td>NaN</td>\n",
       "      <td>NaN</td>\n",
       "      <td>NaN</td>\n",
       "      <td>NaN</td>\n",
       "    </tr>\n",
       "    <tr>\n",
       "      <th>top</th>\n",
       "      <td>Candidate_23610</td>\n",
       "      <td>NaN</td>\n",
       "      <td>NaN</td>\n",
       "      <td>NaN</td>\n",
       "      <td>NaN</td>\n",
       "      <td>NaN</td>\n",
       "      <td>False</td>\n",
       "      <td>NaN</td>\n",
       "      <td>True</td>\n",
       "      <td>NaN</td>\n",
       "      <td>NaN</td>\n",
       "      <td>NaN</td>\n",
       "      <td>NaN</td>\n",
       "      <td>NaN</td>\n",
       "      <td>NaN</td>\n",
       "      <td>NaN</td>\n",
       "    </tr>\n",
       "    <tr>\n",
       "      <th>freq</th>\n",
       "      <td>1</td>\n",
       "      <td>NaN</td>\n",
       "      <td>NaN</td>\n",
       "      <td>NaN</td>\n",
       "      <td>NaN</td>\n",
       "      <td>NaN</td>\n",
       "      <td>17584</td>\n",
       "      <td>NaN</td>\n",
       "      <td>30516</td>\n",
       "      <td>NaN</td>\n",
       "      <td>NaN</td>\n",
       "      <td>NaN</td>\n",
       "      <td>NaN</td>\n",
       "      <td>NaN</td>\n",
       "      <td>NaN</td>\n",
       "      <td>NaN</td>\n",
       "    </tr>\n",
       "    <tr>\n",
       "      <th>mean</th>\n",
       "      <td>NaN</td>\n",
       "      <td>1.119818</td>\n",
       "      <td>2.403873</td>\n",
       "      <td>12.856097</td>\n",
       "      <td>14.437398</td>\n",
       "      <td>1.719395</td>\n",
       "      <td>NaN</td>\n",
       "      <td>3.124932</td>\n",
       "      <td>NaN</td>\n",
       "      <td>19.97653</td>\n",
       "      <td>81.342710</td>\n",
       "      <td>3.359361</td>\n",
       "      <td>9.574075</td>\n",
       "      <td>8.350127</td>\n",
       "      <td>3.454361</td>\n",
       "      <td>25.229930</td>\n",
       "    </tr>\n",
       "    <tr>\n",
       "      <th>std</th>\n",
       "      <td>NaN</td>\n",
       "      <td>0.399382</td>\n",
       "      <td>3.399024</td>\n",
       "      <td>12.013457</td>\n",
       "      <td>15.527474</td>\n",
       "      <td>1.320860</td>\n",
       "      <td>NaN</td>\n",
       "      <td>2.158905</td>\n",
       "      <td>NaN</td>\n",
       "      <td>8.11087</td>\n",
       "      <td>85.397795</td>\n",
       "      <td>0.411040</td>\n",
       "      <td>5.584756</td>\n",
       "      <td>4.999040</td>\n",
       "      <td>0.411040</td>\n",
       "      <td>14.274854</td>\n",
       "    </tr>\n",
       "    <tr>\n",
       "      <th>min</th>\n",
       "      <td>NaN</td>\n",
       "      <td>1.000000</td>\n",
       "      <td>0.000000</td>\n",
       "      <td>0.000000</td>\n",
       "      <td>0.000000</td>\n",
       "      <td>0.000000</td>\n",
       "      <td>NaN</td>\n",
       "      <td>0.000000</td>\n",
       "      <td>NaN</td>\n",
       "      <td>0.00000</td>\n",
       "      <td>0.000000</td>\n",
       "      <td>0.000000</td>\n",
       "      <td>0.000000</td>\n",
       "      <td>0.000000</td>\n",
       "      <td>0.095000</td>\n",
       "      <td>2.000000</td>\n",
       "    </tr>\n",
       "    <tr>\n",
       "      <th>25%</th>\n",
       "      <td>NaN</td>\n",
       "      <td>1.000000</td>\n",
       "      <td>0.000000</td>\n",
       "      <td>2.000000</td>\n",
       "      <td>1.000000</td>\n",
       "      <td>1.000000</td>\n",
       "      <td>NaN</td>\n",
       "      <td>1.000000</td>\n",
       "      <td>NaN</td>\n",
       "      <td>13.45000</td>\n",
       "      <td>21.000000</td>\n",
       "      <td>3.200000</td>\n",
       "      <td>6.000000</td>\n",
       "      <td>5.000000</td>\n",
       "      <td>3.295000</td>\n",
       "      <td>15.000000</td>\n",
       "    </tr>\n",
       "    <tr>\n",
       "      <th>50%</th>\n",
       "      <td>NaN</td>\n",
       "      <td>1.000000</td>\n",
       "      <td>1.000000</td>\n",
       "      <td>10.000000</td>\n",
       "      <td>10.000000</td>\n",
       "      <td>2.000000</td>\n",
       "      <td>NaN</td>\n",
       "      <td>4.000000</td>\n",
       "      <td>NaN</td>\n",
       "      <td>19.27500</td>\n",
       "      <td>53.000000</td>\n",
       "      <td>3.400000</td>\n",
       "      <td>9.000000</td>\n",
       "      <td>8.000000</td>\n",
       "      <td>3.495000</td>\n",
       "      <td>23.000000</td>\n",
       "    </tr>\n",
       "    <tr>\n",
       "      <th>75%</th>\n",
       "      <td>NaN</td>\n",
       "      <td>1.000000</td>\n",
       "      <td>3.000000</td>\n",
       "      <td>20.000000</td>\n",
       "      <td>26.000000</td>\n",
       "      <td>2.000000</td>\n",
       "      <td>NaN</td>\n",
       "      <td>4.000000</td>\n",
       "      <td>NaN</td>\n",
       "      <td>26.90000</td>\n",
       "      <td>112.000000</td>\n",
       "      <td>3.600000</td>\n",
       "      <td>13.000000</td>\n",
       "      <td>11.000000</td>\n",
       "      <td>3.695000</td>\n",
       "      <td>33.000000</td>\n",
       "    </tr>\n",
       "    <tr>\n",
       "      <th>max</th>\n",
       "      <td>NaN</td>\n",
       "      <td>3.000000</td>\n",
       "      <td>20.000000</td>\n",
       "      <td>51.000000</td>\n",
       "      <td>67.000000</td>\n",
       "      <td>7.000000</td>\n",
       "      <td>NaN</td>\n",
       "      <td>7.000000</td>\n",
       "      <td>NaN</td>\n",
       "      <td>48.00000</td>\n",
       "      <td>755.000000</td>\n",
       "      <td>4.400000</td>\n",
       "      <td>59.000000</td>\n",
       "      <td>51.000000</td>\n",
       "      <td>4.495000</td>\n",
       "      <td>129.000000</td>\n",
       "    </tr>\n",
       "  </tbody>\n",
       "</table>\n",
       "</div>"
      ],
      "text/plain": [
       "              Unique_ID            C1            C2            C3  \\\n",
       "count             33050  33050.000000  33050.000000  33050.000000   \n",
       "unique            33050           NaN           NaN           NaN   \n",
       "top     Candidate_23610           NaN           NaN           NaN   \n",
       "freq                  1           NaN           NaN           NaN   \n",
       "mean                NaN      1.119818      2.403873     12.856097   \n",
       "std                 NaN      0.399382      3.399024     12.013457   \n",
       "min                 NaN      1.000000      0.000000      0.000000   \n",
       "25%                 NaN      1.000000      0.000000      2.000000   \n",
       "50%                 NaN      1.000000      1.000000     10.000000   \n",
       "75%                 NaN      1.000000      3.000000     20.000000   \n",
       "max                 NaN      3.000000     20.000000     51.000000   \n",
       "\n",
       "                  C4            C5     C6            C7     C8           N1  \\\n",
       "count   33050.000000  33050.000000  33050  33050.000000  33050  33050.00000   \n",
       "unique           NaN           NaN      2           NaN      2          NaN   \n",
       "top              NaN           NaN  False           NaN   True          NaN   \n",
       "freq             NaN           NaN  17584           NaN  30516          NaN   \n",
       "mean       14.437398      1.719395    NaN      3.124932    NaN     19.97653   \n",
       "std        15.527474      1.320860    NaN      2.158905    NaN      8.11087   \n",
       "min         0.000000      0.000000    NaN      0.000000    NaN      0.00000   \n",
       "25%         1.000000      1.000000    NaN      1.000000    NaN     13.45000   \n",
       "50%        10.000000      2.000000    NaN      4.000000    NaN     19.27500   \n",
       "75%        26.000000      2.000000    NaN      4.000000    NaN     26.90000   \n",
       "max        67.000000      7.000000    NaN      7.000000    NaN     48.00000   \n",
       "\n",
       "                  N2            N3            N4            N5            N6  \\\n",
       "count   28438.000000  32685.000000  28444.000000  28444.000000  32685.000000   \n",
       "unique           NaN           NaN           NaN           NaN           NaN   \n",
       "top              NaN           NaN           NaN           NaN           NaN   \n",
       "freq             NaN           NaN           NaN           NaN           NaN   \n",
       "mean       81.342710      3.359361      9.574075      8.350127      3.454361   \n",
       "std        85.397795      0.411040      5.584756      4.999040      0.411040   \n",
       "min         0.000000      0.000000      0.000000      0.000000      0.095000   \n",
       "25%        21.000000      3.200000      6.000000      5.000000      3.295000   \n",
       "50%        53.000000      3.400000      9.000000      8.000000      3.495000   \n",
       "75%       112.000000      3.600000     13.000000     11.000000      3.695000   \n",
       "max       755.000000      4.400000     59.000000     51.000000      4.495000   \n",
       "\n",
       "                  N7  \n",
       "count   32623.000000  \n",
       "unique           NaN  \n",
       "top              NaN  \n",
       "freq             NaN  \n",
       "mean       25.229930  \n",
       "std        14.274854  \n",
       "min         2.000000  \n",
       "25%        15.000000  \n",
       "50%        23.000000  \n",
       "75%        33.000000  \n",
       "max       129.000000  "
      ]
     },
     "execution_count": 6,
     "metadata": {},
     "output_type": "execute_result"
    }
   ],
   "source": [
    "# first 15 cols description\n",
    "\n",
    "X_train[cols[:16]].describe(include='all')"
   ]
  },
  {
   "cell_type": "code",
   "execution_count": 7,
   "metadata": {
    "scrolled": true
   },
   "outputs": [
    {
     "data": {
      "text/html": [
       "<div>\n",
       "<style scoped>\n",
       "    .dataframe tbody tr th:only-of-type {\n",
       "        vertical-align: middle;\n",
       "    }\n",
       "\n",
       "    .dataframe tbody tr th {\n",
       "        vertical-align: top;\n",
       "    }\n",
       "\n",
       "    .dataframe thead th {\n",
       "        text-align: right;\n",
       "    }\n",
       "</style>\n",
       "<table border=\"1\" class=\"dataframe\">\n",
       "  <thead>\n",
       "    <tr style=\"text-align: right;\">\n",
       "      <th></th>\n",
       "      <th>N7</th>\n",
       "      <th>N8</th>\n",
       "      <th>N9</th>\n",
       "      <th>N10</th>\n",
       "      <th>N10.1</th>\n",
       "      <th>N11</th>\n",
       "      <th>N12</th>\n",
       "      <th>N14</th>\n",
       "      <th>N15</th>\n",
       "      <th>N16</th>\n",
       "      <th>N17</th>\n",
       "      <th>N18</th>\n",
       "      <th>N19</th>\n",
       "      <th>N20</th>\n",
       "      <th>N21</th>\n",
       "      <th>N22</th>\n",
       "    </tr>\n",
       "  </thead>\n",
       "  <tbody>\n",
       "    <tr>\n",
       "      <th>count</th>\n",
       "      <td>32623.000000</td>\n",
       "      <td>33050.000000</td>\n",
       "      <td>33050.000000</td>\n",
       "      <td>32623.000000</td>\n",
       "      <td>32623.000000</td>\n",
       "      <td>32334.000000</td>\n",
       "      <td>28436.000000</td>\n",
       "      <td>32442.000000</td>\n",
       "      <td>32623.000000</td>\n",
       "      <td>28444.000000</td>\n",
       "      <td>2.844400e+04</td>\n",
       "      <td>28444.000000</td>\n",
       "      <td>28479.000000</td>\n",
       "      <td>28479.000000</td>\n",
       "      <td>28479.000000</td>\n",
       "      <td>28479.000000</td>\n",
       "    </tr>\n",
       "    <tr>\n",
       "      <th>mean</th>\n",
       "      <td>25.229930</td>\n",
       "      <td>6.082723</td>\n",
       "      <td>325.585870</td>\n",
       "      <td>0.903381</td>\n",
       "      <td>2.044049</td>\n",
       "      <td>7.108678</td>\n",
       "      <td>1016.018568</td>\n",
       "      <td>4.537760</td>\n",
       "      <td>0.330135</td>\n",
       "      <td>0.023203</td>\n",
       "      <td>1.582073e+04</td>\n",
       "      <td>0.528907</td>\n",
       "      <td>11037.365322</td>\n",
       "      <td>21.764142</td>\n",
       "      <td>0.857199</td>\n",
       "      <td>0.906422</td>\n",
       "    </tr>\n",
       "    <tr>\n",
       "      <th>std</th>\n",
       "      <td>14.274854</td>\n",
       "      <td>4.535870</td>\n",
       "      <td>452.149358</td>\n",
       "      <td>2.635207</td>\n",
       "      <td>3.172081</td>\n",
       "      <td>8.304500</td>\n",
       "      <td>6739.984010</td>\n",
       "      <td>10.610457</td>\n",
       "      <td>0.799125</td>\n",
       "      <td>0.175363</td>\n",
       "      <td>3.405137e+04</td>\n",
       "      <td>0.350046</td>\n",
       "      <td>22052.222523</td>\n",
       "      <td>12.438568</td>\n",
       "      <td>0.173017</td>\n",
       "      <td>1.227818</td>\n",
       "    </tr>\n",
       "    <tr>\n",
       "      <th>min</th>\n",
       "      <td>2.000000</td>\n",
       "      <td>0.000000</td>\n",
       "      <td>0.000000</td>\n",
       "      <td>0.000000</td>\n",
       "      <td>0.000000</td>\n",
       "      <td>0.000000</td>\n",
       "      <td>0.000000</td>\n",
       "      <td>0.000000</td>\n",
       "      <td>0.000000</td>\n",
       "      <td>0.000000</td>\n",
       "      <td>0.000000e+00</td>\n",
       "      <td>0.000000</td>\n",
       "      <td>0.000000</td>\n",
       "      <td>0.000000</td>\n",
       "      <td>0.000000</td>\n",
       "      <td>0.000000</td>\n",
       "    </tr>\n",
       "    <tr>\n",
       "      <th>25%</th>\n",
       "      <td>15.000000</td>\n",
       "      <td>3.000000</td>\n",
       "      <td>60.000000</td>\n",
       "      <td>0.000000</td>\n",
       "      <td>0.000000</td>\n",
       "      <td>2.000000</td>\n",
       "      <td>0.000000</td>\n",
       "      <td>0.000000</td>\n",
       "      <td>0.000000</td>\n",
       "      <td>0.000000</td>\n",
       "      <td>1.647000e+03</td>\n",
       "      <td>0.210000</td>\n",
       "      <td>523.000000</td>\n",
       "      <td>13.000000</td>\n",
       "      <td>0.770000</td>\n",
       "      <td>0.000000</td>\n",
       "    </tr>\n",
       "    <tr>\n",
       "      <th>50%</th>\n",
       "      <td>23.000000</td>\n",
       "      <td>5.000000</td>\n",
       "      <td>183.000000</td>\n",
       "      <td>0.000000</td>\n",
       "      <td>1.000000</td>\n",
       "      <td>5.000000</td>\n",
       "      <td>0.000000</td>\n",
       "      <td>0.000000</td>\n",
       "      <td>0.000000</td>\n",
       "      <td>0.000000</td>\n",
       "      <td>6.073000e+03</td>\n",
       "      <td>0.560000</td>\n",
       "      <td>3352.000000</td>\n",
       "      <td>20.000000</td>\n",
       "      <td>0.920000</td>\n",
       "      <td>1.000000</td>\n",
       "    </tr>\n",
       "    <tr>\n",
       "      <th>75%</th>\n",
       "      <td>33.000000</td>\n",
       "      <td>8.000000</td>\n",
       "      <td>420.000000</td>\n",
       "      <td>1.000000</td>\n",
       "      <td>3.000000</td>\n",
       "      <td>9.000000</td>\n",
       "      <td>0.000000</td>\n",
       "      <td>4.000000</td>\n",
       "      <td>0.000000</td>\n",
       "      <td>0.000000</td>\n",
       "      <td>1.627725e+04</td>\n",
       "      <td>0.840000</td>\n",
       "      <td>12285.000000</td>\n",
       "      <td>29.000000</td>\n",
       "      <td>1.000000</td>\n",
       "      <td>1.000000</td>\n",
       "    </tr>\n",
       "    <tr>\n",
       "      <th>max</th>\n",
       "      <td>129.000000</td>\n",
       "      <td>51.000000</td>\n",
       "      <td>14985.000000</td>\n",
       "      <td>83.000000</td>\n",
       "      <td>105.000000</td>\n",
       "      <td>379.000000</td>\n",
       "      <td>444745.000000</td>\n",
       "      <td>99.000000</td>\n",
       "      <td>30.000000</td>\n",
       "      <td>7.000000</td>\n",
       "      <td>1.435667e+06</td>\n",
       "      <td>5.830000</td>\n",
       "      <td>646285.000000</td>\n",
       "      <td>114.000000</td>\n",
       "      <td>1.000000</td>\n",
       "      <td>20.000000</td>\n",
       "    </tr>\n",
       "  </tbody>\n",
       "</table>\n",
       "</div>"
      ],
      "text/plain": [
       "                 N7            N8            N9           N10         N10.1  \\\n",
       "count  32623.000000  33050.000000  33050.000000  32623.000000  32623.000000   \n",
       "mean      25.229930      6.082723    325.585870      0.903381      2.044049   \n",
       "std       14.274854      4.535870    452.149358      2.635207      3.172081   \n",
       "min        2.000000      0.000000      0.000000      0.000000      0.000000   \n",
       "25%       15.000000      3.000000     60.000000      0.000000      0.000000   \n",
       "50%       23.000000      5.000000    183.000000      0.000000      1.000000   \n",
       "75%       33.000000      8.000000    420.000000      1.000000      3.000000   \n",
       "max      129.000000     51.000000  14985.000000     83.000000    105.000000   \n",
       "\n",
       "                N11            N12           N14           N15           N16  \\\n",
       "count  32334.000000   28436.000000  32442.000000  32623.000000  28444.000000   \n",
       "mean       7.108678    1016.018568      4.537760      0.330135      0.023203   \n",
       "std        8.304500    6739.984010     10.610457      0.799125      0.175363   \n",
       "min        0.000000       0.000000      0.000000      0.000000      0.000000   \n",
       "25%        2.000000       0.000000      0.000000      0.000000      0.000000   \n",
       "50%        5.000000       0.000000      0.000000      0.000000      0.000000   \n",
       "75%        9.000000       0.000000      4.000000      0.000000      0.000000   \n",
       "max      379.000000  444745.000000     99.000000     30.000000      7.000000   \n",
       "\n",
       "                N17           N18            N19           N20           N21  \\\n",
       "count  2.844400e+04  28444.000000   28479.000000  28479.000000  28479.000000   \n",
       "mean   1.582073e+04      0.528907   11037.365322     21.764142      0.857199   \n",
       "std    3.405137e+04      0.350046   22052.222523     12.438568      0.173017   \n",
       "min    0.000000e+00      0.000000       0.000000      0.000000      0.000000   \n",
       "25%    1.647000e+03      0.210000     523.000000     13.000000      0.770000   \n",
       "50%    6.073000e+03      0.560000    3352.000000     20.000000      0.920000   \n",
       "75%    1.627725e+04      0.840000   12285.000000     29.000000      1.000000   \n",
       "max    1.435667e+06      5.830000  646285.000000    114.000000      1.000000   \n",
       "\n",
       "                N22  \n",
       "count  28479.000000  \n",
       "mean       0.906422  \n",
       "std        1.227818  \n",
       "min        0.000000  \n",
       "25%        0.000000  \n",
       "50%        1.000000  \n",
       "75%        1.000000  \n",
       "max       20.000000  "
      ]
     },
     "execution_count": 7,
     "metadata": {},
     "output_type": "execute_result"
    }
   ],
   "source": [
    "# next 15 cols desc\n",
    "\n",
    "X_train[cols[15:31]].describe(include='all')"
   ]
  },
  {
   "cell_type": "code",
   "execution_count": 8,
   "metadata": {},
   "outputs": [
    {
     "data": {
      "text/html": [
       "<div>\n",
       "<style scoped>\n",
       "    .dataframe tbody tr th:only-of-type {\n",
       "        vertical-align: middle;\n",
       "    }\n",
       "\n",
       "    .dataframe tbody tr th {\n",
       "        vertical-align: top;\n",
       "    }\n",
       "\n",
       "    .dataframe thead th {\n",
       "        text-align: right;\n",
       "    }\n",
       "</style>\n",
       "<table border=\"1\" class=\"dataframe\">\n",
       "  <thead>\n",
       "    <tr style=\"text-align: right;\">\n",
       "      <th></th>\n",
       "      <th>N23</th>\n",
       "      <th>N24</th>\n",
       "      <th>N25</th>\n",
       "      <th>N26</th>\n",
       "      <th>N27</th>\n",
       "      <th>N28</th>\n",
       "      <th>N29</th>\n",
       "      <th>N30</th>\n",
       "      <th>N31</th>\n",
       "      <th>N32</th>\n",
       "      <th>N33</th>\n",
       "      <th>N34</th>\n",
       "      <th>N35</th>\n",
       "    </tr>\n",
       "  </thead>\n",
       "  <tbody>\n",
       "    <tr>\n",
       "      <th>count</th>\n",
       "      <td>30564.000000</td>\n",
       "      <td>33050.000000</td>\n",
       "      <td>6271.000000</td>\n",
       "      <td>6271.000000</td>\n",
       "      <td>6271.000000</td>\n",
       "      <td>6271.000000</td>\n",
       "      <td>6271.000000</td>\n",
       "      <td>6271.000000</td>\n",
       "      <td>6271.000000</td>\n",
       "      <td>6220.000000</td>\n",
       "      <td>33050.000000</td>\n",
       "      <td>33050.000000</td>\n",
       "      <td>32623.000000</td>\n",
       "    </tr>\n",
       "    <tr>\n",
       "      <th>mean</th>\n",
       "      <td>58.433363</td>\n",
       "      <td>5050.306727</td>\n",
       "      <td>1.338224</td>\n",
       "      <td>20.084197</td>\n",
       "      <td>19.512199</td>\n",
       "      <td>0.526391</td>\n",
       "      <td>0.045288</td>\n",
       "      <td>7192.813526</td>\n",
       "      <td>2379.621620</td>\n",
       "      <td>0.744373</td>\n",
       "      <td>125.629394</td>\n",
       "      <td>224.313536</td>\n",
       "      <td>19.587254</td>\n",
       "    </tr>\n",
       "    <tr>\n",
       "      <th>std</th>\n",
       "      <td>150.660621</td>\n",
       "      <td>6237.726330</td>\n",
       "      <td>0.680982</td>\n",
       "      <td>16.045120</td>\n",
       "      <td>15.637882</td>\n",
       "      <td>2.144069</td>\n",
       "      <td>0.443838</td>\n",
       "      <td>6460.139952</td>\n",
       "      <td>3379.065104</td>\n",
       "      <td>50.764684</td>\n",
       "      <td>104.391919</td>\n",
       "      <td>186.513844</td>\n",
       "      <td>7.352667</td>\n",
       "    </tr>\n",
       "    <tr>\n",
       "      <th>min</th>\n",
       "      <td>0.000000</td>\n",
       "      <td>0.000000</td>\n",
       "      <td>1.000000</td>\n",
       "      <td>0.000000</td>\n",
       "      <td>0.000000</td>\n",
       "      <td>0.000000</td>\n",
       "      <td>0.000000</td>\n",
       "      <td>1000.000000</td>\n",
       "      <td>0.000000</td>\n",
       "      <td>-194.000000</td>\n",
       "      <td>20.000000</td>\n",
       "      <td>0.000000</td>\n",
       "      <td>2.000000</td>\n",
       "    </tr>\n",
       "    <tr>\n",
       "      <th>25%</th>\n",
       "      <td>26.000000</td>\n",
       "      <td>2833.333333</td>\n",
       "      <td>1.000000</td>\n",
       "      <td>9.000000</td>\n",
       "      <td>9.000000</td>\n",
       "      <td>0.000000</td>\n",
       "      <td>0.000000</td>\n",
       "      <td>3000.000000</td>\n",
       "      <td>0.000000</td>\n",
       "      <td>-31.000000</td>\n",
       "      <td>54.000000</td>\n",
       "      <td>98.740000</td>\n",
       "      <td>14.000000</td>\n",
       "    </tr>\n",
       "    <tr>\n",
       "      <th>50%</th>\n",
       "      <td>40.000000</td>\n",
       "      <td>4166.666667</td>\n",
       "      <td>1.000000</td>\n",
       "      <td>15.000000</td>\n",
       "      <td>14.000000</td>\n",
       "      <td>0.000000</td>\n",
       "      <td>0.000000</td>\n",
       "      <td>5000.000000</td>\n",
       "      <td>1108.440000</td>\n",
       "      <td>0.000000</td>\n",
       "      <td>90.000000</td>\n",
       "      <td>172.600000</td>\n",
       "      <td>19.000000</td>\n",
       "    </tr>\n",
       "    <tr>\n",
       "      <th>75%</th>\n",
       "      <td>60.000000</td>\n",
       "      <td>6250.000000</td>\n",
       "      <td>1.500000</td>\n",
       "      <td>28.000000</td>\n",
       "      <td>27.000000</td>\n",
       "      <td>0.000000</td>\n",
       "      <td>0.000000</td>\n",
       "      <td>9500.000000</td>\n",
       "      <td>3408.750000</td>\n",
       "      <td>32.000000</td>\n",
       "      <td>160.000000</td>\n",
       "      <td>300.947500</td>\n",
       "      <td>24.000000</td>\n",
       "    </tr>\n",
       "    <tr>\n",
       "      <th>max</th>\n",
       "      <td>2002.000000</td>\n",
       "      <td>618547.833300</td>\n",
       "      <td>7.000000</td>\n",
       "      <td>120.000000</td>\n",
       "      <td>111.000000</td>\n",
       "      <td>42.000000</td>\n",
       "      <td>11.000000</td>\n",
       "      <td>60001.000000</td>\n",
       "      <td>22586.670000</td>\n",
       "      <td>257.000000</td>\n",
       "      <td>700.000000</td>\n",
       "      <td>2153.380000</td>\n",
       "      <td>64.000000</td>\n",
       "    </tr>\n",
       "  </tbody>\n",
       "</table>\n",
       "</div>"
      ],
      "text/plain": [
       "                N23            N24          N25          N26          N27  \\\n",
       "count  30564.000000   33050.000000  6271.000000  6271.000000  6271.000000   \n",
       "mean      58.433363    5050.306727     1.338224    20.084197    19.512199   \n",
       "std      150.660621    6237.726330     0.680982    16.045120    15.637882   \n",
       "min        0.000000       0.000000     1.000000     0.000000     0.000000   \n",
       "25%       26.000000    2833.333333     1.000000     9.000000     9.000000   \n",
       "50%       40.000000    4166.666667     1.000000    15.000000    14.000000   \n",
       "75%       60.000000    6250.000000     1.500000    28.000000    27.000000   \n",
       "max     2002.000000  618547.833300     7.000000   120.000000   111.000000   \n",
       "\n",
       "               N28          N29           N30           N31          N32  \\\n",
       "count  6271.000000  6271.000000   6271.000000   6271.000000  6220.000000   \n",
       "mean      0.526391     0.045288   7192.813526   2379.621620     0.744373   \n",
       "std       2.144069     0.443838   6460.139952   3379.065104    50.764684   \n",
       "min       0.000000     0.000000   1000.000000      0.000000  -194.000000   \n",
       "25%       0.000000     0.000000   3000.000000      0.000000   -31.000000   \n",
       "50%       0.000000     0.000000   5000.000000   1108.440000     0.000000   \n",
       "75%       0.000000     0.000000   9500.000000   3408.750000    32.000000   \n",
       "max      42.000000    11.000000  60001.000000  22586.670000   257.000000   \n",
       "\n",
       "                N33           N34           N35  \n",
       "count  33050.000000  33050.000000  32623.000000  \n",
       "mean     125.629394    224.313536     19.587254  \n",
       "std      104.391919    186.513844      7.352667  \n",
       "min       20.000000      0.000000      2.000000  \n",
       "25%       54.000000     98.740000     14.000000  \n",
       "50%       90.000000    172.600000     19.000000  \n",
       "75%      160.000000    300.947500     24.000000  \n",
       "max      700.000000   2153.380000     64.000000  "
      ]
     },
     "execution_count": 8,
     "metadata": {},
     "output_type": "execute_result"
    }
   ],
   "source": [
    "# remaining cols desc\n",
    "\n",
    "X_train[cols[31:]].describe(include='all')"
   ]
  },
  {
   "cell_type": "markdown",
   "metadata": {},
   "source": [
    "For the summary statts we can see:\n",
    "\n",
    "- many cols have missing values\n",
    "- many cols have limited range. Foe eg: N1 has min of 1 and max of 3. So, these cols might be categorical, which have numerical labelling\n",
    "\n",
    "\n",
    "We now want to store the no of missing values for each col, to be used later for **Missing Value Treatment**\n",
    "\n"
   ]
  },
  {
   "cell_type": "code",
   "execution_count": 9,
   "metadata": {
    "scrolled": false
   },
   "outputs": [
    {
     "data": {
      "text/plain": [
       "{'C1': 0,\n",
       " 'C2': 0,\n",
       " 'C3': 0,\n",
       " 'C4': 0,\n",
       " 'C5': 0,\n",
       " 'C6': 0,\n",
       " 'C7': 0,\n",
       " 'C8': 0,\n",
       " 'N1': 0,\n",
       " 'N10': 427,\n",
       " 'N10.1': 427,\n",
       " 'N11': 716,\n",
       " 'N12': 4614,\n",
       " 'N14': 608,\n",
       " 'N15': 427,\n",
       " 'N16': 4606,\n",
       " 'N17': 4606,\n",
       " 'N18': 4606,\n",
       " 'N19': 4571,\n",
       " 'N2': 4612,\n",
       " 'N20': 4571,\n",
       " 'N21': 4571,\n",
       " 'N22': 4571,\n",
       " 'N23': 2486,\n",
       " 'N24': 0,\n",
       " 'N25': 26779,\n",
       " 'N26': 26779,\n",
       " 'N27': 26779,\n",
       " 'N28': 26779,\n",
       " 'N29': 26779,\n",
       " 'N3': 365,\n",
       " 'N30': 26779,\n",
       " 'N31': 26779,\n",
       " 'N32': 26830,\n",
       " 'N33': 0,\n",
       " 'N34': 0,\n",
       " 'N35': 427,\n",
       " 'N4': 4606,\n",
       " 'N5': 4606,\n",
       " 'N6': 365,\n",
       " 'N7': 427,\n",
       " 'N8': 0,\n",
       " 'N9': 0}"
      ]
     },
     "execution_count": 9,
     "metadata": {},
     "output_type": "execute_result"
    }
   ],
   "source": [
    "def make_missing_value_dict(df):\n",
    "    \n",
    "    cols = df.columns\n",
    "    missing_values_dict = {}\n",
    "\n",
    "    for col in cols[1:]:\n",
    "        missing_value = nrows - int(df.describe(include='all').loc['count', col])\n",
    "        missing_values_dict[col] = missing_value\n",
    "\n",
    "    return missing_values_dict\n",
    "\n",
    "make_missing_value_dict(X_train)"
   ]
  },
  {
   "cell_type": "code",
   "execution_count": 10,
   "metadata": {
    "scrolled": false
   },
   "outputs": [
    {
     "name": "stdout",
     "output_type": "stream",
     "text": [
      "C1\n",
      "C2\n",
      "C3\n",
      "C4\n",
      "C5\n",
      "C6\n",
      "C7\n",
      "C8\n",
      "N3\n",
      "N4\n",
      "N5\n",
      "N6\n",
      "N7\n",
      "N8\n",
      "N10\n",
      "N10.1\n",
      "N11\n",
      "N14\n",
      "N15\n",
      "N16\n",
      "N18\n",
      "N20\n",
      "N21\n",
      "N22\n",
      "N25\n",
      "N26\n",
      "N27\n",
      "N28\n",
      "N29\n",
      "N32\n",
      "N35\n"
     ]
    }
   ],
   "source": [
    "for col in cols:\n",
    "    if len(X_train[col].unique())*100/nrows < 1:\n",
    "        print (col)"
   ]
  },
  {
   "cell_type": "markdown",
   "metadata": {},
   "source": [
    "\n",
    "## NOTE: All these cols have very few unique values, so maybe encode them as Categorical\n",
    "\n"
   ]
  },
  {
   "cell_type": "markdown",
   "metadata": {},
   "source": [
    "### Missing Value Treatment\n",
    "\n",
    "#### Strategy 1"
   ]
  },
  {
   "cell_type": "code",
   "execution_count": 11,
   "metadata": {},
   "outputs": [],
   "source": [
    "# make a copy of the X train to run MVT on\n",
    "X_train_mvt1 = X_train.copy(deep=True)"
   ]
  },
  {
   "cell_type": "markdown",
   "metadata": {},
   "source": [
    "N25, N26, N27, N28, N29, N30, N31, N32 have over 81% missing values. So it will make sense to drop them entirely"
   ]
  },
  {
   "cell_type": "code",
   "execution_count": 12,
   "metadata": {},
   "outputs": [
    {
     "data": {
      "text/html": [
       "<div>\n",
       "<style scoped>\n",
       "    .dataframe tbody tr th:only-of-type {\n",
       "        vertical-align: middle;\n",
       "    }\n",
       "\n",
       "    .dataframe tbody tr th {\n",
       "        vertical-align: top;\n",
       "    }\n",
       "\n",
       "    .dataframe thead th {\n",
       "        text-align: right;\n",
       "    }\n",
       "</style>\n",
       "<table border=\"1\" class=\"dataframe\">\n",
       "  <thead>\n",
       "    <tr style=\"text-align: right;\">\n",
       "      <th></th>\n",
       "      <th>Unique_ID</th>\n",
       "      <th>C1</th>\n",
       "      <th>C2</th>\n",
       "      <th>C3</th>\n",
       "      <th>C4</th>\n",
       "      <th>C5</th>\n",
       "      <th>C6</th>\n",
       "      <th>C7</th>\n",
       "      <th>C8</th>\n",
       "      <th>N1</th>\n",
       "      <th>...</th>\n",
       "      <th>N18</th>\n",
       "      <th>N19</th>\n",
       "      <th>N20</th>\n",
       "      <th>N21</th>\n",
       "      <th>N22</th>\n",
       "      <th>N23</th>\n",
       "      <th>N24</th>\n",
       "      <th>N33</th>\n",
       "      <th>N34</th>\n",
       "      <th>N35</th>\n",
       "    </tr>\n",
       "  </thead>\n",
       "  <tbody>\n",
       "    <tr>\n",
       "      <th>0</th>\n",
       "      <td>Candidate_5926</td>\n",
       "      <td>1</td>\n",
       "      <td>0</td>\n",
       "      <td>11</td>\n",
       "      <td>31</td>\n",
       "      <td>0</td>\n",
       "      <td>False</td>\n",
       "      <td>0</td>\n",
       "      <td>True</td>\n",
       "      <td>23.75</td>\n",
       "      <td>...</td>\n",
       "      <td>NaN</td>\n",
       "      <td>NaN</td>\n",
       "      <td>NaN</td>\n",
       "      <td>NaN</td>\n",
       "      <td>NaN</td>\n",
       "      <td>27.816</td>\n",
       "      <td>1750.000000</td>\n",
       "      <td>58.0</td>\n",
       "      <td>113.39</td>\n",
       "      <td>12.0</td>\n",
       "    </tr>\n",
       "    <tr>\n",
       "      <th>1</th>\n",
       "      <td>Candidate_48134</td>\n",
       "      <td>1</td>\n",
       "      <td>4</td>\n",
       "      <td>2</td>\n",
       "      <td>66</td>\n",
       "      <td>2</td>\n",
       "      <td>False</td>\n",
       "      <td>1</td>\n",
       "      <td>True</td>\n",
       "      <td>11.05</td>\n",
       "      <td>...</td>\n",
       "      <td>0.06</td>\n",
       "      <td>25856.0</td>\n",
       "      <td>17.0</td>\n",
       "      <td>0.88</td>\n",
       "      <td>1.0</td>\n",
       "      <td>40.000</td>\n",
       "      <td>10833.333330</td>\n",
       "      <td>160.0</td>\n",
       "      <td>262.10</td>\n",
       "      <td>17.0</td>\n",
       "    </tr>\n",
       "    <tr>\n",
       "      <th>2</th>\n",
       "      <td>Candidate_51717</td>\n",
       "      <td>1</td>\n",
       "      <td>0</td>\n",
       "      <td>19</td>\n",
       "      <td>2</td>\n",
       "      <td>0</td>\n",
       "      <td>False</td>\n",
       "      <td>0</td>\n",
       "      <td>True</td>\n",
       "      <td>29.00</td>\n",
       "      <td>...</td>\n",
       "      <td>NaN</td>\n",
       "      <td>NaN</td>\n",
       "      <td>NaN</td>\n",
       "      <td>NaN</td>\n",
       "      <td>NaN</td>\n",
       "      <td>20.000</td>\n",
       "      <td>6250.000000</td>\n",
       "      <td>24.0</td>\n",
       "      <td>50.29</td>\n",
       "      <td>18.0</td>\n",
       "    </tr>\n",
       "    <tr>\n",
       "      <th>3</th>\n",
       "      <td>Candidate_26401</td>\n",
       "      <td>1</td>\n",
       "      <td>1</td>\n",
       "      <td>16</td>\n",
       "      <td>47</td>\n",
       "      <td>1</td>\n",
       "      <td>False</td>\n",
       "      <td>4</td>\n",
       "      <td>True</td>\n",
       "      <td>17.99</td>\n",
       "      <td>...</td>\n",
       "      <td>0.89</td>\n",
       "      <td>1006.0</td>\n",
       "      <td>6.0</td>\n",
       "      <td>1.00</td>\n",
       "      <td>0.0</td>\n",
       "      <td>26.000</td>\n",
       "      <td>2413.666667</td>\n",
       "      <td>70.0</td>\n",
       "      <td>126.52</td>\n",
       "      <td>27.0</td>\n",
       "    </tr>\n",
       "    <tr>\n",
       "      <th>4</th>\n",
       "      <td>Candidate_34872</td>\n",
       "      <td>1</td>\n",
       "      <td>1</td>\n",
       "      <td>13</td>\n",
       "      <td>1</td>\n",
       "      <td>1</td>\n",
       "      <td>True</td>\n",
       "      <td>6</td>\n",
       "      <td>True</td>\n",
       "      <td>27.50</td>\n",
       "      <td>...</td>\n",
       "      <td>0.97</td>\n",
       "      <td>3398.0</td>\n",
       "      <td>31.0</td>\n",
       "      <td>0.96</td>\n",
       "      <td>0.0</td>\n",
       "      <td>44.000</td>\n",
       "      <td>7666.666667</td>\n",
       "      <td>100.0</td>\n",
       "      <td>205.47</td>\n",
       "      <td>21.0</td>\n",
       "    </tr>\n",
       "  </tbody>\n",
       "</table>\n",
       "<p>5 rows × 36 columns</p>\n",
       "</div>"
      ],
      "text/plain": [
       "         Unique_ID  C1  C2  C3  C4  C5     C6  C7    C8     N1  ...    N18  \\\n",
       "0   Candidate_5926   1   0  11  31   0  False   0  True  23.75  ...    NaN   \n",
       "1  Candidate_48134   1   4   2  66   2  False   1  True  11.05  ...   0.06   \n",
       "2  Candidate_51717   1   0  19   2   0  False   0  True  29.00  ...    NaN   \n",
       "3  Candidate_26401   1   1  16  47   1  False   4  True  17.99  ...   0.89   \n",
       "4  Candidate_34872   1   1  13   1   1   True   6  True  27.50  ...   0.97   \n",
       "\n",
       "       N19   N20   N21  N22     N23           N24    N33     N34   N35  \n",
       "0      NaN   NaN   NaN  NaN  27.816   1750.000000   58.0  113.39  12.0  \n",
       "1  25856.0  17.0  0.88  1.0  40.000  10833.333330  160.0  262.10  17.0  \n",
       "2      NaN   NaN   NaN  NaN  20.000   6250.000000   24.0   50.29  18.0  \n",
       "3   1006.0   6.0  1.00  0.0  26.000   2413.666667   70.0  126.52  27.0  \n",
       "4   3398.0  31.0  0.96  0.0  44.000   7666.666667  100.0  205.47  21.0  \n",
       "\n",
       "[5 rows x 36 columns]"
      ]
     },
     "execution_count": 12,
     "metadata": {},
     "output_type": "execute_result"
    }
   ],
   "source": [
    "X_train_mvt1.drop(columns=['N25', 'N26', 'N27', 'N28', 'N29', 'N30', 'N31', 'N32'], inplace=True)\n",
    "\n",
    "X_train_mvt1.head()"
   ]
  },
  {
   "cell_type": "code",
   "execution_count": 13,
   "metadata": {
    "scrolled": false
   },
   "outputs": [
    {
     "name": "stdout",
     "output_type": "stream",
     "text": [
      "505 float64\n"
     ]
    }
   ],
   "source": [
    "print (len(X_train_mvt1['N2'].unique()), X_train_mvt1['N2'].dtype)"
   ]
  },
  {
   "cell_type": "markdown",
   "metadata": {},
   "source": [
    "N2 has a large number of unique values and 4612 missing values. Replace by mean"
   ]
  },
  {
   "cell_type": "code",
   "execution_count": 14,
   "metadata": {},
   "outputs": [
    {
     "name": "stdout",
     "output_type": "stream",
     "text": [
      "81.34271045783811\n"
     ]
    },
    {
     "data": {
      "text/plain": [
       "True"
      ]
     },
     "execution_count": 14,
     "metadata": {},
     "output_type": "execute_result"
    }
   ],
   "source": [
    "N2_mean = X_train_mvt1['N2'].mean(axis=0)\n",
    "\n",
    "print(N2_mean)\n",
    "\n",
    "X_train_mvt1['N2'].replace(np.nan, N2_mean, inplace=True)\n",
    "\n",
    "X_train_mvt1['N2'].describe()['count'] == nrows"
   ]
  },
  {
   "cell_type": "code",
   "execution_count": 15,
   "metadata": {},
   "outputs": [
    {
     "name": "stdout",
     "output_type": "stream",
     "text": [
      "27 float64\n"
     ]
    }
   ],
   "source": [
    "print (len(X_train_mvt1['N3'].unique()), X_train_mvt1['N2'].dtype)"
   ]
  },
  {
   "cell_type": "markdown",
   "metadata": {},
   "source": [
    "N3 has only 27 unique values"
   ]
  },
  {
   "cell_type": "code",
   "execution_count": 16,
   "metadata": {},
   "outputs": [
    {
     "data": {
      "image/png": "[encoded data removed]",
      "text/plain": [
       "<Figure size 432x288 with 1 Axes>"
      ]
     },
     "metadata": {},
     "output_type": "display_data"
    }
   ],
   "source": [
    "X_train_mvt1['N3'].plot.hist();"
   ]
  },
  {
   "cell_type": "code",
   "execution_count": 17,
   "metadata": {},
   "outputs": [
    {
     "data": {
      "text/plain": [
       "3.2    3718\n",
       "3.3    3642\n",
       "3.4    3615\n",
       "3.5    3216\n",
       "3.6    3013\n",
       "3.7    2438\n",
       "3.1    2061\n",
       "3.8    1960\n",
       "3.0    1888\n",
       "3.9    1382\n",
       "2.6     958\n",
       "2.7     857\n",
       "2.8     820\n",
       "4.0     820\n",
       "2.9     668\n",
       "4.1     512\n",
       "2.5     352\n",
       "4.2     243\n",
       "2.4     213\n",
       "4.3     101\n",
       "2.3      87\n",
       "0.0      81\n",
       "2.2      23\n",
       "4.4      13\n",
       "2.1       3\n",
       "1.8       1\n",
       "Name: N3, dtype: int64"
      ]
     },
     "execution_count": 17,
     "metadata": {},
     "output_type": "execute_result"
    }
   ],
   "source": [
    "X_train_mvt1['N3'].value_counts()"
   ]
  },
  {
   "cell_type": "markdown",
   "metadata": {},
   "source": [
    "From the value counts we can see that there are outliers of 0. So it makes better sense to impute with median"
   ]
  },
  {
   "cell_type": "code",
   "execution_count": 18,
   "metadata": {},
   "outputs": [
    {
     "data": {
      "text/plain": [
       "True"
      ]
     },
     "execution_count": 18,
     "metadata": {},
     "output_type": "execute_result"
    }
   ],
   "source": [
    "N3_median = X_train_mvt1['N3'].median(axis=0)\n",
    "\n",
    "X_train_mvt1['N3'].replace(np.nan, N3_median, inplace=True)\n",
    "\n",
    "X_train_mvt1['N3'].describe()['count'] == nrows"
   ]
  },
  {
   "cell_type": "code",
   "execution_count": 19,
   "metadata": {},
   "outputs": [
    {
     "name": "stdout",
     "output_type": "stream",
     "text": [
      "52 float64\n"
     ]
    }
   ],
   "source": [
    "print(len(X_train_mvt1['N4'].unique()), X_train_mvt1['N4'].dtype)"
   ]
  },
  {
   "cell_type": "code",
   "execution_count": 20,
   "metadata": {},
   "outputs": [
    {
     "data": {
      "image/png": "[encoded data removed]",
      "text/plain": [
       "<Figure size 432x288 with 1 Axes>"
      ]
     },
     "metadata": {},
     "output_type": "display_data"
    }
   ],
   "source": [
    "X_train_mvt1['N4'].plot.hist();"
   ]
  },
  {
   "cell_type": "markdown",
   "metadata": {},
   "source": [
    "Again N4 has a few outliers, so we replace by median"
   ]
  },
  {
   "cell_type": "code",
   "execution_count": 21,
   "metadata": {},
   "outputs": [
    {
     "data": {
      "text/plain": [
       "True"
      ]
     },
     "execution_count": 21,
     "metadata": {},
     "output_type": "execute_result"
    }
   ],
   "source": [
    "N4_median = X_train_mvt1['N4'].median(axis=0)\n",
    "\n",
    "X_train_mvt1['N4'].replace(np.nan, N4_median, inplace=True)\n",
    "\n",
    "X_train_mvt1['N4'].describe()['count'] == nrows"
   ]
  },
  {
   "cell_type": "code",
   "execution_count": 22,
   "metadata": {
    "scrolled": false
   },
   "outputs": [
    {
     "name": "stdout",
     "output_type": "stream",
     "text": [
      "{'C1': 0, 'C2': 0, 'C3': 0, 'C4': 0, 'C5': 0, 'C6': 0, 'C7': 0, 'C8': 0, 'N1': 0, 'N2': 0, 'N3': 0, 'N4': 0, 'N5': 4606, 'N6': 365, 'N7': 427, 'N8': 0, 'N9': 0, 'N10': 427, 'N10.1': 427, 'N11': 716, 'N12': 4614, 'N14': 608, 'N15': 427, 'N16': 4606, 'N17': 4606, 'N18': 4606, 'N19': 4571, 'N20': 4571, 'N21': 4571, 'N22': 4571, 'N23': 2486, 'N24': 0, 'N33': 0, 'N34': 0, 'N35': 427}\n"
     ]
    }
   ],
   "source": [
    "print (make_missing_value_dict(X_train_mvt1))"
   ]
  },
  {
   "cell_type": "code",
   "execution_count": 23,
   "metadata": {},
   "outputs": [
    {
     "name": "stdout",
     "output_type": "stream",
     "text": [
      "47 float64\n"
     ]
    }
   ],
   "source": [
    "print(len(X_train_mvt1['N5'].unique()), X_train_mvt1['N5'].dtype)"
   ]
  },
  {
   "cell_type": "code",
   "execution_count": 24,
   "metadata": {},
   "outputs": [
    {
     "data": {
      "image/png": "[encoded data removed]",
      "text/plain": [
       "<Figure size 432x288 with 1 Axes>"
      ]
     },
     "metadata": {},
     "output_type": "display_data"
    }
   ],
   "source": [
    "X_train_mvt1['N5'].plot.hist();"
   ]
  },
  {
   "cell_type": "code",
   "execution_count": 25,
   "metadata": {},
   "outputs": [
    {
     "data": {
      "text/plain": [
       "True"
      ]
     },
     "execution_count": 25,
     "metadata": {},
     "output_type": "execute_result"
    }
   ],
   "source": [
    "N5_median = X_train_mvt1['N5'].median(axis=0)\n",
    "\n",
    "X_train_mvt1['N5'].replace(np.nan, N5_median, inplace=True)\n",
    "\n",
    "X_train_mvt1['N5'].describe()['count'] == nrows"
   ]
  },
  {
   "cell_type": "code",
   "execution_count": 26,
   "metadata": {},
   "outputs": [
    {
     "name": "stdout",
     "output_type": "stream",
     "text": [
      "27 float64\n"
     ]
    }
   ],
   "source": [
    "print(len(X_train_mvt1['N6'].unique()), X_train_mvt1['N6'].dtype)"
   ]
  },
  {
   "cell_type": "code",
   "execution_count": 27,
   "metadata": {},
   "outputs": [
    {
     "data": {
      "image/png": "[encoded data removed]",
      "text/plain": [
       "<Figure size 432x288 with 1 Axes>"
      ]
     },
     "metadata": {},
     "output_type": "display_data"
    }
   ],
   "source": [
    "X_train_mvt1['N6'].plot.hist();"
   ]
  },
  {
   "cell_type": "code",
   "execution_count": 28,
   "metadata": {},
   "outputs": [
    {
     "data": {
      "text/plain": [
       "True"
      ]
     },
     "execution_count": 28,
     "metadata": {},
     "output_type": "execute_result"
    }
   ],
   "source": [
    "N6_median = X_train_mvt1['N6'].median(axis=0)\n",
    "\n",
    "X_train_mvt1['N6'].replace(np.nan, N6_median, inplace=True)\n",
    "\n",
    "X_train_mvt1['N6'].describe()['count'] == nrows"
   ]
  },
  {
   "cell_type": "code",
   "execution_count": 29,
   "metadata": {},
   "outputs": [
    {
     "name": "stdout",
     "output_type": "stream",
     "text": [
      "{'C1': 0, 'C2': 0, 'C3': 0, 'C4': 0, 'C5': 0, 'C6': 0, 'C7': 0, 'C8': 0, 'N1': 0, 'N2': 0, 'N3': 0, 'N4': 0, 'N5': 0, 'N6': 0, 'N7': 427, 'N8': 0, 'N9': 0, 'N10': 427, 'N10.1': 427, 'N11': 716, 'N12': 4614, 'N14': 608, 'N15': 427, 'N16': 4606, 'N17': 4606, 'N18': 4606, 'N19': 4571, 'N20': 4571, 'N21': 4571, 'N22': 4571, 'N23': 2486, 'N24': 0, 'N33': 0, 'N34': 0, 'N35': 427}\n"
     ]
    }
   ],
   "source": [
    "print (make_missing_value_dict(X_train_mvt1))"
   ]
  },
  {
   "cell_type": "code",
   "execution_count": 30,
   "metadata": {},
   "outputs": [
    {
     "name": "stdout",
     "output_type": "stream",
     "text": [
      "109 float64\n"
     ]
    }
   ],
   "source": [
    "print(len(X_train_mvt1['N7'].unique()), X_train_mvt1['N7'].dtype)"
   ]
  },
  {
   "cell_type": "code",
   "execution_count": 31,
   "metadata": {},
   "outputs": [
    {
     "data": {
      "image/png": "[encoded data removed]",
      "text/plain": [
       "<Figure size 432x288 with 1 Axes>"
      ]
     },
     "metadata": {},
     "output_type": "display_data"
    }
   ],
   "source": [
    "X_train_mvt1['N7'].plot.hist();"
   ]
  },
  {
   "cell_type": "code",
   "execution_count": 32,
   "metadata": {},
   "outputs": [
    {
     "data": {
      "text/plain": [
       "True"
      ]
     },
     "execution_count": 32,
     "metadata": {},
     "output_type": "execute_result"
    }
   ],
   "source": [
    "N7_median = X_train_mvt1['N7'].median(axis=0)\n",
    "\n",
    "X_train_mvt1['N7'].replace(np.nan, N7_median, inplace=True)\n",
    "\n",
    "X_train_mvt1['N7'].describe()['count'] == nrows"
   ]
  },
  {
   "cell_type": "code",
   "execution_count": 33,
   "metadata": {},
   "outputs": [
    {
     "name": "stdout",
     "output_type": "stream",
     "text": [
      "43 float64\n"
     ]
    }
   ],
   "source": [
    "print(len(X_train_mvt1['N10'].unique()), X_train_mvt1['N10'].dtype)"
   ]
  },
  {
   "cell_type": "code",
   "execution_count": 34,
   "metadata": {
    "scrolled": false
   },
   "outputs": [
    {
     "data": {
      "image/png": "[encoded data removed]",
      "text/plain": [
       "<Figure size 432x288 with 1 Axes>"
      ]
     },
     "metadata": {},
     "output_type": "display_data"
    }
   ],
   "source": [
    "X_train_mvt1['N10'].plot.hist();"
   ]
  },
  {
   "cell_type": "code",
   "execution_count": 35,
   "metadata": {},
   "outputs": [
    {
     "data": {
      "text/plain": [
       "0.0     0.736934\n",
       "1.0     0.111762\n",
       "2.0     0.047574\n",
       "3.0     0.026270\n",
       "4.0     0.018208\n",
       "5.0     0.012997\n",
       "6.0     0.009993\n",
       "7.0     0.007081\n",
       "8.0     0.005916\n",
       "9.0     0.004475\n",
       "10.0    0.003372\n",
       "11.0    0.002851\n",
       "12.0    0.002360\n",
       "15.0    0.001471\n",
       "14.0    0.001471\n",
       "13.0    0.001410\n",
       "16.0    0.001042\n",
       "18.0    0.000674\n",
       "17.0    0.000644\n",
       "20.0    0.000613\n",
       "21.0    0.000613\n",
       "19.0    0.000460\n",
       "22.0    0.000398\n",
       "23.0    0.000215\n",
       "31.0    0.000123\n",
       "32.0    0.000123\n",
       "24.0    0.000123\n",
       "27.0    0.000123\n",
       "26.0    0.000092\n",
       "25.0    0.000092\n",
       "28.0    0.000092\n",
       "41.0    0.000061\n",
       "35.0    0.000061\n",
       "36.0    0.000061\n",
       "82.0    0.000031\n",
       "37.0    0.000031\n",
       "83.0    0.000031\n",
       "40.0    0.000031\n",
       "59.0    0.000031\n",
       "50.0    0.000031\n",
       "30.0    0.000031\n",
       "39.0    0.000031\n",
       "Name: N10, dtype: float64"
      ]
     },
     "execution_count": 35,
     "metadata": {},
     "output_type": "execute_result"
    }
   ],
   "source": [
    "X_train_mvt1['N10'].value_counts(normalize=True)"
   ]
  },
  {
   "cell_type": "markdown",
   "metadata": {},
   "source": [
    "73% values are 0. So we replace missing values by 0"
   ]
  },
  {
   "cell_type": "code",
   "execution_count": 36,
   "metadata": {},
   "outputs": [
    {
     "data": {
      "text/plain": [
       "True"
      ]
     },
     "execution_count": 36,
     "metadata": {},
     "output_type": "execute_result"
    }
   ],
   "source": [
    "X_train_mvt1['N10'].replace(np.nan, 0, inplace=True)\n",
    "\n",
    "X_train_mvt1['N10'].describe()['count'] == nrows"
   ]
  },
  {
   "cell_type": "code",
   "execution_count": 37,
   "metadata": {},
   "outputs": [
    {
     "name": "stdout",
     "output_type": "stream",
     "text": [
      "{'C1': 0, 'C2': 0, 'C3': 0, 'C4': 0, 'C5': 0, 'C6': 0, 'C7': 0, 'C8': 0, 'N1': 0, 'N2': 0, 'N3': 0, 'N4': 0, 'N5': 0, 'N6': 0, 'N7': 0, 'N8': 0, 'N9': 0, 'N10': 0, 'N10.1': 427, 'N11': 716, 'N12': 4614, 'N14': 608, 'N15': 427, 'N16': 4606, 'N17': 4606, 'N18': 4606, 'N19': 4571, 'N20': 4571, 'N21': 4571, 'N22': 4571, 'N23': 2486, 'N24': 0, 'N33': 0, 'N34': 0, 'N35': 427}\n"
     ]
    }
   ],
   "source": [
    "print (make_missing_value_dict(X_train_mvt1))"
   ]
  },
  {
   "cell_type": "code",
   "execution_count": 38,
   "metadata": {},
   "outputs": [
    {
     "name": "stdout",
     "output_type": "stream",
     "text": [
      "47 float64\n"
     ]
    }
   ],
   "source": [
    "print(len(X_train_mvt1['N10.1'].unique()), X_train_mvt1['N10.1'].dtype)"
   ]
  },
  {
   "cell_type": "code",
   "execution_count": 39,
   "metadata": {},
   "outputs": [
    {
     "data": {
      "image/png": "[encoded data removed]",
      "text/plain": [
       "<Figure size 432x288 with 1 Axes>"
      ]
     },
     "metadata": {},
     "output_type": "display_data"
    }
   ],
   "source": [
    "X_train_mvt1['N10.1'].plot.hist();"
   ]
  },
  {
   "cell_type": "markdown",
   "metadata": {},
   "source": [
    "N10 and N10.1 seem similar columns.. So we explore them more"
   ]
  },
  {
   "cell_type": "code",
   "execution_count": 40,
   "metadata": {
    "scrolled": false
   },
   "outputs": [
    {
     "data": {
      "image/png": "[encoded data removed]",
      "text/plain": [
       "<Figure size 432x288 with 1 Axes>"
      ]
     },
     "metadata": {},
     "output_type": "display_data"
    }
   ],
   "source": [
    "X_train_mvt1.plot(x='N10', y='N10.1', kind='scatter');"
   ]
  },
  {
   "cell_type": "code",
   "execution_count": 41,
   "metadata": {},
   "outputs": [
    {
     "data": {
      "text/html": [
       "<div>\n",
       "<style scoped>\n",
       "    .dataframe tbody tr th:only-of-type {\n",
       "        vertical-align: middle;\n",
       "    }\n",
       "\n",
       "    .dataframe tbody tr th {\n",
       "        vertical-align: top;\n",
       "    }\n",
       "\n",
       "    .dataframe thead th {\n",
       "        text-align: right;\n",
       "    }\n",
       "</style>\n",
       "<table border=\"1\" class=\"dataframe\">\n",
       "  <thead>\n",
       "    <tr style=\"text-align: right;\">\n",
       "      <th></th>\n",
       "      <th>N10</th>\n",
       "      <th>N10.1</th>\n",
       "    </tr>\n",
       "  </thead>\n",
       "  <tbody>\n",
       "    <tr>\n",
       "      <th>N10</th>\n",
       "      <td>1.000000</td>\n",
       "      <td>0.143459</td>\n",
       "    </tr>\n",
       "    <tr>\n",
       "      <th>N10.1</th>\n",
       "      <td>0.143459</td>\n",
       "      <td>1.000000</td>\n",
       "    </tr>\n",
       "  </tbody>\n",
       "</table>\n",
       "</div>"
      ],
      "text/plain": [
       "            N10     N10.1\n",
       "N10    1.000000  0.143459\n",
       "N10.1  0.143459  1.000000"
      ]
     },
     "execution_count": 41,
     "metadata": {},
     "output_type": "execute_result"
    }
   ],
   "source": [
    "X_train_mvt1[['N10', 'N10.1']].corr()"
   ]
  },
  {
   "cell_type": "code",
   "execution_count": 42,
   "metadata": {},
   "outputs": [
    {
     "data": {
      "text/plain": [
       "0.0      0.349937\n",
       "1.0      0.241547\n",
       "2.0      0.141740\n",
       "3.0      0.088496\n",
       "4.0      0.053030\n",
       "5.0      0.035159\n",
       "6.0      0.023848\n",
       "7.0      0.015602\n",
       "8.0      0.011863\n",
       "9.0      0.008338\n",
       "10.0     0.006223\n",
       "11.0     0.004751\n",
       "12.0     0.003893\n",
       "13.0     0.003280\n",
       "14.0     0.002238\n",
       "15.0     0.002023\n",
       "16.0     0.001441\n",
       "17.0     0.000920\n",
       "21.0     0.000889\n",
       "18.0     0.000889\n",
       "20.0     0.000613\n",
       "19.0     0.000460\n",
       "22.0     0.000429\n",
       "24.0     0.000368\n",
       "25.0     0.000276\n",
       "23.0     0.000276\n",
       "26.0     0.000215\n",
       "27.0     0.000184\n",
       "31.0     0.000153\n",
       "28.0     0.000153\n",
       "29.0     0.000092\n",
       "44.0     0.000061\n",
       "32.0     0.000061\n",
       "34.0     0.000061\n",
       "30.0     0.000061\n",
       "35.0     0.000061\n",
       "38.0     0.000061\n",
       "40.0     0.000061\n",
       "53.0     0.000031\n",
       "37.0     0.000031\n",
       "46.0     0.000031\n",
       "52.0     0.000031\n",
       "33.0     0.000031\n",
       "41.0     0.000031\n",
       "105.0    0.000031\n",
       "97.0     0.000031\n",
       "Name: N10.1, dtype: float64"
      ]
     },
     "execution_count": 42,
     "metadata": {},
     "output_type": "execute_result"
    }
   ],
   "source": [
    "X_train_mvt1['N10.1'].value_counts(normalize=True)"
   ]
  },
  {
   "cell_type": "code",
   "execution_count": 43,
   "metadata": {},
   "outputs": [
    {
     "data": {
      "text/plain": [
       "True"
      ]
     },
     "execution_count": 43,
     "metadata": {},
     "output_type": "execute_result"
    }
   ],
   "source": [
    "N10_1_median = X_train_mvt1['N10.1'].median(axis=0)\n",
    "\n",
    "X_train_mvt1['N10.1'].replace(np.nan, N10_1_median, inplace=True)\n",
    "\n",
    "X_train_mvt1['N10.1'].describe()['count'] == nrows"
   ]
  },
  {
   "cell_type": "code",
   "execution_count": 44,
   "metadata": {},
   "outputs": [
    {
     "name": "stdout",
     "output_type": "stream",
     "text": [
      "{'C1': 0, 'C2': 0, 'C3': 0, 'C4': 0, 'C5': 0, 'C6': 0, 'C7': 0, 'C8': 0, 'N1': 0, 'N2': 0, 'N3': 0, 'N4': 0, 'N5': 0, 'N6': 0, 'N7': 0, 'N8': 0, 'N9': 0, 'N10': 0, 'N10.1': 0, 'N11': 716, 'N12': 4614, 'N14': 608, 'N15': 427, 'N16': 4606, 'N17': 4606, 'N18': 4606, 'N19': 4571, 'N20': 4571, 'N21': 4571, 'N22': 4571, 'N23': 2486, 'N24': 0, 'N33': 0, 'N34': 0, 'N35': 427}\n"
     ]
    }
   ],
   "source": [
    "print (make_missing_value_dict(X_train_mvt1))"
   ]
  },
  {
   "cell_type": "code",
   "execution_count": 45,
   "metadata": {},
   "outputs": [
    {
     "name": "stdout",
     "output_type": "stream",
     "text": [
      "91 float64\n"
     ]
    }
   ],
   "source": [
    "print(len(X_train_mvt1['N11'].unique()), X_train_mvt1['N11'].dtype)"
   ]
  },
  {
   "cell_type": "code",
   "execution_count": 46,
   "metadata": {},
   "outputs": [
    {
     "data": {
      "image/png": "[encoded data removed]",
      "text/plain": [
       "<Figure size 432x288 with 1 Axes>"
      ]
     },
     "metadata": {},
     "output_type": "display_data"
    }
   ],
   "source": [
    "X_train_mvt1['N11'].plot.hist();"
   ]
  },
  {
   "cell_type": "code",
   "execution_count": 47,
   "metadata": {},
   "outputs": [
    {
     "data": {
      "text/plain": [
       "2.0      0.114400\n",
       "3.0      0.103142\n",
       "1.0      0.098905\n",
       "4.0      0.096462\n",
       "5.0      0.085978\n",
       "6.0      0.067483\n",
       "0.0      0.058762\n",
       "7.0      0.055793\n",
       "8.0      0.046082\n",
       "9.0      0.039278\n",
       "10.0     0.032133\n",
       "11.0     0.027618\n",
       "12.0     0.022762\n",
       "13.0     0.019391\n",
       "14.0     0.015866\n",
       "15.0     0.013051\n",
       "16.0     0.012247\n",
       "17.0     0.010670\n",
       "18.0     0.008721\n",
       "19.0     0.008165\n",
       "20.0     0.006990\n",
       "21.0     0.006247\n",
       "22.0     0.005196\n",
       "23.0     0.004886\n",
       "25.0     0.003711\n",
       "24.0     0.003557\n",
       "27.0     0.003433\n",
       "26.0     0.003340\n",
       "28.0     0.002660\n",
       "29.0     0.002103\n",
       "           ...   \n",
       "63.0     0.000124\n",
       "64.0     0.000124\n",
       "55.0     0.000124\n",
       "70.0     0.000124\n",
       "57.0     0.000093\n",
       "60.0     0.000093\n",
       "66.0     0.000093\n",
       "67.0     0.000093\n",
       "68.0     0.000093\n",
       "71.0     0.000062\n",
       "97.0     0.000062\n",
       "77.0     0.000062\n",
       "82.0     0.000062\n",
       "96.0     0.000062\n",
       "93.0     0.000062\n",
       "90.0     0.000062\n",
       "85.0     0.000062\n",
       "377.0    0.000031\n",
       "105.0    0.000031\n",
       "79.0     0.000031\n",
       "69.0     0.000031\n",
       "76.0     0.000031\n",
       "59.0     0.000031\n",
       "78.0     0.000031\n",
       "86.0     0.000031\n",
       "88.0     0.000031\n",
       "379.0    0.000031\n",
       "83.0     0.000031\n",
       "109.0    0.000031\n",
       "75.0     0.000031\n",
       "Name: N11, Length: 90, dtype: float64"
      ]
     },
     "execution_count": 47,
     "metadata": {},
     "output_type": "execute_result"
    }
   ],
   "source": [
    "X_train_mvt1['N11'].value_counts(normalize=True)"
   ]
  },
  {
   "cell_type": "code",
   "execution_count": 48,
   "metadata": {},
   "outputs": [
    {
     "data": {
      "text/plain": [
       "True"
      ]
     },
     "execution_count": 48,
     "metadata": {},
     "output_type": "execute_result"
    }
   ],
   "source": [
    "N11_median = X_train_mvt1['N11'].median(axis=0)\n",
    "\n",
    "X_train_mvt1['N11'].replace(np.nan, N11_median, inplace=True)\n",
    "\n",
    "X_train_mvt1['N11'].describe()['count'] == nrows"
   ]
  },
  {
   "cell_type": "code",
   "execution_count": 49,
   "metadata": {},
   "outputs": [
    {
     "name": "stdout",
     "output_type": "stream",
     "text": [
      "3289 float64\n"
     ]
    }
   ],
   "source": [
    "print(len(X_train_mvt1['N12'].unique()), X_train_mvt1['N12'].dtype)"
   ]
  },
  {
   "cell_type": "code",
   "execution_count": 50,
   "metadata": {},
   "outputs": [
    {
     "data": {
      "image/png": "[encoded data removed]",
      "text/plain": [
       "<Figure size 432x288 with 1 Axes>"
      ]
     },
     "metadata": {},
     "output_type": "display_data"
    }
   ],
   "source": [
    "X_train_mvt1['N12'].plot.hist(bins = 20);"
   ]
  },
  {
   "cell_type": "code",
   "execution_count": 51,
   "metadata": {},
   "outputs": [
    {
     "data": {
      "text/plain": [
       "0.0        0.809256\n",
       "100.0      0.001055\n",
       "50.0       0.000985\n",
       "30.0       0.000914\n",
       "25.0       0.000633\n",
       "130.0      0.000633\n",
       "10.0       0.000528\n",
       "75.0       0.000528\n",
       "40.0       0.000492\n",
       "20.0       0.000457\n",
       "15.0       0.000457\n",
       "68.0       0.000457\n",
       "200.0      0.000457\n",
       "71.0       0.000387\n",
       "269.0      0.000387\n",
       "67.0       0.000387\n",
       "60.0       0.000387\n",
       "55.0       0.000387\n",
       "76.0       0.000387\n",
       "64.0       0.000352\n",
       "134.0      0.000352\n",
       "135.0      0.000352\n",
       "90.0       0.000352\n",
       "115.0      0.000317\n",
       "107.0      0.000317\n",
       "110.0      0.000317\n",
       "36.0       0.000317\n",
       "185.0      0.000317\n",
       "80.0       0.000317\n",
       "228.0      0.000317\n",
       "             ...   \n",
       "10969.0    0.000035\n",
       "994.0      0.000035\n",
       "11760.0    0.000035\n",
       "10336.0    0.000035\n",
       "3483.0     0.000035\n",
       "6206.0     0.000035\n",
       "2598.0     0.000035\n",
       "13931.0    0.000035\n",
       "3161.0     0.000035\n",
       "13937.0    0.000035\n",
       "8492.0     0.000035\n",
       "6458.0     0.000035\n",
       "5437.0     0.000035\n",
       "4804.0     0.000035\n",
       "7499.0     0.000035\n",
       "17649.0    0.000035\n",
       "5436.0     0.000035\n",
       "9180.0     0.000035\n",
       "19695.0    0.000035\n",
       "1983.0     0.000035\n",
       "7816.0     0.000035\n",
       "4411.0     0.000035\n",
       "23676.0    0.000035\n",
       "6438.0     0.000035\n",
       "27883.0    0.000035\n",
       "19690.0    0.000035\n",
       "70567.0    0.000035\n",
       "4001.0     0.000035\n",
       "1017.0     0.000035\n",
       "11775.0    0.000035\n",
       "Name: N12, Length: 3288, dtype: float64"
      ]
     },
     "execution_count": 51,
     "metadata": {},
     "output_type": "execute_result"
    }
   ],
   "source": [
    "X_train_mvt1['N12'].value_counts(normalize=True)"
   ]
  },
  {
   "cell_type": "markdown",
   "metadata": {},
   "source": [
    "Almost 81% of the values are 0. So we simply replace missing values with 0 for N12"
   ]
  },
  {
   "cell_type": "code",
   "execution_count": 52,
   "metadata": {},
   "outputs": [
    {
     "data": {
      "text/plain": [
       "True"
      ]
     },
     "execution_count": 52,
     "metadata": {},
     "output_type": "execute_result"
    }
   ],
   "source": [
    "X_train_mvt1['N12'].replace(np.nan, 0, inplace=True)\n",
    "\n",
    "X_train_mvt1['N12'].describe()['count'] == nrows"
   ]
  },
  {
   "cell_type": "code",
   "execution_count": 53,
   "metadata": {},
   "outputs": [
    {
     "name": "stdout",
     "output_type": "stream",
     "text": [
      "{'C1': 0, 'C2': 0, 'C3': 0, 'C4': 0, 'C5': 0, 'C6': 0, 'C7': 0, 'C8': 0, 'N1': 0, 'N2': 0, 'N3': 0, 'N4': 0, 'N5': 0, 'N6': 0, 'N7': 0, 'N8': 0, 'N9': 0, 'N10': 0, 'N10.1': 0, 'N11': 0, 'N12': 0, 'N14': 608, 'N15': 427, 'N16': 4606, 'N17': 4606, 'N18': 4606, 'N19': 4571, 'N20': 4571, 'N21': 4571, 'N22': 4571, 'N23': 2486, 'N24': 0, 'N33': 0, 'N34': 0, 'N35': 427}\n"
     ]
    }
   ],
   "source": [
    "print (make_missing_value_dict(X_train_mvt1))"
   ]
  },
  {
   "cell_type": "code",
   "execution_count": 54,
   "metadata": {},
   "outputs": [
    {
     "name": "stdout",
     "output_type": "stream",
     "text": [
      "97 float64\n"
     ]
    }
   ],
   "source": [
    "print(len(X_train_mvt1['N14'].unique()), X_train_mvt1['N14'].dtype)"
   ]
  },
  {
   "cell_type": "code",
   "execution_count": 55,
   "metadata": {},
   "outputs": [
    {
     "data": {
      "image/png": "[encoded data removed]",
      "text/plain": [
       "<Figure size 432x288 with 1 Axes>"
      ]
     },
     "metadata": {},
     "output_type": "display_data"
    }
   ],
   "source": [
    "X_train_mvt1['N14'].plot.hist(bins = 20);"
   ]
  },
  {
   "cell_type": "code",
   "execution_count": 56,
   "metadata": {
    "scrolled": false
   },
   "outputs": [
    {
     "data": {
      "text/plain": [
       "0.0     0.643364\n",
       "1.0     0.038284\n",
       "3.0     0.031194\n",
       "2.0     0.028204\n",
       "4.0     0.026139\n",
       "6.0     0.018587\n",
       "7.0     0.017231\n",
       "5.0     0.017107\n",
       "8.0     0.014826\n",
       "9.0     0.012052\n",
       "10.0    0.011929\n",
       "11.0    0.011097\n",
       "12.0    0.010419\n",
       "14.0    0.007953\n",
       "13.0    0.007675\n",
       "15.0    0.007429\n",
       "16.0    0.006319\n",
       "17.0    0.006196\n",
       "20.0    0.005148\n",
       "18.0    0.004963\n",
       "19.0    0.004747\n",
       "22.0    0.004285\n",
       "23.0    0.004100\n",
       "21.0    0.004100\n",
       "27.0    0.003576\n",
       "24.0    0.003483\n",
       "26.0    0.003391\n",
       "25.0    0.003360\n",
       "28.0    0.002897\n",
       "29.0    0.002497\n",
       "          ...   \n",
       "75.0    0.000216\n",
       "72.0    0.000216\n",
       "64.0    0.000216\n",
       "61.0    0.000216\n",
       "67.0    0.000185\n",
       "73.0    0.000154\n",
       "76.0    0.000154\n",
       "87.0    0.000154\n",
       "84.0    0.000123\n",
       "63.0    0.000123\n",
       "77.0    0.000123\n",
       "78.0    0.000092\n",
       "79.0    0.000092\n",
       "74.0    0.000092\n",
       "86.0    0.000092\n",
       "82.0    0.000092\n",
       "80.0    0.000092\n",
       "88.0    0.000092\n",
       "68.0    0.000092\n",
       "70.0    0.000062\n",
       "92.0    0.000062\n",
       "71.0    0.000062\n",
       "83.0    0.000062\n",
       "89.0    0.000062\n",
       "93.0    0.000031\n",
       "97.0    0.000031\n",
       "85.0    0.000031\n",
       "98.0    0.000031\n",
       "96.0    0.000031\n",
       "90.0    0.000031\n",
       "Name: N14, Length: 96, dtype: float64"
      ]
     },
     "execution_count": 56,
     "metadata": {},
     "output_type": "execute_result"
    }
   ],
   "source": [
    "X_train_mvt1['N14'].value_counts(normalize=True)"
   ]
  },
  {
   "cell_type": "code",
   "execution_count": 57,
   "metadata": {},
   "outputs": [
    {
     "data": {
      "text/plain": [
       "True"
      ]
     },
     "execution_count": 57,
     "metadata": {},
     "output_type": "execute_result"
    }
   ],
   "source": [
    "N14_median = X_train_mvt1['N14'].median(axis=0)\n",
    "\n",
    "X_train_mvt1['N14'].replace(np.nan, N14_median, inplace=True)\n",
    "\n",
    "X_train_mvt1['N14'].describe()['count'] == nrows"
   ]
  },
  {
   "cell_type": "code",
   "execution_count": 58,
   "metadata": {},
   "outputs": [
    {
     "name": "stdout",
     "output_type": "stream",
     "text": [
      "20 float64\n"
     ]
    }
   ],
   "source": [
    "print(len(X_train_mvt1['N15'].unique()), X_train_mvt1['N15'].dtype)"
   ]
  },
  {
   "cell_type": "code",
   "execution_count": 59,
   "metadata": {},
   "outputs": [
    {
     "data": {
      "image/png": "[encoded data removed]",
      "text/plain": [
       "<Figure size 432x288 with 1 Axes>"
      ]
     },
     "metadata": {},
     "output_type": "display_data"
    }
   ],
   "source": [
    "X_train_mvt1['N15'].plot.hist(bins = 20);"
   ]
  },
  {
   "cell_type": "code",
   "execution_count": 60,
   "metadata": {},
   "outputs": [
    {
     "data": {
      "text/plain": [
       "0.0     0.761119\n",
       "1.0     0.188456\n",
       "2.0     0.031849\n",
       "3.0     0.010269\n",
       "4.0     0.003617\n",
       "5.0     0.001962\n",
       "6.0     0.000950\n",
       "7.0     0.000613\n",
       "8.0     0.000337\n",
       "9.0     0.000307\n",
       "10.0    0.000153\n",
       "11.0    0.000092\n",
       "12.0    0.000061\n",
       "15.0    0.000061\n",
       "22.0    0.000031\n",
       "16.0    0.000031\n",
       "21.0    0.000031\n",
       "17.0    0.000031\n",
       "30.0    0.000031\n",
       "Name: N15, dtype: float64"
      ]
     },
     "execution_count": 60,
     "metadata": {},
     "output_type": "execute_result"
    }
   ],
   "source": [
    "X_train_mvt1['N15'].value_counts(normalize=True)"
   ]
  },
  {
   "cell_type": "markdown",
   "metadata": {},
   "source": [
    "Almost 77% of the values are 0. So we simply replace missing values with 0 for N15"
   ]
  },
  {
   "cell_type": "code",
   "execution_count": 61,
   "metadata": {},
   "outputs": [
    {
     "data": {
      "text/plain": [
       "True"
      ]
     },
     "execution_count": 61,
     "metadata": {},
     "output_type": "execute_result"
    }
   ],
   "source": [
    "X_train_mvt1['N15'].replace(np.nan, 0, inplace=True)\n",
    "\n",
    "X_train_mvt1['N15'].describe()['count'] == nrows"
   ]
  },
  {
   "cell_type": "code",
   "execution_count": 62,
   "metadata": {
    "scrolled": true
   },
   "outputs": [
    {
     "name": "stdout",
     "output_type": "stream",
     "text": [
      "7 float64\n"
     ]
    }
   ],
   "source": [
    "print(len(X_train_mvt1['N16'].unique()), X_train_mvt1['N16'].dtype)"
   ]
  },
  {
   "cell_type": "code",
   "execution_count": 63,
   "metadata": {
    "scrolled": true
   },
   "outputs": [
    {
     "data": {
      "image/png": "[encoded data removed]",
      "text/plain": [
       "<Figure size 432x288 with 1 Axes>"
      ]
     },
     "metadata": {},
     "output_type": "display_data"
    }
   ],
   "source": [
    "X_train_mvt1['N16'].plot.hist(bins = 20);"
   ]
  },
  {
   "cell_type": "code",
   "execution_count": 64,
   "metadata": {},
   "outputs": [
    {
     "data": {
      "text/plain": [
       "0.0    0.979539\n",
       "1.0    0.018563\n",
       "2.0    0.001301\n",
       "3.0    0.000457\n",
       "4.0    0.000105\n",
       "7.0    0.000035\n",
       "Name: N16, dtype: float64"
      ]
     },
     "execution_count": 64,
     "metadata": {},
     "output_type": "execute_result"
    }
   ],
   "source": [
    "X_train_mvt1['N16'].value_counts(normalize=True)"
   ]
  },
  {
   "cell_type": "code",
   "execution_count": 65,
   "metadata": {},
   "outputs": [
    {
     "data": {
      "text/plain": [
       "True"
      ]
     },
     "execution_count": 65,
     "metadata": {},
     "output_type": "execute_result"
    }
   ],
   "source": [
    "X_train_mvt1['N16'].replace(np.nan, 0, inplace=True)\n",
    "\n",
    "X_train_mvt1['N16'].describe()['count'] == nrows"
   ]
  },
  {
   "cell_type": "code",
   "execution_count": 66,
   "metadata": {},
   "outputs": [
    {
     "name": "stdout",
     "output_type": "stream",
     "text": [
      "{'C1': 0, 'C2': 0, 'C3': 0, 'C4': 0, 'C5': 0, 'C6': 0, 'C7': 0, 'C8': 0, 'N1': 0, 'N2': 0, 'N3': 0, 'N4': 0, 'N5': 0, 'N6': 0, 'N7': 0, 'N8': 0, 'N9': 0, 'N10': 0, 'N10.1': 0, 'N11': 0, 'N12': 0, 'N14': 0, 'N15': 0, 'N16': 0, 'N17': 4606, 'N18': 4606, 'N19': 4571, 'N20': 4571, 'N21': 4571, 'N22': 4571, 'N23': 2486, 'N24': 0, 'N33': 0, 'N34': 0, 'N35': 427}\n"
     ]
    }
   ],
   "source": [
    "print (make_missing_value_dict(X_train_mvt1))"
   ]
  },
  {
   "cell_type": "code",
   "execution_count": 67,
   "metadata": {},
   "outputs": [
    {
     "name": "stdout",
     "output_type": "stream",
     "text": [
      "16616 float64\n"
     ]
    }
   ],
   "source": [
    "print(len(X_train_mvt1['N17'].unique()), X_train_mvt1['N17'].dtype)"
   ]
  },
  {
   "cell_type": "code",
   "execution_count": 68,
   "metadata": {},
   "outputs": [
    {
     "data": {
      "image/png": "[encoded data removed]",
      "text/plain": [
       "<Figure size 432x288 with 1 Axes>"
      ]
     },
     "metadata": {},
     "output_type": "display_data"
    }
   ],
   "source": [
    "X_train_mvt1['N17'].plot.hist(bins = 20);"
   ]
  },
  {
   "cell_type": "code",
   "execution_count": 69,
   "metadata": {
    "scrolled": true
   },
   "outputs": [
    {
     "data": {
      "text/plain": [
       "0.0         0.066095\n",
       "59.0        0.000492\n",
       "287.0       0.000387\n",
       "256.0       0.000387\n",
       "75.0        0.000387\n",
       "300.0       0.000387\n",
       "239.0       0.000387\n",
       "39.0        0.000387\n",
       "421.0       0.000352\n",
       "283.0       0.000352\n",
       "261.0       0.000352\n",
       "500.0       0.000352\n",
       "400.0       0.000352\n",
       "6.0         0.000352\n",
       "1495.0      0.000352\n",
       "11.0        0.000352\n",
       "50.0        0.000352\n",
       "489.0       0.000352\n",
       "80.0        0.000352\n",
       "222.0       0.000352\n",
       "292.0       0.000352\n",
       "110.0       0.000316\n",
       "28.0        0.000316\n",
       "19.0        0.000316\n",
       "265.0       0.000316\n",
       "301.0       0.000316\n",
       "200.0       0.000316\n",
       "866.0       0.000316\n",
       "298.0       0.000316\n",
       "220.0       0.000316\n",
       "              ...   \n",
       "16191.0     0.000035\n",
       "18153.0     0.000035\n",
       "14080.0     0.000035\n",
       "13361.0     0.000035\n",
       "102143.0    0.000035\n",
       "34353.0     0.000035\n",
       "57418.0     0.000035\n",
       "10063.0     0.000035\n",
       "15841.0     0.000035\n",
       "25768.0     0.000035\n",
       "63340.0     0.000035\n",
       "14152.0     0.000035\n",
       "19275.0     0.000035\n",
       "691.0       0.000035\n",
       "52473.0     0.000035\n",
       "8485.0      0.000035\n",
       "8674.0      0.000035\n",
       "9630.0      0.000035\n",
       "16714.0     0.000035\n",
       "7655.0      0.000035\n",
       "2925.0      0.000035\n",
       "3243.0      0.000035\n",
       "17347.0     0.000035\n",
       "18045.0     0.000035\n",
       "16314.0     0.000035\n",
       "38789.0     0.000035\n",
       "27266.0     0.000035\n",
       "7572.0      0.000035\n",
       "3846.0      0.000035\n",
       "47132.0     0.000035\n",
       "Name: N17, Length: 16615, dtype: float64"
      ]
     },
     "execution_count": 69,
     "metadata": {},
     "output_type": "execute_result"
    }
   ],
   "source": [
    "X_train_mvt1['N17'].value_counts(normalize=True)"
   ]
  },
  {
   "cell_type": "code",
   "execution_count": 70,
   "metadata": {},
   "outputs": [
    {
     "data": {
      "text/plain": [
       "True"
      ]
     },
     "execution_count": 70,
     "metadata": {},
     "output_type": "execute_result"
    }
   ],
   "source": [
    "N17_median = X_train_mvt1['N17'].median(axis=0)\n",
    "\n",
    "X_train_mvt1['N17'].replace(np.nan, N17_median, inplace=True)\n",
    "\n",
    "X_train_mvt1['N17'].describe()['count'] == nrows"
   ]
  },
  {
   "cell_type": "code",
   "execution_count": 71,
   "metadata": {},
   "outputs": [
    {
     "name": "stdout",
     "output_type": "stream",
     "text": [
      "184 float64\n"
     ]
    }
   ],
   "source": [
    "print(len(X_train_mvt1['N18'].unique()), X_train_mvt1['N18'].dtype)"
   ]
  },
  {
   "cell_type": "code",
   "execution_count": 72,
   "metadata": {},
   "outputs": [
    {
     "data": {
      "image/png": "[encoded data removed]",
      "text/plain": [
       "<Figure size 432x288 with 1 Axes>"
      ]
     },
     "metadata": {},
     "output_type": "display_data"
    }
   ],
   "source": [
    "X_train_mvt1['N18'].plot.hist(bins = 20);"
   ]
  },
  {
   "cell_type": "code",
   "execution_count": 73,
   "metadata": {},
   "outputs": [
    {
     "data": {
      "text/plain": [
       "True"
      ]
     },
     "execution_count": 73,
     "metadata": {},
     "output_type": "execute_result"
    }
   ],
   "source": [
    "N18_median = X_train_mvt1['N18'].median(axis=0)\n",
    "\n",
    "X_train_mvt1['N18'].replace(np.nan, N18_median, inplace=True)\n",
    "\n",
    "X_train_mvt1['N18'].describe()['count'] == nrows"
   ]
  },
  {
   "cell_type": "code",
   "execution_count": 74,
   "metadata": {},
   "outputs": [
    {
     "name": "stdout",
     "output_type": "stream",
     "text": [
      "14099 float64\n"
     ]
    }
   ],
   "source": [
    "print(len(X_train_mvt1['N19'].unique()), X_train_mvt1['N19'].dtype)"
   ]
  },
  {
   "cell_type": "code",
   "execution_count": 75,
   "metadata": {},
   "outputs": [
    {
     "data": {
      "image/png": "[encoded data removed]",
      "text/plain": [
       "<Figure size 432x288 with 1 Axes>"
      ]
     },
     "metadata": {},
     "output_type": "display_data"
    }
   ],
   "source": [
    "X_train_mvt1['N19'].plot.hist(bins = 20);"
   ]
  },
  {
   "cell_type": "code",
   "execution_count": 76,
   "metadata": {
    "scrolled": true
   },
   "outputs": [
    {
     "data": {
      "text/plain": [
       "0.0         0.075845\n",
       "500.0       0.003968\n",
       "300.0       0.002353\n",
       "1000.0      0.002107\n",
       "2000.0      0.002037\n",
       "3000.0      0.001861\n",
       "1500.0      0.001650\n",
       "5000.0      0.001053\n",
       "2500.0      0.001053\n",
       "11.0        0.001018\n",
       "13.0        0.000948\n",
       "31.0        0.000913\n",
       "25.0        0.000913\n",
       "6.0         0.000913\n",
       "30.0        0.000878\n",
       "32.0        0.000878\n",
       "39.0        0.000843\n",
       "57.0        0.000843\n",
       "75.0        0.000808\n",
       "19.0        0.000808\n",
       "2.0         0.000808\n",
       "10.0        0.000772\n",
       "34.0        0.000772\n",
       "22.0        0.000772\n",
       "70.0        0.000772\n",
       "5.0         0.000772\n",
       "72.0        0.000772\n",
       "10000.0     0.000737\n",
       "51.0        0.000737\n",
       "47.0        0.000737\n",
       "              ...   \n",
       "6935.0      0.000035\n",
       "42895.0     0.000035\n",
       "110365.0    0.000035\n",
       "28268.0     0.000035\n",
       "33140.0     0.000035\n",
       "34702.0     0.000035\n",
       "12739.0     0.000035\n",
       "5925.0      0.000035\n",
       "19600.0     0.000035\n",
       "44291.0     0.000035\n",
       "6096.0      0.000035\n",
       "72191.0     0.000035\n",
       "43363.0     0.000035\n",
       "7433.0      0.000035\n",
       "17397.0     0.000035\n",
       "34711.0     0.000035\n",
       "21820.0     0.000035\n",
       "2291.0      0.000035\n",
       "28838.0     0.000035\n",
       "72189.0     0.000035\n",
       "33202.0     0.000035\n",
       "6722.0      0.000035\n",
       "52479.0     0.000035\n",
       "11749.0     0.000035\n",
       "35882.0     0.000035\n",
       "42899.0     0.000035\n",
       "46000.0     0.000035\n",
       "3969.0      0.000035\n",
       "25545.0     0.000035\n",
       "36845.0     0.000035\n",
       "Name: N19, Length: 14098, dtype: float64"
      ]
     },
     "execution_count": 76,
     "metadata": {},
     "output_type": "execute_result"
    }
   ],
   "source": [
    "X_train_mvt1['N19'].value_counts(normalize=True)"
   ]
  },
  {
   "cell_type": "code",
   "execution_count": 77,
   "metadata": {},
   "outputs": [
    {
     "data": {
      "text/plain": [
       "True"
      ]
     },
     "execution_count": 77,
     "metadata": {},
     "output_type": "execute_result"
    }
   ],
   "source": [
    "N19_median = X_train_mvt1['N19'].median(axis=0)\n",
    "\n",
    "X_train_mvt1['N19'].replace(np.nan, N19_median, inplace=True)\n",
    "\n",
    "X_train_mvt1['N19'].describe()['count'] == nrows"
   ]
  },
  {
   "cell_type": "code",
   "execution_count": 78,
   "metadata": {},
   "outputs": [
    {
     "name": "stdout",
     "output_type": "stream",
     "text": [
      "{'C1': 0, 'C2': 0, 'C3': 0, 'C4': 0, 'C5': 0, 'C6': 0, 'C7': 0, 'C8': 0, 'N1': 0, 'N2': 0, 'N3': 0, 'N4': 0, 'N5': 0, 'N6': 0, 'N7': 0, 'N8': 0, 'N9': 0, 'N10': 0, 'N10.1': 0, 'N11': 0, 'N12': 0, 'N14': 0, 'N15': 0, 'N16': 0, 'N17': 0, 'N18': 0, 'N19': 0, 'N20': 4571, 'N21': 4571, 'N22': 4571, 'N23': 2486, 'N24': 0, 'N33': 0, 'N34': 0, 'N35': 427}\n"
     ]
    }
   ],
   "source": [
    "print (make_missing_value_dict(X_train_mvt1))"
   ]
  },
  {
   "cell_type": "code",
   "execution_count": 79,
   "metadata": {},
   "outputs": [
    {
     "name": "stdout",
     "output_type": "stream",
     "text": [
      "95 float64\n"
     ]
    }
   ],
   "source": [
    "print(len(X_train_mvt1['N20'].unique()), X_train_mvt1['N20'].dtype)"
   ]
  },
  {
   "cell_type": "code",
   "execution_count": 80,
   "metadata": {},
   "outputs": [
    {
     "data": {
      "image/png": "[encoded data removed]",
      "text/plain": [
       "<Figure size 432x288 with 1 Axes>"
      ]
     },
     "metadata": {},
     "output_type": "display_data"
    }
   ],
   "source": [
    "X_train_mvt1['N20'].plot.hist(bins = 20);"
   ]
  },
  {
   "cell_type": "code",
   "execution_count": 81,
   "metadata": {},
   "outputs": [
    {
     "data": {
      "text/plain": [
       "True"
      ]
     },
     "execution_count": 81,
     "metadata": {},
     "output_type": "execute_result"
    }
   ],
   "source": [
    "N20_median = X_train_mvt1['N20'].median(axis=0)\n",
    "\n",
    "X_train_mvt1['N20'].replace(np.nan, N20_median, inplace=True)\n",
    "\n",
    "X_train_mvt1['N20'].describe()['count'] == nrows"
   ]
  },
  {
   "cell_type": "code",
   "execution_count": 82,
   "metadata": {},
   "outputs": [
    {
     "name": "stdout",
     "output_type": "stream",
     "text": [
      "98 float64\n"
     ]
    }
   ],
   "source": [
    "print(len(X_train_mvt1['N21'].unique()), X_train_mvt1['N21'].dtype)"
   ]
  },
  {
   "cell_type": "code",
   "execution_count": 83,
   "metadata": {},
   "outputs": [
    {
     "data": {
      "image/png": "[encoded data removed]",
      "text/plain": [
       "<Figure size 432x288 with 1 Axes>"
      ]
     },
     "metadata": {},
     "output_type": "display_data"
    }
   ],
   "source": [
    "X_train_mvt1['N21'].plot.hist(bins = 20);"
   ]
  },
  {
   "cell_type": "code",
   "execution_count": 84,
   "metadata": {},
   "outputs": [
    {
     "data": {
      "text/plain": [
       "True"
      ]
     },
     "execution_count": 84,
     "metadata": {},
     "output_type": "execute_result"
    }
   ],
   "source": [
    "N21_median = X_train_mvt1['N21'].median(axis=0)\n",
    "\n",
    "X_train_mvt1['N21'].replace(np.nan, N21_median, inplace=True)\n",
    "\n",
    "X_train_mvt1['N21'].describe()['count'] == nrows"
   ]
  },
  {
   "cell_type": "code",
   "execution_count": 85,
   "metadata": {},
   "outputs": [
    {
     "name": "stdout",
     "output_type": "stream",
     "text": [
      "18 float64\n"
     ]
    }
   ],
   "source": [
    "print(len(X_train_mvt1['N22'].unique()), X_train_mvt1['N22'].dtype)"
   ]
  },
  {
   "cell_type": "code",
   "execution_count": 86,
   "metadata": {},
   "outputs": [
    {
     "data": {
      "image/png": "[encoded data removed]",
      "text/plain": [
       "<Figure size 432x288 with 1 Axes>"
      ]
     },
     "metadata": {},
     "output_type": "display_data"
    }
   ],
   "source": [
    "X_train_mvt1['N22'].plot.hist(bins = 20);"
   ]
  },
  {
   "cell_type": "code",
   "execution_count": 87,
   "metadata": {},
   "outputs": [
    {
     "data": {
      "text/plain": [
       "0.0     0.486253\n",
       "1.0     0.289231\n",
       "2.0     0.131430\n",
       "3.0     0.052741\n",
       "4.0     0.022859\n",
       "5.0     0.009235\n",
       "6.0     0.004495\n",
       "7.0     0.001791\n",
       "8.0     0.000808\n",
       "9.0     0.000421\n",
       "11.0    0.000211\n",
       "10.0    0.000211\n",
       "12.0    0.000140\n",
       "13.0    0.000070\n",
       "14.0    0.000035\n",
       "20.0    0.000035\n",
       "15.0    0.000035\n",
       "Name: N22, dtype: float64"
      ]
     },
     "execution_count": 87,
     "metadata": {},
     "output_type": "execute_result"
    }
   ],
   "source": [
    "X_train_mvt1['N22'].value_counts(normalize=True)"
   ]
  },
  {
   "cell_type": "code",
   "execution_count": 88,
   "metadata": {},
   "outputs": [
    {
     "data": {
      "text/plain": [
       "True"
      ]
     },
     "execution_count": 88,
     "metadata": {},
     "output_type": "execute_result"
    }
   ],
   "source": [
    "N22_median = X_train_mvt1['N22'].median(axis=0)\n",
    "\n",
    "X_train_mvt1['N22'].replace(np.nan, N22_median, inplace=True)\n",
    "\n",
    "X_train_mvt1['N22'].describe()['count'] == nrows"
   ]
  },
  {
   "cell_type": "code",
   "execution_count": 89,
   "metadata": {},
   "outputs": [
    {
     "name": "stdout",
     "output_type": "stream",
     "text": [
      "778 float64\n"
     ]
    }
   ],
   "source": [
    "print(len(X_train_mvt1['N23'].unique()), X_train_mvt1['N23'].dtype)"
   ]
  },
  {
   "cell_type": "code",
   "execution_count": 90,
   "metadata": {},
   "outputs": [
    {
     "data": {
      "image/png": "[encoded data removed]",
      "text/plain": [
       "<Figure size 432x288 with 1 Axes>"
      ]
     },
     "metadata": {},
     "output_type": "display_data"
    }
   ],
   "source": [
    "X_train_mvt1['N23'].plot.hist(bins = 20);"
   ]
  },
  {
   "cell_type": "code",
   "execution_count": 91,
   "metadata": {
    "scrolled": true
   },
   "outputs": [
    {
     "data": {
      "text/plain": [
       "36.000      0.038902\n",
       "28.000      0.035761\n",
       "34.000      0.035565\n",
       "30.000      0.033078\n",
       "40.000      0.032816\n",
       "26.000      0.032718\n",
       "32.000      0.032424\n",
       "44.000      0.030821\n",
       "24.000      0.030722\n",
       "38.000      0.029577\n",
       "22.000      0.027189\n",
       "42.000      0.026829\n",
       "16.000      0.026011\n",
       "20.000      0.025782\n",
       "48.000      0.024604\n",
       "46.000      0.023721\n",
       "50.000      0.023165\n",
       "18.000      0.022903\n",
       "52.000      0.022314\n",
       "14.000      0.022248\n",
       "54.000      0.022216\n",
       "56.000      0.019925\n",
       "12.000      0.019271\n",
       "60.000      0.019206\n",
       "58.000      0.018780\n",
       "10.000      0.017897\n",
       "62.000      0.017406\n",
       "8.000       0.015901\n",
       "64.000      0.015607\n",
       "66.000      0.014985\n",
       "              ...   \n",
       "316.000     0.000033\n",
       "250.000     0.000033\n",
       "28.708      0.000033\n",
       "43.256      0.000033\n",
       "6.968       0.000033\n",
       "61.404      0.000033\n",
       "80.932      0.000033\n",
       "258.000     0.000033\n",
       "13.728      0.000033\n",
       "4.804       0.000033\n",
       "34.884      0.000033\n",
       "874.000     0.000033\n",
       "10.596      0.000033\n",
       "364.000     0.000033\n",
       "1580.000    0.000033\n",
       "64.200      0.000033\n",
       "7.896       0.000033\n",
       "23.610      0.000033\n",
       "41.688      0.000033\n",
       "25.070      0.000033\n",
       "54.934      0.000033\n",
       "15.642      0.000033\n",
       "31.410      0.000033\n",
       "440.000     0.000033\n",
       "49.268      0.000033\n",
       "3.218       0.000033\n",
       "28.096      0.000033\n",
       "15.156      0.000033\n",
       "20.310      0.000033\n",
       "54.972      0.000033\n",
       "Name: N23, Length: 777, dtype: float64"
      ]
     },
     "execution_count": 91,
     "metadata": {},
     "output_type": "execute_result"
    }
   ],
   "source": [
    "X_train_mvt1['N23'].value_counts(normalize=True)"
   ]
  },
  {
   "cell_type": "code",
   "execution_count": 92,
   "metadata": {},
   "outputs": [
    {
     "data": {
      "text/plain": [
       "True"
      ]
     },
     "execution_count": 92,
     "metadata": {},
     "output_type": "execute_result"
    }
   ],
   "source": [
    "N23_median = X_train_mvt1['N23'].median(axis=0)\n",
    "\n",
    "X_train_mvt1['N23'].replace(np.nan, N23_median, inplace=True)\n",
    "\n",
    "X_train_mvt1['N23'].describe()['count'] == nrows"
   ]
  },
  {
   "cell_type": "code",
   "execution_count": 93,
   "metadata": {},
   "outputs": [
    {
     "name": "stdout",
     "output_type": "stream",
     "text": [
      "{'C1': 0, 'C2': 0, 'C3': 0, 'C4': 0, 'C5': 0, 'C6': 0, 'C7': 0, 'C8': 0, 'N1': 0, 'N2': 0, 'N3': 0, 'N4': 0, 'N5': 0, 'N6': 0, 'N7': 0, 'N8': 0, 'N9': 0, 'N10': 0, 'N10.1': 0, 'N11': 0, 'N12': 0, 'N14': 0, 'N15': 0, 'N16': 0, 'N17': 0, 'N18': 0, 'N19': 0, 'N20': 0, 'N21': 0, 'N22': 0, 'N23': 0, 'N24': 0, 'N33': 0, 'N34': 0, 'N35': 427}\n"
     ]
    }
   ],
   "source": [
    "print (make_missing_value_dict(X_train_mvt1))"
   ]
  },
  {
   "cell_type": "code",
   "execution_count": 94,
   "metadata": {},
   "outputs": [
    {
     "name": "stdout",
     "output_type": "stream",
     "text": [
      "61 float64\n"
     ]
    }
   ],
   "source": [
    "print(len(X_train_mvt1['N35'].unique()), X_train_mvt1['N35'].dtype)"
   ]
  },
  {
   "cell_type": "code",
   "execution_count": 95,
   "metadata": {},
   "outputs": [
    {
     "data": {
      "image/png": "[encoded data removed]",
      "text/plain": [
       "<Figure size 432x288 with 1 Axes>"
      ]
     },
     "metadata": {},
     "output_type": "display_data"
    }
   ],
   "source": [
    "X_train_mvt1['N35'].plot.hist(bins = 20);"
   ]
  },
  {
   "cell_type": "code",
   "execution_count": 96,
   "metadata": {},
   "outputs": [
    {
     "data": {
      "text/plain": [
       "True"
      ]
     },
     "execution_count": 96,
     "metadata": {},
     "output_type": "execute_result"
    }
   ],
   "source": [
    "N35_median = X_train_mvt1['N35'].median(axis=0)\n",
    "\n",
    "X_train_mvt1['N35'].replace(np.nan, N35_median, inplace=True)\n",
    "\n",
    "X_train_mvt1['N35'].describe()['count'] == nrows"
   ]
  },
  {
   "cell_type": "code",
   "execution_count": 97,
   "metadata": {},
   "outputs": [
    {
     "name": "stdout",
     "output_type": "stream",
     "text": [
      "dict_values([0, 0, 0, 0, 0, 0, 0, 0, 0, 0, 0, 0, 0, 0, 0, 0, 0, 0, 0, 0, 0, 0, 0, 0, 0, 0, 0, 0, 0, 0, 0, 0, 0, 0, 0])\n"
     ]
    }
   ],
   "source": [
    "print (make_missing_value_dict(X_train_mvt1).values())"
   ]
  },
  {
   "cell_type": "markdown",
   "metadata": {},
   "source": [
    "#### Strategy 1 done"
   ]
  },
  {
   "cell_type": "code",
   "execution_count": 98,
   "metadata": {},
   "outputs": [
    {
     "data": {
      "text/html": [
       "<div>\n",
       "<style scoped>\n",
       "    .dataframe tbody tr th:only-of-type {\n",
       "        vertical-align: middle;\n",
       "    }\n",
       "\n",
       "    .dataframe tbody tr th {\n",
       "        vertical-align: top;\n",
       "    }\n",
       "\n",
       "    .dataframe thead th {\n",
       "        text-align: right;\n",
       "    }\n",
       "</style>\n",
       "<table border=\"1\" class=\"dataframe\">\n",
       "  <thead>\n",
       "    <tr style=\"text-align: right;\">\n",
       "      <th></th>\n",
       "      <th>C1</th>\n",
       "      <th>C2</th>\n",
       "      <th>C3</th>\n",
       "      <th>C4</th>\n",
       "      <th>C5</th>\n",
       "      <th>C7</th>\n",
       "      <th>N1</th>\n",
       "      <th>N2</th>\n",
       "      <th>N3</th>\n",
       "      <th>N4</th>\n",
       "      <th>...</th>\n",
       "      <th>N18</th>\n",
       "      <th>N19</th>\n",
       "      <th>N20</th>\n",
       "      <th>N21</th>\n",
       "      <th>N22</th>\n",
       "      <th>N23</th>\n",
       "      <th>N24</th>\n",
       "      <th>N33</th>\n",
       "      <th>N34</th>\n",
       "      <th>N35</th>\n",
       "    </tr>\n",
       "  </thead>\n",
       "  <tbody>\n",
       "    <tr>\n",
       "      <th>count</th>\n",
       "      <td>33050.000000</td>\n",
       "      <td>33050.000000</td>\n",
       "      <td>33050.000000</td>\n",
       "      <td>33050.000000</td>\n",
       "      <td>33050.000000</td>\n",
       "      <td>33050.000000</td>\n",
       "      <td>33050.00000</td>\n",
       "      <td>33050.000000</td>\n",
       "      <td>33050.000000</td>\n",
       "      <td>33050.000000</td>\n",
       "      <td>...</td>\n",
       "      <td>33050.000000</td>\n",
       "      <td>33050.000000</td>\n",
       "      <td>33050.000000</td>\n",
       "      <td>33050.000000</td>\n",
       "      <td>33050.000000</td>\n",
       "      <td>33050.000000</td>\n",
       "      <td>33050.000000</td>\n",
       "      <td>33050.000000</td>\n",
       "      <td>33050.000000</td>\n",
       "      <td>33050.000000</td>\n",
       "    </tr>\n",
       "    <tr>\n",
       "      <th>mean</th>\n",
       "      <td>1.119818</td>\n",
       "      <td>2.403873</td>\n",
       "      <td>12.856097</td>\n",
       "      <td>14.437398</td>\n",
       "      <td>1.719395</td>\n",
       "      <td>3.124932</td>\n",
       "      <td>19.97653</td>\n",
       "      <td>81.342710</td>\n",
       "      <td>3.359809</td>\n",
       "      <td>9.494070</td>\n",
       "      <td>...</td>\n",
       "      <td>0.533240</td>\n",
       "      <td>9974.436278</td>\n",
       "      <td>21.520151</td>\n",
       "      <td>0.865884</td>\n",
       "      <td>0.919365</td>\n",
       "      <td>57.046817</td>\n",
       "      <td>5050.306727</td>\n",
       "      <td>125.629394</td>\n",
       "      <td>224.313536</td>\n",
       "      <td>19.579667</td>\n",
       "    </tr>\n",
       "    <tr>\n",
       "      <th>std</th>\n",
       "      <td>0.399382</td>\n",
       "      <td>3.399024</td>\n",
       "      <td>12.013457</td>\n",
       "      <td>15.527474</td>\n",
       "      <td>1.320860</td>\n",
       "      <td>2.158905</td>\n",
       "      <td>8.11087</td>\n",
       "      <td>79.215357</td>\n",
       "      <td>0.408786</td>\n",
       "      <td>5.184803</td>\n",
       "      <td>...</td>\n",
       "      <td>0.324917</td>\n",
       "      <td>20641.700322</td>\n",
       "      <td>11.562434</td>\n",
       "      <td>0.162064</td>\n",
       "      <td>1.140207</td>\n",
       "      <td>144.964934</td>\n",
       "      <td>6237.726330</td>\n",
       "      <td>104.391919</td>\n",
       "      <td>186.513844</td>\n",
       "      <td>7.305315</td>\n",
       "    </tr>\n",
       "    <tr>\n",
       "      <th>min</th>\n",
       "      <td>1.000000</td>\n",
       "      <td>0.000000</td>\n",
       "      <td>0.000000</td>\n",
       "      <td>0.000000</td>\n",
       "      <td>0.000000</td>\n",
       "      <td>0.000000</td>\n",
       "      <td>0.00000</td>\n",
       "      <td>0.000000</td>\n",
       "      <td>0.000000</td>\n",
       "      <td>0.000000</td>\n",
       "      <td>...</td>\n",
       "      <td>0.000000</td>\n",
       "      <td>0.000000</td>\n",
       "      <td>0.000000</td>\n",
       "      <td>0.000000</td>\n",
       "      <td>0.000000</td>\n",
       "      <td>0.000000</td>\n",
       "      <td>0.000000</td>\n",
       "      <td>20.000000</td>\n",
       "      <td>0.000000</td>\n",
       "      <td>2.000000</td>\n",
       "    </tr>\n",
       "    <tr>\n",
       "      <th>25%</th>\n",
       "      <td>1.000000</td>\n",
       "      <td>0.000000</td>\n",
       "      <td>2.000000</td>\n",
       "      <td>1.000000</td>\n",
       "      <td>1.000000</td>\n",
       "      <td>1.000000</td>\n",
       "      <td>13.45000</td>\n",
       "      <td>25.000000</td>\n",
       "      <td>3.200000</td>\n",
       "      <td>6.000000</td>\n",
       "      <td>...</td>\n",
       "      <td>0.270000</td>\n",
       "      <td>779.000000</td>\n",
       "      <td>14.000000</td>\n",
       "      <td>0.800000</td>\n",
       "      <td>0.000000</td>\n",
       "      <td>26.000000</td>\n",
       "      <td>2833.333333</td>\n",
       "      <td>54.000000</td>\n",
       "      <td>98.740000</td>\n",
       "      <td>15.000000</td>\n",
       "    </tr>\n",
       "    <tr>\n",
       "      <th>50%</th>\n",
       "      <td>1.000000</td>\n",
       "      <td>1.000000</td>\n",
       "      <td>10.000000</td>\n",
       "      <td>10.000000</td>\n",
       "      <td>2.000000</td>\n",
       "      <td>4.000000</td>\n",
       "      <td>19.27500</td>\n",
       "      <td>68.000000</td>\n",
       "      <td>3.400000</td>\n",
       "      <td>9.000000</td>\n",
       "      <td>...</td>\n",
       "      <td>0.560000</td>\n",
       "      <td>3352.000000</td>\n",
       "      <td>20.000000</td>\n",
       "      <td>0.920000</td>\n",
       "      <td>1.000000</td>\n",
       "      <td>40.000000</td>\n",
       "      <td>4166.666667</td>\n",
       "      <td>90.000000</td>\n",
       "      <td>172.600000</td>\n",
       "      <td>19.000000</td>\n",
       "    </tr>\n",
       "    <tr>\n",
       "      <th>75%</th>\n",
       "      <td>1.000000</td>\n",
       "      <td>3.000000</td>\n",
       "      <td>20.000000</td>\n",
       "      <td>26.000000</td>\n",
       "      <td>2.000000</td>\n",
       "      <td>4.000000</td>\n",
       "      <td>26.90000</td>\n",
       "      <td>99.000000</td>\n",
       "      <td>3.600000</td>\n",
       "      <td>12.000000</td>\n",
       "      <td>...</td>\n",
       "      <td>0.800000</td>\n",
       "      <td>9972.750000</td>\n",
       "      <td>27.000000</td>\n",
       "      <td>1.000000</td>\n",
       "      <td>1.000000</td>\n",
       "      <td>58.000000</td>\n",
       "      <td>6250.000000</td>\n",
       "      <td>160.000000</td>\n",
       "      <td>300.947500</td>\n",
       "      <td>24.000000</td>\n",
       "    </tr>\n",
       "    <tr>\n",
       "      <th>max</th>\n",
       "      <td>3.000000</td>\n",
       "      <td>20.000000</td>\n",
       "      <td>51.000000</td>\n",
       "      <td>67.000000</td>\n",
       "      <td>7.000000</td>\n",
       "      <td>7.000000</td>\n",
       "      <td>48.00000</td>\n",
       "      <td>755.000000</td>\n",
       "      <td>4.400000</td>\n",
       "      <td>59.000000</td>\n",
       "      <td>...</td>\n",
       "      <td>5.830000</td>\n",
       "      <td>646285.000000</td>\n",
       "      <td>114.000000</td>\n",
       "      <td>1.000000</td>\n",
       "      <td>20.000000</td>\n",
       "      <td>2002.000000</td>\n",
       "      <td>618547.833300</td>\n",
       "      <td>700.000000</td>\n",
       "      <td>2153.380000</td>\n",
       "      <td>64.000000</td>\n",
       "    </tr>\n",
       "  </tbody>\n",
       "</table>\n",
       "<p>8 rows × 33 columns</p>\n",
       "</div>"
      ],
      "text/plain": [
       "                 C1            C2            C3            C4            C5  \\\n",
       "count  33050.000000  33050.000000  33050.000000  33050.000000  33050.000000   \n",
       "mean       1.119818      2.403873     12.856097     14.437398      1.719395   \n",
       "std        0.399382      3.399024     12.013457     15.527474      1.320860   \n",
       "min        1.000000      0.000000      0.000000      0.000000      0.000000   \n",
       "25%        1.000000      0.000000      2.000000      1.000000      1.000000   \n",
       "50%        1.000000      1.000000     10.000000     10.000000      2.000000   \n",
       "75%        1.000000      3.000000     20.000000     26.000000      2.000000   \n",
       "max        3.000000     20.000000     51.000000     67.000000      7.000000   \n",
       "\n",
       "                 C7           N1            N2            N3            N4  \\\n",
       "count  33050.000000  33050.00000  33050.000000  33050.000000  33050.000000   \n",
       "mean       3.124932     19.97653     81.342710      3.359809      9.494070   \n",
       "std        2.158905      8.11087     79.215357      0.408786      5.184803   \n",
       "min        0.000000      0.00000      0.000000      0.000000      0.000000   \n",
       "25%        1.000000     13.45000     25.000000      3.200000      6.000000   \n",
       "50%        4.000000     19.27500     68.000000      3.400000      9.000000   \n",
       "75%        4.000000     26.90000     99.000000      3.600000     12.000000   \n",
       "max        7.000000     48.00000    755.000000      4.400000     59.000000   \n",
       "\n",
       "           ...                N18            N19           N20           N21  \\\n",
       "count      ...       33050.000000   33050.000000  33050.000000  33050.000000   \n",
       "mean       ...           0.533240    9974.436278     21.520151      0.865884   \n",
       "std        ...           0.324917   20641.700322     11.562434      0.162064   \n",
       "min        ...           0.000000       0.000000      0.000000      0.000000   \n",
       "25%        ...           0.270000     779.000000     14.000000      0.800000   \n",
       "50%        ...           0.560000    3352.000000     20.000000      0.920000   \n",
       "75%        ...           0.800000    9972.750000     27.000000      1.000000   \n",
       "max        ...           5.830000  646285.000000    114.000000      1.000000   \n",
       "\n",
       "                N22           N23            N24           N33           N34  \\\n",
       "count  33050.000000  33050.000000   33050.000000  33050.000000  33050.000000   \n",
       "mean       0.919365     57.046817    5050.306727    125.629394    224.313536   \n",
       "std        1.140207    144.964934    6237.726330    104.391919    186.513844   \n",
       "min        0.000000      0.000000       0.000000     20.000000      0.000000   \n",
       "25%        0.000000     26.000000    2833.333333     54.000000     98.740000   \n",
       "50%        1.000000     40.000000    4166.666667     90.000000    172.600000   \n",
       "75%        1.000000     58.000000    6250.000000    160.000000    300.947500   \n",
       "max       20.000000   2002.000000  618547.833300    700.000000   2153.380000   \n",
       "\n",
       "                N35  \n",
       "count  33050.000000  \n",
       "mean      19.579667  \n",
       "std        7.305315  \n",
       "min        2.000000  \n",
       "25%       15.000000  \n",
       "50%       19.000000  \n",
       "75%       24.000000  \n",
       "max       64.000000  \n",
       "\n",
       "[8 rows x 33 columns]"
      ]
     },
     "execution_count": 98,
     "metadata": {},
     "output_type": "execute_result"
    }
   ],
   "source": [
    "X_train_mvt1.describe()"
   ]
  },
  {
   "cell_type": "code",
   "execution_count": 99,
   "metadata": {},
   "outputs": [
    {
     "data": {
      "text/html": [
       "<div>\n",
       "<style scoped>\n",
       "    .dataframe tbody tr th:only-of-type {\n",
       "        vertical-align: middle;\n",
       "    }\n",
       "\n",
       "    .dataframe tbody tr th {\n",
       "        vertical-align: top;\n",
       "    }\n",
       "\n",
       "    .dataframe thead th {\n",
       "        text-align: right;\n",
       "    }\n",
       "</style>\n",
       "<table border=\"1\" class=\"dataframe\">\n",
       "  <thead>\n",
       "    <tr style=\"text-align: right;\">\n",
       "      <th></th>\n",
       "      <th>Unique_ID</th>\n",
       "      <th>Dependent_Variable</th>\n",
       "    </tr>\n",
       "  </thead>\n",
       "  <tbody>\n",
       "    <tr>\n",
       "      <th>0</th>\n",
       "      <td>Candidate_5926</td>\n",
       "      <td>1</td>\n",
       "    </tr>\n",
       "    <tr>\n",
       "      <th>1</th>\n",
       "      <td>Candidate_48134</td>\n",
       "      <td>0</td>\n",
       "    </tr>\n",
       "    <tr>\n",
       "      <th>2</th>\n",
       "      <td>Candidate_51717</td>\n",
       "      <td>1</td>\n",
       "    </tr>\n",
       "    <tr>\n",
       "      <th>3</th>\n",
       "      <td>Candidate_26401</td>\n",
       "      <td>0</td>\n",
       "    </tr>\n",
       "    <tr>\n",
       "      <th>4</th>\n",
       "      <td>Candidate_34872</td>\n",
       "      <td>0</td>\n",
       "    </tr>\n",
       "  </tbody>\n",
       "</table>\n",
       "</div>"
      ],
      "text/plain": [
       "         Unique_ID  Dependent_Variable\n",
       "0   Candidate_5926                   1\n",
       "1  Candidate_48134                   0\n",
       "2  Candidate_51717                   1\n",
       "3  Candidate_26401                   0\n",
       "4  Candidate_34872                   0"
      ]
     },
     "execution_count": 99,
     "metadata": {},
     "output_type": "execute_result"
    }
   ],
   "source": [
    "y_train = pd.read_csv('./Training/y_train.csv')\n",
    "\n",
    "y_train.head()"
   ]
  },
  {
   "cell_type": "code",
   "execution_count": 100,
   "metadata": {},
   "outputs": [
    {
     "data": {
      "text/plain": [
       "True"
      ]
     },
     "execution_count": 100,
     "metadata": {},
     "output_type": "execute_result"
    }
   ],
   "source": [
    "# check to see if the IDs are in correct order\n",
    "\n",
    "list(X_train['Unique_ID']) == list(y_train['Unique_ID'])"
   ]
  },
  {
   "cell_type": "code",
   "execution_count": 101,
   "metadata": {},
   "outputs": [
    {
     "data": {
      "text/html": [
       "<div>\n",
       "<style scoped>\n",
       "    .dataframe tbody tr th:only-of-type {\n",
       "        vertical-align: middle;\n",
       "    }\n",
       "\n",
       "    .dataframe tbody tr th {\n",
       "        vertical-align: top;\n",
       "    }\n",
       "\n",
       "    .dataframe thead th {\n",
       "        text-align: right;\n",
       "    }\n",
       "</style>\n",
       "<table border=\"1\" class=\"dataframe\">\n",
       "  <thead>\n",
       "    <tr style=\"text-align: right;\">\n",
       "      <th></th>\n",
       "      <th>Dependent_Variable</th>\n",
       "    </tr>\n",
       "  </thead>\n",
       "  <tbody>\n",
       "    <tr>\n",
       "      <th>count</th>\n",
       "      <td>33050.000000</td>\n",
       "    </tr>\n",
       "    <tr>\n",
       "      <th>mean</th>\n",
       "      <td>0.308805</td>\n",
       "    </tr>\n",
       "    <tr>\n",
       "      <th>std</th>\n",
       "      <td>0.462007</td>\n",
       "    </tr>\n",
       "    <tr>\n",
       "      <th>min</th>\n",
       "      <td>0.000000</td>\n",
       "    </tr>\n",
       "    <tr>\n",
       "      <th>25%</th>\n",
       "      <td>0.000000</td>\n",
       "    </tr>\n",
       "    <tr>\n",
       "      <th>50%</th>\n",
       "      <td>0.000000</td>\n",
       "    </tr>\n",
       "    <tr>\n",
       "      <th>75%</th>\n",
       "      <td>1.000000</td>\n",
       "    </tr>\n",
       "    <tr>\n",
       "      <th>max</th>\n",
       "      <td>1.000000</td>\n",
       "    </tr>\n",
       "  </tbody>\n",
       "</table>\n",
       "</div>"
      ],
      "text/plain": [
       "       Dependent_Variable\n",
       "count        33050.000000\n",
       "mean             0.308805\n",
       "std              0.462007\n",
       "min              0.000000\n",
       "25%              0.000000\n",
       "50%              0.000000\n",
       "75%              1.000000\n",
       "max              1.000000"
      ]
     },
     "execution_count": 101,
     "metadata": {},
     "output_type": "execute_result"
    }
   ],
   "source": [
    "y_train.describe()"
   ]
  },
  {
   "cell_type": "markdown",
   "metadata": {},
   "source": [
    "No missing values in the target variable, so thats good\n",
    "\n",
    "Lets check the distributions"
   ]
  },
  {
   "cell_type": "code",
   "execution_count": 102,
   "metadata": {},
   "outputs": [
    {
     "data": {
      "image/png": "[encoded data removed]",
      "text/plain": [
       "<Figure size 432x288 with 1 Axes>"
      ]
     },
     "metadata": {},
     "output_type": "display_data"
    }
   ],
   "source": [
    "y_train['Dependent_Variable'].plot.hist(bins = 20);"
   ]
  },
  {
   "cell_type": "code",
   "execution_count": 103,
   "metadata": {},
   "outputs": [
    {
     "data": {
      "text/plain": [
       "0    0.691195\n",
       "1    0.308805\n",
       "Name: Dependent_Variable, dtype: float64"
      ]
     },
     "execution_count": 103,
     "metadata": {},
     "output_type": "execute_result"
    }
   ],
   "source": [
    "y_train['Dependent_Variable'].value_counts(normalize=True)"
   ]
  },
  {
   "cell_type": "markdown",
   "metadata": {},
   "source": [
    "The split is 70-30. So it is **imbalanced**"
   ]
  },
  {
   "cell_type": "code",
   "execution_count": 104,
   "metadata": {},
   "outputs": [],
   "source": [
    "# drop 1st col\n",
    "\n",
    "X_train_mvt1.drop(columns=['Unique_ID'], inplace=True)"
   ]
  },
  {
   "cell_type": "markdown",
   "metadata": {},
   "source": [
    "### One Hot Encoding of categorical columns"
   ]
  },
  {
   "cell_type": "code",
   "execution_count": 105,
   "metadata": {},
   "outputs": [],
   "source": [
    "X_train_mvt1['C6'] = X_train_mvt1['C6'].astype('object')\n",
    "\n",
    "X_train_mvt1['C8'] = X_train_mvt1['C8'].astype('object')"
   ]
  },
  {
   "cell_type": "code",
   "execution_count": 106,
   "metadata": {
    "scrolled": true
   },
   "outputs": [
    {
     "data": {
      "text/html": [
       "<div>\n",
       "<style scoped>\n",
       "    .dataframe tbody tr th:only-of-type {\n",
       "        vertical-align: middle;\n",
       "    }\n",
       "\n",
       "    .dataframe tbody tr th {\n",
       "        vertical-align: top;\n",
       "    }\n",
       "\n",
       "    .dataframe thead th {\n",
       "        text-align: right;\n",
       "    }\n",
       "</style>\n",
       "<table border=\"1\" class=\"dataframe\">\n",
       "  <thead>\n",
       "    <tr style=\"text-align: right;\">\n",
       "      <th></th>\n",
       "      <th>C1</th>\n",
       "      <th>C2</th>\n",
       "      <th>C3</th>\n",
       "      <th>C4</th>\n",
       "      <th>C5</th>\n",
       "      <th>C6</th>\n",
       "      <th>C7</th>\n",
       "      <th>C8</th>\n",
       "      <th>N1</th>\n",
       "      <th>N2</th>\n",
       "      <th>...</th>\n",
       "      <th>N18</th>\n",
       "      <th>N19</th>\n",
       "      <th>N20</th>\n",
       "      <th>N21</th>\n",
       "      <th>N22</th>\n",
       "      <th>N23</th>\n",
       "      <th>N24</th>\n",
       "      <th>N33</th>\n",
       "      <th>N34</th>\n",
       "      <th>N35</th>\n",
       "    </tr>\n",
       "  </thead>\n",
       "  <tbody>\n",
       "    <tr>\n",
       "      <th>0</th>\n",
       "      <td>1</td>\n",
       "      <td>0</td>\n",
       "      <td>11</td>\n",
       "      <td>31</td>\n",
       "      <td>0</td>\n",
       "      <td>False</td>\n",
       "      <td>0</td>\n",
       "      <td>True</td>\n",
       "      <td>23.75</td>\n",
       "      <td>81.34271</td>\n",
       "      <td>...</td>\n",
       "      <td>0.56</td>\n",
       "      <td>3352.0</td>\n",
       "      <td>20.0</td>\n",
       "      <td>0.92</td>\n",
       "      <td>1.0</td>\n",
       "      <td>27.816</td>\n",
       "      <td>1750.000000</td>\n",
       "      <td>58.0</td>\n",
       "      <td>113.39</td>\n",
       "      <td>12.0</td>\n",
       "    </tr>\n",
       "    <tr>\n",
       "      <th>1</th>\n",
       "      <td>1</td>\n",
       "      <td>4</td>\n",
       "      <td>2</td>\n",
       "      <td>66</td>\n",
       "      <td>2</td>\n",
       "      <td>False</td>\n",
       "      <td>1</td>\n",
       "      <td>True</td>\n",
       "      <td>11.05</td>\n",
       "      <td>22.00000</td>\n",
       "      <td>...</td>\n",
       "      <td>0.06</td>\n",
       "      <td>25856.0</td>\n",
       "      <td>17.0</td>\n",
       "      <td>0.88</td>\n",
       "      <td>1.0</td>\n",
       "      <td>40.000</td>\n",
       "      <td>10833.333330</td>\n",
       "      <td>160.0</td>\n",
       "      <td>262.10</td>\n",
       "      <td>17.0</td>\n",
       "    </tr>\n",
       "    <tr>\n",
       "      <th>2</th>\n",
       "      <td>1</td>\n",
       "      <td>0</td>\n",
       "      <td>19</td>\n",
       "      <td>2</td>\n",
       "      <td>0</td>\n",
       "      <td>False</td>\n",
       "      <td>0</td>\n",
       "      <td>True</td>\n",
       "      <td>29.00</td>\n",
       "      <td>81.34271</td>\n",
       "      <td>...</td>\n",
       "      <td>0.56</td>\n",
       "      <td>3352.0</td>\n",
       "      <td>20.0</td>\n",
       "      <td>0.92</td>\n",
       "      <td>1.0</td>\n",
       "      <td>20.000</td>\n",
       "      <td>6250.000000</td>\n",
       "      <td>24.0</td>\n",
       "      <td>50.29</td>\n",
       "      <td>18.0</td>\n",
       "    </tr>\n",
       "    <tr>\n",
       "      <th>3</th>\n",
       "      <td>1</td>\n",
       "      <td>1</td>\n",
       "      <td>16</td>\n",
       "      <td>47</td>\n",
       "      <td>1</td>\n",
       "      <td>False</td>\n",
       "      <td>4</td>\n",
       "      <td>True</td>\n",
       "      <td>17.99</td>\n",
       "      <td>1.00000</td>\n",
       "      <td>...</td>\n",
       "      <td>0.89</td>\n",
       "      <td>1006.0</td>\n",
       "      <td>6.0</td>\n",
       "      <td>1.00</td>\n",
       "      <td>0.0</td>\n",
       "      <td>26.000</td>\n",
       "      <td>2413.666667</td>\n",
       "      <td>70.0</td>\n",
       "      <td>126.52</td>\n",
       "      <td>27.0</td>\n",
       "    </tr>\n",
       "    <tr>\n",
       "      <th>4</th>\n",
       "      <td>1</td>\n",
       "      <td>1</td>\n",
       "      <td>13</td>\n",
       "      <td>1</td>\n",
       "      <td>1</td>\n",
       "      <td>True</td>\n",
       "      <td>6</td>\n",
       "      <td>True</td>\n",
       "      <td>27.50</td>\n",
       "      <td>206.00000</td>\n",
       "      <td>...</td>\n",
       "      <td>0.97</td>\n",
       "      <td>3398.0</td>\n",
       "      <td>31.0</td>\n",
       "      <td>0.96</td>\n",
       "      <td>0.0</td>\n",
       "      <td>44.000</td>\n",
       "      <td>7666.666667</td>\n",
       "      <td>100.0</td>\n",
       "      <td>205.47</td>\n",
       "      <td>21.0</td>\n",
       "    </tr>\n",
       "  </tbody>\n",
       "</table>\n",
       "<p>5 rows × 35 columns</p>\n",
       "</div>"
      ],
      "text/plain": [
       "   C1  C2  C3  C4  C5     C6  C7    C8     N1         N2  ...    N18      N19  \\\n",
       "0   1   0  11  31   0  False   0  True  23.75   81.34271  ...   0.56   3352.0   \n",
       "1   1   4   2  66   2  False   1  True  11.05   22.00000  ...   0.06  25856.0   \n",
       "2   1   0  19   2   0  False   0  True  29.00   81.34271  ...   0.56   3352.0   \n",
       "3   1   1  16  47   1  False   4  True  17.99    1.00000  ...   0.89   1006.0   \n",
       "4   1   1  13   1   1   True   6  True  27.50  206.00000  ...   0.97   3398.0   \n",
       "\n",
       "    N20   N21  N22     N23           N24    N33     N34   N35  \n",
       "0  20.0  0.92  1.0  27.816   1750.000000   58.0  113.39  12.0  \n",
       "1  17.0  0.88  1.0  40.000  10833.333330  160.0  262.10  17.0  \n",
       "2  20.0  0.92  1.0  20.000   6250.000000   24.0   50.29  18.0  \n",
       "3   6.0  1.00  0.0  26.000   2413.666667   70.0  126.52  27.0  \n",
       "4  31.0  0.96  0.0  44.000   7666.666667  100.0  205.47  21.0  \n",
       "\n",
       "[5 rows x 35 columns]"
      ]
     },
     "execution_count": 106,
     "metadata": {},
     "output_type": "execute_result"
    }
   ],
   "source": [
    "X_train_mvt1.head()"
   ]
  },
  {
   "cell_type": "code",
   "execution_count": 107,
   "metadata": {},
   "outputs": [
    {
     "data": {
      "text/html": [
       "<div>\n",
       "<style scoped>\n",
       "    .dataframe tbody tr th:only-of-type {\n",
       "        vertical-align: middle;\n",
       "    }\n",
       "\n",
       "    .dataframe tbody tr th {\n",
       "        vertical-align: top;\n",
       "    }\n",
       "\n",
       "    .dataframe thead th {\n",
       "        text-align: right;\n",
       "    }\n",
       "</style>\n",
       "<table border=\"1\" class=\"dataframe\">\n",
       "  <thead>\n",
       "    <tr style=\"text-align: right;\">\n",
       "      <th></th>\n",
       "      <th>C1</th>\n",
       "      <th>C2</th>\n",
       "      <th>C3</th>\n",
       "      <th>C4</th>\n",
       "      <th>C5</th>\n",
       "      <th>C7</th>\n",
       "      <th>N1</th>\n",
       "      <th>N2</th>\n",
       "      <th>N3</th>\n",
       "      <th>N4</th>\n",
       "      <th>...</th>\n",
       "      <th>N22</th>\n",
       "      <th>N23</th>\n",
       "      <th>N24</th>\n",
       "      <th>N33</th>\n",
       "      <th>N34</th>\n",
       "      <th>N35</th>\n",
       "      <th>C6_False</th>\n",
       "      <th>C6_True</th>\n",
       "      <th>C8_False</th>\n",
       "      <th>C8_True</th>\n",
       "    </tr>\n",
       "  </thead>\n",
       "  <tbody>\n",
       "    <tr>\n",
       "      <th>0</th>\n",
       "      <td>1</td>\n",
       "      <td>0</td>\n",
       "      <td>11</td>\n",
       "      <td>31</td>\n",
       "      <td>0</td>\n",
       "      <td>0</td>\n",
       "      <td>23.75</td>\n",
       "      <td>81.34271</td>\n",
       "      <td>2.5</td>\n",
       "      <td>9.0</td>\n",
       "      <td>...</td>\n",
       "      <td>1.0</td>\n",
       "      <td>27.816</td>\n",
       "      <td>1750.000000</td>\n",
       "      <td>58.0</td>\n",
       "      <td>113.39</td>\n",
       "      <td>12.0</td>\n",
       "      <td>1</td>\n",
       "      <td>0</td>\n",
       "      <td>0</td>\n",
       "      <td>1</td>\n",
       "    </tr>\n",
       "    <tr>\n",
       "      <th>1</th>\n",
       "      <td>1</td>\n",
       "      <td>4</td>\n",
       "      <td>2</td>\n",
       "      <td>66</td>\n",
       "      <td>2</td>\n",
       "      <td>1</td>\n",
       "      <td>11.05</td>\n",
       "      <td>22.00000</td>\n",
       "      <td>3.7</td>\n",
       "      <td>16.0</td>\n",
       "      <td>...</td>\n",
       "      <td>1.0</td>\n",
       "      <td>40.000</td>\n",
       "      <td>10833.333330</td>\n",
       "      <td>160.0</td>\n",
       "      <td>262.10</td>\n",
       "      <td>17.0</td>\n",
       "      <td>1</td>\n",
       "      <td>0</td>\n",
       "      <td>0</td>\n",
       "      <td>1</td>\n",
       "    </tr>\n",
       "    <tr>\n",
       "      <th>2</th>\n",
       "      <td>1</td>\n",
       "      <td>0</td>\n",
       "      <td>19</td>\n",
       "      <td>2</td>\n",
       "      <td>0</td>\n",
       "      <td>0</td>\n",
       "      <td>29.00</td>\n",
       "      <td>81.34271</td>\n",
       "      <td>2.4</td>\n",
       "      <td>9.0</td>\n",
       "      <td>...</td>\n",
       "      <td>1.0</td>\n",
       "      <td>20.000</td>\n",
       "      <td>6250.000000</td>\n",
       "      <td>24.0</td>\n",
       "      <td>50.29</td>\n",
       "      <td>18.0</td>\n",
       "      <td>1</td>\n",
       "      <td>0</td>\n",
       "      <td>0</td>\n",
       "      <td>1</td>\n",
       "    </tr>\n",
       "    <tr>\n",
       "      <th>3</th>\n",
       "      <td>1</td>\n",
       "      <td>1</td>\n",
       "      <td>16</td>\n",
       "      <td>47</td>\n",
       "      <td>1</td>\n",
       "      <td>4</td>\n",
       "      <td>17.99</td>\n",
       "      <td>1.00000</td>\n",
       "      <td>3.5</td>\n",
       "      <td>4.0</td>\n",
       "      <td>...</td>\n",
       "      <td>0.0</td>\n",
       "      <td>26.000</td>\n",
       "      <td>2413.666667</td>\n",
       "      <td>70.0</td>\n",
       "      <td>126.52</td>\n",
       "      <td>27.0</td>\n",
       "      <td>1</td>\n",
       "      <td>0</td>\n",
       "      <td>0</td>\n",
       "      <td>1</td>\n",
       "    </tr>\n",
       "    <tr>\n",
       "      <th>4</th>\n",
       "      <td>1</td>\n",
       "      <td>1</td>\n",
       "      <td>13</td>\n",
       "      <td>1</td>\n",
       "      <td>1</td>\n",
       "      <td>6</td>\n",
       "      <td>27.50</td>\n",
       "      <td>206.00000</td>\n",
       "      <td>3.8</td>\n",
       "      <td>11.0</td>\n",
       "      <td>...</td>\n",
       "      <td>0.0</td>\n",
       "      <td>44.000</td>\n",
       "      <td>7666.666667</td>\n",
       "      <td>100.0</td>\n",
       "      <td>205.47</td>\n",
       "      <td>21.0</td>\n",
       "      <td>0</td>\n",
       "      <td>1</td>\n",
       "      <td>0</td>\n",
       "      <td>1</td>\n",
       "    </tr>\n",
       "  </tbody>\n",
       "</table>\n",
       "<p>5 rows × 37 columns</p>\n",
       "</div>"
      ],
      "text/plain": [
       "   C1  C2  C3  C4  C5  C7     N1         N2   N3    N4   ...     N22     N23  \\\n",
       "0   1   0  11  31   0   0  23.75   81.34271  2.5   9.0   ...     1.0  27.816   \n",
       "1   1   4   2  66   2   1  11.05   22.00000  3.7  16.0   ...     1.0  40.000   \n",
       "2   1   0  19   2   0   0  29.00   81.34271  2.4   9.0   ...     1.0  20.000   \n",
       "3   1   1  16  47   1   4  17.99    1.00000  3.5   4.0   ...     0.0  26.000   \n",
       "4   1   1  13   1   1   6  27.50  206.00000  3.8  11.0   ...     0.0  44.000   \n",
       "\n",
       "            N24    N33     N34   N35  C6_False  C6_True  C8_False  C8_True  \n",
       "0   1750.000000   58.0  113.39  12.0         1        0         0        1  \n",
       "1  10833.333330  160.0  262.10  17.0         1        0         0        1  \n",
       "2   6250.000000   24.0   50.29  18.0         1        0         0        1  \n",
       "3   2413.666667   70.0  126.52  27.0         1        0         0        1  \n",
       "4   7666.666667  100.0  205.47  21.0         0        1         0        1  \n",
       "\n",
       "[5 rows x 37 columns]"
      ]
     },
     "execution_count": 107,
     "metadata": {},
     "output_type": "execute_result"
    }
   ],
   "source": [
    "X_train_mvt1_enc = pd.get_dummies(data=X_train_mvt1)\n",
    "\n",
    "X_train_mvt1_enc.head()"
   ]
  },
  {
   "cell_type": "markdown",
   "metadata": {},
   "source": [
    "### Normalization"
   ]
  },
  {
   "cell_type": "code",
   "execution_count": 108,
   "metadata": {},
   "outputs": [
    {
     "data": {
      "text/html": [
       "<div>\n",
       "<style scoped>\n",
       "    .dataframe tbody tr th:only-of-type {\n",
       "        vertical-align: middle;\n",
       "    }\n",
       "\n",
       "    .dataframe tbody tr th {\n",
       "        vertical-align: top;\n",
       "    }\n",
       "\n",
       "    .dataframe thead th {\n",
       "        text-align: right;\n",
       "    }\n",
       "</style>\n",
       "<table border=\"1\" class=\"dataframe\">\n",
       "  <thead>\n",
       "    <tr style=\"text-align: right;\">\n",
       "      <th></th>\n",
       "      <th>0</th>\n",
       "      <th>1</th>\n",
       "      <th>2</th>\n",
       "      <th>3</th>\n",
       "      <th>4</th>\n",
       "      <th>5</th>\n",
       "      <th>6</th>\n",
       "      <th>7</th>\n",
       "      <th>8</th>\n",
       "      <th>9</th>\n",
       "      <th>...</th>\n",
       "      <th>27</th>\n",
       "      <th>28</th>\n",
       "      <th>29</th>\n",
       "      <th>30</th>\n",
       "      <th>31</th>\n",
       "      <th>32</th>\n",
       "      <th>33</th>\n",
       "      <th>34</th>\n",
       "      <th>35</th>\n",
       "      <th>36</th>\n",
       "    </tr>\n",
       "  </thead>\n",
       "  <tbody>\n",
       "    <tr>\n",
       "      <th>0</th>\n",
       "      <td>0.0</td>\n",
       "      <td>0.00</td>\n",
       "      <td>0.215686</td>\n",
       "      <td>0.462687</td>\n",
       "      <td>0.000000</td>\n",
       "      <td>0.000000</td>\n",
       "      <td>0.494792</td>\n",
       "      <td>0.107739</td>\n",
       "      <td>0.568182</td>\n",
       "      <td>0.152542</td>\n",
       "      <td>...</td>\n",
       "      <td>0.05</td>\n",
       "      <td>0.013894</td>\n",
       "      <td>0.002829</td>\n",
       "      <td>0.055882</td>\n",
       "      <td>0.052657</td>\n",
       "      <td>0.161290</td>\n",
       "      <td>1.0</td>\n",
       "      <td>0.0</td>\n",
       "      <td>0.0</td>\n",
       "      <td>1.0</td>\n",
       "    </tr>\n",
       "    <tr>\n",
       "      <th>1</th>\n",
       "      <td>0.0</td>\n",
       "      <td>0.20</td>\n",
       "      <td>0.039216</td>\n",
       "      <td>0.985075</td>\n",
       "      <td>0.285714</td>\n",
       "      <td>0.142857</td>\n",
       "      <td>0.230208</td>\n",
       "      <td>0.029139</td>\n",
       "      <td>0.840909</td>\n",
       "      <td>0.271186</td>\n",
       "      <td>...</td>\n",
       "      <td>0.05</td>\n",
       "      <td>0.019980</td>\n",
       "      <td>0.017514</td>\n",
       "      <td>0.205882</td>\n",
       "      <td>0.121716</td>\n",
       "      <td>0.241935</td>\n",
       "      <td>1.0</td>\n",
       "      <td>0.0</td>\n",
       "      <td>0.0</td>\n",
       "      <td>1.0</td>\n",
       "    </tr>\n",
       "    <tr>\n",
       "      <th>2</th>\n",
       "      <td>0.0</td>\n",
       "      <td>0.00</td>\n",
       "      <td>0.372549</td>\n",
       "      <td>0.029851</td>\n",
       "      <td>0.000000</td>\n",
       "      <td>0.000000</td>\n",
       "      <td>0.604167</td>\n",
       "      <td>0.107739</td>\n",
       "      <td>0.545455</td>\n",
       "      <td>0.152542</td>\n",
       "      <td>...</td>\n",
       "      <td>0.05</td>\n",
       "      <td>0.009990</td>\n",
       "      <td>0.010104</td>\n",
       "      <td>0.005882</td>\n",
       "      <td>0.023354</td>\n",
       "      <td>0.258065</td>\n",
       "      <td>1.0</td>\n",
       "      <td>0.0</td>\n",
       "      <td>0.0</td>\n",
       "      <td>1.0</td>\n",
       "    </tr>\n",
       "    <tr>\n",
       "      <th>3</th>\n",
       "      <td>0.0</td>\n",
       "      <td>0.05</td>\n",
       "      <td>0.313725</td>\n",
       "      <td>0.701493</td>\n",
       "      <td>0.142857</td>\n",
       "      <td>0.571429</td>\n",
       "      <td>0.374792</td>\n",
       "      <td>0.001325</td>\n",
       "      <td>0.795455</td>\n",
       "      <td>0.067797</td>\n",
       "      <td>...</td>\n",
       "      <td>0.00</td>\n",
       "      <td>0.012987</td>\n",
       "      <td>0.003902</td>\n",
       "      <td>0.073529</td>\n",
       "      <td>0.058754</td>\n",
       "      <td>0.403226</td>\n",
       "      <td>1.0</td>\n",
       "      <td>0.0</td>\n",
       "      <td>0.0</td>\n",
       "      <td>1.0</td>\n",
       "    </tr>\n",
       "    <tr>\n",
       "      <th>4</th>\n",
       "      <td>0.0</td>\n",
       "      <td>0.05</td>\n",
       "      <td>0.254902</td>\n",
       "      <td>0.014925</td>\n",
       "      <td>0.142857</td>\n",
       "      <td>0.857143</td>\n",
       "      <td>0.572917</td>\n",
       "      <td>0.272848</td>\n",
       "      <td>0.863636</td>\n",
       "      <td>0.186441</td>\n",
       "      <td>...</td>\n",
       "      <td>0.00</td>\n",
       "      <td>0.021978</td>\n",
       "      <td>0.012395</td>\n",
       "      <td>0.117647</td>\n",
       "      <td>0.095417</td>\n",
       "      <td>0.306452</td>\n",
       "      <td>0.0</td>\n",
       "      <td>1.0</td>\n",
       "      <td>0.0</td>\n",
       "      <td>1.0</td>\n",
       "    </tr>\n",
       "  </tbody>\n",
       "</table>\n",
       "<p>5 rows × 37 columns</p>\n",
       "</div>"
      ],
      "text/plain": [
       "    0     1         2         3         4         5         6         7   \\\n",
       "0  0.0  0.00  0.215686  0.462687  0.000000  0.000000  0.494792  0.107739   \n",
       "1  0.0  0.20  0.039216  0.985075  0.285714  0.142857  0.230208  0.029139   \n",
       "2  0.0  0.00  0.372549  0.029851  0.000000  0.000000  0.604167  0.107739   \n",
       "3  0.0  0.05  0.313725  0.701493  0.142857  0.571429  0.374792  0.001325   \n",
       "4  0.0  0.05  0.254902  0.014925  0.142857  0.857143  0.572917  0.272848   \n",
       "\n",
       "         8         9  ...     27        28        29        30        31  \\\n",
       "0  0.568182  0.152542 ...   0.05  0.013894  0.002829  0.055882  0.052657   \n",
       "1  0.840909  0.271186 ...   0.05  0.019980  0.017514  0.205882  0.121716   \n",
       "2  0.545455  0.152542 ...   0.05  0.009990  0.010104  0.005882  0.023354   \n",
       "3  0.795455  0.067797 ...   0.00  0.012987  0.003902  0.073529  0.058754   \n",
       "4  0.863636  0.186441 ...   0.00  0.021978  0.012395  0.117647  0.095417   \n",
       "\n",
       "         32   33   34   35   36  \n",
       "0  0.161290  1.0  0.0  0.0  1.0  \n",
       "1  0.241935  1.0  0.0  0.0  1.0  \n",
       "2  0.258065  1.0  0.0  0.0  1.0  \n",
       "3  0.403226  1.0  0.0  0.0  1.0  \n",
       "4  0.306452  0.0  1.0  0.0  1.0  \n",
       "\n",
       "[5 rows x 37 columns]"
      ]
     },
     "execution_count": 108,
     "metadata": {},
     "output_type": "execute_result"
    }
   ],
   "source": [
    "from sklearn import preprocessing\n",
    "\n",
    "X_train_mvt1_enc_values = X_train_mvt1_enc.values\n",
    "\n",
    "min_max_scaler = preprocessing.MinMaxScaler()\n",
    "\n",
    "X_train_mvt1_enc_values_scaled = min_max_scaler.fit_transform(X_train_mvt1_enc_values)\n",
    "\n",
    "X_train_mvt1_enc_values_scaled = pd.DataFrame(data=X_train_mvt1_enc_values_scaled)\n",
    "\n",
    "X_train_mvt1_enc_values_scaled.head()\n",
    "\n"
   ]
  },
  {
   "cell_type": "code",
   "execution_count": 109,
   "metadata": {},
   "outputs": [],
   "source": [
    "X_train_mvt1_enc_values_scaled.columns = X_train_mvt1_enc.columns"
   ]
  },
  {
   "cell_type": "markdown",
   "metadata": {},
   "source": [
    "## Premilinary ML model on cleaned data"
   ]
  },
  {
   "cell_type": "code",
   "execution_count": 110,
   "metadata": {
    "scrolled": true
   },
   "outputs": [
    {
     "name": "stdout",
     "output_type": "stream",
     "text": [
      "Index(['Dependent_Variable'], dtype='object')\n"
     ]
    }
   ],
   "source": [
    "y_train.drop(columns=['Unique_ID'], inplace=True)\n",
    "\n",
    "print (y_train.columns)"
   ]
  },
  {
   "cell_type": "code",
   "execution_count": 143,
   "metadata": {
    "scrolled": true
   },
   "outputs": [
    {
     "name": "stdout",
     "output_type": "stream",
     "text": [
      "(23135, 37) (23135, 1) (9915, 37) (9915, 1)\n"
     ]
    }
   ],
   "source": [
    "train_X, valid_X, train_y, valid_y = train_test_split(X_train_mvt1_enc_values_scaled, \n",
    "                                                      y_train, test_size=0.3, random_state=1, stratify=y_train,\n",
    "                                                     shuffle=True)\n",
    "\n",
    "print (train_X.shape, train_y.shape, valid_X.shape, valid_y.shape)"
   ]
  },
  {
   "cell_type": "code",
   "execution_count": 112,
   "metadata": {},
   "outputs": [],
   "source": [
    "def compute_accuracy(model_name, model, train_X, train_y, valid_X, valid_y):\n",
    "    \n",
    "    print (\"Accuracy of {} on the training set: {:.2f} %\".\n",
    "           format(model_name, model.score(train_X,train_y)*100))\n",
    "\n",
    "    print (\"Accuracy of {} on the valid set: {:.2f} %\".\n",
    "           format(model_name, model.score(valid_X,valid_y)*100))"
   ]
  },
  {
   "cell_type": "markdown",
   "metadata": {},
   "source": [
    "#### LogReg"
   ]
  },
  {
   "cell_type": "code",
   "execution_count": 113,
   "metadata": {},
   "outputs": [
    {
     "name": "stderr",
     "output_type": "stream",
     "text": [
      "/home/shaunak/anaconda3/lib/python3.6/site-packages/sklearn/linear_model/logistic.py:433: FutureWarning: Default solver will be changed to 'lbfgs' in 0.22. Specify a solver to silence this warning.\n",
      "  FutureWarning)\n",
      "/home/shaunak/anaconda3/lib/python3.6/site-packages/sklearn/utils/validation.py:761: DataConversionWarning: A column-vector y was passed when a 1d array was expected. Please change the shape of y to (n_samples, ), for example using ravel().\n",
      "  y = column_or_1d(y, warn=True)\n"
     ]
    },
    {
     "data": {
      "text/plain": [
       "LogisticRegression(C=100, class_weight=None, dual=False, fit_intercept=True,\n",
       "          intercept_scaling=1, max_iter=100, multi_class='warn',\n",
       "          n_jobs=None, penalty='l2', random_state=None, solver='warn',\n",
       "          tol=0.0001, verbose=0, warm_start=False)"
      ]
     },
     "execution_count": 113,
     "metadata": {},
     "output_type": "execute_result"
    }
   ],
   "source": [
    "log_reg_classifier = LogisticRegression(C=100)\n",
    "\n",
    "log_reg_classifier.fit(train_X, train_y)"
   ]
  },
  {
   "cell_type": "code",
   "execution_count": 114,
   "metadata": {
    "scrolled": false
   },
   "outputs": [
    {
     "name": "stdout",
     "output_type": "stream",
     "text": [
      "Accuracy of LogReg on the training set: 72.98 %\n",
      "Accuracy of LogReg on the valid set: 72.97 %\n"
     ]
    }
   ],
   "source": [
    "compute_accuracy('LogReg', log_reg_classifier, train_X, train_y, valid_X, valid_y)"
   ]
  },
  {
   "cell_type": "markdown",
   "metadata": {},
   "source": [
    "#### DT"
   ]
  },
  {
   "cell_type": "code",
   "execution_count": 167,
   "metadata": {},
   "outputs": [
    {
     "data": {
      "text/plain": [
       "DecisionTreeClassifier(class_weight=None, criterion='entropy', max_depth=10,\n",
       "            max_features=None, max_leaf_nodes=None,\n",
       "            min_impurity_decrease=0.0, min_impurity_split=None,\n",
       "            min_samples_leaf=1, min_samples_split=2,\n",
       "            min_weight_fraction_leaf=0.0, presort=False, random_state=None,\n",
       "            splitter='best')"
      ]
     },
     "execution_count": 167,
     "metadata": {},
     "output_type": "execute_result"
    }
   ],
   "source": [
    "tree = DecisionTreeClassifier(max_depth=10, criterion='entropy')\n",
    "\n",
    "tree.fit(train_X, train_y)"
   ]
  },
  {
   "cell_type": "code",
   "execution_count": 179,
   "metadata": {},
   "outputs": [
    {
     "name": "stdout",
     "output_type": "stream",
     "text": [
      "Accuracy of DT on the training set: 76.78 %\n",
      "Accuracy of DT on the valid set: 71.77 %\n"
     ]
    }
   ],
   "source": [
    "compute_accuracy('DT', tree, train_X, train_y, valid_X, valid_y)"
   ]
  },
  {
   "cell_type": "markdown",
   "metadata": {},
   "source": [
    "#### RF"
   ]
  },
  {
   "cell_type": "code",
   "execution_count": 175,
   "metadata": {},
   "outputs": [
    {
     "name": "stderr",
     "output_type": "stream",
     "text": [
      "/home/shaunak/anaconda3/lib/python3.6/site-packages/ipykernel_launcher.py:2: DataConversionWarning: A column-vector y was passed when a 1d array was expected. Please change the shape of y to (n_samples,), for example using ravel().\n",
      "  \n"
     ]
    },
    {
     "data": {
      "text/plain": [
       "RandomForestClassifier(bootstrap=True, class_weight=None, criterion='gini',\n",
       "            max_depth=20, max_features='auto', max_leaf_nodes=None,\n",
       "            min_impurity_decrease=0.0, min_impurity_split=None,\n",
       "            min_samples_leaf=1, min_samples_split=2,\n",
       "            min_weight_fraction_leaf=0.0, n_estimators=200, n_jobs=None,\n",
       "            oob_score=False, random_state=0, verbose=0, warm_start=False)"
      ]
     },
     "execution_count": 175,
     "metadata": {},
     "output_type": "execute_result"
    }
   ],
   "source": [
    "rf = RandomForestClassifier(n_estimators=200, random_state=0, max_depth=20)\n",
    "rf.fit(train_X, train_y)"
   ]
  },
  {
   "cell_type": "code",
   "execution_count": 180,
   "metadata": {
    "scrolled": true
   },
   "outputs": [
    {
     "name": "stdout",
     "output_type": "stream",
     "text": [
      "Accuracy of RF on the training set: 98.72 %\n",
      "Accuracy of RF on the valid set: 74.43 %\n"
     ]
    }
   ],
   "source": [
    "compute_accuracy('RF', rf, train_X, train_y, valid_X, valid_y)"
   ]
  },
  {
   "cell_type": "code",
   "execution_count": 179,
   "metadata": {},
   "outputs": [
    {
     "name": "stderr",
     "output_type": "stream",
     "text": [
      "/home/shaunak/anaconda3/lib/python3.6/site-packages/sklearn/utils/validation.py:761: DataConversionWarning: A column-vector y was passed when a 1d array was expected. Please change the shape of y to (n_samples, ), for example using ravel().\n",
      "  y = column_or_1d(y, warn=True)\n"
     ]
    },
    {
     "data": {
      "text/plain": [
       "LinearSVC(C=1, class_weight=None, dual=True, fit_intercept=True,\n",
       "     intercept_scaling=1, loss='squared_hinge', max_iter=1000,\n",
       "     multi_class='ovr', penalty='l2', random_state=None, tol=0.0001,\n",
       "     verbose=0)"
      ]
     },
     "execution_count": 179,
     "metadata": {},
     "output_type": "execute_result"
    }
   ],
   "source": [
    "sv_model = svm.LinearSVC(C=1)\n",
    "\n",
    "sv_model.fit(train_X, train_y)\n",
    "\n"
   ]
  },
  {
   "cell_type": "code",
   "execution_count": 180,
   "metadata": {},
   "outputs": [
    {
     "name": "stdout",
     "output_type": "stream",
     "text": [
      "Accuracy of SVC on the training set: 72.98 %\n",
      "Accuracy of SVC on the valid set: 72.86 %\n"
     ]
    }
   ],
   "source": [
    "compute_accuracy('SVC', sv_model, train_X, train_y, valid_X, valid_y)"
   ]
  },
  {
   "cell_type": "code",
   "execution_count": 129,
   "metadata": {},
   "outputs": [
    {
     "name": "stdout",
     "output_type": "stream",
     "text": [
      "0.5964866803031622\n"
     ]
    }
   ],
   "source": [
    "from sklearn.metrics import roc_curve, roc_auc_score, auc\n",
    "\n",
    "\n",
    "model = DecisionTreeClassifier(max_depth=20)\n",
    "model.fit(train_X, train_y)\n",
    "predictions = model.predict_proba(valid_X)\n",
    "\n",
    "fpr, tpr, thresholds = roc_curve(valid_y, predictions[:,1])\n",
    "\n",
    "print (roc_auc_score(valid_y, predictions[:,1]))"
   ]
  },
  {
   "cell_type": "code",
   "execution_count": 136,
   "metadata": {},
   "outputs": [
    {
     "name": "stderr",
     "output_type": "stream",
     "text": [
      "/home/shaunak/anaconda3/lib/python3.6/site-packages/ipykernel_launcher.py:2: DataConversionWarning: A column-vector y was passed when a 1d array was expected. Please change the shape of y to (n_samples,), for example using ravel().\n",
      "  \n"
     ]
    },
    {
     "name": "stdout",
     "output_type": "stream",
     "text": [
      "(2888,) (2888,) (2888,)\n",
      "0.7629712389783283\n"
     ]
    }
   ],
   "source": [
    "rf = RandomForestClassifier(n_estimators=500, random_state=0, max_depth=30)\n",
    "rf.fit(train_X, train_y)\n",
    "\n",
    "predictions = rf.predict_proba(valid_X)\n",
    "\n",
    "fpr, tpr, thresholds = roc_curve(valid_y, predictions[:,1])\n",
    "\n",
    "\n",
    "print(fpr.shape, tpr.shape, thresholds.shape)\n",
    "\n",
    "print (roc_auc_score(valid_y, predictions[:,1]))"
   ]
  },
  {
   "cell_type": "code",
   "execution_count": 163,
   "metadata": {},
   "outputs": [
    {
     "name": "stderr",
     "output_type": "stream",
     "text": [
      "/home/shaunak/anaconda3/lib/python3.6/site-packages/sklearn/linear_model/logistic.py:433: FutureWarning: Default solver will be changed to 'lbfgs' in 0.22. Specify a solver to silence this warning.\n",
      "  FutureWarning)\n",
      "/home/shaunak/anaconda3/lib/python3.6/site-packages/sklearn/utils/validation.py:761: DataConversionWarning: A column-vector y was passed when a 1d array was expected. Please change the shape of y to (n_samples, ), for example using ravel().\n",
      "  y = column_or_1d(y, warn=True)\n"
     ]
    },
    {
     "name": "stdout",
     "output_type": "stream",
     "text": [
      "0.744517817147882\n"
     ]
    }
   ],
   "source": [
    "log_reg_classifier = LogisticRegression(C=100)\n",
    "\n",
    "log_reg_classifier.fit(train_X, train_y)\n",
    "\n",
    "predictions = log_reg_classifier.predict_proba(valid_X)\n",
    "\n",
    "fpr, tpr, thresholds = roc_curve(valid_y, predictions[:,1])\n",
    "\n",
    "print (roc_auc_score(valid_y, predictions[:,1]))"
   ]
  },
  {
   "cell_type": "markdown",
   "metadata": {},
   "source": [
    "### Results so far\n",
    "\n",
    "Algorithm | AUC\n",
    "--- | ---\n",
    "DT | 0.60 (mvt+enc) | 0.59 (mvt+enc+scaled)\n",
    "RF | 0.76 (mvt+enc) | 0.7629 (mvt+enc+scaled)\n",
    "LogReg | 0.744 (mvt+enc) | 0.744 (mvt+enc+scaled)"
   ]
  },
  {
   "cell_type": "markdown",
   "metadata": {},
   "source": [
    "### Compare results with simply dropping any row with NA values"
   ]
  },
  {
   "cell_type": "code",
   "execution_count": 139,
   "metadata": {
    "scrolled": true
   },
   "outputs": [
    {
     "data": {
      "text/plain": [
       "(33050, 36)"
      ]
     },
     "execution_count": 139,
     "metadata": {},
     "output_type": "execute_result"
    }
   ],
   "source": [
    "X_train_all_na_drop = X_train.drop(columns=['N25', 'N26', 'N27', 'N28', 'N29', 'N30', 'N31', 'N32'])\n",
    "\n",
    "X_train_all_na_drop.shape"
   ]
  },
  {
   "cell_type": "code",
   "execution_count": 141,
   "metadata": {},
   "outputs": [
    {
     "data": {
      "text/plain": [
       "(26027, 36)"
      ]
     },
     "execution_count": 141,
     "metadata": {},
     "output_type": "execute_result"
    }
   ],
   "source": [
    "X_train_all_na_drop.dropna(axis=0, inplace=True)\n",
    "\n",
    "X_train_all_na_drop.shape"
   ]
  },
  {
   "cell_type": "markdown",
   "metadata": {},
   "source": [
    "Create ML models on this"
   ]
  },
  {
   "cell_type": "code",
   "execution_count": 148,
   "metadata": {},
   "outputs": [
    {
     "name": "stdout",
     "output_type": "stream",
     "text": [
      "         Unique_ID  Dependent_Variable\n",
      "0   Candidate_5926                   1\n",
      "1  Candidate_48134                   0\n",
      "2  Candidate_51717                   1\n",
      "3  Candidate_26401                   0\n",
      "4  Candidate_34872                   0\n"
     ]
    }
   ],
   "source": [
    "all_ids_in_X = list(X_train_all_na_drop['Unique_ID'])\n",
    "\n",
    "y_train1 = pd.read_csv('./Training/y_train.csv')\n",
    "\n",
    "print (y_train1.head())"
   ]
  },
  {
   "cell_type": "code",
   "execution_count": 157,
   "metadata": {
    "scrolled": false
   },
   "outputs": [
    {
     "data": {
      "text/plain": [
       "True"
      ]
     },
     "execution_count": 157,
     "metadata": {},
     "output_type": "execute_result"
    }
   ],
   "source": [
    "y_train1 = y_train1[y_train1['Unique_ID'].isin(all_ids_in_X)]\n",
    "\n",
    "list (y_train1['Unique_ID']) == all_ids_in_X"
   ]
  },
  {
   "cell_type": "code",
   "execution_count": 158,
   "metadata": {},
   "outputs": [],
   "source": [
    "X_train_all_na_drop.drop(columns=['Unique_ID'], inplace=True)\n",
    "\n",
    "y_train1.drop(columns=['Unique_ID'], inplace=True)"
   ]
  },
  {
   "cell_type": "code",
   "execution_count": 159,
   "metadata": {},
   "outputs": [],
   "source": [
    "train_X1, valid_X1, train_y1, valid_y1 = train_test_split(X_train_all_na_drop, \n",
    "                                                      y_train1, test_size=0.3, random_state=1, stratify=y_train1,\n",
    "                                                     shuffle=True)"
   ]
  },
  {
   "cell_type": "code",
   "execution_count": 160,
   "metadata": {},
   "outputs": [
    {
     "name": "stderr",
     "output_type": "stream",
     "text": [
      "/home/shaunak/anaconda3/lib/python3.6/site-packages/ipykernel_launcher.py:2: DataConversionWarning: A column-vector y was passed when a 1d array was expected. Please change the shape of y to (n_samples,), for example using ravel().\n",
      "  \n"
     ]
    },
    {
     "name": "stdout",
     "output_type": "stream",
     "text": [
      "(2037,) (2037,) (2037,)\n",
      "0.7511350975687954\n"
     ]
    }
   ],
   "source": [
    "rf = RandomForestClassifier(n_estimators=500, random_state=0, max_depth=30)\n",
    "rf.fit(train_X1, train_y1)\n",
    "\n",
    "predictions = rf.predict_proba(valid_X1)\n",
    "\n",
    "fpr, tpr, thresholds = roc_curve(valid_y1, predictions[:,1])\n",
    "\n",
    "\n",
    "print(fpr.shape, tpr.shape, thresholds.shape)\n",
    "\n",
    "print (roc_auc_score(valid_y1, predictions[:,1]))"
   ]
  },
  {
   "cell_type": "code",
   "execution_count": 162,
   "metadata": {},
   "outputs": [
    {
     "name": "stderr",
     "output_type": "stream",
     "text": [
      "/home/shaunak/anaconda3/lib/python3.6/site-packages/sklearn/linear_model/logistic.py:433: FutureWarning: Default solver will be changed to 'lbfgs' in 0.22. Specify a solver to silence this warning.\n",
      "  FutureWarning)\n",
      "/home/shaunak/anaconda3/lib/python3.6/site-packages/sklearn/utils/validation.py:761: DataConversionWarning: A column-vector y was passed when a 1d array was expected. Please change the shape of y to (n_samples, ), for example using ravel().\n",
      "  y = column_or_1d(y, warn=True)\n"
     ]
    },
    {
     "name": "stdout",
     "output_type": "stream",
     "text": [
      "0.7379334888819633\n"
     ]
    }
   ],
   "source": [
    "log_reg_classifier = LogisticRegression(C=100)\n",
    "\n",
    "log_reg_classifier.fit(train_X1, train_y1)\n",
    "\n",
    "predictions = log_reg_classifier.predict_proba(valid_X1)\n",
    "\n",
    "fpr, tpr, thresholds = roc_curve(valid_y1, predictions[:,1])\n",
    "\n",
    "print (roc_auc_score(valid_y1, predictions[:,1]))"
   ]
  },
  {
   "cell_type": "markdown",
   "metadata": {},
   "source": [
    "**The AUC value decreases, which proves that out Missing Value Treatment has helped**"
   ]
  },
  {
   "cell_type": "code",
   "execution_count": null,
   "metadata": {},
   "outputs": [],
   "source": []
  }
 ],
 "metadata": {
  "kernelspec": {
   "display_name": "Python 3",
   "language": "python",
   "name": "python3"
  },
  "language_info": {
   "codemirror_mode": {
    "name": "ipython",
    "version": 3
   },
   "file_extension": ".py",
   "mimetype": "text/x-python",
   "name": "python",
   "nbconvert_exporter": "python",
   "pygments_lexer": "ipython3",
   "version": "3.6.8"
  }
 },
 "nbformat": 4,
 "nbformat_minor": 2
}
