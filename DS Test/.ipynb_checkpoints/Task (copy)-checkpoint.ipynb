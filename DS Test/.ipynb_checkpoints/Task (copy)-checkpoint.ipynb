{
 "cells": [
  {
   "cell_type": "markdown",
   "metadata": {},
   "source": [
    "### Imprt libraries and read the data"
   ]
  },
  {
   "cell_type": "code",
   "execution_count": 687,
   "metadata": {},
   "outputs": [],
   "source": [
    "import pandas as pd\n",
    "import numpy as np\n",
    "%matplotlib inline\n",
    "import matplotlib.pyplot as plt\n",
    "from matplotlib import pyplot\n",
    "import seaborn as sns\n",
    "from scipy import stats\n",
    "\n",
    "from sklearn.neighbors import KNeighborsClassifier\n",
    "from sklearn.model_selection import train_test_split\n",
    "from sklearn.linear_model import LogisticRegression\n",
    "from sklearn.tree import DecisionTreeClassifier\n",
    "from sklearn.ensemble import RandomForestClassifier\n",
    "from sklearn.metrics import accuracy_score\n",
    "from sklearn import svm\n",
    "\n",
    "\n",
    "from sklearn.model_selection import cross_val_score, GridSearchCV, KFold, RandomizedSearchCV\n"
   ]
  },
  {
   "cell_type": "code",
   "execution_count": 688,
   "metadata": {},
   "outputs": [
    {
     "data": {
      "text/html": [
       "<div>\n",
       "<style scoped>\n",
       "    .dataframe tbody tr th:only-of-type {\n",
       "        vertical-align: middle;\n",
       "    }\n",
       "\n",
       "    .dataframe tbody tr th {\n",
       "        vertical-align: top;\n",
       "    }\n",
       "\n",
       "    .dataframe thead th {\n",
       "        text-align: right;\n",
       "    }\n",
       "</style>\n",
       "<table border=\"1\" class=\"dataframe\">\n",
       "  <thead>\n",
       "    <tr style=\"text-align: right;\">\n",
       "      <th></th>\n",
       "      <th>Unique_ID</th>\n",
       "      <th>C1</th>\n",
       "      <th>C2</th>\n",
       "      <th>C3</th>\n",
       "      <th>C4</th>\n",
       "      <th>C5</th>\n",
       "      <th>C6</th>\n",
       "      <th>C7</th>\n",
       "      <th>C8</th>\n",
       "      <th>N1</th>\n",
       "      <th>...</th>\n",
       "      <th>N26</th>\n",
       "      <th>N27</th>\n",
       "      <th>N28</th>\n",
       "      <th>N29</th>\n",
       "      <th>N30</th>\n",
       "      <th>N31</th>\n",
       "      <th>N32</th>\n",
       "      <th>N33</th>\n",
       "      <th>N34</th>\n",
       "      <th>N35</th>\n",
       "    </tr>\n",
       "  </thead>\n",
       "  <tbody>\n",
       "    <tr>\n",
       "      <th>0</th>\n",
       "      <td>Candidate_5926</td>\n",
       "      <td>1</td>\n",
       "      <td>0</td>\n",
       "      <td>11</td>\n",
       "      <td>31</td>\n",
       "      <td>0</td>\n",
       "      <td>False</td>\n",
       "      <td>0</td>\n",
       "      <td>True</td>\n",
       "      <td>23.75</td>\n",
       "      <td>...</td>\n",
       "      <td>NaN</td>\n",
       "      <td>NaN</td>\n",
       "      <td>NaN</td>\n",
       "      <td>NaN</td>\n",
       "      <td>NaN</td>\n",
       "      <td>NaN</td>\n",
       "      <td>NaN</td>\n",
       "      <td>58.0</td>\n",
       "      <td>113.39</td>\n",
       "      <td>12.0</td>\n",
       "    </tr>\n",
       "    <tr>\n",
       "      <th>1</th>\n",
       "      <td>Candidate_48134</td>\n",
       "      <td>1</td>\n",
       "      <td>4</td>\n",
       "      <td>2</td>\n",
       "      <td>66</td>\n",
       "      <td>2</td>\n",
       "      <td>False</td>\n",
       "      <td>1</td>\n",
       "      <td>True</td>\n",
       "      <td>11.05</td>\n",
       "      <td>...</td>\n",
       "      <td>NaN</td>\n",
       "      <td>NaN</td>\n",
       "      <td>NaN</td>\n",
       "      <td>NaN</td>\n",
       "      <td>NaN</td>\n",
       "      <td>NaN</td>\n",
       "      <td>NaN</td>\n",
       "      <td>160.0</td>\n",
       "      <td>262.10</td>\n",
       "      <td>17.0</td>\n",
       "    </tr>\n",
       "    <tr>\n",
       "      <th>2</th>\n",
       "      <td>Candidate_51717</td>\n",
       "      <td>1</td>\n",
       "      <td>0</td>\n",
       "      <td>19</td>\n",
       "      <td>2</td>\n",
       "      <td>0</td>\n",
       "      <td>False</td>\n",
       "      <td>0</td>\n",
       "      <td>True</td>\n",
       "      <td>29.00</td>\n",
       "      <td>...</td>\n",
       "      <td>NaN</td>\n",
       "      <td>NaN</td>\n",
       "      <td>NaN</td>\n",
       "      <td>NaN</td>\n",
       "      <td>NaN</td>\n",
       "      <td>NaN</td>\n",
       "      <td>NaN</td>\n",
       "      <td>24.0</td>\n",
       "      <td>50.29</td>\n",
       "      <td>18.0</td>\n",
       "    </tr>\n",
       "    <tr>\n",
       "      <th>3</th>\n",
       "      <td>Candidate_26401</td>\n",
       "      <td>1</td>\n",
       "      <td>1</td>\n",
       "      <td>16</td>\n",
       "      <td>47</td>\n",
       "      <td>1</td>\n",
       "      <td>False</td>\n",
       "      <td>4</td>\n",
       "      <td>True</td>\n",
       "      <td>17.99</td>\n",
       "      <td>...</td>\n",
       "      <td>NaN</td>\n",
       "      <td>NaN</td>\n",
       "      <td>NaN</td>\n",
       "      <td>NaN</td>\n",
       "      <td>NaN</td>\n",
       "      <td>NaN</td>\n",
       "      <td>NaN</td>\n",
       "      <td>70.0</td>\n",
       "      <td>126.52</td>\n",
       "      <td>27.0</td>\n",
       "    </tr>\n",
       "    <tr>\n",
       "      <th>4</th>\n",
       "      <td>Candidate_34872</td>\n",
       "      <td>1</td>\n",
       "      <td>1</td>\n",
       "      <td>13</td>\n",
       "      <td>1</td>\n",
       "      <td>1</td>\n",
       "      <td>True</td>\n",
       "      <td>6</td>\n",
       "      <td>True</td>\n",
       "      <td>27.50</td>\n",
       "      <td>...</td>\n",
       "      <td>NaN</td>\n",
       "      <td>NaN</td>\n",
       "      <td>NaN</td>\n",
       "      <td>NaN</td>\n",
       "      <td>NaN</td>\n",
       "      <td>NaN</td>\n",
       "      <td>NaN</td>\n",
       "      <td>100.0</td>\n",
       "      <td>205.47</td>\n",
       "      <td>21.0</td>\n",
       "    </tr>\n",
       "  </tbody>\n",
       "</table>\n",
       "<p>5 rows × 44 columns</p>\n",
       "</div>"
      ],
      "text/plain": [
       "         Unique_ID  C1  C2  C3  C4  C5     C6  C7    C8     N1  ...   N26  \\\n",
       "0   Candidate_5926   1   0  11  31   0  False   0  True  23.75  ...   NaN   \n",
       "1  Candidate_48134   1   4   2  66   2  False   1  True  11.05  ...   NaN   \n",
       "2  Candidate_51717   1   0  19   2   0  False   0  True  29.00  ...   NaN   \n",
       "3  Candidate_26401   1   1  16  47   1  False   4  True  17.99  ...   NaN   \n",
       "4  Candidate_34872   1   1  13   1   1   True   6  True  27.50  ...   NaN   \n",
       "\n",
       "   N27  N28  N29  N30  N31  N32    N33     N34   N35  \n",
       "0  NaN  NaN  NaN  NaN  NaN  NaN   58.0  113.39  12.0  \n",
       "1  NaN  NaN  NaN  NaN  NaN  NaN  160.0  262.10  17.0  \n",
       "2  NaN  NaN  NaN  NaN  NaN  NaN   24.0   50.29  18.0  \n",
       "3  NaN  NaN  NaN  NaN  NaN  NaN   70.0  126.52  27.0  \n",
       "4  NaN  NaN  NaN  NaN  NaN  NaN  100.0  205.47  21.0  \n",
       "\n",
       "[5 rows x 44 columns]"
      ]
     },
     "execution_count": 688,
     "metadata": {},
     "output_type": "execute_result"
    }
   ],
   "source": [
    "X_train = pd.read_csv('./Training/X_train.csv')\n",
    "\n",
    "X_train.head()"
   ]
  },
  {
   "cell_type": "markdown",
   "metadata": {},
   "source": [
    "Checking the data types:"
   ]
  },
  {
   "cell_type": "code",
   "execution_count": 689,
   "metadata": {
    "scrolled": true
   },
   "outputs": [
    {
     "name": "stdout",
     "output_type": "stream",
     "text": [
      "Unique_ID     object\n",
      "C1             int64\n",
      "C2             int64\n",
      "C3             int64\n",
      "C4             int64\n",
      "C5             int64\n",
      "C6              bool\n",
      "C7             int64\n",
      "C8              bool\n",
      "N1           float64\n",
      "N2           float64\n",
      "N3           float64\n",
      "N4           float64\n",
      "N5           float64\n",
      "N6           float64\n",
      "N7           float64\n",
      "N8             int64\n",
      "N9             int64\n",
      "N10          float64\n",
      "N10.1        float64\n",
      "N11          float64\n",
      "N12          float64\n",
      "N14          float64\n",
      "N15          float64\n",
      "N16          float64\n",
      "N17          float64\n",
      "N18          float64\n",
      "N19          float64\n",
      "N20          float64\n",
      "N21          float64\n",
      "N22          float64\n",
      "N23          float64\n",
      "N24          float64\n",
      "N25          float64\n",
      "N26          float64\n",
      "N27          float64\n",
      "N28          float64\n",
      "N29          float64\n",
      "N30          float64\n",
      "N31          float64\n",
      "N32          float64\n",
      "N33          float64\n",
      "N34          float64\n",
      "N35          float64\n",
      "dtype: object\n"
     ]
    }
   ],
   "source": [
    "print (X_train.dtypes)"
   ]
  },
  {
   "cell_type": "markdown",
   "metadata": {},
   "source": [
    "The column data types seem correct\n",
    "\n",
    "\n",
    "Categorical cols are C6 and C8"
   ]
  },
  {
   "cell_type": "code",
   "execution_count": 690,
   "metadata": {},
   "outputs": [],
   "source": [
    "nrows, ncols = X_train.shape[0], X_train.shape[1]"
   ]
  },
  {
   "cell_type": "code",
   "execution_count": 691,
   "metadata": {},
   "outputs": [],
   "source": [
    "cols = list(X_train.columns)"
   ]
  },
  {
   "cell_type": "markdown",
   "metadata": {},
   "source": [
    "\n",
    "### Check statistical summary of each col\n",
    "\n",
    "This only considers numerical values"
   ]
  },
  {
   "cell_type": "code",
   "execution_count": 692,
   "metadata": {
    "scrolled": false
   },
   "outputs": [
    {
     "data": {
      "text/html": [
       "<div>\n",
       "<style scoped>\n",
       "    .dataframe tbody tr th:only-of-type {\n",
       "        vertical-align: middle;\n",
       "    }\n",
       "\n",
       "    .dataframe tbody tr th {\n",
       "        vertical-align: top;\n",
       "    }\n",
       "\n",
       "    .dataframe thead th {\n",
       "        text-align: right;\n",
       "    }\n",
       "</style>\n",
       "<table border=\"1\" class=\"dataframe\">\n",
       "  <thead>\n",
       "    <tr style=\"text-align: right;\">\n",
       "      <th></th>\n",
       "      <th>Unique_ID</th>\n",
       "      <th>C1</th>\n",
       "      <th>C2</th>\n",
       "      <th>C3</th>\n",
       "      <th>C4</th>\n",
       "      <th>C5</th>\n",
       "      <th>C6</th>\n",
       "      <th>C7</th>\n",
       "      <th>C8</th>\n",
       "      <th>N1</th>\n",
       "      <th>N2</th>\n",
       "      <th>N3</th>\n",
       "      <th>N4</th>\n",
       "      <th>N5</th>\n",
       "      <th>N6</th>\n",
       "      <th>N7</th>\n",
       "    </tr>\n",
       "  </thead>\n",
       "  <tbody>\n",
       "    <tr>\n",
       "      <th>count</th>\n",
       "      <td>33050</td>\n",
       "      <td>33050.000000</td>\n",
       "      <td>33050.000000</td>\n",
       "      <td>33050.000000</td>\n",
       "      <td>33050.000000</td>\n",
       "      <td>33050.000000</td>\n",
       "      <td>33050</td>\n",
       "      <td>33050.000000</td>\n",
       "      <td>33050</td>\n",
       "      <td>33050.00000</td>\n",
       "      <td>28438.000000</td>\n",
       "      <td>32685.000000</td>\n",
       "      <td>28444.000000</td>\n",
       "      <td>28444.000000</td>\n",
       "      <td>32685.000000</td>\n",
       "      <td>32623.000000</td>\n",
       "    </tr>\n",
       "    <tr>\n",
       "      <th>unique</th>\n",
       "      <td>33050</td>\n",
       "      <td>NaN</td>\n",
       "      <td>NaN</td>\n",
       "      <td>NaN</td>\n",
       "      <td>NaN</td>\n",
       "      <td>NaN</td>\n",
       "      <td>2</td>\n",
       "      <td>NaN</td>\n",
       "      <td>2</td>\n",
       "      <td>NaN</td>\n",
       "      <td>NaN</td>\n",
       "      <td>NaN</td>\n",
       "      <td>NaN</td>\n",
       "      <td>NaN</td>\n",
       "      <td>NaN</td>\n",
       "      <td>NaN</td>\n",
       "    </tr>\n",
       "    <tr>\n",
       "      <th>top</th>\n",
       "      <td>Candidate_28712</td>\n",
       "      <td>NaN</td>\n",
       "      <td>NaN</td>\n",
       "      <td>NaN</td>\n",
       "      <td>NaN</td>\n",
       "      <td>NaN</td>\n",
       "      <td>False</td>\n",
       "      <td>NaN</td>\n",
       "      <td>True</td>\n",
       "      <td>NaN</td>\n",
       "      <td>NaN</td>\n",
       "      <td>NaN</td>\n",
       "      <td>NaN</td>\n",
       "      <td>NaN</td>\n",
       "      <td>NaN</td>\n",
       "      <td>NaN</td>\n",
       "    </tr>\n",
       "    <tr>\n",
       "      <th>freq</th>\n",
       "      <td>1</td>\n",
       "      <td>NaN</td>\n",
       "      <td>NaN</td>\n",
       "      <td>NaN</td>\n",
       "      <td>NaN</td>\n",
       "      <td>NaN</td>\n",
       "      <td>17584</td>\n",
       "      <td>NaN</td>\n",
       "      <td>30516</td>\n",
       "      <td>NaN</td>\n",
       "      <td>NaN</td>\n",
       "      <td>NaN</td>\n",
       "      <td>NaN</td>\n",
       "      <td>NaN</td>\n",
       "      <td>NaN</td>\n",
       "      <td>NaN</td>\n",
       "    </tr>\n",
       "    <tr>\n",
       "      <th>mean</th>\n",
       "      <td>NaN</td>\n",
       "      <td>1.119818</td>\n",
       "      <td>2.403873</td>\n",
       "      <td>12.856097</td>\n",
       "      <td>14.437398</td>\n",
       "      <td>1.719395</td>\n",
       "      <td>NaN</td>\n",
       "      <td>3.124932</td>\n",
       "      <td>NaN</td>\n",
       "      <td>19.97653</td>\n",
       "      <td>81.342710</td>\n",
       "      <td>3.359361</td>\n",
       "      <td>9.574075</td>\n",
       "      <td>8.350127</td>\n",
       "      <td>3.454361</td>\n",
       "      <td>25.229930</td>\n",
       "    </tr>\n",
       "    <tr>\n",
       "      <th>std</th>\n",
       "      <td>NaN</td>\n",
       "      <td>0.399382</td>\n",
       "      <td>3.399024</td>\n",
       "      <td>12.013457</td>\n",
       "      <td>15.527474</td>\n",
       "      <td>1.320860</td>\n",
       "      <td>NaN</td>\n",
       "      <td>2.158905</td>\n",
       "      <td>NaN</td>\n",
       "      <td>8.11087</td>\n",
       "      <td>85.397795</td>\n",
       "      <td>0.411040</td>\n",
       "      <td>5.584756</td>\n",
       "      <td>4.999040</td>\n",
       "      <td>0.411040</td>\n",
       "      <td>14.274854</td>\n",
       "    </tr>\n",
       "    <tr>\n",
       "      <th>min</th>\n",
       "      <td>NaN</td>\n",
       "      <td>1.000000</td>\n",
       "      <td>0.000000</td>\n",
       "      <td>0.000000</td>\n",
       "      <td>0.000000</td>\n",
       "      <td>0.000000</td>\n",
       "      <td>NaN</td>\n",
       "      <td>0.000000</td>\n",
       "      <td>NaN</td>\n",
       "      <td>0.00000</td>\n",
       "      <td>0.000000</td>\n",
       "      <td>0.000000</td>\n",
       "      <td>0.000000</td>\n",
       "      <td>0.000000</td>\n",
       "      <td>0.095000</td>\n",
       "      <td>2.000000</td>\n",
       "    </tr>\n",
       "    <tr>\n",
       "      <th>25%</th>\n",
       "      <td>NaN</td>\n",
       "      <td>1.000000</td>\n",
       "      <td>0.000000</td>\n",
       "      <td>2.000000</td>\n",
       "      <td>1.000000</td>\n",
       "      <td>1.000000</td>\n",
       "      <td>NaN</td>\n",
       "      <td>1.000000</td>\n",
       "      <td>NaN</td>\n",
       "      <td>13.45000</td>\n",
       "      <td>21.000000</td>\n",
       "      <td>3.200000</td>\n",
       "      <td>6.000000</td>\n",
       "      <td>5.000000</td>\n",
       "      <td>3.295000</td>\n",
       "      <td>15.000000</td>\n",
       "    </tr>\n",
       "    <tr>\n",
       "      <th>50%</th>\n",
       "      <td>NaN</td>\n",
       "      <td>1.000000</td>\n",
       "      <td>1.000000</td>\n",
       "      <td>10.000000</td>\n",
       "      <td>10.000000</td>\n",
       "      <td>2.000000</td>\n",
       "      <td>NaN</td>\n",
       "      <td>4.000000</td>\n",
       "      <td>NaN</td>\n",
       "      <td>19.27500</td>\n",
       "      <td>53.000000</td>\n",
       "      <td>3.400000</td>\n",
       "      <td>9.000000</td>\n",
       "      <td>8.000000</td>\n",
       "      <td>3.495000</td>\n",
       "      <td>23.000000</td>\n",
       "    </tr>\n",
       "    <tr>\n",
       "      <th>75%</th>\n",
       "      <td>NaN</td>\n",
       "      <td>1.000000</td>\n",
       "      <td>3.000000</td>\n",
       "      <td>20.000000</td>\n",
       "      <td>26.000000</td>\n",
       "      <td>2.000000</td>\n",
       "      <td>NaN</td>\n",
       "      <td>4.000000</td>\n",
       "      <td>NaN</td>\n",
       "      <td>26.90000</td>\n",
       "      <td>112.000000</td>\n",
       "      <td>3.600000</td>\n",
       "      <td>13.000000</td>\n",
       "      <td>11.000000</td>\n",
       "      <td>3.695000</td>\n",
       "      <td>33.000000</td>\n",
       "    </tr>\n",
       "    <tr>\n",
       "      <th>max</th>\n",
       "      <td>NaN</td>\n",
       "      <td>3.000000</td>\n",
       "      <td>20.000000</td>\n",
       "      <td>51.000000</td>\n",
       "      <td>67.000000</td>\n",
       "      <td>7.000000</td>\n",
       "      <td>NaN</td>\n",
       "      <td>7.000000</td>\n",
       "      <td>NaN</td>\n",
       "      <td>48.00000</td>\n",
       "      <td>755.000000</td>\n",
       "      <td>4.400000</td>\n",
       "      <td>59.000000</td>\n",
       "      <td>51.000000</td>\n",
       "      <td>4.495000</td>\n",
       "      <td>129.000000</td>\n",
       "    </tr>\n",
       "  </tbody>\n",
       "</table>\n",
       "</div>"
      ],
      "text/plain": [
       "              Unique_ID            C1            C2            C3  \\\n",
       "count             33050  33050.000000  33050.000000  33050.000000   \n",
       "unique            33050           NaN           NaN           NaN   \n",
       "top     Candidate_28712           NaN           NaN           NaN   \n",
       "freq                  1           NaN           NaN           NaN   \n",
       "mean                NaN      1.119818      2.403873     12.856097   \n",
       "std                 NaN      0.399382      3.399024     12.013457   \n",
       "min                 NaN      1.000000      0.000000      0.000000   \n",
       "25%                 NaN      1.000000      0.000000      2.000000   \n",
       "50%                 NaN      1.000000      1.000000     10.000000   \n",
       "75%                 NaN      1.000000      3.000000     20.000000   \n",
       "max                 NaN      3.000000     20.000000     51.000000   \n",
       "\n",
       "                  C4            C5     C6            C7     C8           N1  \\\n",
       "count   33050.000000  33050.000000  33050  33050.000000  33050  33050.00000   \n",
       "unique           NaN           NaN      2           NaN      2          NaN   \n",
       "top              NaN           NaN  False           NaN   True          NaN   \n",
       "freq             NaN           NaN  17584           NaN  30516          NaN   \n",
       "mean       14.437398      1.719395    NaN      3.124932    NaN     19.97653   \n",
       "std        15.527474      1.320860    NaN      2.158905    NaN      8.11087   \n",
       "min         0.000000      0.000000    NaN      0.000000    NaN      0.00000   \n",
       "25%         1.000000      1.000000    NaN      1.000000    NaN     13.45000   \n",
       "50%        10.000000      2.000000    NaN      4.000000    NaN     19.27500   \n",
       "75%        26.000000      2.000000    NaN      4.000000    NaN     26.90000   \n",
       "max        67.000000      7.000000    NaN      7.000000    NaN     48.00000   \n",
       "\n",
       "                  N2            N3            N4            N5            N6  \\\n",
       "count   28438.000000  32685.000000  28444.000000  28444.000000  32685.000000   \n",
       "unique           NaN           NaN           NaN           NaN           NaN   \n",
       "top              NaN           NaN           NaN           NaN           NaN   \n",
       "freq             NaN           NaN           NaN           NaN           NaN   \n",
       "mean       81.342710      3.359361      9.574075      8.350127      3.454361   \n",
       "std        85.397795      0.411040      5.584756      4.999040      0.411040   \n",
       "min         0.000000      0.000000      0.000000      0.000000      0.095000   \n",
       "25%        21.000000      3.200000      6.000000      5.000000      3.295000   \n",
       "50%        53.000000      3.400000      9.000000      8.000000      3.495000   \n",
       "75%       112.000000      3.600000     13.000000     11.000000      3.695000   \n",
       "max       755.000000      4.400000     59.000000     51.000000      4.495000   \n",
       "\n",
       "                  N7  \n",
       "count   32623.000000  \n",
       "unique           NaN  \n",
       "top              NaN  \n",
       "freq             NaN  \n",
       "mean       25.229930  \n",
       "std        14.274854  \n",
       "min         2.000000  \n",
       "25%        15.000000  \n",
       "50%        23.000000  \n",
       "75%        33.000000  \n",
       "max       129.000000  "
      ]
     },
     "execution_count": 692,
     "metadata": {},
     "output_type": "execute_result"
    }
   ],
   "source": [
    "# first 15 cols description\n",
    "\n",
    "X_train[cols[:16]].describe(include='all')"
   ]
  },
  {
   "cell_type": "code",
   "execution_count": 693,
   "metadata": {
    "scrolled": true
   },
   "outputs": [
    {
     "data": {
      "text/html": [
       "<div>\n",
       "<style scoped>\n",
       "    .dataframe tbody tr th:only-of-type {\n",
       "        vertical-align: middle;\n",
       "    }\n",
       "\n",
       "    .dataframe tbody tr th {\n",
       "        vertical-align: top;\n",
       "    }\n",
       "\n",
       "    .dataframe thead th {\n",
       "        text-align: right;\n",
       "    }\n",
       "</style>\n",
       "<table border=\"1\" class=\"dataframe\">\n",
       "  <thead>\n",
       "    <tr style=\"text-align: right;\">\n",
       "      <th></th>\n",
       "      <th>N7</th>\n",
       "      <th>N8</th>\n",
       "      <th>N9</th>\n",
       "      <th>N10</th>\n",
       "      <th>N10.1</th>\n",
       "      <th>N11</th>\n",
       "      <th>N12</th>\n",
       "      <th>N14</th>\n",
       "      <th>N15</th>\n",
       "      <th>N16</th>\n",
       "      <th>N17</th>\n",
       "      <th>N18</th>\n",
       "      <th>N19</th>\n",
       "      <th>N20</th>\n",
       "      <th>N21</th>\n",
       "      <th>N22</th>\n",
       "    </tr>\n",
       "  </thead>\n",
       "  <tbody>\n",
       "    <tr>\n",
       "      <th>count</th>\n",
       "      <td>32623.000000</td>\n",
       "      <td>33050.000000</td>\n",
       "      <td>33050.000000</td>\n",
       "      <td>32623.000000</td>\n",
       "      <td>32623.000000</td>\n",
       "      <td>32334.000000</td>\n",
       "      <td>28436.000000</td>\n",
       "      <td>32442.000000</td>\n",
       "      <td>32623.000000</td>\n",
       "      <td>28444.000000</td>\n",
       "      <td>2.844400e+04</td>\n",
       "      <td>28444.000000</td>\n",
       "      <td>28479.000000</td>\n",
       "      <td>28479.000000</td>\n",
       "      <td>28479.000000</td>\n",
       "      <td>28479.000000</td>\n",
       "    </tr>\n",
       "    <tr>\n",
       "      <th>mean</th>\n",
       "      <td>25.229930</td>\n",
       "      <td>6.082723</td>\n",
       "      <td>325.585870</td>\n",
       "      <td>0.903381</td>\n",
       "      <td>2.044049</td>\n",
       "      <td>7.108678</td>\n",
       "      <td>1016.018568</td>\n",
       "      <td>4.537760</td>\n",
       "      <td>0.330135</td>\n",
       "      <td>0.023203</td>\n",
       "      <td>1.582073e+04</td>\n",
       "      <td>0.528907</td>\n",
       "      <td>11037.365322</td>\n",
       "      <td>21.764142</td>\n",
       "      <td>0.857199</td>\n",
       "      <td>0.906422</td>\n",
       "    </tr>\n",
       "    <tr>\n",
       "      <th>std</th>\n",
       "      <td>14.274854</td>\n",
       "      <td>4.535870</td>\n",
       "      <td>452.149358</td>\n",
       "      <td>2.635207</td>\n",
       "      <td>3.172081</td>\n",
       "      <td>8.304500</td>\n",
       "      <td>6739.984010</td>\n",
       "      <td>10.610457</td>\n",
       "      <td>0.799125</td>\n",
       "      <td>0.175363</td>\n",
       "      <td>3.405137e+04</td>\n",
       "      <td>0.350046</td>\n",
       "      <td>22052.222523</td>\n",
       "      <td>12.438568</td>\n",
       "      <td>0.173017</td>\n",
       "      <td>1.227818</td>\n",
       "    </tr>\n",
       "    <tr>\n",
       "      <th>min</th>\n",
       "      <td>2.000000</td>\n",
       "      <td>0.000000</td>\n",
       "      <td>0.000000</td>\n",
       "      <td>0.000000</td>\n",
       "      <td>0.000000</td>\n",
       "      <td>0.000000</td>\n",
       "      <td>0.000000</td>\n",
       "      <td>0.000000</td>\n",
       "      <td>0.000000</td>\n",
       "      <td>0.000000</td>\n",
       "      <td>0.000000e+00</td>\n",
       "      <td>0.000000</td>\n",
       "      <td>0.000000</td>\n",
       "      <td>0.000000</td>\n",
       "      <td>0.000000</td>\n",
       "      <td>0.000000</td>\n",
       "    </tr>\n",
       "    <tr>\n",
       "      <th>25%</th>\n",
       "      <td>15.000000</td>\n",
       "      <td>3.000000</td>\n",
       "      <td>60.000000</td>\n",
       "      <td>0.000000</td>\n",
       "      <td>0.000000</td>\n",
       "      <td>2.000000</td>\n",
       "      <td>0.000000</td>\n",
       "      <td>0.000000</td>\n",
       "      <td>0.000000</td>\n",
       "      <td>0.000000</td>\n",
       "      <td>1.647000e+03</td>\n",
       "      <td>0.210000</td>\n",
       "      <td>523.000000</td>\n",
       "      <td>13.000000</td>\n",
       "      <td>0.770000</td>\n",
       "      <td>0.000000</td>\n",
       "    </tr>\n",
       "    <tr>\n",
       "      <th>50%</th>\n",
       "      <td>23.000000</td>\n",
       "      <td>5.000000</td>\n",
       "      <td>183.000000</td>\n",
       "      <td>0.000000</td>\n",
       "      <td>1.000000</td>\n",
       "      <td>5.000000</td>\n",
       "      <td>0.000000</td>\n",
       "      <td>0.000000</td>\n",
       "      <td>0.000000</td>\n",
       "      <td>0.000000</td>\n",
       "      <td>6.073000e+03</td>\n",
       "      <td>0.560000</td>\n",
       "      <td>3352.000000</td>\n",
       "      <td>20.000000</td>\n",
       "      <td>0.920000</td>\n",
       "      <td>1.000000</td>\n",
       "    </tr>\n",
       "    <tr>\n",
       "      <th>75%</th>\n",
       "      <td>33.000000</td>\n",
       "      <td>8.000000</td>\n",
       "      <td>420.000000</td>\n",
       "      <td>1.000000</td>\n",
       "      <td>3.000000</td>\n",
       "      <td>9.000000</td>\n",
       "      <td>0.000000</td>\n",
       "      <td>4.000000</td>\n",
       "      <td>0.000000</td>\n",
       "      <td>0.000000</td>\n",
       "      <td>1.627725e+04</td>\n",
       "      <td>0.840000</td>\n",
       "      <td>12285.000000</td>\n",
       "      <td>29.000000</td>\n",
       "      <td>1.000000</td>\n",
       "      <td>1.000000</td>\n",
       "    </tr>\n",
       "    <tr>\n",
       "      <th>max</th>\n",
       "      <td>129.000000</td>\n",
       "      <td>51.000000</td>\n",
       "      <td>14985.000000</td>\n",
       "      <td>83.000000</td>\n",
       "      <td>105.000000</td>\n",
       "      <td>379.000000</td>\n",
       "      <td>444745.000000</td>\n",
       "      <td>99.000000</td>\n",
       "      <td>30.000000</td>\n",
       "      <td>7.000000</td>\n",
       "      <td>1.435667e+06</td>\n",
       "      <td>5.830000</td>\n",
       "      <td>646285.000000</td>\n",
       "      <td>114.000000</td>\n",
       "      <td>1.000000</td>\n",
       "      <td>20.000000</td>\n",
       "    </tr>\n",
       "  </tbody>\n",
       "</table>\n",
       "</div>"
      ],
      "text/plain": [
       "                 N7            N8            N9           N10         N10.1  \\\n",
       "count  32623.000000  33050.000000  33050.000000  32623.000000  32623.000000   \n",
       "mean      25.229930      6.082723    325.585870      0.903381      2.044049   \n",
       "std       14.274854      4.535870    452.149358      2.635207      3.172081   \n",
       "min        2.000000      0.000000      0.000000      0.000000      0.000000   \n",
       "25%       15.000000      3.000000     60.000000      0.000000      0.000000   \n",
       "50%       23.000000      5.000000    183.000000      0.000000      1.000000   \n",
       "75%       33.000000      8.000000    420.000000      1.000000      3.000000   \n",
       "max      129.000000     51.000000  14985.000000     83.000000    105.000000   \n",
       "\n",
       "                N11            N12           N14           N15           N16  \\\n",
       "count  32334.000000   28436.000000  32442.000000  32623.000000  28444.000000   \n",
       "mean       7.108678    1016.018568      4.537760      0.330135      0.023203   \n",
       "std        8.304500    6739.984010     10.610457      0.799125      0.175363   \n",
       "min        0.000000       0.000000      0.000000      0.000000      0.000000   \n",
       "25%        2.000000       0.000000      0.000000      0.000000      0.000000   \n",
       "50%        5.000000       0.000000      0.000000      0.000000      0.000000   \n",
       "75%        9.000000       0.000000      4.000000      0.000000      0.000000   \n",
       "max      379.000000  444745.000000     99.000000     30.000000      7.000000   \n",
       "\n",
       "                N17           N18            N19           N20           N21  \\\n",
       "count  2.844400e+04  28444.000000   28479.000000  28479.000000  28479.000000   \n",
       "mean   1.582073e+04      0.528907   11037.365322     21.764142      0.857199   \n",
       "std    3.405137e+04      0.350046   22052.222523     12.438568      0.173017   \n",
       "min    0.000000e+00      0.000000       0.000000      0.000000      0.000000   \n",
       "25%    1.647000e+03      0.210000     523.000000     13.000000      0.770000   \n",
       "50%    6.073000e+03      0.560000    3352.000000     20.000000      0.920000   \n",
       "75%    1.627725e+04      0.840000   12285.000000     29.000000      1.000000   \n",
       "max    1.435667e+06      5.830000  646285.000000    114.000000      1.000000   \n",
       "\n",
       "                N22  \n",
       "count  28479.000000  \n",
       "mean       0.906422  \n",
       "std        1.227818  \n",
       "min        0.000000  \n",
       "25%        0.000000  \n",
       "50%        1.000000  \n",
       "75%        1.000000  \n",
       "max       20.000000  "
      ]
     },
     "execution_count": 693,
     "metadata": {},
     "output_type": "execute_result"
    }
   ],
   "source": [
    "# next 15 cols desc\n",
    "\n",
    "X_train[cols[15:31]].describe(include='all')"
   ]
  },
  {
   "cell_type": "code",
   "execution_count": 694,
   "metadata": {},
   "outputs": [
    {
     "data": {
      "text/html": [
       "<div>\n",
       "<style scoped>\n",
       "    .dataframe tbody tr th:only-of-type {\n",
       "        vertical-align: middle;\n",
       "    }\n",
       "\n",
       "    .dataframe tbody tr th {\n",
       "        vertical-align: top;\n",
       "    }\n",
       "\n",
       "    .dataframe thead th {\n",
       "        text-align: right;\n",
       "    }\n",
       "</style>\n",
       "<table border=\"1\" class=\"dataframe\">\n",
       "  <thead>\n",
       "    <tr style=\"text-align: right;\">\n",
       "      <th></th>\n",
       "      <th>N23</th>\n",
       "      <th>N24</th>\n",
       "      <th>N25</th>\n",
       "      <th>N26</th>\n",
       "      <th>N27</th>\n",
       "      <th>N28</th>\n",
       "      <th>N29</th>\n",
       "      <th>N30</th>\n",
       "      <th>N31</th>\n",
       "      <th>N32</th>\n",
       "      <th>N33</th>\n",
       "      <th>N34</th>\n",
       "      <th>N35</th>\n",
       "    </tr>\n",
       "  </thead>\n",
       "  <tbody>\n",
       "    <tr>\n",
       "      <th>count</th>\n",
       "      <td>30564.000000</td>\n",
       "      <td>33050.000000</td>\n",
       "      <td>6271.000000</td>\n",
       "      <td>6271.000000</td>\n",
       "      <td>6271.000000</td>\n",
       "      <td>6271.000000</td>\n",
       "      <td>6271.000000</td>\n",
       "      <td>6271.000000</td>\n",
       "      <td>6271.000000</td>\n",
       "      <td>6220.000000</td>\n",
       "      <td>33050.000000</td>\n",
       "      <td>33050.000000</td>\n",
       "      <td>32623.000000</td>\n",
       "    </tr>\n",
       "    <tr>\n",
       "      <th>mean</th>\n",
       "      <td>58.433363</td>\n",
       "      <td>5050.306727</td>\n",
       "      <td>1.338224</td>\n",
       "      <td>20.084197</td>\n",
       "      <td>19.512199</td>\n",
       "      <td>0.526391</td>\n",
       "      <td>0.045288</td>\n",
       "      <td>7192.813526</td>\n",
       "      <td>2379.621620</td>\n",
       "      <td>0.744373</td>\n",
       "      <td>125.629394</td>\n",
       "      <td>224.313536</td>\n",
       "      <td>19.587254</td>\n",
       "    </tr>\n",
       "    <tr>\n",
       "      <th>std</th>\n",
       "      <td>150.660621</td>\n",
       "      <td>6237.726330</td>\n",
       "      <td>0.680982</td>\n",
       "      <td>16.045120</td>\n",
       "      <td>15.637882</td>\n",
       "      <td>2.144069</td>\n",
       "      <td>0.443838</td>\n",
       "      <td>6460.139952</td>\n",
       "      <td>3379.065104</td>\n",
       "      <td>50.764684</td>\n",
       "      <td>104.391919</td>\n",
       "      <td>186.513844</td>\n",
       "      <td>7.352667</td>\n",
       "    </tr>\n",
       "    <tr>\n",
       "      <th>min</th>\n",
       "      <td>0.000000</td>\n",
       "      <td>0.000000</td>\n",
       "      <td>1.000000</td>\n",
       "      <td>0.000000</td>\n",
       "      <td>0.000000</td>\n",
       "      <td>0.000000</td>\n",
       "      <td>0.000000</td>\n",
       "      <td>1000.000000</td>\n",
       "      <td>0.000000</td>\n",
       "      <td>-194.000000</td>\n",
       "      <td>20.000000</td>\n",
       "      <td>0.000000</td>\n",
       "      <td>2.000000</td>\n",
       "    </tr>\n",
       "    <tr>\n",
       "      <th>25%</th>\n",
       "      <td>26.000000</td>\n",
       "      <td>2833.333333</td>\n",
       "      <td>1.000000</td>\n",
       "      <td>9.000000</td>\n",
       "      <td>9.000000</td>\n",
       "      <td>0.000000</td>\n",
       "      <td>0.000000</td>\n",
       "      <td>3000.000000</td>\n",
       "      <td>0.000000</td>\n",
       "      <td>-31.000000</td>\n",
       "      <td>54.000000</td>\n",
       "      <td>98.740000</td>\n",
       "      <td>14.000000</td>\n",
       "    </tr>\n",
       "    <tr>\n",
       "      <th>50%</th>\n",
       "      <td>40.000000</td>\n",
       "      <td>4166.666667</td>\n",
       "      <td>1.000000</td>\n",
       "      <td>15.000000</td>\n",
       "      <td>14.000000</td>\n",
       "      <td>0.000000</td>\n",
       "      <td>0.000000</td>\n",
       "      <td>5000.000000</td>\n",
       "      <td>1108.440000</td>\n",
       "      <td>0.000000</td>\n",
       "      <td>90.000000</td>\n",
       "      <td>172.600000</td>\n",
       "      <td>19.000000</td>\n",
       "    </tr>\n",
       "    <tr>\n",
       "      <th>75%</th>\n",
       "      <td>60.000000</td>\n",
       "      <td>6250.000000</td>\n",
       "      <td>1.500000</td>\n",
       "      <td>28.000000</td>\n",
       "      <td>27.000000</td>\n",
       "      <td>0.000000</td>\n",
       "      <td>0.000000</td>\n",
       "      <td>9500.000000</td>\n",
       "      <td>3408.750000</td>\n",
       "      <td>32.000000</td>\n",
       "      <td>160.000000</td>\n",
       "      <td>300.947500</td>\n",
       "      <td>24.000000</td>\n",
       "    </tr>\n",
       "    <tr>\n",
       "      <th>max</th>\n",
       "      <td>2002.000000</td>\n",
       "      <td>618547.833300</td>\n",
       "      <td>7.000000</td>\n",
       "      <td>120.000000</td>\n",
       "      <td>111.000000</td>\n",
       "      <td>42.000000</td>\n",
       "      <td>11.000000</td>\n",
       "      <td>60001.000000</td>\n",
       "      <td>22586.670000</td>\n",
       "      <td>257.000000</td>\n",
       "      <td>700.000000</td>\n",
       "      <td>2153.380000</td>\n",
       "      <td>64.000000</td>\n",
       "    </tr>\n",
       "  </tbody>\n",
       "</table>\n",
       "</div>"
      ],
      "text/plain": [
       "                N23            N24          N25          N26          N27  \\\n",
       "count  30564.000000   33050.000000  6271.000000  6271.000000  6271.000000   \n",
       "mean      58.433363    5050.306727     1.338224    20.084197    19.512199   \n",
       "std      150.660621    6237.726330     0.680982    16.045120    15.637882   \n",
       "min        0.000000       0.000000     1.000000     0.000000     0.000000   \n",
       "25%       26.000000    2833.333333     1.000000     9.000000     9.000000   \n",
       "50%       40.000000    4166.666667     1.000000    15.000000    14.000000   \n",
       "75%       60.000000    6250.000000     1.500000    28.000000    27.000000   \n",
       "max     2002.000000  618547.833300     7.000000   120.000000   111.000000   \n",
       "\n",
       "               N28          N29           N30           N31          N32  \\\n",
       "count  6271.000000  6271.000000   6271.000000   6271.000000  6220.000000   \n",
       "mean      0.526391     0.045288   7192.813526   2379.621620     0.744373   \n",
       "std       2.144069     0.443838   6460.139952   3379.065104    50.764684   \n",
       "min       0.000000     0.000000   1000.000000      0.000000  -194.000000   \n",
       "25%       0.000000     0.000000   3000.000000      0.000000   -31.000000   \n",
       "50%       0.000000     0.000000   5000.000000   1108.440000     0.000000   \n",
       "75%       0.000000     0.000000   9500.000000   3408.750000    32.000000   \n",
       "max      42.000000    11.000000  60001.000000  22586.670000   257.000000   \n",
       "\n",
       "                N33           N34           N35  \n",
       "count  33050.000000  33050.000000  32623.000000  \n",
       "mean     125.629394    224.313536     19.587254  \n",
       "std      104.391919    186.513844      7.352667  \n",
       "min       20.000000      0.000000      2.000000  \n",
       "25%       54.000000     98.740000     14.000000  \n",
       "50%       90.000000    172.600000     19.000000  \n",
       "75%      160.000000    300.947500     24.000000  \n",
       "max      700.000000   2153.380000     64.000000  "
      ]
     },
     "execution_count": 694,
     "metadata": {},
     "output_type": "execute_result"
    }
   ],
   "source": [
    "# remaining cols desc\n",
    "\n",
    "X_train[cols[31:]].describe(include='all')"
   ]
  },
  {
   "cell_type": "markdown",
   "metadata": {},
   "source": [
    "For the summary statts we can see:\n",
    "\n",
    "- many cols have missing values\n",
    "- many cols have limited range. Foe eg: C1 has min of 1 and max of 3. So, these cols might be categorical, which have numerical labelling\n",
    "\n",
    "\n",
    "We now want to store the no of missing values for each col, to be used later for **Missing Value Treatment**\n",
    "\n"
   ]
  },
  {
   "cell_type": "code",
   "execution_count": 695,
   "metadata": {
    "scrolled": false
   },
   "outputs": [
    {
     "name": "stdout",
     "output_type": "stream",
     "text": [
      "{'C1': 0, 'C2': 0, 'C3': 0, 'C4': 0, 'C5': 0, 'C6': 0, 'C7': 0, 'C8': 0, 'N1': 0, 'N2': 4612, 'N3': 365, 'N4': 4606, 'N5': 4606, 'N6': 365, 'N7': 427, 'N8': 0, 'N9': 0, 'N10': 427, 'N10.1': 427, 'N11': 716, 'N12': 4614, 'N14': 608, 'N15': 427, 'N16': 4606, 'N17': 4606, 'N18': 4606, 'N19': 4571, 'N20': 4571, 'N21': 4571, 'N22': 4571, 'N23': 2486, 'N24': 0, 'N25': 26779, 'N26': 26779, 'N27': 26779, 'N28': 26779, 'N29': 26779, 'N30': 26779, 'N31': 26779, 'N32': 26830, 'N33': 0, 'N34': 0, 'N35': 427}\n"
     ]
    }
   ],
   "source": [
    "def make_missing_value_dict(df):\n",
    "    \n",
    "    cols = df.columns\n",
    "    missing_values_dict = {}\n",
    "\n",
    "    for col in cols[1:]:\n",
    "        missing_value = nrows - int(df.describe(include='all').loc['count', col])\n",
    "        missing_values_dict[col] = missing_value\n",
    "\n",
    "    return missing_values_dict\n",
    "\n",
    "print (make_missing_value_dict(X_train))"
   ]
  },
  {
   "cell_type": "code",
   "execution_count": 696,
   "metadata": {
    "scrolled": false
   },
   "outputs": [
    {
     "name": "stdout",
     "output_type": "stream",
     "text": [
      "C1\n",
      "C2\n",
      "C3\n",
      "C4\n",
      "C5\n",
      "C6\n",
      "C7\n",
      "C8\n",
      "N3\n",
      "N4\n",
      "N5\n",
      "N6\n",
      "N7\n",
      "N8\n",
      "N10\n",
      "N10.1\n",
      "N11\n",
      "N14\n",
      "N15\n",
      "N16\n",
      "N18\n",
      "N20\n",
      "N21\n",
      "N22\n",
      "N25\n",
      "N26\n",
      "N27\n",
      "N28\n",
      "N29\n",
      "N32\n",
      "N35\n"
     ]
    }
   ],
   "source": [
    "# check cols which have less than 1% unique values: possibly encode them as categorical\n",
    "\n",
    "for col in cols:\n",
    "    if len(X_train[col].unique())*100/nrows < 1:\n",
    "        print (col)"
   ]
  },
  {
   "cell_type": "markdown",
   "metadata": {},
   "source": [
    "NOTE: All these cols have very few unique values, so maybe encode them as Categorical"
   ]
  },
  {
   "cell_type": "markdown",
   "metadata": {},
   "source": [
    "### Missing Value Treatment and Outlier Detection and Correction\n",
    "\n",
    "Strategy:\n",
    "\n",
    "1. If column contains no missing values, we check number of distinct values\n",
    "\n",
    "2. If less than 20, it makes better sense to consider this column as categorical. So we One-Hot encode them. For eg: C1 has 3 distinct values 1,2 and 3. So we create 3 cols C1_1, C1_2 and C1_3 to represent that\n",
    "\n",
    "3. If column has a lot of outliers, we isolate the outliers (based on 1.5\\*IQR) and see if these outliers affect the distribution of the target variable. If they do, we keep the outliers as is, else we replace them by the median. Outliers are values which are more than 1.5 times upper quartile and lower than 1.5 times lower quartile : [ref](https://flowingdata.com/2008/02/15/how-to-read-and-use-a-box-and-whisker-plot/)\n",
    "\n",
    "4. If the column also contains missing values, we impute the mssing values by median as it is less sensitive to outliers\n"
   ]
  },
  {
   "cell_type": "code",
   "execution_count": 697,
   "metadata": {},
   "outputs": [],
   "source": [
    "# make a copy of the X train to run MVT on\n",
    "X_train_mvt1 = X_train.copy(deep=True)"
   ]
  },
  {
   "cell_type": "code",
   "execution_count": 698,
   "metadata": {},
   "outputs": [
    {
     "data": {
      "text/html": [
       "<div>\n",
       "<style scoped>\n",
       "    .dataframe tbody tr th:only-of-type {\n",
       "        vertical-align: middle;\n",
       "    }\n",
       "\n",
       "    .dataframe tbody tr th {\n",
       "        vertical-align: top;\n",
       "    }\n",
       "\n",
       "    .dataframe thead th {\n",
       "        text-align: right;\n",
       "    }\n",
       "</style>\n",
       "<table border=\"1\" class=\"dataframe\">\n",
       "  <thead>\n",
       "    <tr style=\"text-align: right;\">\n",
       "      <th></th>\n",
       "      <th>Unique_ID</th>\n",
       "      <th>Dependent_Variable</th>\n",
       "    </tr>\n",
       "  </thead>\n",
       "  <tbody>\n",
       "    <tr>\n",
       "      <th>0</th>\n",
       "      <td>Candidate_5926</td>\n",
       "      <td>1</td>\n",
       "    </tr>\n",
       "    <tr>\n",
       "      <th>1</th>\n",
       "      <td>Candidate_48134</td>\n",
       "      <td>0</td>\n",
       "    </tr>\n",
       "    <tr>\n",
       "      <th>2</th>\n",
       "      <td>Candidate_51717</td>\n",
       "      <td>1</td>\n",
       "    </tr>\n",
       "    <tr>\n",
       "      <th>3</th>\n",
       "      <td>Candidate_26401</td>\n",
       "      <td>0</td>\n",
       "    </tr>\n",
       "    <tr>\n",
       "      <th>4</th>\n",
       "      <td>Candidate_34872</td>\n",
       "      <td>0</td>\n",
       "    </tr>\n",
       "  </tbody>\n",
       "</table>\n",
       "</div>"
      ],
      "text/plain": [
       "         Unique_ID  Dependent_Variable\n",
       "0   Candidate_5926                   1\n",
       "1  Candidate_48134                   0\n",
       "2  Candidate_51717                   1\n",
       "3  Candidate_26401                   0\n",
       "4  Candidate_34872                   0"
      ]
     },
     "execution_count": 698,
     "metadata": {},
     "output_type": "execute_result"
    }
   ],
   "source": [
    "y_train = pd.read_csv('./Training/y_train.csv')\n",
    "\n",
    "y_train.head()"
   ]
  },
  {
   "cell_type": "code",
   "execution_count": 699,
   "metadata": {},
   "outputs": [
    {
     "data": {
      "text/plain": [
       "True"
      ]
     },
     "execution_count": 699,
     "metadata": {},
     "output_type": "execute_result"
    }
   ],
   "source": [
    "# check to see if the IDs are in smae order both in X and y\n",
    "\n",
    "list(X_train_mvt1['Unique_ID']) == list(y_train['Unique_ID'])"
   ]
  },
  {
   "cell_type": "code",
   "execution_count": 700,
   "metadata": {},
   "outputs": [],
   "source": [
    "# add target col to X\n",
    "\n",
    "X_train_mvt1['Dependent_Variable'] = y_train['Dependent_Variable']"
   ]
  },
  {
   "cell_type": "code",
   "execution_count": 701,
   "metadata": {},
   "outputs": [
    {
     "name": "stdout",
     "output_type": "stream",
     "text": [
      "{'C1': 0, 'C2': 0, 'C3': 0, 'C4': 0, 'C5': 0, 'C6': 0, 'C7': 0, 'C8': 0, 'N1': 0, 'N2': 4612, 'N3': 365, 'N4': 4606, 'N5': 4606, 'N6': 365, 'N7': 427, 'N8': 0, 'N9': 0, 'N10': 427, 'N10.1': 427, 'N11': 716, 'N12': 4614, 'N14': 608, 'N15': 427, 'N16': 4606, 'N17': 4606, 'N18': 4606, 'N19': 4571, 'N20': 4571, 'N21': 4571, 'N22': 4571, 'N23': 2486, 'N24': 0, 'N25': 26779, 'N26': 26779, 'N27': 26779, 'N28': 26779, 'N29': 26779, 'N30': 26779, 'N31': 26779, 'N32': 26830, 'N33': 0, 'N34': 0, 'N35': 427, 'Dependent_Variable': 0}\n"
     ]
    }
   ],
   "source": [
    "print (make_missing_value_dict(X_train_mvt1))"
   ]
  },
  {
   "cell_type": "markdown",
   "metadata": {},
   "source": [
    "N25, N26, N27, N28, N29, N30, N31, N32 have over 80% missing values. \n",
    "\n",
    "There are 2 approaches I have considered:\n",
    "\n",
    "1. Drop these columns entirely\n",
    "\n",
    "2. Replace missing values with 0 and create a column indicating if that corr value was missing or not\n",
    "\n",
    "\n",
    "However in after we run feature selection, none of these features prove to be important, so either approaches can be used"
   ]
  },
  {
   "cell_type": "code",
   "execution_count": 702,
   "metadata": {},
   "outputs": [],
   "source": [
    "#X_train_mvt1.drop(columns=['N25', 'N26', 'N27', 'N28', 'N29', 'N30', 'N31', 'N32'], inplace=True)\n",
    "\n",
    "\n",
    "# function to Replace missing values with 0 and create a column indicating if that corr value was missing or not\n",
    "def mvt_special_cols(cols):\n",
    "    \n",
    "    \n",
    "    for col in cols:\n",
    "\n",
    "        value_missing = []\n",
    "\n",
    "        new_list = []\n",
    "\n",
    "        for x in range(len(X_train_mvt1['N25'])):\n",
    "            # print (X_train_mvt1['N25'][x])\n",
    "            if np.isnan(X_train_mvt1['N25'][x]):\n",
    "                value_missing.append(True)\n",
    "                new_list.append(0)\n",
    "            else:\n",
    "                value_missing.append(False)\n",
    "                new_list.append(X_train_mvt1['N25'][x])\n",
    "\n",
    "        new_col_name = col + '_missing'\n",
    "\n",
    "        X_train_mvt1[col] = new_list\n",
    "        X_train_mvt1[new_col_name] = value_missing\n",
    "    \n",
    "mvt_special_cols(['N25', 'N26', 'N27', 'N28', 'N29', 'N30', 'N31', 'N32'])"
   ]
  },
  {
   "cell_type": "code",
   "execution_count": 703,
   "metadata": {},
   "outputs": [
    {
     "data": {
      "text/plain": [
       "Index(['Unique_ID', 'C1', 'C2', 'C3', 'C4', 'C5', 'C6', 'C7', 'C8', 'N1', 'N2',\n",
       "       'N3', 'N4', 'N5', 'N6', 'N7', 'N8', 'N9', 'N10', 'N10.1', 'N11', 'N12',\n",
       "       'N14', 'N15', 'N16', 'N17', 'N18', 'N19', 'N20', 'N21', 'N22', 'N23',\n",
       "       'N24', 'N25', 'N26', 'N27', 'N28', 'N29', 'N30', 'N31', 'N32', 'N33',\n",
       "       'N34', 'N35', 'Dependent_Variable', 'N25_missing', 'N26_missing',\n",
       "       'N27_missing', 'N28_missing', 'N29_missing', 'N30_missing',\n",
       "       'N31_missing', 'N32_missing'],\n",
       "      dtype='object')"
      ]
     },
     "execution_count": 703,
     "metadata": {},
     "output_type": "execute_result"
    }
   ],
   "source": [
    "X_train_mvt1.columns"
   ]
  },
  {
   "cell_type": "code",
   "execution_count": 704,
   "metadata": {
    "scrolled": false
   },
   "outputs": [
    {
     "name": "stdout",
     "output_type": "stream",
     "text": [
      "3 int64\n"
     ]
    }
   ],
   "source": [
    "print (len(X_train_mvt1['C1'].unique()), X_train_mvt1['C1'].dtype)"
   ]
  },
  {
   "cell_type": "markdown",
   "metadata": {},
   "source": [
    "Only 3 distinct values.. Better to represent them as categories and one-hot encode them"
   ]
  },
  {
   "cell_type": "code",
   "execution_count": 705,
   "metadata": {
    "scrolled": true
   },
   "outputs": [
    {
     "name": "stdout",
     "output_type": "stream",
     "text": [
      "Index(['Unique_ID', 'C2', 'C3', 'C4', 'C5', 'C6', 'C7', 'C8', 'N1', 'N2', 'N3',\n",
      "       'N4', 'N5', 'N6', 'N7', 'N8', 'N9', 'N10', 'N10.1', 'N11', 'N12', 'N14',\n",
      "       'N15', 'N16', 'N17', 'N18', 'N19', 'N20', 'N21', 'N22', 'N23', 'N24',\n",
      "       'N25', 'N26', 'N27', 'N28', 'N29', 'N30', 'N31', 'N32', 'N33', 'N34',\n",
      "       'N35', 'Dependent_Variable', 'N25_missing', 'N26_missing',\n",
      "       'N27_missing', 'N28_missing', 'N29_missing', 'N30_missing',\n",
      "       'N31_missing', 'N32_missing', 'C1_1', 'C1_2', 'C1_3'],\n",
      "      dtype='object')\n"
     ]
    }
   ],
   "source": [
    "X_train_mvt1['C1'] = X_train_mvt1['C1'].astype('object')\n",
    "\n",
    "X_train_mvt1 = pd.get_dummies(data=X_train_mvt1, columns=['C1'])\n",
    "\n",
    "print (X_train_mvt1.columns)"
   ]
  },
  {
   "cell_type": "code",
   "execution_count": 706,
   "metadata": {},
   "outputs": [
    {
     "data": {
      "image/png": "[encoded data removed]",
      "text/plain": [
       "<Figure size 432x288 with 1 Axes>"
      ]
     },
     "metadata": {},
     "output_type": "display_data"
    }
   ],
   "source": [
    "X_train_mvt1['C2'].plot.hist();"
   ]
  },
  {
   "cell_type": "code",
   "execution_count": 707,
   "metadata": {
    "scrolled": true
   },
   "outputs": [
    {
     "data": {
      "image/png": "[encoded data removed]",
      "text/plain": [
       "<Figure size 432x288 with 1 Axes>"
      ]
     },
     "metadata": {},
     "output_type": "display_data"
    }
   ],
   "source": [
    "X_train_mvt1['C3'].plot.hist();"
   ]
  },
  {
   "cell_type": "code",
   "execution_count": 708,
   "metadata": {},
   "outputs": [
    {
     "name": "stdout",
     "output_type": "stream",
     "text": [
      "47.0\n"
     ]
    },
    {
     "data": {
      "image/png": "[encoded data removed]",
      "text/plain": [
       "<Figure size 432x288 with 1 Axes>"
      ]
     },
     "metadata": {},
     "output_type": "display_data"
    }
   ],
   "source": [
    "C3_median = X_train_mvt1['C3'].median(axis=0)\n",
    "\n",
    "\n",
    "IQR = X_train_mvt1['C3'].quantile(0.75) - X_train_mvt1['C3'].quantile(0.25)\n",
    "\n",
    "upper_limit = X_train_mvt1['C3'].quantile(0.75) + 1.5*IQR\n",
    "\n",
    "print (upper_limit)\n",
    "\n",
    "X_train_mvt1.boxplot(column='C3');"
   ]
  },
  {
   "cell_type": "code",
   "execution_count": 709,
   "metadata": {},
   "outputs": [
    {
     "name": "stdout",
     "output_type": "stream",
     "text": [
      "0    0.72043\n",
      "1    0.27957\n",
      "Name: Dependent_Variable, dtype: float64\n"
     ]
    },
    {
     "data": {
      "image/png": "[encoded data removed]",
      "text/plain": [
       "<Figure size 432x288 with 1 Axes>"
      ]
     },
     "metadata": {},
     "output_type": "display_data"
    }
   ],
   "source": [
    "C3_outliers = X_train_mvt1[X_train_mvt1['C3'] > upper_limit]\n",
    "\n",
    "print (C3_outliers['Dependent_Variable'].value_counts(normalize=True))\n",
    "\n",
    "\n",
    "sns.boxplot(x='Dependent_Variable', y='C3', data=C3_outliers);"
   ]
  },
  {
   "cell_type": "markdown",
   "metadata": {},
   "source": [
    "So there appears to be no relationship that the outliers of C3 contribute towards the target variable. So it is better to impute the outliers for C3"
   ]
  },
  {
   "cell_type": "code",
   "execution_count": 710,
   "metadata": {},
   "outputs": [
    {
     "data": {
      "image/png": "[encoded data removed]",
      "text/plain": [
       "<Figure size 432x288 with 1 Axes>"
      ]
     },
     "metadata": {},
     "output_type": "display_data"
    }
   ],
   "source": [
    "# replace extreme outliers with the median\n",
    "\n",
    "X_train_mvt1.loc[X_train_mvt1['C3']>upper_limit, 'C3'] = C3_median\n",
    "\n",
    "X_train_mvt1.boxplot(column='C3');"
   ]
  },
  {
   "cell_type": "code",
   "execution_count": 711,
   "metadata": {},
   "outputs": [
    {
     "data": {
      "image/png": "[encoded data removed]",
      "text/plain": [
       "<Figure size 432x288 with 1 Axes>"
      ]
     },
     "metadata": {},
     "output_type": "display_data"
    }
   ],
   "source": [
    "X_train_mvt1['C4'].plot.hist();"
   ]
  },
  {
   "cell_type": "code",
   "execution_count": 712,
   "metadata": {},
   "outputs": [
    {
     "data": {
      "image/png": "[encoded data removed]",
      "text/plain": [
       "<Figure size 432x288 with 1 Axes>"
      ]
     },
     "metadata": {},
     "output_type": "display_data"
    }
   ],
   "source": [
    "X_train_mvt1['C5'].plot.hist();"
   ]
  },
  {
   "cell_type": "code",
   "execution_count": 713,
   "metadata": {},
   "outputs": [
    {
     "name": "stdout",
     "output_type": "stream",
     "text": [
      "8 int64\n"
     ]
    }
   ],
   "source": [
    "print (len(X_train_mvt1['C5'].unique()), X_train_mvt1['C5'].dtype)"
   ]
  },
  {
   "cell_type": "markdown",
   "metadata": {},
   "source": [
    "Only 8 distinct values.. Better to represent them as categories and one-hot encode them"
   ]
  },
  {
   "cell_type": "code",
   "execution_count": 714,
   "metadata": {},
   "outputs": [
    {
     "name": "stdout",
     "output_type": "stream",
     "text": [
      "Index(['Unique_ID', 'C2', 'C3', 'C4', 'C6', 'C7', 'C8', 'N1', 'N2', 'N3', 'N4',\n",
      "       'N5', 'N6', 'N7', 'N8', 'N9', 'N10', 'N10.1', 'N11', 'N12', 'N14',\n",
      "       'N15', 'N16', 'N17', 'N18', 'N19', 'N20', 'N21', 'N22', 'N23', 'N24',\n",
      "       'N25', 'N26', 'N27', 'N28', 'N29', 'N30', 'N31', 'N32', 'N33', 'N34',\n",
      "       'N35', 'Dependent_Variable', 'N25_missing', 'N26_missing',\n",
      "       'N27_missing', 'N28_missing', 'N29_missing', 'N30_missing',\n",
      "       'N31_missing', 'N32_missing', 'C1_1', 'C1_2', 'C1_3', 'C5_0', 'C5_1',\n",
      "       'C5_2', 'C5_3', 'C5_4', 'C5_5', 'C5_6', 'C5_7'],\n",
      "      dtype='object')\n"
     ]
    }
   ],
   "source": [
    "X_train_mvt1['C5'] = X_train_mvt1['C5'].astype('object')\n",
    "\n",
    "X_train_mvt1 = pd.get_dummies(data=X_train_mvt1, columns=['C5'])\n",
    "\n",
    "print (X_train_mvt1.columns)"
   ]
  },
  {
   "cell_type": "code",
   "execution_count": 715,
   "metadata": {
    "scrolled": true
   },
   "outputs": [
    {
     "data": {
      "image/png": "[encoded data removed]",
      "text/plain": [
       "<Figure size 432x288 with 1 Axes>"
      ]
     },
     "metadata": {},
     "output_type": "display_data"
    }
   ],
   "source": [
    "X_train_mvt1['C7'].plot.hist();"
   ]
  },
  {
   "cell_type": "code",
   "execution_count": 716,
   "metadata": {},
   "outputs": [
    {
     "name": "stdout",
     "output_type": "stream",
     "text": [
      "8 int64\n"
     ]
    }
   ],
   "source": [
    "print (len(X_train_mvt1['C7'].unique()), X_train_mvt1['C7'].dtype)"
   ]
  },
  {
   "cell_type": "markdown",
   "metadata": {},
   "source": [
    "Only 8 distinct values.. Better to represent them as categories and one-hot encode them"
   ]
  },
  {
   "cell_type": "code",
   "execution_count": 717,
   "metadata": {
    "scrolled": true
   },
   "outputs": [
    {
     "name": "stdout",
     "output_type": "stream",
     "text": [
      "Index(['Unique_ID', 'C2', 'C3', 'C4', 'C6', 'C8', 'N1', 'N2', 'N3', 'N4', 'N5',\n",
      "       'N6', 'N7', 'N8', 'N9', 'N10', 'N10.1', 'N11', 'N12', 'N14', 'N15',\n",
      "       'N16', 'N17', 'N18', 'N19', 'N20', 'N21', 'N22', 'N23', 'N24', 'N25',\n",
      "       'N26', 'N27', 'N28', 'N29', 'N30', 'N31', 'N32', 'N33', 'N34', 'N35',\n",
      "       'Dependent_Variable', 'N25_missing', 'N26_missing', 'N27_missing',\n",
      "       'N28_missing', 'N29_missing', 'N30_missing', 'N31_missing',\n",
      "       'N32_missing', 'C1_1', 'C1_2', 'C1_3', 'C5_0', 'C5_1', 'C5_2', 'C5_3',\n",
      "       'C5_4', 'C5_5', 'C5_6', 'C5_7', 'C7_0', 'C7_1', 'C7_2', 'C7_3', 'C7_4',\n",
      "       'C7_5', 'C7_6', 'C7_7'],\n",
      "      dtype='object')\n"
     ]
    }
   ],
   "source": [
    "X_train_mvt1['C7'] = X_train_mvt1['C7'].astype('object')\n",
    "\n",
    "X_train_mvt1 = pd.get_dummies(data=X_train_mvt1, columns=['C7'])\n",
    "\n",
    "print (X_train_mvt1.columns)"
   ]
  },
  {
   "cell_type": "code",
   "execution_count": 718,
   "metadata": {
    "scrolled": false
   },
   "outputs": [
    {
     "name": "stdout",
     "output_type": "stream",
     "text": [
      "1985 float64\n"
     ]
    }
   ],
   "source": [
    "print (len(X_train_mvt1['N1'].unique()), X_train_mvt1['N1'].dtype)"
   ]
  },
  {
   "cell_type": "code",
   "execution_count": 719,
   "metadata": {
    "scrolled": false
   },
   "outputs": [
    {
     "data": {
      "image/png": "[encoded data removed]",
      "text/plain": [
       "<Figure size 432x288 with 1 Axes>"
      ]
     },
     "metadata": {},
     "output_type": "display_data"
    }
   ],
   "source": [
    "X_train_mvt1['N1'].plot.hist();"
   ]
  },
  {
   "cell_type": "markdown",
   "metadata": {},
   "source": [
    "N1 has less outliers and no missing values. No special treatment is necessary"
   ]
  },
  {
   "cell_type": "code",
   "execution_count": 720,
   "metadata": {
    "scrolled": false
   },
   "outputs": [
    {
     "name": "stdout",
     "output_type": "stream",
     "text": [
      "505 float64\n"
     ]
    }
   ],
   "source": [
    "print (len(X_train_mvt1['N2'].unique()), X_train_mvt1['N2'].dtype)"
   ]
  },
  {
   "cell_type": "code",
   "execution_count": 721,
   "metadata": {},
   "outputs": [
    {
     "data": {
      "image/png": "[encoded data removed]",
      "text/plain": [
       "<Figure size 432x288 with 1 Axes>"
      ]
     },
     "metadata": {},
     "output_type": "display_data"
    }
   ],
   "source": [
    "X_train_mvt1['N2'].plot.hist();"
   ]
  },
  {
   "cell_type": "markdown",
   "metadata": {},
   "source": [
    "N2 has a large number of unique values and 4612 missing values. There are outliers. So we replace by median instead of mean as median is less sensitive to outliers"
   ]
  },
  {
   "cell_type": "code",
   "execution_count": 722,
   "metadata": {},
   "outputs": [
    {
     "data": {
      "text/plain": [
       "True"
      ]
     },
     "execution_count": 722,
     "metadata": {},
     "output_type": "execute_result"
    }
   ],
   "source": [
    "N2_median = X_train_mvt1['N2'].median(axis=0)\n",
    "\n",
    "\n",
    "X_train_mvt1['N2'].replace(np.nan, N2_median, inplace=True)\n",
    "\n",
    "# sanitary check to see that there are no longer any missing values\n",
    "\n",
    "X_train_mvt1['N2'].describe()['count'] == nrows"
   ]
  },
  {
   "cell_type": "markdown",
   "metadata": {},
   "source": [
    "Outliers are values which are more than 1.5 times upper quartile and lower than 1.5 times lower quartile - [ref](https://flowingdata.com/2008/02/15/how-to-read-and-use-a-box-and-whisker-plot/)"
   ]
  },
  {
   "cell_type": "code",
   "execution_count": 723,
   "metadata": {
    "scrolled": false
   },
   "outputs": [
    {
     "name": "stdout",
     "output_type": "stream",
     "text": [
      "210.0\n"
     ]
    },
    {
     "data": {
      "image/png": "[encoded data removed]",
      "text/plain": [
       "<Figure size 432x288 with 1 Axes>"
      ]
     },
     "metadata": {},
     "output_type": "display_data"
    }
   ],
   "source": [
    "IQR = X_train_mvt1['N2'].quantile(0.75) - X_train_mvt1['N2'].quantile(0.25)\n",
    "\n",
    "upper_limit = X_train_mvt1['N2'].quantile(0.75) + 1.5*IQR\n",
    "\n",
    "print (upper_limit)\n",
    "\n",
    "X_train_mvt1.boxplot(column='N2');"
   ]
  },
  {
   "cell_type": "markdown",
   "metadata": {},
   "source": [
    "N2 has a large number of outliers. Outliers skew our data and may impact performance of ML models. \n",
    "\n",
    "Let us see how these outliers impact our target"
   ]
  },
  {
   "cell_type": "code",
   "execution_count": 724,
   "metadata": {},
   "outputs": [
    {
     "name": "stdout",
     "output_type": "stream",
     "text": [
      "0    0.698016\n",
      "1    0.301984\n",
      "Name: Dependent_Variable, dtype: float64\n"
     ]
    },
    {
     "data": {
      "image/png": "[encoded data removed]",
      "text/plain": [
       "<Figure size 432x288 with 1 Axes>"
      ]
     },
     "metadata": {},
     "output_type": "display_data"
    }
   ],
   "source": [
    "N2_outliers = X_train_mvt1[X_train_mvt1['N2'] > upper_limit]\n",
    "\n",
    "print (N2_outliers['Dependent_Variable'].value_counts(normalize=True))\n",
    "\n",
    "\n",
    "sns.boxplot(x='Dependent_Variable', y='N2', data=N2_outliers);"
   ]
  },
  {
   "cell_type": "markdown",
   "metadata": {},
   "source": [
    "So there appears to be no relationship that the outliers of N2 contribute towards the target variable. So it is better to impute the outliers for N2"
   ]
  },
  {
   "cell_type": "code",
   "execution_count": 725,
   "metadata": {
    "scrolled": true
   },
   "outputs": [
    {
     "data": {
      "image/png": "[encoded data removed]",
      "text/plain": [
       "<Figure size 432x288 with 1 Axes>"
      ]
     },
     "metadata": {},
     "output_type": "display_data"
    }
   ],
   "source": [
    "# replace extreme outliers with the median\n",
    "\n",
    "X_train_mvt1.loc[X_train_mvt1['N2']>upper_limit, 'N2'] = N2_median\n",
    "\n",
    "X_train_mvt1.boxplot(column='N2');"
   ]
  },
  {
   "cell_type": "code",
   "execution_count": 726,
   "metadata": {},
   "outputs": [
    {
     "name": "stdout",
     "output_type": "stream",
     "text": [
      "27 float64\n"
     ]
    }
   ],
   "source": [
    "print (len(X_train_mvt1['N3'].unique()), X_train_mvt1['N2'].dtype)"
   ]
  },
  {
   "cell_type": "markdown",
   "metadata": {},
   "source": [
    "N3 has only 27 unique values"
   ]
  },
  {
   "cell_type": "code",
   "execution_count": 727,
   "metadata": {},
   "outputs": [
    {
     "data": {
      "image/png": "[encoded data removed]",
      "text/plain": [
       "<Figure size 432x288 with 1 Axes>"
      ]
     },
     "metadata": {},
     "output_type": "display_data"
    }
   ],
   "source": [
    "X_train_mvt1['N3'].plot.hist();"
   ]
  },
  {
   "cell_type": "code",
   "execution_count": 728,
   "metadata": {},
   "outputs": [
    {
     "data": {
      "text/plain": [
       "3.2    3718\n",
       "3.3    3642\n",
       "3.4    3615\n",
       "3.5    3216\n",
       "3.6    3013\n",
       "3.7    2438\n",
       "3.1    2061\n",
       "3.8    1960\n",
       "3.0    1888\n",
       "3.9    1382\n",
       "2.6     958\n",
       "2.7     857\n",
       "2.8     820\n",
       "4.0     820\n",
       "2.9     668\n",
       "4.1     512\n",
       "2.5     352\n",
       "4.2     243\n",
       "2.4     213\n",
       "4.3     101\n",
       "2.3      87\n",
       "0.0      81\n",
       "2.2      23\n",
       "4.4      13\n",
       "2.1       3\n",
       "1.8       1\n",
       "Name: N3, dtype: int64"
      ]
     },
     "execution_count": 728,
     "metadata": {},
     "output_type": "execute_result"
    }
   ],
   "source": [
    "X_train_mvt1['N3'].value_counts()"
   ]
  },
  {
   "cell_type": "markdown",
   "metadata": {},
   "source": [
    "From the value counts we can see that there are outliers of 0. So it makes better sense to impute with median"
   ]
  },
  {
   "cell_type": "code",
   "execution_count": 729,
   "metadata": {},
   "outputs": [
    {
     "data": {
      "text/plain": [
       "True"
      ]
     },
     "execution_count": 729,
     "metadata": {},
     "output_type": "execute_result"
    }
   ],
   "source": [
    "N3_median = X_train_mvt1['N3'].median(axis=0)\n",
    "\n",
    "X_train_mvt1['N3'].replace(np.nan, N3_median, inplace=True)\n",
    "\n",
    "X_train_mvt1['N3'].describe()['count'] == nrows"
   ]
  },
  {
   "cell_type": "code",
   "execution_count": 730,
   "metadata": {
    "scrolled": true
   },
   "outputs": [
    {
     "name": "stdout",
     "output_type": "stream",
     "text": [
      "2.6000000000000005\n"
     ]
    },
    {
     "data": {
      "image/png": "[encoded data removed]",
      "text/plain": [
       "<Figure size 432x288 with 1 Axes>"
      ]
     },
     "metadata": {},
     "output_type": "display_data"
    }
   ],
   "source": [
    "IQR = X_train_mvt1['N3'].quantile(0.75) - X_train_mvt1['N3'].quantile(0.25)\n",
    "\n",
    "lower_limit = X_train_mvt1['N3'].quantile(0.25) - 1.5*IQR\n",
    "\n",
    "print (lower_limit)\n",
    "\n",
    "\n",
    "X_train_mvt1.boxplot(column='N3');"
   ]
  },
  {
   "cell_type": "code",
   "execution_count": 731,
   "metadata": {},
   "outputs": [
    {
     "name": "stdout",
     "output_type": "stream",
     "text": [
      "1    0.64319\n",
      "0    0.35681\n",
      "Name: Dependent_Variable, dtype: float64\n"
     ]
    },
    {
     "data": {
      "image/png": "[encoded data removed]",
      "text/plain": [
       "<Figure size 432x288 with 1 Axes>"
      ]
     },
     "metadata": {},
     "output_type": "display_data"
    }
   ],
   "source": [
    "N3_outliers = X_train_mvt1[X_train_mvt1['N3'] < lower_limit]\n",
    "\n",
    "print (N3_outliers['Dependent_Variable'].value_counts(normalize=True))\n",
    "\n",
    "\n",
    "sns.boxplot(x='Dependent_Variable', y='N3', data=N3_outliers);"
   ]
  },
  {
   "cell_type": "markdown",
   "metadata": {},
   "source": [
    "The outliers seem to affect the dist of the target.So we do not impute them"
   ]
  },
  {
   "cell_type": "code",
   "execution_count": 732,
   "metadata": {},
   "outputs": [
    {
     "name": "stdout",
     "output_type": "stream",
     "text": [
      "52 float64\n"
     ]
    }
   ],
   "source": [
    "print(len(X_train_mvt1['N4'].unique()), X_train_mvt1['N4'].dtype)"
   ]
  },
  {
   "cell_type": "code",
   "execution_count": 733,
   "metadata": {},
   "outputs": [
    {
     "data": {
      "image/png": "[encoded data removed]",
      "text/plain": [
       "<Figure size 432x288 with 1 Axes>"
      ]
     },
     "metadata": {},
     "output_type": "display_data"
    }
   ],
   "source": [
    "X_train_mvt1['N4'].plot.hist();"
   ]
  },
  {
   "cell_type": "markdown",
   "metadata": {},
   "source": [
    "Again N4 has a few outliers, so we replace by median"
   ]
  },
  {
   "cell_type": "code",
   "execution_count": 734,
   "metadata": {},
   "outputs": [
    {
     "data": {
      "text/plain": [
       "True"
      ]
     },
     "execution_count": 734,
     "metadata": {},
     "output_type": "execute_result"
    }
   ],
   "source": [
    "N4_median = X_train_mvt1['N4'].median(axis=0)\n",
    "\n",
    "X_train_mvt1['N4'].replace(np.nan, N4_median, inplace=True)\n",
    "\n",
    "X_train_mvt1['N4'].describe()['count'] == nrows"
   ]
  },
  {
   "cell_type": "code",
   "execution_count": 735,
   "metadata": {},
   "outputs": [
    {
     "name": "stdout",
     "output_type": "stream",
     "text": [
      "21.0\n"
     ]
    },
    {
     "data": {
      "image/png": "[encoded data removed]",
      "text/plain": [
       "<Figure size 432x288 with 1 Axes>"
      ]
     },
     "metadata": {},
     "output_type": "display_data"
    }
   ],
   "source": [
    "IQR = X_train_mvt1['N4'].quantile(0.75) - X_train_mvt1['N4'].quantile(0.25)\n",
    "\n",
    "upper_limit = X_train_mvt1['N4'].quantile(0.75) + 1.5*IQR\n",
    "\n",
    "print (upper_limit)\n",
    "\n",
    "X_train_mvt1.boxplot(column='N4');"
   ]
  },
  {
   "cell_type": "code",
   "execution_count": 736,
   "metadata": {},
   "outputs": [
    {
     "name": "stdout",
     "output_type": "stream",
     "text": [
      "0    0.697095\n",
      "1    0.302905\n",
      "Name: Dependent_Variable, dtype: float64\n"
     ]
    },
    {
     "data": {
      "image/png": "[encoded data removed]",
      "text/plain": [
       "<Figure size 432x288 with 1 Axes>"
      ]
     },
     "metadata": {},
     "output_type": "display_data"
    }
   ],
   "source": [
    "N4_outliers = X_train_mvt1[X_train_mvt1['N4'] > upper_limit]\n",
    "\n",
    "print (N4_outliers['Dependent_Variable'].value_counts(normalize=True))\n",
    "\n",
    "\n",
    "sns.boxplot(x='Dependent_Variable', y='N4', data=N4_outliers);"
   ]
  },
  {
   "cell_type": "markdown",
   "metadata": {},
   "source": [
    "So there appears to be no relationship that the outliers of N4 contribute towards the target variable. So it is better to impute the outliers for N4"
   ]
  },
  {
   "cell_type": "code",
   "execution_count": 737,
   "metadata": {},
   "outputs": [
    {
     "data": {
      "image/png": "[encoded data removed]",
      "text/plain": [
       "<Figure size 432x288 with 1 Axes>"
      ]
     },
     "metadata": {},
     "output_type": "display_data"
    }
   ],
   "source": [
    "# replace extreme outliers with the median\n",
    "\n",
    "X_train_mvt1.loc[X_train_mvt1['N4']>upper_limit, 'N4'] = N4_median\n",
    "\n",
    "X_train_mvt1.boxplot(column='N4');"
   ]
  },
  {
   "cell_type": "code",
   "execution_count": 738,
   "metadata": {
    "scrolled": false
   },
   "outputs": [
    {
     "name": "stdout",
     "output_type": "stream",
     "text": [
      "{'C2': 0, 'C3': 0, 'C4': 0, 'C6': 0, 'C8': 0, 'N1': 0, 'N2': 0, 'N3': 0, 'N4': 0, 'N5': 4606, 'N6': 365, 'N7': 427, 'N8': 0, 'N9': 0, 'N10': 427, 'N10.1': 427, 'N11': 716, 'N12': 4614, 'N14': 608, 'N15': 427, 'N16': 4606, 'N17': 4606, 'N18': 4606, 'N19': 4571, 'N20': 4571, 'N21': 4571, 'N22': 4571, 'N23': 2486, 'N24': 0, 'N25': 0, 'N26': 0, 'N27': 0, 'N28': 0, 'N29': 0, 'N30': 0, 'N31': 0, 'N32': 0, 'N33': 0, 'N34': 0, 'N35': 427, 'Dependent_Variable': 0, 'N25_missing': 0, 'N26_missing': 0, 'N27_missing': 0, 'N28_missing': 0, 'N29_missing': 0, 'N30_missing': 0, 'N31_missing': 0, 'N32_missing': 0, 'C1_1': 0, 'C1_2': 0, 'C1_3': 0, 'C5_0': 0, 'C5_1': 0, 'C5_2': 0, 'C5_3': 0, 'C5_4': 0, 'C5_5': 0, 'C5_6': 0, 'C5_7': 0, 'C7_0': 0, 'C7_1': 0, 'C7_2': 0, 'C7_3': 0, 'C7_4': 0, 'C7_5': 0, 'C7_6': 0, 'C7_7': 0}\n"
     ]
    }
   ],
   "source": [
    "print (make_missing_value_dict(X_train_mvt1))"
   ]
  },
  {
   "cell_type": "code",
   "execution_count": 739,
   "metadata": {},
   "outputs": [
    {
     "name": "stdout",
     "output_type": "stream",
     "text": [
      "47 float64\n"
     ]
    }
   ],
   "source": [
    "print(len(X_train_mvt1['N5'].unique()), X_train_mvt1['N5'].dtype)"
   ]
  },
  {
   "cell_type": "code",
   "execution_count": 740,
   "metadata": {},
   "outputs": [
    {
     "data": {
      "image/png": "[encoded data removed]",
      "text/plain": [
       "<Figure size 432x288 with 1 Axes>"
      ]
     },
     "metadata": {},
     "output_type": "display_data"
    }
   ],
   "source": [
    "X_train_mvt1['N5'].plot.hist();"
   ]
  },
  {
   "cell_type": "code",
   "execution_count": 741,
   "metadata": {},
   "outputs": [
    {
     "data": {
      "text/plain": [
       "True"
      ]
     },
     "execution_count": 741,
     "metadata": {},
     "output_type": "execute_result"
    }
   ],
   "source": [
    "N5_median = X_train_mvt1['N5'].median(axis=0)\n",
    "\n",
    "X_train_mvt1['N5'].replace(np.nan, N5_median, inplace=True)\n",
    "\n",
    "X_train_mvt1['N5'].describe()['count'] == nrows"
   ]
  },
  {
   "cell_type": "code",
   "execution_count": 742,
   "metadata": {},
   "outputs": [
    {
     "name": "stdout",
     "output_type": "stream",
     "text": [
      "17.5\n"
     ]
    },
    {
     "data": {
      "image/png": "[encoded data removed]",
      "text/plain": [
       "<Figure size 432x288 with 1 Axes>"
      ]
     },
     "metadata": {},
     "output_type": "display_data"
    }
   ],
   "source": [
    "IQR = X_train_mvt1['N5'].quantile(0.75) - X_train_mvt1['N5'].quantile(0.25)\n",
    "\n",
    "upper_limit = X_train_mvt1['N5'].quantile(0.75) + 1.5*IQR\n",
    "\n",
    "print (upper_limit)\n",
    "\n",
    "X_train_mvt1.boxplot(column='N5');"
   ]
  },
  {
   "cell_type": "code",
   "execution_count": 743,
   "metadata": {},
   "outputs": [
    {
     "name": "stdout",
     "output_type": "stream",
     "text": [
      "0    0.696927\n",
      "1    0.303073\n",
      "Name: Dependent_Variable, dtype: float64\n"
     ]
    },
    {
     "data": {
      "image/png": "[encoded data removed]",
      "text/plain": [
       "<Figure size 432x288 with 1 Axes>"
      ]
     },
     "metadata": {},
     "output_type": "display_data"
    }
   ],
   "source": [
    "N5_outliers = X_train_mvt1[X_train_mvt1['N5'] > upper_limit]\n",
    "\n",
    "print (N5_outliers['Dependent_Variable'].value_counts(normalize=True))\n",
    "\n",
    "\n",
    "sns.boxplot(x='Dependent_Variable', y='N5', data=N5_outliers);"
   ]
  },
  {
   "cell_type": "markdown",
   "metadata": {},
   "source": [
    "So there appears to be no relationship that the outliers of N5 contribute towards the target variable. So it is better to impute the outliers for N5"
   ]
  },
  {
   "cell_type": "code",
   "execution_count": 744,
   "metadata": {},
   "outputs": [
    {
     "data": {
      "image/png": "[encoded data removed]",
      "text/plain": [
       "<Figure size 432x288 with 1 Axes>"
      ]
     },
     "metadata": {},
     "output_type": "display_data"
    }
   ],
   "source": [
    "# replace extreme outliers with the median\n",
    "\n",
    "X_train_mvt1.loc[X_train_mvt1['N5']>upper_limit, 'N5'] = N5_median\n",
    "\n",
    "X_train_mvt1.boxplot(column='N5');"
   ]
  },
  {
   "cell_type": "code",
   "execution_count": 745,
   "metadata": {},
   "outputs": [
    {
     "name": "stdout",
     "output_type": "stream",
     "text": [
      "27 float64\n"
     ]
    }
   ],
   "source": [
    "print(len(X_train_mvt1['N6'].unique()), X_train_mvt1['N6'].dtype)"
   ]
  },
  {
   "cell_type": "code",
   "execution_count": 746,
   "metadata": {
    "scrolled": false
   },
   "outputs": [
    {
     "data": {
      "image/png": "[encoded data removed]",
      "text/plain": [
       "<Figure size 432x288 with 1 Axes>"
      ]
     },
     "metadata": {},
     "output_type": "display_data"
    }
   ],
   "source": [
    "X_train_mvt1['N6'].plot.hist();"
   ]
  },
  {
   "cell_type": "markdown",
   "metadata": {},
   "source": [
    "N6 and N3 have almost equal distributios\n",
    "\n",
    "Let us plot them and see if they are linearly related:"
   ]
  },
  {
   "cell_type": "code",
   "execution_count": 747,
   "metadata": {
    "scrolled": true
   },
   "outputs": [
    {
     "data": {
      "image/png": "[encoded data removed]",
      "text/plain": [
       "<Figure size 432x288 with 1 Axes>"
      ]
     },
     "metadata": {},
     "output_type": "display_data"
    }
   ],
   "source": [
    "X_train_mvt1.plot(x='N3', y='N6', kind='scatter');"
   ]
  },
  {
   "cell_type": "markdown",
   "metadata": {},
   "source": [
    "Since they are linearly related we can remove one of them without losing information"
   ]
  },
  {
   "cell_type": "code",
   "execution_count": 748,
   "metadata": {},
   "outputs": [],
   "source": [
    "X_train_mvt1.drop(columns=['N6'], inplace=True)"
   ]
  },
  {
   "cell_type": "code",
   "execution_count": 749,
   "metadata": {},
   "outputs": [
    {
     "name": "stdout",
     "output_type": "stream",
     "text": [
      "{'C2': 0, 'C3': 0, 'C4': 0, 'C6': 0, 'C8': 0, 'N1': 0, 'N2': 0, 'N3': 0, 'N4': 0, 'N5': 0, 'N7': 427, 'N8': 0, 'N9': 0, 'N10': 427, 'N10.1': 427, 'N11': 716, 'N12': 4614, 'N14': 608, 'N15': 427, 'N16': 4606, 'N17': 4606, 'N18': 4606, 'N19': 4571, 'N20': 4571, 'N21': 4571, 'N22': 4571, 'N23': 2486, 'N24': 0, 'N25': 0, 'N26': 0, 'N27': 0, 'N28': 0, 'N29': 0, 'N30': 0, 'N31': 0, 'N32': 0, 'N33': 0, 'N34': 0, 'N35': 427, 'Dependent_Variable': 0, 'N25_missing': 0, 'N26_missing': 0, 'N27_missing': 0, 'N28_missing': 0, 'N29_missing': 0, 'N30_missing': 0, 'N31_missing': 0, 'N32_missing': 0, 'C1_1': 0, 'C1_2': 0, 'C1_3': 0, 'C5_0': 0, 'C5_1': 0, 'C5_2': 0, 'C5_3': 0, 'C5_4': 0, 'C5_5': 0, 'C5_6': 0, 'C5_7': 0, 'C7_0': 0, 'C7_1': 0, 'C7_2': 0, 'C7_3': 0, 'C7_4': 0, 'C7_5': 0, 'C7_6': 0, 'C7_7': 0}\n"
     ]
    }
   ],
   "source": [
    "print (make_missing_value_dict(X_train_mvt1))"
   ]
  },
  {
   "cell_type": "code",
   "execution_count": 750,
   "metadata": {},
   "outputs": [
    {
     "name": "stdout",
     "output_type": "stream",
     "text": [
      "109 float64\n"
     ]
    }
   ],
   "source": [
    "print(len(X_train_mvt1['N7'].unique()), X_train_mvt1['N7'].dtype)"
   ]
  },
  {
   "cell_type": "code",
   "execution_count": 751,
   "metadata": {},
   "outputs": [
    {
     "data": {
      "image/png": "[encoded data removed]",
      "text/plain": [
       "<Figure size 432x288 with 1 Axes>"
      ]
     },
     "metadata": {},
     "output_type": "display_data"
    }
   ],
   "source": [
    "X_train_mvt1['N7'].plot.hist();"
   ]
  },
  {
   "cell_type": "code",
   "execution_count": 752,
   "metadata": {},
   "outputs": [
    {
     "data": {
      "image/png": "[encoded data removed]",
      "text/plain": [
       "<Figure size 432x288 with 1 Axes>"
      ]
     },
     "metadata": {},
     "output_type": "display_data"
    }
   ],
   "source": [
    "X_train_mvt1.plot(x='N5', y='N7', kind='scatter');"
   ]
  },
  {
   "cell_type": "code",
   "execution_count": 753,
   "metadata": {},
   "outputs": [
    {
     "data": {
      "text/plain": [
       "True"
      ]
     },
     "execution_count": 753,
     "metadata": {},
     "output_type": "execute_result"
    }
   ],
   "source": [
    "N7_median = X_train_mvt1['N7'].median(axis=0)\n",
    "\n",
    "X_train_mvt1['N7'].replace(np.nan, N7_median, inplace=True)\n",
    "\n",
    "X_train_mvt1['N7'].describe()['count'] == nrows"
   ]
  },
  {
   "cell_type": "code",
   "execution_count": 754,
   "metadata": {},
   "outputs": [
    {
     "name": "stdout",
     "output_type": "stream",
     "text": [
      "60.0\n"
     ]
    },
    {
     "data": {
      "image/png": "[encoded data removed]",
      "text/plain": [
       "<Figure size 432x288 with 1 Axes>"
      ]
     },
     "metadata": {},
     "output_type": "display_data"
    }
   ],
   "source": [
    "IQR = X_train_mvt1['N7'].quantile(0.75) - X_train_mvt1['N7'].quantile(0.25)\n",
    "\n",
    "upper_limit = X_train_mvt1['N7'].quantile(0.75) + 1.5*IQR\n",
    "\n",
    "print (upper_limit)\n",
    "\n",
    "X_train_mvt1.boxplot(column='N7');"
   ]
  },
  {
   "cell_type": "code",
   "execution_count": 755,
   "metadata": {},
   "outputs": [
    {
     "name": "stdout",
     "output_type": "stream",
     "text": [
      "0    0.667697\n",
      "1    0.332303\n",
      "Name: Dependent_Variable, dtype: float64\n"
     ]
    },
    {
     "data": {
      "image/png": "[encoded data removed]",
      "text/plain": [
       "<Figure size 432x288 with 1 Axes>"
      ]
     },
     "metadata": {},
     "output_type": "display_data"
    }
   ],
   "source": [
    "N7_outliers = X_train_mvt1[X_train_mvt1['N7'] > upper_limit]\n",
    "\n",
    "print (N7_outliers['Dependent_Variable'].value_counts(normalize=True))\n",
    "\n",
    "\n",
    "sns.boxplot(x='Dependent_Variable', y='N7', data=N7_outliers);"
   ]
  },
  {
   "cell_type": "markdown",
   "metadata": {},
   "source": [
    "So there appears to be no relationship that the outliers of N7 contribute towards the target variable. So it is better to impute the outliers for N7"
   ]
  },
  {
   "cell_type": "code",
   "execution_count": 756,
   "metadata": {},
   "outputs": [],
   "source": [
    "# replace extreme outliers with the median\n",
    "\n",
    "# X_train_mvt1.loc[X_train_mvt1['N7']>upper_limit, 'N7'] = N7_median\n",
    "\n",
    "# X_train_mvt1.boxplot(column='N7');"
   ]
  },
  {
   "cell_type": "code",
   "execution_count": 757,
   "metadata": {},
   "outputs": [
    {
     "name": "stdout",
     "output_type": "stream",
     "text": [
      "43 float64\n"
     ]
    }
   ],
   "source": [
    "print(len(X_train_mvt1['N10'].unique()), X_train_mvt1['N10'].dtype)"
   ]
  },
  {
   "cell_type": "code",
   "execution_count": 758,
   "metadata": {
    "scrolled": false
   },
   "outputs": [
    {
     "data": {
      "image/png": "[encoded data removed]",
      "text/plain": [
       "<Figure size 432x288 with 1 Axes>"
      ]
     },
     "metadata": {},
     "output_type": "display_data"
    }
   ],
   "source": [
    "X_train_mvt1['N10'].plot.hist();"
   ]
  },
  {
   "cell_type": "code",
   "execution_count": 759,
   "metadata": {
    "scrolled": false
   },
   "outputs": [
    {
     "data": {
      "text/plain": [
       "0.0     0.736934\n",
       "1.0     0.111762\n",
       "2.0     0.047574\n",
       "3.0     0.026270\n",
       "4.0     0.018208\n",
       "5.0     0.012997\n",
       "6.0     0.009993\n",
       "7.0     0.007081\n",
       "8.0     0.005916\n",
       "9.0     0.004475\n",
       "10.0    0.003372\n",
       "11.0    0.002851\n",
       "12.0    0.002360\n",
       "15.0    0.001471\n",
       "14.0    0.001471\n",
       "13.0    0.001410\n",
       "16.0    0.001042\n",
       "18.0    0.000674\n",
       "17.0    0.000644\n",
       "20.0    0.000613\n",
       "21.0    0.000613\n",
       "19.0    0.000460\n",
       "22.0    0.000398\n",
       "23.0    0.000215\n",
       "31.0    0.000123\n",
       "32.0    0.000123\n",
       "24.0    0.000123\n",
       "27.0    0.000123\n",
       "26.0    0.000092\n",
       "25.0    0.000092\n",
       "28.0    0.000092\n",
       "41.0    0.000061\n",
       "35.0    0.000061\n",
       "36.0    0.000061\n",
       "82.0    0.000031\n",
       "37.0    0.000031\n",
       "83.0    0.000031\n",
       "40.0    0.000031\n",
       "59.0    0.000031\n",
       "50.0    0.000031\n",
       "30.0    0.000031\n",
       "39.0    0.000031\n",
       "Name: N10, dtype: float64"
      ]
     },
     "execution_count": 759,
     "metadata": {},
     "output_type": "execute_result"
    }
   ],
   "source": [
    "X_train_mvt1['N10'].value_counts(normalize=True)"
   ]
  },
  {
   "cell_type": "markdown",
   "metadata": {},
   "source": [
    "73% values are 0. So we replace missing values by 0\n",
    "\n",
    "Possible "
   ]
  },
  {
   "cell_type": "code",
   "execution_count": 760,
   "metadata": {},
   "outputs": [
    {
     "data": {
      "text/plain": [
       "True"
      ]
     },
     "execution_count": 760,
     "metadata": {},
     "output_type": "execute_result"
    }
   ],
   "source": [
    "X_train_mvt1['N10'].replace(np.nan, 0, inplace=True)\n",
    "\n",
    "X_train_mvt1['N10'].describe()['count'] == nrows"
   ]
  },
  {
   "cell_type": "code",
   "execution_count": 761,
   "metadata": {},
   "outputs": [
    {
     "name": "stdout",
     "output_type": "stream",
     "text": [
      "2.5\n"
     ]
    },
    {
     "data": {
      "image/png": "[encoded data removed]",
      "text/plain": [
       "<Figure size 432x288 with 1 Axes>"
      ]
     },
     "metadata": {},
     "output_type": "display_data"
    }
   ],
   "source": [
    "N10_median = X_train_mvt1['N10'].median(axis=0)\n",
    "\n",
    "\n",
    "IQR = X_train_mvt1['N10'].quantile(0.75) - X_train_mvt1['N10'].quantile(0.25)\n",
    "\n",
    "upper_limit = X_train_mvt1['N10'].quantile(0.75) + 1.5*IQR\n",
    "\n",
    "print (upper_limit)\n",
    "\n",
    "X_train_mvt1.boxplot(column='N10');"
   ]
  },
  {
   "cell_type": "code",
   "execution_count": 762,
   "metadata": {},
   "outputs": [
    {
     "name": "stdout",
     "output_type": "stream",
     "text": [
      "1    0.54669\n",
      "0    0.45331\n",
      "Name: Dependent_Variable, dtype: float64\n"
     ]
    },
    {
     "data": {
      "image/png": "[encoded data removed]",
      "text/plain": [
       "<Figure size 432x288 with 1 Axes>"
      ]
     },
     "metadata": {},
     "output_type": "display_data"
    }
   ],
   "source": [
    "N10_outliers = X_train_mvt1[X_train_mvt1['N10'] > upper_limit]\n",
    "\n",
    "print (N10_outliers['Dependent_Variable'].value_counts(normalize=True))\n",
    "\n",
    "\n",
    "sns.boxplot(x='Dependent_Variable', y='N10', data=N10_outliers);"
   ]
  },
  {
   "cell_type": "markdown",
   "metadata": {},
   "source": [
    "The outliers seem to affect the dist of the target.So we do not impute them"
   ]
  },
  {
   "cell_type": "code",
   "execution_count": 763,
   "metadata": {
    "scrolled": true
   },
   "outputs": [
    {
     "name": "stdout",
     "output_type": "stream",
     "text": [
      "{'C2': 0, 'C3': 0, 'C4': 0, 'C6': 0, 'C8': 0, 'N1': 0, 'N2': 0, 'N3': 0, 'N4': 0, 'N5': 0, 'N7': 0, 'N8': 0, 'N9': 0, 'N10': 0, 'N10.1': 427, 'N11': 716, 'N12': 4614, 'N14': 608, 'N15': 427, 'N16': 4606, 'N17': 4606, 'N18': 4606, 'N19': 4571, 'N20': 4571, 'N21': 4571, 'N22': 4571, 'N23': 2486, 'N24': 0, 'N25': 0, 'N26': 0, 'N27': 0, 'N28': 0, 'N29': 0, 'N30': 0, 'N31': 0, 'N32': 0, 'N33': 0, 'N34': 0, 'N35': 427, 'Dependent_Variable': 0, 'N25_missing': 0, 'N26_missing': 0, 'N27_missing': 0, 'N28_missing': 0, 'N29_missing': 0, 'N30_missing': 0, 'N31_missing': 0, 'N32_missing': 0, 'C1_1': 0, 'C1_2': 0, 'C1_3': 0, 'C5_0': 0, 'C5_1': 0, 'C5_2': 0, 'C5_3': 0, 'C5_4': 0, 'C5_5': 0, 'C5_6': 0, 'C5_7': 0, 'C7_0': 0, 'C7_1': 0, 'C7_2': 0, 'C7_3': 0, 'C7_4': 0, 'C7_5': 0, 'C7_6': 0, 'C7_7': 0}\n"
     ]
    }
   ],
   "source": [
    "print (make_missing_value_dict(X_train_mvt1))"
   ]
  },
  {
   "cell_type": "code",
   "execution_count": 764,
   "metadata": {},
   "outputs": [
    {
     "name": "stdout",
     "output_type": "stream",
     "text": [
      "47 float64\n"
     ]
    }
   ],
   "source": [
    "print(len(X_train_mvt1['N10.1'].unique()), X_train_mvt1['N10.1'].dtype)"
   ]
  },
  {
   "cell_type": "code",
   "execution_count": 765,
   "metadata": {},
   "outputs": [
    {
     "data": {
      "image/png": "[encoded data removed]",
      "text/plain": [
       "<Figure size 432x288 with 1 Axes>"
      ]
     },
     "metadata": {},
     "output_type": "display_data"
    }
   ],
   "source": [
    "X_train_mvt1['N10.1'].plot.hist();"
   ]
  },
  {
   "cell_type": "markdown",
   "metadata": {},
   "source": [
    "N10 and N10.1 seem similar columns.. So we explore them more"
   ]
  },
  {
   "cell_type": "code",
   "execution_count": 766,
   "metadata": {
    "scrolled": false
   },
   "outputs": [
    {
     "data": {
      "image/png": "[encoded data removed]",
      "text/plain": [
       "<Figure size 432x288 with 1 Axes>"
      ]
     },
     "metadata": {},
     "output_type": "display_data"
    }
   ],
   "source": [
    "X_train_mvt1.plot(x='N10', y='N10.1', kind='scatter');"
   ]
  },
  {
   "cell_type": "code",
   "execution_count": 767,
   "metadata": {},
   "outputs": [
    {
     "data": {
      "text/html": [
       "<div>\n",
       "<style scoped>\n",
       "    .dataframe tbody tr th:only-of-type {\n",
       "        vertical-align: middle;\n",
       "    }\n",
       "\n",
       "    .dataframe tbody tr th {\n",
       "        vertical-align: top;\n",
       "    }\n",
       "\n",
       "    .dataframe thead th {\n",
       "        text-align: right;\n",
       "    }\n",
       "</style>\n",
       "<table border=\"1\" class=\"dataframe\">\n",
       "  <thead>\n",
       "    <tr style=\"text-align: right;\">\n",
       "      <th></th>\n",
       "      <th>N10</th>\n",
       "      <th>N10.1</th>\n",
       "    </tr>\n",
       "  </thead>\n",
       "  <tbody>\n",
       "    <tr>\n",
       "      <th>N10</th>\n",
       "      <td>1.000000</td>\n",
       "      <td>0.143459</td>\n",
       "    </tr>\n",
       "    <tr>\n",
       "      <th>N10.1</th>\n",
       "      <td>0.143459</td>\n",
       "      <td>1.000000</td>\n",
       "    </tr>\n",
       "  </tbody>\n",
       "</table>\n",
       "</div>"
      ],
      "text/plain": [
       "            N10     N10.1\n",
       "N10    1.000000  0.143459\n",
       "N10.1  0.143459  1.000000"
      ]
     },
     "execution_count": 767,
     "metadata": {},
     "output_type": "execute_result"
    }
   ],
   "source": [
    "X_train_mvt1[['N10', 'N10.1']].corr()"
   ]
  },
  {
   "cell_type": "code",
   "execution_count": 768,
   "metadata": {},
   "outputs": [
    {
     "data": {
      "text/plain": [
       "0.0      0.349937\n",
       "1.0      0.241547\n",
       "2.0      0.141740\n",
       "3.0      0.088496\n",
       "4.0      0.053030\n",
       "5.0      0.035159\n",
       "6.0      0.023848\n",
       "7.0      0.015602\n",
       "8.0      0.011863\n",
       "9.0      0.008338\n",
       "10.0     0.006223\n",
       "11.0     0.004751\n",
       "12.0     0.003893\n",
       "13.0     0.003280\n",
       "14.0     0.002238\n",
       "15.0     0.002023\n",
       "16.0     0.001441\n",
       "17.0     0.000920\n",
       "21.0     0.000889\n",
       "18.0     0.000889\n",
       "20.0     0.000613\n",
       "19.0     0.000460\n",
       "22.0     0.000429\n",
       "24.0     0.000368\n",
       "25.0     0.000276\n",
       "23.0     0.000276\n",
       "26.0     0.000215\n",
       "27.0     0.000184\n",
       "31.0     0.000153\n",
       "28.0     0.000153\n",
       "29.0     0.000092\n",
       "44.0     0.000061\n",
       "32.0     0.000061\n",
       "34.0     0.000061\n",
       "30.0     0.000061\n",
       "35.0     0.000061\n",
       "38.0     0.000061\n",
       "40.0     0.000061\n",
       "53.0     0.000031\n",
       "37.0     0.000031\n",
       "46.0     0.000031\n",
       "52.0     0.000031\n",
       "33.0     0.000031\n",
       "41.0     0.000031\n",
       "105.0    0.000031\n",
       "97.0     0.000031\n",
       "Name: N10.1, dtype: float64"
      ]
     },
     "execution_count": 768,
     "metadata": {},
     "output_type": "execute_result"
    }
   ],
   "source": [
    "X_train_mvt1['N10.1'].value_counts(normalize=True)"
   ]
  },
  {
   "cell_type": "code",
   "execution_count": 769,
   "metadata": {},
   "outputs": [
    {
     "data": {
      "text/plain": [
       "True"
      ]
     },
     "execution_count": 769,
     "metadata": {},
     "output_type": "execute_result"
    }
   ],
   "source": [
    "N10_1_median = X_train_mvt1['N10.1'].median(axis=0)\n",
    "\n",
    "X_train_mvt1['N10.1'].replace(np.nan, N10_1_median, inplace=True)\n",
    "\n",
    "X_train_mvt1['N10.1'].describe()['count'] == nrows"
   ]
  },
  {
   "cell_type": "code",
   "execution_count": 770,
   "metadata": {},
   "outputs": [
    {
     "name": "stdout",
     "output_type": "stream",
     "text": [
      "7.5\n"
     ]
    },
    {
     "data": {
      "image/png": "[encoded data removed]",
      "text/plain": [
       "<Figure size 432x288 with 1 Axes>"
      ]
     },
     "metadata": {},
     "output_type": "display_data"
    }
   ],
   "source": [
    "IQR = X_train_mvt1['N10.1'].quantile(0.75) - X_train_mvt1['N10.1'].quantile(0.25)\n",
    "\n",
    "upper_limit = X_train_mvt1['N10.1'].quantile(0.75) + 1.5*IQR\n",
    "\n",
    "print (upper_limit)\n",
    "\n",
    "X_train_mvt1.boxplot(column='N10.1');"
   ]
  },
  {
   "cell_type": "code",
   "execution_count": 771,
   "metadata": {},
   "outputs": [
    {
     "name": "stdout",
     "output_type": "stream",
     "text": [
      "1    0.590799\n",
      "0    0.409201\n",
      "Name: Dependent_Variable, dtype: float64\n"
     ]
    },
    {
     "data": {
      "image/png": "[encoded data removed]",
      "text/plain": [
       "<Figure size 432x288 with 1 Axes>"
      ]
     },
     "metadata": {},
     "output_type": "display_data"
    }
   ],
   "source": [
    "N10_1_outliers = X_train_mvt1[X_train_mvt1['N10.1'] > upper_limit]\n",
    "\n",
    "print (N10_1_outliers['Dependent_Variable'].value_counts(normalize=True))\n",
    "\n",
    "\n",
    "sns.boxplot(x='Dependent_Variable', y='N10.1', data=N10_1_outliers);"
   ]
  },
  {
   "cell_type": "markdown",
   "metadata": {},
   "source": [
    "So there appears to be no relationship that the outliers of N10.1 contribute towards the target variable. So it is better to impute the outliers for N10.1"
   ]
  },
  {
   "cell_type": "code",
   "execution_count": 772,
   "metadata": {},
   "outputs": [],
   "source": [
    "# replace extreme outliers with the median\n",
    "\n",
    "# X_train_mvt1.loc[X_train_mvt1['N10.1']>upper_limit, 'N10.1'] = N10_1_median\n",
    "\n",
    "# X_train_mvt1.boxplot(column='N10.1');"
   ]
  },
  {
   "cell_type": "code",
   "execution_count": 773,
   "metadata": {},
   "outputs": [
    {
     "name": "stdout",
     "output_type": "stream",
     "text": [
      "{'C2': 0, 'C3': 0, 'C4': 0, 'C6': 0, 'C8': 0, 'N1': 0, 'N2': 0, 'N3': 0, 'N4': 0, 'N5': 0, 'N7': 0, 'N8': 0, 'N9': 0, 'N10': 0, 'N10.1': 0, 'N11': 716, 'N12': 4614, 'N14': 608, 'N15': 427, 'N16': 4606, 'N17': 4606, 'N18': 4606, 'N19': 4571, 'N20': 4571, 'N21': 4571, 'N22': 4571, 'N23': 2486, 'N24': 0, 'N25': 0, 'N26': 0, 'N27': 0, 'N28': 0, 'N29': 0, 'N30': 0, 'N31': 0, 'N32': 0, 'N33': 0, 'N34': 0, 'N35': 427, 'Dependent_Variable': 0, 'N25_missing': 0, 'N26_missing': 0, 'N27_missing': 0, 'N28_missing': 0, 'N29_missing': 0, 'N30_missing': 0, 'N31_missing': 0, 'N32_missing': 0, 'C1_1': 0, 'C1_2': 0, 'C1_3': 0, 'C5_0': 0, 'C5_1': 0, 'C5_2': 0, 'C5_3': 0, 'C5_4': 0, 'C5_5': 0, 'C5_6': 0, 'C5_7': 0, 'C7_0': 0, 'C7_1': 0, 'C7_2': 0, 'C7_3': 0, 'C7_4': 0, 'C7_5': 0, 'C7_6': 0, 'C7_7': 0}\n"
     ]
    }
   ],
   "source": [
    "print (make_missing_value_dict(X_train_mvt1))"
   ]
  },
  {
   "cell_type": "code",
   "execution_count": 774,
   "metadata": {},
   "outputs": [
    {
     "name": "stdout",
     "output_type": "stream",
     "text": [
      "91 float64\n"
     ]
    }
   ],
   "source": [
    "print(len(X_train_mvt1['N11'].unique()), X_train_mvt1['N11'].dtype)"
   ]
  },
  {
   "cell_type": "code",
   "execution_count": 775,
   "metadata": {},
   "outputs": [
    {
     "data": {
      "image/png": "[encoded data removed]",
      "text/plain": [
       "<Figure size 432x288 with 1 Axes>"
      ]
     },
     "metadata": {},
     "output_type": "display_data"
    }
   ],
   "source": [
    "X_train_mvt1['N11'].plot.hist();"
   ]
  },
  {
   "cell_type": "code",
   "execution_count": 776,
   "metadata": {},
   "outputs": [
    {
     "data": {
      "text/plain": [
       "2.0      0.114400\n",
       "3.0      0.103142\n",
       "1.0      0.098905\n",
       "4.0      0.096462\n",
       "5.0      0.085978\n",
       "6.0      0.067483\n",
       "0.0      0.058762\n",
       "7.0      0.055793\n",
       "8.0      0.046082\n",
       "9.0      0.039278\n",
       "10.0     0.032133\n",
       "11.0     0.027618\n",
       "12.0     0.022762\n",
       "13.0     0.019391\n",
       "14.0     0.015866\n",
       "15.0     0.013051\n",
       "16.0     0.012247\n",
       "17.0     0.010670\n",
       "18.0     0.008721\n",
       "19.0     0.008165\n",
       "20.0     0.006990\n",
       "21.0     0.006247\n",
       "22.0     0.005196\n",
       "23.0     0.004886\n",
       "25.0     0.003711\n",
       "24.0     0.003557\n",
       "27.0     0.003433\n",
       "26.0     0.003340\n",
       "28.0     0.002660\n",
       "29.0     0.002103\n",
       "           ...   \n",
       "63.0     0.000124\n",
       "64.0     0.000124\n",
       "55.0     0.000124\n",
       "70.0     0.000124\n",
       "57.0     0.000093\n",
       "60.0     0.000093\n",
       "66.0     0.000093\n",
       "67.0     0.000093\n",
       "68.0     0.000093\n",
       "71.0     0.000062\n",
       "97.0     0.000062\n",
       "77.0     0.000062\n",
       "82.0     0.000062\n",
       "96.0     0.000062\n",
       "93.0     0.000062\n",
       "90.0     0.000062\n",
       "85.0     0.000062\n",
       "377.0    0.000031\n",
       "105.0    0.000031\n",
       "79.0     0.000031\n",
       "69.0     0.000031\n",
       "76.0     0.000031\n",
       "59.0     0.000031\n",
       "78.0     0.000031\n",
       "86.0     0.000031\n",
       "88.0     0.000031\n",
       "379.0    0.000031\n",
       "83.0     0.000031\n",
       "109.0    0.000031\n",
       "75.0     0.000031\n",
       "Name: N11, Length: 90, dtype: float64"
      ]
     },
     "execution_count": 776,
     "metadata": {},
     "output_type": "execute_result"
    }
   ],
   "source": [
    "X_train_mvt1['N11'].value_counts(normalize=True)"
   ]
  },
  {
   "cell_type": "code",
   "execution_count": 777,
   "metadata": {},
   "outputs": [
    {
     "data": {
      "text/plain": [
       "True"
      ]
     },
     "execution_count": 777,
     "metadata": {},
     "output_type": "execute_result"
    }
   ],
   "source": [
    "N11_median = X_train_mvt1['N11'].median(axis=0)\n",
    "\n",
    "X_train_mvt1['N11'].replace(np.nan, N11_median, inplace=True)\n",
    "\n",
    "X_train_mvt1['N11'].describe()['count'] == nrows"
   ]
  },
  {
   "cell_type": "code",
   "execution_count": 778,
   "metadata": {
    "scrolled": true
   },
   "outputs": [
    {
     "name": "stdout",
     "output_type": "stream",
     "text": [
      "19.5\n"
     ]
    },
    {
     "data": {
      "image/png": "[encoded data removed]",
      "text/plain": [
       "<Figure size 432x288 with 1 Axes>"
      ]
     },
     "metadata": {},
     "output_type": "display_data"
    }
   ],
   "source": [
    "IQR = X_train_mvt1['N11'].quantile(0.75) - X_train_mvt1['N11'].quantile(0.25)\n",
    "\n",
    "upper_limit = X_train_mvt1['N11'].quantile(0.75) + 1.5*IQR\n",
    "\n",
    "print (upper_limit)\n",
    "\n",
    "X_train_mvt1.boxplot(column='N11');"
   ]
  },
  {
   "cell_type": "code",
   "execution_count": 779,
   "metadata": {},
   "outputs": [
    {
     "name": "stdout",
     "output_type": "stream",
     "text": [
      "1    0.583824\n",
      "0    0.416176\n",
      "Name: Dependent_Variable, dtype: float64\n"
     ]
    },
    {
     "data": {
      "image/png": "[encoded data removed]",
      "text/plain": [
       "<Figure size 432x288 with 1 Axes>"
      ]
     },
     "metadata": {},
     "output_type": "display_data"
    }
   ],
   "source": [
    "N11_outliers = X_train_mvt1[X_train_mvt1['N11'] > upper_limit]\n",
    "\n",
    "print (N11_outliers['Dependent_Variable'].value_counts(normalize=True))\n",
    "\n",
    "\n",
    "sns.boxplot(x='Dependent_Variable', y='N11', data=N11_outliers);"
   ]
  },
  {
   "cell_type": "markdown",
   "metadata": {},
   "source": [
    "The outliers seem to affect the dist of the target.So we do not impute them"
   ]
  },
  {
   "cell_type": "code",
   "execution_count": 780,
   "metadata": {},
   "outputs": [
    {
     "name": "stdout",
     "output_type": "stream",
     "text": [
      "3289 float64\n"
     ]
    }
   ],
   "source": [
    "print(len(X_train_mvt1['N12'].unique()), X_train_mvt1['N12'].dtype)"
   ]
  },
  {
   "cell_type": "code",
   "execution_count": 781,
   "metadata": {},
   "outputs": [
    {
     "data": {
      "image/png": "[encoded data removed]",
      "text/plain": [
       "<Figure size 432x288 with 1 Axes>"
      ]
     },
     "metadata": {},
     "output_type": "display_data"
    }
   ],
   "source": [
    "X_train_mvt1['N12'].plot.hist(bins = 20);"
   ]
  },
  {
   "cell_type": "code",
   "execution_count": 782,
   "metadata": {},
   "outputs": [
    {
     "data": {
      "text/plain": [
       "0.0        0.809256\n",
       "100.0      0.001055\n",
       "50.0       0.000985\n",
       "30.0       0.000914\n",
       "25.0       0.000633\n",
       "130.0      0.000633\n",
       "10.0       0.000528\n",
       "75.0       0.000528\n",
       "40.0       0.000492\n",
       "20.0       0.000457\n",
       "15.0       0.000457\n",
       "68.0       0.000457\n",
       "200.0      0.000457\n",
       "71.0       0.000387\n",
       "269.0      0.000387\n",
       "67.0       0.000387\n",
       "60.0       0.000387\n",
       "55.0       0.000387\n",
       "76.0       0.000387\n",
       "64.0       0.000352\n",
       "134.0      0.000352\n",
       "135.0      0.000352\n",
       "90.0       0.000352\n",
       "115.0      0.000317\n",
       "107.0      0.000317\n",
       "110.0      0.000317\n",
       "36.0       0.000317\n",
       "185.0      0.000317\n",
       "80.0       0.000317\n",
       "228.0      0.000317\n",
       "             ...   \n",
       "10969.0    0.000035\n",
       "994.0      0.000035\n",
       "11760.0    0.000035\n",
       "10336.0    0.000035\n",
       "3483.0     0.000035\n",
       "6206.0     0.000035\n",
       "2598.0     0.000035\n",
       "13931.0    0.000035\n",
       "3161.0     0.000035\n",
       "13937.0    0.000035\n",
       "8492.0     0.000035\n",
       "6458.0     0.000035\n",
       "5437.0     0.000035\n",
       "4804.0     0.000035\n",
       "7499.0     0.000035\n",
       "17649.0    0.000035\n",
       "5436.0     0.000035\n",
       "9180.0     0.000035\n",
       "19695.0    0.000035\n",
       "1983.0     0.000035\n",
       "7816.0     0.000035\n",
       "4411.0     0.000035\n",
       "23676.0    0.000035\n",
       "6438.0     0.000035\n",
       "27883.0    0.000035\n",
       "19690.0    0.000035\n",
       "70567.0    0.000035\n",
       "4001.0     0.000035\n",
       "1017.0     0.000035\n",
       "11775.0    0.000035\n",
       "Name: N12, Length: 3288, dtype: float64"
      ]
     },
     "execution_count": 782,
     "metadata": {},
     "output_type": "execute_result"
    }
   ],
   "source": [
    "X_train_mvt1['N12'].value_counts(normalize=True)"
   ]
  },
  {
   "cell_type": "markdown",
   "metadata": {},
   "source": [
    "Almost 81% of the values are 0. So we simply replace missing values with 0 for N12"
   ]
  },
  {
   "cell_type": "code",
   "execution_count": 783,
   "metadata": {},
   "outputs": [
    {
     "data": {
      "text/plain": [
       "True"
      ]
     },
     "execution_count": 783,
     "metadata": {},
     "output_type": "execute_result"
    }
   ],
   "source": [
    "X_train_mvt1['N12'].replace(np.nan, 0, inplace=True)\n",
    "\n",
    "X_train_mvt1['N12'].describe()['count'] == nrows"
   ]
  },
  {
   "cell_type": "code",
   "execution_count": 784,
   "metadata": {},
   "outputs": [
    {
     "name": "stdout",
     "output_type": "stream",
     "text": [
      "0.0\n"
     ]
    },
    {
     "data": {
      "image/png": "[encoded data removed]",
      "text/plain": [
       "<Figure size 432x288 with 1 Axes>"
      ]
     },
     "metadata": {},
     "output_type": "display_data"
    }
   ],
   "source": [
    "N12_median = X_train_mvt1['N12'].median(axis=0)\n",
    "\n",
    "IQR = X_train_mvt1['N12'].quantile(0.75) - X_train_mvt1['N12'].quantile(0.25)\n",
    "\n",
    "upper_limit = X_train_mvt1['N12'].quantile(0.75) + 1.5*IQR\n",
    "\n",
    "print (upper_limit)\n",
    "\n",
    "X_train_mvt1.boxplot(column='N12');"
   ]
  },
  {
   "cell_type": "code",
   "execution_count": 785,
   "metadata": {},
   "outputs": [
    {
     "name": "stdout",
     "output_type": "stream",
     "text": [
      "0    0.571534\n",
      "1    0.428466\n",
      "Name: Dependent_Variable, dtype: float64\n"
     ]
    },
    {
     "data": {
      "image/png": "[encoded data removed]",
      "text/plain": [
       "<Figure size 432x288 with 1 Axes>"
      ]
     },
     "metadata": {},
     "output_type": "display_data"
    }
   ],
   "source": [
    "N12_outliers = X_train_mvt1[X_train_mvt1['N12'] > upper_limit]\n",
    "\n",
    "print (N12_outliers['Dependent_Variable'].value_counts(normalize=True))\n",
    "\n",
    "\n",
    "sns.boxplot(x='Dependent_Variable', y='N12', data=N12_outliers);"
   ]
  },
  {
   "cell_type": "markdown",
   "metadata": {},
   "source": [
    "So there appears to be no relationship that the outliers of N12 contribute towards the target variable. So it is better to impute the outliers for N12\n",
    "\n",
    "But this results in all values of N12 becoming 0 so we do not do this and leave N12 as it is"
   ]
  },
  {
   "cell_type": "code",
   "execution_count": 786,
   "metadata": {},
   "outputs": [
    {
     "name": "stdout",
     "output_type": "stream",
     "text": [
      "{'C2': 0, 'C3': 0, 'C4': 0, 'C6': 0, 'C8': 0, 'N1': 0, 'N2': 0, 'N3': 0, 'N4': 0, 'N5': 0, 'N7': 0, 'N8': 0, 'N9': 0, 'N10': 0, 'N10.1': 0, 'N11': 0, 'N12': 0, 'N14': 608, 'N15': 427, 'N16': 4606, 'N17': 4606, 'N18': 4606, 'N19': 4571, 'N20': 4571, 'N21': 4571, 'N22': 4571, 'N23': 2486, 'N24': 0, 'N25': 0, 'N26': 0, 'N27': 0, 'N28': 0, 'N29': 0, 'N30': 0, 'N31': 0, 'N32': 0, 'N33': 0, 'N34': 0, 'N35': 427, 'Dependent_Variable': 0, 'N25_missing': 0, 'N26_missing': 0, 'N27_missing': 0, 'N28_missing': 0, 'N29_missing': 0, 'N30_missing': 0, 'N31_missing': 0, 'N32_missing': 0, 'C1_1': 0, 'C1_2': 0, 'C1_3': 0, 'C5_0': 0, 'C5_1': 0, 'C5_2': 0, 'C5_3': 0, 'C5_4': 0, 'C5_5': 0, 'C5_6': 0, 'C5_7': 0, 'C7_0': 0, 'C7_1': 0, 'C7_2': 0, 'C7_3': 0, 'C7_4': 0, 'C7_5': 0, 'C7_6': 0, 'C7_7': 0}\n"
     ]
    }
   ],
   "source": [
    "print (make_missing_value_dict(X_train_mvt1))"
   ]
  },
  {
   "cell_type": "code",
   "execution_count": 787,
   "metadata": {},
   "outputs": [
    {
     "name": "stdout",
     "output_type": "stream",
     "text": [
      "97 float64\n"
     ]
    }
   ],
   "source": [
    "print(len(X_train_mvt1['N14'].unique()), X_train_mvt1['N14'].dtype)"
   ]
  },
  {
   "cell_type": "code",
   "execution_count": 788,
   "metadata": {},
   "outputs": [
    {
     "data": {
      "image/png": "[encoded data removed]",
      "text/plain": [
       "<Figure size 432x288 with 1 Axes>"
      ]
     },
     "metadata": {},
     "output_type": "display_data"
    }
   ],
   "source": [
    "X_train_mvt1['N14'].plot.hist(bins = 20);"
   ]
  },
  {
   "cell_type": "code",
   "execution_count": 789,
   "metadata": {
    "scrolled": false
   },
   "outputs": [
    {
     "data": {
      "text/plain": [
       "0.0     0.643364\n",
       "1.0     0.038284\n",
       "3.0     0.031194\n",
       "2.0     0.028204\n",
       "4.0     0.026139\n",
       "6.0     0.018587\n",
       "7.0     0.017231\n",
       "5.0     0.017107\n",
       "8.0     0.014826\n",
       "9.0     0.012052\n",
       "10.0    0.011929\n",
       "11.0    0.011097\n",
       "12.0    0.010419\n",
       "14.0    0.007953\n",
       "13.0    0.007675\n",
       "15.0    0.007429\n",
       "16.0    0.006319\n",
       "17.0    0.006196\n",
       "20.0    0.005148\n",
       "18.0    0.004963\n",
       "19.0    0.004747\n",
       "22.0    0.004285\n",
       "23.0    0.004100\n",
       "21.0    0.004100\n",
       "27.0    0.003576\n",
       "24.0    0.003483\n",
       "26.0    0.003391\n",
       "25.0    0.003360\n",
       "28.0    0.002897\n",
       "29.0    0.002497\n",
       "          ...   \n",
       "75.0    0.000216\n",
       "72.0    0.000216\n",
       "64.0    0.000216\n",
       "61.0    0.000216\n",
       "67.0    0.000185\n",
       "73.0    0.000154\n",
       "76.0    0.000154\n",
       "87.0    0.000154\n",
       "84.0    0.000123\n",
       "63.0    0.000123\n",
       "77.0    0.000123\n",
       "78.0    0.000092\n",
       "79.0    0.000092\n",
       "74.0    0.000092\n",
       "86.0    0.000092\n",
       "82.0    0.000092\n",
       "80.0    0.000092\n",
       "88.0    0.000092\n",
       "68.0    0.000092\n",
       "70.0    0.000062\n",
       "92.0    0.000062\n",
       "71.0    0.000062\n",
       "83.0    0.000062\n",
       "89.0    0.000062\n",
       "93.0    0.000031\n",
       "97.0    0.000031\n",
       "85.0    0.000031\n",
       "98.0    0.000031\n",
       "96.0    0.000031\n",
       "90.0    0.000031\n",
       "Name: N14, Length: 96, dtype: float64"
      ]
     },
     "execution_count": 789,
     "metadata": {},
     "output_type": "execute_result"
    }
   ],
   "source": [
    "X_train_mvt1['N14'].value_counts(normalize=True)"
   ]
  },
  {
   "cell_type": "code",
   "execution_count": 790,
   "metadata": {},
   "outputs": [
    {
     "data": {
      "text/plain": [
       "True"
      ]
     },
     "execution_count": 790,
     "metadata": {},
     "output_type": "execute_result"
    }
   ],
   "source": [
    "N14_median = X_train_mvt1['N14'].median(axis=0)\n",
    "\n",
    "X_train_mvt1['N14'].replace(np.nan, N14_median, inplace=True)\n",
    "\n",
    "X_train_mvt1['N14'].describe()['count'] == nrows"
   ]
  },
  {
   "cell_type": "code",
   "execution_count": 791,
   "metadata": {},
   "outputs": [
    {
     "name": "stdout",
     "output_type": "stream",
     "text": [
      "10.0\n"
     ]
    },
    {
     "data": {
      "image/png": "[encoded data removed]",
      "text/plain": [
       "<Figure size 432x288 with 1 Axes>"
      ]
     },
     "metadata": {},
     "output_type": "display_data"
    }
   ],
   "source": [
    "IQR = X_train_mvt1['N14'].quantile(0.75) - X_train_mvt1['N14'].quantile(0.25)\n",
    "\n",
    "upper_limit = X_train_mvt1['N14'].quantile(0.75) + 1.5*IQR\n",
    "\n",
    "print (upper_limit)\n",
    "\n",
    "X_train_mvt1.boxplot(column='N14');"
   ]
  },
  {
   "cell_type": "code",
   "execution_count": 792,
   "metadata": {},
   "outputs": [
    {
     "name": "stdout",
     "output_type": "stream",
     "text": [
      "0    0.592965\n",
      "1    0.407035\n",
      "Name: Dependent_Variable, dtype: float64\n"
     ]
    },
    {
     "data": {
      "image/png": "[encoded data removed]",
      "text/plain": [
       "<Figure size 432x288 with 1 Axes>"
      ]
     },
     "metadata": {},
     "output_type": "display_data"
    }
   ],
   "source": [
    "N14_outliers = X_train_mvt1[X_train_mvt1['N14'] > upper_limit]\n",
    "\n",
    "print (N14_outliers['Dependent_Variable'].value_counts(normalize=True))\n",
    "\n",
    "\n",
    "sns.boxplot(x='Dependent_Variable', y='N14', data=N14_outliers);"
   ]
  },
  {
   "cell_type": "markdown",
   "metadata": {},
   "source": [
    "The outliers seem to affect the dist of the target.So we do not impute them"
   ]
  },
  {
   "cell_type": "code",
   "execution_count": 793,
   "metadata": {},
   "outputs": [
    {
     "name": "stdout",
     "output_type": "stream",
     "text": [
      "20 float64\n"
     ]
    }
   ],
   "source": [
    "print(len(X_train_mvt1['N15'].unique()), X_train_mvt1['N15'].dtype)"
   ]
  },
  {
   "cell_type": "code",
   "execution_count": 794,
   "metadata": {
    "scrolled": true
   },
   "outputs": [
    {
     "data": {
      "image/png": "[encoded data removed]",
      "text/plain": [
       "<Figure size 432x288 with 1 Axes>"
      ]
     },
     "metadata": {},
     "output_type": "display_data"
    }
   ],
   "source": [
    "X_train_mvt1['N15'].plot.hist(bins = 20);"
   ]
  },
  {
   "cell_type": "code",
   "execution_count": 795,
   "metadata": {},
   "outputs": [
    {
     "data": {
      "text/plain": [
       "0.0     0.761119\n",
       "1.0     0.188456\n",
       "2.0     0.031849\n",
       "3.0     0.010269\n",
       "4.0     0.003617\n",
       "5.0     0.001962\n",
       "6.0     0.000950\n",
       "7.0     0.000613\n",
       "8.0     0.000337\n",
       "9.0     0.000307\n",
       "10.0    0.000153\n",
       "11.0    0.000092\n",
       "12.0    0.000061\n",
       "15.0    0.000061\n",
       "22.0    0.000031\n",
       "16.0    0.000031\n",
       "21.0    0.000031\n",
       "17.0    0.000031\n",
       "30.0    0.000031\n",
       "Name: N15, dtype: float64"
      ]
     },
     "execution_count": 795,
     "metadata": {},
     "output_type": "execute_result"
    }
   ],
   "source": [
    "X_train_mvt1['N15'].value_counts(normalize=True)"
   ]
  },
  {
   "cell_type": "markdown",
   "metadata": {},
   "source": [
    "Almost 77% of the values are 0. So we simply replace missing values with 0 for N15\n",
    "\n",
    "Only 20 distinct values. So we one hot encode them and treat them as categories"
   ]
  },
  {
   "cell_type": "code",
   "execution_count": 796,
   "metadata": {},
   "outputs": [
    {
     "name": "stdout",
     "output_type": "stream",
     "text": [
      "Index(['Unique_ID', 'C2', 'C3', 'C4', 'C6', 'C8', 'N1', 'N2', 'N3', 'N4', 'N5',\n",
      "       'N7', 'N8', 'N9', 'N10', 'N10.1', 'N11', 'N12', 'N14', 'N16', 'N17',\n",
      "       'N18', 'N19', 'N20', 'N21', 'N22', 'N23', 'N24', 'N25', 'N26', 'N27',\n",
      "       'N28', 'N29', 'N30', 'N31', 'N32', 'N33', 'N34', 'N35',\n",
      "       'Dependent_Variable', 'N25_missing', 'N26_missing', 'N27_missing',\n",
      "       'N28_missing', 'N29_missing', 'N30_missing', 'N31_missing',\n",
      "       'N32_missing', 'C1_1', 'C1_2', 'C1_3', 'C5_0', 'C5_1', 'C5_2', 'C5_3',\n",
      "       'C5_4', 'C5_5', 'C5_6', 'C5_7', 'C7_0', 'C7_1', 'C7_2', 'C7_3', 'C7_4',\n",
      "       'C7_5', 'C7_6', 'C7_7', 'N15_0.0', 'N15_1.0', 'N15_2.0', 'N15_3.0',\n",
      "       'N15_4.0', 'N15_5.0', 'N15_6.0', 'N15_7.0', 'N15_8.0', 'N15_9.0',\n",
      "       'N15_10.0', 'N15_11.0', 'N15_12.0', 'N15_15.0', 'N15_16.0', 'N15_17.0',\n",
      "       'N15_21.0', 'N15_22.0', 'N15_30.0'],\n",
      "      dtype='object')\n"
     ]
    }
   ],
   "source": [
    "X_train_mvt1['N15'] = X_train_mvt1['N15'].astype('object')\n",
    "\n",
    "X_train_mvt1 = pd.get_dummies(data=X_train_mvt1, columns=['N15'])\n",
    "\n",
    "print (X_train_mvt1.columns)"
   ]
  },
  {
   "cell_type": "code",
   "execution_count": 797,
   "metadata": {
    "scrolled": true
   },
   "outputs": [],
   "source": [
    "# X_train_mvt1['N15'].replace(np.nan, 0, inplace=True)\n",
    "\n",
    "# X_train_mvt1['N15'].describe()['count'] == nrows"
   ]
  },
  {
   "cell_type": "code",
   "execution_count": 798,
   "metadata": {},
   "outputs": [],
   "source": [
    "#N15_median = X_train_mvt1['N15'].median(axis=0)\n",
    "\n",
    "#IQR = X_train_mvt1['N15'].quantile(0.75) - X_train_mvt1['N15'].quantile(0.25)\n",
    "\n",
    "#upper_limit = X_train_mvt1['N15'].quantile(0.75) + 1.5*IQR\n",
    "\n",
    "#print (upper_limit)\n",
    "\n",
    "#X_train_mvt1.boxplot(column='N15');"
   ]
  },
  {
   "cell_type": "code",
   "execution_count": 799,
   "metadata": {},
   "outputs": [],
   "source": [
    "#N15_outliers = X_train_mvt1[X_train_mvt1['N15'] > upper_limit]\n",
    "\n",
    "#print (N15_outliers['Dependent_Variable'].value_counts(normalize=True))\n",
    "\n",
    "\n",
    "#sns.boxplot(x='Dependent_Variable', y='N15', data=N15_outliers);"
   ]
  },
  {
   "cell_type": "markdown",
   "metadata": {},
   "source": [
    "The outliers seem to affect the dist of the target.So we do not impute them"
   ]
  },
  {
   "cell_type": "code",
   "execution_count": 800,
   "metadata": {
    "scrolled": true
   },
   "outputs": [
    {
     "name": "stdout",
     "output_type": "stream",
     "text": [
      "7 float64\n"
     ]
    }
   ],
   "source": [
    "print(len(X_train_mvt1['N16'].unique()), X_train_mvt1['N16'].dtype)"
   ]
  },
  {
   "cell_type": "code",
   "execution_count": 801,
   "metadata": {
    "scrolled": true
   },
   "outputs": [
    {
     "data": {
      "image/png": "[encoded data removed]",
      "text/plain": [
       "<Figure size 432x288 with 1 Axes>"
      ]
     },
     "metadata": {},
     "output_type": "display_data"
    }
   ],
   "source": [
    "X_train_mvt1['N16'].plot.hist(bins = 20);"
   ]
  },
  {
   "cell_type": "code",
   "execution_count": 802,
   "metadata": {},
   "outputs": [
    {
     "data": {
      "text/plain": [
       "0.0    0.979539\n",
       "1.0    0.018563\n",
       "2.0    0.001301\n",
       "3.0    0.000457\n",
       "4.0    0.000105\n",
       "7.0    0.000035\n",
       "Name: N16, dtype: float64"
      ]
     },
     "execution_count": 802,
     "metadata": {},
     "output_type": "execute_result"
    }
   ],
   "source": [
    "X_train_mvt1['N16'].value_counts(normalize=True)"
   ]
  },
  {
   "cell_type": "markdown",
   "metadata": {},
   "source": [
    "Only 7 distinct values. So we one hot encode them and treat them as categories"
   ]
  },
  {
   "cell_type": "code",
   "execution_count": 803,
   "metadata": {
    "scrolled": true
   },
   "outputs": [
    {
     "name": "stdout",
     "output_type": "stream",
     "text": [
      "Index(['Unique_ID', 'C2', 'C3', 'C4', 'C6', 'C8', 'N1', 'N2', 'N3', 'N4', 'N5',\n",
      "       'N7', 'N8', 'N9', 'N10', 'N10.1', 'N11', 'N12', 'N14', 'N17', 'N18',\n",
      "       'N19', 'N20', 'N21', 'N22', 'N23', 'N24', 'N25', 'N26', 'N27', 'N28',\n",
      "       'N29', 'N30', 'N31', 'N32', 'N33', 'N34', 'N35', 'Dependent_Variable',\n",
      "       'N25_missing', 'N26_missing', 'N27_missing', 'N28_missing',\n",
      "       'N29_missing', 'N30_missing', 'N31_missing', 'N32_missing', 'C1_1',\n",
      "       'C1_2', 'C1_3', 'C5_0', 'C5_1', 'C5_2', 'C5_3', 'C5_4', 'C5_5', 'C5_6',\n",
      "       'C5_7', 'C7_0', 'C7_1', 'C7_2', 'C7_3', 'C7_4', 'C7_5', 'C7_6', 'C7_7',\n",
      "       'N15_0.0', 'N15_1.0', 'N15_2.0', 'N15_3.0', 'N15_4.0', 'N15_5.0',\n",
      "       'N15_6.0', 'N15_7.0', 'N15_8.0', 'N15_9.0', 'N15_10.0', 'N15_11.0',\n",
      "       'N15_12.0', 'N15_15.0', 'N15_16.0', 'N15_17.0', 'N15_21.0', 'N15_22.0',\n",
      "       'N15_30.0', 'N16_0.0', 'N16_1.0', 'N16_2.0', 'N16_3.0', 'N16_4.0',\n",
      "       'N16_7.0'],\n",
      "      dtype='object')\n"
     ]
    }
   ],
   "source": [
    "X_train_mvt1['N16'] = X_train_mvt1['N16'].astype('object')\n",
    "\n",
    "X_train_mvt1 = pd.get_dummies(data=X_train_mvt1, columns=['N16'])\n",
    "\n",
    "print (X_train_mvt1.columns)"
   ]
  },
  {
   "cell_type": "code",
   "execution_count": 804,
   "metadata": {},
   "outputs": [],
   "source": [
    "#X_train_mvt1['N16'].replace(np.nan, 0, inplace=True)\n",
    "\n",
    "#X_train_mvt1['N16'].describe()['count'] == nrows"
   ]
  },
  {
   "cell_type": "code",
   "execution_count": 805,
   "metadata": {},
   "outputs": [],
   "source": [
    "#N16_median = X_train_mvt1['N16'].median(axis=0)\n",
    "\n",
    "#IQR = X_train_mvt1['N16'].quantile(0.75) - X_train_mvt1['N16'].quantile(0.25)\n",
    "\n",
    "#upper_limit = X_train_mvt1['N16'].quantile(0.75) + 1.5*IQR\n",
    "\n",
    "#print (upper_limit)\n",
    "\n",
    "#X_train_mvt1.boxplot(column='N16');"
   ]
  },
  {
   "cell_type": "code",
   "execution_count": 806,
   "metadata": {},
   "outputs": [],
   "source": [
    "#N16_outliers = X_train_mvt1[X_train_mvt1['N16'] > upper_limit]\n",
    "\n",
    "#print (N16_outliers['Dependent_Variable'].value_counts(normalize=True))\n",
    "\n",
    "\n",
    "#sns.boxplot(x='Dependent_Variable', y='N16', data=N16_outliers);"
   ]
  },
  {
   "cell_type": "markdown",
   "metadata": {},
   "source": [
    "So there appears to be no relationship that the outliers of N16 contribute towards the target variable. So it is better to impute the outliers for N16\n",
    "\n",
    "But this results in all values of N16 becoming 0 so we do not do this and leave N16 as it is"
   ]
  },
  {
   "cell_type": "code",
   "execution_count": 807,
   "metadata": {},
   "outputs": [
    {
     "name": "stdout",
     "output_type": "stream",
     "text": [
      "{'C2': 0, 'C3': 0, 'C4': 0, 'C6': 0, 'C8': 0, 'N1': 0, 'N2': 0, 'N3': 0, 'N4': 0, 'N5': 0, 'N7': 0, 'N8': 0, 'N9': 0, 'N10': 0, 'N10.1': 0, 'N11': 0, 'N12': 0, 'N14': 0, 'N17': 4606, 'N18': 4606, 'N19': 4571, 'N20': 4571, 'N21': 4571, 'N22': 4571, 'N23': 2486, 'N24': 0, 'N25': 0, 'N26': 0, 'N27': 0, 'N28': 0, 'N29': 0, 'N30': 0, 'N31': 0, 'N32': 0, 'N33': 0, 'N34': 0, 'N35': 427, 'Dependent_Variable': 0, 'N25_missing': 0, 'N26_missing': 0, 'N27_missing': 0, 'N28_missing': 0, 'N29_missing': 0, 'N30_missing': 0, 'N31_missing': 0, 'N32_missing': 0, 'C1_1': 0, 'C1_2': 0, 'C1_3': 0, 'C5_0': 0, 'C5_1': 0, 'C5_2': 0, 'C5_3': 0, 'C5_4': 0, 'C5_5': 0, 'C5_6': 0, 'C5_7': 0, 'C7_0': 0, 'C7_1': 0, 'C7_2': 0, 'C7_3': 0, 'C7_4': 0, 'C7_5': 0, 'C7_6': 0, 'C7_7': 0, 'N15_0.0': 0, 'N15_1.0': 0, 'N15_2.0': 0, 'N15_3.0': 0, 'N15_4.0': 0, 'N15_5.0': 0, 'N15_6.0': 0, 'N15_7.0': 0, 'N15_8.0': 0, 'N15_9.0': 0, 'N15_10.0': 0, 'N15_11.0': 0, 'N15_12.0': 0, 'N15_15.0': 0, 'N15_16.0': 0, 'N15_17.0': 0, 'N15_21.0': 0, 'N15_22.0': 0, 'N15_30.0': 0, 'N16_0.0': 0, 'N16_1.0': 0, 'N16_2.0': 0, 'N16_3.0': 0, 'N16_4.0': 0, 'N16_7.0': 0}\n"
     ]
    }
   ],
   "source": [
    "print (make_missing_value_dict(X_train_mvt1))"
   ]
  },
  {
   "cell_type": "code",
   "execution_count": 808,
   "metadata": {},
   "outputs": [
    {
     "name": "stdout",
     "output_type": "stream",
     "text": [
      "16616 float64\n"
     ]
    }
   ],
   "source": [
    "print(len(X_train_mvt1['N17'].unique()), X_train_mvt1['N17'].dtype)"
   ]
  },
  {
   "cell_type": "code",
   "execution_count": 809,
   "metadata": {},
   "outputs": [
    {
     "data": {
      "image/png": "[encoded data removed]",
      "text/plain": [
       "<Figure size 432x288 with 1 Axes>"
      ]
     },
     "metadata": {},
     "output_type": "display_data"
    }
   ],
   "source": [
    "X_train_mvt1['N17'].plot.hist(bins = 20);"
   ]
  },
  {
   "cell_type": "code",
   "execution_count": 810,
   "metadata": {
    "scrolled": true
   },
   "outputs": [
    {
     "data": {
      "text/plain": [
       "0.0         0.066095\n",
       "59.0        0.000492\n",
       "287.0       0.000387\n",
       "256.0       0.000387\n",
       "75.0        0.000387\n",
       "300.0       0.000387\n",
       "239.0       0.000387\n",
       "39.0        0.000387\n",
       "421.0       0.000352\n",
       "283.0       0.000352\n",
       "261.0       0.000352\n",
       "500.0       0.000352\n",
       "400.0       0.000352\n",
       "6.0         0.000352\n",
       "1495.0      0.000352\n",
       "11.0        0.000352\n",
       "50.0        0.000352\n",
       "489.0       0.000352\n",
       "80.0        0.000352\n",
       "222.0       0.000352\n",
       "292.0       0.000352\n",
       "110.0       0.000316\n",
       "28.0        0.000316\n",
       "19.0        0.000316\n",
       "265.0       0.000316\n",
       "301.0       0.000316\n",
       "200.0       0.000316\n",
       "866.0       0.000316\n",
       "298.0       0.000316\n",
       "220.0       0.000316\n",
       "              ...   \n",
       "16191.0     0.000035\n",
       "18153.0     0.000035\n",
       "14080.0     0.000035\n",
       "13361.0     0.000035\n",
       "102143.0    0.000035\n",
       "34353.0     0.000035\n",
       "57418.0     0.000035\n",
       "10063.0     0.000035\n",
       "15841.0     0.000035\n",
       "25768.0     0.000035\n",
       "63340.0     0.000035\n",
       "14152.0     0.000035\n",
       "19275.0     0.000035\n",
       "691.0       0.000035\n",
       "52473.0     0.000035\n",
       "8485.0      0.000035\n",
       "8674.0      0.000035\n",
       "9630.0      0.000035\n",
       "16714.0     0.000035\n",
       "7655.0      0.000035\n",
       "2925.0      0.000035\n",
       "3243.0      0.000035\n",
       "17347.0     0.000035\n",
       "18045.0     0.000035\n",
       "16314.0     0.000035\n",
       "38789.0     0.000035\n",
       "27266.0     0.000035\n",
       "7572.0      0.000035\n",
       "3846.0      0.000035\n",
       "47132.0     0.000035\n",
       "Name: N17, Length: 16615, dtype: float64"
      ]
     },
     "execution_count": 810,
     "metadata": {},
     "output_type": "execute_result"
    }
   ],
   "source": [
    "X_train_mvt1['N17'].value_counts(normalize=True)"
   ]
  },
  {
   "cell_type": "code",
   "execution_count": 811,
   "metadata": {},
   "outputs": [
    {
     "data": {
      "text/plain": [
       "True"
      ]
     },
     "execution_count": 811,
     "metadata": {},
     "output_type": "execute_result"
    }
   ],
   "source": [
    "N17_median = X_train_mvt1['N17'].median(axis=0)\n",
    "\n",
    "X_train_mvt1['N17'].replace(np.nan, N17_median, inplace=True)\n",
    "\n",
    "X_train_mvt1['N17'].describe()['count'] == nrows"
   ]
  },
  {
   "cell_type": "code",
   "execution_count": 812,
   "metadata": {},
   "outputs": [
    {
     "name": "stdout",
     "output_type": "stream",
     "text": [
      "31305.5\n"
     ]
    },
    {
     "data": {
      "image/png": "[encoded data removed]",
      "text/plain": [
       "<Figure size 432x288 with 1 Axes>"
      ]
     },
     "metadata": {},
     "output_type": "display_data"
    }
   ],
   "source": [
    "IQR = X_train_mvt1['N17'].quantile(0.75) - X_train_mvt1['N17'].quantile(0.25)\n",
    "\n",
    "upper_limit = X_train_mvt1['N17'].quantile(0.75) + 1.5*IQR\n",
    "\n",
    "print (upper_limit)\n",
    "\n",
    "X_train_mvt1.boxplot(column='N17');"
   ]
  },
  {
   "cell_type": "code",
   "execution_count": 813,
   "metadata": {},
   "outputs": [
    {
     "name": "stdout",
     "output_type": "stream",
     "text": [
      "0    0.698551\n",
      "1    0.301449\n",
      "Name: Dependent_Variable, dtype: float64\n"
     ]
    },
    {
     "data": {
      "image/png": "[encoded data removed]",
      "text/plain": [
       "<Figure size 432x288 with 1 Axes>"
      ]
     },
     "metadata": {},
     "output_type": "display_data"
    }
   ],
   "source": [
    "N17_outliers = X_train_mvt1[X_train_mvt1['N17'] > upper_limit]\n",
    "\n",
    "print (N17_outliers['Dependent_Variable'].value_counts(normalize=True))\n",
    "\n",
    "\n",
    "sns.boxplot(x='Dependent_Variable', y='N17', data=N17_outliers);"
   ]
  },
  {
   "cell_type": "code",
   "execution_count": 814,
   "metadata": {},
   "outputs": [
    {
     "data": {
      "image/png": "[encoded data removed]",
      "text/plain": [
       "<Figure size 432x288 with 1 Axes>"
      ]
     },
     "metadata": {},
     "output_type": "display_data"
    }
   ],
   "source": [
    "# replace extreme outliers with the median\n",
    "\n",
    "X_train_mvt1.loc[X_train_mvt1['N17']>upper_limit, 'N17'] = N17_median\n",
    "\n",
    "X_train_mvt1.boxplot(column='N17');"
   ]
  },
  {
   "cell_type": "code",
   "execution_count": 815,
   "metadata": {},
   "outputs": [
    {
     "name": "stdout",
     "output_type": "stream",
     "text": [
      "184 float64\n"
     ]
    }
   ],
   "source": [
    "print(len(X_train_mvt1['N18'].unique()), X_train_mvt1['N18'].dtype)"
   ]
  },
  {
   "cell_type": "code",
   "execution_count": 816,
   "metadata": {},
   "outputs": [
    {
     "data": {
      "image/png": "[encoded data removed]",
      "text/plain": [
       "<Figure size 432x288 with 1 Axes>"
      ]
     },
     "metadata": {},
     "output_type": "display_data"
    }
   ],
   "source": [
    "X_train_mvt1['N18'].plot.hist(bins = 20);"
   ]
  },
  {
   "cell_type": "code",
   "execution_count": 817,
   "metadata": {},
   "outputs": [
    {
     "data": {
      "text/plain": [
       "True"
      ]
     },
     "execution_count": 817,
     "metadata": {},
     "output_type": "execute_result"
    }
   ],
   "source": [
    "N18_median = X_train_mvt1['N18'].median(axis=0)\n",
    "\n",
    "X_train_mvt1['N18'].replace(np.nan, N18_median, inplace=True)\n",
    "\n",
    "X_train_mvt1['N18'].describe()['count'] == nrows"
   ]
  },
  {
   "cell_type": "code",
   "execution_count": 818,
   "metadata": {},
   "outputs": [
    {
     "name": "stdout",
     "output_type": "stream",
     "text": [
      "1.5950000000000002\n"
     ]
    },
    {
     "data": {
      "image/png": "[encoded data removed]",
      "text/plain": [
       "<Figure size 432x288 with 1 Axes>"
      ]
     },
     "metadata": {},
     "output_type": "display_data"
    }
   ],
   "source": [
    "IQR = X_train_mvt1['N18'].quantile(0.75) - X_train_mvt1['N18'].quantile(0.25)\n",
    "\n",
    "upper_limit = X_train_mvt1['N18'].quantile(0.75) + 1.5*IQR\n",
    "\n",
    "print (upper_limit)\n",
    "\n",
    "X_train_mvt1.boxplot(column='N18');"
   ]
  },
  {
   "cell_type": "code",
   "execution_count": 819,
   "metadata": {},
   "outputs": [
    {
     "name": "stdout",
     "output_type": "stream",
     "text": [
      "1    0.694444\n",
      "0    0.305556\n",
      "Name: Dependent_Variable, dtype: float64\n"
     ]
    },
    {
     "data": {
      "image/png": "[encoded data removed]",
      "text/plain": [
       "<Figure size 432x288 with 1 Axes>"
      ]
     },
     "metadata": {},
     "output_type": "display_data"
    }
   ],
   "source": [
    "N18_outliers = X_train_mvt1[X_train_mvt1['N18'] > upper_limit]\n",
    "\n",
    "print (N18_outliers['Dependent_Variable'].value_counts(normalize=True))\n",
    "\n",
    "\n",
    "sns.boxplot(x='Dependent_Variable', y='N18', data=N18_outliers);"
   ]
  },
  {
   "cell_type": "markdown",
   "metadata": {},
   "source": [
    "The outliers seem to affect the dist of the target.So we do not impute them"
   ]
  },
  {
   "cell_type": "code",
   "execution_count": 820,
   "metadata": {},
   "outputs": [
    {
     "name": "stdout",
     "output_type": "stream",
     "text": [
      "14099 float64\n"
     ]
    }
   ],
   "source": [
    "print(len(X_train_mvt1['N19'].unique()), X_train_mvt1['N19'].dtype)"
   ]
  },
  {
   "cell_type": "code",
   "execution_count": 821,
   "metadata": {},
   "outputs": [
    {
     "data": {
      "image/png": "[encoded data removed]",
      "text/plain": [
       "<Figure size 432x288 with 1 Axes>"
      ]
     },
     "metadata": {},
     "output_type": "display_data"
    }
   ],
   "source": [
    "X_train_mvt1['N19'].plot.hist(bins = 20);"
   ]
  },
  {
   "cell_type": "code",
   "execution_count": 822,
   "metadata": {
    "scrolled": true
   },
   "outputs": [
    {
     "data": {
      "text/plain": [
       "0.0         0.075845\n",
       "500.0       0.003968\n",
       "300.0       0.002353\n",
       "1000.0      0.002107\n",
       "2000.0      0.002037\n",
       "3000.0      0.001861\n",
       "1500.0      0.001650\n",
       "5000.0      0.001053\n",
       "2500.0      0.001053\n",
       "11.0        0.001018\n",
       "13.0        0.000948\n",
       "31.0        0.000913\n",
       "25.0        0.000913\n",
       "6.0         0.000913\n",
       "30.0        0.000878\n",
       "32.0        0.000878\n",
       "39.0        0.000843\n",
       "57.0        0.000843\n",
       "75.0        0.000808\n",
       "19.0        0.000808\n",
       "2.0         0.000808\n",
       "10.0        0.000772\n",
       "34.0        0.000772\n",
       "22.0        0.000772\n",
       "70.0        0.000772\n",
       "5.0         0.000772\n",
       "72.0        0.000772\n",
       "10000.0     0.000737\n",
       "51.0        0.000737\n",
       "47.0        0.000737\n",
       "              ...   \n",
       "6935.0      0.000035\n",
       "42895.0     0.000035\n",
       "110365.0    0.000035\n",
       "28268.0     0.000035\n",
       "33140.0     0.000035\n",
       "34702.0     0.000035\n",
       "12739.0     0.000035\n",
       "5925.0      0.000035\n",
       "19600.0     0.000035\n",
       "44291.0     0.000035\n",
       "6096.0      0.000035\n",
       "72191.0     0.000035\n",
       "43363.0     0.000035\n",
       "7433.0      0.000035\n",
       "17397.0     0.000035\n",
       "34711.0     0.000035\n",
       "21820.0     0.000035\n",
       "2291.0      0.000035\n",
       "28838.0     0.000035\n",
       "72189.0     0.000035\n",
       "33202.0     0.000035\n",
       "6722.0      0.000035\n",
       "52479.0     0.000035\n",
       "11749.0     0.000035\n",
       "35882.0     0.000035\n",
       "42899.0     0.000035\n",
       "46000.0     0.000035\n",
       "3969.0      0.000035\n",
       "25545.0     0.000035\n",
       "36845.0     0.000035\n",
       "Name: N19, Length: 14098, dtype: float64"
      ]
     },
     "execution_count": 822,
     "metadata": {},
     "output_type": "execute_result"
    }
   ],
   "source": [
    "X_train_mvt1['N19'].value_counts(normalize=True)"
   ]
  },
  {
   "cell_type": "code",
   "execution_count": 823,
   "metadata": {},
   "outputs": [
    {
     "data": {
      "text/plain": [
       "True"
      ]
     },
     "execution_count": 823,
     "metadata": {},
     "output_type": "execute_result"
    }
   ],
   "source": [
    "N19_median = X_train_mvt1['N19'].median(axis=0)\n",
    "\n",
    "X_train_mvt1['N19'].replace(np.nan, N19_median, inplace=True)\n",
    "\n",
    "X_train_mvt1['N19'].describe()['count'] == nrows"
   ]
  },
  {
   "cell_type": "code",
   "execution_count": 824,
   "metadata": {},
   "outputs": [
    {
     "name": "stdout",
     "output_type": "stream",
     "text": [
      "23763.375\n"
     ]
    },
    {
     "data": {
      "image/png": "[encoded data removed]",
      "text/plain": [
       "<Figure size 432x288 with 1 Axes>"
      ]
     },
     "metadata": {},
     "output_type": "display_data"
    }
   ],
   "source": [
    "IQR = X_train_mvt1['N19'].quantile(0.75) - X_train_mvt1['N19'].quantile(0.25)\n",
    "\n",
    "upper_limit = X_train_mvt1['N19'].quantile(0.75) + 1.5*IQR\n",
    "\n",
    "print (upper_limit)\n",
    "\n",
    "X_train_mvt1.boxplot(column='N19');"
   ]
  },
  {
   "cell_type": "code",
   "execution_count": 825,
   "metadata": {},
   "outputs": [
    {
     "name": "stdout",
     "output_type": "stream",
     "text": [
      "0    0.832632\n",
      "1    0.167368\n",
      "Name: Dependent_Variable, dtype: float64\n"
     ]
    },
    {
     "data": {
      "image/png": "[encoded data removed]",
      "text/plain": [
       "<Figure size 432x288 with 1 Axes>"
      ]
     },
     "metadata": {},
     "output_type": "display_data"
    }
   ],
   "source": [
    "N19_outliers = X_train_mvt1[X_train_mvt1['N19'] > upper_limit]\n",
    "\n",
    "print (N19_outliers['Dependent_Variable'].value_counts(normalize=True))\n",
    "\n",
    "\n",
    "sns.boxplot(x='Dependent_Variable', y='N19', data=N19_outliers);"
   ]
  },
  {
   "cell_type": "markdown",
   "metadata": {},
   "source": [
    "The outliers seem to affect the dist of the target.So we do not impute them"
   ]
  },
  {
   "cell_type": "code",
   "execution_count": 826,
   "metadata": {},
   "outputs": [
    {
     "name": "stdout",
     "output_type": "stream",
     "text": [
      "{'C2': 0, 'C3': 0, 'C4': 0, 'C6': 0, 'C8': 0, 'N1': 0, 'N2': 0, 'N3': 0, 'N4': 0, 'N5': 0, 'N7': 0, 'N8': 0, 'N9': 0, 'N10': 0, 'N10.1': 0, 'N11': 0, 'N12': 0, 'N14': 0, 'N17': 0, 'N18': 0, 'N19': 0, 'N20': 4571, 'N21': 4571, 'N22': 4571, 'N23': 2486, 'N24': 0, 'N25': 0, 'N26': 0, 'N27': 0, 'N28': 0, 'N29': 0, 'N30': 0, 'N31': 0, 'N32': 0, 'N33': 0, 'N34': 0, 'N35': 427, 'Dependent_Variable': 0, 'N25_missing': 0, 'N26_missing': 0, 'N27_missing': 0, 'N28_missing': 0, 'N29_missing': 0, 'N30_missing': 0, 'N31_missing': 0, 'N32_missing': 0, 'C1_1': 0, 'C1_2': 0, 'C1_3': 0, 'C5_0': 0, 'C5_1': 0, 'C5_2': 0, 'C5_3': 0, 'C5_4': 0, 'C5_5': 0, 'C5_6': 0, 'C5_7': 0, 'C7_0': 0, 'C7_1': 0, 'C7_2': 0, 'C7_3': 0, 'C7_4': 0, 'C7_5': 0, 'C7_6': 0, 'C7_7': 0, 'N15_0.0': 0, 'N15_1.0': 0, 'N15_2.0': 0, 'N15_3.0': 0, 'N15_4.0': 0, 'N15_5.0': 0, 'N15_6.0': 0, 'N15_7.0': 0, 'N15_8.0': 0, 'N15_9.0': 0, 'N15_10.0': 0, 'N15_11.0': 0, 'N15_12.0': 0, 'N15_15.0': 0, 'N15_16.0': 0, 'N15_17.0': 0, 'N15_21.0': 0, 'N15_22.0': 0, 'N15_30.0': 0, 'N16_0.0': 0, 'N16_1.0': 0, 'N16_2.0': 0, 'N16_3.0': 0, 'N16_4.0': 0, 'N16_7.0': 0}\n"
     ]
    }
   ],
   "source": [
    "print (make_missing_value_dict(X_train_mvt1))"
   ]
  },
  {
   "cell_type": "code",
   "execution_count": 827,
   "metadata": {},
   "outputs": [
    {
     "name": "stdout",
     "output_type": "stream",
     "text": [
      "95 float64\n"
     ]
    }
   ],
   "source": [
    "print(len(X_train_mvt1['N20'].unique()), X_train_mvt1['N20'].dtype)"
   ]
  },
  {
   "cell_type": "code",
   "execution_count": 828,
   "metadata": {},
   "outputs": [
    {
     "data": {
      "image/png": "[encoded data removed]",
      "text/plain": [
       "<Figure size 432x288 with 1 Axes>"
      ]
     },
     "metadata": {},
     "output_type": "display_data"
    }
   ],
   "source": [
    "X_train_mvt1['N20'].plot.hist(bins = 20);"
   ]
  },
  {
   "cell_type": "code",
   "execution_count": 829,
   "metadata": {},
   "outputs": [
    {
     "data": {
      "text/plain": [
       "True"
      ]
     },
     "execution_count": 829,
     "metadata": {},
     "output_type": "execute_result"
    }
   ],
   "source": [
    "N20_median = X_train_mvt1['N20'].median(axis=0)\n",
    "\n",
    "X_train_mvt1['N20'].replace(np.nan, N20_median, inplace=True)\n",
    "\n",
    "X_train_mvt1['N20'].describe()['count'] == nrows"
   ]
  },
  {
   "cell_type": "code",
   "execution_count": 830,
   "metadata": {},
   "outputs": [
    {
     "name": "stdout",
     "output_type": "stream",
     "text": [
      "46.5\n"
     ]
    },
    {
     "data": {
      "image/png": "[encoded data removed]",
      "text/plain": [
       "<Figure size 432x288 with 1 Axes>"
      ]
     },
     "metadata": {},
     "output_type": "display_data"
    }
   ],
   "source": [
    "IQR = X_train_mvt1['N20'].quantile(0.75) - X_train_mvt1['N20'].quantile(0.25)\n",
    "\n",
    "upper_limit = X_train_mvt1['N20'].quantile(0.75) + 1.5*IQR\n",
    "\n",
    "print (upper_limit)\n",
    "\n",
    "X_train_mvt1.boxplot(column='N20');"
   ]
  },
  {
   "cell_type": "code",
   "execution_count": 831,
   "metadata": {},
   "outputs": [
    {
     "name": "stdout",
     "output_type": "stream",
     "text": [
      "0    0.712424\n",
      "1    0.287576\n",
      "Name: Dependent_Variable, dtype: float64\n"
     ]
    },
    {
     "data": {
      "image/png": "[encoded data removed]",
      "text/plain": [
       "<Figure size 432x288 with 1 Axes>"
      ]
     },
     "metadata": {},
     "output_type": "display_data"
    }
   ],
   "source": [
    "N20_outliers = X_train_mvt1[X_train_mvt1['N20'] > upper_limit]\n",
    "\n",
    "print (N20_outliers['Dependent_Variable'].value_counts(normalize=True))\n",
    "\n",
    "\n",
    "sns.boxplot(x='Dependent_Variable', y='N20', data=N20_outliers);"
   ]
  },
  {
   "cell_type": "markdown",
   "metadata": {},
   "source": [
    "The outliers seem to affect the dist of the target.So we do not impute them"
   ]
  },
  {
   "cell_type": "code",
   "execution_count": 832,
   "metadata": {},
   "outputs": [
    {
     "name": "stdout",
     "output_type": "stream",
     "text": [
      "98 float64\n"
     ]
    }
   ],
   "source": [
    "print(len(X_train_mvt1['N21'].unique()), X_train_mvt1['N21'].dtype)"
   ]
  },
  {
   "cell_type": "code",
   "execution_count": 833,
   "metadata": {},
   "outputs": [
    {
     "data": {
      "image/png": "[encoded data removed]",
      "text/plain": [
       "<Figure size 432x288 with 1 Axes>"
      ]
     },
     "metadata": {},
     "output_type": "display_data"
    }
   ],
   "source": [
    "X_train_mvt1['N21'].plot.hist(bins = 20);"
   ]
  },
  {
   "cell_type": "code",
   "execution_count": 834,
   "metadata": {},
   "outputs": [
    {
     "data": {
      "text/plain": [
       "True"
      ]
     },
     "execution_count": 834,
     "metadata": {},
     "output_type": "execute_result"
    }
   ],
   "source": [
    "N21_median = X_train_mvt1['N21'].median(axis=0)\n",
    "\n",
    "X_train_mvt1['N21'].replace(np.nan, N21_median, inplace=True)\n",
    "\n",
    "X_train_mvt1['N21'].describe()['count'] == nrows"
   ]
  },
  {
   "cell_type": "code",
   "execution_count": 835,
   "metadata": {},
   "outputs": [
    {
     "name": "stdout",
     "output_type": "stream",
     "text": [
      "0.5000000000000001\n"
     ]
    },
    {
     "data": {
      "image/png": "[encoded data removed]",
      "text/plain": [
       "<Figure size 432x288 with 1 Axes>"
      ]
     },
     "metadata": {},
     "output_type": "display_data"
    }
   ],
   "source": [
    "IQR = X_train_mvt1['N21'].quantile(0.75) - X_train_mvt1['N21'].quantile(0.25)\n",
    "\n",
    "lower_limit = X_train_mvt1['N21'].quantile(0.25) - 1.5*IQR\n",
    "\n",
    "print (lower_limit)\n",
    "\n",
    "\n",
    "X_train_mvt1.boxplot(column='N21');"
   ]
  },
  {
   "cell_type": "code",
   "execution_count": 836,
   "metadata": {},
   "outputs": [
    {
     "name": "stdout",
     "output_type": "stream",
     "text": [
      "0    0.522049\n",
      "1    0.477951\n",
      "Name: Dependent_Variable, dtype: float64\n"
     ]
    },
    {
     "data": {
      "image/png": "[encoded data removed]",
      "text/plain": [
       "<Figure size 432x288 with 1 Axes>"
      ]
     },
     "metadata": {},
     "output_type": "display_data"
    }
   ],
   "source": [
    "N21_outliers = X_train_mvt1[X_train_mvt1['N21'] < lower_limit]\n",
    "\n",
    "print (N21_outliers['Dependent_Variable'].value_counts(normalize=True))\n",
    "\n",
    "\n",
    "sns.boxplot(x='Dependent_Variable', y='N21', data=N21_outliers);"
   ]
  },
  {
   "cell_type": "markdown",
   "metadata": {},
   "source": [
    "The outliers seem to affect the dist of the target.So we do not impute them"
   ]
  },
  {
   "cell_type": "code",
   "execution_count": 837,
   "metadata": {},
   "outputs": [
    {
     "name": "stdout",
     "output_type": "stream",
     "text": [
      "18 float64\n"
     ]
    }
   ],
   "source": [
    "print(len(X_train_mvt1['N22'].unique()), X_train_mvt1['N22'].dtype)"
   ]
  },
  {
   "cell_type": "code",
   "execution_count": 838,
   "metadata": {},
   "outputs": [
    {
     "data": {
      "image/png": "[encoded data removed]",
      "text/plain": [
       "<Figure size 432x288 with 1 Axes>"
      ]
     },
     "metadata": {},
     "output_type": "display_data"
    }
   ],
   "source": [
    "X_train_mvt1['N22'].plot.hist(bins = 20);"
   ]
  },
  {
   "cell_type": "code",
   "execution_count": 839,
   "metadata": {},
   "outputs": [
    {
     "data": {
      "text/plain": [
       "0.0     0.486253\n",
       "1.0     0.289231\n",
       "2.0     0.131430\n",
       "3.0     0.052741\n",
       "4.0     0.022859\n",
       "5.0     0.009235\n",
       "6.0     0.004495\n",
       "7.0     0.001791\n",
       "8.0     0.000808\n",
       "9.0     0.000421\n",
       "11.0    0.000211\n",
       "10.0    0.000211\n",
       "12.0    0.000140\n",
       "13.0    0.000070\n",
       "14.0    0.000035\n",
       "20.0    0.000035\n",
       "15.0    0.000035\n",
       "Name: N22, dtype: float64"
      ]
     },
     "execution_count": 839,
     "metadata": {},
     "output_type": "execute_result"
    }
   ],
   "source": [
    "X_train_mvt1['N22'].value_counts(normalize=True)"
   ]
  },
  {
   "cell_type": "markdown",
   "metadata": {},
   "source": [
    "Only 18 distinct values, so we one hot encode"
   ]
  },
  {
   "cell_type": "code",
   "execution_count": 840,
   "metadata": {},
   "outputs": [
    {
     "name": "stdout",
     "output_type": "stream",
     "text": [
      "Index(['Unique_ID', 'C2', 'C3', 'C4', 'C6', 'C8', 'N1', 'N2', 'N3', 'N4',\n",
      "       ...\n",
      "       'N22_7.0', 'N22_8.0', 'N22_9.0', 'N22_10.0', 'N22_11.0', 'N22_12.0',\n",
      "       'N22_13.0', 'N22_14.0', 'N22_15.0', 'N22_20.0'],\n",
      "      dtype='object', length=107)\n"
     ]
    }
   ],
   "source": [
    "X_train_mvt1['N22'] = X_train_mvt1['N22'].astype('object')\n",
    "\n",
    "X_train_mvt1 = pd.get_dummies(data=X_train_mvt1, columns=['N22'])\n",
    "\n",
    "print (X_train_mvt1.columns)"
   ]
  },
  {
   "cell_type": "code",
   "execution_count": 841,
   "metadata": {},
   "outputs": [],
   "source": [
    "# N22_median = X_train_mvt1['N22'].median(axis=0)\n",
    "\n",
    "# X_train_mvt1['N22'].replace(np.nan, N22_median, inplace=True)\n",
    "\n",
    "# X_train_mvt1['N22'].describe()['count'] == nrows"
   ]
  },
  {
   "cell_type": "code",
   "execution_count": 842,
   "metadata": {},
   "outputs": [],
   "source": [
    "# IQR = X_train_mvt1['N22'].quantile(0.75) - X_train_mvt1['N22'].quantile(0.25)\n",
    "\n",
    "# upper_limit = X_train_mvt1['N22'].quantile(0.75) + 1.5*IQR\n",
    "\n",
    "# print (upper_limit)\n",
    "\n",
    "# X_train_mvt1.boxplot(column='N22');"
   ]
  },
  {
   "cell_type": "code",
   "execution_count": 843,
   "metadata": {},
   "outputs": [],
   "source": [
    "#N22_outliers = X_train_mvt1[X_train_mvt1['N22'] > upper_limit]\n",
    "\n",
    "#print (N22_outliers['Dependent_Variable'].value_counts(normalize=True))\n",
    "\n",
    "\n",
    "#sns.boxplot(x='Dependent_Variable', y='N22', data=N22_outliers);"
   ]
  },
  {
   "cell_type": "code",
   "execution_count": 844,
   "metadata": {},
   "outputs": [],
   "source": [
    "# replace extreme outliers with the median\n",
    "\n",
    "#X_train_mvt1.loc[X_train_mvt1['N22']>upper_limit, 'N22'] = N22_median\n",
    "\n",
    "#X_train_mvt1.boxplot(column='N22');"
   ]
  },
  {
   "cell_type": "code",
   "execution_count": 845,
   "metadata": {},
   "outputs": [
    {
     "name": "stdout",
     "output_type": "stream",
     "text": [
      "778 float64\n"
     ]
    }
   ],
   "source": [
    "print(len(X_train_mvt1['N23'].unique()), X_train_mvt1['N23'].dtype)"
   ]
  },
  {
   "cell_type": "code",
   "execution_count": 846,
   "metadata": {},
   "outputs": [
    {
     "data": {
      "image/png": "[encoded data removed]",
      "text/plain": [
       "<Figure size 432x288 with 1 Axes>"
      ]
     },
     "metadata": {},
     "output_type": "display_data"
    }
   ],
   "source": [
    "X_train_mvt1['N23'].plot.hist(bins = 20);"
   ]
  },
  {
   "cell_type": "code",
   "execution_count": 847,
   "metadata": {
    "scrolled": true
   },
   "outputs": [
    {
     "data": {
      "text/plain": [
       "36.000      0.038902\n",
       "28.000      0.035761\n",
       "34.000      0.035565\n",
       "30.000      0.033078\n",
       "40.000      0.032816\n",
       "26.000      0.032718\n",
       "32.000      0.032424\n",
       "44.000      0.030821\n",
       "24.000      0.030722\n",
       "38.000      0.029577\n",
       "22.000      0.027189\n",
       "42.000      0.026829\n",
       "16.000      0.026011\n",
       "20.000      0.025782\n",
       "48.000      0.024604\n",
       "46.000      0.023721\n",
       "50.000      0.023165\n",
       "18.000      0.022903\n",
       "52.000      0.022314\n",
       "14.000      0.022248\n",
       "54.000      0.022216\n",
       "56.000      0.019925\n",
       "12.000      0.019271\n",
       "60.000      0.019206\n",
       "58.000      0.018780\n",
       "10.000      0.017897\n",
       "62.000      0.017406\n",
       "8.000       0.015901\n",
       "64.000      0.015607\n",
       "66.000      0.014985\n",
       "              ...   \n",
       "316.000     0.000033\n",
       "250.000     0.000033\n",
       "28.708      0.000033\n",
       "43.256      0.000033\n",
       "6.968       0.000033\n",
       "61.404      0.000033\n",
       "80.932      0.000033\n",
       "258.000     0.000033\n",
       "13.728      0.000033\n",
       "4.804       0.000033\n",
       "34.884      0.000033\n",
       "874.000     0.000033\n",
       "10.596      0.000033\n",
       "364.000     0.000033\n",
       "1580.000    0.000033\n",
       "64.200      0.000033\n",
       "7.896       0.000033\n",
       "23.610      0.000033\n",
       "41.688      0.000033\n",
       "25.070      0.000033\n",
       "54.934      0.000033\n",
       "15.642      0.000033\n",
       "31.410      0.000033\n",
       "440.000     0.000033\n",
       "49.268      0.000033\n",
       "3.218       0.000033\n",
       "28.096      0.000033\n",
       "15.156      0.000033\n",
       "20.310      0.000033\n",
       "54.972      0.000033\n",
       "Name: N23, Length: 777, dtype: float64"
      ]
     },
     "execution_count": 847,
     "metadata": {},
     "output_type": "execute_result"
    }
   ],
   "source": [
    "X_train_mvt1['N23'].value_counts(normalize=True)"
   ]
  },
  {
   "cell_type": "code",
   "execution_count": 848,
   "metadata": {},
   "outputs": [
    {
     "data": {
      "text/plain": [
       "True"
      ]
     },
     "execution_count": 848,
     "metadata": {},
     "output_type": "execute_result"
    }
   ],
   "source": [
    "N23_median = X_train_mvt1['N23'].median(axis=0)\n",
    "\n",
    "X_train_mvt1['N23'].replace(np.nan, N23_median, inplace=True)\n",
    "\n",
    "X_train_mvt1['N23'].describe()['count'] == nrows"
   ]
  },
  {
   "cell_type": "code",
   "execution_count": 849,
   "metadata": {},
   "outputs": [
    {
     "name": "stdout",
     "output_type": "stream",
     "text": [
      "106.0\n"
     ]
    },
    {
     "data": {
      "image/png": "[encoded data removed]",
      "text/plain": [
       "<Figure size 432x288 with 1 Axes>"
      ]
     },
     "metadata": {},
     "output_type": "display_data"
    }
   ],
   "source": [
    "IQR = X_train_mvt1['N23'].quantile(0.75) - X_train_mvt1['N23'].quantile(0.25)\n",
    "\n",
    "upper_limit = X_train_mvt1['N23'].quantile(0.75) + 1.5*IQR\n",
    "\n",
    "print (upper_limit)\n",
    "\n",
    "X_train_mvt1.boxplot(column='N23');"
   ]
  },
  {
   "cell_type": "code",
   "execution_count": 850,
   "metadata": {},
   "outputs": [
    {
     "name": "stdout",
     "output_type": "stream",
     "text": [
      "0    0.549122\n",
      "1    0.450878\n",
      "Name: Dependent_Variable, dtype: float64\n"
     ]
    },
    {
     "data": {
      "image/png": "[encoded data removed]",
      "text/plain": [
       "<Figure size 432x288 with 1 Axes>"
      ]
     },
     "metadata": {},
     "output_type": "display_data"
    }
   ],
   "source": [
    "N23_outliers = X_train_mvt1[X_train_mvt1['N23'] > upper_limit]\n",
    "\n",
    "print (N23_outliers['Dependent_Variable'].value_counts(normalize=True))\n",
    "\n",
    "\n",
    "sns.boxplot(x='Dependent_Variable', y='N23', data=N23_outliers);"
   ]
  },
  {
   "cell_type": "code",
   "execution_count": 851,
   "metadata": {},
   "outputs": [
    {
     "data": {
      "image/png": "[encoded data removed]",
      "text/plain": [
       "<Figure size 432x288 with 1 Axes>"
      ]
     },
     "metadata": {},
     "output_type": "display_data"
    }
   ],
   "source": [
    "# replace extreme outliers with the median\n",
    "\n",
    "X_train_mvt1.loc[X_train_mvt1['N23']>upper_limit, 'N23'] = N23_median\n",
    "\n",
    "X_train_mvt1.boxplot(column='N23');"
   ]
  },
  {
   "cell_type": "code",
   "execution_count": 852,
   "metadata": {},
   "outputs": [
    {
     "name": "stdout",
     "output_type": "stream",
     "text": [
      "{'C2': 0, 'C3': 0, 'C4': 0, 'C6': 0, 'C8': 0, 'N1': 0, 'N2': 0, 'N3': 0, 'N4': 0, 'N5': 0, 'N7': 0, 'N8': 0, 'N9': 0, 'N10': 0, 'N10.1': 0, 'N11': 0, 'N12': 0, 'N14': 0, 'N17': 0, 'N18': 0, 'N19': 0, 'N20': 0, 'N21': 0, 'N23': 0, 'N24': 0, 'N25': 0, 'N26': 0, 'N27': 0, 'N28': 0, 'N29': 0, 'N30': 0, 'N31': 0, 'N32': 0, 'N33': 0, 'N34': 0, 'N35': 427, 'Dependent_Variable': 0, 'N25_missing': 0, 'N26_missing': 0, 'N27_missing': 0, 'N28_missing': 0, 'N29_missing': 0, 'N30_missing': 0, 'N31_missing': 0, 'N32_missing': 0, 'C1_1': 0, 'C1_2': 0, 'C1_3': 0, 'C5_0': 0, 'C5_1': 0, 'C5_2': 0, 'C5_3': 0, 'C5_4': 0, 'C5_5': 0, 'C5_6': 0, 'C5_7': 0, 'C7_0': 0, 'C7_1': 0, 'C7_2': 0, 'C7_3': 0, 'C7_4': 0, 'C7_5': 0, 'C7_6': 0, 'C7_7': 0, 'N15_0.0': 0, 'N15_1.0': 0, 'N15_2.0': 0, 'N15_3.0': 0, 'N15_4.0': 0, 'N15_5.0': 0, 'N15_6.0': 0, 'N15_7.0': 0, 'N15_8.0': 0, 'N15_9.0': 0, 'N15_10.0': 0, 'N15_11.0': 0, 'N15_12.0': 0, 'N15_15.0': 0, 'N15_16.0': 0, 'N15_17.0': 0, 'N15_21.0': 0, 'N15_22.0': 0, 'N15_30.0': 0, 'N16_0.0': 0, 'N16_1.0': 0, 'N16_2.0': 0, 'N16_3.0': 0, 'N16_4.0': 0, 'N16_7.0': 0, 'N22_0.0': 0, 'N22_1.0': 0, 'N22_2.0': 0, 'N22_3.0': 0, 'N22_4.0': 0, 'N22_5.0': 0, 'N22_6.0': 0, 'N22_7.0': 0, 'N22_8.0': 0, 'N22_9.0': 0, 'N22_10.0': 0, 'N22_11.0': 0, 'N22_12.0': 0, 'N22_13.0': 0, 'N22_14.0': 0, 'N22_15.0': 0, 'N22_20.0': 0}\n"
     ]
    }
   ],
   "source": [
    "print (make_missing_value_dict(X_train_mvt1))"
   ]
  },
  {
   "cell_type": "code",
   "execution_count": 853,
   "metadata": {},
   "outputs": [
    {
     "name": "stdout",
     "output_type": "stream",
     "text": [
      "5722 float64\n"
     ]
    }
   ],
   "source": [
    "print(len(X_train_mvt1['N24'].unique()), X_train_mvt1['N24'].dtype)"
   ]
  },
  {
   "cell_type": "code",
   "execution_count": 854,
   "metadata": {
    "scrolled": true
   },
   "outputs": [
    {
     "data": {
      "image/png": "[encoded data removed]",
      "text/plain": [
       "<Figure size 432x288 with 1 Axes>"
      ]
     },
     "metadata": {},
     "output_type": "display_data"
    }
   ],
   "source": [
    "X_train_mvt1['N24'].plot.hist(bins = 20);"
   ]
  },
  {
   "cell_type": "code",
   "execution_count": 855,
   "metadata": {},
   "outputs": [
    {
     "name": "stdout",
     "output_type": "stream",
     "text": [
      "11375.0000005\n"
     ]
    },
    {
     "data": {
      "image/png": "[encoded data removed]",
      "text/plain": [
       "<Figure size 432x288 with 1 Axes>"
      ]
     },
     "metadata": {},
     "output_type": "display_data"
    }
   ],
   "source": [
    "IQR = X_train_mvt1['N24'].quantile(0.75) - X_train_mvt1['N24'].quantile(0.25)\n",
    "\n",
    "upper_limit = X_train_mvt1['N24'].quantile(0.75) + 1.5*IQR\n",
    "\n",
    "print (upper_limit)\n",
    "\n",
    "X_train_mvt1.boxplot(column='N24');"
   ]
  },
  {
   "cell_type": "code",
   "execution_count": 856,
   "metadata": {},
   "outputs": [
    {
     "name": "stdout",
     "output_type": "stream",
     "text": [
      "0    0.768246\n",
      "1    0.231754\n",
      "Name: Dependent_Variable, dtype: float64\n"
     ]
    },
    {
     "data": {
      "image/png": "[encoded data removed]",
      "text/plain": [
       "<Figure size 432x288 with 1 Axes>"
      ]
     },
     "metadata": {},
     "output_type": "display_data"
    }
   ],
   "source": [
    "N24_outliers = X_train_mvt1[X_train_mvt1['N24'] > upper_limit]\n",
    "\n",
    "print (N24_outliers['Dependent_Variable'].value_counts(normalize=True))\n",
    "\n",
    "\n",
    "sns.boxplot(x='Dependent_Variable', y='N24', data=N24_outliers);"
   ]
  },
  {
   "cell_type": "code",
   "execution_count": 857,
   "metadata": {},
   "outputs": [
    {
     "name": "stdout",
     "output_type": "stream",
     "text": [
      "{'C2': 0, 'C3': 0, 'C4': 0, 'C6': 0, 'C8': 0, 'N1': 0, 'N2': 0, 'N3': 0, 'N4': 0, 'N5': 0, 'N7': 0, 'N8': 0, 'N9': 0, 'N10': 0, 'N10.1': 0, 'N11': 0, 'N12': 0, 'N14': 0, 'N17': 0, 'N18': 0, 'N19': 0, 'N20': 0, 'N21': 0, 'N23': 0, 'N24': 0, 'N25': 0, 'N26': 0, 'N27': 0, 'N28': 0, 'N29': 0, 'N30': 0, 'N31': 0, 'N32': 0, 'N33': 0, 'N34': 0, 'N35': 427, 'Dependent_Variable': 0, 'N25_missing': 0, 'N26_missing': 0, 'N27_missing': 0, 'N28_missing': 0, 'N29_missing': 0, 'N30_missing': 0, 'N31_missing': 0, 'N32_missing': 0, 'C1_1': 0, 'C1_2': 0, 'C1_3': 0, 'C5_0': 0, 'C5_1': 0, 'C5_2': 0, 'C5_3': 0, 'C5_4': 0, 'C5_5': 0, 'C5_6': 0, 'C5_7': 0, 'C7_0': 0, 'C7_1': 0, 'C7_2': 0, 'C7_3': 0, 'C7_4': 0, 'C7_5': 0, 'C7_6': 0, 'C7_7': 0, 'N15_0.0': 0, 'N15_1.0': 0, 'N15_2.0': 0, 'N15_3.0': 0, 'N15_4.0': 0, 'N15_5.0': 0, 'N15_6.0': 0, 'N15_7.0': 0, 'N15_8.0': 0, 'N15_9.0': 0, 'N15_10.0': 0, 'N15_11.0': 0, 'N15_12.0': 0, 'N15_15.0': 0, 'N15_16.0': 0, 'N15_17.0': 0, 'N15_21.0': 0, 'N15_22.0': 0, 'N15_30.0': 0, 'N16_0.0': 0, 'N16_1.0': 0, 'N16_2.0': 0, 'N16_3.0': 0, 'N16_4.0': 0, 'N16_7.0': 0, 'N22_0.0': 0, 'N22_1.0': 0, 'N22_2.0': 0, 'N22_3.0': 0, 'N22_4.0': 0, 'N22_5.0': 0, 'N22_6.0': 0, 'N22_7.0': 0, 'N22_8.0': 0, 'N22_9.0': 0, 'N22_10.0': 0, 'N22_11.0': 0, 'N22_12.0': 0, 'N22_13.0': 0, 'N22_14.0': 0, 'N22_15.0': 0, 'N22_20.0': 0}\n"
     ]
    }
   ],
   "source": [
    "print (make_missing_value_dict(X_train_mvt1))"
   ]
  },
  {
   "cell_type": "code",
   "execution_count": 858,
   "metadata": {},
   "outputs": [
    {
     "name": "stdout",
     "output_type": "stream",
     "text": [
      "1135 float64\n"
     ]
    }
   ],
   "source": [
    "print(len(X_train_mvt1['N33'].unique()), X_train_mvt1['N33'].dtype)"
   ]
  },
  {
   "cell_type": "code",
   "execution_count": 859,
   "metadata": {},
   "outputs": [
    {
     "data": {
      "image/png": "[encoded data removed]",
      "text/plain": [
       "<Figure size 432x288 with 1 Axes>"
      ]
     },
     "metadata": {},
     "output_type": "display_data"
    }
   ],
   "source": [
    "X_train_mvt1['N33'].plot.hist(bins = 20);"
   ]
  },
  {
   "cell_type": "code",
   "execution_count": 860,
   "metadata": {},
   "outputs": [
    {
     "name": "stdout",
     "output_type": "stream",
     "text": [
      "13390 float64\n"
     ]
    }
   ],
   "source": [
    "print(len(X_train_mvt1['N34'].unique()), X_train_mvt1['N34'].dtype)"
   ]
  },
  {
   "cell_type": "code",
   "execution_count": 861,
   "metadata": {},
   "outputs": [
    {
     "data": {
      "image/png": "[encoded data removed]",
      "text/plain": [
       "<Figure size 432x288 with 1 Axes>"
      ]
     },
     "metadata": {},
     "output_type": "display_data"
    }
   ],
   "source": [
    "X_train_mvt1['N34'].plot.hist(bins = 20);"
   ]
  },
  {
   "cell_type": "code",
   "execution_count": 862,
   "metadata": {},
   "outputs": [
    {
     "name": "stdout",
     "output_type": "stream",
     "text": [
      "604.25875\n"
     ]
    },
    {
     "data": {
      "image/png": "[encoded data removed]",
      "text/plain": [
       "<Figure size 432x288 with 1 Axes>"
      ]
     },
     "metadata": {},
     "output_type": "display_data"
    }
   ],
   "source": [
    "IQR = X_train_mvt1['N34'].quantile(0.75) - X_train_mvt1['N34'].quantile(0.25)\n",
    "\n",
    "upper_limit = X_train_mvt1['N34'].quantile(0.75) + 1.5*IQR\n",
    "\n",
    "print (upper_limit)\n",
    "\n",
    "X_train_mvt1.boxplot(column='N34');"
   ]
  },
  {
   "cell_type": "code",
   "execution_count": 863,
   "metadata": {},
   "outputs": [
    {
     "name": "stdout",
     "output_type": "stream",
     "text": [
      "0    0.613052\n",
      "1    0.386948\n",
      "Name: Dependent_Variable, dtype: float64\n"
     ]
    },
    {
     "data": {
      "image/png": "[encoded data removed]",
      "text/plain": [
       "<Figure size 432x288 with 1 Axes>"
      ]
     },
     "metadata": {},
     "output_type": "display_data"
    }
   ],
   "source": [
    "N34_outliers = X_train_mvt1[X_train_mvt1['N34'] > upper_limit]\n",
    "\n",
    "print (N34_outliers['Dependent_Variable'].value_counts(normalize=True))\n",
    "\n",
    "\n",
    "sns.boxplot(x='Dependent_Variable', y='N34', data=N34_outliers);"
   ]
  },
  {
   "cell_type": "code",
   "execution_count": 864,
   "metadata": {
    "scrolled": false
   },
   "outputs": [
    {
     "name": "stdout",
     "output_type": "stream",
     "text": [
      "61 float64\n"
     ]
    }
   ],
   "source": [
    "print(len(X_train_mvt1['N35'].unique()), X_train_mvt1['N35'].dtype)"
   ]
  },
  {
   "cell_type": "code",
   "execution_count": 865,
   "metadata": {},
   "outputs": [
    {
     "data": {
      "image/png": "[encoded data removed]",
      "text/plain": [
       "<Figure size 432x288 with 1 Axes>"
      ]
     },
     "metadata": {},
     "output_type": "display_data"
    }
   ],
   "source": [
    "X_train_mvt1['N35'].plot.hist(bins = 20);"
   ]
  },
  {
   "cell_type": "code",
   "execution_count": 866,
   "metadata": {},
   "outputs": [
    {
     "data": {
      "text/plain": [
       "True"
      ]
     },
     "execution_count": 866,
     "metadata": {},
     "output_type": "execute_result"
    }
   ],
   "source": [
    "N35_median = X_train_mvt1['N35'].median(axis=0)\n",
    "\n",
    "X_train_mvt1['N35'].replace(np.nan, N35_median, inplace=True)\n",
    "\n",
    "X_train_mvt1['N35'].describe()['count'] == nrows"
   ]
  },
  {
   "cell_type": "code",
   "execution_count": 867,
   "metadata": {},
   "outputs": [
    {
     "name": "stdout",
     "output_type": "stream",
     "text": [
      "37.5\n"
     ]
    },
    {
     "data": {
      "image/png": "[encoded data removed]",
      "text/plain": [
       "<Figure size 432x288 with 1 Axes>"
      ]
     },
     "metadata": {},
     "output_type": "display_data"
    }
   ],
   "source": [
    "IQR = X_train_mvt1['N35'].quantile(0.75) - X_train_mvt1['N35'].quantile(0.25)\n",
    "\n",
    "upper_limit = X_train_mvt1['N35'].quantile(0.75) + 1.5*IQR\n",
    "\n",
    "print (upper_limit)\n",
    "\n",
    "X_train_mvt1.boxplot(column='N35');"
   ]
  },
  {
   "cell_type": "code",
   "execution_count": 868,
   "metadata": {},
   "outputs": [
    {
     "name": "stdout",
     "output_type": "stream",
     "text": [
      "0    0.657382\n",
      "1    0.342618\n",
      "Name: Dependent_Variable, dtype: float64\n"
     ]
    },
    {
     "data": {
      "image/png": "[encoded data removed]",
      "text/plain": [
       "<Figure size 432x288 with 1 Axes>"
      ]
     },
     "metadata": {},
     "output_type": "display_data"
    }
   ],
   "source": [
    "N35_outliers = X_train_mvt1[X_train_mvt1['N35'] > upper_limit]\n",
    "\n",
    "print (N35_outliers['Dependent_Variable'].value_counts(normalize=True))\n",
    "\n",
    "\n",
    "sns.boxplot(x='Dependent_Variable', y='N35', data=N35_outliers);"
   ]
  },
  {
   "cell_type": "code",
   "execution_count": 869,
   "metadata": {},
   "outputs": [
    {
     "data": {
      "image/png": "[encoded data removed]",
      "text/plain": [
       "<Figure size 432x288 with 1 Axes>"
      ]
     },
     "metadata": {},
     "output_type": "display_data"
    }
   ],
   "source": [
    "# replace extreme outliers with the median\n",
    "\n",
    "X_train_mvt1.loc[X_train_mvt1['N35']>upper_limit, 'N35'] = N35_median\n",
    "\n",
    "X_train_mvt1.boxplot(column='N35');"
   ]
  },
  {
   "cell_type": "code",
   "execution_count": 870,
   "metadata": {},
   "outputs": [
    {
     "name": "stdout",
     "output_type": "stream",
     "text": [
      "dict_values([0, 0, 0, 0, 0, 0, 0, 0, 0, 0, 0, 0, 0, 0, 0, 0, 0, 0, 0, 0, 0, 0, 0, 0, 0, 0, 0, 0, 0, 0, 0, 0, 0, 0, 0, 0, 0, 0, 0, 0, 0, 0, 0, 0, 0, 0, 0, 0, 0, 0, 0, 0, 0, 0, 0, 0, 0, 0, 0, 0, 0, 0, 0, 0, 0, 0, 0, 0, 0, 0, 0, 0, 0, 0, 0, 0, 0, 0, 0, 0, 0, 0, 0, 0, 0, 0, 0, 0, 0, 0, 0, 0, 0, 0, 0, 0, 0, 0, 0, 0, 0, 0, 0, 0, 0, 0])\n"
     ]
    }
   ],
   "source": [
    "print (make_missing_value_dict(X_train_mvt1).values())"
   ]
  },
  {
   "cell_type": "markdown",
   "metadata": {},
   "source": [
    "#### Strategy 1 done"
   ]
  },
  {
   "cell_type": "code",
   "execution_count": 871,
   "metadata": {},
   "outputs": [
    {
     "data": {
      "text/html": [
       "<div>\n",
       "<style scoped>\n",
       "    .dataframe tbody tr th:only-of-type {\n",
       "        vertical-align: middle;\n",
       "    }\n",
       "\n",
       "    .dataframe tbody tr th {\n",
       "        vertical-align: top;\n",
       "    }\n",
       "\n",
       "    .dataframe thead th {\n",
       "        text-align: right;\n",
       "    }\n",
       "</style>\n",
       "<table border=\"1\" class=\"dataframe\">\n",
       "  <thead>\n",
       "    <tr style=\"text-align: right;\">\n",
       "      <th></th>\n",
       "      <th>C2</th>\n",
       "      <th>C3</th>\n",
       "      <th>C4</th>\n",
       "      <th>N1</th>\n",
       "      <th>N2</th>\n",
       "      <th>N3</th>\n",
       "      <th>N4</th>\n",
       "      <th>N5</th>\n",
       "      <th>N7</th>\n",
       "      <th>N8</th>\n",
       "      <th>...</th>\n",
       "      <th>N22_7.0</th>\n",
       "      <th>N22_8.0</th>\n",
       "      <th>N22_9.0</th>\n",
       "      <th>N22_10.0</th>\n",
       "      <th>N22_11.0</th>\n",
       "      <th>N22_12.0</th>\n",
       "      <th>N22_13.0</th>\n",
       "      <th>N22_14.0</th>\n",
       "      <th>N22_15.0</th>\n",
       "      <th>N22_20.0</th>\n",
       "    </tr>\n",
       "  </thead>\n",
       "  <tbody>\n",
       "    <tr>\n",
       "      <th>count</th>\n",
       "      <td>33050.000000</td>\n",
       "      <td>33050.000000</td>\n",
       "      <td>33050.000000</td>\n",
       "      <td>33050.00000</td>\n",
       "      <td>33050.000000</td>\n",
       "      <td>33050.000000</td>\n",
       "      <td>33050.00000</td>\n",
       "      <td>33050.000000</td>\n",
       "      <td>33050.000000</td>\n",
       "      <td>33050.000000</td>\n",
       "      <td>...</td>\n",
       "      <td>33050.000000</td>\n",
       "      <td>33050.000000</td>\n",
       "      <td>33050.000000</td>\n",
       "      <td>33050.000000</td>\n",
       "      <td>33050.000000</td>\n",
       "      <td>33050.000000</td>\n",
       "      <td>33050.000000</td>\n",
       "      <td>33050.000000</td>\n",
       "      <td>33050.000000</td>\n",
       "      <td>33050.000000</td>\n",
       "    </tr>\n",
       "    <tr>\n",
       "      <th>mean</th>\n",
       "      <td>2.403873</td>\n",
       "      <td>12.635250</td>\n",
       "      <td>14.437398</td>\n",
       "      <td>19.97653</td>\n",
       "      <td>59.066263</td>\n",
       "      <td>3.359809</td>\n",
       "      <td>9.00593</td>\n",
       "      <td>7.715825</td>\n",
       "      <td>25.201120</td>\n",
       "      <td>6.082723</td>\n",
       "      <td>...</td>\n",
       "      <td>0.001543</td>\n",
       "      <td>0.000696</td>\n",
       "      <td>0.000363</td>\n",
       "      <td>0.000182</td>\n",
       "      <td>0.000182</td>\n",
       "      <td>0.000121</td>\n",
       "      <td>0.000061</td>\n",
       "      <td>0.000030</td>\n",
       "      <td>0.000030</td>\n",
       "      <td>0.000030</td>\n",
       "    </tr>\n",
       "    <tr>\n",
       "      <th>std</th>\n",
       "      <td>3.399024</td>\n",
       "      <td>11.698834</td>\n",
       "      <td>15.527474</td>\n",
       "      <td>8.11087</td>\n",
       "      <td>46.258196</td>\n",
       "      <td>0.408786</td>\n",
       "      <td>4.28544</td>\n",
       "      <td>3.593775</td>\n",
       "      <td>14.184573</td>\n",
       "      <td>4.535870</td>\n",
       "      <td>...</td>\n",
       "      <td>0.039253</td>\n",
       "      <td>0.026371</td>\n",
       "      <td>0.019052</td>\n",
       "      <td>0.013473</td>\n",
       "      <td>0.013473</td>\n",
       "      <td>0.011001</td>\n",
       "      <td>0.007779</td>\n",
       "      <td>0.005501</td>\n",
       "      <td>0.005501</td>\n",
       "      <td>0.005501</td>\n",
       "    </tr>\n",
       "    <tr>\n",
       "      <th>min</th>\n",
       "      <td>0.000000</td>\n",
       "      <td>0.000000</td>\n",
       "      <td>0.000000</td>\n",
       "      <td>0.00000</td>\n",
       "      <td>0.000000</td>\n",
       "      <td>0.000000</td>\n",
       "      <td>0.00000</td>\n",
       "      <td>0.000000</td>\n",
       "      <td>2.000000</td>\n",
       "      <td>0.000000</td>\n",
       "      <td>...</td>\n",
       "      <td>0.000000</td>\n",
       "      <td>0.000000</td>\n",
       "      <td>0.000000</td>\n",
       "      <td>0.000000</td>\n",
       "      <td>0.000000</td>\n",
       "      <td>0.000000</td>\n",
       "      <td>0.000000</td>\n",
       "      <td>0.000000</td>\n",
       "      <td>0.000000</td>\n",
       "      <td>0.000000</td>\n",
       "    </tr>\n",
       "    <tr>\n",
       "      <th>25%</th>\n",
       "      <td>0.000000</td>\n",
       "      <td>2.000000</td>\n",
       "      <td>1.000000</td>\n",
       "      <td>13.45000</td>\n",
       "      <td>25.000000</td>\n",
       "      <td>3.200000</td>\n",
       "      <td>6.00000</td>\n",
       "      <td>5.000000</td>\n",
       "      <td>15.000000</td>\n",
       "      <td>3.000000</td>\n",
       "      <td>...</td>\n",
       "      <td>0.000000</td>\n",
       "      <td>0.000000</td>\n",
       "      <td>0.000000</td>\n",
       "      <td>0.000000</td>\n",
       "      <td>0.000000</td>\n",
       "      <td>0.000000</td>\n",
       "      <td>0.000000</td>\n",
       "      <td>0.000000</td>\n",
       "      <td>0.000000</td>\n",
       "      <td>0.000000</td>\n",
       "    </tr>\n",
       "    <tr>\n",
       "      <th>50%</th>\n",
       "      <td>1.000000</td>\n",
       "      <td>10.000000</td>\n",
       "      <td>10.000000</td>\n",
       "      <td>19.27500</td>\n",
       "      <td>53.000000</td>\n",
       "      <td>3.400000</td>\n",
       "      <td>9.00000</td>\n",
       "      <td>8.000000</td>\n",
       "      <td>23.000000</td>\n",
       "      <td>5.000000</td>\n",
       "      <td>...</td>\n",
       "      <td>0.000000</td>\n",
       "      <td>0.000000</td>\n",
       "      <td>0.000000</td>\n",
       "      <td>0.000000</td>\n",
       "      <td>0.000000</td>\n",
       "      <td>0.000000</td>\n",
       "      <td>0.000000</td>\n",
       "      <td>0.000000</td>\n",
       "      <td>0.000000</td>\n",
       "      <td>0.000000</td>\n",
       "    </tr>\n",
       "    <tr>\n",
       "      <th>75%</th>\n",
       "      <td>3.000000</td>\n",
       "      <td>20.000000</td>\n",
       "      <td>26.000000</td>\n",
       "      <td>26.90000</td>\n",
       "      <td>76.000000</td>\n",
       "      <td>3.600000</td>\n",
       "      <td>11.00000</td>\n",
       "      <td>10.000000</td>\n",
       "      <td>33.000000</td>\n",
       "      <td>8.000000</td>\n",
       "      <td>...</td>\n",
       "      <td>0.000000</td>\n",
       "      <td>0.000000</td>\n",
       "      <td>0.000000</td>\n",
       "      <td>0.000000</td>\n",
       "      <td>0.000000</td>\n",
       "      <td>0.000000</td>\n",
       "      <td>0.000000</td>\n",
       "      <td>0.000000</td>\n",
       "      <td>0.000000</td>\n",
       "      <td>0.000000</td>\n",
       "    </tr>\n",
       "    <tr>\n",
       "      <th>max</th>\n",
       "      <td>20.000000</td>\n",
       "      <td>47.000000</td>\n",
       "      <td>67.000000</td>\n",
       "      <td>48.00000</td>\n",
       "      <td>210.000000</td>\n",
       "      <td>4.400000</td>\n",
       "      <td>21.00000</td>\n",
       "      <td>17.000000</td>\n",
       "      <td>129.000000</td>\n",
       "      <td>51.000000</td>\n",
       "      <td>...</td>\n",
       "      <td>1.000000</td>\n",
       "      <td>1.000000</td>\n",
       "      <td>1.000000</td>\n",
       "      <td>1.000000</td>\n",
       "      <td>1.000000</td>\n",
       "      <td>1.000000</td>\n",
       "      <td>1.000000</td>\n",
       "      <td>1.000000</td>\n",
       "      <td>1.000000</td>\n",
       "      <td>1.000000</td>\n",
       "    </tr>\n",
       "  </tbody>\n",
       "</table>\n",
       "<p>8 rows × 96 columns</p>\n",
       "</div>"
      ],
      "text/plain": [
       "                 C2            C3            C4           N1            N2  \\\n",
       "count  33050.000000  33050.000000  33050.000000  33050.00000  33050.000000   \n",
       "mean       2.403873     12.635250     14.437398     19.97653     59.066263   \n",
       "std        3.399024     11.698834     15.527474      8.11087     46.258196   \n",
       "min        0.000000      0.000000      0.000000      0.00000      0.000000   \n",
       "25%        0.000000      2.000000      1.000000     13.45000     25.000000   \n",
       "50%        1.000000     10.000000     10.000000     19.27500     53.000000   \n",
       "75%        3.000000     20.000000     26.000000     26.90000     76.000000   \n",
       "max       20.000000     47.000000     67.000000     48.00000    210.000000   \n",
       "\n",
       "                 N3           N4            N5            N7            N8  \\\n",
       "count  33050.000000  33050.00000  33050.000000  33050.000000  33050.000000   \n",
       "mean       3.359809      9.00593      7.715825     25.201120      6.082723   \n",
       "std        0.408786      4.28544      3.593775     14.184573      4.535870   \n",
       "min        0.000000      0.00000      0.000000      2.000000      0.000000   \n",
       "25%        3.200000      6.00000      5.000000     15.000000      3.000000   \n",
       "50%        3.400000      9.00000      8.000000     23.000000      5.000000   \n",
       "75%        3.600000     11.00000     10.000000     33.000000      8.000000   \n",
       "max        4.400000     21.00000     17.000000    129.000000     51.000000   \n",
       "\n",
       "           ...            N22_7.0       N22_8.0       N22_9.0      N22_10.0  \\\n",
       "count      ...       33050.000000  33050.000000  33050.000000  33050.000000   \n",
       "mean       ...           0.001543      0.000696      0.000363      0.000182   \n",
       "std        ...           0.039253      0.026371      0.019052      0.013473   \n",
       "min        ...           0.000000      0.000000      0.000000      0.000000   \n",
       "25%        ...           0.000000      0.000000      0.000000      0.000000   \n",
       "50%        ...           0.000000      0.000000      0.000000      0.000000   \n",
       "75%        ...           0.000000      0.000000      0.000000      0.000000   \n",
       "max        ...           1.000000      1.000000      1.000000      1.000000   \n",
       "\n",
       "           N22_11.0      N22_12.0      N22_13.0      N22_14.0      N22_15.0  \\\n",
       "count  33050.000000  33050.000000  33050.000000  33050.000000  33050.000000   \n",
       "mean       0.000182      0.000121      0.000061      0.000030      0.000030   \n",
       "std        0.013473      0.011001      0.007779      0.005501      0.005501   \n",
       "min        0.000000      0.000000      0.000000      0.000000      0.000000   \n",
       "25%        0.000000      0.000000      0.000000      0.000000      0.000000   \n",
       "50%        0.000000      0.000000      0.000000      0.000000      0.000000   \n",
       "75%        0.000000      0.000000      0.000000      0.000000      0.000000   \n",
       "max        1.000000      1.000000      1.000000      1.000000      1.000000   \n",
       "\n",
       "           N22_20.0  \n",
       "count  33050.000000  \n",
       "mean       0.000030  \n",
       "std        0.005501  \n",
       "min        0.000000  \n",
       "25%        0.000000  \n",
       "50%        0.000000  \n",
       "75%        0.000000  \n",
       "max        1.000000  \n",
       "\n",
       "[8 rows x 96 columns]"
      ]
     },
     "execution_count": 871,
     "metadata": {},
     "output_type": "execute_result"
    }
   ],
   "source": [
    "X_train_mvt1.describe()"
   ]
  },
  {
   "cell_type": "code",
   "execution_count": 872,
   "metadata": {},
   "outputs": [
    {
     "data": {
      "text/html": [
       "<div>\n",
       "<style scoped>\n",
       "    .dataframe tbody tr th:only-of-type {\n",
       "        vertical-align: middle;\n",
       "    }\n",
       "\n",
       "    .dataframe tbody tr th {\n",
       "        vertical-align: top;\n",
       "    }\n",
       "\n",
       "    .dataframe thead th {\n",
       "        text-align: right;\n",
       "    }\n",
       "</style>\n",
       "<table border=\"1\" class=\"dataframe\">\n",
       "  <thead>\n",
       "    <tr style=\"text-align: right;\">\n",
       "      <th></th>\n",
       "      <th>Unique_ID</th>\n",
       "      <th>Dependent_Variable</th>\n",
       "    </tr>\n",
       "  </thead>\n",
       "  <tbody>\n",
       "    <tr>\n",
       "      <th>0</th>\n",
       "      <td>Candidate_5926</td>\n",
       "      <td>1</td>\n",
       "    </tr>\n",
       "    <tr>\n",
       "      <th>1</th>\n",
       "      <td>Candidate_48134</td>\n",
       "      <td>0</td>\n",
       "    </tr>\n",
       "    <tr>\n",
       "      <th>2</th>\n",
       "      <td>Candidate_51717</td>\n",
       "      <td>1</td>\n",
       "    </tr>\n",
       "    <tr>\n",
       "      <th>3</th>\n",
       "      <td>Candidate_26401</td>\n",
       "      <td>0</td>\n",
       "    </tr>\n",
       "    <tr>\n",
       "      <th>4</th>\n",
       "      <td>Candidate_34872</td>\n",
       "      <td>0</td>\n",
       "    </tr>\n",
       "  </tbody>\n",
       "</table>\n",
       "</div>"
      ],
      "text/plain": [
       "         Unique_ID  Dependent_Variable\n",
       "0   Candidate_5926                   1\n",
       "1  Candidate_48134                   0\n",
       "2  Candidate_51717                   1\n",
       "3  Candidate_26401                   0\n",
       "4  Candidate_34872                   0"
      ]
     },
     "execution_count": 872,
     "metadata": {},
     "output_type": "execute_result"
    }
   ],
   "source": [
    "y_train = pd.read_csv('./Training/y_train.csv')\n",
    "\n",
    "y_train.head()"
   ]
  },
  {
   "cell_type": "code",
   "execution_count": 873,
   "metadata": {},
   "outputs": [
    {
     "data": {
      "text/plain": [
       "True"
      ]
     },
     "execution_count": 873,
     "metadata": {},
     "output_type": "execute_result"
    }
   ],
   "source": [
    "# check to see if the IDs are in correct order\n",
    "\n",
    "list(X_train['Unique_ID']) == list(y_train['Unique_ID'])"
   ]
  },
  {
   "cell_type": "code",
   "execution_count": 874,
   "metadata": {},
   "outputs": [
    {
     "data": {
      "text/html": [
       "<div>\n",
       "<style scoped>\n",
       "    .dataframe tbody tr th:only-of-type {\n",
       "        vertical-align: middle;\n",
       "    }\n",
       "\n",
       "    .dataframe tbody tr th {\n",
       "        vertical-align: top;\n",
       "    }\n",
       "\n",
       "    .dataframe thead th {\n",
       "        text-align: right;\n",
       "    }\n",
       "</style>\n",
       "<table border=\"1\" class=\"dataframe\">\n",
       "  <thead>\n",
       "    <tr style=\"text-align: right;\">\n",
       "      <th></th>\n",
       "      <th>Dependent_Variable</th>\n",
       "    </tr>\n",
       "  </thead>\n",
       "  <tbody>\n",
       "    <tr>\n",
       "      <th>count</th>\n",
       "      <td>33050.000000</td>\n",
       "    </tr>\n",
       "    <tr>\n",
       "      <th>mean</th>\n",
       "      <td>0.308805</td>\n",
       "    </tr>\n",
       "    <tr>\n",
       "      <th>std</th>\n",
       "      <td>0.462007</td>\n",
       "    </tr>\n",
       "    <tr>\n",
       "      <th>min</th>\n",
       "      <td>0.000000</td>\n",
       "    </tr>\n",
       "    <tr>\n",
       "      <th>25%</th>\n",
       "      <td>0.000000</td>\n",
       "    </tr>\n",
       "    <tr>\n",
       "      <th>50%</th>\n",
       "      <td>0.000000</td>\n",
       "    </tr>\n",
       "    <tr>\n",
       "      <th>75%</th>\n",
       "      <td>1.000000</td>\n",
       "    </tr>\n",
       "    <tr>\n",
       "      <th>max</th>\n",
       "      <td>1.000000</td>\n",
       "    </tr>\n",
       "  </tbody>\n",
       "</table>\n",
       "</div>"
      ],
      "text/plain": [
       "       Dependent_Variable\n",
       "count        33050.000000\n",
       "mean             0.308805\n",
       "std              0.462007\n",
       "min              0.000000\n",
       "25%              0.000000\n",
       "50%              0.000000\n",
       "75%              1.000000\n",
       "max              1.000000"
      ]
     },
     "execution_count": 874,
     "metadata": {},
     "output_type": "execute_result"
    }
   ],
   "source": [
    "y_train.describe()"
   ]
  },
  {
   "cell_type": "markdown",
   "metadata": {},
   "source": [
    "No missing values in the target variable, so thats good\n",
    "\n",
    "Lets check the distributions"
   ]
  },
  {
   "cell_type": "code",
   "execution_count": 875,
   "metadata": {},
   "outputs": [
    {
     "data": {
      "image/png": "[encoded data removed]",
      "text/plain": [
       "<Figure size 432x288 with 1 Axes>"
      ]
     },
     "metadata": {},
     "output_type": "display_data"
    }
   ],
   "source": [
    "y_train['Dependent_Variable'].plot.hist(bins = 20);"
   ]
  },
  {
   "cell_type": "code",
   "execution_count": 876,
   "metadata": {},
   "outputs": [
    {
     "data": {
      "text/plain": [
       "0    0.691195\n",
       "1    0.308805\n",
       "Name: Dependent_Variable, dtype: float64"
      ]
     },
     "execution_count": 876,
     "metadata": {},
     "output_type": "execute_result"
    }
   ],
   "source": [
    "y_train['Dependent_Variable'].value_counts(normalize=True)"
   ]
  },
  {
   "cell_type": "markdown",
   "metadata": {},
   "source": [
    "The split is 70-30. So it is **imbalanced**"
   ]
  },
  {
   "cell_type": "code",
   "execution_count": 877,
   "metadata": {},
   "outputs": [],
   "source": [
    "# drop 1st col\n",
    "\n",
    "X_train_mvt1.drop(columns=['Unique_ID'], inplace=True)"
   ]
  },
  {
   "cell_type": "markdown",
   "metadata": {},
   "source": [
    "### One Hot Encoding of categorical columns"
   ]
  },
  {
   "cell_type": "code",
   "execution_count": 878,
   "metadata": {},
   "outputs": [],
   "source": [
    "X_train_mvt1['C6'] = X_train_mvt1['C6'].astype('object')\n",
    "\n",
    "X_train_mvt1['C8'] = X_train_mvt1['C8'].astype('object')"
   ]
  },
  {
   "cell_type": "code",
   "execution_count": 879,
   "metadata": {
    "scrolled": true
   },
   "outputs": [
    {
     "data": {
      "text/html": [
       "<div>\n",
       "<style scoped>\n",
       "    .dataframe tbody tr th:only-of-type {\n",
       "        vertical-align: middle;\n",
       "    }\n",
       "\n",
       "    .dataframe tbody tr th {\n",
       "        vertical-align: top;\n",
       "    }\n",
       "\n",
       "    .dataframe thead th {\n",
       "        text-align: right;\n",
       "    }\n",
       "</style>\n",
       "<table border=\"1\" class=\"dataframe\">\n",
       "  <thead>\n",
       "    <tr style=\"text-align: right;\">\n",
       "      <th></th>\n",
       "      <th>C2</th>\n",
       "      <th>C3</th>\n",
       "      <th>C4</th>\n",
       "      <th>C6</th>\n",
       "      <th>C8</th>\n",
       "      <th>N1</th>\n",
       "      <th>N2</th>\n",
       "      <th>N3</th>\n",
       "      <th>N4</th>\n",
       "      <th>N5</th>\n",
       "      <th>...</th>\n",
       "      <th>N22_7.0</th>\n",
       "      <th>N22_8.0</th>\n",
       "      <th>N22_9.0</th>\n",
       "      <th>N22_10.0</th>\n",
       "      <th>N22_11.0</th>\n",
       "      <th>N22_12.0</th>\n",
       "      <th>N22_13.0</th>\n",
       "      <th>N22_14.0</th>\n",
       "      <th>N22_15.0</th>\n",
       "      <th>N22_20.0</th>\n",
       "    </tr>\n",
       "  </thead>\n",
       "  <tbody>\n",
       "    <tr>\n",
       "      <th>0</th>\n",
       "      <td>0</td>\n",
       "      <td>11.0</td>\n",
       "      <td>31</td>\n",
       "      <td>False</td>\n",
       "      <td>True</td>\n",
       "      <td>23.75</td>\n",
       "      <td>53.0</td>\n",
       "      <td>2.5</td>\n",
       "      <td>9.0</td>\n",
       "      <td>8.0</td>\n",
       "      <td>...</td>\n",
       "      <td>0</td>\n",
       "      <td>0</td>\n",
       "      <td>0</td>\n",
       "      <td>0</td>\n",
       "      <td>0</td>\n",
       "      <td>0</td>\n",
       "      <td>0</td>\n",
       "      <td>0</td>\n",
       "      <td>0</td>\n",
       "      <td>0</td>\n",
       "    </tr>\n",
       "    <tr>\n",
       "      <th>1</th>\n",
       "      <td>4</td>\n",
       "      <td>2.0</td>\n",
       "      <td>66</td>\n",
       "      <td>False</td>\n",
       "      <td>True</td>\n",
       "      <td>11.05</td>\n",
       "      <td>22.0</td>\n",
       "      <td>3.7</td>\n",
       "      <td>16.0</td>\n",
       "      <td>12.0</td>\n",
       "      <td>...</td>\n",
       "      <td>0</td>\n",
       "      <td>0</td>\n",
       "      <td>0</td>\n",
       "      <td>0</td>\n",
       "      <td>0</td>\n",
       "      <td>0</td>\n",
       "      <td>0</td>\n",
       "      <td>0</td>\n",
       "      <td>0</td>\n",
       "      <td>0</td>\n",
       "    </tr>\n",
       "    <tr>\n",
       "      <th>2</th>\n",
       "      <td>0</td>\n",
       "      <td>19.0</td>\n",
       "      <td>2</td>\n",
       "      <td>False</td>\n",
       "      <td>True</td>\n",
       "      <td>29.00</td>\n",
       "      <td>53.0</td>\n",
       "      <td>2.4</td>\n",
       "      <td>9.0</td>\n",
       "      <td>8.0</td>\n",
       "      <td>...</td>\n",
       "      <td>0</td>\n",
       "      <td>0</td>\n",
       "      <td>0</td>\n",
       "      <td>0</td>\n",
       "      <td>0</td>\n",
       "      <td>0</td>\n",
       "      <td>0</td>\n",
       "      <td>0</td>\n",
       "      <td>0</td>\n",
       "      <td>0</td>\n",
       "    </tr>\n",
       "    <tr>\n",
       "      <th>3</th>\n",
       "      <td>1</td>\n",
       "      <td>16.0</td>\n",
       "      <td>47</td>\n",
       "      <td>False</td>\n",
       "      <td>True</td>\n",
       "      <td>17.99</td>\n",
       "      <td>1.0</td>\n",
       "      <td>3.5</td>\n",
       "      <td>4.0</td>\n",
       "      <td>4.0</td>\n",
       "      <td>...</td>\n",
       "      <td>0</td>\n",
       "      <td>0</td>\n",
       "      <td>0</td>\n",
       "      <td>0</td>\n",
       "      <td>0</td>\n",
       "      <td>0</td>\n",
       "      <td>0</td>\n",
       "      <td>0</td>\n",
       "      <td>0</td>\n",
       "      <td>0</td>\n",
       "    </tr>\n",
       "    <tr>\n",
       "      <th>4</th>\n",
       "      <td>1</td>\n",
       "      <td>13.0</td>\n",
       "      <td>1</td>\n",
       "      <td>True</td>\n",
       "      <td>True</td>\n",
       "      <td>27.50</td>\n",
       "      <td>206.0</td>\n",
       "      <td>3.8</td>\n",
       "      <td>11.0</td>\n",
       "      <td>11.0</td>\n",
       "      <td>...</td>\n",
       "      <td>0</td>\n",
       "      <td>0</td>\n",
       "      <td>0</td>\n",
       "      <td>0</td>\n",
       "      <td>0</td>\n",
       "      <td>0</td>\n",
       "      <td>0</td>\n",
       "      <td>0</td>\n",
       "      <td>0</td>\n",
       "      <td>0</td>\n",
       "    </tr>\n",
       "  </tbody>\n",
       "</table>\n",
       "<p>5 rows × 106 columns</p>\n",
       "</div>"
      ],
      "text/plain": [
       "   C2    C3  C4     C6    C8     N1     N2   N3    N4    N5    ...     \\\n",
       "0   0  11.0  31  False  True  23.75   53.0  2.5   9.0   8.0    ...      \n",
       "1   4   2.0  66  False  True  11.05   22.0  3.7  16.0  12.0    ...      \n",
       "2   0  19.0   2  False  True  29.00   53.0  2.4   9.0   8.0    ...      \n",
       "3   1  16.0  47  False  True  17.99    1.0  3.5   4.0   4.0    ...      \n",
       "4   1  13.0   1   True  True  27.50  206.0  3.8  11.0  11.0    ...      \n",
       "\n",
       "   N22_7.0  N22_8.0  N22_9.0  N22_10.0  N22_11.0  N22_12.0  N22_13.0  \\\n",
       "0        0        0        0         0         0         0         0   \n",
       "1        0        0        0         0         0         0         0   \n",
       "2        0        0        0         0         0         0         0   \n",
       "3        0        0        0         0         0         0         0   \n",
       "4        0        0        0         0         0         0         0   \n",
       "\n",
       "   N22_14.0  N22_15.0  N22_20.0  \n",
       "0         0         0         0  \n",
       "1         0         0         0  \n",
       "2         0         0         0  \n",
       "3         0         0         0  \n",
       "4         0         0         0  \n",
       "\n",
       "[5 rows x 106 columns]"
      ]
     },
     "execution_count": 879,
     "metadata": {},
     "output_type": "execute_result"
    }
   ],
   "source": [
    "X_train_mvt1.head()"
   ]
  },
  {
   "cell_type": "code",
   "execution_count": 880,
   "metadata": {
    "scrolled": true
   },
   "outputs": [
    {
     "name": "stdout",
     "output_type": "stream",
     "text": [
      "Index(['C2', 'C3', 'C4', 'N1', 'N2', 'N3', 'N4', 'N5', 'N7', 'N8',\n",
      "       ...\n",
      "       'N22_11.0', 'N22_12.0', 'N22_13.0', 'N22_14.0', 'N22_15.0', 'N22_20.0',\n",
      "       'C6_False', 'C6_True', 'C8_False', 'C8_True'],\n",
      "      dtype='object', length=108)\n"
     ]
    }
   ],
   "source": [
    "X_train_mvt1_enc = pd.get_dummies(data=X_train_mvt1, columns=['C6'])\n",
    "\n",
    "X_train_mvt1_enc = pd.get_dummies(data=X_train_mvt1_enc, columns=['C8'])\n",
    "\n",
    "\n",
    "print (X_train_mvt1_enc.columns)"
   ]
  },
  {
   "cell_type": "markdown",
   "metadata": {},
   "source": [
    "### Standardization and Min-max scaling"
   ]
  },
  {
   "cell_type": "code",
   "execution_count": 881,
   "metadata": {},
   "outputs": [
    {
     "name": "stderr",
     "output_type": "stream",
     "text": [
      "/home/shaunak/anaconda3/lib/python3.6/site-packages/sklearn/utils/validation.py:595: DataConversionWarning: Data with input dtype object was converted to float64 by MinMaxScaler.\n",
      "  warnings.warn(msg, DataConversionWarning)\n"
     ]
    },
    {
     "data": {
      "text/plain": [
       "0      0.120194\n",
       "1      0.268835\n",
       "2      0.215484\n",
       "3      0.416178\n",
       "4      0.281268\n",
       "5      0.763593\n",
       "6      0.428854\n",
       "7      0.453872\n",
       "8      0.182686\n",
       "9      0.119269\n",
       "10     0.021727\n",
       "11     0.010743\n",
       "12     0.019339\n",
       "13     0.018636\n",
       "14     0.001966\n",
       "15     0.044993\n",
       "16     0.226755\n",
       "17     0.091465\n",
       "18     0.015433\n",
       "19     0.188773\n",
       "20     0.865884\n",
       "21     0.390234\n",
       "22     0.008165\n",
       "23     0.036274\n",
       "24     0.036274\n",
       "25     0.036274\n",
       "26     0.036274\n",
       "27     0.036274\n",
       "28     0.036274\n",
       "29     0.036274\n",
       "         ...   \n",
       "78     0.000030\n",
       "79     0.000030\n",
       "80     0.000030\n",
       "81     0.843026\n",
       "82     0.015976\n",
       "83     0.001120\n",
       "84     0.000393\n",
       "85     0.000091\n",
       "86     0.000030\n",
       "87     0.419002\n",
       "88     0.249228\n",
       "89     0.113253\n",
       "90     0.045446\n",
       "91     0.019697\n",
       "92     0.007958\n",
       "93     0.003873\n",
       "94     0.001543\n",
       "95     0.000696\n",
       "96     0.000363\n",
       "97     0.000182\n",
       "98     0.000182\n",
       "99     0.000121\n",
       "100    0.000061\n",
       "101    0.000030\n",
       "102    0.000030\n",
       "103    0.000030\n",
       "104    0.532042\n",
       "105    0.467958\n",
       "106    0.076672\n",
       "107    0.923328\n",
       "Length: 108, dtype: float64"
      ]
     },
     "execution_count": 881,
     "metadata": {},
     "output_type": "execute_result"
    }
   ],
   "source": [
    "from sklearn import preprocessing\n",
    "\n",
    "standardScaler = False\n",
    "minMaxScaler = True\n",
    "\n",
    "if standardScaler:\n",
    "    scaler = preprocessing.StandardScaler()\n",
    "else:\n",
    "    scaler = preprocessing.MinMaxScaler()\n",
    "\n",
    "\n",
    "X_train_mvt1_enc_values = X_train_mvt1_enc.values\n",
    "\n",
    "X_train_mvt1_enc_values_scaled = scaler.fit_transform(X_train_mvt1_enc_values)\n",
    "\n",
    "X_train_mvt1_enc_values_scaled = pd.DataFrame(data=X_train_mvt1_enc_values_scaled)\n",
    "\n",
    "X_train_mvt1_enc_values_scaled.mean()\n"
   ]
  },
  {
   "cell_type": "code",
   "execution_count": 882,
   "metadata": {},
   "outputs": [],
   "source": [
    "X_train_mvt1_enc_values_scaled.columns = X_train_mvt1_enc.columns"
   ]
  },
  {
   "cell_type": "markdown",
   "metadata": {},
   "source": [
    "## Premilinary ML model on cleaned data"
   ]
  },
  {
   "cell_type": "code",
   "execution_count": 883,
   "metadata": {
    "scrolled": true
   },
   "outputs": [
    {
     "name": "stdout",
     "output_type": "stream",
     "text": [
      "Index(['Dependent_Variable'], dtype='object')\n"
     ]
    }
   ],
   "source": [
    "y_train.drop(columns=['Unique_ID'], inplace=True)\n",
    "\n",
    "print (y_train.columns)"
   ]
  },
  {
   "cell_type": "code",
   "execution_count": 890,
   "metadata": {
    "scrolled": true
   },
   "outputs": [
    {
     "name": "stdout",
     "output_type": "stream",
     "text": [
      "(27541, 107) (27541, 1) (5509, 107)\n",
      "(27541, 107) (27541, 1) (5509, 107)\n",
      "(27542, 107) (27542, 1) (5508, 107)\n",
      "(27542, 107) (27542, 1) (5508, 107)\n",
      "(27542, 107) (27542, 1) (5508, 107)\n",
      "(27542, 107) (27542, 1) (5508, 107)\n",
      "(23135, 107) (23135, 1) (9915, 107) (9915, 1)\n"
     ]
    }
   ],
   "source": [
    "from sklearn.model_selection import StratifiedKFold\n",
    "\n",
    "selected_df = X_train_mvt1_enc_values_scaled\n",
    "\n",
    "cv = StratifiedKFold(n_splits=6)\n",
    "\n",
    "for train, test in cv.split(X_train_mvt1_enc_values_scaled, y_train):\n",
    "    print (X_train_mvt1_enc_values_scaled.iloc[train].shape, \n",
    "           y_train.iloc[train].shape, X_train_mvt1_enc_values_scaled.iloc[test].shape)\n",
    "\n",
    "if 'Dependent_Variable' in selected_df.columns:\n",
    "    selected_df.drop(columns=['Dependent_Variable'], inplace=True)\n",
    "\n",
    "train_X, valid_X, train_y, valid_y = train_test_split(selected_df, \n",
    "                                                      y_train, test_size=0.3, random_state=1, stratify=y_train,\n",
    "                                                     shuffle=True)\n",
    "\n",
    "print (train_X.shape, train_y.shape, valid_X.shape, valid_y.shape)"
   ]
  },
  {
   "cell_type": "code",
   "execution_count": 610,
   "metadata": {},
   "outputs": [],
   "source": [
    "def compute_accuracy(model_name, model, train_X, train_y, valid_X, valid_y):\n",
    "    \n",
    "    print (\"Accuracy of {} on the training set: {:.2f} %\".\n",
    "           format(model_name, model.score(train_X,train_y)*100))\n",
    "\n",
    "    print (\"Accuracy of {} on the valid set: {:.2f} %\".\n",
    "           format(model_name, model.score(valid_X,valid_y)*100))"
   ]
  },
  {
   "cell_type": "markdown",
   "metadata": {},
   "source": [
    "#### LogReg"
   ]
  },
  {
   "cell_type": "code",
   "execution_count": 171,
   "metadata": {},
   "outputs": [
    {
     "name": "stderr",
     "output_type": "stream",
     "text": [
      "/home/shaunak/anaconda3/lib/python3.6/site-packages/sklearn/linear_model/logistic.py:433: FutureWarning: Default solver will be changed to 'lbfgs' in 0.22. Specify a solver to silence this warning.\n",
      "  FutureWarning)\n",
      "/home/shaunak/anaconda3/lib/python3.6/site-packages/sklearn/utils/validation.py:761: DataConversionWarning: A column-vector y was passed when a 1d array was expected. Please change the shape of y to (n_samples, ), for example using ravel().\n",
      "  y = column_or_1d(y, warn=True)\n"
     ]
    },
    {
     "data": {
      "text/plain": [
       "LogisticRegression(C=100, class_weight=None, dual=False, fit_intercept=True,\n",
       "          intercept_scaling=1, max_iter=100, multi_class='warn',\n",
       "          n_jobs=None, penalty='l2', random_state=None, solver='warn',\n",
       "          tol=0.0001, verbose=0, warm_start=False)"
      ]
     },
     "execution_count": 171,
     "metadata": {},
     "output_type": "execute_result"
    }
   ],
   "source": [
    "log_reg_classifier = LogisticRegression(C=100)\n",
    "\n",
    "log_reg_classifier.fit(train_X, train_y)"
   ]
  },
  {
   "cell_type": "code",
   "execution_count": 611,
   "metadata": {
    "scrolled": false
   },
   "outputs": [
    {
     "name": "stdout",
     "output_type": "stream",
     "text": [
      "Accuracy of LogReg on the training set: 63.31 %\n",
      "Accuracy of LogReg on the valid set: 62.80 %\n"
     ]
    }
   ],
   "source": [
    "compute_accuracy('LogReg', log_reg_classifier, train_X, train_y, valid_X, valid_y)"
   ]
  },
  {
   "cell_type": "markdown",
   "metadata": {},
   "source": [
    "#### DT"
   ]
  },
  {
   "cell_type": "code",
   "execution_count": 167,
   "metadata": {},
   "outputs": [
    {
     "data": {
      "text/plain": [
       "DecisionTreeClassifier(class_weight=None, criterion='entropy', max_depth=10,\n",
       "            max_features=None, max_leaf_nodes=None,\n",
       "            min_impurity_decrease=0.0, min_impurity_split=None,\n",
       "            min_samples_leaf=1, min_samples_split=2,\n",
       "            min_weight_fraction_leaf=0.0, presort=False, random_state=None,\n",
       "            splitter='best')"
      ]
     },
     "execution_count": 167,
     "metadata": {},
     "output_type": "execute_result"
    }
   ],
   "source": [
    "tree = DecisionTreeClassifier(max_depth=10, criterion='entropy')\n",
    "\n",
    "tree.fit(train_X, train_y)"
   ]
  },
  {
   "cell_type": "code",
   "execution_count": 179,
   "metadata": {},
   "outputs": [
    {
     "name": "stdout",
     "output_type": "stream",
     "text": [
      "Accuracy of DT on the training set: 76.78 %\n",
      "Accuracy of DT on the valid set: 71.77 %\n"
     ]
    }
   ],
   "source": [
    "compute_accuracy('DT', tree, train_X, train_y, valid_X, valid_y)"
   ]
  },
  {
   "cell_type": "markdown",
   "metadata": {},
   "source": [
    "#### RF"
   ]
  },
  {
   "cell_type": "code",
   "execution_count": 175,
   "metadata": {},
   "outputs": [
    {
     "name": "stderr",
     "output_type": "stream",
     "text": [
      "/home/shaunak/anaconda3/lib/python3.6/site-packages/ipykernel_launcher.py:2: DataConversionWarning: A column-vector y was passed when a 1d array was expected. Please change the shape of y to (n_samples,), for example using ravel().\n",
      "  \n"
     ]
    },
    {
     "data": {
      "text/plain": [
       "RandomForestClassifier(bootstrap=True, class_weight=None, criterion='gini',\n",
       "            max_depth=20, max_features='auto', max_leaf_nodes=None,\n",
       "            min_impurity_decrease=0.0, min_impurity_split=None,\n",
       "            min_samples_leaf=1, min_samples_split=2,\n",
       "            min_weight_fraction_leaf=0.0, n_estimators=200, n_jobs=None,\n",
       "            oob_score=False, random_state=0, verbose=0, warm_start=False)"
      ]
     },
     "execution_count": 175,
     "metadata": {},
     "output_type": "execute_result"
    }
   ],
   "source": [
    "rf = RandomForestClassifier(n_estimators=200, random_state=0, max_depth=20)\n",
    "rf.fit(train_X, train_y)"
   ]
  },
  {
   "cell_type": "code",
   "execution_count": 180,
   "metadata": {
    "scrolled": true
   },
   "outputs": [
    {
     "name": "stdout",
     "output_type": "stream",
     "text": [
      "Accuracy of RF on the training set: 98.72 %\n",
      "Accuracy of RF on the valid set: 74.43 %\n"
     ]
    }
   ],
   "source": [
    "compute_accuracy('RF', rf, train_X, train_y, valid_X, valid_y)"
   ]
  },
  {
   "cell_type": "code",
   "execution_count": 179,
   "metadata": {},
   "outputs": [
    {
     "name": "stderr",
     "output_type": "stream",
     "text": [
      "/home/shaunak/anaconda3/lib/python3.6/site-packages/sklearn/utils/validation.py:761: DataConversionWarning: A column-vector y was passed when a 1d array was expected. Please change the shape of y to (n_samples, ), for example using ravel().\n",
      "  y = column_or_1d(y, warn=True)\n"
     ]
    },
    {
     "data": {
      "text/plain": [
       "LinearSVC(C=1, class_weight=None, dual=True, fit_intercept=True,\n",
       "     intercept_scaling=1, loss='squared_hinge', max_iter=1000,\n",
       "     multi_class='ovr', penalty='l2', random_state=None, tol=0.0001,\n",
       "     verbose=0)"
      ]
     },
     "execution_count": 179,
     "metadata": {},
     "output_type": "execute_result"
    }
   ],
   "source": [
    "sv_model = svm.LinearSVC(C=1)\n",
    "\n",
    "sv_model.fit(train_X, train_y)\n",
    "\n"
   ]
  },
  {
   "cell_type": "code",
   "execution_count": 180,
   "metadata": {},
   "outputs": [
    {
     "name": "stdout",
     "output_type": "stream",
     "text": [
      "Accuracy of SVC on the training set: 72.98 %\n",
      "Accuracy of SVC on the valid set: 72.86 %\n"
     ]
    }
   ],
   "source": [
    "compute_accuracy('SVC', sv_model, train_X, train_y, valid_X, valid_y)"
   ]
  },
  {
   "cell_type": "code",
   "execution_count": 612,
   "metadata": {},
   "outputs": [
    {
     "name": "stdout",
     "output_type": "stream",
     "text": [
      "0.5900442606293229\n"
     ]
    }
   ],
   "source": [
    "from sklearn.metrics import roc_curve, roc_auc_score, auc\n",
    "\n",
    "\n",
    "model = DecisionTreeClassifier(max_depth=20)\n",
    "model.fit(train_X, train_y)\n",
    "predictions = model.predict_proba(valid_X)\n",
    "\n",
    "fpr, tpr, thresholds = roc_curve(valid_y, predictions[:,1])\n",
    "\n",
    "print (roc_auc_score(valid_y, predictions[:,1]))"
   ]
  },
  {
   "cell_type": "code",
   "execution_count": 613,
   "metadata": {
    "scrolled": false
   },
   "outputs": [
    {
     "name": "stderr",
     "output_type": "stream",
     "text": [
      "/home/shaunak/anaconda3/lib/python3.6/site-packages/ipykernel_launcher.py:4: DataConversionWarning: A column-vector y was passed when a 1d array was expected. Please change the shape of y to (n_samples,), for example using ravel().\n",
      "  after removing the cwd from sys.path.\n"
     ]
    },
    {
     "name": "stdout",
     "output_type": "stream",
     "text": [
      "(3386,) (3386,) (3386,)\n",
      "0.7633244862271935\n"
     ]
    }
   ],
   "source": [
    "feature_imp_rf = {}\n",
    "\n",
    "rf = RandomForestClassifier(n_estimators=500, random_state=0, max_depth=15)\n",
    "rf.fit(train_X, train_y)\n",
    "\n",
    "predictions = rf.predict_proba(valid_X)\n",
    "\n",
    "fpr, tpr, thresholds = roc_curve(valid_y, predictions[:,1])\n",
    "\n",
    "\n",
    "print(fpr.shape, tpr.shape, thresholds.shape)\n",
    "\n",
    "print (roc_auc_score(valid_y, predictions[:,1]))\n",
    "\n",
    "for x in range(len(train_X.columns)):\n",
    "    feature_imp_rf[train_X.columns[x]] = rf.feature_importances_[x]\n",
    "    \n",
    "\n"
   ]
  },
  {
   "cell_type": "code",
   "execution_count": 614,
   "metadata": {},
   "outputs": [
    {
     "name": "stdout",
     "output_type": "stream",
     "text": [
      "[('N1', 0.09096698978341164), ('N3', 0.05213842381927469), ('N34', 0.05197202363765935), ('N11', 0.04772904240539298), ('N24', 0.04386806215974481), ('N10.1', 0.038150599292797065), ('N9', 0.037141568807129925), ('N19', 0.03691649935454103), ('C3', 0.03466731832963085), ('N23', 0.03445630980331343), ('N33', 0.033555955694681804), ('N7', 0.030382825815732182), ('N18', 0.030379813148113458), ('N10', 0.030313302906935263), ('N35', 0.028326473885716318), ('N2', 0.02750763812443939), ('N8', 0.027054940443027656), ('N17', 0.02603593140436955), ('C4', 0.02579060399090981), ('N20', 0.0248222197671409), ('N21', 0.024424110056308866), ('N14', 0.020383015165189342), ('N4', 0.019325870888724197), ('C2', 0.01886820665383495), ('N5', 0.018361757878454694), ('N12', 0.017060468192672238), ('N15_0.0', 0.006302257479862816), ('N22_0.0', 0.005999189972880109), ('C5_1', 0.005749165770806141), ('C6_True', 0.004953918305604376), ('C6_False', 0.004848744136087994), ('C7_4', 0.004690926051436975), ('N15_1.0', 0.004416927776967932), ('C5_2', 0.00428574923775324), ('C5_4', 0.0042437267784027535), ('C1_2', 0.004080649954255135), ('N22_1.0', 0.004062387180445802), ('N22_2.0', 0.0034061504256839644), ('C7_2', 0.0033769134920372465), ('C1_3', 0.0032904435166217954), ('N16_0.0', 0.003055634666360173), ('C8_True', 0.0030414370745231296), ('C8_False', 0.0030145605412007785), ('N28', 0.002888141847442221), ('N22_3.0', 0.002808990473390422), ('N31', 0.002760855999578159), ('N26', 0.0027562293374474136), ('C7_6', 0.002736952419806061), ('N27', 0.002679082219311785), ('C7_7', 0.0026632844268999352), ('N30', 0.0026446841661553217), ('N25', 0.0026363696538790576), ('C7_1', 0.0026157039110267133), ('N29', 0.0025712616847658734), ('C1_1', 0.0025554552713932003), ('N15_2.0', 0.0025425357513631634), ('N32', 0.0024659450524983618), ('N25_missing', 0.0018657706580238226), ('C7_0', 0.0018226891825547948), ('N22_4.0', 0.001668808506555598), ('C5_0', 0.0016402435108311742), ('C5_5', 0.001523178920341375), ('N15_3.0', 0.0012133575829497412), ('N16_1.0', 0.0011801088880234987), ('C5_6', 0.0011644253451642762), ('N22_5.0', 0.0010494025038274778), ('C7_3', 0.0009272437283632523), ('C5_7', 0.0009174680005075094), ('C5_3', 0.0007505231670774151), ('N15_4.0', 0.0006491223102766272), ('C7_5', 0.0006237290993180014), ('N22_6.0', 0.0006234361029035986), ('N15_5.0', 0.0003204690189076267), ('N16_2.0', 0.0002948705420208455), ('N22_7.0', 0.00026322335590936457), ('N15_6.0', 0.00017079025894675004), ('N15_9.0', 0.0001087963153743473), ('N22_9.0', 9.737817770127072e-05), ('N22_8.0', 8.808831269331971e-05), ('N15_7.0', 6.399408577747572e-05), ('N15_8.0', 4.753926421503113e-05), ('N16_3.0', 4.507392535719304e-05), ('N22_10.0', 3.2667183561494405e-05), ('N15_17.0', 1.5185596476420252e-05), ('N16_4.0', 1.5145588974394403e-05), ('N22_11.0', 1.4937687230954104e-05), ('N15_30.0', 1.3288765570349264e-05), ('N15_10.0', 1.0926820534875168e-05), ('N15_11.0', 1.0500241727239573e-05), ('N22_14.0', 5.62113197539271e-06), ('N15_12.0', 5.287634017961502e-06), ('N15_22.0', 4.5779866469222885e-06), ('N16_7.0', 2.5775567805598537e-06), ('N22_13.0', 1.987267022818591e-06), ('N22_15.0', 1.925994813606938e-06), ('N22_12.0', 1.0446469316284061e-06), ('N22_20.0', 3.4914907965630005e-07), ('N26_missing', 0.0), ('N27_missing', 0.0), ('N28_missing', 0.0), ('N29_missing', 0.0), ('N30_missing', 0.0), ('N31_missing', 0.0), ('N32_missing', 0.0), ('N15_15.0', 0.0), ('N15_16.0', 0.0), ('N15_21.0', 0.0)]\n"
     ]
    }
   ],
   "source": [
    "feature_imp_rf = sorted(feature_imp_rf.items(), key=lambda kv: kv[1], reverse=True)\n",
    "\n",
    "print (feature_imp_rf)"
   ]
  },
  {
   "cell_type": "code",
   "execution_count": 615,
   "metadata": {},
   "outputs": [
    {
     "name": "stderr",
     "output_type": "stream",
     "text": [
      "/home/shaunak/anaconda3/lib/python3.6/site-packages/sklearn/linear_model/logistic.py:433: FutureWarning: Default solver will be changed to 'lbfgs' in 0.22. Specify a solver to silence this warning.\n",
      "  FutureWarning)\n",
      "/home/shaunak/anaconda3/lib/python3.6/site-packages/sklearn/utils/validation.py:761: DataConversionWarning: A column-vector y was passed when a 1d array was expected. Please change the shape of y to (n_samples, ), for example using ravel().\n",
      "  y = column_or_1d(y, warn=True)\n"
     ]
    },
    {
     "name": "stdout",
     "output_type": "stream",
     "text": [
      "0.7518555428675128\n"
     ]
    },
    {
     "data": {
      "text/plain": [
       "(1, 107)"
      ]
     },
     "execution_count": 615,
     "metadata": {},
     "output_type": "execute_result"
    }
   ],
   "source": [
    "log_reg_classifier = LogisticRegression(C=1000)\n",
    "\n",
    "log_reg_classifier.fit(train_X, train_y)\n",
    "\n",
    "predictions = log_reg_classifier.predict_proba(valid_X)\n",
    "\n",
    "fpr, tpr, thresholds = roc_curve(valid_y, predictions[:,1])\n",
    "\n",
    "print (roc_auc_score(valid_y, predictions[:,1]))\n",
    "\n",
    "log_reg_classifier.coef_.shape"
   ]
  },
  {
   "cell_type": "markdown",
   "metadata": {},
   "source": [
    "#### kNN"
   ]
  },
  {
   "cell_type": "code",
   "execution_count": 1049,
   "metadata": {
    "scrolled": true
   },
   "outputs": [
    {
     "name": "stderr",
     "output_type": "stream",
     "text": [
      "/home/shaunak/anaconda3/lib/python3.6/site-packages/ipykernel_launcher.py:2: DataConversionWarning: A column-vector y was passed when a 1d array was expected. Please change the shape of y to (n_samples, ), for example using ravel().\n",
      "  \n"
     ]
    },
    {
     "name": "stdout",
     "output_type": "stream",
     "text": [
      "0.6188288480027008\n"
     ]
    }
   ],
   "source": [
    "knn = KNeighborsClassifier(n_neighbors=3)\n",
    "knn.fit(train_X, train_y)\n",
    "\n",
    "predictions = knn.predict_proba(valid_X)\n",
    "\n",
    "fpr, tpr, thresholds = roc_curve(valid_y, predictions[:,1])\n",
    "\n",
    "print (roc_auc_score(valid_y, predictions[:,1]))\n",
    "\n"
   ]
  },
  {
   "cell_type": "markdown",
   "metadata": {},
   "source": [
    "#### XGBoost"
   ]
  },
  {
   "cell_type": "code",
   "execution_count": 616,
   "metadata": {},
   "outputs": [
    {
     "name": "stderr",
     "output_type": "stream",
     "text": [
      "/home/shaunak/anaconda3/lib/python3.6/site-packages/sklearn/preprocessing/label.py:219: DataConversionWarning: A column-vector y was passed when a 1d array was expected. Please change the shape of y to (n_samples, ), for example using ravel().\n",
      "  y = column_or_1d(y, warn=True)\n",
      "/home/shaunak/anaconda3/lib/python3.6/site-packages/sklearn/preprocessing/label.py:252: DataConversionWarning: A column-vector y was passed when a 1d array was expected. Please change the shape of y to (n_samples, ), for example using ravel().\n",
      "  y = column_or_1d(y, warn=True)\n"
     ]
    },
    {
     "name": "stdout",
     "output_type": "stream",
     "text": [
      "0.7693408646997033\n",
      "Accuracy of XGBoost on the training set: 81.03 %\n",
      "Accuracy of XGBoost on the valid set: 74.91 %\n"
     ]
    }
   ],
   "source": [
    "from xgboost import XGBClassifier\n",
    "model = XGBClassifier(n_estimators=300, max_depth=5, learning_rate=0.07)\n",
    "model.fit(train_X, train_y)\n",
    "\n",
    "predictions = model.predict_proba(valid_X)\n",
    "\n",
    "fpr, tpr, thresholds = roc_curve(valid_y, predictions[:,1])\n",
    "\n",
    "print (roc_auc_score(valid_y, predictions[:,1]))\n",
    "\n",
    "compute_accuracy('XGBoost', model, train_X, train_y, valid_X, valid_y)"
   ]
  },
  {
   "cell_type": "markdown",
   "metadata": {},
   "source": [
    "#### MLP"
   ]
  },
  {
   "cell_type": "code",
   "execution_count": 617,
   "metadata": {},
   "outputs": [
    {
     "name": "stderr",
     "output_type": "stream",
     "text": [
      "/home/shaunak/anaconda3/lib/python3.6/site-packages/sklearn/neural_network/multilayer_perceptron.py:916: DataConversionWarning: A column-vector y was passed when a 1d array was expected. Please change the shape of y to (n_samples, ), for example using ravel().\n",
      "  y = column_or_1d(y, warn=True)\n"
     ]
    },
    {
     "name": "stdout",
     "output_type": "stream",
     "text": [
      "0.7362216893477214\n",
      "Accuracy of NN on the training set: 78.50 %\n",
      "Accuracy of NN on the valid set: 72.84 %\n"
     ]
    },
    {
     "name": "stderr",
     "output_type": "stream",
     "text": [
      "/home/shaunak/anaconda3/lib/python3.6/site-packages/sklearn/neural_network/multilayer_perceptron.py:562: ConvergenceWarning: Stochastic Optimizer: Maximum iterations (200) reached and the optimization hasn't converged yet.\n",
      "  % self.max_iter, ConvergenceWarning)\n"
     ]
    }
   ],
   "source": [
    "from sklearn.neural_network import MLPClassifier\n",
    "\n",
    "mlp = MLPClassifier(alpha=1e-5, hidden_layer_sizes=(64,), random_state=0)\n",
    "\n",
    "mlp.fit(train_X, train_y)\n",
    "\n",
    "predictions = mlp.predict_proba(valid_X)\n",
    "\n",
    "fpr, tpr, thresholds = roc_curve(valid_y, predictions[:,1])\n",
    "\n",
    "print (roc_auc_score(valid_y, predictions[:,1]))\n",
    "\n",
    "compute_accuracy('NN', mlp, train_X, train_y, valid_X, valid_y)"
   ]
  },
  {
   "cell_type": "code",
   "execution_count": null,
   "metadata": {},
   "outputs": [],
   "source": []
  },
  {
   "cell_type": "code",
   "execution_count": null,
   "metadata": {},
   "outputs": [],
   "source": []
  },
  {
   "cell_type": "markdown",
   "metadata": {},
   "source": [
    "### Results so far\n",
    "\n",
    "Algorithm | AUC\n",
    "--- | ---\n",
    "DT | 0.60 (mvt+enc) | 0.59 (mvt+enc+scaled)\n",
    "RF | 0.7632 (mvt+enc) | 0.7629 (mvt+enc+scaled)\n",
    "LogReg | 0.744 (mvt+enc) | 0.7518 (mvt+enc+scaled)\n",
    "XgBoost | | 0.772017680614544 model = XGBClassifier(n_estimators=800, max_depth=3, learning_rate=0.07)"
   ]
  },
  {
   "cell_type": "markdown",
   "metadata": {},
   "source": [
    "### Feature Selection"
   ]
  },
  {
   "cell_type": "code",
   "execution_count": 618,
   "metadata": {},
   "outputs": [
    {
     "data": {
      "text/plain": [
       "['N1',\n",
       " 'N3',\n",
       " 'N34',\n",
       " 'N11',\n",
       " 'N24',\n",
       " 'N10.1',\n",
       " 'N9',\n",
       " 'N19',\n",
       " 'C3',\n",
       " 'N23',\n",
       " 'N33',\n",
       " 'N7',\n",
       " 'N18',\n",
       " 'N10',\n",
       " 'N35',\n",
       " 'N2']"
      ]
     },
     "execution_count": 618,
     "metadata": {},
     "output_type": "execute_result"
    }
   ],
   "source": [
    "top_15_features = [x[0] for x in feature_imp_rf[:16]]\n",
    "\n",
    "top_15_features"
   ]
  },
  {
   "cell_type": "code",
   "execution_count": 502,
   "metadata": {},
   "outputs": [
    {
     "name": "stdout",
     "output_type": "stream",
     "text": [
      "(23135, 16) (23135, 1) (9915, 16) (9915, 1)\n"
     ]
    }
   ],
   "source": [
    "X_train_mvt1_enc_values_scaled_fs = X_train_mvt1_enc_values_scaled[top_15_features]\n",
    "\n",
    "\n",
    "\n",
    "selected_df = X_train_mvt1_enc_values_scaled_fs\n",
    "\n",
    "if 'Dependent_Variable' in selected_df.columns:\n",
    "    selected_df.drop(columns=['Dependent_Variable'], inplace=True)\n",
    "\n",
    "train_X, valid_X, train_y, valid_y = train_test_split(selected_df, \n",
    "                                                      y_train, test_size=0.3, random_state=1, stratify=y_train,\n",
    "                                                     shuffle=True)\n",
    "\n",
    "print (train_X.shape, train_y.shape, valid_X.shape, valid_y.shape)"
   ]
  },
  {
   "cell_type": "markdown",
   "metadata": {},
   "source": [
    "With using these top 15 features the performance decreases slightly, but the modelis more simple"
   ]
  },
  {
   "cell_type": "code",
   "execution_count": null,
   "metadata": {},
   "outputs": [],
   "source": []
  },
  {
   "cell_type": "markdown",
   "metadata": {},
   "source": [
    "### Compare results with simply dropping any row with NA values"
   ]
  },
  {
   "cell_type": "code",
   "execution_count": 183,
   "metadata": {
    "scrolled": true
   },
   "outputs": [
    {
     "data": {
      "text/plain": [
       "(33050, 36)"
      ]
     },
     "execution_count": 183,
     "metadata": {},
     "output_type": "execute_result"
    }
   ],
   "source": [
    "X_train_all_na_drop = X_train.drop(columns=['N25', 'N26', 'N27', 'N28', 'N29', 'N30', 'N31', 'N32'])\n",
    "\n",
    "X_train_all_na_drop.shape"
   ]
  },
  {
   "cell_type": "code",
   "execution_count": 184,
   "metadata": {},
   "outputs": [
    {
     "data": {
      "text/plain": [
       "(26027, 36)"
      ]
     },
     "execution_count": 184,
     "metadata": {},
     "output_type": "execute_result"
    }
   ],
   "source": [
    "X_train_all_na_drop.dropna(axis=0, inplace=True)\n",
    "\n",
    "X_train_all_na_drop.shape"
   ]
  },
  {
   "cell_type": "markdown",
   "metadata": {},
   "source": [
    "Create ML models on this"
   ]
  },
  {
   "cell_type": "code",
   "execution_count": 185,
   "metadata": {},
   "outputs": [
    {
     "name": "stdout",
     "output_type": "stream",
     "text": [
      "         Unique_ID  Dependent_Variable\n",
      "0   Candidate_5926                   1\n",
      "1  Candidate_48134                   0\n",
      "2  Candidate_51717                   1\n",
      "3  Candidate_26401                   0\n",
      "4  Candidate_34872                   0\n"
     ]
    }
   ],
   "source": [
    "all_ids_in_X = list(X_train_all_na_drop['Unique_ID'])\n",
    "\n",
    "y_train1 = pd.read_csv('./Training/y_train.csv')\n",
    "\n",
    "print (y_train1.head())"
   ]
  },
  {
   "cell_type": "code",
   "execution_count": 186,
   "metadata": {
    "scrolled": false
   },
   "outputs": [
    {
     "data": {
      "text/plain": [
       "True"
      ]
     },
     "execution_count": 186,
     "metadata": {},
     "output_type": "execute_result"
    }
   ],
   "source": [
    "y_train1 = y_train1[y_train1['Unique_ID'].isin(all_ids_in_X)]\n",
    "\n",
    "list (y_train1['Unique_ID']) == all_ids_in_X"
   ]
  },
  {
   "cell_type": "code",
   "execution_count": 187,
   "metadata": {},
   "outputs": [],
   "source": [
    "X_train_all_na_drop.drop(columns=['Unique_ID'], inplace=True)\n",
    "\n",
    "y_train1.drop(columns=['Unique_ID'], inplace=True)"
   ]
  },
  {
   "cell_type": "code",
   "execution_count": 188,
   "metadata": {},
   "outputs": [],
   "source": [
    "train_X1, valid_X1, train_y1, valid_y1 = train_test_split(X_train_all_na_drop, \n",
    "                                                      y_train1, test_size=0.3, random_state=1, stratify=y_train1,\n",
    "                                                     shuffle=True)"
   ]
  },
  {
   "cell_type": "code",
   "execution_count": 189,
   "metadata": {},
   "outputs": [
    {
     "name": "stderr",
     "output_type": "stream",
     "text": [
      "/home/shaunak/anaconda3/lib/python3.6/site-packages/ipykernel_launcher.py:2: DataConversionWarning: A column-vector y was passed when a 1d array was expected. Please change the shape of y to (n_samples,), for example using ravel().\n",
      "  \n"
     ]
    },
    {
     "name": "stdout",
     "output_type": "stream",
     "text": [
      "(2037,) (2037,) (2037,)\n",
      "0.7511350975687954\n"
     ]
    }
   ],
   "source": [
    "rf = RandomForestClassifier(n_estimators=500, random_state=0, max_depth=30)\n",
    "rf.fit(train_X1, train_y1)\n",
    "\n",
    "predictions = rf.predict_proba(valid_X1)\n",
    "\n",
    "fpr, tpr, thresholds = roc_curve(valid_y1, predictions[:,1])\n",
    "\n",
    "\n",
    "print(fpr.shape, tpr.shape, thresholds.shape)\n",
    "\n",
    "print (roc_auc_score(valid_y1, predictions[:,1]))"
   ]
  },
  {
   "cell_type": "code",
   "execution_count": 162,
   "metadata": {},
   "outputs": [
    {
     "name": "stderr",
     "output_type": "stream",
     "text": [
      "/home/shaunak/anaconda3/lib/python3.6/site-packages/sklearn/linear_model/logistic.py:433: FutureWarning: Default solver will be changed to 'lbfgs' in 0.22. Specify a solver to silence this warning.\n",
      "  FutureWarning)\n",
      "/home/shaunak/anaconda3/lib/python3.6/site-packages/sklearn/utils/validation.py:761: DataConversionWarning: A column-vector y was passed when a 1d array was expected. Please change the shape of y to (n_samples, ), for example using ravel().\n",
      "  y = column_or_1d(y, warn=True)\n"
     ]
    },
    {
     "name": "stdout",
     "output_type": "stream",
     "text": [
      "0.7379334888819633\n"
     ]
    }
   ],
   "source": [
    "log_reg_classifier = LogisticRegression(C=100)\n",
    "\n",
    "log_reg_classifier.fit(train_X1, train_y1)\n",
    "\n",
    "predictions = log_reg_classifier.predict_proba(valid_X1)\n",
    "\n",
    "fpr, tpr, thresholds = roc_curve(valid_y1, predictions[:,1])\n",
    "\n",
    "print (roc_auc_score(valid_y1, predictions[:,1]))"
   ]
  },
  {
   "cell_type": "markdown",
   "metadata": {},
   "source": [
    "**The AUC value decreases, which proves that out Missing Value Treatment has helped**"
   ]
  }
 ],
 "metadata": {
  "kernelspec": {
   "display_name": "Python 3",
   "language": "python",
   "name": "python3"
  },
  "language_info": {
   "codemirror_mode": {
    "name": "ipython",
    "version": 3
   },
   "file_extension": ".py",
   "mimetype": "text/x-python",
   "name": "python",
   "nbconvert_exporter": "python",
   "pygments_lexer": "ipython3",
   "version": "3.6.8"
  }
 },
 "nbformat": 4,
 "nbformat_minor": 2
}
