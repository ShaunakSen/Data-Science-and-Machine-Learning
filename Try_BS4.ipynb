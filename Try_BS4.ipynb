{
  "nbformat": 4,
  "nbformat_minor": 0,
  "metadata": {
    "colab": {
      "name": "Try BS4.ipynb",
      "version": "0.3.2",
      "provenance": [],
      "collapsed_sections": [],
      "include_colab_link": true
    },
    "kernelspec": {
      "name": "python3",
      "display_name": "Python 3"
    }
  },
  "cells": [
    {
      "cell_type": "markdown",
      "metadata": {
        "id": "view-in-github",
        "colab_type": "text"
      },
      "source": [
        "<a href=\"https://colab.research.google.com/github/ShaunakSen/Data-Science-and-Machine-Learning/blob/master/Try_BS4.ipynb\" target=\"_parent\"><img src=\"https://colab.research.google.com/assets/colab-badge.svg\" alt=\"Open In Colab\"/></a>"
      ]
    },
    {
      "cell_type": "markdown",
      "metadata": {
        "id": "Ohh-CZUF3V7B",
        "colab_type": "text"
      },
      "source": [
        "### Scraoing for extending the dataset\n",
        "\n"
      ]
    },
    {
      "cell_type": "code",
      "metadata": {
        "id": "qTqDlmFs3THt",
        "colab_type": "code",
        "colab": {}
      },
      "source": [
        "from bs4 import BeautifulSoup\n",
        "\n",
        "html_doc = \"\"\"\n",
        "<html><head><title>The Dormouse's story</title></head>\n",
        "<body>\n",
        "<p class=\"title\"><b>The Dormouse's story</b></p>\n",
        "\n",
        "<p class=\"story\">Once upon a time there were three little sisters; and their names were\n",
        "<a href=\"http://example.com/elsie\" class=\"sister\" id=\"link1\">Elsie</a>,\n",
        "<a href=\"http://example.com/lacie\" class=\"sister\" id=\"link2\">Lacie</a> and\n",
        "<a href=\"http://example.com/tillie\" class=\"sister\" id=\"link3\">Tillie</a>;\n",
        "and they lived at the bottom of a well.</p>\n",
        "\n",
        "<p class=\"story\">...</p>\n",
        "\"\"\""
      ],
      "execution_count": 0,
      "outputs": []
    },
    {
      "cell_type": "code",
      "metadata": {
        "id": "ofHTZ43y3lLF",
        "colab_type": "code",
        "colab": {}
      },
      "source": [
        "soup = BeautifulSoup(html_doc, 'html.parser')"
      ],
      "execution_count": 0,
      "outputs": []
    },
    {
      "cell_type": "code",
      "metadata": {
        "id": "evHo5TVp3uFH",
        "colab_type": "code",
        "colab": {
          "base_uri": "https://localhost:8080/",
          "height": 603
        },
        "outputId": "8627781e-943e-4cd7-ec65-dfbb98350fc3"
      },
      "source": [
        "print (soup.prettify())"
      ],
      "execution_count": 4,
      "outputs": [
        {
          "output_type": "stream",
          "text": [
            "<html>\n",
            " <head>\n",
            "  <title>\n",
            "   The Dormouse's story\n",
            "  </title>\n",
            " </head>\n",
            " <body>\n",
            "  <p class=\"title\">\n",
            "   <b>\n",
            "    The Dormouse's story\n",
            "   </b>\n",
            "  </p>\n",
            "  <p class=\"story\">\n",
            "   Once upon a time there were three little sisters; and their names were\n",
            "   <a class=\"sister\" href=\"http://example.com/elsie\" id=\"link1\">\n",
            "    Elsie\n",
            "   </a>\n",
            "   ,\n",
            "   <a class=\"sister\" href=\"http://example.com/lacie\" id=\"link2\">\n",
            "    Lacie\n",
            "   </a>\n",
            "   and\n",
            "   <a class=\"sister\" href=\"http://example.com/tillie\" id=\"link3\">\n",
            "    Tillie\n",
            "   </a>\n",
            "   ;\n",
            "and they lived at the bottom of a well.\n",
            "  </p>\n",
            "  <p class=\"story\">\n",
            "   ...\n",
            "  </p>\n",
            " </body>\n",
            "</html>\n"
          ],
          "name": "stdout"
        }
      ]
    },
    {
      "cell_type": "markdown",
      "metadata": {
        "id": "2U6hmEeb4Yyc",
        "colab_type": "text"
      },
      "source": [
        "Here are some simple ways to navigate that data structure:"
      ]
    },
    {
      "cell_type": "code",
      "metadata": {
        "id": "cRItFqvR3xvx",
        "colab_type": "code",
        "colab": {
          "base_uri": "https://localhost:8080/",
          "height": 214
        },
        "outputId": "7a541801-9fbf-4724-fd4a-e6601ba0c9c6"
      },
      "source": [
        "print (soup.title)\n",
        "print (soup.title.name)\n",
        "print (soup.title.string)\n",
        "print (soup.title.parent)\n",
        "print (soup.p)\n",
        "print (soup.p['class'])\n",
        "print (soup.a)\n",
        "print (soup.find_all('a'))\n",
        "print (soup.find(href=\"http://example.com/elsie\"))\n",
        "print (soup.find(id=\"link3\"))"
      ],
      "execution_count": 30,
      "outputs": [
        {
          "output_type": "stream",
          "text": [
            "<title>The Dormouse's story</title>\n",
            "title\n",
            "The Dormouse's story\n",
            "<head><title>The Dormouse's story</title></head>\n",
            "<p class=\"title\"><b>The Dormouse's story</b></p>\n",
            "['title']\n",
            "<a class=\"sister\" href=\"http://example.com/elsie\" id=\"link1\">Elsie</a>\n",
            "[<a class=\"sister\" href=\"http://example.com/elsie\" id=\"link1\">Elsie</a>, <a class=\"sister\" href=\"http://example.com/lacie\" id=\"link2\">Lacie</a>, <a class=\"sister\" href=\"http://example.com/tillie\" id=\"link3\">Tillie</a>]\n",
            "<a class=\"sister\" href=\"http://example.com/elsie\" id=\"link1\">Elsie</a>\n",
            "<a class=\"sister\" href=\"http://example.com/tillie\" id=\"link3\">Tillie</a>\n"
          ],
          "name": "stdout"
        }
      ]
    },
    {
      "cell_type": "markdown",
      "metadata": {
        "id": "sBRZ6z2A662_",
        "colab_type": "text"
      },
      "source": [
        "### Objects in bs4\n",
        "\n",
        "Beautiful Soup transforms a complex HTML document into a complex tree of Python objects. But you’ll only ever have to deal with about four kinds of objects: Tag, NavigableString, BeautifulSoup, and Comment.\n",
        "\n",
        "#### Tag\n",
        "\n",
        "A Tag object corresponds to an XML or HTML tag in the original document:\n",
        "\n"
      ]
    },
    {
      "cell_type": "code",
      "metadata": {
        "id": "ZIqmKPJ67Cap",
        "colab_type": "code",
        "colab": {}
      },
      "source": [
        "soup = BeautifulSoup('<b class=\"boldest\">Extremely bold</b>')\n",
        "tag = soup.b\n",
        "print (type(tag))\n"
      ],
      "execution_count": 0,
      "outputs": []
    },
    {
      "cell_type": "markdown",
      "metadata": {
        "id": "jHkJx6M67sb1",
        "colab_type": "text"
      },
      "source": [
        "Tags have a lot of attributes and methods, and I’ll cover most of them in Navigating the tree and Searching the tree. For now, the most important features of a tag are its name and attributes.\n",
        "\n",
        "#### Name\n",
        "\n",
        "Every tag has a name, accessible as .name:\n",
        "\n"
      ]
    },
    {
      "cell_type": "code",
      "metadata": {
        "id": "1ggCXeAd7ypb",
        "colab_type": "code",
        "colab": {
          "base_uri": "https://localhost:8080/",
          "height": 34
        },
        "outputId": "9ef47f1a-afdf-4503-a645-45733de14c8a"
      },
      "source": [
        "tag.name"
      ],
      "execution_count": 32,
      "outputs": [
        {
          "output_type": "execute_result",
          "data": {
            "text/plain": [
              "'b'"
            ]
          },
          "metadata": {
            "tags": []
          },
          "execution_count": 32
        }
      ]
    },
    {
      "cell_type": "markdown",
      "metadata": {
        "id": "ZqR_1y1l71SE",
        "colab_type": "text"
      },
      "source": [
        "#### Attributes\n",
        "\n",
        "A tag may have any number of attributes. The tag `<b id=\"boldest\">` has an attribute “id” whose value is “boldest”. You can access a tag’s attributes by treating the tag like a dictionary: `tag['id']`\n",
        "\n"
      ]
    },
    {
      "cell_type": "code",
      "metadata": {
        "id": "LN3FhnEv79vP",
        "colab_type": "code",
        "colab": {
          "base_uri": "https://localhost:8080/",
          "height": 34
        },
        "outputId": "88e372d3-1df4-421f-f373-3c8141ae2dbf"
      },
      "source": [
        "print (tag.attrs)"
      ],
      "execution_count": 34,
      "outputs": [
        {
          "output_type": "stream",
          "text": [
            "{'class': ['boldest']}\n"
          ],
          "name": "stdout"
        }
      ]
    },
    {
      "cell_type": "markdown",
      "metadata": {
        "id": "CrUMVZB-8rwc",
        "colab_type": "text"
      },
      "source": [
        "### NavigableString\n",
        "\n",
        "A string corresponds to a bit of text within a tag. Beautiful Soup uses the NavigableString class to contain these bits of text:\n",
        "\n"
      ]
    },
    {
      "cell_type": "code",
      "metadata": {
        "id": "xonmDy5K9In9",
        "colab_type": "code",
        "colab": {
          "base_uri": "https://localhost:8080/",
          "height": 52
        },
        "outputId": "e7937f57-2e33-4a7e-d8a2-ff95039f8a3d"
      },
      "source": [
        "print (tag.string)\n",
        "\n",
        "print (type(tag.string)) # NOTE: not 'str'"
      ],
      "execution_count": 36,
      "outputs": [
        {
          "output_type": "stream",
          "text": [
            "Extremely bold\n",
            "<class 'bs4.element.NavigableString'>\n"
          ],
          "name": "stdout"
        }
      ]
    },
    {
      "cell_type": "markdown",
      "metadata": {
        "id": "OOIkvV4h9UEu",
        "colab_type": "text"
      },
      "source": [
        "A NavigableString is just like a Python Unicode string, except that it also supports some of the features described in Navigating the tree and Searching the tree. You can convert a NavigableString to a Unicode string with unicode():\n",
        "\n",
        "NavigableString supports most of the features described in Navigating the tree and Searching the tree, but not all of them. In particular, since a string can’t contain anything (the way a tag may contain a string or another tag), strings don’t support the .contents or .string attributes, or the find() method.\n",
        "\n",
        "**If you want to use a NavigableString outside of Beautiful Soup, you should call unicode() on it to turn it into a normal Python Unicode string. If you don’t, your string will carry around a reference to the entire Beautiful Soup parse tree, even when you’re done using Beautiful Soup. This is a big waste of memory.**\n",
        "\n",
        "### Navigating the tree\n",
        "\n",
        "#### Going down\n",
        "\n",
        "Tags may contain strings and other tags. These elements are the tag’s children. Beautiful Soup provides a lot of different attributes for navigating and iterating over a tag’s children.\n",
        "\n",
        "Note that Beautiful Soup strings don’t support any of these attributes, because a string can’t have children.\n",
        "\n",
        "The simplest way to navigate the parse tree is to say the name of the tag you want. If you want the <head> tag, just say soup.head:\n",
        "\n"
      ]
    },
    {
      "cell_type": "code",
      "metadata": {
        "id": "8qmZZRBvXpWa",
        "colab_type": "code",
        "colab": {
          "base_uri": "https://localhost:8080/",
          "height": 52
        },
        "outputId": "cc7c2bda-3b32-4be2-a6c2-c4d9c4cb0008"
      },
      "source": [
        "soup = BeautifulSoup(html_doc, 'html.parser')\n",
        "\n",
        "# The simplest way to navigate the parse tree is to say the name of the tag you want. If you want the <head> tag, just say soup.head:\n",
        "\n",
        "print (soup.head)\n",
        "\n",
        "# This code gets the first <b> tag beneath the <body> tag:\n",
        "\n",
        "print (soup.body.b)"
      ],
      "execution_count": 38,
      "outputs": [
        {
          "output_type": "stream",
          "text": [
            "<head><title>The Dormouse's story</title></head>\n",
            "<b>The Dormouse's story</b>\n"
          ],
          "name": "stdout"
        }
      ]
    },
    {
      "cell_type": "markdown",
      "metadata": {
        "id": "5oyUKXMmYBG-",
        "colab_type": "text"
      },
      "source": [
        "**Using a tag name as an attribute will give you only the first tag by that name**\n",
        "\n",
        "If you need to get all the <a> tags, or anything more complicated than the first tag with a certain name, you’ll need to use one of the methods described in Searching the tree, such as find_all():\n",
        "\n"
      ]
    },
    {
      "cell_type": "code",
      "metadata": {
        "id": "6FOxoizMYDp_",
        "colab_type": "code",
        "colab": {
          "base_uri": "https://localhost:8080/",
          "height": 72
        },
        "outputId": "af1155ef-01ab-47cc-95ff-6c3fd4199bfd"
      },
      "source": [
        "print (soup.a)\n",
        "print (soup.find_all('a'))"
      ],
      "execution_count": 40,
      "outputs": [
        {
          "output_type": "stream",
          "text": [
            "<a class=\"sister\" href=\"http://example.com/elsie\" id=\"link1\">Elsie</a>\n",
            "[<a class=\"sister\" href=\"http://example.com/elsie\" id=\"link1\">Elsie</a>, <a class=\"sister\" href=\"http://example.com/lacie\" id=\"link2\">Lacie</a>, <a class=\"sister\" href=\"http://example.com/tillie\" id=\"link3\">Tillie</a>]\n"
          ],
          "name": "stdout"
        }
      ]
    },
    {
      "cell_type": "markdown",
      "metadata": {
        "id": "PTYzh4KrYXjO",
        "colab_type": "text"
      },
      "source": [
        "#### .contents and .children\n",
        "\n",
        "A tag’s children are available in a list called .contents:\n",
        "\n"
      ]
    },
    {
      "cell_type": "code",
      "metadata": {
        "id": "Occcp3o7YehT",
        "colab_type": "code",
        "colab": {
          "base_uri": "https://localhost:8080/",
          "height": 105
        },
        "outputId": "1d01bbaf-035c-4622-9c93-7a36aee36c15"
      },
      "source": [
        "head_tag = soup.head\n",
        "\n",
        "print (head_tag)\n",
        "\n",
        "print (head_tag.contents)\n",
        "\n",
        "# each content is also a 'Tag'\n",
        "print (type(head_tag.contents[0]))\n",
        "\n",
        "title_tag = head_tag.contents[0]\n",
        "\n",
        "print (title_tag.contents)\n",
        "\n",
        "# now the content is a 'NavigableString'\n",
        "print (type(title_tag.contents[0]))"
      ],
      "execution_count": 45,
      "outputs": [
        {
          "output_type": "stream",
          "text": [
            "<head><title>The Dormouse's story</title></head>\n",
            "[<title>The Dormouse's story</title>]\n",
            "<class 'bs4.element.Tag'>\n",
            "[\"The Dormouse's story\"]\n",
            "<class 'bs4.element.NavigableString'>\n"
          ],
          "name": "stdout"
        }
      ]
    },
    {
      "cell_type": "markdown",
      "metadata": {
        "id": "jy4CmQZOaXMo",
        "colab_type": "text"
      },
      "source": [
        "Instead of getting them as a list, you can iterate over a tag’s children using the .children generator:\n",
        "\n"
      ]
    },
    {
      "cell_type": "code",
      "metadata": {
        "id": "IlnyLfWWaNNj",
        "colab_type": "code",
        "colab": {
          "base_uri": "https://localhost:8080/",
          "height": 34
        },
        "outputId": "2557ea36-18a6-456d-9432-ddd7618b9970"
      },
      "source": [
        "for child in title_tag.children:\n",
        "  print(child)\n"
      ],
      "execution_count": 47,
      "outputs": [
        {
          "output_type": "stream",
          "text": [
            "The Dormouse's story\n"
          ],
          "name": "stdout"
        }
      ]
    },
    {
      "cell_type": "markdown",
      "metadata": {
        "id": "YOFUCC0Wb-jP",
        "colab_type": "text"
      },
      "source": [
        "#### descendants\n",
        "\n",
        "The .contents and .children attributes only consider a tag’s direct children. For instance, the <head> tag has a single direct child–the <title> tag:\n",
        "\n",
        "But the <title> tag itself has a child: the string “The Dormouse’s story”. There’s a sense in which that string is also a child of the <head> tag. The .descendants attribute lets you iterate over all of a tag’s children, recursively: its direct children, the children of its direct children, and so on:\n",
        "\n"
      ]
    },
    {
      "cell_type": "code",
      "metadata": {
        "id": "ChiozfV_cJyq",
        "colab_type": "code",
        "colab": {
          "base_uri": "https://localhost:8080/",
          "height": 52
        },
        "outputId": "c820f317-92d5-4285-b075-9e03221a1d40"
      },
      "source": [
        "for child in head_tag.descendants:\n",
        "    print(child, type(child))\n"
      ],
      "execution_count": 49,
      "outputs": [
        {
          "output_type": "stream",
          "text": [
            "<title>The Dormouse's story</title> <class 'bs4.element.Tag'>\n",
            "The Dormouse's story <class 'bs4.element.NavigableString'>\n"
          ],
          "name": "stdout"
        }
      ]
    },
    {
      "cell_type": "markdown",
      "metadata": {
        "id": "MH13atzscOet",
        "colab_type": "text"
      },
      "source": [
        "PROJECT: We can use this for our scraping.. We can only take ancestors of type string\n",
        "\n",
        "The `<head>` tag has only one child, but it has two descendants: the `<title>` tag and the `<title>` tag’s child. The BeautifulSoup object only has one direct child (the `<html>` tag), but it has a whole lot of descendants\n",
        "\n",
        "If a tag’s only child is another tag, and that tag has a .string, then the parent tag is considered to have the same .string as its child:\n",
        "\n",
        "\n",
        "\n",
        "```\n",
        "# This is formatted as code\n",
        "```\n",
        "\n"
      ]
    },
    {
      "cell_type": "code",
      "metadata": {
        "id": "N0b7TP6Ncd5C",
        "colab_type": "code",
        "colab": {
          "base_uri": "https://localhost:8080/",
          "height": 70
        },
        "outputId": "e7fa2f07-59fa-4126-e4c4-e6a821a5ad0f"
      },
      "source": [
        "print (head_tag.contents)\n",
        "\n",
        "print (head_tag.string)\n",
        "\n",
        "# If a tag contains more than one thing, then it’s not clear what .string should refer to, so .string is defined to be None:\n",
        "\n",
        "print (soup.string)"
      ],
      "execution_count": 53,
      "outputs": [
        {
          "output_type": "stream",
          "text": [
            "[<title>The Dormouse's story</title>]\n",
            "The Dormouse's story\n",
            "None\n"
          ],
          "name": "stdout"
        }
      ]
    },
    {
      "cell_type": "markdown",
      "metadata": {
        "id": "TSSOq_lIcdlC",
        "colab_type": "text"
      },
      "source": [
        "PROJECT: The following blocks are v imp\n",
        "\n",
        "#### .strings and stripped_strings\n",
        "\n",
        "If there’s more than one thing inside a tag, you can still look at just the strings. Use the .strings generator:\n",
        "\n"
      ]
    },
    {
      "cell_type": "code",
      "metadata": {
        "id": "JW3N_VOEeQCV",
        "colab_type": "code",
        "colab": {
          "base_uri": "https://localhost:8080/",
          "height": 301
        },
        "outputId": "6ff99c9d-70b5-4a2f-e201-9c942281c01c"
      },
      "source": [
        "for string in soup.strings:\n",
        "  print (repr(string))"
      ],
      "execution_count": 55,
      "outputs": [
        {
          "output_type": "stream",
          "text": [
            "'\\n'\n",
            "\"The Dormouse's story\"\n",
            "'\\n'\n",
            "'\\n'\n",
            "\"The Dormouse's story\"\n",
            "'\\n'\n",
            "'Once upon a time there were three little sisters; and their names were\\n'\n",
            "'Elsie'\n",
            "',\\n'\n",
            "'Lacie'\n",
            "' and\\n'\n",
            "'Tillie'\n",
            "';\\nand they lived at the bottom of a well.'\n",
            "'\\n'\n",
            "'...'\n",
            "'\\n'\n"
          ],
          "name": "stdout"
        }
      ]
    },
    {
      "cell_type": "markdown",
      "metadata": {
        "id": "CBumQH7uext1",
        "colab_type": "text"
      },
      "source": [
        "These strings tend to have a lot of extra whitespace, which you can remove by using the .stripped_strings generator instead:\n",
        "\n"
      ]
    },
    {
      "cell_type": "code",
      "metadata": {
        "id": "QzlY6EyteycE",
        "colab_type": "code",
        "colab": {
          "base_uri": "https://localhost:8080/",
          "height": 194
        },
        "outputId": "867852d7-8cd0-4ed3-d615-7d8c04c7f56e"
      },
      "source": [
        "for string in soup.stripped_strings:\n",
        "    print(repr(string))"
      ],
      "execution_count": 56,
      "outputs": [
        {
          "output_type": "stream",
          "text": [
            "\"The Dormouse's story\"\n",
            "\"The Dormouse's story\"\n",
            "'Once upon a time there were three little sisters; and their names were'\n",
            "'Elsie'\n",
            "','\n",
            "'Lacie'\n",
            "'and'\n",
            "'Tillie'\n",
            "';\\nand they lived at the bottom of a well.'\n",
            "'...'\n"
          ],
          "name": "stdout"
        }
      ]
    },
    {
      "cell_type": "markdown",
      "metadata": {
        "id": "30cPMLB0e4FI",
        "colab_type": "text"
      },
      "source": [
        "Here, strings consisting entirely of whitespace are ignored, and whitespace at the beginning and end of strings is removed.\n",
        "\n",
        "#### Going up\n",
        "\n"
      ]
    },
    {
      "cell_type": "code",
      "metadata": {
        "id": "B-H5nEtIe0eT",
        "colab_type": "code",
        "colab": {}
      },
      "source": [
        ""
      ],
      "execution_count": 0,
      "outputs": []
    }
  ]
}