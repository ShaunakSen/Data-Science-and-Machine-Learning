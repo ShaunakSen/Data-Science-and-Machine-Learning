{
  "nbformat": 4,
  "nbformat_minor": 0,
  "metadata": {
    "colab": {
      "name": "Parameter Tuning with Hyperopt.ipynb",
      "provenance": [],
      "collapsed_sections": [],
      "include_colab_link": true
    },
    "kernelspec": {
      "name": "python3",
      "display_name": "Python 3"
    }
  },
  "cells": [
    {
      "cell_type": "markdown",
      "metadata": {
        "id": "view-in-github",
        "colab_type": "text"
      },
      "source": [
        "<a href=\"https://colab.research.google.com/github/ShaunakSen/Data-Science-and-Machine-Learning/blob/master/Parameter_Tuning_with_Hyperopt.ipynb\" target=\"_parent\"><img src=\"https://colab.research.google.com/assets/colab-badge.svg\" alt=\"Open In Colab\"/></a>"
      ]
    },
    {
      "cell_type": "markdown",
      "metadata": {
        "id": "Kn2NTeol-0uT",
        "colab_type": "text"
      },
      "source": [
        "## Parameter Tuning with Hyperopt\n",
        "\n",
        "[tutorial link](https://districtdatalabs.silvrback.com/parameter-tuning-with-hyperopt)\n",
        "\n",
        "There are two common methods of parameter tuning: grid search and random search. Each have their pros and cons. Grid search is slow but effective at searching the whole search space, while random search is fast, but could miss important points in the search space. Luckily, a third option exists: Bayesian optimization. In this post, we will focus on one implementation of Bayesian optimization, a Python module called hyperopt.\n",
        "\n",
        "Using Bayesian optimization for parameter tuning allows us to obtain the best parameters for a given model, e.g., logistic regression. This also allows us to perform optimal model selection. Typically, a machine learning engineer or data scientist will perform some form of manual parameter tuning (grid search or random search) for a few models - like decision tree, support vector machine, and k nearest neighbors - then compare the accuracy scores and select the best one for use. This method has the possibility of comparing sub-optimal models. Maybe the data scientist found the optimal parameters for the decision tree, but missed the optimal parameters for SVM. This means their model comparison was flawed. K nearest neighbors may beat SVM every time if the SVM parameters are poorly tuned. Bayesian optimization allow the data scientist to find the best parameters for all models, and therefore compare the best models. This results in better model selection, because you are comparing the best k nearest neighbors to the best decision tree.\n",
        "\n",
        "### Objective Functions - A Motivating Example\n",
        "\n",
        "Suppose you have a function defined over some range, and you want to minimize it. That is, you want to find the input value that result in the lowest output value. The trivial example below finds the value of x that minimizes a linear function y(x) = x."
      ]
    },
    {
      "cell_type": "code",
      "metadata": {
        "id": "5gFB5hXX_l3U",
        "colab_type": "code",
        "colab": {}
      },
      "source": [
        "import hyperopt"
      ],
      "execution_count": 0,
      "outputs": []
    },
    {
      "cell_type": "code",
      "metadata": {
        "id": "djX99u3G_npO",
        "colab_type": "code",
        "colab": {
          "base_uri": "https://localhost:8080/",
          "height": 51
        },
        "outputId": "63cd4568-4a60-4ef5-982c-4fc3785093f1"
      },
      "source": [
        "best = hyperopt.fmin(\n",
        "    fn=lambda x:x,\n",
        "    space = hyperopt.hp.uniform('x', 0, 1),\n",
        "    algo = hyperopt.tpe.suggest,\n",
        "    max_evals = 100\n",
        ")\n",
        "\n",
        "print (best)"
      ],
      "execution_count": 5,
      "outputs": [
        {
          "output_type": "stream",
          "text": [
            "100%|██████████| 100/100 [00:00<00:00, 425.62it/s, best loss: 0.0005860873247447989]\n",
            "{'x': 0.0005860873247447989}\n"
          ],
          "name": "stdout"
        }
      ]
    },
    {
      "cell_type": "markdown",
      "metadata": {
        "id": "aNMqEkBxBiBN",
        "colab_type": "text"
      },
      "source": [
        "Let's break this down.\n",
        "\n",
        "The function fmin first takes a function to minimize, denoted fn, which we here specify with an anonymous function lambda x: x. This function could be any valid value-returning function, such as mean absolute error in regression.\n",
        "\n",
        "The next parameter specifies the search space, and in this example it is the continuous range of numbers between 0 and 1, specified by hp.uniform('x', 0, 1). hp.uniform is a built-in hyperopt function that takes three parameters: the name, x, and the lower and upper bound of the range, 0 and 1.\n",
        "\n",
        "The parameter algo takes a search algorithm, in this case tpe which stands for tree of Parzen estimators. This topic is beyond the scope of this blog post, but the mathochistic reader may peruse this for details. The algo parameter can also be set to hyperopt.random, but we do not cover that here as it is widely known search strategy. However, in a future post, we can.\n",
        "\n",
        "Finally, we specify the maximum number of evaluations max_evals the fmin function will perform. This fmin function returns a python dictionary of values.\n",
        "\n",
        "An example of the output for the function above is {'x': 0.000269455723739237}.\n",
        "\n",
        "Here is the plot of the function. The red dot is the point we are trying to find.\n",
        "\n",
        "![](https://silvrback.s3.amazonaws.com/uploads/403df379-e565-4f7f-81a4-911c8f77ae28/ex1_large.png)\n",
        "\n",
        "#### More Complicated Examples\n",
        "Here is a more complicated objective function: `lambda x: (x-1)**2`. This time we are trying to minimize a quadratic equation `y(x) = (x-1)**2`. So we alter the search space to include what we know to be the optimal value (x=1) plus some sub-optimal ranges on either side: hp.uniform('x', -2, 2)."
      ]
    },
    {
      "cell_type": "code",
      "metadata": {
        "id": "S0UWcKhsB1Wu",
        "colab_type": "code",
        "colab": {
          "base_uri": "https://localhost:8080/",
          "height": 51
        },
        "outputId": "d1f13c0e-4d40-401e-850b-18f00de6124b"
      },
      "source": [
        "best = hyperopt.fmin(\n",
        "    fn = lambda x: (x-1)**2,\n",
        "    space= hyperopt.hp.uniform('x', -5, 5),\n",
        "    algo = hyperopt.tpe.suggest,\n",
        "    max_evals = 1000\n",
        ")\n",
        "\n",
        "print (best)"
      ],
      "execution_count": 10,
      "outputs": [
        {
          "output_type": "stream",
          "text": [
            "100%|██████████| 1000/1000 [00:04<00:00, 214.87it/s, best loss: 2.448635558780595e-07]\n",
            "{'x': 1.0004948368982585}\n"
          ],
          "name": "stdout"
        }
      ]
    },
    {
      "cell_type": "markdown",
      "metadata": {
        "id": "iWc_ni0ID75E",
        "colab_type": "text"
      },
      "source": [
        "Here is the plot.\n",
        "\n",
        "![](https://silvrback.s3.amazonaws.com/uploads/7499c5c5-5bd6-4bdb-8030-f82258f686ef/ex2_large.png)\n",
        "\n",
        "Instead of minimizing an objective function, maybe we want to maximize it. To to this we need only return the negative of the function. For example, we could have a function `y(x) = -(x**2):`\n",
        "\n",
        "![](https://silvrback.s3.amazonaws.com/uploads/04d36416-60fe-46a3-9cf4-7645b7059989/ex3_large.png)\n",
        "\n",
        "How could we go about solving this? We just take the objective function `lambda x: -(x**2) and return the negative, giving lambda x: -1*-(x**2) or just lambda x: (x**2).`\n",
        "\n",
        "Here is a function with many (infinitely many given an infinite range) local minima, which we are also trying to maximize:\n",
        "\n",
        "![](https://silvrback.s3.amazonaws.com/uploads/661ff1fe-740b-4112-86dc-7f583184d143/ex5_large.png)\n",
        "\n",
        "\n",
        "### Search Spaces\n",
        "\n",
        "\n",
        "The hyperopt module includes a few handy functions to specify ranges for input parameters. We have already seen hp.uniform. Initially, these are stochastic search spaces, but as hyperopt learns more (as it gets more feedback from the objective function), it adapts and samples different parts of the initial search space that it thinks will give it the most meaningful feedback.\n",
        "\n",
        "The following will be used in this post:\n",
        "\n",
        "- hp.choice(label, options) where options should be a python list or tuple.\n",
        "- hp.normal(label, mu, sigma) where mu and sigma are the mean and standard deviation, respectively.\n",
        "- hp.uniform(label, low, high) where low and high are the lower and upper bounds on the range.\n",
        "\n",
        "To see some draws from the search space, we should import another function, and define the search space.\n",
        "\n"
      ]
    },
    {
      "cell_type": "code",
      "metadata": {
        "id": "ZrEU0X_FHWL8",
        "colab_type": "code",
        "colab": {
          "base_uri": "https://localhost:8080/",
          "height": 34
        },
        "outputId": "43ec49bb-8259-4872-fd21-c8b269e915ff"
      },
      "source": [
        "import hyperopt.pyll.stochastic\n",
        "\n",
        "space = {\n",
        "    'x': hyperopt.hp.uniform('x', 0, 1),\n",
        "    'y': hyperopt.hp.normal('y', 0, 1),\n",
        "    'name': hyperopt.hp.choice('name', ['alice', 'bob']),\n",
        "}\n",
        "\n",
        "\n",
        "# Try running this a few times and to see the different samples.\n",
        "\n",
        "print (hyperopt.pyll.stochastic.sample(space))\n"
      ],
      "execution_count": 21,
      "outputs": [
        {
          "output_type": "stream",
          "text": [
            "{'name': 'bob', 'x': 0.09423803910588446, 'y': -0.9555273175589711}\n"
          ],
          "name": "stdout"
        }
      ]
    },
    {
      "cell_type": "markdown",
      "metadata": {
        "id": "ieH5Ma1XHxub",
        "colab_type": "text"
      },
      "source": [
        "### Capturing Info with Trials\n",
        "\n",
        "It would be nice to see exactly what is happening inside the hyperopt black box. The Trials object allows us to do just that. We need only import a few more items.\n",
        "\n"
      ]
    },
    {
      "cell_type": "code",
      "metadata": {
        "id": "vGVJCtwBH8LI",
        "colab_type": "code",
        "colab": {
          "base_uri": "https://localhost:8080/",
          "height": 258
        },
        "outputId": "251845ae-c468-44c2-a55a-1bf7445b7a7c"
      },
      "source": [
        "fspace = {\n",
        "    'x': hyperopt.hp.uniform('x', -5, 5)\n",
        "}\n",
        "\n",
        "def f(params):\n",
        "    x = params['x']\n",
        "    val = x**2\n",
        "    return {'loss': val, 'status': hyperopt.STATUS_OK}\n",
        "\n",
        "trials = hyperopt.Trials()\n",
        "\n",
        "best = hyperopt.fmin(fn=f, space=fspace, algo=hyperopt.tpe.suggest, max_evals=10, trials=trials)\n",
        "\n",
        "print (best)\n",
        "\n",
        "print ('trials:')\n",
        "for trial in trials.trials[:10]:\n",
        "    print (trial)"
      ],
      "execution_count": 29,
      "outputs": [
        {
          "output_type": "stream",
          "text": [
            "100%|██████████| 10/10 [00:00<00:00, 787.68it/s, best loss: 1.7057501931694494]\n",
            "{'x': 1.3060437179395832}\n",
            "trials:\n",
            "{'state': 2, 'tid': 0, 'spec': None, 'result': {'loss': 10.495759272532467, 'status': 'ok'}, 'misc': {'tid': 0, 'cmd': ('domain_attachment', 'FMinIter_Domain'), 'workdir': None, 'idxs': {'x': [0]}, 'vals': {'x': [3.23971592466569]}}, 'exp_key': None, 'owner': None, 'version': 0, 'book_time': datetime.datetime(2019, 10, 22, 11, 13, 26, 725000), 'refresh_time': datetime.datetime(2019, 10, 22, 11, 13, 26, 726000)}\n",
            "{'state': 2, 'tid': 1, 'spec': None, 'result': {'loss': 7.39795888552516, 'status': 'ok'}, 'misc': {'tid': 1, 'cmd': ('domain_attachment', 'FMinIter_Domain'), 'workdir': None, 'idxs': {'x': [1]}, 'vals': {'x': [-2.7199189115716593]}}, 'exp_key': None, 'owner': None, 'version': 0, 'book_time': datetime.datetime(2019, 10, 22, 11, 13, 26, 727000), 'refresh_time': datetime.datetime(2019, 10, 22, 11, 13, 26, 728000)}\n",
            "{'state': 2, 'tid': 2, 'spec': None, 'result': {'loss': 18.94292452237518, 'status': 'ok'}, 'misc': {'tid': 2, 'cmd': ('domain_attachment', 'FMinIter_Domain'), 'workdir': None, 'idxs': {'x': [2]}, 'vals': {'x': [-4.352347013092497]}}, 'exp_key': None, 'owner': None, 'version': 0, 'book_time': datetime.datetime(2019, 10, 22, 11, 13, 26, 729000), 'refresh_time': datetime.datetime(2019, 10, 22, 11, 13, 26, 729000)}\n",
            "{'state': 2, 'tid': 3, 'spec': None, 'result': {'loss': 24.176314947823165, 'status': 'ok'}, 'misc': {'tid': 3, 'cmd': ('domain_attachment', 'FMinIter_Domain'), 'workdir': None, 'idxs': {'x': [3]}, 'vals': {'x': [-4.916941625423589]}}, 'exp_key': None, 'owner': None, 'version': 0, 'book_time': datetime.datetime(2019, 10, 22, 11, 13, 26, 730000), 'refresh_time': datetime.datetime(2019, 10, 22, 11, 13, 26, 730000)}\n",
            "{'state': 2, 'tid': 4, 'spec': None, 'result': {'loss': 6.692211750392693, 'status': 'ok'}, 'misc': {'tid': 4, 'cmd': ('domain_attachment', 'FMinIter_Domain'), 'workdir': None, 'idxs': {'x': [4]}, 'vals': {'x': [2.5869309519955674]}}, 'exp_key': None, 'owner': None, 'version': 0, 'book_time': datetime.datetime(2019, 10, 22, 11, 13, 26, 731000), 'refresh_time': datetime.datetime(2019, 10, 22, 11, 13, 26, 731000)}\n",
            "{'state': 2, 'tid': 5, 'spec': None, 'result': {'loss': 1.828347256685314, 'status': 'ok'}, 'misc': {'tid': 5, 'cmd': ('domain_attachment', 'FMinIter_Domain'), 'workdir': None, 'idxs': {'x': [5]}, 'vals': {'x': [1.352163916352346]}}, 'exp_key': None, 'owner': None, 'version': 0, 'book_time': datetime.datetime(2019, 10, 22, 11, 13, 26, 732000), 'refresh_time': datetime.datetime(2019, 10, 22, 11, 13, 26, 732000)}\n",
            "{'state': 2, 'tid': 6, 'spec': None, 'result': {'loss': 13.55269294258603, 'status': 'ok'}, 'misc': {'tid': 6, 'cmd': ('domain_attachment', 'FMinIter_Domain'), 'workdir': None, 'idxs': {'x': [6]}, 'vals': {'x': [-3.681398232001807]}}, 'exp_key': None, 'owner': None, 'version': 0, 'book_time': datetime.datetime(2019, 10, 22, 11, 13, 26, 733000), 'refresh_time': datetime.datetime(2019, 10, 22, 11, 13, 26, 733000)}\n",
            "{'state': 2, 'tid': 7, 'spec': None, 'result': {'loss': 9.051001479983933, 'status': 'ok'}, 'misc': {'tid': 7, 'cmd': ('domain_attachment', 'FMinIter_Domain'), 'workdir': None, 'idxs': {'x': [7]}, 'vals': {'x': [3.008488238299085]}}, 'exp_key': None, 'owner': None, 'version': 0, 'book_time': datetime.datetime(2019, 10, 22, 11, 13, 26, 734000), 'refresh_time': datetime.datetime(2019, 10, 22, 11, 13, 26, 734000)}\n",
            "{'state': 2, 'tid': 8, 'spec': None, 'result': {'loss': 14.526306247601749, 'status': 'ok'}, 'misc': {'tid': 8, 'cmd': ('domain_attachment', 'FMinIter_Domain'), 'workdir': None, 'idxs': {'x': [8]}, 'vals': {'x': [3.8113391672221653]}}, 'exp_key': None, 'owner': None, 'version': 0, 'book_time': datetime.datetime(2019, 10, 22, 11, 13, 26, 735000), 'refresh_time': datetime.datetime(2019, 10, 22, 11, 13, 26, 735000)}\n",
            "{'state': 2, 'tid': 9, 'spec': None, 'result': {'loss': 1.7057501931694494, 'status': 'ok'}, 'misc': {'tid': 9, 'cmd': ('domain_attachment', 'FMinIter_Domain'), 'workdir': None, 'idxs': {'x': [9]}, 'vals': {'x': [1.3060437179395832]}}, 'exp_key': None, 'owner': None, 'version': 0, 'book_time': datetime.datetime(2019, 10, 22, 11, 13, 26, 735000), 'refresh_time': datetime.datetime(2019, 10, 22, 11, 13, 26, 736000)}\n"
          ],
          "name": "stdout"
        }
      ]
    },
    {
      "cell_type": "markdown",
      "metadata": {
        "id": "qZmbXDAlKYAz",
        "colab_type": "text"
      },
      "source": [
        "The trials object stores data as a BSON object, which works just like a JSON object. BSON is from the pymongo module. We will not discuss the details here, but there are advanced options for hyperopt that require distributed computing using MongoDB, hence the pymongo import.\n",
        "\n",
        "Back to the output above. The 'tid' is the time id, that is, the time step, which goes from 0 to max_evals-1. It increases by one each iteration. 'x' is in the 'vals' key, which is where your parameters are stored for each iteration. 'loss' is in the 'result' key, which gives us the value for our objective function at that iteration.\n",
        "\n",
        "Let's look at this in another way.\n",
        "\n",
        "> If we look at the results, the best is: `{'x': 1.3060437179395832}`\n",
        "So the loss is lowest and we can see this in the trials data - the lowest loss occurs for that particular x value"
      ]
    },
    {
      "cell_type": "code",
      "metadata": {
        "id": "O7uoEppHMfd8",
        "colab_type": "code",
        "colab": {
          "base_uri": "https://localhost:8080/",
          "height": 122
        },
        "outputId": "5aaaa2c7-816c-4a14-c08b-c89e85616c8b"
      },
      "source": [
        "from hyperopt import fmin, tpe, hp, STATUS_OK, Trials\n",
        "\n",
        "fspace = {\n",
        "    'x': hp.uniform('x', -5, 5)\n",
        "}\n",
        "\n",
        "def f(params):\n",
        "    x = params['x']\n",
        "    val = x**2\n",
        "    return {'loss': val, 'status': STATUS_OK}\n",
        "\n",
        "trials = Trials()\n",
        "best = fmin(fn=f, space=fspace, algo=tpe.suggest, max_evals=10000, trials=trials)\n",
        "\n",
        "print ('best:', best)\n",
        "\n",
        "print ('trials:')\n",
        "for trial in trials.trials[:2]:\n",
        "    print (trial)"
      ],
      "execution_count": 33,
      "outputs": [
        {
          "output_type": "stream",
          "text": [
            "100%|██████████| 10000/10000 [06:11<00:00, 13.71it/s, best loss: 6.411478772166944e-10]\n",
            "best: {'x': -2.532089803337738e-05}\n",
            "trials:\n",
            "{'state': 2, 'tid': 0, 'spec': None, 'result': {'loss': 16.125300794288993, 'status': 'ok'}, 'misc': {'tid': 0, 'cmd': ('domain_attachment', 'FMinIter_Domain'), 'workdir': None, 'idxs': {'x': [0]}, 'vals': {'x': [-4.015632054146519]}}, 'exp_key': None, 'owner': None, 'version': 0, 'book_time': datetime.datetime(2019, 10, 22, 11, 22, 1, 350000), 'refresh_time': datetime.datetime(2019, 10, 22, 11, 22, 1, 350000)}\n",
            "{'state': 2, 'tid': 1, 'spec': None, 'result': {'loss': 3.724093570007394, 'status': 'ok'}, 'misc': {'tid': 1, 'cmd': ('domain_attachment', 'FMinIter_Domain'), 'workdir': None, 'idxs': {'x': [1]}, 'vals': {'x': [1.9297910690039464]}}, 'exp_key': None, 'owner': None, 'version': 0, 'book_time': datetime.datetime(2019, 10, 22, 11, 22, 1, 355000), 'refresh_time': datetime.datetime(2019, 10, 22, 11, 22, 1, 355000)}\n"
          ],
          "name": "stdout"
        }
      ]
    },
    {
      "cell_type": "markdown",
      "metadata": {
        "id": "OmUW6AT-MuRK",
        "colab_type": "text"
      },
      "source": [
        "### Visualization\n",
        "\n",
        "We'll go over two types of visualizations here: val vs. time, and loss vs. val. First, val vs. time. Below is the code and sample output for plotting the trials.trials data described above.\n",
        "\n"
      ]
    },
    {
      "cell_type": "code",
      "metadata": {
        "id": "eNp2SpCxMsPS",
        "colab_type": "code",
        "colab": {
          "base_uri": "https://localhost:8080/",
          "height": 322
        },
        "outputId": "151d3aba-662e-418c-8d49-50a252dc05c6"
      },
      "source": [
        "import matplotlib.pyplot as plt\n",
        "\n",
        "f, ax = plt.subplots(1)\n",
        "xs = [t['tid'] for t in trials.trials]\n",
        "ys = [t['misc']['vals']['x'] for t in trials.trials]\n",
        "ax.set_xlim(xs[0]-10, xs[-1]+10)\n",
        "ax.scatter(xs, ys, s=20, linewidth=0.01, alpha=0.75)\n",
        "ax.set_title('$x$ $vs$ $t$ ', fontsize=18)\n",
        "ax.set_xlabel('$t$', fontsize=16)\n",
        "ax.set_ylabel('$x$', fontsize=16)"
      ],
      "execution_count": 34,
      "outputs": [
        {
          "output_type": "execute_result",
          "data": {
            "text/plain": [
              "Text(0, 0.5, '$x$')"
            ]
          },
          "metadata": {
            "tags": []
          },
          "execution_count": 34
        },
        {
          "output_type": "display_data",
          "data": {
            "image/png": "[encoded data removed]",
            "text/plain": [
              "<Figure size 432x288 with 1 Axes>"
            ]
          },
          "metadata": {
            "tags": []
          }
        }
      ]
    },
    {
      "cell_type": "markdown",
      "metadata": {
        "id": "RJXBptxCNWfC",
        "colab_type": "text"
      },
      "source": [
        "We can see that initially the algorithm picks values from the whole range equally (uniformly), but as time goes on and more is learned about the parameter's effect on the objective function, the algorithm focuses more and more on areas in which it thinks it will gain the most - the range close to zero. It still explores the whole solution space, but less frequently.\n",
        "\n",
        "Now let's look at the plot of loss/val vs. x.\n",
        "\n"
      ]
    },
    {
      "cell_type": "code",
      "metadata": {
        "id": "AJtH8gDMM2v_",
        "colab_type": "code",
        "colab": {
          "base_uri": "https://localhost:8080/",
          "height": 321
        },
        "outputId": "63a789cc-e18a-48c6-deda-a5abde262dea"
      },
      "source": [
        "f, ax = plt.subplots(1)\n",
        "xs = [t['misc']['vals']['x'] for t in trials.trials]\n",
        "ys = [t['result']['loss'] for t in trials.trials]\n",
        "ax.scatter(xs, ys, s=20, linewidth=0.01, alpha=0.75)\n",
        "ax.set_title('$val$ $vs$ $x$ ', fontsize=18)\n",
        "ax.set_xlabel('$x$', fontsize=16)\n",
        "ax.set_ylabel('$val$', fontsize=16)"
      ],
      "execution_count": 35,
      "outputs": [
        {
          "output_type": "execute_result",
          "data": {
            "text/plain": [
              "Text(0, 0.5, '$val$')"
            ]
          },
          "metadata": {
            "tags": []
          },
          "execution_count": 35
        },
        {
          "output_type": "display_data",
          "data": {
            "image/png": "[encoded data removed]",
            "text/plain": [
              "<Figure size 432x288 with 1 Axes>"
            ]
          },
          "metadata": {
            "tags": []
          }
        }
      ]
    }
  ]
}