{
  "nbformat": 4,
  "nbformat_minor": 0,
  "metadata": {
    "colab": {
      "name": "Parameter Tuning with Hyperopt.ipynb",
      "provenance": [],
      "collapsed_sections": [],
      "include_colab_link": true
    },
    "kernelspec": {
      "name": "python3",
      "display_name": "Python 3"
    }
  },
  "cells": [
    {
      "cell_type": "markdown",
      "metadata": {
        "id": "view-in-github",
        "colab_type": "text"
      },
      "source": [
        "<a href=\"https://colab.research.google.com/github/ShaunakSen/Data-Science-and-Machine-Learning/blob/master/Parameter_Tuning_with_Hyperopt.ipynb\" target=\"_parent\"><img src=\"https://colab.research.google.com/assets/colab-badge.svg\" alt=\"Open In Colab\"/></a>"
      ]
    },
    {
      "cell_type": "markdown",
      "metadata": {
        "id": "Kn2NTeol-0uT",
        "colab_type": "text"
      },
      "source": [
        "## Parameter Tuning with Hyperopt\n",
        "\n",
        "[tutorial link](https://districtdatalabs.silvrback.com/parameter-tuning-with-hyperopt)\n",
        "\n",
        "There are two common methods of parameter tuning: grid search and random search. Each have their pros and cons. Grid search is slow but effective at searching the whole search space, while random search is fast, but could miss important points in the search space. Luckily, a third option exists: Bayesian optimization. In this post, we will focus on one implementation of Bayesian optimization, a Python module called hyperopt.\n",
        "\n",
        "Using Bayesian optimization for parameter tuning allows us to obtain the best parameters for a given model, e.g., logistic regression. This also allows us to perform optimal model selection. Typically, a machine learning engineer or data scientist will perform some form of manual parameter tuning (grid search or random search) for a few models - like decision tree, support vector machine, and k nearest neighbors - then compare the accuracy scores and select the best one for use. This method has the possibility of comparing sub-optimal models. Maybe the data scientist found the optimal parameters for the decision tree, but missed the optimal parameters for SVM. This means their model comparison was flawed. K nearest neighbors may beat SVM every time if the SVM parameters are poorly tuned. Bayesian optimization allow the data scientist to find the best parameters for all models, and therefore compare the best models. This results in better model selection, because you are comparing the best k nearest neighbors to the best decision tree.\n",
        "\n",
        "### Objective Functions - A Motivating Example\n",
        "\n",
        "Suppose you have a function defined over some range, and you want to minimize it. That is, you want to find the input value that result in the lowest output value. The trivial example below finds the value of x that minimizes a linear function y(x) = x."
      ]
    },
    {
      "cell_type": "code",
      "metadata": {
        "id": "5gFB5hXX_l3U",
        "colab_type": "code",
        "colab": {}
      },
      "source": [
        "import hyperopt"
      ],
      "execution_count": 0,
      "outputs": []
    },
    {
      "cell_type": "code",
      "metadata": {
        "id": "djX99u3G_npO",
        "colab_type": "code",
        "colab": {
          "base_uri": "https://localhost:8080/",
          "height": 51
        },
        "outputId": "63cd4568-4a60-4ef5-982c-4fc3785093f1"
      },
      "source": [
        "best = hyperopt.fmin(\n",
        "    fn=lambda x:x,\n",
        "    space = hyperopt.hp.uniform('x', 0, 1),\n",
        "    algo = hyperopt.tpe.suggest,\n",
        "    max_evals = 100\n",
        ")\n",
        "\n",
        "print (best)"
      ],
      "execution_count": 5,
      "outputs": [
        {
          "output_type": "stream",
          "text": [
            "100%|██████████| 100/100 [00:00<00:00, 425.62it/s, best loss: 0.0005860873247447989]\n",
            "{'x': 0.0005860873247447989}\n"
          ],
          "name": "stdout"
        }
      ]
    },
    {
      "cell_type": "markdown",
      "metadata": {
        "id": "aNMqEkBxBiBN",
        "colab_type": "text"
      },
      "source": [
        "Let's break this down.\n",
        "\n",
        "The function fmin first takes a function to minimize, denoted fn, which we here specify with an anonymous function lambda x: x. This function could be any valid value-returning function, such as mean absolute error in regression.\n",
        "\n",
        "The next parameter specifies the search space, and in this example it is the continuous range of numbers between 0 and 1, specified by hp.uniform('x', 0, 1). hp.uniform is a built-in hyperopt function that takes three parameters: the name, x, and the lower and upper bound of the range, 0 and 1.\n",
        "\n",
        "The parameter algo takes a search algorithm, in this case tpe which stands for tree of Parzen estimators. This topic is beyond the scope of this blog post, but the mathochistic reader may peruse this for details. The algo parameter can also be set to hyperopt.random, but we do not cover that here as it is widely known search strategy. However, in a future post, we can.\n",
        "\n",
        "Finally, we specify the maximum number of evaluations max_evals the fmin function will perform. This fmin function returns a python dictionary of values.\n",
        "\n",
        "An example of the output for the function above is {'x': 0.000269455723739237}.\n",
        "\n",
        "Here is the plot of the function. The red dot is the point we are trying to find.\n",
        "\n",
        "![](https://silvrback.s3.amazonaws.com/uploads/403df379-e565-4f7f-81a4-911c8f77ae28/ex1_large.png)\n",
        "\n",
        "#### More Complicated Examples\n",
        "Here is a more complicated objective function: `lambda x: (x-1)**2`. This time we are trying to minimize a quadratic equation `y(x) = (x-1)**2`. So we alter the search space to include what we know to be the optimal value (x=1) plus some sub-optimal ranges on either side: hp.uniform('x', -2, 2)."
      ]
    },
    {
      "cell_type": "code",
      "metadata": {
        "id": "S0UWcKhsB1Wu",
        "colab_type": "code",
        "colab": {
          "base_uri": "https://localhost:8080/",
          "height": 51
        },
        "outputId": "d1f13c0e-4d40-401e-850b-18f00de6124b"
      },
      "source": [
        "best = hyperopt.fmin(\n",
        "    fn = lambda x: (x-1)**2,\n",
        "    space= hyperopt.hp.uniform('x', -5, 5),\n",
        "    algo = hyperopt.tpe.suggest,\n",
        "    max_evals = 1000\n",
        ")\n",
        "\n",
        "print (best)"
      ],
      "execution_count": 10,
      "outputs": [
        {
          "output_type": "stream",
          "text": [
            "100%|██████████| 1000/1000 [00:04<00:00, 214.87it/s, best loss: 2.448635558780595e-07]\n",
            "{'x': 1.0004948368982585}\n"
          ],
          "name": "stdout"
        }
      ]
    },
    {
      "cell_type": "markdown",
      "metadata": {
        "id": "iWc_ni0ID75E",
        "colab_type": "text"
      },
      "source": [
        "Here is the plot.\n",
        "\n",
        "![](https://silvrback.s3.amazonaws.com/uploads/7499c5c5-5bd6-4bdb-8030-f82258f686ef/ex2_large.png)\n",
        "\n",
        "Instead of minimizing an objective function, maybe we want to maximize it. To to this we need only return the negative of the function. For example, we could have a function `y(x) = -(x**2):`\n",
        "\n",
        "![](https://silvrback.s3.amazonaws.com/uploads/04d36416-60fe-46a3-9cf4-7645b7059989/ex3_large.png)\n",
        "\n",
        "How could we go about solving this? We just take the objective function `lambda x: -(x**2) and return the negative, giving lambda x: -1*-(x**2) or just lambda x: (x**2).`\n",
        "\n",
        "Here is a function with many (infinitely many given an infinite range) local minima, which we are also trying to maximize:\n",
        "\n",
        "![](https://silvrback.s3.amazonaws.com/uploads/661ff1fe-740b-4112-86dc-7f583184d143/ex5_large.png)\n",
        "\n",
        "\n",
        "### Search Spaces\n",
        "\n",
        "\n",
        "The hyperopt module includes a few handy functions to specify ranges for input parameters. We have already seen hp.uniform. Initially, these are stochastic search spaces, but as hyperopt learns more (as it gets more feedback from the objective function), it adapts and samples different parts of the initial search space that it thinks will give it the most meaningful feedback.\n",
        "\n",
        "The following will be used in this post:\n",
        "\n",
        "- hp.choice(label, options) where options should be a python list or tuple.\n",
        "- hp.normal(label, mu, sigma) where mu and sigma are the mean and standard deviation, respectively.\n",
        "- hp.uniform(label, low, high) where low and high are the lower and upper bounds on the range.\n",
        "\n",
        "To see some draws from the search space, we should import another function, and define the search space.\n",
        "\n"
      ]
    },
    {
      "cell_type": "code",
      "metadata": {
        "id": "ZrEU0X_FHWL8",
        "colab_type": "code",
        "colab": {
          "base_uri": "https://localhost:8080/",
          "height": 34
        },
        "outputId": "43ec49bb-8259-4872-fd21-c8b269e915ff"
      },
      "source": [
        "import hyperopt.pyll.stochastic\n",
        "\n",
        "space = {\n",
        "    'x': hyperopt.hp.uniform('x', 0, 1),\n",
        "    'y': hyperopt.hp.normal('y', 0, 1),\n",
        "    'name': hyperopt.hp.choice('name', ['alice', 'bob']),\n",
        "}\n",
        "\n",
        "\n",
        "# Try running this a few times and to see the different samples.\n",
        "\n",
        "print (hyperopt.pyll.stochastic.sample(space))\n"
      ],
      "execution_count": 21,
      "outputs": [
        {
          "output_type": "stream",
          "text": [
            "{'name': 'bob', 'x': 0.09423803910588446, 'y': -0.9555273175589711}\n"
          ],
          "name": "stdout"
        }
      ]
    },
    {
      "cell_type": "markdown",
      "metadata": {
        "id": "ieH5Ma1XHxub",
        "colab_type": "text"
      },
      "source": [
        "### Capturing Info with Trials\n",
        "\n",
        "It would be nice to see exactly what is happening inside the hyperopt black box. The Trials object allows us to do just that. We need only import a few more items.\n",
        "\n"
      ]
    },
    {
      "cell_type": "code",
      "metadata": {
        "id": "vGVJCtwBH8LI",
        "colab_type": "code",
        "colab": {
          "base_uri": "https://localhost:8080/",
          "height": 258
        },
        "outputId": "251845ae-c468-44c2-a55a-1bf7445b7a7c"
      },
      "source": [
        "fspace = {\n",
        "    'x': hyperopt.hp.uniform('x', -5, 5)\n",
        "}\n",
        "\n",
        "def f(params):\n",
        "    x = params['x']\n",
        "    val = x**2\n",
        "    return {'loss': val, 'status': hyperopt.STATUS_OK}\n",
        "\n",
        "trials = hyperopt.Trials()\n",
        "\n",
        "best = hyperopt.fmin(fn=f, space=fspace, algo=hyperopt.tpe.suggest, max_evals=10, trials=trials)\n",
        "\n",
        "print (best)\n",
        "\n",
        "print ('trials:')\n",
        "for trial in trials.trials[:10]:\n",
        "    print (trial)"
      ],
      "execution_count": 29,
      "outputs": [
        {
          "output_type": "stream",
          "text": [
            "100%|██████████| 10/10 [00:00<00:00, 787.68it/s, best loss: 1.7057501931694494]\n",
            "{'x': 1.3060437179395832}\n",
            "trials:\n",
            "{'state': 2, 'tid': 0, 'spec': None, 'result': {'loss': 10.495759272532467, 'status': 'ok'}, 'misc': {'tid': 0, 'cmd': ('domain_attachment', 'FMinIter_Domain'), 'workdir': None, 'idxs': {'x': [0]}, 'vals': {'x': [3.23971592466569]}}, 'exp_key': None, 'owner': None, 'version': 0, 'book_time': datetime.datetime(2019, 10, 22, 11, 13, 26, 725000), 'refresh_time': datetime.datetime(2019, 10, 22, 11, 13, 26, 726000)}\n",
            "{'state': 2, 'tid': 1, 'spec': None, 'result': {'loss': 7.39795888552516, 'status': 'ok'}, 'misc': {'tid': 1, 'cmd': ('domain_attachment', 'FMinIter_Domain'), 'workdir': None, 'idxs': {'x': [1]}, 'vals': {'x': [-2.7199189115716593]}}, 'exp_key': None, 'owner': None, 'version': 0, 'book_time': datetime.datetime(2019, 10, 22, 11, 13, 26, 727000), 'refresh_time': datetime.datetime(2019, 10, 22, 11, 13, 26, 728000)}\n",
            "{'state': 2, 'tid': 2, 'spec': None, 'result': {'loss': 18.94292452237518, 'status': 'ok'}, 'misc': {'tid': 2, 'cmd': ('domain_attachment', 'FMinIter_Domain'), 'workdir': None, 'idxs': {'x': [2]}, 'vals': {'x': [-4.352347013092497]}}, 'exp_key': None, 'owner': None, 'version': 0, 'book_time': datetime.datetime(2019, 10, 22, 11, 13, 26, 729000), 'refresh_time': datetime.datetime(2019, 10, 22, 11, 13, 26, 729000)}\n",
            "{'state': 2, 'tid': 3, 'spec': None, 'result': {'loss': 24.176314947823165, 'status': 'ok'}, 'misc': {'tid': 3, 'cmd': ('domain_attachment', 'FMinIter_Domain'), 'workdir': None, 'idxs': {'x': [3]}, 'vals': {'x': [-4.916941625423589]}}, 'exp_key': None, 'owner': None, 'version': 0, 'book_time': datetime.datetime(2019, 10, 22, 11, 13, 26, 730000), 'refresh_time': datetime.datetime(2019, 10, 22, 11, 13, 26, 730000)}\n",
            "{'state': 2, 'tid': 4, 'spec': None, 'result': {'loss': 6.692211750392693, 'status': 'ok'}, 'misc': {'tid': 4, 'cmd': ('domain_attachment', 'FMinIter_Domain'), 'workdir': None, 'idxs': {'x': [4]}, 'vals': {'x': [2.5869309519955674]}}, 'exp_key': None, 'owner': None, 'version': 0, 'book_time': datetime.datetime(2019, 10, 22, 11, 13, 26, 731000), 'refresh_time': datetime.datetime(2019, 10, 22, 11, 13, 26, 731000)}\n",
            "{'state': 2, 'tid': 5, 'spec': None, 'result': {'loss': 1.828347256685314, 'status': 'ok'}, 'misc': {'tid': 5, 'cmd': ('domain_attachment', 'FMinIter_Domain'), 'workdir': None, 'idxs': {'x': [5]}, 'vals': {'x': [1.352163916352346]}}, 'exp_key': None, 'owner': None, 'version': 0, 'book_time': datetime.datetime(2019, 10, 22, 11, 13, 26, 732000), 'refresh_time': datetime.datetime(2019, 10, 22, 11, 13, 26, 732000)}\n",
            "{'state': 2, 'tid': 6, 'spec': None, 'result': {'loss': 13.55269294258603, 'status': 'ok'}, 'misc': {'tid': 6, 'cmd': ('domain_attachment', 'FMinIter_Domain'), 'workdir': None, 'idxs': {'x': [6]}, 'vals': {'x': [-3.681398232001807]}}, 'exp_key': None, 'owner': None, 'version': 0, 'book_time': datetime.datetime(2019, 10, 22, 11, 13, 26, 733000), 'refresh_time': datetime.datetime(2019, 10, 22, 11, 13, 26, 733000)}\n",
            "{'state': 2, 'tid': 7, 'spec': None, 'result': {'loss': 9.051001479983933, 'status': 'ok'}, 'misc': {'tid': 7, 'cmd': ('domain_attachment', 'FMinIter_Domain'), 'workdir': None, 'idxs': {'x': [7]}, 'vals': {'x': [3.008488238299085]}}, 'exp_key': None, 'owner': None, 'version': 0, 'book_time': datetime.datetime(2019, 10, 22, 11, 13, 26, 734000), 'refresh_time': datetime.datetime(2019, 10, 22, 11, 13, 26, 734000)}\n",
            "{'state': 2, 'tid': 8, 'spec': None, 'result': {'loss': 14.526306247601749, 'status': 'ok'}, 'misc': {'tid': 8, 'cmd': ('domain_attachment', 'FMinIter_Domain'), 'workdir': None, 'idxs': {'x': [8]}, 'vals': {'x': [3.8113391672221653]}}, 'exp_key': None, 'owner': None, 'version': 0, 'book_time': datetime.datetime(2019, 10, 22, 11, 13, 26, 735000), 'refresh_time': datetime.datetime(2019, 10, 22, 11, 13, 26, 735000)}\n",
            "{'state': 2, 'tid': 9, 'spec': None, 'result': {'loss': 1.7057501931694494, 'status': 'ok'}, 'misc': {'tid': 9, 'cmd': ('domain_attachment', 'FMinIter_Domain'), 'workdir': None, 'idxs': {'x': [9]}, 'vals': {'x': [1.3060437179395832]}}, 'exp_key': None, 'owner': None, 'version': 0, 'book_time': datetime.datetime(2019, 10, 22, 11, 13, 26, 735000), 'refresh_time': datetime.datetime(2019, 10, 22, 11, 13, 26, 736000)}\n"
          ],
          "name": "stdout"
        }
      ]
    },
    {
      "cell_type": "markdown",
      "metadata": {
        "id": "qZmbXDAlKYAz",
        "colab_type": "text"
      },
      "source": [
        "The trials object stores data as a BSON object, which works just like a JSON object. BSON is from the pymongo module. We will not discuss the details here, but there are advanced options for hyperopt that require distributed computing using MongoDB, hence the pymongo import.\n",
        "\n",
        "Back to the output above. The 'tid' is the time id, that is, the time step, which goes from 0 to max_evals-1. It increases by one each iteration. 'x' is in the 'vals' key, which is where your parameters are stored for each iteration. 'loss' is in the 'result' key, which gives us the value for our objective function at that iteration.\n",
        "\n",
        "Let's look at this in another way.\n",
        "\n",
        "> If we look at the results, the best is: `{'x': 1.3060437179395832}`\n",
        "So the loss is lowest and we can see this in the trials data - the lowest loss occurs for that particular x value"
      ]
    },
    {
      "cell_type": "code",
      "metadata": {
        "id": "O7uoEppHMfd8",
        "colab_type": "code",
        "colab": {
          "base_uri": "https://localhost:8080/",
          "height": 122
        },
        "outputId": "5aaaa2c7-816c-4a14-c08b-c89e85616c8b"
      },
      "source": [
        "from hyperopt import fmin, tpe, hp, STATUS_OK, Trials\n",
        "\n",
        "fspace = {\n",
        "    'x': hp.uniform('x', -5, 5)\n",
        "}\n",
        "\n",
        "def f(params):\n",
        "    x = params['x']\n",
        "    val = x**2\n",
        "    return {'loss': val, 'status': STATUS_OK}\n",
        "\n",
        "trials = Trials()\n",
        "best = fmin(fn=f, space=fspace, algo=tpe.suggest, max_evals=10000, trials=trials)\n",
        "\n",
        "print ('best:', best)\n",
        "\n",
        "print ('trials:')\n",
        "for trial in trials.trials[:2]:\n",
        "    print (trial)"
      ],
      "execution_count": 33,
      "outputs": [
        {
          "output_type": "stream",
          "text": [
            "100%|██████████| 10000/10000 [06:11<00:00, 13.71it/s, best loss: 6.411478772166944e-10]\n",
            "best: {'x': -2.532089803337738e-05}\n",
            "trials:\n",
            "{'state': 2, 'tid': 0, 'spec': None, 'result': {'loss': 16.125300794288993, 'status': 'ok'}, 'misc': {'tid': 0, 'cmd': ('domain_attachment', 'FMinIter_Domain'), 'workdir': None, 'idxs': {'x': [0]}, 'vals': {'x': [-4.015632054146519]}}, 'exp_key': None, 'owner': None, 'version': 0, 'book_time': datetime.datetime(2019, 10, 22, 11, 22, 1, 350000), 'refresh_time': datetime.datetime(2019, 10, 22, 11, 22, 1, 350000)}\n",
            "{'state': 2, 'tid': 1, 'spec': None, 'result': {'loss': 3.724093570007394, 'status': 'ok'}, 'misc': {'tid': 1, 'cmd': ('domain_attachment', 'FMinIter_Domain'), 'workdir': None, 'idxs': {'x': [1]}, 'vals': {'x': [1.9297910690039464]}}, 'exp_key': None, 'owner': None, 'version': 0, 'book_time': datetime.datetime(2019, 10, 22, 11, 22, 1, 355000), 'refresh_time': datetime.datetime(2019, 10, 22, 11, 22, 1, 355000)}\n"
          ],
          "name": "stdout"
        }
      ]
    },
    {
      "cell_type": "markdown",
      "metadata": {
        "id": "OmUW6AT-MuRK",
        "colab_type": "text"
      },
      "source": [
        "### Visualization\n",
        "\n",
        "We'll go over two types of visualizations here: val vs. time, and loss vs. val. First, val vs. time. Below is the code and sample output for plotting the trials.trials data described above.\n",
        "\n"
      ]
    },
    {
      "cell_type": "code",
      "metadata": {
        "id": "eNp2SpCxMsPS",
        "colab_type": "code",
        "colab": {
          "base_uri": "https://localhost:8080/",
          "height": 322
        },
        "outputId": "151d3aba-662e-418c-8d49-50a252dc05c6"
      },
      "source": [
        "import matplotlib.pyplot as plt\n",
        "\n",
        "f, ax = plt.subplots(1)\n",
        "xs = [t['tid'] for t in trials.trials]\n",
        "ys = [t['misc']['vals']['x'] for t in trials.trials]\n",
        "ax.set_xlim(xs[0]-10, xs[-1]+10)\n",
        "ax.scatter(xs, ys, s=20, linewidth=0.01, alpha=0.75)\n",
        "ax.set_title('$x$ $vs$ $t$ ', fontsize=18)\n",
        "ax.set_xlabel('$t$', fontsize=16)\n",
        "ax.set_ylabel('$x$', fontsize=16)"
      ],
      "execution_count": 34,
      "outputs": [
        {
          "output_type": "execute_result",
          "data": {
            "text/plain": [
              "Text(0, 0.5, '$x$')"
            ]
          },
          "metadata": {
            "tags": []
          },
          "execution_count": 34
        },
        {
          "output_type": "display_data",
          "data": {
            "image/png": "[encoded data removed]",
            "text/plain": [
              "<Figure size 432x288 with 1 Axes>"
            ]
          },
          "metadata": {
            "tags": []
          }
        }
      ]
    },
    {
      "cell_type": "markdown",
      "metadata": {
        "id": "RJXBptxCNWfC",
        "colab_type": "text"
      },
      "source": [
        "We can see that initially the algorithm picks values from the whole range equally (uniformly), but as time goes on and more is learned about the parameter's effect on the objective function, the algorithm focuses more and more on areas in which it thinks it will gain the most - the range close to zero. It still explores the whole solution space, but less frequently.\n",
        "\n",
        "Now let's look at the plot of loss/val vs. x.\n",
        "\n"
      ]
    },
    {
      "cell_type": "code",
      "metadata": {
        "id": "AJtH8gDMM2v_",
        "colab_type": "code",
        "colab": {
          "base_uri": "https://localhost:8080/",
          "height": 321
        },
        "outputId": "63a789cc-e18a-48c6-deda-a5abde262dea"
      },
      "source": [
        "f, ax = plt.subplots(1)\n",
        "xs = [t['misc']['vals']['x'] for t in trials.trials]\n",
        "ys = [t['result']['loss'] for t in trials.trials]\n",
        "ax.scatter(xs, ys, s=20, linewidth=0.01, alpha=0.75)\n",
        "ax.set_title('$val$ $vs$ $x$ ', fontsize=18)\n",
        "ax.set_xlabel('$x$', fontsize=16)\n",
        "ax.set_ylabel('$val$', fontsize=16)"
      ],
      "execution_count": 35,
      "outputs": [
        {
          "output_type": "execute_result",
          "data": {
            "text/plain": [
              "Text(0, 0.5, '$val$')"
            ]
          },
          "metadata": {
            "tags": []
          },
          "execution_count": 35
        },
        {
          "output_type": "display_data",
          "data": {
            "image/png": "[encoded data removed]",
            "text/plain": [
              "<Figure size 432x288 with 1 Axes>"
            ]
          },
          "metadata": {
            "tags": []
          }
        }
      ]
    },
    {
      "cell_type": "markdown",
      "metadata": {
        "id": "2ths_JNGOqRQ",
        "colab_type": "text"
      },
      "source": [
        "### The Iris Dataset\n",
        "\n",
        "In this section, we'll walk through 4 full examples of using hyperopt for parameter tuning on a classic dataset, Iris. We will cover K-Nearest Neighbors (KNN), Support Vector Machines (SVM), Decision Trees, and Random Forests. Note that since we are trying to maximize the cross-validation accuracy (acc in the code below), we must negate this value for hyperopt, since hyperopt only knows how to minimize a function. Minimizing a function f is the same as maximizing the negative of f.\n",
        "\n",
        "For this task, we'll use the classic Iris data set, and do some supervised machine learning. There are 4 input features, and three output classes. The data are labeled as belonging to class 0, 1, or 2, which map to different kinds of Iris flower. The input has 4 columns: sepal length, sepal width, petal length, and pedal width. Units of the input are centimeters. We will use these 4 features to learn a model that predicts one of three output classes. Since the data is provided by sklearn, it has a nice DESCR attribute that provides details on the data set. Try the following for more details.\n",
        "\n"
      ]
    },
    {
      "cell_type": "code",
      "metadata": {
        "id": "yH89mSLqO9-J",
        "colab_type": "code",
        "colab": {
          "base_uri": "https://localhost:8080/",
          "height": 1000
        },
        "outputId": "94465027-6943-4215-bf7a-b2a40d17cd04"
      },
      "source": [
        "from sklearn.datasets import load_iris\n",
        "\n",
        "iris = load_iris()\n",
        "\n",
        "print (iris.DESCR)"
      ],
      "execution_count": 38,
      "outputs": [
        {
          "output_type": "stream",
          "text": [
            ".. _iris_dataset:\n",
            "\n",
            "Iris plants dataset\n",
            "--------------------\n",
            "\n",
            "**Data Set Characteristics:**\n",
            "\n",
            "    :Number of Instances: 150 (50 in each of three classes)\n",
            "    :Number of Attributes: 4 numeric, predictive attributes and the class\n",
            "    :Attribute Information:\n",
            "        - sepal length in cm\n",
            "        - sepal width in cm\n",
            "        - petal length in cm\n",
            "        - petal width in cm\n",
            "        - class:\n",
            "                - Iris-Setosa\n",
            "                - Iris-Versicolour\n",
            "                - Iris-Virginica\n",
            "                \n",
            "    :Summary Statistics:\n",
            "\n",
            "    ============== ==== ==== ======= ===== ====================\n",
            "                    Min  Max   Mean    SD   Class Correlation\n",
            "    ============== ==== ==== ======= ===== ====================\n",
            "    sepal length:   4.3  7.9   5.84   0.83    0.7826\n",
            "    sepal width:    2.0  4.4   3.05   0.43   -0.4194\n",
            "    petal length:   1.0  6.9   3.76   1.76    0.9490  (high!)\n",
            "    petal width:    0.1  2.5   1.20   0.76    0.9565  (high!)\n",
            "    ============== ==== ==== ======= ===== ====================\n",
            "\n",
            "    :Missing Attribute Values: None\n",
            "    :Class Distribution: 33.3% for each of 3 classes.\n",
            "    :Creator: R.A. Fisher\n",
            "    :Donor: Michael Marshall (MARSHALL%PLU@io.arc.nasa.gov)\n",
            "    :Date: July, 1988\n",
            "\n",
            "The famous Iris database, first used by Sir R.A. Fisher. The dataset is taken\n",
            "from Fisher's paper. Note that it's the same as in R, but not as in the UCI\n",
            "Machine Learning Repository, which has two wrong data points.\n",
            "\n",
            "This is perhaps the best known database to be found in the\n",
            "pattern recognition literature.  Fisher's paper is a classic in the field and\n",
            "is referenced frequently to this day.  (See Duda & Hart, for example.)  The\n",
            "data set contains 3 classes of 50 instances each, where each class refers to a\n",
            "type of iris plant.  One class is linearly separable from the other 2; the\n",
            "latter are NOT linearly separable from each other.\n",
            "\n",
            ".. topic:: References\n",
            "\n",
            "   - Fisher, R.A. \"The use of multiple measurements in taxonomic problems\"\n",
            "     Annual Eugenics, 7, Part II, 179-188 (1936); also in \"Contributions to\n",
            "     Mathematical Statistics\" (John Wiley, NY, 1950).\n",
            "   - Duda, R.O., & Hart, P.E. (1973) Pattern Classification and Scene Analysis.\n",
            "     (Q327.D83) John Wiley & Sons.  ISBN 0-471-22361-1.  See page 218.\n",
            "   - Dasarathy, B.V. (1980) \"Nosing Around the Neighborhood: A New System\n",
            "     Structure and Classification Rule for Recognition in Partially Exposed\n",
            "     Environments\".  IEEE Transactions on Pattern Analysis and Machine\n",
            "     Intelligence, Vol. PAMI-2, No. 1, 67-71.\n",
            "   - Gates, G.W. (1972) \"The Reduced Nearest Neighbor Rule\".  IEEE Transactions\n",
            "     on Information Theory, May 1972, 431-433.\n",
            "   - See also: 1988 MLC Proceedings, 54-64.  Cheeseman et al\"s AUTOCLASS II\n",
            "     conceptual clustering system finds 3 classes in the data.\n",
            "   - Many, many more ...\n"
          ],
          "name": "stdout"
        }
      ]
    },
    {
      "cell_type": "code",
      "metadata": {
        "id": "rAm0ZkdsPjMf",
        "colab_type": "code",
        "colab": {
          "base_uri": "https://localhost:8080/",
          "height": 51
        },
        "outputId": "7ea51bfc-9325-4468-8679-f5b283ee304c"
      },
      "source": [
        "print (iris.feature_names)\n",
        "\n",
        "print (iris.target_names)"
      ],
      "execution_count": 39,
      "outputs": [
        {
          "output_type": "stream",
          "text": [
            "['sepal length (cm)', 'sepal width (cm)', 'petal length (cm)', 'petal width (cm)']\n",
            "['setosa' 'versicolor' 'virginica']\n"
          ],
          "name": "stdout"
        }
      ]
    },
    {
      "cell_type": "code",
      "metadata": {
        "id": "zzSYolLxPmrL",
        "colab_type": "code",
        "colab": {
          "base_uri": "https://localhost:8080/",
          "height": 221
        },
        "outputId": "09909a93-c74e-490d-d398-0a6fe922dfec"
      },
      "source": [
        "import seaborn as sns\n",
        "import pandas as pd \n",
        "\n",
        "sns.set(style=\"whitegrid\", palette=\"husl\")\n",
        "\n",
        "iris = sns.load_dataset(\"iris\")\n",
        "print (iris.head())\n",
        "\n",
        "iris = pd.melt(iris, \"species\", var_name=\"measurement\")\n",
        "print (iris.head())\n"
      ],
      "execution_count": 43,
      "outputs": [
        {
          "output_type": "stream",
          "text": [
            "   sepal_length  sepal_width  petal_length  petal_width species\n",
            "0           5.1          3.5           1.4          0.2  setosa\n",
            "1           4.9          3.0           1.4          0.2  setosa\n",
            "2           4.7          3.2           1.3          0.2  setosa\n",
            "3           4.6          3.1           1.5          0.2  setosa\n",
            "4           5.0          3.6           1.4          0.2  setosa\n",
            "  species   measurement  value\n",
            "0  setosa  sepal_length    5.1\n",
            "1  setosa  sepal_length    4.9\n",
            "2  setosa  sepal_length    4.7\n",
            "3  setosa  sepal_length    4.6\n",
            "4  setosa  sepal_length    5.0\n"
          ],
          "name": "stdout"
        }
      ]
    },
    {
      "cell_type": "code",
      "metadata": {
        "id": "nZ2aoFpMQAg7",
        "colab_type": "code",
        "colab": {
          "base_uri": "https://localhost:8080/",
          "height": 618
        },
        "outputId": "eb2c6aec-78c6-450a-c92d-b9eb575c60e8"
      },
      "source": [
        "\n",
        "f, ax = plt.subplots(1, figsize=(15,10))\n",
        "sns.stripplot(x=\"measurement\", y=\"value\", hue=\"species\", data=iris, jitter=True, edgecolor=\"white\", ax=ax);"
      ],
      "execution_count": 45,
      "outputs": [
        {
          "output_type": "display_data",
          "data": {
            "image/png": "[encoded data removed]",
            "text/plain": [
              "<Figure size 1080x720 with 1 Axes>"
            ]
          },
          "metadata": {
            "tags": []
          }
        }
      ]
    },
    {
      "cell_type": "markdown",
      "metadata": {
        "id": "xQx9JhV5QxMq",
        "colab_type": "text"
      },
      "source": [
        "### K-Nearest Neighbors\n",
        "\n",
        "We now apply hyperopt to finding the best parameters to a K-Nearest Neighbor (KNN) machine learning model. The KNN model classifies a data point from the test set based on majority class of the k nearest data points in the training data set."
      ]
    },
    {
      "cell_type": "code",
      "metadata": {
        "id": "79yZ6GCxQBBD",
        "colab_type": "code",
        "colab": {
          "base_uri": "https://localhost:8080/",
          "height": 34
        },
        "outputId": "7324b093-4c78-4ac0-c830-0221e486c2c2"
      },
      "source": [
        "iris = load_iris()\n",
        "X = iris.data\n",
        "y = iris.target\n",
        "\n",
        "print (X.shape, y.shape)"
      ],
      "execution_count": 48,
      "outputs": [
        {
          "output_type": "stream",
          "text": [
            "(150, 4) (150,)\n"
          ],
          "name": "stdout"
        }
      ]
    },
    {
      "cell_type": "code",
      "metadata": {
        "id": "Ola26RduRQ9Y",
        "colab_type": "code",
        "colab": {
          "base_uri": "https://localhost:8080/",
          "height": 68
        },
        "outputId": "102e5bd1-ef08-4918-b87b-985ec7227f8b"
      },
      "source": [
        "from sklearn.neighbors import KNeighborsClassifier\n",
        "from sklearn.model_selection import cross_val_score\n",
        "\n",
        "\n",
        "clf = KNeighborsClassifier(**params)\n",
        "\n",
        "scores = cross_val_score(clf, X, y)\n",
        "\n",
        "print (scores)"
      ],
      "execution_count": 50,
      "outputs": [
        {
          "output_type": "stream",
          "text": [
            "[0.98039216 0.98039216 1.        ]\n"
          ],
          "name": "stdout"
        },
        {
          "output_type": "stream",
          "text": [
            "/usr/local/lib/python3.6/dist-packages/sklearn/model_selection/_split.py:1978: FutureWarning: The default value of cv will change from 3 to 5 in version 0.22. Specify it explicitly to silence this warning.\n",
            "  warnings.warn(CV_WARNING, FutureWarning)\n"
          ],
          "name": "stderr"
        }
      ]
    },
    {
      "cell_type": "code",
      "metadata": {
        "id": "IG33NzQzeyFE",
        "colab_type": "code",
        "colab": {
          "base_uri": "https://localhost:8080/",
          "height": 598
        },
        "outputId": "21a5a3c3-c507-44cb-f673-407c40e35b7e"
      },
      "source": [
        "fspace = {\n",
        "    'x': hp.uniform('x', -5, 5)\n",
        "}\n",
        "\n",
        "def f(params):\n",
        "    x = params['x']\n",
        "    print ('trying for x=:',x)\n",
        "    val = x**2\n",
        "    return {'loss': val, 'status': STATUS_OK}\n",
        "\n",
        "trials = Trials()\n",
        "best = fmin(fn=f, space=fspace, algo=tpe.suggest, max_evals=10, trials=trials)\n",
        "\n",
        "print ('best:', best)\n",
        "\n",
        "print ('trials:')\n",
        "for trial in trials.trials:\n",
        "    print (trial)"
      ],
      "execution_count": 72,
      "outputs": [
        {
          "output_type": "stream",
          "text": [
            "trying for x=:\n",
            "0.9717752815361802\n",
            "trying for x=:\n",
            "3.2596363780455313\n",
            "trying for x=:\n",
            "4.683054552519071\n",
            "trying for x=:\n",
            "2.8344033046948898\n",
            "trying for x=:\n",
            "4.144632966510995\n",
            "trying for x=:\n",
            "0.9761518997015877\n",
            "trying for x=:\n",
            "-0.7747308580390557\n",
            "trying for x=:\n",
            "-2.2128550149868476\n",
            "trying for x=:\n",
            "-1.306684653842245\n",
            "trying for x=:\n",
            "-3.7698599757864324\n",
            "100%|██████████| 10/10 [00:00<00:00, 69.79it/s, best loss: 0.6002079023979315]\n",
            "best: {'x': -0.7747308580390557}\n",
            "trials:\n",
            "{'state': 2, 'tid': 0, 'spec': None, 'result': {'loss': 0.9443471978047223, 'status': 'ok'}, 'misc': {'tid': 0, 'cmd': ('domain_attachment', 'FMinIter_Domain'), 'workdir': None, 'idxs': {'x': [0]}, 'vals': {'x': [0.9717752815361802]}}, 'exp_key': None, 'owner': None, 'version': 0, 'book_time': datetime.datetime(2019, 10, 22, 13, 0, 29, 431000), 'refresh_time': datetime.datetime(2019, 10, 22, 13, 0, 29, 446000)}\n",
            "{'state': 2, 'tid': 1, 'spec': None, 'result': {'loss': 10.62522931707779, 'status': 'ok'}, 'misc': {'tid': 1, 'cmd': ('domain_attachment', 'FMinIter_Domain'), 'workdir': None, 'idxs': {'x': [1]}, 'vals': {'x': [3.2596363780455313]}}, 'exp_key': None, 'owner': None, 'version': 0, 'book_time': datetime.datetime(2019, 10, 22, 13, 0, 29, 448000), 'refresh_time': datetime.datetime(2019, 10, 22, 13, 0, 29, 460000)}\n",
            "{'state': 2, 'tid': 2, 'spec': None, 'result': {'loss': 21.930999941869594, 'status': 'ok'}, 'misc': {'tid': 2, 'cmd': ('domain_attachment', 'FMinIter_Domain'), 'workdir': None, 'idxs': {'x': [2]}, 'vals': {'x': [4.683054552519071]}}, 'exp_key': None, 'owner': None, 'version': 0, 'book_time': datetime.datetime(2019, 10, 22, 13, 0, 29, 463000), 'refresh_time': datetime.datetime(2019, 10, 22, 13, 0, 29, 476000)}\n",
            "{'state': 2, 'tid': 3, 'spec': None, 'result': {'loss': 8.033842093665312, 'status': 'ok'}, 'misc': {'tid': 3, 'cmd': ('domain_attachment', 'FMinIter_Domain'), 'workdir': None, 'idxs': {'x': [3]}, 'vals': {'x': [2.8344033046948898]}}, 'exp_key': None, 'owner': None, 'version': 0, 'book_time': datetime.datetime(2019, 10, 22, 13, 0, 29, 478000), 'refresh_time': datetime.datetime(2019, 10, 22, 13, 0, 29, 490000)}\n",
            "{'state': 2, 'tid': 4, 'spec': None, 'result': {'loss': 17.177982427089734, 'status': 'ok'}, 'misc': {'tid': 4, 'cmd': ('domain_attachment', 'FMinIter_Domain'), 'workdir': None, 'idxs': {'x': [4]}, 'vals': {'x': [4.144632966510995]}}, 'exp_key': None, 'owner': None, 'version': 0, 'book_time': datetime.datetime(2019, 10, 22, 13, 0, 29, 492000), 'refresh_time': datetime.datetime(2019, 10, 22, 13, 0, 29, 504000)}\n",
            "{'state': 2, 'tid': 5, 'spec': None, 'result': {'loss': 0.9528725312910185, 'status': 'ok'}, 'misc': {'tid': 5, 'cmd': ('domain_attachment', 'FMinIter_Domain'), 'workdir': None, 'idxs': {'x': [5]}, 'vals': {'x': [0.9761518997015877]}}, 'exp_key': None, 'owner': None, 'version': 0, 'book_time': datetime.datetime(2019, 10, 22, 13, 0, 29, 506000), 'refresh_time': datetime.datetime(2019, 10, 22, 13, 0, 29, 518000)}\n",
            "{'state': 2, 'tid': 6, 'spec': None, 'result': {'loss': 0.6002079023979315, 'status': 'ok'}, 'misc': {'tid': 6, 'cmd': ('domain_attachment', 'FMinIter_Domain'), 'workdir': None, 'idxs': {'x': [6]}, 'vals': {'x': [-0.7747308580390557]}}, 'exp_key': None, 'owner': None, 'version': 0, 'book_time': datetime.datetime(2019, 10, 22, 13, 0, 29, 520000), 'refresh_time': datetime.datetime(2019, 10, 22, 13, 0, 29, 531000)}\n",
            "{'state': 2, 'tid': 7, 'spec': None, 'result': {'loss': 4.8967273173524415, 'status': 'ok'}, 'misc': {'tid': 7, 'cmd': ('domain_attachment', 'FMinIter_Domain'), 'workdir': None, 'idxs': {'x': [7]}, 'vals': {'x': [-2.2128550149868476]}}, 'exp_key': None, 'owner': None, 'version': 0, 'book_time': datetime.datetime(2019, 10, 22, 13, 0, 29, 534000), 'refresh_time': datetime.datetime(2019, 10, 22, 13, 0, 29, 546000)}\n",
            "{'state': 2, 'tid': 8, 'spec': None, 'result': {'loss': 1.7074247845868276, 'status': 'ok'}, 'misc': {'tid': 8, 'cmd': ('domain_attachment', 'FMinIter_Domain'), 'workdir': None, 'idxs': {'x': [8]}, 'vals': {'x': [-1.306684653842245]}}, 'exp_key': None, 'owner': None, 'version': 0, 'book_time': datetime.datetime(2019, 10, 22, 13, 0, 29, 548000), 'refresh_time': datetime.datetime(2019, 10, 22, 13, 0, 29, 559000)}\n",
            "{'state': 2, 'tid': 9, 'spec': None, 'result': {'loss': 14.21184423703648, 'status': 'ok'}, 'misc': {'tid': 9, 'cmd': ('domain_attachment', 'FMinIter_Domain'), 'workdir': None, 'idxs': {'x': [9]}, 'vals': {'x': [-3.7698599757864324]}}, 'exp_key': None, 'owner': None, 'version': 0, 'book_time': datetime.datetime(2019, 10, 22, 13, 0, 29, 561000), 'refresh_time': datetime.datetime(2019, 10, 22, 13, 0, 29, 573000)}\n"
          ],
          "name": "stdout"
        }
      ]
    },
    {
      "cell_type": "code",
      "metadata": {
        "id": "HycESuXOnjVf",
        "colab_type": "code",
        "colab": {
          "base_uri": "https://localhost:8080/",
          "height": 34
        },
        "outputId": "d1f1bf45-dfa1-4419-8bbb-0e0c329a0445"
      },
      "source": [
        "-0.7747308580390557**2"
      ],
      "execution_count": 94,
      "outputs": [
        {
          "output_type": "execute_result",
          "data": {
            "text/plain": [
              "-0.6002079023979315"
            ]
          },
          "metadata": {
            "tags": []
          },
          "execution_count": 94
        }
      ]
    },
    {
      "cell_type": "markdown",
      "metadata": {
        "id": "3Yv3MrZytHWf",
        "colab_type": "text"
      },
      "source": [
        "How hyperopt works is for values in the space, it will run the fn and see the loss. It will do this max_eval times and each time it will select a value from the space according to the algo specified.\n",
        "\n",
        "\n",
        "At the end it will return the best loss and if we are using hp.choice it will return the index of the best param\n"
      ]
    },
    {
      "cell_type": "code",
      "metadata": {
        "colab_type": "code",
        "outputId": "0a0ac391-9dc1-40bb-fa10-90f3884847ef",
        "id": "xInktkYOdOcb",
        "colab": {
          "base_uri": "https://localhost:8080/",
          "height": 1000
        }
      },
      "source": [
        "def hyperopt_train_test(params):\n",
        "  clf = KNeighborsClassifier(**params)\n",
        "  accuracy = cross_val_score(estimator=clf, X=X, y=y, cv=3).mean()\n",
        "  print ('Param selected:', params, 'accuracy:', accuracy)\n",
        "  if params['n_neighbors'] == 5:\n",
        "    print ('here')\n",
        "    return 0.8\n",
        "  else:\n",
        "    return accuracy\n",
        "\n",
        "space4knn = {\n",
        "    'n_neighbors': hp.choice('n_neighbors', list(range(1,10)))\n",
        "}\n",
        "\n",
        "\n",
        "def f(params):\n",
        "  acc = hyperopt_train_test(params)\n",
        "  return {'loss': -acc, 'status': STATUS_OK}\n",
        "\n",
        "trials = Trials()\n",
        "\n",
        "best = fmin(\n",
        "    fn=f,\n",
        "    space = space4knn,\n",
        "    algo = tpe.suggest,\n",
        "    max_evals = 20,\n",
        "    trials = trials\n",
        ")\n",
        "\n",
        "print (best)"
      ],
      "execution_count": 115,
      "outputs": [
        {
          "output_type": "stream",
          "text": [
            "Param selected:\n",
            "{'n_neighbors': 7}\n",
            "accuracy:\n",
            "0.9734477124183006\n",
            "Param selected:\n",
            "{'n_neighbors': 8}\n",
            "accuracy:\n",
            "0.9799836601307189\n",
            "Param selected:\n",
            "{'n_neighbors': 6}\n",
            "accuracy:\n",
            "0.9734477124183006\n",
            "Param selected:\n",
            "{'n_neighbors': 2}\n",
            "accuracy:\n",
            "0.9534313725490197\n",
            "Param selected:\n",
            "{'n_neighbors': 8}\n",
            "accuracy:\n",
            "0.9799836601307189\n",
            "Param selected:\n",
            "{'n_neighbors': 6}\n",
            "accuracy:\n",
            "0.9734477124183006\n",
            "Param selected:\n",
            "{'n_neighbors': 2}\n",
            "accuracy:\n",
            "0.9534313725490197\n",
            "Param selected:\n",
            "{'n_neighbors': 2}\n",
            "accuracy:\n",
            "0.9534313725490197\n",
            "Param selected:\n",
            "{'n_neighbors': 6}\n",
            "accuracy:\n",
            "0.9734477124183006\n",
            "Param selected:\n",
            "{'n_neighbors': 3}\n",
            "accuracy:\n",
            "0.9803921568627452\n",
            "Param selected:\n",
            "{'n_neighbors': 7}\n",
            "accuracy:\n",
            "0.9734477124183006\n",
            "Param selected:\n",
            "{'n_neighbors': 7}\n",
            "accuracy:\n",
            "0.9734477124183006\n",
            "Param selected:\n",
            "{'n_neighbors': 4}\n",
            "accuracy:\n",
            "0.9734477124183006\n",
            "Param selected:\n",
            "{'n_neighbors': 1}\n",
            "accuracy:\n",
            "0.9673202614379085\n",
            "Param selected:\n",
            "{'n_neighbors': 7}\n",
            "accuracy:\n",
            "0.9734477124183006\n",
            "Param selected:\n",
            "{'n_neighbors': 3}\n",
            "accuracy:\n",
            "0.9803921568627452\n",
            "Param selected:\n",
            "{'n_neighbors': 8}\n",
            "accuracy:\n",
            "0.9799836601307189\n",
            "Param selected:\n",
            "{'n_neighbors': 5}\n",
            "accuracy:\n",
            "0.9869281045751634\n",
            "here\n",
            "Param selected:\n",
            "{'n_neighbors': 9}\n",
            "accuracy:\n",
            "0.9734477124183006\n",
            "Param selected:\n",
            "{'n_neighbors': 1}\n",
            "accuracy:\n",
            "0.9673202614379085\n",
            "100%|██████████| 20/20 [00:01<00:00, 15.97it/s, best loss: -0.9803921568627452]\n",
            "{'n_neighbors': 2}\n"
          ],
          "name": "stdout"
        }
      ]
    },
    {
      "cell_type": "code",
      "metadata": {
        "id": "YVK5cmm54l40",
        "colab_type": "code",
        "colab": {
          "base_uri": "https://localhost:8080/",
          "height": 377
        },
        "outputId": "90bd5e48-d430-427e-d08b-8c6d6bd68aad"
      },
      "source": [
        "for trial in trials.trials:\n",
        "  print (trial)"
      ],
      "execution_count": 116,
      "outputs": [
        {
          "output_type": "stream",
          "text": [
            "{'state': 2, 'tid': 0, 'spec': None, 'result': {'loss': -0.9734477124183006, 'status': 'ok'}, 'misc': {'tid': 0, 'cmd': ('domain_attachment', 'FMinIter_Domain'), 'workdir': None, 'idxs': {'n_neighbors': [0]}, 'vals': {'n_neighbors': [6]}}, 'exp_key': None, 'owner': None, 'version': 0, 'book_time': datetime.datetime(2019, 10, 22, 14, 32, 27, 725000), 'refresh_time': datetime.datetime(2019, 10, 22, 14, 32, 27, 784000)}\n",
            "{'state': 2, 'tid': 1, 'spec': None, 'result': {'loss': -0.9799836601307189, 'status': 'ok'}, 'misc': {'tid': 1, 'cmd': ('domain_attachment', 'FMinIter_Domain'), 'workdir': None, 'idxs': {'n_neighbors': [1]}, 'vals': {'n_neighbors': [7]}}, 'exp_key': None, 'owner': None, 'version': 0, 'book_time': datetime.datetime(2019, 10, 22, 14, 32, 27, 786000), 'refresh_time': datetime.datetime(2019, 10, 22, 14, 32, 27, 828000)}\n",
            "{'state': 2, 'tid': 2, 'spec': None, 'result': {'loss': -0.9734477124183006, 'status': 'ok'}, 'misc': {'tid': 2, 'cmd': ('domain_attachment', 'FMinIter_Domain'), 'workdir': None, 'idxs': {'n_neighbors': [2]}, 'vals': {'n_neighbors': [5]}}, 'exp_key': None, 'owner': None, 'version': 0, 'book_time': datetime.datetime(2019, 10, 22, 14, 32, 27, 833000), 'refresh_time': datetime.datetime(2019, 10, 22, 14, 32, 27, 890000)}\n",
            "{'state': 2, 'tid': 3, 'spec': None, 'result': {'loss': -0.9534313725490197, 'status': 'ok'}, 'misc': {'tid': 3, 'cmd': ('domain_attachment', 'FMinIter_Domain'), 'workdir': None, 'idxs': {'n_neighbors': [3]}, 'vals': {'n_neighbors': [1]}}, 'exp_key': None, 'owner': None, 'version': 0, 'book_time': datetime.datetime(2019, 10, 22, 14, 32, 27, 894000), 'refresh_time': datetime.datetime(2019, 10, 22, 14, 32, 27, 952000)}\n",
            "{'state': 2, 'tid': 4, 'spec': None, 'result': {'loss': -0.9799836601307189, 'status': 'ok'}, 'misc': {'tid': 4, 'cmd': ('domain_attachment', 'FMinIter_Domain'), 'workdir': None, 'idxs': {'n_neighbors': [4]}, 'vals': {'n_neighbors': [7]}}, 'exp_key': None, 'owner': None, 'version': 0, 'book_time': datetime.datetime(2019, 10, 22, 14, 32, 27, 957000), 'refresh_time': datetime.datetime(2019, 10, 22, 14, 32, 28, 17000)}\n",
            "{'state': 2, 'tid': 5, 'spec': None, 'result': {'loss': -0.9734477124183006, 'status': 'ok'}, 'misc': {'tid': 5, 'cmd': ('domain_attachment', 'FMinIter_Domain'), 'workdir': None, 'idxs': {'n_neighbors': [5]}, 'vals': {'n_neighbors': [5]}}, 'exp_key': None, 'owner': None, 'version': 0, 'book_time': datetime.datetime(2019, 10, 22, 14, 32, 28, 21000), 'refresh_time': datetime.datetime(2019, 10, 22, 14, 32, 28, 70000)}\n",
            "{'state': 2, 'tid': 6, 'spec': None, 'result': {'loss': -0.9534313725490197, 'status': 'ok'}, 'misc': {'tid': 6, 'cmd': ('domain_attachment', 'FMinIter_Domain'), 'workdir': None, 'idxs': {'n_neighbors': [6]}, 'vals': {'n_neighbors': [1]}}, 'exp_key': None, 'owner': None, 'version': 0, 'book_time': datetime.datetime(2019, 10, 22, 14, 32, 28, 75000), 'refresh_time': datetime.datetime(2019, 10, 22, 14, 32, 28, 156000)}\n",
            "{'state': 2, 'tid': 7, 'spec': None, 'result': {'loss': -0.9534313725490197, 'status': 'ok'}, 'misc': {'tid': 7, 'cmd': ('domain_attachment', 'FMinIter_Domain'), 'workdir': None, 'idxs': {'n_neighbors': [7]}, 'vals': {'n_neighbors': [1]}}, 'exp_key': None, 'owner': None, 'version': 0, 'book_time': datetime.datetime(2019, 10, 22, 14, 32, 28, 160000), 'refresh_time': datetime.datetime(2019, 10, 22, 14, 32, 28, 231000)}\n",
            "{'state': 2, 'tid': 8, 'spec': None, 'result': {'loss': -0.9734477124183006, 'status': 'ok'}, 'misc': {'tid': 8, 'cmd': ('domain_attachment', 'FMinIter_Domain'), 'workdir': None, 'idxs': {'n_neighbors': [8]}, 'vals': {'n_neighbors': [5]}}, 'exp_key': None, 'owner': None, 'version': 0, 'book_time': datetime.datetime(2019, 10, 22, 14, 32, 28, 237000), 'refresh_time': datetime.datetime(2019, 10, 22, 14, 32, 28, 305000)}\n",
            "{'state': 2, 'tid': 9, 'spec': None, 'result': {'loss': -0.9803921568627452, 'status': 'ok'}, 'misc': {'tid': 9, 'cmd': ('domain_attachment', 'FMinIter_Domain'), 'workdir': None, 'idxs': {'n_neighbors': [9]}, 'vals': {'n_neighbors': [2]}}, 'exp_key': None, 'owner': None, 'version': 0, 'book_time': datetime.datetime(2019, 10, 22, 14, 32, 28, 309000), 'refresh_time': datetime.datetime(2019, 10, 22, 14, 32, 28, 368000)}\n",
            "{'state': 2, 'tid': 10, 'spec': None, 'result': {'loss': -0.9734477124183006, 'status': 'ok'}, 'misc': {'tid': 10, 'cmd': ('domain_attachment', 'FMinIter_Domain'), 'workdir': None, 'idxs': {'n_neighbors': [10]}, 'vals': {'n_neighbors': [6]}}, 'exp_key': None, 'owner': None, 'version': 0, 'book_time': datetime.datetime(2019, 10, 22, 14, 32, 28, 373000), 'refresh_time': datetime.datetime(2019, 10, 22, 14, 32, 28, 435000)}\n",
            "{'state': 2, 'tid': 11, 'spec': None, 'result': {'loss': -0.9734477124183006, 'status': 'ok'}, 'misc': {'tid': 11, 'cmd': ('domain_attachment', 'FMinIter_Domain'), 'workdir': None, 'idxs': {'n_neighbors': [11]}, 'vals': {'n_neighbors': [6]}}, 'exp_key': None, 'owner': None, 'version': 0, 'book_time': datetime.datetime(2019, 10, 22, 14, 32, 28, 440000), 'refresh_time': datetime.datetime(2019, 10, 22, 14, 32, 28, 495000)}\n",
            "{'state': 2, 'tid': 12, 'spec': None, 'result': {'loss': -0.9734477124183006, 'status': 'ok'}, 'misc': {'tid': 12, 'cmd': ('domain_attachment', 'FMinIter_Domain'), 'workdir': None, 'idxs': {'n_neighbors': [12]}, 'vals': {'n_neighbors': [3]}}, 'exp_key': None, 'owner': None, 'version': 0, 'book_time': datetime.datetime(2019, 10, 22, 14, 32, 28, 500000), 'refresh_time': datetime.datetime(2019, 10, 22, 14, 32, 28, 556000)}\n",
            "{'state': 2, 'tid': 13, 'spec': None, 'result': {'loss': -0.9673202614379085, 'status': 'ok'}, 'misc': {'tid': 13, 'cmd': ('domain_attachment', 'FMinIter_Domain'), 'workdir': None, 'idxs': {'n_neighbors': [13]}, 'vals': {'n_neighbors': [0]}}, 'exp_key': None, 'owner': None, 'version': 0, 'book_time': datetime.datetime(2019, 10, 22, 14, 32, 28, 560000), 'refresh_time': datetime.datetime(2019, 10, 22, 14, 32, 28, 617000)}\n",
            "{'state': 2, 'tid': 14, 'spec': None, 'result': {'loss': -0.9734477124183006, 'status': 'ok'}, 'misc': {'tid': 14, 'cmd': ('domain_attachment', 'FMinIter_Domain'), 'workdir': None, 'idxs': {'n_neighbors': [14]}, 'vals': {'n_neighbors': [6]}}, 'exp_key': None, 'owner': None, 'version': 0, 'book_time': datetime.datetime(2019, 10, 22, 14, 32, 28, 625000), 'refresh_time': datetime.datetime(2019, 10, 22, 14, 32, 28, 677000)}\n",
            "{'state': 2, 'tid': 15, 'spec': None, 'result': {'loss': -0.9803921568627452, 'status': 'ok'}, 'misc': {'tid': 15, 'cmd': ('domain_attachment', 'FMinIter_Domain'), 'workdir': None, 'idxs': {'n_neighbors': [15]}, 'vals': {'n_neighbors': [2]}}, 'exp_key': None, 'owner': None, 'version': 0, 'book_time': datetime.datetime(2019, 10, 22, 14, 32, 28, 679000), 'refresh_time': datetime.datetime(2019, 10, 22, 14, 32, 28, 746000)}\n",
            "{'state': 2, 'tid': 16, 'spec': None, 'result': {'loss': -0.9799836601307189, 'status': 'ok'}, 'misc': {'tid': 16, 'cmd': ('domain_attachment', 'FMinIter_Domain'), 'workdir': None, 'idxs': {'n_neighbors': [16]}, 'vals': {'n_neighbors': [7]}}, 'exp_key': None, 'owner': None, 'version': 0, 'book_time': datetime.datetime(2019, 10, 22, 14, 32, 28, 749000), 'refresh_time': datetime.datetime(2019, 10, 22, 14, 32, 28, 806000)}\n",
            "{'state': 2, 'tid': 17, 'spec': None, 'result': {'loss': -0.8, 'status': 'ok'}, 'misc': {'tid': 17, 'cmd': ('domain_attachment', 'FMinIter_Domain'), 'workdir': None, 'idxs': {'n_neighbors': [17]}, 'vals': {'n_neighbors': [4]}}, 'exp_key': None, 'owner': None, 'version': 0, 'book_time': datetime.datetime(2019, 10, 22, 14, 32, 28, 809000), 'refresh_time': datetime.datetime(2019, 10, 22, 14, 32, 28, 863000)}\n",
            "{'state': 2, 'tid': 18, 'spec': None, 'result': {'loss': -0.9734477124183006, 'status': 'ok'}, 'misc': {'tid': 18, 'cmd': ('domain_attachment', 'FMinIter_Domain'), 'workdir': None, 'idxs': {'n_neighbors': [18]}, 'vals': {'n_neighbors': [8]}}, 'exp_key': None, 'owner': None, 'version': 0, 'book_time': datetime.datetime(2019, 10, 22, 14, 32, 28, 868000), 'refresh_time': datetime.datetime(2019, 10, 22, 14, 32, 28, 924000)}\n",
            "{'state': 2, 'tid': 19, 'spec': None, 'result': {'loss': -0.9673202614379085, 'status': 'ok'}, 'misc': {'tid': 19, 'cmd': ('domain_attachment', 'FMinIter_Domain'), 'workdir': None, 'idxs': {'n_neighbors': [19]}, 'vals': {'n_neighbors': [0]}}, 'exp_key': None, 'owner': None, 'version': 0, 'book_time': datetime.datetime(2019, 10, 22, 14, 32, 28, 928000), 'refresh_time': datetime.datetime(2019, 10, 22, 14, 32, 28, 990000)}\n"
          ],
          "name": "stdout"
        }
      ]
    },
    {
      "cell_type": "code",
      "metadata": {
        "id": "rQSgJ8FC49t8",
        "colab_type": "code",
        "colab": {
          "base_uri": "https://localhost:8080/",
          "height": 34
        },
        "outputId": "97e8e9b4-2e75-4b6d-d7ae-d587a979e113"
      },
      "source": [
        "list(range(1,10))[6]"
      ],
      "execution_count": 118,
      "outputs": [
        {
          "output_type": "execute_result",
          "data": {
            "text/plain": [
              "7"
            ]
          },
          "metadata": {
            "tags": []
          },
          "execution_count": 118
        }
      ]
    },
    {
      "cell_type": "markdown",
      "metadata": {
        "id": "hJHEGf-DoMie",
        "colab_type": "text"
      },
      "source": [
        "## NOTE: For hp.choice the answer is the INDEX NOT the ACTUAL value\n",
        "\n",
        "[link](https://github.com/hyperopt/hyperopt/issues/431)\n",
        "\n",
        "[link](https://github.com/hyperopt/hyperopt/issues/384)"
      ]
    },
    {
      "cell_type": "code",
      "metadata": {
        "id": "7k1UFoJw2ohk",
        "colab_type": "code",
        "colab": {
          "base_uri": "https://localhost:8080/",
          "height": 51
        },
        "outputId": "cb7b9d15-0d8f-48af-cd22-51ae94505133"
      },
      "source": [
        "from sklearn.metrics import accuracy_score\n",
        "clf = KNeighborsClassifier(n_neighbors=100)\n",
        "X_train, X_test, y_train, y_test = train_test_split(X, y, test_size=0.3, random_state=42)\n",
        "\n",
        "print (X_train.shape, X_test.shape)\n",
        "\n",
        "clf.fit(X_train, y_train)\n",
        "y_pred = clf.predict(X_test)\n",
        "\n",
        "print (accuracy_score(y_test, y_pred))"
      ],
      "execution_count": 105,
      "outputs": [
        {
          "output_type": "stream",
          "text": [
            "(105, 4) (45, 4)\n",
            "0.28888888888888886\n"
          ],
          "name": "stdout"
        }
      ]
    },
    {
      "cell_type": "markdown",
      "metadata": {
        "id": "i7vXruiB3sXN",
        "colab_type": "text"
      },
      "source": [
        "### Try with train_test split"
      ]
    },
    {
      "cell_type": "code",
      "metadata": {
        "id": "VuX0pbbG1cqV",
        "colab_type": "code",
        "colab": {
          "base_uri": "https://localhost:8080/",
          "height": 68
        },
        "outputId": "ba151731-4d35-409c-f5cf-3d135cc74325"
      },
      "source": [
        "from sklearn.model_selection import train_test_split\n",
        "from sklearn.metrics import accuracy_score\n",
        "\n",
        "X_train, X_test, y_train, y_test = train_test_split(X, y, test_size=0.3, random_state=42)\n",
        "\n",
        "def hyperopt_train_test(params):\n",
        "    clf = KNeighborsClassifier(**params)\n",
        "    clf.fit(X_train, y_train)\n",
        "    y_pred = clf.predict(X_test)\n",
        "    return accuracy_score(y_test, y_pred)\n",
        "\n",
        "space4knn = {\n",
        "    'n_neighbors': hp.choice('n_neighbors', range(1,100))\n",
        "}\n",
        "\n",
        "def f(params):\n",
        "    acc = hyperopt_train_test(params)\n",
        "    return {'loss': -acc, 'status': STATUS_OK}\n",
        "\n",
        "trials = Trials()\n",
        "best = fmin(f, space4knn, algo=tpe.suggest, max_evals=100, trials=trials)\n",
        "print ('best:')\n",
        "print (best)"
      ],
      "execution_count": 110,
      "outputs": [
        {
          "output_type": "stream",
          "text": [
            "100%|██████████| 100/100 [00:01<00:00, 87.62it/s, best loss: -1.0]\n",
            "best:\n",
            "{'n_neighbors': 37}\n"
          ],
          "name": "stdout"
        }
      ]
    },
    {
      "cell_type": "markdown",
      "metadata": {
        "id": "bjCyXSd54CSU",
        "colab_type": "text"
      },
      "source": [
        "### Original code"
      ]
    },
    {
      "cell_type": "code",
      "metadata": {
        "id": "cijmCD_54B4P",
        "colab_type": "code",
        "colab": {
          "base_uri": "https://localhost:8080/",
          "height": 68
        },
        "outputId": "fe93ef51-46e7-485e-e989-21bc875eb1c7"
      },
      "source": [
        "def hyperopt_train_test(params):\n",
        "    clf = KNeighborsClassifier(**params)\n",
        "    return cross_val_score(clf, X, y, cv=3).mean()\n",
        "\n",
        "space4knn = {\n",
        "    'n_neighbors': hp.choice('n_neighbors', range(1,20))\n",
        "}\n",
        "\n",
        "def f(params):\n",
        "    acc = hyperopt_train_test(params)\n",
        "    return {'loss': -acc, 'status': STATUS_OK}\n",
        "\n",
        "trials = Trials()\n",
        "best = fmin(f, space4knn, algo=tpe.suggest, max_evals=100, trials=trials)\n",
        "print ('best:')\n",
        "print (best)"
      ],
      "execution_count": 139,
      "outputs": [
        {
          "output_type": "stream",
          "text": [
            "100%|██████████| 100/100 [00:01<00:00, 72.00it/s, best loss: -0.9869281045751634]\n",
            "best:\n",
            "{'n_neighbors': 4}\n"
          ],
          "name": "stdout"
        }
      ]
    },
    {
      "cell_type": "markdown",
      "metadata": {
        "id": "eiYX2vHh4QI8",
        "colab_type": "text"
      },
      "source": [
        "Now let's see the plot of the output. The y axis is the cross validation score, and the x axis is the k value in k-nearest-neighbors. Here is the code and its image:\n",
        "\n"
      ]
    },
    {
      "cell_type": "code",
      "metadata": {
        "id": "gNy4ZdgJ4R57",
        "colab_type": "code",
        "colab": {
          "base_uri": "https://localhost:8080/",
          "height": 305
        },
        "outputId": "52e2c7ff-fb60-4229-db53-d813c07c6f26"
      },
      "source": [
        "f, ax = plt.subplots(1)#, figsize=(10,10))\n",
        "\n",
        "xs = []\n",
        "ys = []\n",
        "\n",
        "for t in trials.trials:\n",
        "  n_idx = t['misc']['vals']['n_neighbors'][0]\n",
        "  n_selected = list(range(1,20))[n_idx]#\n",
        "  xs.append(n_selected)\n",
        "  acc = -t['result']['loss']\n",
        "  ys.append(acc)\n",
        "\n",
        "ax.scatter(xs, ys, s=20, linewidth=0.01, alpha=0.5)\n",
        "ax.set_title('Iris Dataset - KNN', fontsize=18)\n",
        "ax.set_xlabel('n_neighbors', fontsize=12)\n",
        "ax.set_ylabel('cross validation accuracy', fontsize=12);"
      ],
      "execution_count": 137,
      "outputs": [
        {
          "output_type": "display_data",
          "data": {
            "image/png": "[encoded data removed]",
            "text/plain": [
              "<Figure size 432x288 with 1 Axes>"
            ]
          },
          "metadata": {
            "tags": []
          }
        }
      ]
    },
    {
      "cell_type": "markdown",
      "metadata": {
        "id": "ux82ttLx8DS7",
        "colab_type": "text"
      },
      "source": [
        "We find the best value at `{'n_neighbors': 4}` i.e at index 4 that means the **value of n_neighbors is 5**\n",
        "\n",
        "### Support Vector Machines (SVM)\n",
        "\n",
        "\n"
      ]
    },
    {
      "cell_type": "code",
      "metadata": {
        "id": "_LjYwUhgDbru",
        "colab_type": "code",
        "colab": {
          "base_uri": "https://localhost:8080/",
          "height": 68
        },
        "outputId": "9f3bb863-1891-48fd-b3b9-eef81c7554ad"
      },
      "source": [
        "from sklearn.svm import SVC\n",
        "\n",
        "def hyperopt_train_test(params):\n",
        "  clf = SVC(**params)\n",
        "  return cross_val_score(clf, X, y, cv=3).mean()\n",
        "\n",
        "space4svm = {\n",
        "    'C': hp.uniform('C', 0, 20),\n",
        "    'kernel': hp.choice('kernel', ['linear', 'sigmoid', 'poly', 'rbf']),\n",
        "    'gamma': hp.uniform('gamma', 0, 20)\n",
        "}\n",
        "\n",
        "def f(params):\n",
        "    acc = hyperopt_train_test(params)\n",
        "    return {'loss': -acc, 'status': STATUS_OK}\n",
        "\n",
        "trials = Trials()\n",
        "best = fmin(f, space4svm, algo=tpe.suggest, max_evals=200, trials=trials)\n",
        "print ('best:')\n",
        "print (best)"
      ],
      "execution_count": 148,
      "outputs": [
        {
          "output_type": "stream",
          "text": [
            "100%|██████████| 200/200 [00:07<00:00, 25.23it/s, best loss: -0.9869281045751634]\n",
            "best:\n",
            "{'C': 7.750992063377014, 'gamma': 2.1681543626110122, 'kernel': 3}\n"
          ],
          "name": "stdout"
        }
      ]
    },
    {
      "cell_type": "code",
      "metadata": {
        "id": "t_pv7GHZDyCK",
        "colab_type": "code",
        "colab": {}
      },
      "source": [
        ""
      ],
      "execution_count": 0,
      "outputs": []
    }
  ]
}