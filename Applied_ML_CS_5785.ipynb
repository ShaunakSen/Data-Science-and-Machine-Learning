{
  "nbformat": 4,
  "nbformat_minor": 0,
  "metadata": {
    "colab": {
      "name": "Applied ML CS 5785.ipynb",
      "provenance": [],
      "collapsed_sections": [],
      "authorship_tag": "ABX9TyOaSIBfePFVstk7i5BVZEz/",
      "include_colab_link": true
    },
    "kernelspec": {
      "name": "python3",
      "display_name": "Python 3"
    },
    "language_info": {
      "name": "python"
    }
  },
  "cells": [
    {
      "cell_type": "markdown",
      "metadata": {
        "id": "view-in-github",
        "colab_type": "text"
      },
      "source": [
        "<a href=\"https://colab.research.google.com/github/ShaunakSen/Data-Science-and-Machine-Learning/blob/master/Applied_ML_CS_5785.ipynb\" target=\"_parent\"><img src=\"https://colab.research.google.com/assets/colab-badge.svg\" alt=\"Open In Colab\"/></a>"
      ]
    },
    {
      "cell_type": "markdown",
      "metadata": {
        "id": "f2d0Zo_we5Le"
      },
      "source": [
        "# Applied ML - CS 5785\n",
        "\n",
        "> GitHub: https://github.com/kuleshov/cornell-cs5785-applied-ml/tree/main/notebooks\n",
        "\n",
        "> YouTube: https://www.youtube.com/playlist?list=PL2UML_KCiC0UlY7iCQDSiGDMovaupqc83\n",
        "\n",
        "---\n",
        "\n",
        "\n"
      ]
    },
    {
      "cell_type": "markdown",
      "metadata": {
        "id": "9Sxky85efOD2"
      },
      "source": [
        "## Lecture 1. Part 2: Three Approaches to Machine Learning\n"
      ]
    },
    {
      "cell_type": "markdown",
      "metadata": {
        "id": "BYEOkIQFkw6r"
      },
      "source": [
        "### Supervised Learning Example"
      ]
    },
    {
      "cell_type": "code",
      "metadata": {
        "id": "p8JU6tx2etir"
      },
      "source": [
        "# We will load the dataset from the sklearn ML library\n",
        "from sklearn import datasets\n",
        "boston = datasets.load_boston()"
      ],
      "execution_count": 2,
      "outputs": []
    },
    {
      "cell_type": "code",
      "metadata": {
        "colab": {
          "base_uri": "https://localhost:8080/"
        },
        "id": "K8Nx76oRftDW",
        "outputId": "fc67d8fc-0687-4014-a2d6-7023c736c4b4"
      },
      "source": [
        "print (boston.data.shape, boston.target.shape)"
      ],
      "execution_count": 3,
      "outputs": [
        {
          "output_type": "stream",
          "text": [
            "(506, 13) (506,)\n"
          ],
          "name": "stdout"
        }
      ]
    },
    {
      "cell_type": "markdown",
      "metadata": {
        "id": "OBWu2d8gf0c7"
      },
      "source": [
        "We will visualize two variables in this dataset: house price and the education level in the neighborhood.\n",
        "\n"
      ]
    },
    {
      "cell_type": "code",
      "metadata": {
        "colab": {
          "base_uri": "https://localhost:8080/",
          "height": 312
        },
        "id": "Guj_Su29fvKd",
        "outputId": "d02fc889-5076-401b-bcb8-d1fbe450aa87"
      },
      "source": [
        "import matplotlib.pyplot as plt\n",
        "plt.rcParams['figure.figsize'] = [12, 4]\n",
        "plt.scatter(boston.data[:,12], boston.target)\n",
        "plt.ylabel(\"Median house price ($K)\")\n",
        "plt.xlabel(\"% of adults in neighborhood that don't have a high school diploma\")\n",
        "plt.title(\"House prices as a function of average neighborhood education level\")"
      ],
      "execution_count": 4,
      "outputs": [
        {
          "output_type": "execute_result",
          "data": {
            "text/plain": [
              "Text(0.5, 1.0, 'House prices as a function of average neighborhood education level')"
            ]
          },
          "metadata": {
            "tags": []
          },
          "execution_count": 4
        },
        {
          "output_type": "display_data",
          "data": {
            "image/png": "[encoded data removed]",
            "text/plain": [
              "<Figure size 864x288 with 1 Axes>"
            ]
          },
          "metadata": {
            "tags": [],
            "needs_background": "light"
          }
        }
      ]
    },
    {
      "cell_type": "markdown",
      "metadata": {
        "id": "0WPfMrzTf8pT"
      },
      "source": [
        "We can use this dataset of examples to fit a supervised learning model.\n",
        "\n"
      ]
    },
    {
      "cell_type": "code",
      "metadata": {
        "id": "c_jDVC3Lf2YD"
      },
      "source": [
        "import numpy as np\n",
        "from sklearn.kernel_ridge import KernelRidge"
      ],
      "execution_count": 5,
      "outputs": []
    },
    {
      "cell_type": "code",
      "metadata": {
        "colab": {
          "base_uri": "https://localhost:8080/"
        },
        "id": "5EP0nnLVgORb",
        "outputId": "e2a822b4-1b21-4817-dc5d-b424f601f58a"
      },
      "source": [
        "# Apply a supervised learning algorithm\n",
        "model = KernelRidge(alpha=1, kernel='poly')\n",
        "model.fit(boston.data[:,[12]], boston.target.flatten())"
      ],
      "execution_count": 6,
      "outputs": [
        {
          "output_type": "execute_result",
          "data": {
            "text/plain": [
              "KernelRidge(alpha=1, coef0=1, degree=3, gamma=None, kernel='poly',\n",
              "            kernel_params=None)"
            ]
          },
          "metadata": {
            "tags": []
          },
          "execution_count": 6
        }
      ]
    },
    {
      "cell_type": "code",
      "metadata": {
        "colab": {
          "base_uri": "https://localhost:8080/",
          "height": 312
        },
        "id": "Hyb0jKNsgXSR",
        "outputId": "3c945a1a-b63a-42f3-b317-592052bf25e8"
      },
      "source": [
        "predictions = model.predict(np.linspace(2, 35)[:, np.newaxis])\n",
        "\n",
        "# Visualize the results\n",
        "plt.scatter(boston.data[:,[12]], boston.target, alpha=0.25)\n",
        "plt.plot(np.linspace(2, 35), predictions, c='red')\n",
        "plt.ylabel(\"Median house price ($K)\")\n",
        "plt.xlabel(\"% of adults in neighborhood that don't have a high school diploma\")\n",
        "plt.title(\"House prices as a function of average neighborhood education level\")"
      ],
      "execution_count": 7,
      "outputs": [
        {
          "output_type": "execute_result",
          "data": {
            "text/plain": [
              "Text(0.5, 1.0, 'House prices as a function of average neighborhood education level')"
            ]
          },
          "metadata": {
            "tags": []
          },
          "execution_count": 7
        },
        {
          "output_type": "display_data",
          "data": {
            "image/png": "[encoded data removed]",
            "text/plain": [
              "<Figure size 864x288 with 1 Axes>"
            ]
          },
          "metadata": {
            "tags": [],
            "needs_background": "light"
          }
        }
      ]
    },
    {
      "cell_type": "markdown",
      "metadata": {
        "id": "XwFoinNOlkeT"
      },
      "source": [
        "### Unsupervised Learning Example"
      ]
    },
    {
      "cell_type": "code",
      "metadata": {
        "colab": {
          "base_uri": "https://localhost:8080/",
          "height": 312
        },
        "id": "A-SsGCBuji5u",
        "outputId": "54b8a528-f35c-480d-9e32-cb280c3c71d3"
      },
      "source": [
        "# Load and visualize the Iris flower dataset\n",
        "iris = datasets.load_iris()\n",
        "plt.scatter(iris.data[:,0], iris.data[:,1], alpha=0.5)\n",
        "plt.ylabel(\"Sepal width (cm)\")\n",
        "plt.xlabel(\"Sepal length (cm)\")\n",
        "plt.title(\"Dataset of Iris flowers\")"
      ],
      "execution_count": 8,
      "outputs": [
        {
          "output_type": "execute_result",
          "data": {
            "text/plain": [
              "Text(0.5, 1.0, 'Dataset of Iris flowers')"
            ]
          },
          "metadata": {
            "tags": []
          },
          "execution_count": 8
        },
        {
          "output_type": "display_data",
          "data": {
            "image/png": "[encoded data removed]",
            "text/plain": [
              "<Figure size 864x288 with 1 Axes>"
            ]
          },
          "metadata": {
            "tags": [],
            "needs_background": "light"
          }
        }
      ]
    },
    {
      "cell_type": "code",
      "metadata": {
        "colab": {
          "base_uri": "https://localhost:8080/"
        },
        "id": "Tjc0G5gAlo-k",
        "outputId": "e73d7fcf-b00b-4ba8-f453-b80350bd8858"
      },
      "source": [
        "# fit a Gaussian Mixture Model with three components\n",
        "from sklearn import mixture\n",
        "\n",
        "### n_componenets basically means we are trying to learn 3 clusters\n",
        "model = mixture.GaussianMixture(n_components=3, covariance_type='full')\n",
        "model.fit(iris.data[:,[0,1]])"
      ],
      "execution_count": 9,
      "outputs": [
        {
          "output_type": "execute_result",
          "data": {
            "text/plain": [
              "GaussianMixture(covariance_type='full', init_params='kmeans', max_iter=100,\n",
              "                means_init=None, n_components=3, n_init=1, precisions_init=None,\n",
              "                random_state=None, reg_covar=1e-06, tol=0.001, verbose=0,\n",
              "                verbose_interval=10, warm_start=False, weights_init=None)"
            ]
          },
          "metadata": {
            "tags": []
          },
          "execution_count": 9
        }
      ]
    },
    {
      "cell_type": "code",
      "metadata": {
        "colab": {
          "base_uri": "https://localhost:8080/",
          "height": 312
        },
        "id": "mCHwtARCltg5",
        "outputId": "22346b4b-3c39-451c-afe9-7761471e62eb"
      },
      "source": [
        "# display learned probabilities as a contour plot\n",
        "x, y = np.linspace(4.0, 8.0), np.linspace(2.0, 4.5)\n",
        "X, Y = np.meshgrid(x, y)\n",
        "Z = -model.score_samples(np.array([X.ravel(), Y.ravel()]).T).reshape(X.shape)\n",
        "plt.contour(X, Y, Z, levels=np.logspace(0, 10, 1), cmap=\"gray\", alpha=0.5)\n",
        "plt.scatter(iris.data[:,0], iris.data[:,1], alpha=0.5)\n",
        "plt.scatter(model.means_[:,0], model.means_[:,1], marker='D', c='r')\n",
        "plt.ylabel(\"Sepal width (cm)\")\n",
        "plt.xlabel(\"Sepal length (cm)\")\n",
        "plt.title(\"Dataset of Iris flowers\")\n",
        "plt.legend(['Datapoints', 'Probability peaks'])"
      ],
      "execution_count": 10,
      "outputs": [
        {
          "output_type": "execute_result",
          "data": {
            "text/plain": [
              "<matplotlib.legend.Legend at 0x7f4c24343090>"
            ]
          },
          "metadata": {
            "tags": []
          },
          "execution_count": 10
        },
        {
          "output_type": "display_data",
          "data": {
            "image/png": "[encoded data removed]",
            "text/plain": [
              "<Figure size 864x288 with 1 Axes>"
            ]
          },
          "metadata": {
            "tags": [],
            "needs_background": "light"
          }
        }
      ]
    },
    {
      "cell_type": "markdown",
      "metadata": {
        "id": "imh2sTP_miMg"
      },
      "source": [
        "Here we have kind of identified 3 centroids for the clusters\n",
        "\n",
        "We can now show the original labels"
      ]
    },
    {
      "cell_type": "code",
      "metadata": {
        "colab": {
          "base_uri": "https://localhost:8080/",
          "height": 312
        },
        "id": "veXkSwLtmdos",
        "outputId": "ac6b26f3-7ac9-4b15-843d-45be1c5718d5"
      },
      "source": [
        "CS = plt.contour(X, Y, Z, levels=np.logspace(0, 30, 1), cmap='gray', alpha=0.5)\n",
        "p1 = plt.scatter(iris.data[:,0], iris.data[:,1], alpha=1, c=iris.target, cmap='Paired')\n",
        "plt.scatter(model.means_[:,0], model.means_[:,1], marker='D', c='r')\n",
        "plt.ylabel(\"Sepal width (cm)\")\n",
        "plt.xlabel(\"Sepal length (cm)\")\n",
        "plt.title(\"Dataset of Iris flowers\")\n",
        "plt.legend(handles=p1.legend_elements()[0], labels=['Iris Setosa', 'Iris Versicolour', 'Iris Virginica'])"
      ],
      "execution_count": 11,
      "outputs": [
        {
          "output_type": "execute_result",
          "data": {
            "text/plain": [
              "<matplotlib.legend.Legend at 0x7f4c2404ebd0>"
            ]
          },
          "metadata": {
            "tags": []
          },
          "execution_count": 11
        },
        {
          "output_type": "display_data",
          "data": {
            "image/png": "[encoded data removed]",
            "text/plain": [
              "<Figure size 864x288 with 1 Axes>"
            ]
          },
          "metadata": {
            "tags": [],
            "needs_background": "light"
          }
        }
      ]
    },
    {
      "cell_type": "markdown",
      "metadata": {
        "id": "eRudVzNhm0v4"
      },
      "source": [
        "As we can see the centroids did roughly corr to teh centers of the 3 classes"
      ]
    },
    {
      "cell_type": "markdown",
      "metadata": {
        "id": "MFsKQeJFlmko"
      },
      "source": [
        "## Lecture 2 - Part 1: A Supervised Machine Learning Problem\n",
        "\n",
        "\n",
        "Let's return to our example: predicting diabates risk. What would a dataset look like?\n",
        "\n",
        "We will use the UCI Diabetes Dataset; it's a toy dataset that's often used to demonstrate machine learning algorithms.\n",
        "\n",
        "- For each patient we have a access to a measurement of their body mass index (BMI) and a quantiative diabetes risk score (from 0-400).\n",
        "- We are interested in understanding how BMI affects an individual's diabetes risk."
      ]
    },
    {
      "cell_type": "code",
      "metadata": {
        "id": "V-buArbbmtCh"
      },
      "source": [
        "import numpy as np\n",
        "import pandas as pd\n",
        "from sklearn import datasets\n"
      ],
      "execution_count": 12,
      "outputs": []
    },
    {
      "cell_type": "code",
      "metadata": {
        "colab": {
          "base_uri": "https://localhost:8080/"
        },
        "id": "fjTKfEzkl7Rw",
        "outputId": "f0ee3679-fc51-4ac5-9542-7be6a859c43e"
      },
      "source": [
        "diabetes_data = datasets.load_diabetes()\n",
        "\n",
        "feature_names = diabetes_data['feature_names']\n",
        "diabetes_X, diabetes_y = diabetes_data['data'], diabetes_data['target']\n",
        "\n",
        "print (diabetes_X.shape, diabetes_y.shape)"
      ],
      "execution_count": 13,
      "outputs": [
        {
          "output_type": "stream",
          "text": [
            "(442, 10) (442,)\n"
          ],
          "name": "stdout"
        }
      ]
    },
    {
      "cell_type": "code",
      "metadata": {
        "colab": {
          "base_uri": "https://localhost:8080/"
        },
        "id": "_coYoS7InLh_",
        "outputId": "a578c98f-6ece-4c0e-a539-363a3aa2b5e5"
      },
      "source": [
        "feature_names"
      ],
      "execution_count": 14,
      "outputs": [
        {
          "output_type": "execute_result",
          "data": {
            "text/plain": [
              "['age', 'sex', 'bmi', 'bp', 's1', 's2', 's3', 's4', 's5', 's6']"
            ]
          },
          "metadata": {
            "tags": []
          },
          "execution_count": 14
        }
      ]
    },
    {
      "cell_type": "code",
      "metadata": {
        "id": "DInbrymHv5eg"
      },
      "source": [
        "# Use only the BMI feature\n",
        "diabetes_X  = diabetes_X[:, 2]\n",
        "\n",
        "# The BMI is zero-centered and normalized; we recenter it for ease of presentation\n",
        "diabetes_X = diabetes_X * 30 + 25"
      ],
      "execution_count": 15,
      "outputs": []
    },
    {
      "cell_type": "code",
      "metadata": {
        "id": "0I3Zo5XSv91p"
      },
      "source": [
        "diabetes_X_train = diabetes_X[-20:]\n",
        "diabetes_y_train = diabetes_y[-20:]"
      ],
      "execution_count": 16,
      "outputs": []
    },
    {
      "cell_type": "code",
      "metadata": {
        "colab": {
          "base_uri": "https://localhost:8080/",
          "height": 669
        },
        "id": "nQZAFb26wKzK",
        "outputId": "671b7a86-97fa-440c-afbd-70cc60052eb5"
      },
      "source": [
        "pd.DataFrame(data={'bmi': diabetes_X_train, 'target': diabetes_y_train})"
      ],
      "execution_count": 17,
      "outputs": [
        {
          "output_type": "execute_result",
          "data": {
            "text/html": [
              "<div>\n",
              "<style scoped>\n",
              "    .dataframe tbody tr th:only-of-type {\n",
              "        vertical-align: middle;\n",
              "    }\n",
              "\n",
              "    .dataframe tbody tr th {\n",
              "        vertical-align: top;\n",
              "    }\n",
              "\n",
              "    .dataframe thead th {\n",
              "        text-align: right;\n",
              "    }\n",
              "</style>\n",
              "<table border=\"1\" class=\"dataframe\">\n",
              "  <thead>\n",
              "    <tr style=\"text-align: right;\">\n",
              "      <th></th>\n",
              "      <th>bmi</th>\n",
              "      <th>target</th>\n",
              "    </tr>\n",
              "  </thead>\n",
              "  <tbody>\n",
              "    <tr>\n",
              "      <th>0</th>\n",
              "      <td>27.335902</td>\n",
              "      <td>233.0</td>\n",
              "    </tr>\n",
              "    <tr>\n",
              "      <th>1</th>\n",
              "      <td>23.811456</td>\n",
              "      <td>91.0</td>\n",
              "    </tr>\n",
              "    <tr>\n",
              "      <th>2</th>\n",
              "      <td>25.331171</td>\n",
              "      <td>111.0</td>\n",
              "    </tr>\n",
              "    <tr>\n",
              "      <th>3</th>\n",
              "      <td>23.779122</td>\n",
              "      <td>152.0</td>\n",
              "    </tr>\n",
              "    <tr>\n",
              "      <th>4</th>\n",
              "      <td>23.973128</td>\n",
              "      <td>120.0</td>\n",
              "    </tr>\n",
              "    <tr>\n",
              "      <th>5</th>\n",
              "      <td>25.169499</td>\n",
              "      <td>67.0</td>\n",
              "    </tr>\n",
              "    <tr>\n",
              "      <th>6</th>\n",
              "      <td>27.659245</td>\n",
              "      <td>310.0</td>\n",
              "    </tr>\n",
              "    <tr>\n",
              "      <th>7</th>\n",
              "      <td>24.005462</td>\n",
              "      <td>94.0</td>\n",
              "    </tr>\n",
              "    <tr>\n",
              "      <th>8</th>\n",
              "      <td>23.294106</td>\n",
              "      <td>183.0</td>\n",
              "    </tr>\n",
              "    <tr>\n",
              "      <th>9</th>\n",
              "      <td>24.070131</td>\n",
              "      <td>66.0</td>\n",
              "    </tr>\n",
              "    <tr>\n",
              "      <th>10</th>\n",
              "      <td>26.656880</td>\n",
              "      <td>173.0</td>\n",
              "    </tr>\n",
              "    <tr>\n",
              "      <th>11</th>\n",
              "      <td>23.197103</td>\n",
              "      <td>72.0</td>\n",
              "    </tr>\n",
              "    <tr>\n",
              "      <th>12</th>\n",
              "      <td>25.040162</td>\n",
              "      <td>49.0</td>\n",
              "    </tr>\n",
              "    <tr>\n",
              "      <th>13</th>\n",
              "      <td>24.296472</td>\n",
              "      <td>64.0</td>\n",
              "    </tr>\n",
              "    <tr>\n",
              "      <th>14</th>\n",
              "      <td>22.776757</td>\n",
              "      <td>48.0</td>\n",
              "    </tr>\n",
              "    <tr>\n",
              "      <th>15</th>\n",
              "      <td>25.589846</td>\n",
              "      <td>178.0</td>\n",
              "    </tr>\n",
              "    <tr>\n",
              "      <th>16</th>\n",
              "      <td>24.522812</td>\n",
              "      <td>104.0</td>\n",
              "    </tr>\n",
              "    <tr>\n",
              "      <th>17</th>\n",
              "      <td>24.522812</td>\n",
              "      <td>132.0</td>\n",
              "    </tr>\n",
              "    <tr>\n",
              "      <th>18</th>\n",
              "      <td>26.171865</td>\n",
              "      <td>220.0</td>\n",
              "    </tr>\n",
              "    <tr>\n",
              "      <th>19</th>\n",
              "      <td>22.809091</td>\n",
              "      <td>57.0</td>\n",
              "    </tr>\n",
              "  </tbody>\n",
              "</table>\n",
              "</div>"
            ],
            "text/plain": [
              "          bmi  target\n",
              "0   27.335902   233.0\n",
              "1   23.811456    91.0\n",
              "2   25.331171   111.0\n",
              "3   23.779122   152.0\n",
              "4   23.973128   120.0\n",
              "5   25.169499    67.0\n",
              "6   27.659245   310.0\n",
              "7   24.005462    94.0\n",
              "8   23.294106   183.0\n",
              "9   24.070131    66.0\n",
              "10  26.656880   173.0\n",
              "11  23.197103    72.0\n",
              "12  25.040162    49.0\n",
              "13  24.296472    64.0\n",
              "14  22.776757    48.0\n",
              "15  25.589846   178.0\n",
              "16  24.522812   104.0\n",
              "17  24.522812   132.0\n",
              "18  26.171865   220.0\n",
              "19  22.809091    57.0"
            ]
          },
          "metadata": {
            "tags": []
          },
          "execution_count": 17
        }
      ]
    },
    {
      "cell_type": "code",
      "metadata": {
        "colab": {
          "base_uri": "https://localhost:8080/",
          "height": 296
        },
        "id": "xOMMfkYkw0Ee",
        "outputId": "56f077d8-e79e-4522-e3ab-b984ecd148a1"
      },
      "source": [
        "%matplotlib inline\n",
        "import matplotlib.pyplot as plt\n",
        "plt.rcParams['figure.figsize'] = [12, 4]\n",
        "\n",
        "plt.scatter(diabetes_X_train, diabetes_y_train,  color='black')\n",
        "plt.xlabel('Body Mass Index (BMI)')\n",
        "plt.ylabel('Diabetes Risk')"
      ],
      "execution_count": 18,
      "outputs": [
        {
          "output_type": "execute_result",
          "data": {
            "text/plain": [
              "Text(0, 0.5, 'Diabetes Risk')"
            ]
          },
          "metadata": {
            "tags": []
          },
          "execution_count": 18
        },
        {
          "output_type": "display_data",
          "data": {
            "image/png": "[encoded data removed]",
            "text/plain": [
              "<Figure size 864x288 with 1 Axes>"
            ]
          },
          "metadata": {
            "tags": [],
            "needs_background": "light"
          }
        }
      ]
    },
    {
      "cell_type": "markdown",
      "metadata": {
        "id": "byNZD12WxPAF"
      },
      "source": [
        "### A Supervised Learning Algorithm (Part 1)\n",
        "\n",
        "What is the relationship between BMI and diabetes risk?\n",
        "\n",
        "We could assume that risk is a linear function of BMI. In other words, for some unknown $\\theta_0, \\theta_1 \\in \\mathbb{R}$, we have\n",
        "$$ y = \\theta_1 \\cdot x + \\theta_0, $$\n",
        "where $x$ is the BMI (also called the independent variable), and $y$ is the diabetes risk score (the dependent variable). \n",
        "\n",
        "Note that $\\theta_1, \\theta_0$ are the slope and the intercept of the line relates $x$ to $y$. We call them *parameters*.\n",
        "\n",
        "We will see many algorithms for this task. For now, let's call the `sklearn.linear_model` library to find a $\\theta_1, \\theta_0$ that fit the data well."
      ]
    },
    {
      "cell_type": "code",
      "metadata": {
        "colab": {
          "base_uri": "https://localhost:8080/"
        },
        "id": "OcTNGEkDxKZH",
        "outputId": "67f85abb-52d6-4ce1-b01c-0efcddfe490a"
      },
      "source": [
        "from sklearn import linear_model\n",
        "from sklearn.metrics import mean_squared_error\n",
        "\n",
        "\n",
        "# Create linear regression object\n",
        "regr = linear_model.LinearRegression()\n",
        "\n",
        "# Train the model using the training sets\n",
        "regr.fit(diabetes_X_train.reshape(-1, 1), diabetes_y_train.reshape(-1,1))"
      ],
      "execution_count": 19,
      "outputs": [
        {
          "output_type": "execute_result",
          "data": {
            "text/plain": [
              "LinearRegression(copy_X=True, fit_intercept=True, n_jobs=None, normalize=False)"
            ]
          },
          "metadata": {
            "tags": []
          },
          "execution_count": 19
        }
      ]
    },
    {
      "cell_type": "code",
      "metadata": {
        "id": "_SaeKcpD2KZ2"
      },
      "source": [
        "# Make predictions on the training set\n",
        "diabetes_y_train_pred = regr.predict(diabetes_X_train.reshape(-1, 1))"
      ],
      "execution_count": 20,
      "outputs": []
    },
    {
      "cell_type": "code",
      "metadata": {
        "colab": {
          "base_uri": "https://localhost:8080/"
        },
        "id": "RplKTdLN2iqj",
        "outputId": "f6e6a6c6-55e9-4d87-bcd2-5dcb5c42e140"
      },
      "source": [
        "diabetes_y_train_pred"
      ],
      "execution_count": 21,
      "outputs": [
        {
          "output_type": "execute_result",
          "data": {
            "text/plain": [
              "array([[224.70261326],\n",
              "       [ 92.9629219 ],\n",
              "       [149.76810992],\n",
              "       [ 91.75430088],\n",
              "       [ 99.00602701],\n",
              "       [143.72500481],\n",
              "       [236.78882348],\n",
              "       [100.21464803],\n",
              "       [ 73.62498556],\n",
              "       [102.63189008],\n",
              "       [199.32157181],\n",
              "       [ 69.99912249],\n",
              "       [138.89052073],\n",
              "       [111.09223723],\n",
              "       [ 54.28704921],\n",
              "       [159.4370781 ],\n",
              "       [119.55258438],\n",
              "       [119.55258438],\n",
              "       [181.19225649],\n",
              "       [ 55.49567023]])"
            ]
          },
          "metadata": {
            "tags": []
          },
          "execution_count": 21
        }
      ]
    },
    {
      "cell_type": "code",
      "metadata": {
        "colab": {
          "base_uri": "https://localhost:8080/"
        },
        "id": "A0w1JN7h23MZ",
        "outputId": "eb1a0a90-d535-4282-caf7-70ddf65fccfd"
      },
      "source": [
        "# The coefficients\n",
        "print('Slope (theta1): \\t', regr.coef_[0])\n",
        "print('Intercept (theta0): \\t', regr.intercept_)"
      ],
      "execution_count": 22,
      "outputs": [
        {
          "output_type": "stream",
          "text": [
            "Slope (theta1): \t [37.37884216]\n",
            "Intercept (theta0): \t [-797.08173903]\n"
          ],
          "name": "stdout"
        }
      ]
    },
    {
      "cell_type": "code",
      "metadata": {
        "colab": {
          "base_uri": "https://localhost:8080/",
          "height": 296
        },
        "id": "Z8TFdPaU26DC",
        "outputId": "5c7e35fe-1964-404d-c067-3de33dbac5e9"
      },
      "source": [
        "plt.xlabel('Body Mass Index (BMI)')\n",
        "plt.ylabel('Diabetes Risk')\n",
        "plt.scatter(diabetes_X_train, diabetes_y_train)\n",
        "plt.plot(diabetes_X_train, diabetes_y_train_pred, color='black', linewidth=2)"
      ],
      "execution_count": 23,
      "outputs": [
        {
          "output_type": "execute_result",
          "data": {
            "text/plain": [
              "[<matplotlib.lines.Line2D at 0x7f4c23f0f950>]"
            ]
          },
          "metadata": {
            "tags": []
          },
          "execution_count": 23
        },
        {
          "output_type": "display_data",
          "data": {
            "image/png": "[encoded data removed]",
            "text/plain": [
              "<Figure size 864x288 with 1 Axes>"
            ]
          },
          "metadata": {
            "tags": [],
            "needs_background": "light"
          }
        }
      ]
    },
    {
      "cell_type": "markdown",
      "metadata": {
        "id": "YW-hq58IApme"
      },
      "source": [
        "### Predictions Using Supervised Learning\n",
        "\n",
        "Given a new dataset of patients with a known BMI, we can use this model to estimate their diabetes risk.\n",
        "\n",
        "\n",
        "Let's start by loading more data. We will load three new patients (shown in red below) that we haven't seen before."
      ]
    },
    {
      "cell_type": "code",
      "metadata": {
        "id": "GEUo9PDb3IjH"
      },
      "source": [
        "# Collect 3 data points\n",
        "diabetes_X_test = diabetes_X[:3]\n",
        "diabetes_y_test = diabetes_y[:3]"
      ],
      "execution_count": 24,
      "outputs": []
    },
    {
      "cell_type": "code",
      "metadata": {
        "colab": {
          "base_uri": "https://localhost:8080/",
          "height": 296
        },
        "id": "NZaiRm-BA1OF",
        "outputId": "c9b62fe0-0713-41d3-8cb5-c69aad16b2e6"
      },
      "source": [
        "plt.scatter(diabetes_X_train, diabetes_y_train)\n",
        "plt.scatter(diabetes_X_test, diabetes_y_test,  color='red')\n",
        "plt.xlabel('Body Mass Index (BMI)')\n",
        "plt.ylabel('Diabetes Risk')\n",
        "plt.legend(['Initial patients', 'New patients'])"
      ],
      "execution_count": 25,
      "outputs": [
        {
          "output_type": "execute_result",
          "data": {
            "text/plain": [
              "<matplotlib.legend.Legend at 0x7f4c23ee4650>"
            ]
          },
          "metadata": {
            "tags": []
          },
          "execution_count": 25
        },
        {
          "output_type": "display_data",
          "data": {
            "image/png": "[encoded data removed]",
            "text/plain": [
              "<Figure size 864x288 with 1 Axes>"
            ]
          },
          "metadata": {
            "tags": [],
            "needs_background": "light"
          }
        }
      ]
    },
    {
      "cell_type": "code",
      "metadata": {
        "colab": {
          "base_uri": "https://localhost:8080/",
          "height": 296
        },
        "id": "iOuh9WmvA22U",
        "outputId": "7e2d1d8b-b4f7-4289-c517-434001055e00"
      },
      "source": [
        "# generate predictions on the new patients\n",
        "diabetes_y_test_pred = regr.predict(diabetes_X_test.reshape(-1, 1))\n",
        "\n",
        "# visualize the results\n",
        "plt.xlabel('Body Mass Index (BMI)')\n",
        "plt.ylabel('Diabetes Risk')\n",
        "plt.scatter(diabetes_X_train, diabetes_y_train)\n",
        "plt.scatter(diabetes_X_test, diabetes_y_test, color='red', marker='o')\n",
        "plt.plot(diabetes_X_train, diabetes_y_train_pred, color='black', linewidth=1)\n",
        "plt.plot(diabetes_X_test, diabetes_y_test_pred, 'x', color='red', mew=3, markersize=8)\n",
        "plt.legend(['Model', 'Prediction', 'Initial patients', 'New patients'])"
      ],
      "execution_count": 26,
      "outputs": [
        {
          "output_type": "execute_result",
          "data": {
            "text/plain": [
              "<matplotlib.legend.Legend at 0x7f4c23e73e90>"
            ]
          },
          "metadata": {
            "tags": []
          },
          "execution_count": 26
        },
        {
          "output_type": "display_data",
          "data": {
            "image/png": "[encoded data removed]",
            "text/plain": [
              "<Figure size 864x288 with 1 Axes>"
            ]
          },
          "metadata": {
            "tags": [],
            "needs_background": "light"
          }
        }
      ]
    },
    {
      "cell_type": "markdown",
      "metadata": {
        "id": "YEhZ-4qcBmPi"
      },
      "source": [
        "## Lecture 2 - Part 2: Anatomy of Supervised Machine Learning: The Dataset"
      ]
    },
    {
      "cell_type": "markdown",
      "metadata": {
        "id": "kUJqelOW-SMF"
      },
      "source": [
        "We say that a training dataset of size $n$ (e.g., $n$ patients) is a set\n",
        "$$\\mathcal{D} = \\{(x^{(i)}, y^{(i)}) \\mid i = 1,2,...,n\\}$$\n",
        "\n",
        "Each $x^{(i)}$ denotes an input (e.g., the measurements for patient $i$), and each $y^{(i)} \\in \\mathcal{Y}$ is a target (e.g., the diabetes risk). \n",
        "\n",
        "Together, $(x^{(i)}, y^{(i)})$ form a *training example*."
      ]
    },
    {
      "cell_type": "code",
      "metadata": {
        "id": "eCUHPglTTg1e"
      },
      "source": [
        "import numpy as np\n",
        "import pandas as pd\n",
        "from sklearn import datasets"
      ],
      "execution_count": 32,
      "outputs": []
    },
    {
      "cell_type": "code",
      "metadata": {
        "id": "YLqxOXm5BDCj",
        "colab": {
          "base_uri": "https://localhost:8080/"
        },
        "outputId": "2ba1a771-f357-428c-847d-54cc290d5776"
      },
      "source": [
        "diabetes_data = datasets.load_diabetes()\n",
        "\n",
        "feature_names = diabetes_data['feature_names']\n",
        "diabetes_X, diabetes_y = diabetes_data['data'], diabetes_data['target']\n",
        "\n",
        "print (diabetes_X.shape, diabetes_y.shape)"
      ],
      "execution_count": 33,
      "outputs": [
        {
          "output_type": "stream",
          "text": [
            "(442, 10) (442,)\n"
          ],
          "name": "stdout"
        }
      ]
    },
    {
      "cell_type": "code",
      "metadata": {
        "colab": {
          "base_uri": "https://localhost:8080/",
          "height": 204
        },
        "id": "a3LyVMPn-WBY",
        "outputId": "86d79ad7-239f-4054-afab-f3662fd4caf8"
      },
      "source": [
        "diabetes_X = pd.DataFrame(data=diabetes_X, columns=feature_names)\n",
        "\n",
        "diabetes_X.head()"
      ],
      "execution_count": 34,
      "outputs": [
        {
          "output_type": "execute_result",
          "data": {
            "text/html": [
              "<div>\n",
              "<style scoped>\n",
              "    .dataframe tbody tr th:only-of-type {\n",
              "        vertical-align: middle;\n",
              "    }\n",
              "\n",
              "    .dataframe tbody tr th {\n",
              "        vertical-align: top;\n",
              "    }\n",
              "\n",
              "    .dataframe thead th {\n",
              "        text-align: right;\n",
              "    }\n",
              "</style>\n",
              "<table border=\"1\" class=\"dataframe\">\n",
              "  <thead>\n",
              "    <tr style=\"text-align: right;\">\n",
              "      <th></th>\n",
              "      <th>age</th>\n",
              "      <th>sex</th>\n",
              "      <th>bmi</th>\n",
              "      <th>bp</th>\n",
              "      <th>s1</th>\n",
              "      <th>s2</th>\n",
              "      <th>s3</th>\n",
              "      <th>s4</th>\n",
              "      <th>s5</th>\n",
              "      <th>s6</th>\n",
              "    </tr>\n",
              "  </thead>\n",
              "  <tbody>\n",
              "    <tr>\n",
              "      <th>0</th>\n",
              "      <td>0.038076</td>\n",
              "      <td>0.050680</td>\n",
              "      <td>0.061696</td>\n",
              "      <td>0.021872</td>\n",
              "      <td>-0.044223</td>\n",
              "      <td>-0.034821</td>\n",
              "      <td>-0.043401</td>\n",
              "      <td>-0.002592</td>\n",
              "      <td>0.019908</td>\n",
              "      <td>-0.017646</td>\n",
              "    </tr>\n",
              "    <tr>\n",
              "      <th>1</th>\n",
              "      <td>-0.001882</td>\n",
              "      <td>-0.044642</td>\n",
              "      <td>-0.051474</td>\n",
              "      <td>-0.026328</td>\n",
              "      <td>-0.008449</td>\n",
              "      <td>-0.019163</td>\n",
              "      <td>0.074412</td>\n",
              "      <td>-0.039493</td>\n",
              "      <td>-0.068330</td>\n",
              "      <td>-0.092204</td>\n",
              "    </tr>\n",
              "    <tr>\n",
              "      <th>2</th>\n",
              "      <td>0.085299</td>\n",
              "      <td>0.050680</td>\n",
              "      <td>0.044451</td>\n",
              "      <td>-0.005671</td>\n",
              "      <td>-0.045599</td>\n",
              "      <td>-0.034194</td>\n",
              "      <td>-0.032356</td>\n",
              "      <td>-0.002592</td>\n",
              "      <td>0.002864</td>\n",
              "      <td>-0.025930</td>\n",
              "    </tr>\n",
              "    <tr>\n",
              "      <th>3</th>\n",
              "      <td>-0.089063</td>\n",
              "      <td>-0.044642</td>\n",
              "      <td>-0.011595</td>\n",
              "      <td>-0.036656</td>\n",
              "      <td>0.012191</td>\n",
              "      <td>0.024991</td>\n",
              "      <td>-0.036038</td>\n",
              "      <td>0.034309</td>\n",
              "      <td>0.022692</td>\n",
              "      <td>-0.009362</td>\n",
              "    </tr>\n",
              "    <tr>\n",
              "      <th>4</th>\n",
              "      <td>0.005383</td>\n",
              "      <td>-0.044642</td>\n",
              "      <td>-0.036385</td>\n",
              "      <td>0.021872</td>\n",
              "      <td>0.003935</td>\n",
              "      <td>0.015596</td>\n",
              "      <td>0.008142</td>\n",
              "      <td>-0.002592</td>\n",
              "      <td>-0.031991</td>\n",
              "      <td>-0.046641</td>\n",
              "    </tr>\n",
              "  </tbody>\n",
              "</table>\n",
              "</div>"
            ],
            "text/plain": [
              "        age       sex       bmi  ...        s4        s5        s6\n",
              "0  0.038076  0.050680  0.061696  ... -0.002592  0.019908 -0.017646\n",
              "1 -0.001882 -0.044642 -0.051474  ... -0.039493 -0.068330 -0.092204\n",
              "2  0.085299  0.050680  0.044451  ... -0.002592  0.002864 -0.025930\n",
              "3 -0.089063 -0.044642 -0.011595  ...  0.034309  0.022692 -0.009362\n",
              "4  0.005383 -0.044642 -0.036385  ... -0.002592 -0.031991 -0.046641\n",
              "\n",
              "[5 rows x 10 columns]"
            ]
          },
          "metadata": {
            "tags": []
          },
          "execution_count": 34
        }
      ]
    },
    {
      "cell_type": "markdown",
      "metadata": {
        "id": "3TcLmMNg-6jp"
      },
      "source": [
        "### Training Dataset: Inputs\n",
        "\n",
        "More precisely, an input $x^{(i)} \\in \\mathcal{X}$ is a $d$-dimensional vector of the form\n",
        "$$ x^{(i)} = \\begin{bmatrix}\n",
        "x^{(i)}_1 \\\\\n",
        "x^{(i)}_2 \\\\\n",
        "\\vdots \\\\\n",
        "x^{(i)}_d\n",
        "\\end{bmatrix}$$\n",
        "For example, it could be the measurements the values of the $d$ features for patient $i$.\n",
        "\n",
        "The set $\\mathcal{X}$ is called the feature space. Often, we have, $\\mathcal{X} = \\mathbb{R}^d$.\n",
        "\n",
        "Let's look at data for one patient."
      ]
    },
    {
      "cell_type": "code",
      "metadata": {
        "colab": {
          "base_uri": "https://localhost:8080/"
        },
        "id": "FwRsHHtn-0fJ",
        "outputId": "9f813762-48fb-4d00-c93d-687866157940"
      },
      "source": [
        "diabetes_X.iloc[0]"
      ],
      "execution_count": 31,
      "outputs": [
        {
          "output_type": "execute_result",
          "data": {
            "text/plain": [
              "age    0.038076\n",
              "sex    0.050680\n",
              "bmi    0.061696\n",
              "bp     0.021872\n",
              "s1    -0.044223\n",
              "s2    -0.034821\n",
              "s3    -0.043401\n",
              "s4    -0.002592\n",
              "s5     0.019908\n",
              "s6    -0.017646\n",
              "Name: 0, dtype: float64"
            ]
          },
          "metadata": {
            "tags": []
          },
          "execution_count": 31
        }
      ]
    },
    {
      "cell_type": "markdown",
      "metadata": {
        "id": "WHumuXHPTm5D"
      },
      "source": [
        "### Training Dataset: Attributes\n",
        "\n",
        "We refer to the numerical variables describing the patient as *attributes*. Examples of attributes include:\n",
        "* The age of a patient.\n",
        "* The patient's gender.\n",
        "* The patient's BMI.\n",
        "\n",
        "Note that thes attributes in the above example have been mean-centered at zero and re-scaled to have a variance of one.\n",
        "\n",
        "### Training Dataset: Features\n",
        "\n",
        "Often, an input object has many attributes, and we want to use these attributes to define more complex descriptions of the input.\n",
        "\n",
        "* Is the patient old and a man? (Useful if old men are at risk).\n",
        "* Is the BMI above the obesity threshold?\n",
        "\n",
        "We call these custom attributes *features*."
      ]
    },
    {
      "cell_type": "code",
      "metadata": {
        "colab": {
          "base_uri": "https://localhost:8080/",
          "height": 204
        },
        "id": "VfAMM01o_KgN",
        "outputId": "cc000ff5-4e5c-48c1-d8e9-d5f431cf9083"
      },
      "source": [
        "diabetes_X['old_man'] = (diabetes_X['sex'] > 0) & (diabetes_X['age'] > 0.05)\n",
        "diabetes_X.head()"
      ],
      "execution_count": 35,
      "outputs": [
        {
          "output_type": "execute_result",
          "data": {
            "text/html": [
              "<div>\n",
              "<style scoped>\n",
              "    .dataframe tbody tr th:only-of-type {\n",
              "        vertical-align: middle;\n",
              "    }\n",
              "\n",
              "    .dataframe tbody tr th {\n",
              "        vertical-align: top;\n",
              "    }\n",
              "\n",
              "    .dataframe thead th {\n",
              "        text-align: right;\n",
              "    }\n",
              "</style>\n",
              "<table border=\"1\" class=\"dataframe\">\n",
              "  <thead>\n",
              "    <tr style=\"text-align: right;\">\n",
              "      <th></th>\n",
              "      <th>age</th>\n",
              "      <th>sex</th>\n",
              "      <th>bmi</th>\n",
              "      <th>bp</th>\n",
              "      <th>s1</th>\n",
              "      <th>s2</th>\n",
              "      <th>s3</th>\n",
              "      <th>s4</th>\n",
              "      <th>s5</th>\n",
              "      <th>s6</th>\n",
              "      <th>old_man</th>\n",
              "    </tr>\n",
              "  </thead>\n",
              "  <tbody>\n",
              "    <tr>\n",
              "      <th>0</th>\n",
              "      <td>0.038076</td>\n",
              "      <td>0.050680</td>\n",
              "      <td>0.061696</td>\n",
              "      <td>0.021872</td>\n",
              "      <td>-0.044223</td>\n",
              "      <td>-0.034821</td>\n",
              "      <td>-0.043401</td>\n",
              "      <td>-0.002592</td>\n",
              "      <td>0.019908</td>\n",
              "      <td>-0.017646</td>\n",
              "      <td>False</td>\n",
              "    </tr>\n",
              "    <tr>\n",
              "      <th>1</th>\n",
              "      <td>-0.001882</td>\n",
              "      <td>-0.044642</td>\n",
              "      <td>-0.051474</td>\n",
              "      <td>-0.026328</td>\n",
              "      <td>-0.008449</td>\n",
              "      <td>-0.019163</td>\n",
              "      <td>0.074412</td>\n",
              "      <td>-0.039493</td>\n",
              "      <td>-0.068330</td>\n",
              "      <td>-0.092204</td>\n",
              "      <td>False</td>\n",
              "    </tr>\n",
              "    <tr>\n",
              "      <th>2</th>\n",
              "      <td>0.085299</td>\n",
              "      <td>0.050680</td>\n",
              "      <td>0.044451</td>\n",
              "      <td>-0.005671</td>\n",
              "      <td>-0.045599</td>\n",
              "      <td>-0.034194</td>\n",
              "      <td>-0.032356</td>\n",
              "      <td>-0.002592</td>\n",
              "      <td>0.002864</td>\n",
              "      <td>-0.025930</td>\n",
              "      <td>True</td>\n",
              "    </tr>\n",
              "    <tr>\n",
              "      <th>3</th>\n",
              "      <td>-0.089063</td>\n",
              "      <td>-0.044642</td>\n",
              "      <td>-0.011595</td>\n",
              "      <td>-0.036656</td>\n",
              "      <td>0.012191</td>\n",
              "      <td>0.024991</td>\n",
              "      <td>-0.036038</td>\n",
              "      <td>0.034309</td>\n",
              "      <td>0.022692</td>\n",
              "      <td>-0.009362</td>\n",
              "      <td>False</td>\n",
              "    </tr>\n",
              "    <tr>\n",
              "      <th>4</th>\n",
              "      <td>0.005383</td>\n",
              "      <td>-0.044642</td>\n",
              "      <td>-0.036385</td>\n",
              "      <td>0.021872</td>\n",
              "      <td>0.003935</td>\n",
              "      <td>0.015596</td>\n",
              "      <td>0.008142</td>\n",
              "      <td>-0.002592</td>\n",
              "      <td>-0.031991</td>\n",
              "      <td>-0.046641</td>\n",
              "      <td>False</td>\n",
              "    </tr>\n",
              "  </tbody>\n",
              "</table>\n",
              "</div>"
            ],
            "text/plain": [
              "        age       sex       bmi  ...        s5        s6  old_man\n",
              "0  0.038076  0.050680  0.061696  ...  0.019908 -0.017646    False\n",
              "1 -0.001882 -0.044642 -0.051474  ... -0.068330 -0.092204    False\n",
              "2  0.085299  0.050680  0.044451  ...  0.002864 -0.025930     True\n",
              "3 -0.089063 -0.044642 -0.011595  ...  0.022692 -0.009362    False\n",
              "4  0.005383 -0.044642 -0.036385  ... -0.031991 -0.046641    False\n",
              "\n",
              "[5 rows x 11 columns]"
            ]
          },
          "metadata": {
            "tags": []
          },
          "execution_count": 35
        }
      ]
    },
    {
      "cell_type": "markdown",
      "metadata": {
        "id": "bQ1s1W7ETxLZ"
      },
      "source": [
        "### Features vs Attributes\n",
        "\n",
        "In practice, the terms attribute and features are often used interchangeably. Most authors refer to $x^{(i)}$ as a vector of features (i.e., they've been precomputed). \n",
        "\n",
        "We will follow this convention and use attribute only when there is ambiguity between features and attributes.\n",
        "\n",
        "### Features: Discrete vs. Continuous \n",
        "\n",
        "Features can be either discrete or continuous. We will see later that they may be handled differently by ML algorthims.\n",
        "\n",
        "The BMI feature that we have seen earlier is an example of a continuous feature.\n",
        "\n",
        "We can visualize its distribution."
      ]
    },
    {
      "cell_type": "code",
      "metadata": {
        "colab": {
          "base_uri": "https://localhost:8080/",
          "height": 265
        },
        "id": "25u3Uyn5TuDI",
        "outputId": "c599a610-6284-46ae-b51b-72011a69a842"
      },
      "source": [
        "diabetes_X.loc[:, 'bmi'].hist();"
      ],
      "execution_count": 37,
      "outputs": [
        {
          "output_type": "display_data",
          "data": {
            "image/png": "[encoded data removed]",
            "text/plain": [
              "<Figure size 864x288 with 1 Axes>"
            ]
          },
          "metadata": {
            "tags": [],
            "needs_background": "light"
          }
        }
      ]
    },
    {
      "cell_type": "markdown",
      "metadata": {
        "id": "bd1uVhlbT7s-"
      },
      "source": [
        "Other features take on one of a finite number of discrete values. The `sex` column is an example of a categorical feature.\n",
        "\n",
        "In this example, the dataset has been pre-processed such that the two values happen to be `0.05068012` and `-0.04464164`."
      ]
    },
    {
      "cell_type": "code",
      "metadata": {
        "colab": {
          "base_uri": "https://localhost:8080/",
          "height": 282
        },
        "id": "tecEdFkUT4JX",
        "outputId": "25b47d33-653f-4b7a-de0f-e362aeae52e7"
      },
      "source": [
        "print(diabetes_X.loc[:, 'sex'].unique())\n",
        "diabetes_X.loc[:, 'sex'].hist();"
      ],
      "execution_count": 38,
      "outputs": [
        {
          "output_type": "stream",
          "text": [
            "[ 0.05068012 -0.04464164]\n"
          ],
          "name": "stdout"
        },
        {
          "output_type": "display_data",
          "data": {
            "image/png": "[encoded data removed]",
            "text/plain": [
              "<Figure size 864x288 with 1 Axes>"
            ]
          },
          "metadata": {
            "tags": [],
            "needs_background": "light"
          }
        }
      ]
    },
    {
      "cell_type": "markdown",
      "metadata": {
        "id": "qks_j0e2UARo"
      },
      "source": [
        "### Training Dataset: Targets\n",
        "\n",
        "For each patient, we are interested in predicting a quantity of interest, the *target*. In our example, this is the patient's diabetes risk.\n",
        "\n",
        "Formally, when $(x^{(i)}, y^{(i)})$ form a *training example*, each $y^{(i)} \\in \\mathcal{Y}$ is a target. We call $\\mathcal{Y}$ the target space."
      ]
    },
    {
      "cell_type": "code",
      "metadata": {
        "id": "vGZXvCRpUP0p"
      },
      "source": [
        "diabetes_y = pd.DataFrame(data=diabetes_y, columns=['Target'])"
      ],
      "execution_count": 41,
      "outputs": []
    },
    {
      "cell_type": "code",
      "metadata": {
        "colab": {
          "base_uri": "https://localhost:8080/",
          "height": 547
        },
        "id": "i9Pfq2ElT9I-",
        "outputId": "8b4b5bdd-7d85-45cb-e2c2-a9b8109b1d2e"
      },
      "source": [
        "plt.xlabel('Diabetes risk score')\n",
        "plt.ylabel('Number of patients')\n",
        "diabetes_y.hist();"
      ],
      "execution_count": 43,
      "outputs": [
        {
          "output_type": "display_data",
          "data": {
            "image/png": "[encoded data removed]",
            "text/plain": [
              "<Figure size 864x288 with 1 Axes>"
            ]
          },
          "metadata": {
            "tags": [],
            "needs_background": "light"
          }
        },
        {
          "output_type": "display_data",
          "data": {
            "image/png": "[encoded data removed]",
            "text/plain": [
              "<Figure size 864x288 with 1 Axes>"
            ]
          },
          "metadata": {
            "tags": [],
            "needs_background": "light"
          }
        }
      ]
    },
    {
      "cell_type": "markdown",
      "metadata": {
        "id": "hBpO5EPtVOlP"
      },
      "source": [
        "### Targets: Regression vs. Classification\n",
        "\n",
        "We distinguish between two broad types of supervised learning problems that differ in the form of the target variable.\n",
        "\n",
        "1. __Regression__: The target variable $y$ is continuous. We are fitting a curve in a high-dimensional feature space that approximates the shape of the dataset.\n",
        "2. __Classification__: The target variable $y$ is discrete. Each discrete value corresponds to a *class* and we are looking for a hyperplane that separates the different classes."
      ]
    },
    {
      "cell_type": "markdown",
      "metadata": {
        "id": "sU9QS-snVWMk"
      },
      "source": [
        "We can easily turn our earlier regression example into classification by discretizing the diabetes risk scores into high or low.\n",
        "\n",
        "- Remember the train data had only 20 samples : X had one feature: the BMI and y had the target risk score"
      ]
    },
    {
      "cell_type": "code",
      "metadata": {
        "colab": {
          "base_uri": "https://localhost:8080/"
        },
        "id": "mu_mTPvWUFbP",
        "outputId": "cd8d92ba-6b8c-4a81-f356-64bfd9eda90a"
      },
      "source": [
        "diabetes_y_train.shape"
      ],
      "execution_count": 45,
      "outputs": [
        {
          "output_type": "execute_result",
          "data": {
            "text/plain": [
              "(20,)"
            ]
          },
          "metadata": {
            "tags": []
          },
          "execution_count": 45
        }
      ]
    },
    {
      "cell_type": "code",
      "metadata": {
        "colab": {
          "base_uri": "https://localhost:8080/"
        },
        "id": "832jJ9LpV7_A",
        "outputId": "96dd34e6-7c07-4b5b-d613-738027dc184f"
      },
      "source": [
        "diabetes_y_train"
      ],
      "execution_count": 46,
      "outputs": [
        {
          "output_type": "execute_result",
          "data": {
            "text/plain": [
              "array([233.,  91., 111., 152., 120.,  67., 310.,  94., 183.,  66., 173.,\n",
              "        72.,  49.,  64.,  48., 178., 104., 132., 220.,  57.])"
            ]
          },
          "metadata": {
            "tags": []
          },
          "execution_count": 46
        }
      ]
    },
    {
      "cell_type": "code",
      "metadata": {
        "colab": {
          "base_uri": "https://localhost:8080/"
        },
        "id": "BJHx7V3zWfUC",
        "outputId": "8de6ff7e-ba4e-4d9e-cbf9-cc47b626fd6d"
      },
      "source": [
        "diabetes_y_train_discr = np.digitize(diabetes_y_train, bins=[150])  ### < 150 -> 0 ; > 150 -> 1\n",
        "diabetes_y_train_discr"
      ],
      "execution_count": 49,
      "outputs": [
        {
          "output_type": "execute_result",
          "data": {
            "text/plain": [
              "array([1, 0, 0, 1, 0, 0, 1, 0, 1, 0, 1, 0, 0, 0, 0, 1, 0, 0, 1, 0])"
            ]
          },
          "metadata": {
            "tags": []
          },
          "execution_count": 49
        }
      ]
    },
    {
      "cell_type": "code",
      "metadata": {
        "colab": {
          "base_uri": "https://localhost:8080/"
        },
        "id": "kmnzCsfEXBLL",
        "outputId": "d95d0506-22cd-41a9-93d5-f7d991c4581a"
      },
      "source": [
        "diabetes_X_train  ### 20 samples of the BMI score"
      ],
      "execution_count": 51,
      "outputs": [
        {
          "output_type": "execute_result",
          "data": {
            "text/plain": [
              "array([27.33590163, 23.81145615, 25.33117117, 23.77912179, 23.97312796,\n",
              "       25.16949936, 27.65924525, 24.00546232, 23.29410635, 24.07013104,\n",
              "       26.65688002, 23.19710327, 25.04016191, 24.29647158, 22.77675656,\n",
              "       25.58984607, 24.52281212, 24.52281212, 26.17186459, 22.80909092])"
            ]
          },
          "metadata": {
            "tags": []
          },
          "execution_count": 51
        }
      ]
    },
    {
      "cell_type": "code",
      "metadata": {
        "colab": {
          "base_uri": "https://localhost:8080/",
          "height": 282
        },
        "id": "EuJ9PG4YWgr2",
        "outputId": "00a938ca-6697-4692-8f67-c0eaedf35287"
      },
      "source": [
        "# Visualize it\n",
        "\n",
        "### X: BMI where the y value is == 0 | Y: y orig where y == 0\n",
        "plt.scatter(diabetes_X_train[diabetes_y_train_discr==0], diabetes_y_train[diabetes_y_train_discr==0], marker='o', s=80, facecolors='none', edgecolors='g')\n",
        "### X: BMI where the y value is == 1 | Y: y orig where y == 1\n",
        "plt.scatter(diabetes_X_train[diabetes_y_train_discr==1], diabetes_y_train[diabetes_y_train_discr==1], marker='o', s=80, facecolors='none', edgecolors='r')\n",
        "plt.legend(['Low-Risk Patients', 'High-Risk Patients'])"
      ],
      "execution_count": 52,
      "outputs": [
        {
          "output_type": "execute_result",
          "data": {
            "text/plain": [
              "<matplotlib.legend.Legend at 0x7f4c1e1a8890>"
            ]
          },
          "metadata": {
            "tags": []
          },
          "execution_count": 52
        },
        {
          "output_type": "display_data",
          "data": {
            "image/png": "[encoded data removed]",
            "text/plain": [
              "<Figure size 864x288 with 1 Axes>"
            ]
          },
          "metadata": {
            "tags": [],
            "needs_background": "light"
          }
        }
      ]
    },
    {
      "cell_type": "markdown",
      "metadata": {
        "id": "5cuT38jxcFFi"
      },
      "source": [
        "Let's try to generate predictions for this dataset."
      ]
    },
    {
      "cell_type": "code",
      "metadata": {
        "colab": {
          "base_uri": "https://localhost:8080/"
        },
        "id": "rzxcAePzW3xy",
        "outputId": "81cf6a2f-4491-4ce3-8a68-86d70380bef0"
      },
      "source": [
        "# Create logistic regression object (note: this is actually a classification algorithm!)\n",
        "clf = linear_model.LogisticRegression()\n",
        "\n",
        "# Train the model using the training sets\n",
        "clf.fit(diabetes_X_train.reshape(-1,1), diabetes_y_train_discr.reshape(-1,))"
      ],
      "execution_count": 55,
      "outputs": [
        {
          "output_type": "execute_result",
          "data": {
            "text/plain": [
              "LogisticRegression(C=1.0, class_weight=None, dual=False, fit_intercept=True,\n",
              "                   intercept_scaling=1, l1_ratio=None, max_iter=100,\n",
              "                   multi_class='auto', n_jobs=None, penalty='l2',\n",
              "                   random_state=None, solver='lbfgs', tol=0.0001, verbose=0,\n",
              "                   warm_start=False)"
            ]
          },
          "metadata": {
            "tags": []
          },
          "execution_count": 55
        }
      ]
    },
    {
      "cell_type": "code",
      "metadata": {
        "colab": {
          "base_uri": "https://localhost:8080/"
        },
        "id": "1h9Whoh8ca5P",
        "outputId": "d6c9a665-509d-4813-dfa6-2d6515a64bf5"
      },
      "source": [
        "# Make predictions on the training set\n",
        "diabetes_y_train_pred = clf.predict(diabetes_X_train.reshape(-1,1))\n",
        "\n",
        "diabetes_y_train_pred"
      ],
      "execution_count": 59,
      "outputs": [
        {
          "output_type": "execute_result",
          "data": {
            "text/plain": [
              "array([1, 0, 0, 0, 0, 0, 1, 0, 0, 0, 1, 0, 0, 0, 0, 1, 0, 0, 1, 0])"
            ]
          },
          "metadata": {
            "tags": []
          },
          "execution_count": 59
        }
      ]
    },
    {
      "cell_type": "code",
      "metadata": {
        "colab": {
          "base_uri": "https://localhost:8080/",
          "height": 282
        },
        "id": "HUtDMOBOcipp",
        "outputId": "31acd9b5-a4fa-4a76-8e76-be0e3f707543"
      },
      "source": [
        "# Visualize it\n",
        "\n",
        "### X: BMI where original y == 0 | Y: orig y where orig y == 0\n",
        "plt.scatter(diabetes_X_train[diabetes_y_train_discr==0], diabetes_y_train[diabetes_y_train_discr==0], marker='o', s=140, facecolors='none', edgecolors='g')\n",
        "### X: BMI where original y == 1 | Y: orig y where orig y == 1\n",
        "plt.scatter(diabetes_X_train[diabetes_y_train_discr==1], diabetes_y_train[diabetes_y_train_discr==1], marker='o', s=140, facecolors='none', edgecolors='r')\n",
        "### X: BMI where pred y == 0 | Y: orig y where pred y == 0\n",
        "plt.scatter(diabetes_X_train[diabetes_y_train_pred==0], diabetes_y_train[diabetes_y_train_pred==0], color='g', s=20)\n",
        "### X: BMI where pred y == 1 | Y: orig y where pred y == 1\n",
        "plt.scatter(diabetes_X_train[diabetes_y_train_pred==1], diabetes_y_train[diabetes_y_train_pred==1], color='r', s=20)\n",
        "plt.legend(['Low-Risk Patients', 'High-Risk Patients', 'Low-Risk Predictions', 'High-Risk Predictions'])    "
      ],
      "execution_count": 60,
      "outputs": [
        {
          "output_type": "execute_result",
          "data": {
            "text/plain": [
              "<matplotlib.legend.Legend at 0x7f4c1e1e9cd0>"
            ]
          },
          "metadata": {
            "tags": []
          },
          "execution_count": 60
        },
        {
          "output_type": "display_data",
          "data": {
            "image/png": "[encoded data removed]",
            "text/plain": [
              "<Figure size 864x288 with 1 Axes>"
            ]
          },
          "metadata": {
            "tags": [],
            "needs_background": "light"
          }
        }
      ]
    },
    {
      "cell_type": "markdown",
      "metadata": {
        "id": "srI_vsordkHl"
      },
      "source": [
        "There are 2 patients where originally they are high risk but our model has predicted that they are low risk"
      ]
    },
    {
      "cell_type": "code",
      "metadata": {
        "id": "yLFIyhIedgdR"
      },
      "source": [
        ""
      ],
      "execution_count": null,
      "outputs": []
    }
  ]
}