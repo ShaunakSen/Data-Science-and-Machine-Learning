{
  "nbformat": 4,
  "nbformat_minor": 0,
  "metadata": {
    "colab": {
      "name": "Colors dataset - consolidated.ipynb",
      "provenance": [],
      "collapsed_sections": [],
      "toc_visible": true,
      "authorship_tag": "ABX9TyMyP/FT5ty4h1m2nYfLsrn3",
      "include_colab_link": true
    },
    "kernelspec": {
      "name": "python3",
      "display_name": "Python 3"
    }
  },
  "cells": [
    {
      "cell_type": "markdown",
      "metadata": {
        "id": "view-in-github",
        "colab_type": "text"
      },
      "source": [
        "<a href=\"https://colab.research.google.com/github/ShaunakSen/Data-Science-and-Machine-Learning/blob/master/Colors_dataset_consolidated.ipynb\" target=\"_parent\"><img src=\"https://colab.research.google.com/assets/colab-badge.svg\" alt=\"Open In Colab\"/></a>"
      ]
    },
    {
      "cell_type": "markdown",
      "metadata": {
        "id": "ciiIWIHbBro7",
        "colab_type": "text"
      },
      "source": [
        "### Import libraries"
      ]
    },
    {
      "cell_type": "code",
      "metadata": {
        "id": "K9hTBWAOigGV",
        "colab_type": "code",
        "colab": {
          "base_uri": "https://localhost:8080/",
          "height": 72
        },
        "outputId": "b9400ea1-73ef-4e31-8818-47b7198cc153"
      },
      "source": [
        "!pip install python-Levenshtein\n",
        "!pip install fuzzywuzzy"
      ],
      "execution_count": 100,
      "outputs": [
        {
          "output_type": "stream",
          "text": [
            "Requirement already satisfied: python-Levenshtein in /usr/local/lib/python3.6/dist-packages (0.12.0)\n",
            "Requirement already satisfied: setuptools in /usr/local/lib/python3.6/dist-packages (from python-Levenshtein) (50.3.0)\n",
            "Requirement already satisfied: fuzzywuzzy in /usr/local/lib/python3.6/dist-packages (0.18.0)\n"
          ],
          "name": "stdout"
        }
      ]
    },
    {
      "cell_type": "code",
      "metadata": {
        "id": "qUxYD2OF9VWg",
        "colab_type": "code",
        "colab": {}
      },
      "source": [
        "from urllib.request import urlopen\n",
        "import json\n",
        "import os\n",
        "import pickle\n",
        "import pandas as pd\n",
        "import numpy as np\n",
        "\n",
        "from fuzzywuzzy import fuzz"
      ],
      "execution_count": 101,
      "outputs": []
    },
    {
      "cell_type": "markdown",
      "metadata": {
        "id": "ysREZJ1QBx2R",
        "colab_type": "text"
      },
      "source": [
        "### Read the JSON data file"
      ]
    },
    {
      "cell_type": "code",
      "metadata": {
        "id": "cNtzgIhq96Oj",
        "colab_type": "code",
        "colab": {}
      },
      "source": [
        "with open('./sample_data/colors_data.json') as f:\n",
        "  data = json.load(f)"
      ],
      "execution_count": 102,
      "outputs": []
    },
    {
      "cell_type": "code",
      "metadata": {
        "id": "rllpB_FY-ABF",
        "colab_type": "code",
        "colab": {
          "base_uri": "https://localhost:8080/",
          "height": 145
        },
        "outputId": "f37057aa-005e-44f3-ab4c-c77878fbb1e9"
      },
      "source": [
        "data['colors'][0]"
      ],
      "execution_count": 103,
      "outputs": [
        {
          "output_type": "execute_result",
          "data": {
            "text/plain": [
              "{'hex': '#c93f38',\n",
              " 'hsl': {'h': 2.896551724137933,\n",
              "  'l': 50.3921568627451,\n",
              "  's': 57.31225296442687},\n",
              " 'luminance': 70.85364929204422,\n",
              " 'name': '100 Mph',\n",
              " 'rgb': {'b': 56, 'g': 63, 'r': 201}}"
            ]
          },
          "metadata": {
            "tags": []
          },
          "execution_count": 103
        }
      ]
    },
    {
      "cell_type": "code",
      "metadata": {
        "id": "-vozyzAG_VFg",
        "colab_type": "code",
        "colab": {
          "base_uri": "https://localhost:8080/",
          "height": 35
        },
        "outputId": "046e147b-d1d5-448a-e016-bbf5f7aed5dc"
      },
      "source": [
        "color_names = [color['name'].lower().strip() for color in data['colors']]\n",
        "print (len(color_names))"
      ],
      "execution_count": 104,
      "outputs": [
        {
          "output_type": "stream",
          "text": [
            "25611\n"
          ],
          "name": "stdout"
        }
      ]
    },
    {
      "cell_type": "markdown",
      "metadata": {
        "id": "oJ8FHzgwB1G6",
        "colab_type": "text"
      },
      "source": [
        "### Read csv 1 data file"
      ]
    },
    {
      "cell_type": "code",
      "metadata": {
        "id": "QujmqjPJ_pGn",
        "colab_type": "code",
        "colab": {
          "base_uri": "https://localhost:8080/",
          "height": 407
        },
        "outputId": "beb0b8a6-6ea6-44aa-ff08-d6771ab6cd65"
      },
      "source": [
        "color_csv1 = pd.read_csv('./sample_data/colorhexa_com.csv')\n",
        "color_csv1"
      ],
      "execution_count": 105,
      "outputs": [
        {
          "output_type": "execute_result",
          "data": {
            "text/html": [
              "<div>\n",
              "<style scoped>\n",
              "    .dataframe tbody tr th:only-of-type {\n",
              "        vertical-align: middle;\n",
              "    }\n",
              "\n",
              "    .dataframe tbody tr th {\n",
              "        vertical-align: top;\n",
              "    }\n",
              "\n",
              "    .dataframe thead th {\n",
              "        text-align: right;\n",
              "    }\n",
              "</style>\n",
              "<table border=\"1\" class=\"dataframe\">\n",
              "  <thead>\n",
              "    <tr style=\"text-align: right;\">\n",
              "      <th></th>\n",
              "      <th>Name</th>\n",
              "      <th>Hex (24 bit)</th>\n",
              "      <th>Red (8 bit)</th>\n",
              "      <th>Green (8 bit)</th>\n",
              "      <th>Blue (8 bit)</th>\n",
              "      <th>Hue (degrees)</th>\n",
              "      <th>HSL.S (%)</th>\n",
              "      <th>HSL.L (%)</th>\n",
              "    </tr>\n",
              "  </thead>\n",
              "  <tbody>\n",
              "    <tr>\n",
              "      <th>0</th>\n",
              "      <td>Air Force blue</td>\n",
              "      <td>#5d8aa8</td>\n",
              "      <td>93</td>\n",
              "      <td>138</td>\n",
              "      <td>168</td>\n",
              "      <td>204.0</td>\n",
              "      <td>30.1</td>\n",
              "      <td>51.2</td>\n",
              "    </tr>\n",
              "    <tr>\n",
              "      <th>1</th>\n",
              "      <td>Alice blue</td>\n",
              "      <td>#f0f8ff</td>\n",
              "      <td>240</td>\n",
              "      <td>248</td>\n",
              "      <td>255</td>\n",
              "      <td>208.0</td>\n",
              "      <td>100.0</td>\n",
              "      <td>97.1</td>\n",
              "    </tr>\n",
              "    <tr>\n",
              "      <th>2</th>\n",
              "      <td>Alizarin crimson</td>\n",
              "      <td>#e32636</td>\n",
              "      <td>227</td>\n",
              "      <td>38</td>\n",
              "      <td>54</td>\n",
              "      <td>354.9</td>\n",
              "      <td>77.1</td>\n",
              "      <td>52.0</td>\n",
              "    </tr>\n",
              "    <tr>\n",
              "      <th>3</th>\n",
              "      <td>Almond</td>\n",
              "      <td>#efdecd</td>\n",
              "      <td>239</td>\n",
              "      <td>222</td>\n",
              "      <td>205</td>\n",
              "      <td>30.0</td>\n",
              "      <td>51.5</td>\n",
              "      <td>87.1</td>\n",
              "    </tr>\n",
              "    <tr>\n",
              "      <th>4</th>\n",
              "      <td>Amaranth</td>\n",
              "      <td>#e52b50</td>\n",
              "      <td>229</td>\n",
              "      <td>43</td>\n",
              "      <td>80</td>\n",
              "      <td>348.1</td>\n",
              "      <td>78.2</td>\n",
              "      <td>53.3</td>\n",
              "    </tr>\n",
              "    <tr>\n",
              "      <th>...</th>\n",
              "      <td>...</td>\n",
              "      <td>...</td>\n",
              "      <td>...</td>\n",
              "      <td>...</td>\n",
              "      <td>...</td>\n",
              "      <td>...</td>\n",
              "      <td>...</td>\n",
              "      <td>...</td>\n",
              "    </tr>\n",
              "    <tr>\n",
              "      <th>741</th>\n",
              "      <td>Yellow</td>\n",
              "      <td>#ffff00</td>\n",
              "      <td>255</td>\n",
              "      <td>255</td>\n",
              "      <td>0</td>\n",
              "      <td>60.0</td>\n",
              "      <td>100.0</td>\n",
              "      <td>50.0</td>\n",
              "    </tr>\n",
              "    <tr>\n",
              "      <th>742</th>\n",
              "      <td>Yellow Orange</td>\n",
              "      <td>#ffae42</td>\n",
              "      <td>255</td>\n",
              "      <td>174</td>\n",
              "      <td>66</td>\n",
              "      <td>34.3</td>\n",
              "      <td>100.0</td>\n",
              "      <td>62.9</td>\n",
              "    </tr>\n",
              "    <tr>\n",
              "      <th>743</th>\n",
              "      <td>Yellow green</td>\n",
              "      <td>#9acd32</td>\n",
              "      <td>154</td>\n",
              "      <td>205</td>\n",
              "      <td>50</td>\n",
              "      <td>79.7</td>\n",
              "      <td>60.8</td>\n",
              "      <td>50.0</td>\n",
              "    </tr>\n",
              "    <tr>\n",
              "      <th>744</th>\n",
              "      <td>Zaffre</td>\n",
              "      <td>#0014a8</td>\n",
              "      <td>0</td>\n",
              "      <td>20</td>\n",
              "      <td>168</td>\n",
              "      <td>232.9</td>\n",
              "      <td>100.0</td>\n",
              "      <td>32.9</td>\n",
              "    </tr>\n",
              "    <tr>\n",
              "      <th>745</th>\n",
              "      <td>Zinnwaldite brown</td>\n",
              "      <td>#2c1608</td>\n",
              "      <td>44</td>\n",
              "      <td>22</td>\n",
              "      <td>8</td>\n",
              "      <td>23.3</td>\n",
              "      <td>69.2</td>\n",
              "      <td>10.2</td>\n",
              "    </tr>\n",
              "  </tbody>\n",
              "</table>\n",
              "<p>746 rows × 8 columns</p>\n",
              "</div>"
            ],
            "text/plain": [
              "                  Name Hex (24 bit)  ...  HSL.S (%)  HSL.L (%)\n",
              "0       Air Force blue      #5d8aa8  ...       30.1       51.2\n",
              "1           Alice blue      #f0f8ff  ...      100.0       97.1\n",
              "2     Alizarin crimson      #e32636  ...       77.1       52.0\n",
              "3               Almond      #efdecd  ...       51.5       87.1\n",
              "4             Amaranth      #e52b50  ...       78.2       53.3\n",
              "..                 ...          ...  ...        ...        ...\n",
              "741             Yellow      #ffff00  ...      100.0       50.0\n",
              "742      Yellow Orange      #ffae42  ...      100.0       62.9\n",
              "743       Yellow green      #9acd32  ...       60.8       50.0\n",
              "744             Zaffre      #0014a8  ...      100.0       32.9\n",
              "745  Zinnwaldite brown      #2c1608  ...       69.2       10.2\n",
              "\n",
              "[746 rows x 8 columns]"
            ]
          },
          "metadata": {
            "tags": []
          },
          "execution_count": 105
        }
      ]
    },
    {
      "cell_type": "code",
      "metadata": {
        "id": "-Ha9k3oIAat6",
        "colab_type": "code",
        "colab": {
          "base_uri": "https://localhost:8080/",
          "height": 35
        },
        "outputId": "90f63823-f438-4284-ca8c-9b6d523c6836"
      },
      "source": [
        "color_names_1 = [name.lower().strip() for name in color_csv1['Name']]\n",
        "\n",
        "print (len(color_names_1))\n",
        "\n",
        "color_csv1['new_name'] = color_names_1"
      ],
      "execution_count": 106,
      "outputs": [
        {
          "output_type": "stream",
          "text": [
            "746\n"
          ],
          "name": "stdout"
        }
      ]
    },
    {
      "cell_type": "markdown",
      "metadata": {
        "id": "hm6dx7KeB7qa",
        "colab_type": "text"
      },
      "source": [
        "### Match: Simple"
      ]
    },
    {
      "cell_type": "code",
      "metadata": {
        "id": "pM3WpJvOAlRr",
        "colab_type": "code",
        "colab": {
          "base_uri": "https://localhost:8080/",
          "height": 35
        },
        "outputId": "f1e1ddce-9d9b-4485-e72c-2c6fa53f2ba6"
      },
      "source": [
        "def simple_match(new_names, names_main):\n",
        "    unmatched_names, unmatched_count = [], 0\n",
        "    for name_ in new_names:\n",
        "        if name_ not in names_main:\n",
        "            unmatched_count += 1\n",
        "            if name_ not in unmatched_names:\n",
        "                unmatched_names.append(name_)\n",
        "    return unmatched_names, unmatched_count\n",
        "\n",
        "main_csv1_names, main_csv1_count = simple_match(color_names_1, color_names)\n",
        "\n",
        "main_csv1_count"
      ],
      "execution_count": 107,
      "outputs": [
        {
          "output_type": "execute_result",
          "data": {
            "text/plain": [
              "89"
            ]
          },
          "metadata": {
            "tags": []
          },
          "execution_count": 107
        }
      ]
    },
    {
      "cell_type": "markdown",
      "metadata": {
        "id": "USzJB8CfU-Ka",
        "colab_type": "text"
      },
      "source": [
        "### Match: Fuzzy\n",
        "\n",
        "Approach:\n",
        "\n",
        "Use `fuzz.ratio` to merge the duplicates\n",
        "\n",
        "In the final match we can use the other techniques"
      ]
    },
    {
      "cell_type": "code",
      "metadata": {
        "id": "F8gPnNKeW44i",
        "colab_type": "code",
        "colab": {
          "base_uri": "https://localhost:8080/",
          "height": 78
        },
        "outputId": "6e953f37-eb3d-4889-c794-6e693c111243"
      },
      "source": [
        "color_csv1.loc[color_csv1['new_name'] == \"dark sea green\"]"
      ],
      "execution_count": 108,
      "outputs": [
        {
          "output_type": "execute_result",
          "data": {
            "text/html": [
              "<div>\n",
              "<style scoped>\n",
              "    .dataframe tbody tr th:only-of-type {\n",
              "        vertical-align: middle;\n",
              "    }\n",
              "\n",
              "    .dataframe tbody tr th {\n",
              "        vertical-align: top;\n",
              "    }\n",
              "\n",
              "    .dataframe thead th {\n",
              "        text-align: right;\n",
              "    }\n",
              "</style>\n",
              "<table border=\"1\" class=\"dataframe\">\n",
              "  <thead>\n",
              "    <tr style=\"text-align: right;\">\n",
              "      <th></th>\n",
              "      <th>Name</th>\n",
              "      <th>Hex (24 bit)</th>\n",
              "      <th>Red (8 bit)</th>\n",
              "      <th>Green (8 bit)</th>\n",
              "      <th>Blue (8 bit)</th>\n",
              "      <th>Hue (degrees)</th>\n",
              "      <th>HSL.S (%)</th>\n",
              "      <th>HSL.L (%)</th>\n",
              "      <th>new_name</th>\n",
              "    </tr>\n",
              "  </thead>\n",
              "  <tbody>\n",
              "    <tr>\n",
              "      <th>197</th>\n",
              "      <td>Dark sea green</td>\n",
              "      <td>#8fbc8f</td>\n",
              "      <td>143</td>\n",
              "      <td>188</td>\n",
              "      <td>143</td>\n",
              "      <td>120.0</td>\n",
              "      <td>25.1</td>\n",
              "      <td>64.9</td>\n",
              "      <td>dark sea green</td>\n",
              "    </tr>\n",
              "  </tbody>\n",
              "</table>\n",
              "</div>"
            ],
            "text/plain": [
              "               Name Hex (24 bit)  ...  HSL.L (%)        new_name\n",
              "197  Dark sea green      #8fbc8f  ...       64.9  dark sea green\n",
              "\n",
              "[1 rows x 9 columns]"
            ]
          },
          "metadata": {
            "tags": []
          },
          "execution_count": 108
        }
      ]
    },
    {
      "cell_type": "code",
      "metadata": {
        "id": "MHDrPJr8AslL",
        "colab_type": "code",
        "colab": {
          "base_uri": "https://localhost:8080/",
          "height": 290
        },
        "outputId": "372b62f4-3ac9-47a6-a287-aeca6bca6414"
      },
      "source": [
        "def fuzzy_match(names_missing, names_main, df, main_data):\n",
        "    mis_count = 0\n",
        "    # for each missing color\n",
        "    for mis_ in names_missing:\n",
        "        mis_count+=1\n",
        "        # print (f\"missing name: {mis_}, {mis_count}\")\n",
        "        found = False\n",
        "        for main_ in names_main:\n",
        "            if found:\n",
        "                break\n",
        "            else:\n",
        "                if fuzz.ratio(main_, mis_) > 90:\n",
        "                    print (main_, \"||\", mis_)\n",
        "                    found = True\n",
        "        if not found:\n",
        "            ### add the mis_ to the main data\n",
        "            row = df.loc[df['new_name'] == mis_]\n",
        "            r, g, b = int(row['Red (8 bit)']), int(row['Green (8 bit)']), int(row['Blue (8 bit)'])\n",
        "            main_data['colors'].append({'name': mis_, 'rgb': {'b': b, 'g': g, 'r': r}})\n",
        "\n",
        "    return main_data\n",
        "\n",
        "modified_main_data = fuzzy_match(main_csv1_names, color_names, color_csv1, data)"
      ],
      "execution_count": 109,
      "outputs": [
        {
          "output_type": "stream",
          "text": [
            "burlwood || burlywood\n",
            "dark seagreen || dark sea green\n",
            "dark slate grey || dark slate gray\n",
            "grey asparagus || gray asparagus\n",
            "hooker's green || hooker green\n",
            "lavender grey || lavender gray\n",
            "pastel grey || pastel gray\n",
            "payne's grey || payne grey\n",
            "purple mountain majesty || purple mountain's majesty\n",
            "sand brown || sandy brown\n",
            "screamin' green || screamin green\n",
            "storm cloud || stormcloud\n",
            "terracotta || terra cotta\n",
            "timber wolf || timberwolf\n",
            "tropical rainforest || tropical rain forest\n"
          ],
          "name": "stdout"
        }
      ]
    },
    {
      "cell_type": "code",
      "metadata": {
        "id": "xVQ42ZphnDcV",
        "colab_type": "code",
        "colab": {
          "base_uri": "https://localhost:8080/",
          "height": 35
        },
        "outputId": "b1fa33e5-fbb1-46c7-aa7c-4b44fab93dda"
      },
      "source": [
        "len(modified_main_data['colors'])"
      ],
      "execution_count": 110,
      "outputs": [
        {
          "output_type": "execute_result",
          "data": {
            "text/plain": [
              "25685"
            ]
          },
          "metadata": {
            "tags": []
          },
          "execution_count": 110
        }
      ]
    },
    {
      "cell_type": "code",
      "metadata": {
        "id": "FHNZCuL9nd8Z",
        "colab_type": "code",
        "colab": {
          "base_uri": "https://localhost:8080/",
          "height": 108
        },
        "outputId": "e09b8317-fc75-4753-b5b2-0565f4fd8c41"
      },
      "source": [
        "modified_main_data['colors'][25680:]"
      ],
      "execution_count": 111,
      "outputs": [
        {
          "output_type": "execute_result",
          "data": {
            "text/plain": [
              "[{'name': 'saint patrick blue', 'rgb': {'b': 122, 'g': 41, 'r': 35}},\n",
              " {'name': 'slate gray', 'rgb': {'b': 144, 'g': 128, 'r': 112}},\n",
              " {'name': 'taupe gray', 'rgb': {'b': 137, 'g': 133, 'r': 139}},\n",
              " {'name': 'tawny', 'rgb': {'b': 0, 'g': 87, 'r': 205}},\n",
              " {'name': 'tiger eye', 'rgb': {'b': 60, 'g': 141, 'r': 224}}]"
            ]
          },
          "metadata": {
            "tags": []
          },
          "execution_count": 111
        }
      ]
    },
    {
      "cell_type": "code",
      "metadata": {
        "id": "AEUCRrXmabiv",
        "colab_type": "code",
        "colab": {
          "base_uri": "https://localhost:8080/",
          "height": 78
        },
        "outputId": "892795e6-059c-489d-9bdb-e10ffdc1c5d4"
      },
      "source": [
        "color_csv1.loc[color_csv1['new_name'] == 'tawny']"
      ],
      "execution_count": 112,
      "outputs": [
        {
          "output_type": "execute_result",
          "data": {
            "text/html": [
              "<div>\n",
              "<style scoped>\n",
              "    .dataframe tbody tr th:only-of-type {\n",
              "        vertical-align: middle;\n",
              "    }\n",
              "\n",
              "    .dataframe tbody tr th {\n",
              "        vertical-align: top;\n",
              "    }\n",
              "\n",
              "    .dataframe thead th {\n",
              "        text-align: right;\n",
              "    }\n",
              "</style>\n",
              "<table border=\"1\" class=\"dataframe\">\n",
              "  <thead>\n",
              "    <tr style=\"text-align: right;\">\n",
              "      <th></th>\n",
              "      <th>Name</th>\n",
              "      <th>Hex (24 bit)</th>\n",
              "      <th>Red (8 bit)</th>\n",
              "      <th>Green (8 bit)</th>\n",
              "      <th>Blue (8 bit)</th>\n",
              "      <th>Hue (degrees)</th>\n",
              "      <th>HSL.S (%)</th>\n",
              "      <th>HSL.L (%)</th>\n",
              "      <th>new_name</th>\n",
              "    </tr>\n",
              "  </thead>\n",
              "  <tbody>\n",
              "    <tr>\n",
              "      <th>663</th>\n",
              "      <td>Tawny</td>\n",
              "      <td>#cd5700</td>\n",
              "      <td>205</td>\n",
              "      <td>87</td>\n",
              "      <td>0</td>\n",
              "      <td>25.5</td>\n",
              "      <td>100.0</td>\n",
              "      <td>40.2</td>\n",
              "      <td>tawny</td>\n",
              "    </tr>\n",
              "  </tbody>\n",
              "</table>\n",
              "</div>"
            ],
            "text/plain": [
              "      Name Hex (24 bit)  Red (8 bit)  ...  HSL.S (%)  HSL.L (%)  new_name\n",
              "663  Tawny      #cd5700          205  ...      100.0       40.2     tawny\n",
              "\n",
              "[1 rows x 9 columns]"
            ]
          },
          "metadata": {
            "tags": []
          },
          "execution_count": 112
        }
      ]
    },
    {
      "cell_type": "code",
      "metadata": {
        "id": "UsQ-ajBAPnqN",
        "colab_type": "code",
        "colab": {
          "base_uri": "https://localhost:8080/",
          "height": 35
        },
        "outputId": "24417e37-01ee-42e2-c46f-11754ecaffdc"
      },
      "source": [
        "color_names = [color['name'].lower().strip() for color in modified_main_data['colors']]\n",
        "print (len(color_names))"
      ],
      "execution_count": 113,
      "outputs": [
        {
          "output_type": "stream",
          "text": [
            "25685\n"
          ],
          "name": "stdout"
        }
      ]
    },
    {
      "cell_type": "markdown",
      "metadata": {
        "id": "oQq6j4MNbxPr",
        "colab_type": "text"
      },
      "source": [
        "---\n",
        "\n",
        "## Read csv 2 data file"
      ]
    },
    {
      "cell_type": "code",
      "metadata": {
        "id": "riODpfk1adsd",
        "colab_type": "code",
        "colab": {
          "base_uri": "https://localhost:8080/",
          "height": 407
        },
        "outputId": "f5e79481-b5f7-47fd-b66e-c204c562b76a"
      },
      "source": [
        "color_csv2 = pd.read_csv('./sample_data/wikipedia_color_names.csv')\n",
        "color_csv2"
      ],
      "execution_count": 114,
      "outputs": [
        {
          "output_type": "execute_result",
          "data": {
            "text/html": [
              "<div>\n",
              "<style scoped>\n",
              "    .dataframe tbody tr th:only-of-type {\n",
              "        vertical-align: middle;\n",
              "    }\n",
              "\n",
              "    .dataframe tbody tr th {\n",
              "        vertical-align: top;\n",
              "    }\n",
              "\n",
              "    .dataframe thead th {\n",
              "        text-align: right;\n",
              "    }\n",
              "</style>\n",
              "<table border=\"1\" class=\"dataframe\">\n",
              "  <thead>\n",
              "    <tr style=\"text-align: right;\">\n",
              "      <th></th>\n",
              "      <th>Name</th>\n",
              "      <th>Hex (24 bit)</th>\n",
              "      <th>Red (8 bit)</th>\n",
              "      <th>Green (8 bit)</th>\n",
              "      <th>Blue (8 bit)</th>\n",
              "      <th>Hue (degrees)</th>\n",
              "      <th>HSL.S (%)</th>\n",
              "      <th>HSL.L (%), HSV.S (%), HSV.V (%)</th>\n",
              "    </tr>\n",
              "  </thead>\n",
              "  <tbody>\n",
              "    <tr>\n",
              "      <th>0</th>\n",
              "      <td>Absolute zero</td>\n",
              "      <td>#0048BA</td>\n",
              "      <td>0</td>\n",
              "      <td>72</td>\n",
              "      <td>186</td>\n",
              "      <td>217.0</td>\n",
              "      <td>100.0</td>\n",
              "      <td>37.0</td>\n",
              "    </tr>\n",
              "    <tr>\n",
              "      <th>1</th>\n",
              "      <td>Acid green</td>\n",
              "      <td>#B0BF1A</td>\n",
              "      <td>176</td>\n",
              "      <td>191</td>\n",
              "      <td>26</td>\n",
              "      <td>65.0</td>\n",
              "      <td>76.0</td>\n",
              "      <td>43.0</td>\n",
              "    </tr>\n",
              "    <tr>\n",
              "      <th>2</th>\n",
              "      <td>Aero</td>\n",
              "      <td>#7CB9E8</td>\n",
              "      <td>124</td>\n",
              "      <td>185</td>\n",
              "      <td>232</td>\n",
              "      <td>206.0</td>\n",
              "      <td>70.0</td>\n",
              "      <td>70.0</td>\n",
              "    </tr>\n",
              "    <tr>\n",
              "      <th>3</th>\n",
              "      <td>Aero blue</td>\n",
              "      <td>#C9FFE5</td>\n",
              "      <td>201</td>\n",
              "      <td>255</td>\n",
              "      <td>229</td>\n",
              "      <td>151.0</td>\n",
              "      <td>100.0</td>\n",
              "      <td>89.0</td>\n",
              "    </tr>\n",
              "    <tr>\n",
              "      <th>4</th>\n",
              "      <td>African violet</td>\n",
              "      <td>#B284BE</td>\n",
              "      <td>178</td>\n",
              "      <td>132</td>\n",
              "      <td>190</td>\n",
              "      <td>288.0</td>\n",
              "      <td>31.0</td>\n",
              "      <td>63.0</td>\n",
              "    </tr>\n",
              "    <tr>\n",
              "      <th>...</th>\n",
              "      <td>...</td>\n",
              "      <td>...</td>\n",
              "      <td>...</td>\n",
              "      <td>...</td>\n",
              "      <td>...</td>\n",
              "      <td>...</td>\n",
              "      <td>...</td>\n",
              "      <td>...</td>\n",
              "    </tr>\n",
              "    <tr>\n",
              "      <th>1293</th>\n",
              "      <td>Yellow rose</td>\n",
              "      <td>#FFF000</td>\n",
              "      <td>255</td>\n",
              "      <td>240</td>\n",
              "      <td>0</td>\n",
              "      <td>56.0</td>\n",
              "      <td>100.0</td>\n",
              "      <td>50.0</td>\n",
              "    </tr>\n",
              "    <tr>\n",
              "      <th>1294</th>\n",
              "      <td>Yellow Sunshine</td>\n",
              "      <td>#FFF700</td>\n",
              "      <td>255</td>\n",
              "      <td>247</td>\n",
              "      <td>0</td>\n",
              "      <td>58.0</td>\n",
              "      <td>100.0</td>\n",
              "      <td>50.0</td>\n",
              "    </tr>\n",
              "    <tr>\n",
              "      <th>1295</th>\n",
              "      <td>Zaffre</td>\n",
              "      <td>#0014A8</td>\n",
              "      <td>0</td>\n",
              "      <td>20</td>\n",
              "      <td>168</td>\n",
              "      <td>233.0</td>\n",
              "      <td>100.0</td>\n",
              "      <td>33.0</td>\n",
              "    </tr>\n",
              "    <tr>\n",
              "      <th>1296</th>\n",
              "      <td>Zinnwaldite brown</td>\n",
              "      <td>#2C1608</td>\n",
              "      <td>44</td>\n",
              "      <td>22</td>\n",
              "      <td>8</td>\n",
              "      <td>23.0</td>\n",
              "      <td>69.0</td>\n",
              "      <td>10.0</td>\n",
              "    </tr>\n",
              "    <tr>\n",
              "      <th>1297</th>\n",
              "      <td>Zomp</td>\n",
              "      <td>#39A78E</td>\n",
              "      <td>57</td>\n",
              "      <td>167</td>\n",
              "      <td>142</td>\n",
              "      <td>166.0</td>\n",
              "      <td>49.0</td>\n",
              "      <td>44.0</td>\n",
              "    </tr>\n",
              "  </tbody>\n",
              "</table>\n",
              "<p>1298 rows × 8 columns</p>\n",
              "</div>"
            ],
            "text/plain": [
              "                   Name  ... HSL.L (%), HSV.S (%), HSV.V (%)\n",
              "0         Absolute zero  ...                            37.0\n",
              "1            Acid green  ...                            43.0\n",
              "2                  Aero  ...                            70.0\n",
              "3             Aero blue  ...                            89.0\n",
              "4        African violet  ...                            63.0\n",
              "...                 ...  ...                             ...\n",
              "1293        Yellow rose  ...                            50.0\n",
              "1294    Yellow Sunshine  ...                            50.0\n",
              "1295             Zaffre  ...                            33.0\n",
              "1296  Zinnwaldite brown  ...                            10.0\n",
              "1297               Zomp  ...                            44.0\n",
              "\n",
              "[1298 rows x 8 columns]"
            ]
          },
          "metadata": {
            "tags": []
          },
          "execution_count": 114
        }
      ]
    },
    {
      "cell_type": "code",
      "metadata": {
        "id": "qjcOsvLCb9fF",
        "colab_type": "code",
        "colab": {
          "base_uri": "https://localhost:8080/",
          "height": 35
        },
        "outputId": "1fba9ac5-98f6-4100-f1e5-62e34d377147"
      },
      "source": [
        "color_names_2 = [name.lower().strip() for name in color_csv2['Name']]\n",
        "\n",
        "print (len(color_names_2))\n",
        "\n",
        "color_csv2['new_name'] = color_names_2"
      ],
      "execution_count": 115,
      "outputs": [
        {
          "output_type": "stream",
          "text": [
            "1298\n"
          ],
          "name": "stdout"
        }
      ]
    },
    {
      "cell_type": "code",
      "metadata": {
        "id": "6zL_AhL-cQ3g",
        "colab_type": "code",
        "colab": {
          "base_uri": "https://localhost:8080/",
          "height": 35
        },
        "outputId": "1986107a-d3fc-4e20-8cc4-1ded1289a976"
      },
      "source": [
        "main_csv2_names, main_csv2_count = simple_match(color_names_2, color_names)\n",
        "main_csv2_count"
      ],
      "execution_count": 116,
      "outputs": [
        {
          "output_type": "execute_result",
          "data": {
            "text/plain": [
              "182"
            ]
          },
          "metadata": {
            "tags": []
          },
          "execution_count": 116
        }
      ]
    },
    {
      "cell_type": "code",
      "metadata": {
        "id": "uP6pqtZ_ccjQ",
        "colab_type": "code",
        "colab": {
          "base_uri": "https://localhost:8080/",
          "height": 708
        },
        "outputId": "317f9c0a-7394-4705-ac42-ab605ac5eaee"
      },
      "source": [
        "modified_main_data = fuzzy_match(main_csv2_names, color_names, color_csv2, modified_main_data)"
      ],
      "execution_count": 117,
      "outputs": [
        {
          "output_type": "stream",
          "text": [
            "blue magenta violet || blue-magenta violet\n",
            "blue violet || blue-violet\n",
            "burlwood || burlywood\n",
            "dark seagreen || dark sea green\n",
            "dark slate grey || dark slate gray\n",
            "dolphin grey || dolphin gray\n",
            "go green! || go green\n",
            "granite grey || granite gray\n",
            "green pigment || green (pigment)\n",
            "green yellow || green-yellow\n",
            "heliotrope grey || heliotrope gray\n",
            "lavender grey || lavender gray\n",
            "magenta dye || magenta (dye)\n",
            "magenta pink || magenta-pink\n",
            "medium red violet || medium red-violet\n",
            "medium violet red || medium violet-red\n",
            "orange yellow || orange-yellow\n",
            "pale red violet || pale red-violet\n",
            "pale violet red || pale violet-red\n",
            "pastel grey || pastel gray\n",
            "peach orange || peach-orange\n",
            "peach yellow || peach-yellow\n",
            "pink orange || pink-orange\n",
            "plum purple || plump purple\n",
            "quicksilver || quick silver\n",
            "red pigment || red (pigment)\n",
            "robin's egg blue || robin egg blue\n",
            "rubber || ruber\n",
            "sand brown || sandy brown\n",
            "seafoam green || sea foam green\n",
            "spanish grey || spanish gray\n",
            "storm cloud || stormcloud\n",
            "terracotta || terra cotta\n",
            "timber wolf || timberwolf\n",
            "tropical rainforest || tropical rain forest\n",
            "violet blue || violet-blue\n",
            "vivid red tangelo || vivid red-tangelo\n",
            "yellow green || yellow-green\n"
          ],
          "name": "stdout"
        }
      ]
    },
    {
      "cell_type": "code",
      "metadata": {
        "id": "2NzYYFgpcmnC",
        "colab_type": "code",
        "colab": {
          "base_uri": "https://localhost:8080/",
          "height": 35
        },
        "outputId": "b1660dd9-071c-4cb8-a9f0-44de5ca599fb"
      },
      "source": [
        "len(modified_main_data['colors'])"
      ],
      "execution_count": 118,
      "outputs": [
        {
          "output_type": "execute_result",
          "data": {
            "text/plain": [
              "25829"
            ]
          },
          "metadata": {
            "tags": []
          },
          "execution_count": 118
        }
      ]
    },
    {
      "cell_type": "code",
      "metadata": {
        "id": "l0lc5GSFQnUj",
        "colab_type": "code",
        "colab": {
          "base_uri": "https://localhost:8080/",
          "height": 35
        },
        "outputId": "74499fae-12e8-455f-852b-87d202864d98"
      },
      "source": [
        "color_names = [color['name'].lower().strip() for color in modified_main_data['colors']]\n",
        "print (len(color_names))"
      ],
      "execution_count": 119,
      "outputs": [
        {
          "output_type": "stream",
          "text": [
            "25829\n"
          ],
          "name": "stdout"
        }
      ]
    },
    {
      "cell_type": "markdown",
      "metadata": {
        "id": "jl4VnnoFdo_t",
        "colab_type": "text"
      },
      "source": [
        ""
      ]
    },
    {
      "cell_type": "markdown",
      "metadata": {
        "id": "FoINu2JA2o-P",
        "colab_type": "text"
      },
      "source": [
        "---\n",
        "## Read csv 3 data file"
      ]
    },
    {
      "cell_type": "code",
      "metadata": {
        "id": "sRq3RsNYctwG",
        "colab_type": "code",
        "colab": {
          "base_uri": "https://localhost:8080/",
          "height": 407
        },
        "outputId": "220a01aa-e6b5-4dee-e2d6-89d4206b1949"
      },
      "source": [
        "color_csv3 = pd.read_csv('./sample_data/wikipedia_x11_colors.csv')\n",
        "color_csv3"
      ],
      "execution_count": 120,
      "outputs": [
        {
          "output_type": "execute_result",
          "data": {
            "text/html": [
              "<div>\n",
              "<style scoped>\n",
              "    .dataframe tbody tr th:only-of-type {\n",
              "        vertical-align: middle;\n",
              "    }\n",
              "\n",
              "    .dataframe tbody tr th {\n",
              "        vertical-align: top;\n",
              "    }\n",
              "\n",
              "    .dataframe thead th {\n",
              "        text-align: right;\n",
              "    }\n",
              "</style>\n",
              "<table border=\"1\" class=\"dataframe\">\n",
              "  <thead>\n",
              "    <tr style=\"text-align: right;\">\n",
              "      <th></th>\n",
              "      <th>Name</th>\n",
              "      <th>Hex (24 bit)</th>\n",
              "      <th>Red (8 bit)</th>\n",
              "      <th>Green (8 bit)</th>\n",
              "      <th>Blue (8 bit)</th>\n",
              "      <th>Hue (degrees)</th>\n",
              "      <th>HSL.S (%)</th>\n",
              "      <th>HSL.L (%), HSV.S (%), HSV.V (%)</th>\n",
              "    </tr>\n",
              "  </thead>\n",
              "  <tbody>\n",
              "    <tr>\n",
              "      <th>0</th>\n",
              "      <td>Blue, Alice !Alice Blue</td>\n",
              "      <td>#F0F8FF</td>\n",
              "      <td>240</td>\n",
              "      <td>248</td>\n",
              "      <td>255</td>\n",
              "      <td>208.0</td>\n",
              "      <td>100.0</td>\n",
              "      <td>97.0</td>\n",
              "    </tr>\n",
              "    <tr>\n",
              "      <th>1</th>\n",
              "      <td>White, Antique !Antique White</td>\n",
              "      <td>#FAEBD7</td>\n",
              "      <td>250</td>\n",
              "      <td>235</td>\n",
              "      <td>215</td>\n",
              "      <td>34.0</td>\n",
              "      <td>78.0</td>\n",
              "      <td>91.0</td>\n",
              "    </tr>\n",
              "    <tr>\n",
              "      <th>2</th>\n",
              "      <td>Aqua !Aqua</td>\n",
              "      <td>#00FFFF</td>\n",
              "      <td>0</td>\n",
              "      <td>255</td>\n",
              "      <td>255</td>\n",
              "      <td>180.0</td>\n",
              "      <td>100.0</td>\n",
              "      <td>50.0</td>\n",
              "    </tr>\n",
              "    <tr>\n",
              "      <th>3</th>\n",
              "      <td>Aquamarine !Aquamarine</td>\n",
              "      <td>#7FFFD4</td>\n",
              "      <td>127</td>\n",
              "      <td>255</td>\n",
              "      <td>212</td>\n",
              "      <td>160.0</td>\n",
              "      <td>100.0</td>\n",
              "      <td>75.0</td>\n",
              "    </tr>\n",
              "    <tr>\n",
              "      <th>4</th>\n",
              "      <td>Azure !Azure</td>\n",
              "      <td>#F0FFFF</td>\n",
              "      <td>240</td>\n",
              "      <td>255</td>\n",
              "      <td>255</td>\n",
              "      <td>180.0</td>\n",
              "      <td>100.0</td>\n",
              "      <td>97.0</td>\n",
              "    </tr>\n",
              "    <tr>\n",
              "      <th>...</th>\n",
              "      <td>...</td>\n",
              "      <td>...</td>\n",
              "      <td>...</td>\n",
              "      <td>...</td>\n",
              "      <td>...</td>\n",
              "      <td>...</td>\n",
              "      <td>...</td>\n",
              "      <td>...</td>\n",
              "    </tr>\n",
              "    <tr>\n",
              "      <th>140</th>\n",
              "      <td>Wheat !Wheat</td>\n",
              "      <td>#F5DEB3</td>\n",
              "      <td>245</td>\n",
              "      <td>222</td>\n",
              "      <td>179</td>\n",
              "      <td>39.0</td>\n",
              "      <td>77.0</td>\n",
              "      <td>83.0</td>\n",
              "    </tr>\n",
              "    <tr>\n",
              "      <th>141</th>\n",
              "      <td>White !White</td>\n",
              "      <td>#FFFFFF</td>\n",
              "      <td>255</td>\n",
              "      <td>255</td>\n",
              "      <td>255</td>\n",
              "      <td>0.0</td>\n",
              "      <td>0.0</td>\n",
              "      <td>100.0</td>\n",
              "    </tr>\n",
              "    <tr>\n",
              "      <th>142</th>\n",
              "      <td>WhiteSmoke !White Smoke</td>\n",
              "      <td>#F5F5F5</td>\n",
              "      <td>245</td>\n",
              "      <td>245</td>\n",
              "      <td>245</td>\n",
              "      <td>0.0</td>\n",
              "      <td>0.0</td>\n",
              "      <td>96.0</td>\n",
              "    </tr>\n",
              "    <tr>\n",
              "      <th>143</th>\n",
              "      <td>Yellow !Yellow</td>\n",
              "      <td>#FFFF00</td>\n",
              "      <td>255</td>\n",
              "      <td>255</td>\n",
              "      <td>0</td>\n",
              "      <td>60.0</td>\n",
              "      <td>100.0</td>\n",
              "      <td>50.0</td>\n",
              "    </tr>\n",
              "    <tr>\n",
              "      <th>144</th>\n",
              "      <td>Green Yellow !Yellow Green</td>\n",
              "      <td>#9ACD32</td>\n",
              "      <td>154</td>\n",
              "      <td>205</td>\n",
              "      <td>50</td>\n",
              "      <td>80.0</td>\n",
              "      <td>61.0</td>\n",
              "      <td>50.0</td>\n",
              "    </tr>\n",
              "  </tbody>\n",
              "</table>\n",
              "<p>145 rows × 8 columns</p>\n",
              "</div>"
            ],
            "text/plain": [
              "                              Name  ... HSL.L (%), HSV.S (%), HSV.V (%)\n",
              "0          Blue, Alice !Alice Blue  ...                            97.0\n",
              "1    White, Antique !Antique White  ...                            91.0\n",
              "2                       Aqua !Aqua  ...                            50.0\n",
              "3           Aquamarine !Aquamarine  ...                            75.0\n",
              "4                     Azure !Azure  ...                            97.0\n",
              "..                             ...  ...                             ...\n",
              "140                   Wheat !Wheat  ...                            83.0\n",
              "141                   White !White  ...                           100.0\n",
              "142        WhiteSmoke !White Smoke  ...                            96.0\n",
              "143                 Yellow !Yellow  ...                            50.0\n",
              "144     Green Yellow !Yellow Green  ...                            50.0\n",
              "\n",
              "[145 rows x 8 columns]"
            ]
          },
          "metadata": {
            "tags": []
          },
          "execution_count": 120
        }
      ]
    },
    {
      "cell_type": "code",
      "metadata": {
        "id": "-fWkbzy42vvw",
        "colab_type": "code",
        "colab": {
          "base_uri": "https://localhost:8080/",
          "height": 35
        },
        "outputId": "dd3af89a-48de-4861-d4b2-5b43d2e18756"
      },
      "source": [
        "color_names_3 = [name.split(\"!\")[1].strip().lower() for name in color_csv3['Name']]\n",
        "\n",
        "color_names_3[:5]"
      ],
      "execution_count": 121,
      "outputs": [
        {
          "output_type": "execute_result",
          "data": {
            "text/plain": [
              "['alice blue', 'antique white', 'aqua', 'aquamarine', 'azure']"
            ]
          },
          "metadata": {
            "tags": []
          },
          "execution_count": 121
        }
      ]
    },
    {
      "cell_type": "code",
      "metadata": {
        "id": "LTWq7Jwe3FZx",
        "colab_type": "code",
        "colab": {}
      },
      "source": [
        "color_csv3['new_name'] = color_names_3"
      ],
      "execution_count": 122,
      "outputs": []
    },
    {
      "cell_type": "code",
      "metadata": {
        "id": "-E7SlAGH3NbW",
        "colab_type": "code",
        "colab": {
          "base_uri": "https://localhost:8080/",
          "height": 35
        },
        "outputId": "24108bc5-a3bb-4731-dfe8-24fb5b06c0b5"
      },
      "source": [
        "main_csv3_names, main_csv3_count = simple_match(color_names_3, color_names)\n",
        "main_csv3_count"
      ],
      "execution_count": 123,
      "outputs": [
        {
          "output_type": "execute_result",
          "data": {
            "text/plain": [
              "9"
            ]
          },
          "metadata": {
            "tags": []
          },
          "execution_count": 123
        }
      ]
    },
    {
      "cell_type": "code",
      "metadata": {
        "id": "wgWxoYz-3SLK",
        "colab_type": "code",
        "colab": {
          "base_uri": "https://localhost:8080/",
          "height": 90
        },
        "outputId": "75452eb0-c980-4ee8-e651-0d8dc1155374"
      },
      "source": [
        "modified_main_data = fuzzy_match(main_csv3_names, color_names, color_csv3, modified_main_data)"
      ],
      "execution_count": 124,
      "outputs": [
        {
          "output_type": "stream",
          "text": [
            "burlwood || burlywood\n",
            "dark seagreen || dark sea green\n",
            "dark slate grey || dark slate gray\n",
            "sand brown || sandy brown\n"
          ],
          "name": "stdout"
        }
      ]
    },
    {
      "cell_type": "code",
      "metadata": {
        "id": "FIqb7Buk3aUO",
        "colab_type": "code",
        "colab": {
          "base_uri": "https://localhost:8080/",
          "height": 35
        },
        "outputId": "798b01c6-55a2-4a92-8660-b28ad2160a4e"
      },
      "source": [
        "len(modified_main_data['colors'])"
      ],
      "execution_count": 125,
      "outputs": [
        {
          "output_type": "execute_result",
          "data": {
            "text/plain": [
              "25834"
            ]
          },
          "metadata": {
            "tags": []
          },
          "execution_count": 125
        }
      ]
    },
    {
      "cell_type": "code",
      "metadata": {
        "id": "Q8CRel45dFWM",
        "colab_type": "code",
        "colab": {
          "base_uri": "https://localhost:8080/",
          "height": 35
        },
        "outputId": "817fd379-0139-4017-f933-6de76eac45e4"
      },
      "source": [
        "color_names = [color['name'].lower().strip() for color in modified_main_data['colors']]\n",
        "print (len(color_names))"
      ],
      "execution_count": 126,
      "outputs": [
        {
          "output_type": "stream",
          "text": [
            "25834\n"
          ],
          "name": "stdout"
        }
      ]
    },
    {
      "cell_type": "markdown",
      "metadata": {
        "id": "BgeM8zaVL8uL",
        "colab_type": "text"
      },
      "source": [
        "## Read csv4 data file"
      ]
    },
    {
      "cell_type": "code",
      "metadata": {
        "id": "zThiVquX3dTT",
        "colab_type": "code",
        "colab": {
          "base_uri": "https://localhost:8080/",
          "height": 407
        },
        "outputId": "fbe6dfcf-90e1-4f9c-f0d9-28166127e884"
      },
      "source": [
        "color_csv4 = pd.read_csv('./sample_data/colors4.csv')\n",
        "color_csv4"
      ],
      "execution_count": 127,
      "outputs": [
        {
          "output_type": "execute_result",
          "data": {
            "text/html": [
              "<div>\n",
              "<style scoped>\n",
              "    .dataframe tbody tr th:only-of-type {\n",
              "        vertical-align: middle;\n",
              "    }\n",
              "\n",
              "    .dataframe tbody tr th {\n",
              "        vertical-align: top;\n",
              "    }\n",
              "\n",
              "    .dataframe thead th {\n",
              "        text-align: right;\n",
              "    }\n",
              "</style>\n",
              "<table border=\"1\" class=\"dataframe\">\n",
              "  <thead>\n",
              "    <tr style=\"text-align: right;\">\n",
              "      <th></th>\n",
              "      <th>Name1</th>\n",
              "      <th>Name2</th>\n",
              "      <th>Hex</th>\n",
              "      <th>Red (8 bit)</th>\n",
              "      <th>Green (8 bit)</th>\n",
              "      <th>Blue (8 bit)</th>\n",
              "    </tr>\n",
              "  </thead>\n",
              "  <tbody>\n",
              "    <tr>\n",
              "      <th>0</th>\n",
              "      <td>air_force_blue_raf</td>\n",
              "      <td>Air Force Blue (Raf)</td>\n",
              "      <td>#5d8aa8</td>\n",
              "      <td>93</td>\n",
              "      <td>138</td>\n",
              "      <td>168</td>\n",
              "    </tr>\n",
              "    <tr>\n",
              "      <th>1</th>\n",
              "      <td>air_force_blue_usaf</td>\n",
              "      <td>Air Force Blue (Usaf)</td>\n",
              "      <td>#00308f</td>\n",
              "      <td>0</td>\n",
              "      <td>48</td>\n",
              "      <td>143</td>\n",
              "    </tr>\n",
              "    <tr>\n",
              "      <th>2</th>\n",
              "      <td>air_superiority_blue</td>\n",
              "      <td>Air Superiority Blue</td>\n",
              "      <td>#72a0c1</td>\n",
              "      <td>114</td>\n",
              "      <td>160</td>\n",
              "      <td>193</td>\n",
              "    </tr>\n",
              "    <tr>\n",
              "      <th>3</th>\n",
              "      <td>alabama_crimson</td>\n",
              "      <td>Alabama Crimson</td>\n",
              "      <td>#a32638</td>\n",
              "      <td>163</td>\n",
              "      <td>38</td>\n",
              "      <td>56</td>\n",
              "    </tr>\n",
              "    <tr>\n",
              "      <th>4</th>\n",
              "      <td>alice_blue</td>\n",
              "      <td>Alice Blue</td>\n",
              "      <td>#f0f8ff</td>\n",
              "      <td>240</td>\n",
              "      <td>248</td>\n",
              "      <td>255</td>\n",
              "    </tr>\n",
              "    <tr>\n",
              "      <th>...</th>\n",
              "      <td>...</td>\n",
              "      <td>...</td>\n",
              "      <td>...</td>\n",
              "      <td>...</td>\n",
              "      <td>...</td>\n",
              "      <td>...</td>\n",
              "    </tr>\n",
              "    <tr>\n",
              "      <th>860</th>\n",
              "      <td>yellow_orange</td>\n",
              "      <td>Yellow Orange</td>\n",
              "      <td>#ffae42</td>\n",
              "      <td>255</td>\n",
              "      <td>174</td>\n",
              "      <td>66</td>\n",
              "    </tr>\n",
              "    <tr>\n",
              "      <th>861</th>\n",
              "      <td>yellow_process</td>\n",
              "      <td>Yellow (Process)</td>\n",
              "      <td>#ffef00</td>\n",
              "      <td>255</td>\n",
              "      <td>239</td>\n",
              "      <td>0</td>\n",
              "    </tr>\n",
              "    <tr>\n",
              "      <th>862</th>\n",
              "      <td>yellow_ryb</td>\n",
              "      <td>Yellow (Ryb)</td>\n",
              "      <td>#fefe33</td>\n",
              "      <td>254</td>\n",
              "      <td>254</td>\n",
              "      <td>51</td>\n",
              "    </tr>\n",
              "    <tr>\n",
              "      <th>863</th>\n",
              "      <td>zaffre</td>\n",
              "      <td>Zaffre</td>\n",
              "      <td>#0014a8</td>\n",
              "      <td>0</td>\n",
              "      <td>20</td>\n",
              "      <td>168</td>\n",
              "    </tr>\n",
              "    <tr>\n",
              "      <th>864</th>\n",
              "      <td>zinnwaldite_brown</td>\n",
              "      <td>Zinnwaldite Brown</td>\n",
              "      <td>#2c1608</td>\n",
              "      <td>44</td>\n",
              "      <td>22</td>\n",
              "      <td>8</td>\n",
              "    </tr>\n",
              "  </tbody>\n",
              "</table>\n",
              "<p>865 rows × 6 columns</p>\n",
              "</div>"
            ],
            "text/plain": [
              "                    Name1                  Name2  ... Green (8 bit)  Blue (8 bit)\n",
              "0      air_force_blue_raf   Air Force Blue (Raf)  ...           138           168\n",
              "1     air_force_blue_usaf  Air Force Blue (Usaf)  ...            48           143\n",
              "2    air_superiority_blue   Air Superiority Blue  ...           160           193\n",
              "3         alabama_crimson        Alabama Crimson  ...            38            56\n",
              "4              alice_blue             Alice Blue  ...           248           255\n",
              "..                    ...                    ...  ...           ...           ...\n",
              "860         yellow_orange          Yellow Orange  ...           174            66\n",
              "861        yellow_process       Yellow (Process)  ...           239             0\n",
              "862            yellow_ryb           Yellow (Ryb)  ...           254            51\n",
              "863                zaffre                 Zaffre  ...            20           168\n",
              "864     zinnwaldite_brown      Zinnwaldite Brown  ...            22             8\n",
              "\n",
              "[865 rows x 6 columns]"
            ]
          },
          "metadata": {
            "tags": []
          },
          "execution_count": 127
        }
      ]
    },
    {
      "cell_type": "code",
      "metadata": {
        "id": "V7_snbeuMFUz",
        "colab_type": "code",
        "colab": {
          "base_uri": "https://localhost:8080/",
          "height": 72
        },
        "outputId": "fe397c13-bd40-4b7a-c0fc-12bcaef11586"
      },
      "source": [
        "color_csv4.columns"
      ],
      "execution_count": 128,
      "outputs": [
        {
          "output_type": "execute_result",
          "data": {
            "text/plain": [
              "Index(['Name1', 'Name2', 'Hex', 'Red (8 bit)', 'Green (8 bit)',\n",
              "       'Blue (8 bit)'],\n",
              "      dtype='object')"
            ]
          },
          "metadata": {
            "tags": []
          },
          "execution_count": 128
        }
      ]
    },
    {
      "cell_type": "code",
      "metadata": {
        "id": "honN_C4aMbzn",
        "colab_type": "code",
        "colab": {
          "base_uri": "https://localhost:8080/",
          "height": 108
        },
        "outputId": "d96c7c02-f60e-4791-a24c-39249ca9757e"
      },
      "source": [
        "color_names_4 = [name.strip().lower() for name in color_csv4['Name2']]\n",
        "\n",
        "color_names_4[:5]"
      ],
      "execution_count": 129,
      "outputs": [
        {
          "output_type": "execute_result",
          "data": {
            "text/plain": [
              "['air force blue (raf)',\n",
              " 'air force blue (usaf)',\n",
              " 'air superiority blue',\n",
              " 'alabama crimson',\n",
              " 'alice blue']"
            ]
          },
          "metadata": {
            "tags": []
          },
          "execution_count": 129
        }
      ]
    },
    {
      "cell_type": "code",
      "metadata": {
        "id": "HzcjrYbCNAvz",
        "colab_type": "code",
        "colab": {}
      },
      "source": [
        "color_csv4['new_name'] = color_names_4"
      ],
      "execution_count": 130,
      "outputs": []
    },
    {
      "cell_type": "code",
      "metadata": {
        "id": "6sgn6LGsNHma",
        "colab_type": "code",
        "colab": {
          "base_uri": "https://localhost:8080/",
          "height": 35
        },
        "outputId": "2ada3e2a-9bbf-4fcc-b3c5-1aeab9f94071"
      },
      "source": [
        "main_csv4_names, main_csv4_count = simple_match(color_names_4, color_names)\n",
        "main_csv4_count"
      ],
      "execution_count": 131,
      "outputs": [
        {
          "output_type": "execute_result",
          "data": {
            "text/plain": [
              "42"
            ]
          },
          "metadata": {
            "tags": []
          },
          "execution_count": 131
        }
      ]
    },
    {
      "cell_type": "code",
      "metadata": {
        "id": "0D7P-SvTdLNb",
        "colab_type": "code",
        "colab": {
          "base_uri": "https://localhost:8080/",
          "height": 508
        },
        "outputId": "b5f2b82e-efb1-476f-8746-aa767afbb33d"
      },
      "source": [
        "modified_main_data = fuzzy_match(main_csv4_names, color_names, color_csv4, modified_main_data)"
      ],
      "execution_count": 132,
      "outputs": [
        {
          "output_type": "stream",
          "text": [
            "blue violet || blue-violet\n",
            "burlwood || burlywood\n",
            "dark seagreen || dark sea green\n",
            "dark slate grey || dark slate gray\n",
            "green pigment || green (pigment)\n",
            "green yellow || green-yellow\n",
            "indigo dye || indigo (dye)\n",
            "lavender grey || lavender gray\n",
            "magenta dye || magenta (dye)\n",
            "medium red violet || medium red-violet\n",
            "medium violet red || medium violet-red\n",
            "pale red violet || pale red-violet\n",
            "pale violet red || pale violet-red\n",
            "pastel grey || pastel gray\n",
            "peach orange || peach-orange\n",
            "peach yellow || peach-yellow\n",
            "pink orange || pink-orange\n",
            "red pigment || red (pigment)\n",
            "robin's egg blue || robin egg blue\n",
            "sand brown || sandy brown\n",
            "storm cloud || stormcloud\n",
            "terracotta || terra cotta\n",
            "timber wolf || timberwolf\n",
            "tropical rainforest || tropical rain forest\n",
            "vermilion cinnabar || vermilion (cinnabar)\n",
            "violet blue || violet-blue\n",
            "yellow green || yellow-green\n"
          ],
          "name": "stdout"
        }
      ]
    },
    {
      "cell_type": "code",
      "metadata": {
        "id": "Fd0-LXBxiVtV",
        "colab_type": "code",
        "colab": {
          "base_uri": "https://localhost:8080/",
          "height": 35
        },
        "outputId": "b1734851-e57c-4954-d9f9-a0d9f3beba7f"
      },
      "source": [
        "len(modified_main_data['colors'])"
      ],
      "execution_count": 133,
      "outputs": [
        {
          "output_type": "execute_result",
          "data": {
            "text/plain": [
              "25849"
            ]
          },
          "metadata": {
            "tags": []
          },
          "execution_count": 133
        }
      ]
    },
    {
      "cell_type": "code",
      "metadata": {
        "id": "OJn8HsA6iZ-e",
        "colab_type": "code",
        "colab": {
          "base_uri": "https://localhost:8080/",
          "height": 35
        },
        "outputId": "308ca094-7fce-4603-c6fb-b5d2bf029bd9"
      },
      "source": [
        "color_names = [color['name'].lower().strip() for color in modified_main_data['colors']]\n",
        "print (len(color_names))"
      ],
      "execution_count": 137,
      "outputs": [
        {
          "output_type": "stream",
          "text": [
            "25849\n"
          ],
          "name": "stdout"
        }
      ]
    },
    {
      "cell_type": "markdown",
      "metadata": {
        "id": "ruX5AlIRjpXh",
        "colab_type": "text"
      },
      "source": [
        "### Covert the json data to csv"
      ]
    },
    {
      "cell_type": "code",
      "metadata": {
        "id": "MFaJBdxakQK9",
        "colab_type": "code",
        "colab": {
          "base_uri": "https://localhost:8080/",
          "height": 35
        },
        "outputId": "19a357f1-7b20-4fa9-caff-bbe767ded808"
      },
      "source": [
        "test_dict = {'name': 'mini', 'eats': 'chocolate'}\n",
        "\n",
        "test_dict.get('name2') is None"
      ],
      "execution_count": 135,
      "outputs": [
        {
          "output_type": "execute_result",
          "data": {
            "text/plain": [
              "True"
            ]
          },
          "metadata": {
            "tags": []
          },
          "execution_count": 135
        }
      ]
    },
    {
      "cell_type": "code",
      "metadata": {
        "id": "IBScPAGzikYf",
        "colab_type": "code",
        "colab": {
          "base_uri": "https://localhost:8080/",
          "height": 35
        },
        "outputId": "92ad3f43-446b-4134-e6c5-af6b730c18bd"
      },
      "source": [
        "data_to_write = {\n",
        "    'color_name': [],\n",
        "    'preprocessed_name': [],\n",
        "    'R': [],\n",
        "    'G': [],\n",
        "    'B': [],\n",
        "    'hex': []\n",
        "}\n",
        "\n",
        "for idx, color_data in enumerate(modified_main_data['colors']):\n",
        "    data_to_write['preprocessed_name'].append(color_names[idx])\n",
        "    data_to_write['color_name'].append(color_data['name'])\n",
        "    rgb_combo = color_data['rgb']\n",
        "    data_to_write['R'].append(rgb_combo['r'])\n",
        "    data_to_write['G'].append(rgb_combo['g'])\n",
        "    data_to_write['B'].append(rgb_combo['b'])\n",
        "\n",
        "    if color_data.get('hex') is not None:\n",
        "        data_to_write['hex'].append(color_data['hex'])\n",
        "    else:\n",
        "        data_to_write['hex'].append(None)\n",
        "\n",
        "print (len(data_to_write['color_name']), len(modified_main_data['colors']))"
      ],
      "execution_count": 140,
      "outputs": [
        {
          "output_type": "stream",
          "text": [
            "25849 25849\n"
          ],
          "name": "stdout"
        }
      ]
    },
    {
      "cell_type": "code",
      "metadata": {
        "id": "xw4h-FzOjw3v",
        "colab_type": "code",
        "colab": {}
      },
      "source": [
        "pd.DataFrame(data=data_to_write).to_csv(\"./sample_data/color_names_consolidated.csv\")"
      ],
      "execution_count": 141,
      "outputs": []
    },
    {
      "cell_type": "code",
      "metadata": {
        "id": "PaOHqIBQnq1E",
        "colab_type": "code",
        "colab": {}
      },
      "source": [
        ""
      ],
      "execution_count": null,
      "outputs": []
    }
  ]
}