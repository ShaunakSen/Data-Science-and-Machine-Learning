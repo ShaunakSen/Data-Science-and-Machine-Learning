{
 "cells": [
  {
   "cell_type": "markdown",
   "metadata": {},
   "source": [
    "## Explain regression model predictions\n",
    "\n",
    "[original notebook link](https://github.com/interpretml/interpret-community/blob/master/notebooks/explain-regression-local.ipynb)\n",
    "\n",
    "### Introduction\n",
    "\n",
    "This notebook illustrates how to use interpret-community to help interpret regression model predictions at training time. It demonstrates the API calls needed to obtain the global and local interpretations along with an interactive visualization dashboard for discovering patterns in data and explanations.\n",
    "\n",
    "Three tabular data explainers are demonstrated:\n",
    "\n",
    "- TabularExplainer (SHAP)\n",
    "- MimicExplainer (global surrogate)\n",
    "- PFIExplainer\n",
    "\n",
    "![](https://github.com/interpretml/interpret-community/raw/f5e7bfa82d2036b578dc35102c28fdad0e61b127/notebooks/img/interpretability-architecture.png)\n",
    "\n",
    "The goal of this project is to predict Boston Housing Prices by using scikit-learn and locally running the model explainer:\n",
    "\n",
    "1. Train a GradientBoosting regression model using Scikit-learn\n",
    "2. Run 'explain_model' globally and locally with full dataset in local mode, which doesn't contact any Azure services.\n",
    "3. Visualize the global and local explanations with the visualization dashboard.\n",
    "\n"
   ]
  },
  {
   "cell_type": "code",
   "execution_count": 3,
   "metadata": {},
   "outputs": [],
   "source": [
    "from sklearn import datasets\n",
    "from sklearn.ensemble import GradientBoostingRegressor\n",
    "\n",
    "# Explainers:\n",
    "# 1. SHAP Tabular Explainer\n",
    "from interpret.ext.blackbox import TabularExplainer\n",
    "\n",
    "# OR\n",
    "\n",
    "# 2. Mimic Explainer\n",
    "#from interpret.ext.blackbox import MimicExplainer\n",
    "# You can use one of the following four interpretable models as a global surrogate to the black box model\n",
    "from interpret.ext.glassbox import LGBMExplainableModel\n",
    "from interpret.ext.glassbox import LinearExplainableModel\n",
    "from interpret.ext.glassbox import SGDExplainableModel\n",
    "from interpret.ext.glassbox import DecisionTreeExplainableModel\n",
    "\n",
    "# OR\n",
    "\n",
    "# 3. PFI Explainer\n",
    "#from interpret.ext.blackbox import PFIExplainer"
   ]
  },
  {
   "cell_type": "markdown",
   "metadata": {},
   "source": [
    "### Load the Boston house price data"
   ]
  },
  {
   "cell_type": "code",
   "execution_count": 8,
   "metadata": {},
   "outputs": [
    {
     "name": "stdout",
     "output_type": "stream",
     "text": [
      "dict_keys(['data', 'target', 'feature_names', 'DESCR', 'filename'])\n",
      "(506, 13)\n",
      "(506,)\n"
     ]
    }
   ],
   "source": [
    "boston_data = datasets.load_boston()\n",
    "\n",
    "print (boston_data.keys())\n",
    "print (boston_data['data'].shape)\n",
    "print (boston_data['target'].shape)"
   ]
  },
  {
   "cell_type": "code",
   "execution_count": 10,
   "metadata": {},
   "outputs": [
    {
     "name": "stdout",
     "output_type": "stream",
     "text": [
      "(404, 13) (102, 13) (404,) (102,)\n"
     ]
    }
   ],
   "source": [
    "# Split data into train and test\n",
    "from sklearn.model_selection import train_test_split\n",
    "x_train, x_test, y_train, y_test = train_test_split(boston_data.data, boston_data.target, test_size=0.2, random_state=0)\n",
    "\n",
    "print (x_train.shape, x_test.shape, y_train.shape, y_test.shape)"
   ]
  },
  {
   "cell_type": "markdown",
   "metadata": {},
   "source": [
    "### Train a GradientBoosting regression model, which you want to explain"
   ]
  },
  {
   "cell_type": "code",
   "execution_count": 11,
   "metadata": {},
   "outputs": [],
   "source": [
    "reg = GradientBoostingRegressor(n_estimators=100, max_depth=4, learning_rate=0.1, loss='huber', random_state=1)\n",
    "\n",
    "model = reg.fit(x_train, y_train)"
   ]
  },
  {
   "cell_type": "markdown",
   "metadata": {},
   "source": [
    "### Explain predictions on your local machine"
   ]
  },
  {
   "cell_type": "code",
   "execution_count": 12,
   "metadata": {},
   "outputs": [
    {
     "name": "stderr",
     "output_type": "stream",
     "text": [
      "Setting feature_perturbation = \"tree_path_dependent\" because no background data was given.\n",
      "The sklearn.ensemble.gradient_boosting module is  deprecated in version 0.22 and will be removed in version 0.24. The corresponding classes / functions should instead be imported from sklearn.ensemble. Anything that cannot be imported from sklearn.ensemble is now part of the private API.\n"
     ]
    }
   ],
   "source": [
    "explainer = TabularExplainer(model=model, initialization_examples=x_train, features=boston_data['feature_names'])"
   ]
  },
  {
   "cell_type": "markdown",
   "metadata": {},
   "source": [
    "Explain overall model predictions (global explanation)"
   ]
  },
  {
   "cell_type": "code",
   "execution_count": 15,
   "metadata": {},
   "outputs": [],
   "source": [
    "# Passing in test dataset for evaluation examples - note it must be a representative sample of the original data\n",
    "# x_train can be passed as well, but with more examples explanations will take longer although they may be more accurate\n",
    "global_explanation = explainer.explain_global(x_train)"
   ]
  },
  {
   "cell_type": "code",
   "execution_count": 14,
   "metadata": {},
   "outputs": [
    {
     "data": {
      "text/plain": [
       "<interpret_community.explanation.explanation.DynamicGlobalExplanation at 0x1a45f230788>"
      ]
     },
     "execution_count": 14,
     "metadata": {},
     "output_type": "execute_result"
    }
   ],
   "source": [
    "global_explanation"
   ]
  },
  {
   "cell_type": "code",
   "execution_count": 22,
   "metadata": {},
   "outputs": [
    {
     "data": {
      "text/plain": [
       "{'mli': [],\n",
       " 'names': ['CRIM',\n",
       "  'ZN',\n",
       "  'INDUS',\n",
       "  'CHAS',\n",
       "  'NOX',\n",
       "  'RM',\n",
       "  'AGE',\n",
       "  'DIS',\n",
       "  'RAD',\n",
       "  'TAX',\n",
       "  'PTRATIO',\n",
       "  'B',\n",
       "  'LSTAT'],\n",
       " 'scores': [0.4526565971899683,\n",
       "  0.006759614161038798,\n",
       "  0.1816447278339545,\n",
       "  0.0140680470787089,\n",
       "  0.4379426598563117,\n",
       "  2.283003782486396,\n",
       "  0.42845572503497653,\n",
       "  0.540561891733403,\n",
       "  0.06370554223187269,\n",
       "  0.321632885465318,\n",
       "  0.8796515522662416,\n",
       "  0.2493846900227646,\n",
       "  4.56663862102852]}"
      ]
     },
     "execution_count": 22,
     "metadata": {},
     "output_type": "execute_result"
    }
   ],
   "source": [
    "global_explanation.data()"
   ]
  },
  {
   "cell_type": "code",
   "execution_count": 23,
   "metadata": {},
   "outputs": [
    {
     "data": {
      "text/html": [
       "['LSTAT', 'RM', 'PTRATIO', 'DIS', 'CRIM', 'NOX', 'AGE', 'TAX', 'B', 'INDUS', 'RAD', 'CHAS', 'ZN']"
      ],
      "text/plain": [
       "['LSTAT',\n",
       " 'RM',\n",
       " 'PTRATIO',\n",
       " 'DIS',\n",
       " 'CRIM',\n",
       " 'NOX',\n",
       " 'AGE',\n",
       " 'TAX',\n",
       " 'B',\n",
       " 'INDUS',\n",
       " 'RAD',\n",
       " 'CHAS',\n",
       " 'ZN']"
      ]
     },
     "execution_count": 23,
     "metadata": {},
     "output_type": "execute_result"
    }
   ],
   "source": [
    "global_explanation.get_ranked_global_names()"
   ]
  },
  {
   "cell_type": "code",
   "execution_count": 24,
   "metadata": {},
   "outputs": [
    {
     "data": {
      "text/html": [
       "[4.56663862102852, 2.283003782486396, 0.8796515522662416, 0.540561891733403, 0.4526565971899683, 0.4379426598563117, 0.42845572503497653, 0.321632885465318, 0.2493846900227646, 0.1816447278339545, 0.06370554223187269, 0.0140680470787089, 0.006759614161038798]"
      ],
      "text/plain": [
       "[4.56663862102852,\n",
       " 2.283003782486396,\n",
       " 0.8796515522662416,\n",
       " 0.540561891733403,\n",
       " 0.4526565971899683,\n",
       " 0.4379426598563117,\n",
       " 0.42845572503497653,\n",
       " 0.321632885465318,\n",
       " 0.2493846900227646,\n",
       " 0.1816447278339545,\n",
       " 0.06370554223187269,\n",
       " 0.0140680470787089,\n",
       " 0.006759614161038798]"
      ]
     },
     "execution_count": 24,
     "metadata": {},
     "output_type": "execute_result"
    }
   ],
   "source": [
    "global_explanation.get_ranked_global_values()"
   ]
  },
  {
   "cell_type": "code",
   "execution_count": 25,
   "metadata": {},
   "outputs": [
    {
     "data": {
      "text/html": [
       "[12, 5, 10, 7, 0, 4, 6, 9, 11, 2, 8, 3, 1]"
      ],
      "text/plain": [
       "[12, 5, 10, 7, 0, 4, 6, 9, 11, 2, 8, 3, 1]"
      ]
     },
     "execution_count": 25,
     "metadata": {},
     "output_type": "execute_result"
    }
   ],
   "source": [
    "global_explanation.global_importance_rank"
   ]
  },
  {
   "cell_type": "code",
   "execution_count": 26,
   "metadata": {},
   "outputs": [
    {
     "name": "stdout",
     "output_type": "stream",
     "text": [
      "global importance rank: {'LSTAT': 4.56663862102852, 'RM': 2.283003782486396, 'PTRATIO': 0.8796515522662416, 'DIS': 0.540561891733403, 'CRIM': 0.4526565971899683, 'NOX': 0.4379426598563117, 'AGE': 0.42845572503497653, 'TAX': 0.321632885465318, 'B': 0.2493846900227646, 'INDUS': 0.1816447278339545, 'RAD': 0.06370554223187269, 'CHAS': 0.0140680470787089, 'ZN': 0.006759614161038798}\n"
     ]
    }
   ],
   "source": [
    "# Print out a dictionary that holds the sorted feature importance names and values\n",
    "print('global importance rank: {}'.format(global_explanation.get_feature_importance_dict()))"
   ]
  },
  {
   "cell_type": "markdown",
   "metadata": {},
   "source": [
    "### Explain overall model predictions as a collection of local (instance-level) explanations\n"
   ]
  },
  {
   "cell_type": "code",
   "execution_count": 35,
   "metadata": {},
   "outputs": [
    {
     "name": "stdout",
     "output_type": "stream",
     "text": [
      "404\n",
      "13\n"
     ]
    }
   ],
   "source": [
    "print (len(global_explanation.local_importance_values))\n",
    "\n",
    "print (len(global_explanation.local_importance_values[0]))"
   ]
  },
  {
   "cell_type": "markdown",
   "metadata": {},
   "source": [
    "### Generate local explanations\n",
    "\n",
    "Explain local data points (individual instances)\n"
   ]
  },
  {
   "cell_type": "code",
   "execution_count": null,
   "metadata": {},
   "outputs": [],
   "source": [
    "# You can pass a specific data point or a group of data points to the explain_local function\n",
    "\n",
    "# E.g., Explain the first data point in the test set\n",
    "local_explanation = explainer.explain_local(x_test[0,:])\n",
    "\n",
    "# E.g., Explain the first five data points in the test set\n",
    "# local_explanation_group = explainer.explain_local(x_test[0:4,:])"
   ]
  }
 ],
 "metadata": {
  "kernelspec": {
   "display_name": "Python 3.7.4 64-bit",
   "language": "python",
   "name": "python37464bit534221b4ba144d7c9105a79e50b044ad"
  },
  "language_info": {
   "codemirror_mode": {
    "name": "ipython",
    "version": 3
   },
   "file_extension": ".py",
   "mimetype": "text/x-python",
   "name": "python",
   "nbconvert_exporter": "python",
   "pygments_lexer": "ipython3",
   "version": "3.7.4"
  }
 },
 "nbformat": 4,
 "nbformat_minor": 4
}
