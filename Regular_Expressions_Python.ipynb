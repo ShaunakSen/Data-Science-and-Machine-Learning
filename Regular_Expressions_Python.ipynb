{
  "nbformat": 4,
  "nbformat_minor": 0,
  "metadata": {
    "colab": {
      "name": "Regular Expressions Python.ipynb",
      "version": "0.3.2",
      "provenance": [],
      "collapsed_sections": [],
      "include_colab_link": true
    },
    "kernelspec": {
      "name": "python3",
      "display_name": "Python 3"
    }
  },
  "cells": [
    {
      "cell_type": "markdown",
      "metadata": {
        "id": "view-in-github",
        "colab_type": "text"
      },
      "source": [
        "<a href=\"https://colab.research.google.com/github/ShaunakSen/Data-Science-and-Machine-Learning/blob/master/Regular_Expressions_Python.ipynb\" target=\"_parent\"><img src=\"https://colab.research.google.com/assets/colab-badge.svg\" alt=\"Open In Colab\"/></a>"
      ]
    },
    {
      "cell_type": "markdown",
      "metadata": {
        "id": "y_FmMLKYI97S",
        "colab_type": "text"
      },
      "source": [
        "## Python RegEx\n",
        "\n",
        "[link](https://www.programiz.com/python-programming/regex)\n",
        "\n",
        "In this tutorial, you will learn about regular expressions (RegEx), and use Python's re module to work with RegEx (with the help of examples).\n",
        "\n",
        "A Regular Expression (RegEx) is a sequence of characters that defines a search pattern. For example,\n",
        "\n",
        "`^a...s$`\n",
        "\n",
        "The above code defines a RegEx pattern. **The pattern is: any five letter string starting with a and ending with s.**\n",
        "```\n",
        "String\tMatched?\n",
        "abs\tNo match\n",
        "alias\tMatch\n",
        "abyss\tMatch\n",
        "Alias\tNo match\n",
        "An abacus\tNo match\n",
        "```\n",
        "\n",
        "Python has a module named re to work with RegEx. Here's an example:\n",
        "\n"
      ]
    },
    {
      "cell_type": "code",
      "metadata": {
        "id": "6LKWEZLiI85h",
        "colab_type": "code",
        "outputId": "0ab0a564-9a56-407a-da32-49efbd682e2e",
        "colab": {
          "base_uri": "https://localhost:8080/",
          "height": 52
        }
      },
      "source": [
        "import re\n",
        "\n",
        "pattern = '^a...s$'\n",
        "\n",
        "test_string = 'Abyss'\n",
        "\n",
        "result = re.match(pattern, test_string)\n",
        "\n",
        "if result:\n",
        "  print(\"Search successful.\")\n",
        "else:\n",
        "  print(\"Search unsuccessful.\")"
      ],
      "execution_count": 2,
      "outputs": [
        {
          "output_type": "stream",
          "text": [
            "Search unsuccessful.\n",
            "Search unsuccessful.\n"
          ],
          "name": "stdout"
        }
      ]
    },
    {
      "cell_type": "markdown",
      "metadata": {
        "id": "8_UmyV1pKbCq",
        "colab_type": "text"
      },
      "source": [
        "Here, we used re.match() function to search pattern within the test_string. The method returns a match object if the search is successful. If not, it returns None.\n",
        "\n",
        "There are other several functions defined in the re module to work with RegEx. Before we explore that, let's learn about regular expressions themselves.\n",
        "\n",
        "### Specify Pattern Using RegEx\n",
        "\n",
        "To specify regular expressions, metacharacters are used. In the above example, ^ and $ are metacharacters.\n",
        "\n",
        "Metacharacters are characters that are interpreted in a special way by a RegEx engine. Here's a list of metacharacters:\n",
        "\n",
        "`[] . ^ $ * + ? {} () \\ |`\n",
        "\n",
        "#### [] - Square brackets\n",
        "\n",
        "Square brackets specifies a set of characters you wish to match.\n",
        "\n",
        "Consider `[abc]`\n",
        "\n",
        "```\n",
        "String\tMatched?\n",
        "a\t1 match\n",
        "ac\t2 matches\n",
        "Hey Jude\tNo match\n",
        "abc de ca\t5 matches\n",
        "```\n",
        "\n",
        "Here, [abc] will match if the string you are trying to match contains any of the a, b or c.\n",
        "\n",
        "You can also specify a range of characters using - inside square brackets.\n",
        "\n",
        "- [a-e] is the same as [abcde].\n",
        "- [1-4] is the same as [1234].\n",
        "- [0-39] is the same as [01239].\n",
        "\n",
        "You can complement (invert) the character set by using caret ^ symbol at the start of a square-bracket.\n",
        "\n",
        "\n",
        "- [^abc] means any character except a or b or c.\n",
        "- [^0-9] means any non-digit character.\n",
        "\n",
        "#### . - Period\n",
        "\n",
        "A period matches any single character (except newline '\\n').\n",
        "\n",
        "Consider: `..`\n",
        "\n",
        "```\n",
        "String\tMatched?\n",
        "a\tNo match\n",
        "ac\t1 match\n",
        "acd\t1 match\n",
        "acde\t2 matches (contains 4 characters)\n",
        "```\n",
        "\n",
        "#### ^ - Caret\n",
        "\n",
        "The caret symbol ^ is used to check if a string starts with a certain character.\n",
        "\n",
        "Consider: `^a`\n",
        "\n",
        "```\n",
        "String\tMatched?\n",
        "a\t1 match\n",
        "abc\t1 match\n",
        "bac\tNo match\n",
        "```\n",
        "\n",
        "Consider: `^ab`\n",
        "```\n",
        "abc\t1 match\n",
        "acb\tNo match (starts with a but not followed by b)\n",
        "```\n",
        "\n"
      ]
    },
    {
      "cell_type": "markdown",
      "metadata": {
        "id": "T6Q4GNx3Lzq1",
        "colab_type": "text"
      },
      "source": [
        "#### $ - Dollar\n",
        "\n",
        "The dollar symbol $ is used to check if a string ends with a certain character.\n",
        "\n",
        "Consider: `a$`\n",
        "\n",
        "```\n",
        "a\t1 match\n",
        "formula\t1 match\n",
        "cab\tNo match\n",
        "```\n",
        "\n",
        "#### * - Star\n",
        "\n",
        "The star symbol * matches zero or more occurrences of the pattern **left to it**.\n",
        "\n",
        "Consider: `ma*n`\n",
        "\n",
        "Start with m, then 0 or more a then n\n",
        "\n",
        "```\n",
        "mn\t1 match\n",
        "man\t1 match\n",
        "maaan\t1 match\n",
        "main\tNo match (a is not followed by n)\n",
        "woman\t1 match\n",
        "```\n",
        "\n",
        "#### + - Plus\n",
        "\n",
        "The plus symbol + matches one or more occurrences of the pattern left to it.\n",
        "\n",
        "Consider: `ma+n`\n",
        "\n",
        "Start with m, then 1 or more a then n\n",
        "\n",
        "```\n",
        "mn\tNo match (no a character)\n",
        "man\t1 match\n",
        "maaan\t1 match\n",
        "main\tNo match (a is not followed by n)\n",
        "woman\t1 match\n",
        "```\n",
        "\n",
        "#### ? - Question Mark\n",
        "\n",
        "The question mark symbol ? matches zero or one occurrence of the pattern left to it.\n",
        "\n",
        "Consider `ma?n`\n",
        "\n",
        "Start with m, then 0-1 a then n\n",
        "\n",
        "```\n",
        "mn\t1 match\n",
        "man\t1 match\n",
        "maaan\tNo match (more than one a character)\n",
        "main\tNo match (a is not followed by n)\n",
        "woman\t1 match\n",
        "```\n",
        "\n",
        "#### {} - Braces\n",
        "\n",
        "Consider this code: {n,m}. This means at least n, and at most m repetitions of the pattern left to it.\n",
        "\n",
        "Consider `a{2,3}`\n",
        "\n",
        "This means 2-3 occurances of a\n",
        "\n",
        "```\n",
        "abc dat\tNo match\n",
        "abc daat\t1 match (at daat)\n",
        "aabc daaat\t2 matches (at aabc and daaat)\n",
        "aabc daaaat\t2 matches (at aabc and daaaat)\n",
        "```\n",
        "\n",
        "Let's try one more example. This `RegEx [0-9]{2, 4}` matches at least 2 digits but not more than 4 digits\n",
        "\n",
        "```\n",
        "ab123csde\t1 match (match at ab123csde)\n",
        "12 and 345673\t2 matches (at 12 and 345673)\n",
        "1 and 2\tNo match\n",
        "```\n",
        "\n",
        "#### | - Alternation\n",
        "\n",
        "Vertical bar | is used for alternation (or operator).\n",
        "\n",
        "Consider `a|b`\n",
        "\n",
        "Here, a|b match any string that contains either a or b\n",
        "\n",
        "\n",
        "\n",
        "```\n",
        "cde\tNo match\n",
        "ade\t1 match (match at ade)\n",
        "acdbea\t3 matches (at acdbea)\n",
        "```\n",
        "\n",
        "#### () - Group\n",
        "\n",
        "Parentheses () is used to group sub-patterns. For example, `(a|b|c)xz` match any string that matches either a or b or c followed by xz\n",
        "\n",
        "\n",
        "```\n",
        "(a|b|c)xz\tab xz\tNo match\n",
        "abxz\t1 match (match at abxz)\n",
        "axz cabxz\t2 matches (at axzbc cabxz)\n",
        "```\n",
        "\n",
        "#### \\ - Backslash\n",
        "\n",
        "Backlash \\ is used to escape various characters including all metacharacters. For example, `\\$a` match if a string contains `$` followed by a. Here, `$` is not interpreted by a RegEx engine in a special way.\n",
        "\n",
        "If you are unsure if a character has special meaning or not, you can put \\ in front of it. This makes sure the character is not treated in a special way.\n",
        "\n"
      ]
    },
    {
      "cell_type": "markdown",
      "metadata": {
        "id": "cAw4fMjbg1PY",
        "colab_type": "text"
      },
      "source": [
        "#### Special Sequences\n",
        "\n",
        "Special sequences make commonly used patterns easier to write. Here's a list of special sequences:\n",
        "\n",
        "\\A - Matches if the specified characters are at the start of a string.\n",
        "\n",
        "Consider `\\Athe`\n",
        "\n",
        "Matches \"the\" at the start of the string\n",
        "\n",
        "```\n",
        "the sun\tMatch\n",
        "In the sun\tNo match\n",
        "```\n",
        "\n",
        "\\b - Matches if the specified characters are at the beginning or end of a word.\n",
        "\n",
        "Consider `\\bfoo`\n",
        "\n",
        "```\n",
        "football\tMatch\n",
        "a football\tMatch\n",
        "afootball\tNo match\n",
        "```\n",
        "\n",
        "Consider: `foo\\b`\n",
        "\n",
        "```\n",
        "the foo\tMatch\n",
        "the afoo test\tMatch\n",
        "the afootest\tNo match\n",
        "```\n",
        "\\B - Opposite of \\b. Matches if the specified characters are not at the beginning or end of a word.\n",
        "\n",
        "Consider `\\Bfoo`\n",
        "\n",
        "```\n",
        "football\tNo match\n",
        "a football\tNo match\n",
        "afootball\tMatch\n",
        "```\n",
        "\n",
        "\\d - Matches any decimal digit. Equivalent to [0-9]\n",
        "\n",
        "Consider: `\\d`\n",
        "\n",
        "```\n",
        "12abc3\t3 matches (at 12abc3)\n",
        "Python\tNo match\n",
        "```\n",
        "\n",
        "\\D - Matches any non-decimal digit. Equivalent to [^0-9]\n",
        "\n",
        "Consider `\\D`\n",
        "\n",
        "```\n",
        "1ab34\"50\t3 matches (at 1ab34\"50)\n",
        "1345\tNo match\n",
        "```\n",
        "\n",
        "\\s - Matches where a string contains any whitespace character. Equivalent to [ \\t\\n\\r\\f\\v].\n",
        "\n",
        "Consider `\\s`\n",
        "\n",
        "```\n",
        "Python RegEx\t1 match\n",
        "PythonRegEx\tNo match\n",
        "```\n",
        "\n",
        "\\S - Matches where a string contains any non-whitespace character. Equivalent to [^ \\t\\n\\r\\f\\v].\n",
        "\n",
        "Consider `\\S`\n",
        "\n",
        "```\n",
        "a b\t2 matches (at a b)\n",
        "   \tNo match\n",
        "```\n",
        "\n",
        "\\w - Matches any alphanumeric character (digits and alphabets). Equivalent to [a-zA-Z0-9_]. By the way, underscore _ is also considered an alphanumeric character.\n",
        "\n",
        "Consider `\\w`\n",
        "\n",
        "```\n",
        "\\w\t12&\": ;c\t3 matches (at 12&\": ;c)\n",
        "%\"> !\tNo match\n",
        "```\n",
        "\n",
        "\\W - Matches any non-alphanumeric character. Equivalent to [^a-zA-Z0-9_]\n",
        "\n",
        "Consider `\\W`\n",
        "\n",
        "```\n",
        "\\W\t1a2%c\t1 match (at 1a2%c)\n",
        "Python\tNo match\n",
        "```\n",
        "\n",
        "\\Z - Matches if the specified characters are at the end of a string.\n",
        "\n",
        "Consider `\\ZPython`\n",
        "\n",
        "```\n",
        "I like Python\t1 match\n",
        "I like Python\tNo match\n",
        "Python is fun.\tNo match\n",
        "```\n",
        "\n",
        "Tip: To build and test regular expressions, you can use RegEx tester tools such as [regex101](https://regex101.com/). This tool not only helps you in creating regular expressions, but it also helps you learn it.\n",
        "\n",
        "Now you understand the basics of RegEx, let's discuss how to use RegEx in your Python code."
      ]
    },
    {
      "cell_type": "markdown",
      "metadata": {
        "id": "3UWrb4dIhTYu",
        "colab_type": "text"
      },
      "source": [
        "### Python RegEx\n",
        "\n",
        "Python has a module named re to work with regular expressions. To use it, we need to import the module.\n",
        "\n",
        "#### re.findall()\n",
        "\n",
        "The re.findall() method returns a list of strings containing all matches.\n",
        "\n"
      ]
    },
    {
      "cell_type": "code",
      "metadata": {
        "id": "32T0XHvyr8El",
        "colab_type": "code",
        "outputId": "03ed0e0b-25b9-4bbc-8e11-a072be92e196",
        "colab": {
          "base_uri": "https://localhost:8080/",
          "height": 34
        }
      },
      "source": [
        "# Program to extract numbers from a string\n",
        "\n",
        "string = 'hello 12 hi 89. Howdy 3'\n",
        "pattern = '\\d+'\n",
        "\n",
        "result = re.findall(pattern, string)\n",
        "print (result)"
      ],
      "execution_count": 3,
      "outputs": [
        {
          "output_type": "stream",
          "text": [
            "['12', '89', '3']\n"
          ],
          "name": "stdout"
        }
      ]
    },
    {
      "cell_type": "markdown",
      "metadata": {
        "id": "jdcrACRQoK79",
        "colab_type": "text"
      },
      "source": [
        "If the pattern is no found, re.findall() returns an empty list.\n",
        "\n",
        "#### re.split()\n",
        "\n",
        "The re.split method splits the string where there is a match and returns a list of strings where the splits have occurred.\n",
        "\n"
      ]
    },
    {
      "cell_type": "code",
      "metadata": {
        "id": "EZIyrJfzoS4I",
        "colab_type": "code",
        "outputId": "6c40d667-50cc-4363-f4c8-a19604abac80",
        "colab": {
          "base_uri": "https://localhost:8080/",
          "height": 34
        }
      },
      "source": [
        "string = 'Twelve:12 Eighty nine:89.'\n",
        "pattern = '\\d+'\n",
        "\n",
        "result = re.split(pattern, string)\n",
        "\n",
        "print (result)"
      ],
      "execution_count": 4,
      "outputs": [
        {
          "output_type": "stream",
          "text": [
            "['Twelve:', ' Eighty nine:', '.']\n"
          ],
          "name": "stdout"
        }
      ]
    },
    {
      "cell_type": "markdown",
      "metadata": {
        "id": "LWVmpSV0ob0K",
        "colab_type": "text"
      },
      "source": [
        "If the pattern is no found, re.split() returns a list containing an empty string.\n",
        "\n",
        "You can pass maxsplit argument to the re.split() method. It's the maximum number of splits that will occur.\n",
        "\n"
      ]
    },
    {
      "cell_type": "code",
      "metadata": {
        "id": "kC0mRyljog9D",
        "colab_type": "code",
        "outputId": "e0391457-574b-4c98-8c9f-4ea396e2454e",
        "colab": {
          "base_uri": "https://localhost:8080/",
          "height": 34
        }
      },
      "source": [
        "# maxsplit = 1\n",
        "# split only at the first occurrence\n",
        "result = re.split(pattern, string, 1) \n",
        "print(result)"
      ],
      "execution_count": 5,
      "outputs": [
        {
          "output_type": "stream",
          "text": [
            "['Twelve:', ' Eighty nine:89.']\n"
          ],
          "name": "stdout"
        }
      ]
    },
    {
      "cell_type": "markdown",
      "metadata": {
        "id": "5tT51U8Rp9UV",
        "colab_type": "text"
      },
      "source": [
        "#### re.sub()\n",
        "\n",
        "The syntax of re.sub() is:\n",
        "\n",
        "`re.sub(pattern, replace, string)`\n",
        "\n",
        "The method returns a string where matched occurrences are replaced with the content of replace variable.\n",
        "\n"
      ]
    },
    {
      "cell_type": "code",
      "metadata": {
        "id": "yTcvnkhzohiM",
        "colab_type": "code",
        "outputId": "bc0fa9ee-3200-4b36-e9a6-698ae29e1dd2",
        "colab": {
          "base_uri": "https://localhost:8080/",
          "height": 34
        }
      },
      "source": [
        "# multiline string\n",
        "string = 'abc 12\\\n",
        "de 23 \\n f45 6'\n",
        "\n",
        "# matches all whitespace characters\n",
        "pattern = '\\s+'\n",
        "\n",
        "# empty string\n",
        "replace = ''\n",
        "\n",
        "new_string = re.sub(pattern, replace, string) \n",
        "print(new_string)"
      ],
      "execution_count": 6,
      "outputs": [
        {
          "output_type": "stream",
          "text": [
            "abc12de23f456\n"
          ],
          "name": "stdout"
        }
      ]
    },
    {
      "cell_type": "markdown",
      "metadata": {
        "id": "60Jlyq31qjxf",
        "colab_type": "text"
      },
      "source": [
        "If the pattern is no found, re.sub() returns the original string.\n",
        "\n",
        "You can pass count as a fourth parameter to the re.sub() method. If omited, it results to 0. This will replace all occurrences.\n",
        "\n"
      ]
    },
    {
      "cell_type": "code",
      "metadata": {
        "id": "7TrGmrZoqiy0",
        "colab_type": "code",
        "outputId": "e2d960c3-a61a-4f18-8672-67046a45542a",
        "colab": {
          "base_uri": "https://localhost:8080/",
          "height": 52
        }
      },
      "source": [
        "string = 'abc 12\\\n",
        "de 23 \\n f45 6'\n",
        "# matches all whitespace characters\n",
        "pattern = '\\s+'\n",
        "replace = ''\n",
        "new_string = re.sub(r'\\s+', replace, string, 1) \n",
        "print(new_string)"
      ],
      "execution_count": 7,
      "outputs": [
        {
          "output_type": "stream",
          "text": [
            "abc12de 23 \n",
            " f45 6\n"
          ],
          "name": "stdout"
        }
      ]
    },
    {
      "cell_type": "markdown",
      "metadata": {
        "id": "mpL3pp26tAfE",
        "colab_type": "text"
      },
      "source": [
        "#### re.subn()\n",
        "\n",
        "The re.subn() is similar to re.sub() expect it returns a tuple of 2 items containing the new string and the number of substitutions made.\n",
        "\n"
      ]
    },
    {
      "cell_type": "code",
      "metadata": {
        "id": "Peb-hGpmtEwh",
        "colab_type": "code",
        "outputId": "2783d834-b6d1-42ce-a307-8fdbee44de5e",
        "colab": {
          "base_uri": "https://localhost:8080/",
          "height": 34
        }
      },
      "source": [
        "# multiline string\n",
        "string = 'abc 12\\\n",
        "de 23 \\n f45 6'\n",
        "# matches all whitespace characters\n",
        "pattern = '\\s+'\n",
        "# empty string\n",
        "replace = ''\n",
        "new_string = re.subn(pattern, replace, string) \n",
        "print(new_string)"
      ],
      "execution_count": 8,
      "outputs": [
        {
          "output_type": "stream",
          "text": [
            "('abc12de23f456', 4)\n"
          ],
          "name": "stdout"
        }
      ]
    },
    {
      "cell_type": "markdown",
      "metadata": {
        "id": "wDNPM77kgPnl",
        "colab_type": "text"
      },
      "source": [
        "#### re.search()\n",
        "\n",
        "The re.search() method takes two arguments: a pattern and a string. The method looks for the first location where the RegEx pattern produces a match with the string.\n",
        "\n",
        "If the search is successful, re.search() returns a match object; if not, it returns None.\n",
        "\n"
      ]
    },
    {
      "cell_type": "code",
      "metadata": {
        "id": "lizxMmSqtFXc",
        "colab_type": "code",
        "colab": {
          "base_uri": "https://localhost:8080/",
          "height": 34
        },
        "outputId": "082a8270-67e6-4e3c-a861-5fefe867f2ce"
      },
      "source": [
        "string = \"Python is fun\"\n",
        "\n",
        "pattern = \"\\APython\"\n",
        "\n",
        "match = re.search(pattern, string)\n",
        "\n",
        "if match:\n",
        "  print(\"pattern found inside the string\")\n",
        "else:\n",
        "  print(\"pattern not found\")  "
      ],
      "execution_count": 9,
      "outputs": [
        {
          "output_type": "stream",
          "text": [
            "pattern found inside the string\n"
          ],
          "name": "stdout"
        }
      ]
    },
    {
      "cell_type": "markdown",
      "metadata": {
        "id": "lykeHAK1hLCA",
        "colab_type": "text"
      },
      "source": [
        "Here, match contains a match object.\n",
        "\n",
        "You can get methods and attributes of a match object using dir() function."
      ]
    },
    {
      "cell_type": "code",
      "metadata": {
        "id": "9gc0ifJxhDRW",
        "colab_type": "code",
        "colab": {
          "base_uri": "https://localhost:8080/",
          "height": 54
        },
        "outputId": "fc1d0d13-c00f-4e6a-dfcd-94328604d661"
      },
      "source": [
        "print (dir(match))"
      ],
      "execution_count": 12,
      "outputs": [
        {
          "output_type": "stream",
          "text": [
            "['__class__', '__copy__', '__deepcopy__', '__delattr__', '__dir__', '__doc__', '__eq__', '__format__', '__ge__', '__getattribute__', '__getitem__', '__gt__', '__hash__', '__init__', '__init_subclass__', '__le__', '__lt__', '__ne__', '__new__', '__reduce__', '__reduce_ex__', '__repr__', '__setattr__', '__sizeof__', '__str__', '__subclasshook__', 'end', 'endpos', 'expand', 'group', 'groupdict', 'groups', 'lastgroup', 'lastindex', 'pos', 're', 'regs', 'span', 'start', 'string']\n"
          ],
          "name": "stdout"
        }
      ]
    },
    {
      "cell_type": "markdown",
      "metadata": {
        "id": "hUvVMUTLhS0b",
        "colab_type": "text"
      },
      "source": [
        "#### Match object\n",
        "\n",
        "#### match.group()\n",
        "\n",
        "The group() method returns the part of the string where there is a match.\n",
        "\n"
      ]
    },
    {
      "cell_type": "code",
      "metadata": {
        "id": "LquwuQKKi7o_",
        "colab_type": "code",
        "colab": {
          "base_uri": "https://localhost:8080/",
          "height": 52
        },
        "outputId": "57a5ee64-a285-4d69-eaf2-f443d782bcce"
      },
      "source": [
        "string = '39801 356, 2102 1111'\n",
        "\n",
        "# Three digit number followed by space followed by two digit number\n",
        "pattern = '(\\d{3}) (\\d{2})'\n",
        "\n",
        "# match variable contains a Match object.\n",
        "match = re.search(pattern, string) \n",
        "\n",
        "if match:\n",
        "  print (match.group())\n",
        "else:\n",
        "  print(\"pattern not found\")\n",
        "\n",
        "print (match.groups())"
      ],
      "execution_count": 17,
      "outputs": [
        {
          "output_type": "stream",
          "text": [
            "801 35\n",
            "('801', '35')\n"
          ],
          "name": "stdout"
        }
      ]
    },
    {
      "cell_type": "markdown",
      "metadata": {
        "id": "e2U7nxFsjnpi",
        "colab_type": "text"
      },
      "source": [
        "Our pattern (\\d{3}) (\\d{2}) has two subgroups (\\d{3}) and (\\d{2}). You can get the part of the string of these parenthesized subgroups using `match.groups()`\n",
        "\n",
        "#### match.start(), match.end() and match.span()\n",
        "\n",
        "The start() function returns the index of the start of the matched substring. Similarly, end() returns the end index of the matched substring.\n",
        "\n"
      ]
    },
    {
      "cell_type": "code",
      "metadata": {
        "id": "GZ0kK2dPjKwP",
        "colab_type": "code",
        "colab": {
          "base_uri": "https://localhost:8080/",
          "height": 87
        },
        "outputId": "88de8e3f-45f3-47b8-b6a8-61d37c97c19c"
      },
      "source": [
        "print (match.start(), match.end())\n",
        "\n",
        "print (string[match.start()])\n",
        "\n",
        "print (string[match.end()])\n",
        "\n",
        "# The span() function returns a tuple containing start and end index of the matched part.\n",
        "\n",
        "print (match.span())"
      ],
      "execution_count": 21,
      "outputs": [
        {
          "output_type": "stream",
          "text": [
            "2 8\n",
            "8\n",
            "6\n",
            "(2, 8)\n"
          ],
          "name": "stdout"
        }
      ]
    },
    {
      "cell_type": "markdown",
      "metadata": {
        "id": "451SYbk2l-1X",
        "colab_type": "text"
      },
      "source": [
        "#### match.re and match.string\n",
        "\n",
        "The re attribute of a matched object returns a regular expression object. Similarly, string attribute returns the passed string.\n",
        "\n"
      ]
    },
    {
      "cell_type": "code",
      "metadata": {
        "id": "8GIcB_psmg27",
        "colab_type": "code",
        "colab": {
          "base_uri": "https://localhost:8080/",
          "height": 52
        },
        "outputId": "18b7cf2d-3994-4282-eaad-061f8a6673c4"
      },
      "source": [
        "print (match.re)\n",
        "\n",
        "print (match.string)"
      ],
      "execution_count": 24,
      "outputs": [
        {
          "output_type": "stream",
          "text": [
            "re.compile('(\\\\d{3}) (\\\\d{2})')\n",
            "39801 356, 2102 1111\n"
          ],
          "name": "stdout"
        }
      ]
    },
    {
      "cell_type": "markdown",
      "metadata": {
        "id": "euMP7ey9mq28",
        "colab_type": "text"
      },
      "source": [
        "#### Using r prefix before RegEx\n",
        "\n",
        "When r or R prefix is used before a regular expression, it means raw string. For example, '\\n' is a new line whereas r'\\n' means two characters: a backslash \\ followed by n.\n",
        "\n",
        "Backlash \\ is used to escape various characters including all metacharacters. However, using r prefix makes \\ treat as a normal character."
      ]
    },
    {
      "cell_type": "code",
      "metadata": {
        "id": "60Hxf21Em7yz",
        "colab_type": "code",
        "colab": {
          "base_uri": "https://localhost:8080/",
          "height": 34
        },
        "outputId": "63ea0054-5300-4d4f-855b-09adfb187e4d"
      },
      "source": [
        "string = '\\n and \\r are escape sequences.'\n",
        "result = re.findall(r'[\\n\\r]', string) \n",
        "print(result)\n"
      ],
      "execution_count": 27,
      "outputs": [
        {
          "output_type": "stream",
          "text": [
            "['\\n', '\\r']\n"
          ],
          "name": "stdout"
        }
      ]
    }
  ]
}