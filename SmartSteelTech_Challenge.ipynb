{
  "nbformat": 4,
  "nbformat_minor": 0,
  "metadata": {
    "colab": {
      "name": "SmartSteelTech Challenge.ipynb",
      "provenance": [],
      "collapsed_sections": [],
      "authorship_tag": "ABX9TyO+9XBQLDJhNzZDCqFAPrK5",
      "include_colab_link": true
    },
    "kernelspec": {
      "name": "python3",
      "display_name": "Python 3"
    },
    "language_info": {
      "name": "python"
    }
  },
  "cells": [
    {
      "cell_type": "markdown",
      "metadata": {
        "id": "view-in-github",
        "colab_type": "text"
      },
      "source": [
        "<a href=\"https://colab.research.google.com/github/ShaunakSen/Data-Science-and-Machine-Learning/blob/master/SmartSteelTech_Challenge.ipynb\" target=\"_parent\"><img src=\"https://colab.research.google.com/assets/colab-badge.svg\" alt=\"Open In Colab\"/></a>"
      ]
    },
    {
      "cell_type": "markdown",
      "metadata": {
        "id": "4WO05xfNoJ3A"
      },
      "source": [
        "## Rough Approach\n",
        "\n",
        "1. EDA\n",
        "    - Explore how distribution of class labels change wrt each sensor\n",
        "    - Corr bw sensor data\n",
        "2. Baseline LogReg model\n",
        "    - explore performance\n",
        "    - wts of the features correspond to the importances?\n",
        "    - https://machinelearningmastery.com/calculate-feature-importance-with-python/\n",
        "\n",
        "3. Decision Tree model\n",
        "    - feature importances\n",
        "\n",
        "4. Idea \n",
        "    - what if we use a tree with only one feature at a time and analyze the accuracy\n",
        "    - This is how DTs are constructed, we decide on the root node by checking which feature predicts best - we can use this same approach\n",
        "\n",
        "4. SHAP on that DT\n",
        "    - Global Importances\n",
        "    - Local Importances\n",
        "    - if we have instances that are more imp to us, we can look that the\n",
        "    - features which explain those instances and put more wt on these features; SHAP allows us to do this\n",
        "    - Also imagine if our prob were unbalanced and there are few values of one class. Now one feature may only be imp in predictions of that class. The default FI calculates how many times a feature is used as a split and this no will be low for that feature, but its very imp for that class"
      ]
    },
    {
      "cell_type": "code",
      "metadata": {
        "id": "ZVEBqAl6nt8E"
      },
      "source": [
        "import pandas as pd\n",
        "import numpy as np\n",
        "import matplotlib.pyplot as plt\n",
        "import seaborn as sns\n",
        "from IPython.display import display, HTML\n",
        "import itertools\n",
        "from sklearn.tree import DecisionTreeClassifier, plot_tree\n",
        "from sklearn.metrics import accuracy_score, f1_score\n",
        "\n",
        "%matplotlib inline"
      ],
      "execution_count": 13,
      "outputs": []
    },
    {
      "cell_type": "code",
      "metadata": {
        "colab": {
          "base_uri": "https://localhost:8080/",
          "height": 419
        },
        "id": "ZKKH3ir6vFII",
        "outputId": "59fdad68-489b-4bf5-c57d-487b6d95660e"
      },
      "source": [
        "data = pd.read_csv(filepath_or_buffer='./task_data.csv')\n",
        "data"
      ],
      "execution_count": 2,
      "outputs": [
        {
          "output_type": "execute_result",
          "data": {
            "text/html": [
              "<div>\n",
              "<style scoped>\n",
              "    .dataframe tbody tr th:only-of-type {\n",
              "        vertical-align: middle;\n",
              "    }\n",
              "\n",
              "    .dataframe tbody tr th {\n",
              "        vertical-align: top;\n",
              "    }\n",
              "\n",
              "    .dataframe thead th {\n",
              "        text-align: right;\n",
              "    }\n",
              "</style>\n",
              "<table border=\"1\" class=\"dataframe\">\n",
              "  <thead>\n",
              "    <tr style=\"text-align: right;\">\n",
              "      <th></th>\n",
              "      <th>sample index</th>\n",
              "      <th>class_label</th>\n",
              "      <th>sensor0</th>\n",
              "      <th>sensor1</th>\n",
              "      <th>sensor2</th>\n",
              "      <th>sensor3</th>\n",
              "      <th>sensor4</th>\n",
              "      <th>sensor5</th>\n",
              "      <th>sensor6</th>\n",
              "      <th>sensor7</th>\n",
              "      <th>sensor8</th>\n",
              "      <th>sensor9</th>\n",
              "    </tr>\n",
              "  </thead>\n",
              "  <tbody>\n",
              "    <tr>\n",
              "      <th>0</th>\n",
              "      <td>sample0</td>\n",
              "      <td>1.0</td>\n",
              "      <td>0.834251</td>\n",
              "      <td>0.726081</td>\n",
              "      <td>0.535904</td>\n",
              "      <td>0.214896</td>\n",
              "      <td>0.873788</td>\n",
              "      <td>0.767605</td>\n",
              "      <td>0.111308</td>\n",
              "      <td>0.557526</td>\n",
              "      <td>0.599650</td>\n",
              "      <td>0.665569</td>\n",
              "    </tr>\n",
              "    <tr>\n",
              "      <th>1</th>\n",
              "      <td>sample1</td>\n",
              "      <td>1.0</td>\n",
              "      <td>0.804059</td>\n",
              "      <td>0.253135</td>\n",
              "      <td>0.869867</td>\n",
              "      <td>0.334285</td>\n",
              "      <td>0.604075</td>\n",
              "      <td>0.494045</td>\n",
              "      <td>0.833575</td>\n",
              "      <td>0.194190</td>\n",
              "      <td>0.014966</td>\n",
              "      <td>0.802918</td>\n",
              "    </tr>\n",
              "    <tr>\n",
              "      <th>2</th>\n",
              "      <td>sample2</td>\n",
              "      <td>1.0</td>\n",
              "      <td>0.694404</td>\n",
              "      <td>0.595777</td>\n",
              "      <td>0.581294</td>\n",
              "      <td>0.799003</td>\n",
              "      <td>0.762857</td>\n",
              "      <td>0.651393</td>\n",
              "      <td>0.075905</td>\n",
              "      <td>0.007186</td>\n",
              "      <td>0.659633</td>\n",
              "      <td>0.831009</td>\n",
              "    </tr>\n",
              "    <tr>\n",
              "      <th>3</th>\n",
              "      <td>sample3</td>\n",
              "      <td>1.0</td>\n",
              "      <td>0.783690</td>\n",
              "      <td>0.038780</td>\n",
              "      <td>0.285043</td>\n",
              "      <td>0.627305</td>\n",
              "      <td>0.800620</td>\n",
              "      <td>0.486340</td>\n",
              "      <td>0.827723</td>\n",
              "      <td>0.339807</td>\n",
              "      <td>0.731343</td>\n",
              "      <td>0.892359</td>\n",
              "    </tr>\n",
              "    <tr>\n",
              "      <th>4</th>\n",
              "      <td>sample4</td>\n",
              "      <td>1.0</td>\n",
              "      <td>0.788835</td>\n",
              "      <td>0.174433</td>\n",
              "      <td>0.348770</td>\n",
              "      <td>0.938244</td>\n",
              "      <td>0.692065</td>\n",
              "      <td>0.377620</td>\n",
              "      <td>0.183760</td>\n",
              "      <td>0.616805</td>\n",
              "      <td>0.492899</td>\n",
              "      <td>0.930969</td>\n",
              "    </tr>\n",
              "    <tr>\n",
              "      <th>...</th>\n",
              "      <td>...</td>\n",
              "      <td>...</td>\n",
              "      <td>...</td>\n",
              "      <td>...</td>\n",
              "      <td>...</td>\n",
              "      <td>...</td>\n",
              "      <td>...</td>\n",
              "      <td>...</td>\n",
              "      <td>...</td>\n",
              "      <td>...</td>\n",
              "      <td>...</td>\n",
              "      <td>...</td>\n",
              "    </tr>\n",
              "    <tr>\n",
              "      <th>395</th>\n",
              "      <td>sample395</td>\n",
              "      <td>-1.0</td>\n",
              "      <td>0.433150</td>\n",
              "      <td>0.816109</td>\n",
              "      <td>0.452945</td>\n",
              "      <td>0.065469</td>\n",
              "      <td>0.237093</td>\n",
              "      <td>0.719321</td>\n",
              "      <td>0.577969</td>\n",
              "      <td>0.085598</td>\n",
              "      <td>0.357115</td>\n",
              "      <td>0.070060</td>\n",
              "    </tr>\n",
              "    <tr>\n",
              "      <th>396</th>\n",
              "      <td>sample396</td>\n",
              "      <td>-1.0</td>\n",
              "      <td>0.339346</td>\n",
              "      <td>0.914610</td>\n",
              "      <td>0.097827</td>\n",
              "      <td>0.077522</td>\n",
              "      <td>0.484140</td>\n",
              "      <td>0.690568</td>\n",
              "      <td>0.420054</td>\n",
              "      <td>0.482845</td>\n",
              "      <td>0.395148</td>\n",
              "      <td>0.438641</td>\n",
              "    </tr>\n",
              "    <tr>\n",
              "      <th>397</th>\n",
              "      <td>sample397</td>\n",
              "      <td>-1.0</td>\n",
              "      <td>0.320118</td>\n",
              "      <td>0.444951</td>\n",
              "      <td>0.401896</td>\n",
              "      <td>0.970993</td>\n",
              "      <td>0.960264</td>\n",
              "      <td>0.138345</td>\n",
              "      <td>0.354927</td>\n",
              "      <td>0.230749</td>\n",
              "      <td>0.204612</td>\n",
              "      <td>0.558889</td>\n",
              "    </tr>\n",
              "    <tr>\n",
              "      <th>398</th>\n",
              "      <td>sample398</td>\n",
              "      <td>-1.0</td>\n",
              "      <td>0.059132</td>\n",
              "      <td>0.337426</td>\n",
              "      <td>0.772847</td>\n",
              "      <td>0.099038</td>\n",
              "      <td>0.966042</td>\n",
              "      <td>0.975086</td>\n",
              "      <td>0.532891</td>\n",
              "      <td>0.035839</td>\n",
              "      <td>0.258723</td>\n",
              "      <td>0.709958</td>\n",
              "    </tr>\n",
              "    <tr>\n",
              "      <th>399</th>\n",
              "      <td>sample399</td>\n",
              "      <td>-1.0</td>\n",
              "      <td>0.379778</td>\n",
              "      <td>0.460256</td>\n",
              "      <td>0.229257</td>\n",
              "      <td>0.768975</td>\n",
              "      <td>0.321882</td>\n",
              "      <td>0.118572</td>\n",
              "      <td>0.448964</td>\n",
              "      <td>0.546324</td>\n",
              "      <td>0.363127</td>\n",
              "      <td>0.176632</td>\n",
              "    </tr>\n",
              "  </tbody>\n",
              "</table>\n",
              "<p>400 rows × 12 columns</p>\n",
              "</div>"
            ],
            "text/plain": [
              "    sample index  class_label   sensor0  ...   sensor7   sensor8   sensor9\n",
              "0        sample0          1.0  0.834251  ...  0.557526  0.599650  0.665569\n",
              "1        sample1          1.0  0.804059  ...  0.194190  0.014966  0.802918\n",
              "2        sample2          1.0  0.694404  ...  0.007186  0.659633  0.831009\n",
              "3        sample3          1.0  0.783690  ...  0.339807  0.731343  0.892359\n",
              "4        sample4          1.0  0.788835  ...  0.616805  0.492899  0.930969\n",
              "..           ...          ...       ...  ...       ...       ...       ...\n",
              "395    sample395         -1.0  0.433150  ...  0.085598  0.357115  0.070060\n",
              "396    sample396         -1.0  0.339346  ...  0.482845  0.395148  0.438641\n",
              "397    sample397         -1.0  0.320118  ...  0.230749  0.204612  0.558889\n",
              "398    sample398         -1.0  0.059132  ...  0.035839  0.258723  0.709958\n",
              "399    sample399         -1.0  0.379778  ...  0.546324  0.363127  0.176632\n",
              "\n",
              "[400 rows x 12 columns]"
            ]
          },
          "metadata": {
            "tags": []
          },
          "execution_count": 2
        }
      ]
    },
    {
      "cell_type": "code",
      "metadata": {
        "colab": {
          "base_uri": "https://localhost:8080/"
        },
        "id": "02AdgMazvTq6",
        "outputId": "a3679564-869e-494b-eb05-98b071e7ef7c"
      },
      "source": [
        "data.isnull().sum(axis=0)"
      ],
      "execution_count": 3,
      "outputs": [
        {
          "output_type": "execute_result",
          "data": {
            "text/plain": [
              "sample index    0\n",
              "class_label     0\n",
              "sensor0         0\n",
              "sensor1         0\n",
              "sensor2         0\n",
              "sensor3         0\n",
              "sensor4         0\n",
              "sensor5         0\n",
              "sensor6         0\n",
              "sensor7         0\n",
              "sensor8         0\n",
              "sensor9         0\n",
              "dtype: int64"
            ]
          },
          "metadata": {
            "tags": []
          },
          "execution_count": 3
        }
      ]
    },
    {
      "cell_type": "markdown",
      "metadata": {
        "id": "FfA2068hviV6"
      },
      "source": [
        "Good, so no NULL values"
      ]
    },
    {
      "cell_type": "code",
      "metadata": {
        "colab": {
          "base_uri": "https://localhost:8080/",
          "height": 297
        },
        "id": "UEuhU-FIvg9E",
        "outputId": "6dc3cdc3-27cb-420c-841b-94bb0455315c"
      },
      "source": [
        "data.describe()"
      ],
      "execution_count": 4,
      "outputs": [
        {
          "output_type": "execute_result",
          "data": {
            "text/html": [
              "<div>\n",
              "<style scoped>\n",
              "    .dataframe tbody tr th:only-of-type {\n",
              "        vertical-align: middle;\n",
              "    }\n",
              "\n",
              "    .dataframe tbody tr th {\n",
              "        vertical-align: top;\n",
              "    }\n",
              "\n",
              "    .dataframe thead th {\n",
              "        text-align: right;\n",
              "    }\n",
              "</style>\n",
              "<table border=\"1\" class=\"dataframe\">\n",
              "  <thead>\n",
              "    <tr style=\"text-align: right;\">\n",
              "      <th></th>\n",
              "      <th>class_label</th>\n",
              "      <th>sensor0</th>\n",
              "      <th>sensor1</th>\n",
              "      <th>sensor2</th>\n",
              "      <th>sensor3</th>\n",
              "      <th>sensor4</th>\n",
              "      <th>sensor5</th>\n",
              "      <th>sensor6</th>\n",
              "      <th>sensor7</th>\n",
              "      <th>sensor8</th>\n",
              "      <th>sensor9</th>\n",
              "    </tr>\n",
              "  </thead>\n",
              "  <tbody>\n",
              "    <tr>\n",
              "      <th>count</th>\n",
              "      <td>400.000000</td>\n",
              "      <td>400.000000</td>\n",
              "      <td>400.000000</td>\n",
              "      <td>400.000000</td>\n",
              "      <td>400.000000</td>\n",
              "      <td>400.000000</td>\n",
              "      <td>400.000000</td>\n",
              "      <td>400.000000</td>\n",
              "      <td>400.000000</td>\n",
              "      <td>400.000000</td>\n",
              "      <td>400.000000</td>\n",
              "    </tr>\n",
              "    <tr>\n",
              "      <th>mean</th>\n",
              "      <td>0.000000</td>\n",
              "      <td>0.523661</td>\n",
              "      <td>0.509223</td>\n",
              "      <td>0.481238</td>\n",
              "      <td>0.509752</td>\n",
              "      <td>0.497875</td>\n",
              "      <td>0.501065</td>\n",
              "      <td>0.490480</td>\n",
              "      <td>0.482372</td>\n",
              "      <td>0.482822</td>\n",
              "      <td>0.541933</td>\n",
              "    </tr>\n",
              "    <tr>\n",
              "      <th>std</th>\n",
              "      <td>1.001252</td>\n",
              "      <td>0.268194</td>\n",
              "      <td>0.276878</td>\n",
              "      <td>0.287584</td>\n",
              "      <td>0.297712</td>\n",
              "      <td>0.288208</td>\n",
              "      <td>0.287634</td>\n",
              "      <td>0.289954</td>\n",
              "      <td>0.282714</td>\n",
              "      <td>0.296180</td>\n",
              "      <td>0.272490</td>\n",
              "    </tr>\n",
              "    <tr>\n",
              "      <th>min</th>\n",
              "      <td>-1.000000</td>\n",
              "      <td>0.007775</td>\n",
              "      <td>0.003865</td>\n",
              "      <td>0.004473</td>\n",
              "      <td>0.001466</td>\n",
              "      <td>0.000250</td>\n",
              "      <td>0.000425</td>\n",
              "      <td>0.000173</td>\n",
              "      <td>0.003322</td>\n",
              "      <td>0.003165</td>\n",
              "      <td>0.000452</td>\n",
              "    </tr>\n",
              "    <tr>\n",
              "      <th>25%</th>\n",
              "      <td>-1.000000</td>\n",
              "      <td>0.299792</td>\n",
              "      <td>0.283004</td>\n",
              "      <td>0.235544</td>\n",
              "      <td>0.262697</td>\n",
              "      <td>0.249369</td>\n",
              "      <td>0.269430</td>\n",
              "      <td>0.226687</td>\n",
              "      <td>0.242848</td>\n",
              "      <td>0.213626</td>\n",
              "      <td>0.321264</td>\n",
              "    </tr>\n",
              "    <tr>\n",
              "      <th>50%</th>\n",
              "      <td>0.000000</td>\n",
              "      <td>0.534906</td>\n",
              "      <td>0.507583</td>\n",
              "      <td>0.460241</td>\n",
              "      <td>0.510066</td>\n",
              "      <td>0.497842</td>\n",
              "      <td>0.497108</td>\n",
              "      <td>0.477341</td>\n",
              "      <td>0.463438</td>\n",
              "      <td>0.462251</td>\n",
              "      <td>0.578389</td>\n",
              "    </tr>\n",
              "    <tr>\n",
              "      <th>75%</th>\n",
              "      <td>1.000000</td>\n",
              "      <td>0.751887</td>\n",
              "      <td>0.727843</td>\n",
              "      <td>0.734937</td>\n",
              "      <td>0.768975</td>\n",
              "      <td>0.743401</td>\n",
              "      <td>0.738854</td>\n",
              "      <td>0.735304</td>\n",
              "      <td>0.732483</td>\n",
              "      <td>0.740542</td>\n",
              "      <td>0.768990</td>\n",
              "    </tr>\n",
              "    <tr>\n",
              "      <th>max</th>\n",
              "      <td>1.000000</td>\n",
              "      <td>0.999476</td>\n",
              "      <td>0.998680</td>\n",
              "      <td>0.992963</td>\n",
              "      <td>0.995119</td>\n",
              "      <td>0.999412</td>\n",
              "      <td>0.997367</td>\n",
              "      <td>0.997141</td>\n",
              "      <td>0.998230</td>\n",
              "      <td>0.996098</td>\n",
              "      <td>0.999465</td>\n",
              "    </tr>\n",
              "  </tbody>\n",
              "</table>\n",
              "</div>"
            ],
            "text/plain": [
              "       class_label     sensor0     sensor1  ...     sensor7     sensor8     sensor9\n",
              "count   400.000000  400.000000  400.000000  ...  400.000000  400.000000  400.000000\n",
              "mean      0.000000    0.523661    0.509223  ...    0.482372    0.482822    0.541933\n",
              "std       1.001252    0.268194    0.276878  ...    0.282714    0.296180    0.272490\n",
              "min      -1.000000    0.007775    0.003865  ...    0.003322    0.003165    0.000452\n",
              "25%      -1.000000    0.299792    0.283004  ...    0.242848    0.213626    0.321264\n",
              "50%       0.000000    0.534906    0.507583  ...    0.463438    0.462251    0.578389\n",
              "75%       1.000000    0.751887    0.727843  ...    0.732483    0.740542    0.768990\n",
              "max       1.000000    0.999476    0.998680  ...    0.998230    0.996098    0.999465\n",
              "\n",
              "[8 rows x 11 columns]"
            ]
          },
          "metadata": {
            "tags": []
          },
          "execution_count": 4
        }
      ]
    },
    {
      "cell_type": "markdown",
      "metadata": {
        "id": "6x0mJIbqvzju"
      },
      "source": [
        "All features are in rane 0 -> 1, so they are quite normalized"
      ]
    },
    {
      "cell_type": "code",
      "metadata": {
        "colab": {
          "base_uri": "https://localhost:8080/"
        },
        "id": "XsT5WnCwvmTP",
        "outputId": "12e396cf-2a82-4135-cefe-4f9998b8981f"
      },
      "source": [
        "data['class_label'].value_counts()"
      ],
      "execution_count": 5,
      "outputs": [
        {
          "output_type": "execute_result",
          "data": {
            "text/plain": [
              "-1.0    200\n",
              " 1.0    200\n",
              "Name: class_label, dtype: int64"
            ]
          },
          "metadata": {
            "tags": []
          },
          "execution_count": 5
        }
      ]
    },
    {
      "cell_type": "markdown",
      "metadata": {
        "id": "lBcDsVU-wfel"
      },
      "source": [
        "This is a perfectly balanced binary classification scenario"
      ]
    },
    {
      "cell_type": "markdown",
      "metadata": {
        "id": "Jz-9Z_bmwoKt"
      },
      "source": [
        "## Analysis 1 : How does the distrubution of class label changes wrt each feature\n",
        "\n",
        "- For each feature, how is the distribution of values for the class label\n",
        "- pairwise boxplot with the 2 classes as 2 diff colors"
      ]
    },
    {
      "cell_type": "code",
      "metadata": {
        "colab": {
          "base_uri": "https://localhost:8080/",
          "height": 1000
        },
        "id": "hEnk_VZ7wehS",
        "outputId": "d411f97e-5adc-4f45-a5dd-30fe0dc5e5de"
      },
      "source": [
        "def feature_distribution_per_class(data, features):\n",
        "    \"\"\"\n",
        "    For each feature print out the distribution of that feature for each class\n",
        "    \"\"\"\n",
        "    for fea_ in features:\n",
        "        if fea_ in data.columns:\n",
        "            display(data.groupby('class_label').aggregate({fea_: ['mean', min, max]} ))\n",
        "\n",
        "    return\n",
        "\n",
        "features = [f'sensor{i}' for i in range(10)]\n",
        "feature_distribution_per_class(data, features)"
      ],
      "execution_count": 6,
      "outputs": [
        {
          "output_type": "display_data",
          "data": {
            "text/html": [
              "<div>\n",
              "<style scoped>\n",
              "    .dataframe tbody tr th:only-of-type {\n",
              "        vertical-align: middle;\n",
              "    }\n",
              "\n",
              "    .dataframe tbody tr th {\n",
              "        vertical-align: top;\n",
              "    }\n",
              "\n",
              "    .dataframe thead tr th {\n",
              "        text-align: left;\n",
              "    }\n",
              "\n",
              "    .dataframe thead tr:last-of-type th {\n",
              "        text-align: right;\n",
              "    }\n",
              "</style>\n",
              "<table border=\"1\" class=\"dataframe\">\n",
              "  <thead>\n",
              "    <tr>\n",
              "      <th></th>\n",
              "      <th colspan=\"3\" halign=\"left\">sensor0</th>\n",
              "    </tr>\n",
              "    <tr>\n",
              "      <th></th>\n",
              "      <th>mean</th>\n",
              "      <th>min</th>\n",
              "      <th>max</th>\n",
              "    </tr>\n",
              "    <tr>\n",
              "      <th>class_label</th>\n",
              "      <th></th>\n",
              "      <th></th>\n",
              "      <th></th>\n",
              "    </tr>\n",
              "  </thead>\n",
              "  <tbody>\n",
              "    <tr>\n",
              "      <th>-1.0</th>\n",
              "      <td>0.378135</td>\n",
              "      <td>0.007775</td>\n",
              "      <td>0.999476</td>\n",
              "    </tr>\n",
              "    <tr>\n",
              "      <th>1.0</th>\n",
              "      <td>0.669187</td>\n",
              "      <td>0.017610</td>\n",
              "      <td>0.999476</td>\n",
              "    </tr>\n",
              "  </tbody>\n",
              "</table>\n",
              "</div>"
            ],
            "text/plain": [
              "              sensor0                    \n",
              "                 mean       min       max\n",
              "class_label                              \n",
              "-1.0         0.378135  0.007775  0.999476\n",
              " 1.0         0.669187  0.017610  0.999476"
            ]
          },
          "metadata": {
            "tags": []
          }
        },
        {
          "output_type": "display_data",
          "data": {
            "text/html": [
              "<div>\n",
              "<style scoped>\n",
              "    .dataframe tbody tr th:only-of-type {\n",
              "        vertical-align: middle;\n",
              "    }\n",
              "\n",
              "    .dataframe tbody tr th {\n",
              "        vertical-align: top;\n",
              "    }\n",
              "\n",
              "    .dataframe thead tr th {\n",
              "        text-align: left;\n",
              "    }\n",
              "\n",
              "    .dataframe thead tr:last-of-type th {\n",
              "        text-align: right;\n",
              "    }\n",
              "</style>\n",
              "<table border=\"1\" class=\"dataframe\">\n",
              "  <thead>\n",
              "    <tr>\n",
              "      <th></th>\n",
              "      <th colspan=\"3\" halign=\"left\">sensor1</th>\n",
              "    </tr>\n",
              "    <tr>\n",
              "      <th></th>\n",
              "      <th>mean</th>\n",
              "      <th>min</th>\n",
              "      <th>max</th>\n",
              "    </tr>\n",
              "    <tr>\n",
              "      <th>class_label</th>\n",
              "      <th></th>\n",
              "      <th></th>\n",
              "      <th></th>\n",
              "    </tr>\n",
              "  </thead>\n",
              "  <tbody>\n",
              "    <tr>\n",
              "      <th>-1.0</th>\n",
              "      <td>0.578911</td>\n",
              "      <td>0.004316</td>\n",
              "      <td>0.998680</td>\n",
              "    </tr>\n",
              "    <tr>\n",
              "      <th>1.0</th>\n",
              "      <td>0.439535</td>\n",
              "      <td>0.003865</td>\n",
              "      <td>0.981556</td>\n",
              "    </tr>\n",
              "  </tbody>\n",
              "</table>\n",
              "</div>"
            ],
            "text/plain": [
              "              sensor1                    \n",
              "                 mean       min       max\n",
              "class_label                              \n",
              "-1.0         0.578911  0.004316  0.998680\n",
              " 1.0         0.439535  0.003865  0.981556"
            ]
          },
          "metadata": {
            "tags": []
          }
        },
        {
          "output_type": "display_data",
          "data": {
            "text/html": [
              "<div>\n",
              "<style scoped>\n",
              "    .dataframe tbody tr th:only-of-type {\n",
              "        vertical-align: middle;\n",
              "    }\n",
              "\n",
              "    .dataframe tbody tr th {\n",
              "        vertical-align: top;\n",
              "    }\n",
              "\n",
              "    .dataframe thead tr th {\n",
              "        text-align: left;\n",
              "    }\n",
              "\n",
              "    .dataframe thead tr:last-of-type th {\n",
              "        text-align: right;\n",
              "    }\n",
              "</style>\n",
              "<table border=\"1\" class=\"dataframe\">\n",
              "  <thead>\n",
              "    <tr>\n",
              "      <th></th>\n",
              "      <th colspan=\"3\" halign=\"left\">sensor2</th>\n",
              "    </tr>\n",
              "    <tr>\n",
              "      <th></th>\n",
              "      <th>mean</th>\n",
              "      <th>min</th>\n",
              "      <th>max</th>\n",
              "    </tr>\n",
              "    <tr>\n",
              "      <th>class_label</th>\n",
              "      <th></th>\n",
              "      <th></th>\n",
              "      <th></th>\n",
              "    </tr>\n",
              "  </thead>\n",
              "  <tbody>\n",
              "    <tr>\n",
              "      <th>-1.0</th>\n",
              "      <td>0.470101</td>\n",
              "      <td>0.004473</td>\n",
              "      <td>0.992963</td>\n",
              "    </tr>\n",
              "    <tr>\n",
              "      <th>1.0</th>\n",
              "      <td>0.492376</td>\n",
              "      <td>0.013799</td>\n",
              "      <td>0.975777</td>\n",
              "    </tr>\n",
              "  </tbody>\n",
              "</table>\n",
              "</div>"
            ],
            "text/plain": [
              "              sensor2                    \n",
              "                 mean       min       max\n",
              "class_label                              \n",
              "-1.0         0.470101  0.004473  0.992963\n",
              " 1.0         0.492376  0.013799  0.975777"
            ]
          },
          "metadata": {
            "tags": []
          }
        },
        {
          "output_type": "display_data",
          "data": {
            "text/html": [
              "<div>\n",
              "<style scoped>\n",
              "    .dataframe tbody tr th:only-of-type {\n",
              "        vertical-align: middle;\n",
              "    }\n",
              "\n",
              "    .dataframe tbody tr th {\n",
              "        vertical-align: top;\n",
              "    }\n",
              "\n",
              "    .dataframe thead tr th {\n",
              "        text-align: left;\n",
              "    }\n",
              "\n",
              "    .dataframe thead tr:last-of-type th {\n",
              "        text-align: right;\n",
              "    }\n",
              "</style>\n",
              "<table border=\"1\" class=\"dataframe\">\n",
              "  <thead>\n",
              "    <tr>\n",
              "      <th></th>\n",
              "      <th colspan=\"3\" halign=\"left\">sensor3</th>\n",
              "    </tr>\n",
              "    <tr>\n",
              "      <th></th>\n",
              "      <th>mean</th>\n",
              "      <th>min</th>\n",
              "      <th>max</th>\n",
              "    </tr>\n",
              "    <tr>\n",
              "      <th>class_label</th>\n",
              "      <th></th>\n",
              "      <th></th>\n",
              "      <th></th>\n",
              "    </tr>\n",
              "  </thead>\n",
              "  <tbody>\n",
              "    <tr>\n",
              "      <th>-1.0</th>\n",
              "      <td>0.380815</td>\n",
              "      <td>0.001466</td>\n",
              "      <td>0.995119</td>\n",
              "    </tr>\n",
              "    <tr>\n",
              "      <th>1.0</th>\n",
              "      <td>0.638689</td>\n",
              "      <td>0.014431</td>\n",
              "      <td>0.991156</td>\n",
              "    </tr>\n",
              "  </tbody>\n",
              "</table>\n",
              "</div>"
            ],
            "text/plain": [
              "              sensor3                    \n",
              "                 mean       min       max\n",
              "class_label                              \n",
              "-1.0         0.380815  0.001466  0.995119\n",
              " 1.0         0.638689  0.014431  0.991156"
            ]
          },
          "metadata": {
            "tags": []
          }
        },
        {
          "output_type": "display_data",
          "data": {
            "text/html": [
              "<div>\n",
              "<style scoped>\n",
              "    .dataframe tbody tr th:only-of-type {\n",
              "        vertical-align: middle;\n",
              "    }\n",
              "\n",
              "    .dataframe tbody tr th {\n",
              "        vertical-align: top;\n",
              "    }\n",
              "\n",
              "    .dataframe thead tr th {\n",
              "        text-align: left;\n",
              "    }\n",
              "\n",
              "    .dataframe thead tr:last-of-type th {\n",
              "        text-align: right;\n",
              "    }\n",
              "</style>\n",
              "<table border=\"1\" class=\"dataframe\">\n",
              "  <thead>\n",
              "    <tr>\n",
              "      <th></th>\n",
              "      <th colspan=\"3\" halign=\"left\">sensor4</th>\n",
              "    </tr>\n",
              "    <tr>\n",
              "      <th></th>\n",
              "      <th>mean</th>\n",
              "      <th>min</th>\n",
              "      <th>max</th>\n",
              "    </tr>\n",
              "    <tr>\n",
              "      <th>class_label</th>\n",
              "      <th></th>\n",
              "      <th></th>\n",
              "      <th></th>\n",
              "    </tr>\n",
              "  </thead>\n",
              "  <tbody>\n",
              "    <tr>\n",
              "      <th>-1.0</th>\n",
              "      <td>0.322972</td>\n",
              "      <td>0.000250</td>\n",
              "      <td>0.999412</td>\n",
              "    </tr>\n",
              "    <tr>\n",
              "      <th>1.0</th>\n",
              "      <td>0.672778</td>\n",
              "      <td>0.002246</td>\n",
              "      <td>0.999412</td>\n",
              "    </tr>\n",
              "  </tbody>\n",
              "</table>\n",
              "</div>"
            ],
            "text/plain": [
              "              sensor4                    \n",
              "                 mean       min       max\n",
              "class_label                              \n",
              "-1.0         0.322972  0.000250  0.999412\n",
              " 1.0         0.672778  0.002246  0.999412"
            ]
          },
          "metadata": {
            "tags": []
          }
        },
        {
          "output_type": "display_data",
          "data": {
            "text/html": [
              "<div>\n",
              "<style scoped>\n",
              "    .dataframe tbody tr th:only-of-type {\n",
              "        vertical-align: middle;\n",
              "    }\n",
              "\n",
              "    .dataframe tbody tr th {\n",
              "        vertical-align: top;\n",
              "    }\n",
              "\n",
              "    .dataframe thead tr th {\n",
              "        text-align: left;\n",
              "    }\n",
              "\n",
              "    .dataframe thead tr:last-of-type th {\n",
              "        text-align: right;\n",
              "    }\n",
              "</style>\n",
              "<table border=\"1\" class=\"dataframe\">\n",
              "  <thead>\n",
              "    <tr>\n",
              "      <th></th>\n",
              "      <th colspan=\"3\" halign=\"left\">sensor5</th>\n",
              "    </tr>\n",
              "    <tr>\n",
              "      <th></th>\n",
              "      <th>mean</th>\n",
              "      <th>min</th>\n",
              "      <th>max</th>\n",
              "    </tr>\n",
              "    <tr>\n",
              "      <th>class_label</th>\n",
              "      <th></th>\n",
              "      <th></th>\n",
              "      <th></th>\n",
              "    </tr>\n",
              "  </thead>\n",
              "  <tbody>\n",
              "    <tr>\n",
              "      <th>-1.0</th>\n",
              "      <td>0.436673</td>\n",
              "      <td>0.000425</td>\n",
              "      <td>0.984338</td>\n",
              "    </tr>\n",
              "    <tr>\n",
              "      <th>1.0</th>\n",
              "      <td>0.565457</td>\n",
              "      <td>0.002695</td>\n",
              "      <td>0.997367</td>\n",
              "    </tr>\n",
              "  </tbody>\n",
              "</table>\n",
              "</div>"
            ],
            "text/plain": [
              "              sensor5                    \n",
              "                 mean       min       max\n",
              "class_label                              \n",
              "-1.0         0.436673  0.000425  0.984338\n",
              " 1.0         0.565457  0.002695  0.997367"
            ]
          },
          "metadata": {
            "tags": []
          }
        },
        {
          "output_type": "display_data",
          "data": {
            "text/html": [
              "<div>\n",
              "<style scoped>\n",
              "    .dataframe tbody tr th:only-of-type {\n",
              "        vertical-align: middle;\n",
              "    }\n",
              "\n",
              "    .dataframe tbody tr th {\n",
              "        vertical-align: top;\n",
              "    }\n",
              "\n",
              "    .dataframe thead tr th {\n",
              "        text-align: left;\n",
              "    }\n",
              "\n",
              "    .dataframe thead tr:last-of-type th {\n",
              "        text-align: right;\n",
              "    }\n",
              "</style>\n",
              "<table border=\"1\" class=\"dataframe\">\n",
              "  <thead>\n",
              "    <tr>\n",
              "      <th></th>\n",
              "      <th colspan=\"3\" halign=\"left\">sensor6</th>\n",
              "    </tr>\n",
              "    <tr>\n",
              "      <th></th>\n",
              "      <th>mean</th>\n",
              "      <th>min</th>\n",
              "      <th>max</th>\n",
              "    </tr>\n",
              "    <tr>\n",
              "      <th>class_label</th>\n",
              "      <th></th>\n",
              "      <th></th>\n",
              "      <th></th>\n",
              "    </tr>\n",
              "  </thead>\n",
              "  <tbody>\n",
              "    <tr>\n",
              "      <th>-1.0</th>\n",
              "      <td>0.492627</td>\n",
              "      <td>0.248746</td>\n",
              "      <td>0.745404</td>\n",
              "    </tr>\n",
              "    <tr>\n",
              "      <th>1.0</th>\n",
              "      <td>0.488333</td>\n",
              "      <td>0.000173</td>\n",
              "      <td>0.997141</td>\n",
              "    </tr>\n",
              "  </tbody>\n",
              "</table>\n",
              "</div>"
            ],
            "text/plain": [
              "              sensor6                    \n",
              "                 mean       min       max\n",
              "class_label                              \n",
              "-1.0         0.492627  0.248746  0.745404\n",
              " 1.0         0.488333  0.000173  0.997141"
            ]
          },
          "metadata": {
            "tags": []
          }
        },
        {
          "output_type": "display_data",
          "data": {
            "text/html": [
              "<div>\n",
              "<style scoped>\n",
              "    .dataframe tbody tr th:only-of-type {\n",
              "        vertical-align: middle;\n",
              "    }\n",
              "\n",
              "    .dataframe tbody tr th {\n",
              "        vertical-align: top;\n",
              "    }\n",
              "\n",
              "    .dataframe thead tr th {\n",
              "        text-align: left;\n",
              "    }\n",
              "\n",
              "    .dataframe thead tr:last-of-type th {\n",
              "        text-align: right;\n",
              "    }\n",
              "</style>\n",
              "<table border=\"1\" class=\"dataframe\">\n",
              "  <thead>\n",
              "    <tr>\n",
              "      <th></th>\n",
              "      <th colspan=\"3\" halign=\"left\">sensor7</th>\n",
              "    </tr>\n",
              "    <tr>\n",
              "      <th></th>\n",
              "      <th>mean</th>\n",
              "      <th>min</th>\n",
              "      <th>max</th>\n",
              "    </tr>\n",
              "    <tr>\n",
              "      <th>class_label</th>\n",
              "      <th></th>\n",
              "      <th></th>\n",
              "      <th></th>\n",
              "    </tr>\n",
              "  </thead>\n",
              "  <tbody>\n",
              "    <tr>\n",
              "      <th>-1.0</th>\n",
              "      <td>0.432786</td>\n",
              "      <td>0.003453</td>\n",
              "      <td>0.975558</td>\n",
              "    </tr>\n",
              "    <tr>\n",
              "      <th>1.0</th>\n",
              "      <td>0.531957</td>\n",
              "      <td>0.003322</td>\n",
              "      <td>0.998230</td>\n",
              "    </tr>\n",
              "  </tbody>\n",
              "</table>\n",
              "</div>"
            ],
            "text/plain": [
              "              sensor7                    \n",
              "                 mean       min       max\n",
              "class_label                              \n",
              "-1.0         0.432786  0.003453  0.975558\n",
              " 1.0         0.531957  0.003322  0.998230"
            ]
          },
          "metadata": {
            "tags": []
          }
        },
        {
          "output_type": "display_data",
          "data": {
            "text/html": [
              "<div>\n",
              "<style scoped>\n",
              "    .dataframe tbody tr th:only-of-type {\n",
              "        vertical-align: middle;\n",
              "    }\n",
              "\n",
              "    .dataframe tbody tr th {\n",
              "        vertical-align: top;\n",
              "    }\n",
              "\n",
              "    .dataframe thead tr th {\n",
              "        text-align: left;\n",
              "    }\n",
              "\n",
              "    .dataframe thead tr:last-of-type th {\n",
              "        text-align: right;\n",
              "    }\n",
              "</style>\n",
              "<table border=\"1\" class=\"dataframe\">\n",
              "  <thead>\n",
              "    <tr>\n",
              "      <th></th>\n",
              "      <th colspan=\"3\" halign=\"left\">sensor8</th>\n",
              "    </tr>\n",
              "    <tr>\n",
              "      <th></th>\n",
              "      <th>mean</th>\n",
              "      <th>min</th>\n",
              "      <th>max</th>\n",
              "    </tr>\n",
              "    <tr>\n",
              "      <th>class_label</th>\n",
              "      <th></th>\n",
              "      <th></th>\n",
              "      <th></th>\n",
              "    </tr>\n",
              "  </thead>\n",
              "  <tbody>\n",
              "    <tr>\n",
              "      <th>-1.0</th>\n",
              "      <td>0.287406</td>\n",
              "      <td>0.003864</td>\n",
              "      <td>0.959601</td>\n",
              "    </tr>\n",
              "    <tr>\n",
              "      <th>1.0</th>\n",
              "      <td>0.678239</td>\n",
              "      <td>0.003165</td>\n",
              "      <td>0.996098</td>\n",
              "    </tr>\n",
              "  </tbody>\n",
              "</table>\n",
              "</div>"
            ],
            "text/plain": [
              "              sensor8                    \n",
              "                 mean       min       max\n",
              "class_label                              \n",
              "-1.0         0.287406  0.003864  0.959601\n",
              " 1.0         0.678239  0.003165  0.996098"
            ]
          },
          "metadata": {
            "tags": []
          }
        },
        {
          "output_type": "display_data",
          "data": {
            "text/html": [
              "<div>\n",
              "<style scoped>\n",
              "    .dataframe tbody tr th:only-of-type {\n",
              "        vertical-align: middle;\n",
              "    }\n",
              "\n",
              "    .dataframe tbody tr th {\n",
              "        vertical-align: top;\n",
              "    }\n",
              "\n",
              "    .dataframe thead tr th {\n",
              "        text-align: left;\n",
              "    }\n",
              "\n",
              "    .dataframe thead tr:last-of-type th {\n",
              "        text-align: right;\n",
              "    }\n",
              "</style>\n",
              "<table border=\"1\" class=\"dataframe\">\n",
              "  <thead>\n",
              "    <tr>\n",
              "      <th></th>\n",
              "      <th colspan=\"3\" halign=\"left\">sensor9</th>\n",
              "    </tr>\n",
              "    <tr>\n",
              "      <th></th>\n",
              "      <th>mean</th>\n",
              "      <th>min</th>\n",
              "      <th>max</th>\n",
              "    </tr>\n",
              "    <tr>\n",
              "      <th>class_label</th>\n",
              "      <th></th>\n",
              "      <th></th>\n",
              "      <th></th>\n",
              "    </tr>\n",
              "  </thead>\n",
              "  <tbody>\n",
              "    <tr>\n",
              "      <th>-1.0</th>\n",
              "      <td>0.516104</td>\n",
              "      <td>0.007976</td>\n",
              "      <td>0.982287</td>\n",
              "    </tr>\n",
              "    <tr>\n",
              "      <th>1.0</th>\n",
              "      <td>0.567762</td>\n",
              "      <td>0.000452</td>\n",
              "      <td>0.999465</td>\n",
              "    </tr>\n",
              "  </tbody>\n",
              "</table>\n",
              "</div>"
            ],
            "text/plain": [
              "              sensor9                    \n",
              "                 mean       min       max\n",
              "class_label                              \n",
              "-1.0         0.516104  0.007976  0.982287\n",
              " 1.0         0.567762  0.000452  0.999465"
            ]
          },
          "metadata": {
            "tags": []
          }
        }
      ]
    },
    {
      "cell_type": "markdown",
      "metadata": {
        "id": "_K7wAZHC3JRd"
      },
      "source": [
        "At a glance there looks to be variability in all features for each class label\n",
        "\n",
        "- For most features the avg value of that feature for class 1 is diffenet from that of class -1\n",
        "\n",
        "- For sensor6, the mean is very similar, but again the min and max differ, so even this feature can be quite important"
      ]
    },
    {
      "cell_type": "code",
      "metadata": {
        "id": "7jOvV4lWF5K_"
      },
      "source": [
        "def plot_feature_distribution_per_class(data, features, ncols):\n",
        "    \"\"\"\n",
        "    Plot the distribution for each feature wrt each label\n",
        "    data: the input dataframe\n",
        "    features: feature names to plot\n",
        "    ncols: no of cols to use in the figure (rows get adjusted automatically)\n",
        "    \"\"\"\n",
        "    fig, axes = plt.subplots(int(np.ceil(len(features)/ncols)), ncols, figsize=(25, 20))\n",
        "    sns.set_context('paper')\n",
        "    row_idx = -1\n",
        "    for idx, fea_ in enumerate(features):\n",
        "        if idx > ncols-1:\n",
        "            col_idx = idx%ncols\n",
        "        else:\n",
        "            col_idx = idx\n",
        "        if col_idx == 0:\n",
        "            row_idx += 1\n",
        "        sns.boxplot(ax=axes[row_idx, col_idx], x='class_label', y=fea_, data=data)\n",
        "        axes[row_idx, col_idx].set_title(f'Distribution of {fea_} for each class label')\n",
        "\n",
        "    return\n",
        "\n",
        "\n",
        "plot_feature_distribution_per_class(data, features, 4)"
      ],
      "execution_count": 7,
      "outputs": []
    },
    {
      "cell_type": "markdown",
      "metadata": {
        "id": "LguGcryobqRO"
      },
      "source": [
        "- we can see from the plots as well that the distributions differ significantly within classes for each of the features\n",
        "- from this, we conclude that __we cannot yet assume that any feature is not important__"
      ]
    },
    {
      "cell_type": "markdown",
      "metadata": {
        "id": "Rg5ECa3XcggE"
      },
      "source": [
        "## Analysis 2: Analyze correlations within features\n",
        "\n",
        "- first we can generate plots taking 2 features at a time to understand how they are related to each other\n",
        "\n",
        "- if the trend seems linear we can apply Person's correlation (we already know that each feature is numeric)\n",
        "\n",
        "- Since there are 10 features we will have `10C2 = 45` possible combinations of features\n"
      ]
    },
    {
      "cell_type": "code",
      "metadata": {
        "colab": {
          "base_uri": "https://localhost:8080/",
          "height": 279
        },
        "id": "yzRF1ZsFZ1SK",
        "outputId": "b771b867-2e54-45fc-c3be-3a17e929dc53"
      },
      "source": [
        "sns.set_style(\"white\")\n",
        "sns.scatterplot(x='sensor0', y='sensor2', hue='class_label', data=data);"
      ],
      "execution_count": 8,
      "outputs": [
        {
          "output_type": "display_data",
          "data": {
            "image/png": "[encoded data removed]",
            "text/plain": [
              "<Figure size 432x288 with 1 Axes>"
            ]
          },
          "metadata": {
            "tags": []
          }
        }
      ]
    },
    {
      "cell_type": "code",
      "metadata": {
        "id": "C2mFZJUaesXQ"
      },
      "source": [
        "def visualize_pairwise_feature_interactions(data, features, ncols):\n",
        "\n",
        "    all_feature_combos = list(itertools.combinations(features,2))\n",
        "\n",
        "    fig, axes = plt.subplots(int(np.ceil(len(all_feature_combos)/ncols)), ncols, figsize=(30, 60))\n",
        "    sns.set_context('paper')\n",
        "    row_idx = -1\n",
        "    for idx, (fea_1, fea_2) in enumerate(all_feature_combos):\n",
        "        if idx > ncols-1:\n",
        "            col_idx = idx%ncols\n",
        "        else:\n",
        "            col_idx = idx\n",
        "        if col_idx == 0:\n",
        "            row_idx += 1\n",
        "        sns.scatterplot(ax=axes[row_idx, col_idx], x=fea_1, y=fea_2, hue='class_label', data=data)\n",
        "        axes[row_idx, col_idx].set_title(f'{fea_1} vs {fea_2}')\n",
        "\n",
        "    return\n",
        "\n",
        "visualize_pairwise_feature_interactions(data, features, 4)"
      ],
      "execution_count": 9,
      "outputs": []
    },
    {
      "cell_type": "markdown",
      "metadata": {
        "id": "s_z38xmmXnbH"
      },
      "source": [
        "We observe some interesting patterns from the above plot:\n",
        "\n",
        "- there seems to be weak to no correlations between features\n",
        "\n",
        "- by coloring the class labels we can identify how the class labels depend on the interaction of features\n",
        "\n",
        "- In many cases there appears as if we can construct linear decision boundaries to determine each class label\n",
        "    - For example:\n",
        "    - In the sensor0 vs sensor6 plot we can draw decison boundaries as shown to separate out the 2 classes\n",
        "    - ![](https://i.imgur.com/8IpdgV6.png)\n",
        "\n",
        "    - we can roughly see that the approximate rule is: when `0 <= sensor6 < 0.2 OR 0.8 < sensor6 < 1 -> class 1 else class 0 `\n",
        "\n",
        "    - The decision boundaries can look slightly more complex as shown below:\n",
        "    - ![](https://i.imgur.com/EZHeNVp.png)\n",
        "    - The boundary is just for illustration purpose and not a pratical one but we can see that based on various combinations of the features we can separate out the classes\n",
        "\n",
        "    sensor2 > 0.2 and sensor2 <0.8 and sensor1 < 0.6 OR (sensor2 > 0.15 and )\n",
        "    - These linear boundaries look very similar to the ones construced by Decision Trees and tree-based algorithm looks suitable for such a problem. Below are some example decision boundaries of DTs vs KNNs\n",
        "\n",
        "    ![](https://shapeofdata.files.wordpress.com/2013/07/dtree2.png)\n",
        "\n",
        "    ![](https://shapeofdata.files.wordpress.com/2013/03/knn1.png)\n",
        "\n",
        "    Source: https://shapeofdata.wordpress.com/2013/07/02/decision-trees/\n",
        "\n",
        "    - Also decision trees give us the ability to compute feature importances quite easily by computing the total information the feature provides while building the tree\n"
      ]
    },
    {
      "cell_type": "markdown",
      "metadata": {
        "id": "3DRM4LFQrbFT"
      },
      "source": [
        "## Approach 1: Using Decision Trees for each feature\n",
        "\n",
        "1. Consider each feature as a stand-alone feature in the dataset\n",
        "2. Construct a decision tree using that feature\n",
        "3. Compute the accuracy (training accuracy) for the decision tree\n",
        "    - this indicates how good that feature alone is in separating the classes\n",
        "    - since we are dealing with a balance binary classification problem, accuracy is a suitable metric here\n",
        "4. Rank the features based on this accuracy\n",
        "5. the benefit of this approach is that we rank each feature individually without the influence/interactions with the other features\n"
      ]
    },
    {
      "cell_type": "code",
      "metadata": {
        "id": "n72pjOeKg7eG"
      },
      "source": [
        "### convert the class labels to be 0 and 1 for compatiblity with sklearn\n",
        "data['class_label'] = [1 if label_==1 else 0 for label_ in data['class_label']]"
      ],
      "execution_count": 10,
      "outputs": []
    },
    {
      "cell_type": "code",
      "metadata": {
        "colab": {
          "base_uri": "https://localhost:8080/",
          "height": 419
        },
        "id": "R-ceQVHm0CYF",
        "outputId": "36304891-eb2b-46ca-f0d8-cc9435fff7f1"
      },
      "source": [
        "data"
      ],
      "execution_count": null,
      "outputs": [
        {
          "output_type": "execute_result",
          "data": {
            "text/html": [
              "<div>\n",
              "<style scoped>\n",
              "    .dataframe tbody tr th:only-of-type {\n",
              "        vertical-align: middle;\n",
              "    }\n",
              "\n",
              "    .dataframe tbody tr th {\n",
              "        vertical-align: top;\n",
              "    }\n",
              "\n",
              "    .dataframe thead th {\n",
              "        text-align: right;\n",
              "    }\n",
              "</style>\n",
              "<table border=\"1\" class=\"dataframe\">\n",
              "  <thead>\n",
              "    <tr style=\"text-align: right;\">\n",
              "      <th></th>\n",
              "      <th>sample index</th>\n",
              "      <th>class_label</th>\n",
              "      <th>sensor0</th>\n",
              "      <th>sensor1</th>\n",
              "      <th>sensor2</th>\n",
              "      <th>sensor3</th>\n",
              "      <th>sensor4</th>\n",
              "      <th>sensor5</th>\n",
              "      <th>sensor6</th>\n",
              "      <th>sensor7</th>\n",
              "      <th>sensor8</th>\n",
              "      <th>sensor9</th>\n",
              "    </tr>\n",
              "  </thead>\n",
              "  <tbody>\n",
              "    <tr>\n",
              "      <th>0</th>\n",
              "      <td>sample0</td>\n",
              "      <td>1</td>\n",
              "      <td>0.834251</td>\n",
              "      <td>0.726081</td>\n",
              "      <td>0.535904</td>\n",
              "      <td>0.214896</td>\n",
              "      <td>0.873788</td>\n",
              "      <td>0.767605</td>\n",
              "      <td>0.111308</td>\n",
              "      <td>0.557526</td>\n",
              "      <td>0.599650</td>\n",
              "      <td>0.665569</td>\n",
              "    </tr>\n",
              "    <tr>\n",
              "      <th>1</th>\n",
              "      <td>sample1</td>\n",
              "      <td>1</td>\n",
              "      <td>0.804059</td>\n",
              "      <td>0.253135</td>\n",
              "      <td>0.869867</td>\n",
              "      <td>0.334285</td>\n",
              "      <td>0.604075</td>\n",
              "      <td>0.494045</td>\n",
              "      <td>0.833575</td>\n",
              "      <td>0.194190</td>\n",
              "      <td>0.014966</td>\n",
              "      <td>0.802918</td>\n",
              "    </tr>\n",
              "    <tr>\n",
              "      <th>2</th>\n",
              "      <td>sample2</td>\n",
              "      <td>1</td>\n",
              "      <td>0.694404</td>\n",
              "      <td>0.595777</td>\n",
              "      <td>0.581294</td>\n",
              "      <td>0.799003</td>\n",
              "      <td>0.762857</td>\n",
              "      <td>0.651393</td>\n",
              "      <td>0.075905</td>\n",
              "      <td>0.007186</td>\n",
              "      <td>0.659633</td>\n",
              "      <td>0.831009</td>\n",
              "    </tr>\n",
              "    <tr>\n",
              "      <th>3</th>\n",
              "      <td>sample3</td>\n",
              "      <td>1</td>\n",
              "      <td>0.783690</td>\n",
              "      <td>0.038780</td>\n",
              "      <td>0.285043</td>\n",
              "      <td>0.627305</td>\n",
              "      <td>0.800620</td>\n",
              "      <td>0.486340</td>\n",
              "      <td>0.827723</td>\n",
              "      <td>0.339807</td>\n",
              "      <td>0.731343</td>\n",
              "      <td>0.892359</td>\n",
              "    </tr>\n",
              "    <tr>\n",
              "      <th>4</th>\n",
              "      <td>sample4</td>\n",
              "      <td>1</td>\n",
              "      <td>0.788835</td>\n",
              "      <td>0.174433</td>\n",
              "      <td>0.348770</td>\n",
              "      <td>0.938244</td>\n",
              "      <td>0.692065</td>\n",
              "      <td>0.377620</td>\n",
              "      <td>0.183760</td>\n",
              "      <td>0.616805</td>\n",
              "      <td>0.492899</td>\n",
              "      <td>0.930969</td>\n",
              "    </tr>\n",
              "    <tr>\n",
              "      <th>...</th>\n",
              "      <td>...</td>\n",
              "      <td>...</td>\n",
              "      <td>...</td>\n",
              "      <td>...</td>\n",
              "      <td>...</td>\n",
              "      <td>...</td>\n",
              "      <td>...</td>\n",
              "      <td>...</td>\n",
              "      <td>...</td>\n",
              "      <td>...</td>\n",
              "      <td>...</td>\n",
              "      <td>...</td>\n",
              "    </tr>\n",
              "    <tr>\n",
              "      <th>395</th>\n",
              "      <td>sample395</td>\n",
              "      <td>0</td>\n",
              "      <td>0.433150</td>\n",
              "      <td>0.816109</td>\n",
              "      <td>0.452945</td>\n",
              "      <td>0.065469</td>\n",
              "      <td>0.237093</td>\n",
              "      <td>0.719321</td>\n",
              "      <td>0.577969</td>\n",
              "      <td>0.085598</td>\n",
              "      <td>0.357115</td>\n",
              "      <td>0.070060</td>\n",
              "    </tr>\n",
              "    <tr>\n",
              "      <th>396</th>\n",
              "      <td>sample396</td>\n",
              "      <td>0</td>\n",
              "      <td>0.339346</td>\n",
              "      <td>0.914610</td>\n",
              "      <td>0.097827</td>\n",
              "      <td>0.077522</td>\n",
              "      <td>0.484140</td>\n",
              "      <td>0.690568</td>\n",
              "      <td>0.420054</td>\n",
              "      <td>0.482845</td>\n",
              "      <td>0.395148</td>\n",
              "      <td>0.438641</td>\n",
              "    </tr>\n",
              "    <tr>\n",
              "      <th>397</th>\n",
              "      <td>sample397</td>\n",
              "      <td>0</td>\n",
              "      <td>0.320118</td>\n",
              "      <td>0.444951</td>\n",
              "      <td>0.401896</td>\n",
              "      <td>0.970993</td>\n",
              "      <td>0.960264</td>\n",
              "      <td>0.138345</td>\n",
              "      <td>0.354927</td>\n",
              "      <td>0.230749</td>\n",
              "      <td>0.204612</td>\n",
              "      <td>0.558889</td>\n",
              "    </tr>\n",
              "    <tr>\n",
              "      <th>398</th>\n",
              "      <td>sample398</td>\n",
              "      <td>0</td>\n",
              "      <td>0.059132</td>\n",
              "      <td>0.337426</td>\n",
              "      <td>0.772847</td>\n",
              "      <td>0.099038</td>\n",
              "      <td>0.966042</td>\n",
              "      <td>0.975086</td>\n",
              "      <td>0.532891</td>\n",
              "      <td>0.035839</td>\n",
              "      <td>0.258723</td>\n",
              "      <td>0.709958</td>\n",
              "    </tr>\n",
              "    <tr>\n",
              "      <th>399</th>\n",
              "      <td>sample399</td>\n",
              "      <td>0</td>\n",
              "      <td>0.379778</td>\n",
              "      <td>0.460256</td>\n",
              "      <td>0.229257</td>\n",
              "      <td>0.768975</td>\n",
              "      <td>0.321882</td>\n",
              "      <td>0.118572</td>\n",
              "      <td>0.448964</td>\n",
              "      <td>0.546324</td>\n",
              "      <td>0.363127</td>\n",
              "      <td>0.176632</td>\n",
              "    </tr>\n",
              "  </tbody>\n",
              "</table>\n",
              "<p>400 rows × 12 columns</p>\n",
              "</div>"
            ],
            "text/plain": [
              "    sample index  class_label   sensor0  ...   sensor7   sensor8   sensor9\n",
              "0        sample0            1  0.834251  ...  0.557526  0.599650  0.665569\n",
              "1        sample1            1  0.804059  ...  0.194190  0.014966  0.802918\n",
              "2        sample2            1  0.694404  ...  0.007186  0.659633  0.831009\n",
              "3        sample3            1  0.783690  ...  0.339807  0.731343  0.892359\n",
              "4        sample4            1  0.788835  ...  0.616805  0.492899  0.930969\n",
              "..           ...          ...       ...  ...       ...       ...       ...\n",
              "395    sample395            0  0.433150  ...  0.085598  0.357115  0.070060\n",
              "396    sample396            0  0.339346  ...  0.482845  0.395148  0.438641\n",
              "397    sample397            0  0.320118  ...  0.230749  0.204612  0.558889\n",
              "398    sample398            0  0.059132  ...  0.035839  0.258723  0.709958\n",
              "399    sample399            0  0.379778  ...  0.546324  0.363127  0.176632\n",
              "\n",
              "[400 rows x 12 columns]"
            ]
          },
          "metadata": {
            "tags": []
          },
          "execution_count": 23
        }
      ]
    },
    {
      "cell_type": "code",
      "metadata": {
        "id": "MlxbukHIzLkU"
      },
      "source": [
        "features = [f'sensor{i}' for i in range(10)]\n",
        "\n",
        "X, y = data.loc[:, features], data['class_label']\n"
      ],
      "execution_count": 20,
      "outputs": []
    },
    {
      "cell_type": "code",
      "metadata": {
        "colab": {
          "base_uri": "https://localhost:8080/"
        },
        "id": "mPDYmN70bZIq",
        "outputId": "8bf46dc1-17b7-4261-f501-706d3a598c23"
      },
      "source": [
        "def DT_for_each_feature(data, features):\n",
        "    \"\"\"\n",
        "    \"\"\"\n",
        "\n",
        "    results_data = []\n",
        "\n",
        "    for fea_ in features:\n",
        "        print (f'Training DT for {fea_}')\n",
        "        X, y = data.loc[:, [fea_]], data['class_label']\n",
        "        clf = DecisionTreeClassifier(criterion='gini')\n",
        "        clf.fit(X, y)\n",
        "        ### get predictions on the training data\n",
        "        y_pred = clf.predict(X)\n",
        "        acc_ = accuracy_score(y_true=y, y_pred=y_pred)\n",
        "        f1_ = f1_score(y_true=y, y_pred=y_pred)\n",
        "        results_data.append({'feature': fea_, 'accuracy': acc_, 'f1_score': f1_})  \n",
        "    return results_data\n",
        "\n",
        "all_features = [f'sensor{i}' for i in range(10)]\n",
        "\n",
        "results_data = DT_for_each_feature(data, features)\n",
        "\n"
      ],
      "execution_count": 25,
      "outputs": [
        {
          "output_type": "stream",
          "text": [
            "Training DT for sensor0\n",
            "Training DT for sensor1\n",
            "Training DT for sensor2\n",
            "Training DT for sensor3\n",
            "Training DT for sensor4\n",
            "Training DT for sensor5\n",
            "Training DT for sensor6\n",
            "Training DT for sensor7\n",
            "Training DT for sensor8\n",
            "Training DT for sensor9\n"
          ],
          "name": "stdout"
        }
      ]
    },
    {
      "cell_type": "code",
      "metadata": {
        "colab": {
          "base_uri": "https://localhost:8080/"
        },
        "id": "WXeEFPzDtG-B",
        "outputId": "d128fbde-f3f5-45a8-cc0d-170e74736a3d"
      },
      "source": [
        "feature_rank_f1 = [item['feature'] for item in sorted(results_data, key=lambda res_: res_['f1_score'], reverse=True)]\n",
        "feature_rank_acc = [item['feature'] for item in sorted(results_data, key=lambda res_: res_['accuracy'], reverse=True)]\n",
        "\n",
        "print (feature_rank_f1)\n",
        "print (feature_rank_acc)\n",
        "\n",
        "print (feature_rank_acc == feature_rank_f1)"
      ],
      "execution_count": 35,
      "outputs": [
        {
          "output_type": "stream",
          "text": [
            "['sensor6', 'sensor1', 'sensor8', 'sensor2', 'sensor4', 'sensor5', 'sensor0', 'sensor7', 'sensor9', 'sensor3']\n",
            "['sensor6', 'sensor1', 'sensor8', 'sensor2', 'sensor4', 'sensor5', 'sensor0', 'sensor7', 'sensor9', 'sensor3']\n",
            "True\n"
          ],
          "name": "stdout"
        }
      ]
    },
    {
      "cell_type": "code",
      "metadata": {
        "id": "OmLSyJ2Hzffk"
      },
      "source": [
        "clf = DecisionTreeClassifier(max_depth=2)"
      ],
      "execution_count": 21,
      "outputs": []
    },
    {
      "cell_type": "code",
      "metadata": {
        "colab": {
          "base_uri": "https://localhost:8080/"
        },
        "id": "7kM4o8K_0KjM",
        "outputId": "e9562eaf-7bb7-42b1-e59a-81517cd7262c"
      },
      "source": [
        "clf.fit(X, y)"
      ],
      "execution_count": 22,
      "outputs": [
        {
          "output_type": "execute_result",
          "data": {
            "text/plain": [
              "DecisionTreeClassifier(ccp_alpha=0.0, class_weight=None, criterion='gini',\n",
              "                       max_depth=2, max_features=None, max_leaf_nodes=None,\n",
              "                       min_impurity_decrease=0.0, min_impurity_split=None,\n",
              "                       min_samples_leaf=1, min_samples_split=2,\n",
              "                       min_weight_fraction_leaf=0.0, presort='deprecated',\n",
              "                       random_state=None, splitter='best')"
            ]
          },
          "metadata": {
            "tags": []
          },
          "execution_count": 22
        }
      ]
    },
    {
      "cell_type": "code",
      "metadata": {
        "colab": {
          "base_uri": "https://localhost:8080/"
        },
        "id": "TKhsSOPWrMo0",
        "outputId": "f5d718bb-e598-4362-dd5e-89344c89c8bf"
      },
      "source": [
        "y_pred = clf.predict(X)\n",
        "\n",
        "accuracy_score(y_true=y, y_pred=y_pred)"
      ],
      "execution_count": 24,
      "outputs": [
        {
          "output_type": "execute_result",
          "data": {
            "text/plain": [
              "0.93"
            ]
          },
          "metadata": {
            "tags": []
          },
          "execution_count": 24
        }
      ]
    },
    {
      "cell_type": "code",
      "metadata": {
        "colab": {
          "base_uri": "https://localhost:8080/",
          "height": 248
        },
        "id": "yyoLtLnW0bT6",
        "outputId": "24c50bd5-aad2-4b36-b613-80ae8f9b13f6"
      },
      "source": [
        "plot_tree(clf, feature_names=list(X.columns), filled=True, proportion=True);"
      ],
      "execution_count": null,
      "outputs": [
        {
          "output_type": "display_data",
          "data": {
            "image/png": "[encoded data removed]",
            "text/plain": [
              "<Figure size 432x288 with 1 Axes>"
            ]
          },
          "metadata": {
            "tags": [],
            "needs_background": "light"
          }
        }
      ]
    },
    {
      "cell_type": "code",
      "metadata": {
        "colab": {
          "base_uri": "https://localhost:8080/"
        },
        "id": "pTMVDcrW1DVl",
        "outputId": "39ce73fc-6d8d-4114-c2c6-bb51806f96e8"
      },
      "source": [
        "features = [f'sensor{8}']\n",
        "\n",
        "print (features)\n",
        "\n",
        "X, y = data.loc[:, features], data['class_label']\n",
        "\n",
        "print(X.shape, y.shape)"
      ],
      "execution_count": null,
      "outputs": [
        {
          "output_type": "stream",
          "text": [
            "['sensor8']\n",
            "(400, 1) (400,)\n"
          ],
          "name": "stdout"
        }
      ]
    },
    {
      "cell_type": "code",
      "metadata": {
        "colab": {
          "base_uri": "https://localhost:8080/",
          "height": 51
        },
        "id": "ECl3wcSy4BUE",
        "outputId": "e9294212-d762-465d-8f63-4e8692da07cb"
      },
      "source": [
        "from matplotlib.pyplot import figure\n",
        "\n",
        "figure(figsize=(20, 20), dpi=80)"
      ],
      "execution_count": null,
      "outputs": [
        {
          "output_type": "execute_result",
          "data": {
            "text/plain": [
              "<Figure size 1600x1600 with 0 Axes>"
            ]
          },
          "metadata": {
            "tags": []
          },
          "execution_count": 73
        },
        {
          "output_type": "display_data",
          "data": {
            "text/plain": [
              "<Figure size 1600x1600 with 0 Axes>"
            ]
          },
          "metadata": {
            "tags": []
          }
        }
      ]
    },
    {
      "cell_type": "code",
      "metadata": {
        "colab": {
          "base_uri": "https://localhost:8080/"
        },
        "id": "zZ7WgeB92q4J",
        "outputId": "6e70894b-37f6-4a1b-e828-a3d544ee8209"
      },
      "source": [
        "clf = DecisionTreeClassifier()\n",
        "clf.fit(X, y)"
      ],
      "execution_count": null,
      "outputs": [
        {
          "output_type": "execute_result",
          "data": {
            "text/plain": [
              "DecisionTreeClassifier(ccp_alpha=0.0, class_weight=None, criterion='gini',\n",
              "                       max_depth=None, max_features=None, max_leaf_nodes=None,\n",
              "                       min_impurity_decrease=0.0, min_impurity_split=None,\n",
              "                       min_samples_leaf=1, min_samples_split=2,\n",
              "                       min_weight_fraction_leaf=0.0, presort='deprecated',\n",
              "                       random_state=None, splitter='best')"
            ]
          },
          "metadata": {
            "tags": []
          },
          "execution_count": 74
        }
      ]
    },
    {
      "cell_type": "code",
      "metadata": {
        "id": "9ATdKTuC2vB8"
      },
      "source": [
        "plt.figure(figsize=(50,50))  # set plot size (denoted in inches)\n",
        "\n",
        "plot_tree(clf, feature_names=list(X.columns), filled=True, proportion=True, fontsize=8);"
      ],
      "execution_count": null,
      "outputs": []
    },
    {
      "cell_type": "markdown",
      "metadata": {
        "id": "M0BSd1EG3T2l"
      },
      "source": [
        "sensor6 does an awesome job but if we restrict depth=1 it wont it needs dept = 2"
      ]
    },
    {
      "cell_type": "code",
      "metadata": {
        "id": "Dkp83I1q5IwO",
        "colab": {
          "base_uri": "https://localhost:8080/"
        },
        "outputId": "0c80c2f5-324c-423a-a99d-1c148c8a45b2"
      },
      "source": [
        "y_true = [0,0,0,1,1,1]\n",
        "y_pred = [1,1,0,1,1,1]\n",
        "accuracy_score(y_true, y_pred)"
      ],
      "execution_count": 12,
      "outputs": [
        {
          "output_type": "execute_result",
          "data": {
            "text/plain": [
              "0.6666666666666666"
            ]
          },
          "metadata": {
            "tags": []
          },
          "execution_count": 12
        }
      ]
    },
    {
      "cell_type": "markdown",
      "metadata": {
        "id": "_bcXw47j9Qzs"
      },
      "source": [
        "## Approach 2 : Use feature importance of DTs"
      ]
    },
    {
      "cell_type": "code",
      "metadata": {
        "colab": {
          "base_uri": "https://localhost:8080/"
        },
        "id": "IX_DAUZ39U2K",
        "outputId": "ef3c9873-5dff-4ec9-d122-18a90759a0e8"
      },
      "source": [
        "all_features = [f'sensor{i}' for i in range(10)]\n",
        "X, y = data.loc[:, all_features], data['class_label']\n",
        "\n",
        "print (X.shape, y.shape)"
      ],
      "execution_count": 37,
      "outputs": [
        {
          "output_type": "stream",
          "text": [
            "(400, 10) (400,)\n"
          ],
          "name": "stdout"
        }
      ]
    },
    {
      "cell_type": "code",
      "metadata": {
        "colab": {
          "base_uri": "https://localhost:8080/"
        },
        "id": "ZA7tZA3NBfNF",
        "outputId": "8417763d-3c03-48e0-ac27-e61e43ce655b"
      },
      "source": [
        "clf = DecisionTreeClassifier()\n",
        "clf.fit(X, y)"
      ],
      "execution_count": 38,
      "outputs": [
        {
          "output_type": "execute_result",
          "data": {
            "text/plain": [
              "DecisionTreeClassifier(ccp_alpha=0.0, class_weight=None, criterion='gini',\n",
              "                       max_depth=None, max_features=None, max_leaf_nodes=None,\n",
              "                       min_impurity_decrease=0.0, min_impurity_split=None,\n",
              "                       min_samples_leaf=1, min_samples_split=2,\n",
              "                       min_weight_fraction_leaf=0.0, presort='deprecated',\n",
              "                       random_state=None, splitter='best')"
            ]
          },
          "metadata": {
            "tags": []
          },
          "execution_count": 38
        }
      ]
    },
    {
      "cell_type": "code",
      "metadata": {
        "colab": {
          "base_uri": "https://localhost:8080/"
        },
        "id": "zY0uSN3MC3Qi",
        "outputId": "7d3e026f-048f-435b-fde9-6b229ec62d8d"
      },
      "source": [
        "clf.get_params()"
      ],
      "execution_count": 39,
      "outputs": [
        {
          "output_type": "execute_result",
          "data": {
            "text/plain": [
              "{'ccp_alpha': 0.0,\n",
              " 'class_weight': None,\n",
              " 'criterion': 'gini',\n",
              " 'max_depth': None,\n",
              " 'max_features': None,\n",
              " 'max_leaf_nodes': None,\n",
              " 'min_impurity_decrease': 0.0,\n",
              " 'min_impurity_split': None,\n",
              " 'min_samples_leaf': 1,\n",
              " 'min_samples_split': 2,\n",
              " 'min_weight_fraction_leaf': 0.0,\n",
              " 'presort': 'deprecated',\n",
              " 'random_state': None,\n",
              " 'splitter': 'best'}"
            ]
          },
          "metadata": {
            "tags": []
          },
          "execution_count": 39
        }
      ]
    },
    {
      "cell_type": "code",
      "metadata": {
        "id": "wvRNU2SMC95d"
      },
      "source": [
        "plt.figure(figsize=(20,20))  # set plot size (denoted in inches)\n",
        "\n",
        "plot_tree(clf, feature_names=list(X.columns), filled=True, proportion=True, fontsize=8);"
      ],
      "execution_count": null,
      "outputs": []
    },
    {
      "cell_type": "code",
      "metadata": {
        "colab": {
          "base_uri": "https://localhost:8080/"
        },
        "id": "NYygJQmeDEpq",
        "outputId": "9cb9efa0-51da-4b4d-8999-00ccf17d895c"
      },
      "source": [
        "y_pred = clf.predict(X)\n",
        "\n",
        "print (accuracy_score(y_true=y, y_pred=y_pred), f1_score(y_true=y, y_pred=y_pred))"
      ],
      "execution_count": 42,
      "outputs": [
        {
          "output_type": "stream",
          "text": [
            "1.0 1.0\n"
          ],
          "name": "stdout"
        }
      ]
    },
    {
      "cell_type": "code",
      "metadata": {
        "colab": {
          "base_uri": "https://localhost:8080/"
        },
        "id": "HFxNzFEHDXN0",
        "outputId": "80ec3d45-7010-498c-c99e-bf57ca4cc79f"
      },
      "source": [
        "clf.feature_importances_"
      ],
      "execution_count": 43,
      "outputs": [
        {
          "output_type": "execute_result",
          "data": {
            "text/plain": [
              "array([0.04797654, 0.0096791 , 0.        , 0.        , 0.00313982,\n",
              "       0.00666667, 0.33649648, 0.00833333, 0.58770807, 0.        ])"
            ]
          },
          "metadata": {
            "tags": []
          },
          "execution_count": 43
        }
      ]
    },
    {
      "cell_type": "code",
      "metadata": {
        "id": "7TtcAUNqDt9y"
      },
      "source": [
        "feature_importance_indices = np.argsort(-clf.feature_importances_)"
      ],
      "execution_count": 49,
      "outputs": []
    },
    {
      "cell_type": "code",
      "metadata": {
        "colab": {
          "base_uri": "https://localhost:8080/"
        },
        "id": "VrnTOWxlQOas",
        "outputId": "c864b81b-7c73-4e76-bd4b-0fe0793ba582"
      },
      "source": [
        "feature_rank_method2 = [all_features[idx] for idx in feature_importance_indices]\n",
        "\n",
        "feature_rank_method2"
      ],
      "execution_count": 50,
      "outputs": [
        {
          "output_type": "execute_result",
          "data": {
            "text/plain": [
              "['sensor8',\n",
              " 'sensor6',\n",
              " 'sensor0',\n",
              " 'sensor1',\n",
              " 'sensor7',\n",
              " 'sensor5',\n",
              " 'sensor4',\n",
              " 'sensor2',\n",
              " 'sensor3',\n",
              " 'sensor9']"
            ]
          },
          "metadata": {
            "tags": []
          },
          "execution_count": 50
        }
      ]
    },
    {
      "cell_type": "code",
      "metadata": {
        "colab": {
          "base_uri": "https://localhost:8080/"
        },
        "id": "LMtBJGCkQg2q",
        "outputId": "0f35e8b3-fb45-44f3-c622-3d98c46cd923"
      },
      "source": [
        "feature_rank_acc"
      ],
      "execution_count": 51,
      "outputs": [
        {
          "output_type": "execute_result",
          "data": {
            "text/plain": [
              "['sensor6',\n",
              " 'sensor1',\n",
              " 'sensor8',\n",
              " 'sensor2',\n",
              " 'sensor4',\n",
              " 'sensor5',\n",
              " 'sensor0',\n",
              " 'sensor7',\n",
              " 'sensor9',\n",
              " 'sensor3']"
            ]
          },
          "metadata": {
            "tags": []
          },
          "execution_count": 51
        }
      ]
    },
    {
      "cell_type": "markdown",
      "metadata": {
        "id": "A9QkKBbBRCD2"
      },
      "source": [
        "We do not really need to consider a test set here as the ML model is not to be deployed\n",
        "\n",
        "We are just using it to rank features"
      ]
    },
    {
      "cell_type": "code",
      "metadata": {
        "colab": {
          "base_uri": "https://localhost:8080/"
        },
        "id": "zhueDjNTQqQt",
        "outputId": "028a4c65-82c4-49f1-a330-565c69c15f1b"
      },
      "source": [
        "clf.get_depth()"
      ],
      "execution_count": 54,
      "outputs": [
        {
          "output_type": "execute_result",
          "data": {
            "text/plain": [
              "6"
            ]
          },
          "metadata": {
            "tags": []
          },
          "execution_count": 54
        }
      ]
    },
    {
      "cell_type": "code",
      "metadata": {
        "id": "x_Wgehe4RKoj"
      },
      "source": [
        ""
      ],
      "execution_count": null,
      "outputs": []
    }
  ]
}