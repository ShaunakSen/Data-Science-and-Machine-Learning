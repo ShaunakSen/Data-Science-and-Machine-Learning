{
  "nbformat": 4,
  "nbformat_minor": 0,
  "metadata": {
    "colab": {
      "name": "Grokking ML.ipynb",
      "provenance": [],
      "collapsed_sections": [],
      "authorship_tag": "ABX9TyN0GsA/k+rdOtctpbS52Kdq",
      "include_colab_link": true
    },
    "kernelspec": {
      "name": "python3",
      "display_name": "Python 3"
    }
  },
  "cells": [
    {
      "cell_type": "markdown",
      "metadata": {
        "id": "view-in-github",
        "colab_type": "text"
      },
      "source": [
        "<a href=\"https://colab.research.google.com/github/ShaunakSen/Data-Science-and-Machine-Learning/blob/master/Grokking_ML.ipynb\" target=\"_parent\"><img src=\"https://colab.research.google.com/assets/colab-badge.svg\" alt=\"Open In Colab\"/></a>"
      ]
    },
    {
      "cell_type": "markdown",
      "metadata": {
        "id": "ELwT41IVwTIz"
      },
      "source": [
        "## Grokking ML interview\n",
        "\n",
        "> Based on the course by edicative.io: https://www.educative.io/courses/grokking-the-machine-learning-interview/\n",
        "\n",
        "---\n",
        "\n",
        "### What to expect in a machine learning interview?\n",
        "\n",
        "Companies hiring for machine learning roles conduct interviews to assess individual abilities in various areas. You can expect the following topics to be covered in these interviews:\n",
        "\n",
        "![](https://i.imgur.com/l1oW0M1.png)\n",
        "\n",
        "**Problem-solving/coding**\n",
        "\n",
        "This portion of the interview is fairly similar to other software engineering coding interviews where the interviewer gives a coding problem, such as perform an ‘In-order tree traversal’, and the candidate is expected to solve that in about half an hour. There is ample content available on how to best prepare for such questions.\n",
        "\n",
        "**Machine learning understanding**\n",
        "\n",
        "This area generally focuses on individual understanding of basic ML concepts such as supervised vs. unsupervised learning, reinforcement learning, classification vs. regression, deep learning, optimization functions, and the learning process of various ML algorithms. There are many courses and books that go over these fundamental concepts. They facilitate the learning of ML basics and help candidates prepare for the interview.\n",
        "\n",
        "**Career Discussions**\n",
        "\n",
        "Career discussion tends to focus on an individual’s resume (previous projects) and behavioral aspects, such as the ability to work in teams (conflict resolution) and career motivation. Understanding the path you want to take in your career and having the ability to discuss previous experiences and projects is required for this portion.\n",
        "\n",
        "**Machine learning system design discussion**\n",
        "\n",
        "This discussion focuses on the interviewee’s ability to solve an __end-to-end__ machine learning problem and consists of open-ended questions. This is an integral part of the interview, and not much helping material is available for it. Hence, this course helps in developing the thought pattern required to approach ML system design questions.\n",
        "\n",
        "In the ML system design interview portion, candidates are given open-ended machine learning problems and are expected to build an end-to-end machine learning system to solve that problem. Few of such problems could be:\n",
        "\n",
        "- Build a recommendation system that shows relevant products to users.\n",
        "- Build a visual understanding system for a self-driving car.\n",
        "- Build a search-ranking system.\n",
        "\n",
        "![](https://i.imgur.com/XEboyvw.png)\n",
        "\n"
      ]
    },
    {
      "cell_type": "markdown",
      "metadata": {
        "id": "4zahtZXI1p-l"
      },
      "source": [
        "### Setting up a Machine Learning System\n",
        "\n",
        "For instance, you may be asked to design a search engine that displays the most relevant results in response to user queries. You could narrow down the problem’s scope by asking the following questions:\n",
        "\n",
        "- Is it a general search engine like Google or Bing or a specialized search engine like Amazon’s products search?\n",
        "\n",
        "- What kind of queries is it expected to answer?\n",
        "\n",
        "This will allow you to precisely define your ML problem statement as follows:\n",
        "\n",
        "> Build a generic search engine that returns relevant results for queries like \"Richard Nixon\", \"Programming languages\" etc.\n",
        "\n",
        "Or, you may be asked to build a system to display a Twitter feed for a user. In this case, you can discuss how the feed is currently displayed and how it can be improved to provide a better experience for the users.\n",
        "\n",
        "After inspecting the problem from all aspects, you can easily narrow it down to a precise machine learning problem statement as follows:\n",
        "\n",
        "> \"Given a list of tweets, train an ML model that predicts the probability of engagement of tweets and orders them based on that score.\"\n",
        "\n",
        "NOTE: Some problems may require you to think about hardware components that could provide input for the machine learning models.\n",
        "\n",
        "**Understanding scale and latency requirements**\n",
        "\n",
        "Another very important part of the problem setup is the discussion about performance and capacity considerations of the system. This conversation will allow you to clearly understand the scale of the system and its requirements.\n",
        "\n",
        "Let’s look at some examples of the questions you need to ask.\n",
        "\n",
        "**Latency requirements**\n",
        "\n",
        "If you were given the search engine problem, you would ask:\n",
        "\n",
        "    Do we want to return the search result in 100 milliseconds or 500 milliseconds?\n",
        "\n",
        "Similarly, if you were given the Twitter feed problem, you would ask:\n",
        "\n",
        "    Do we want to return the list of relevant tweets in 300 milliseconds or 400 milliseconds?\n",
        "\n",
        "**Scale of the data**\n",
        "\n",
        "Again, for the search engine problem, you would ask:\n",
        "\n",
        "    How many requests per second do we anticipate to handle?\n",
        "\n",
        "\n",
        "    How many websites exist that we want to enable through this search engine?\n",
        "\n",
        "    If a query has 10 billion matching documents, how many of these would be ranked by our model?\n",
        "\n",
        "And, for the Twitter feed problem, you would ask:\n",
        "\n",
        "    How many tweets would we have to rank according to relevance for a user at a time?\n",
        "\n",
        "\n",
        "The answers to these questions will guide you when you come up with the architecture of the system. **Knowing that you need to return results quickly will influence the depth and complexity of your models. Having huge amounts of data to process, you will design the system with scalability in mind. Find more on this in the architecture discussion section.**\n",
        "\n",
        "**Defining metrics**\n",
        "\n",
        "Now that you have figured out what machine learning problem you want to solve, the next step is to come up with metrics. Metrics will help you to see if your system is performing well.\n",
        "\n",
        "Knowing our success criteria helps in understanding the problem and in selecting key architectural components. __This is why it’s important to discuss metrics early in our design discussions.__\n",
        "\n",
        "**Metrics for offline testing**\n",
        "\n",
        "You will use offline metrics to quickly test the models’ performance during the development phase. You may have generic metrics; for example, if you are performing binary classification, you will use AUC, log loss, precision, recall, and F1-score. In other cases, you might have to come up with specific metrics for a certain problem. For instance, for the search ranking problem, you would use __NDCG__ as a metric.\n",
        "\n",
        "\n",
        "\n"
      ]
    },
    {
      "cell_type": "code",
      "metadata": {
        "id": "oPqb_fkSwPlU"
      },
      "source": [
        ""
      ],
      "execution_count": null,
      "outputs": []
    }
  ]
}