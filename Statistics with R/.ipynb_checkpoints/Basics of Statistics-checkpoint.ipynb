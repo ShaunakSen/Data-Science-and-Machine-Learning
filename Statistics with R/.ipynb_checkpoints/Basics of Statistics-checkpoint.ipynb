{
 "cells": [
  {
   "cell_type": "markdown",
   "metadata": {},
   "source": [
    "### StatQuest - Basics of Statistics\n",
    "\n",
    "[Playlist link](https://www.youtube.com/watch?v=oI3hZJqXJuc&list=PLblh5JKOoLUK0FLuzwntyYI10UQFUhsY9)\n",
    "\n",
    "[GitHub link]()\n",
    "\n",
    "---\n",
    "\n",
    "\n",
    "#### What is a statistical distribution?\n",
    "\n",
    "Imagine we measure heights of a bunch of people\n",
    "\n",
    "We get a histogram :\n",
    "\n",
    "Something like this\n",
    "\n",
    "![](./data/img/diag1.png)\n",
    "\n",
    "1. Most people are bw 5 and 6 feet tall\n",
    "\n",
    "2. People smaller than 5ft or >6ft are rare\n",
    "\n",
    "There is high prob that a random guy will be bw 5 to 6 ft\n",
    "\n",
    "![](./data/img/diag2.png)\n",
    "\n",
    "\n",
    "By measuring more people and using smaller bins we get more accurate and more precise estimate as to how hts are distributed\n",
    "\n",
    "But if we make bin sizes too small, each measurement almost will get its own bin, so it wont be useful anymore\n",
    "\n",
    "We can use a curve to approx the hist\n",
    "\n",
    "![](./data/img/diag3.png)\n",
    "\n",
    "\n",
    "But this curve has a few adv over histogram:\n",
    "\n",
    "Even though for a particular bin we dont have a measurement, we can use the curve to calculate prob \n",
    "\n",
    "![](./data/img/diag4.png)\n",
    "\n",
    "Another adv is that the curve is not limited by the width of the bins\n",
    "\n",
    "![](./data/img/diag5.png)\n",
    "\n",
    "![](./data/img/diag6.png)\n",
    "\n",
    "\n",
    "Both hist and the curve are distributions as they show us how the probs of measurements are distributed\n",
    "\n"
   ]
  }
 ],
 "metadata": {
  "kernelspec": {
   "display_name": "R",
   "language": "R",
   "name": "ir"
  },
  "language_info": {
   "codemirror_mode": "r",
   "file_extension": ".r",
   "mimetype": "text/x-r-source",
   "name": "R",
   "pygments_lexer": "r",
   "version": "3.4.3"
  }
 },
 "nbformat": 4,
 "nbformat_minor": 2
}
